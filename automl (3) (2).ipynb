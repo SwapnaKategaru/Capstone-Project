{
  "cells": [
    {
      "cell_type": "markdown",
      "source": [
        "# Automated ML\n",
        "\n",
        "TODO: Import Dependencies. In the cell below, import all the dependencies that you will need to complete the project."
      ],
      "metadata": {}
    },
    {
      "cell_type": "code",
      "source": [
        "pip install azureml-train-automl-runtime==1.22.0"
      ],
      "outputs": [
        {
          "output_type": "stream",
          "name": "stdout",
          "text": [
            "Requirement already satisfied: azureml-train-automl-runtime==1.22.0 in /anaconda/envs/azureml_py36/lib/python3.6/site-packages (1.22.0)\n",
            "Requirement already satisfied: jinja2<=2.11.2 in /anaconda/envs/azureml_py36/lib/python3.6/site-packages (from azureml-train-automl-runtime==1.22.0) (2.11.2)\n",
            "Requirement already satisfied: botocore<=1.18.18 in /anaconda/envs/azureml_py36/lib/python3.6/site-packages (from azureml-train-automl-runtime==1.22.0) (1.18.18)\n",
            "Requirement already satisfied: azureml-automl-runtime~=1.22.0 in /anaconda/envs/azureml_py36/lib/python3.6/site-packages (from azureml-train-automl-runtime==1.22.0) (1.22.0)\n",
            "Requirement already satisfied: onnx<=1.7.0,>=1.5.0 in /anaconda/envs/azureml_py36/lib/python3.6/site-packages (from azureml-train-automl-runtime==1.22.0) (1.7.0)\n",
            "Requirement already satisfied: azureml-train-automl-client~=1.22.0 in /anaconda/envs/azureml_py36/lib/python3.6/site-packages (from azureml-train-automl-runtime==1.22.0) (1.22.0)\n",
            "Requirement already satisfied: scipy<=1.5.2,>=1.0.0 in /anaconda/envs/azureml_py36/lib/python3.6/site-packages (from azureml-train-automl-runtime==1.22.0) (1.5.2)\n",
            "Requirement already satisfied: keras2onnx<=1.6.0,>=1.4.0 in /anaconda/envs/azureml_py36/lib/python3.6/site-packages (from azureml-train-automl-runtime==1.22.0) (1.6.0)\n",
            "Requirement already satisfied: numpy<1.19.0,>=1.16.0 in /anaconda/envs/azureml_py36/lib/python3.6/site-packages (from azureml-train-automl-runtime==1.22.0) (1.18.5)\n",
            "Requirement already satisfied: scikit-learn<0.23.0,>=0.19.0 in /anaconda/envs/azureml_py36/lib/python3.6/site-packages (from azureml-train-automl-runtime==1.22.0) (0.22.2.post1)\n",
            "Requirement already satisfied: onnxconverter-common<=1.6.0,>=1.4.2 in /anaconda/envs/azureml_py36/lib/python3.6/site-packages (from azureml-train-automl-runtime==1.22.0) (1.6.0)\n",
            "Requirement already satisfied: pandas<1.0.0,>=0.21.0 in /anaconda/envs/azureml_py36/lib/python3.6/site-packages (from azureml-train-automl-runtime==1.22.0) (0.25.3)\n",
            "Requirement already satisfied: azureml-dataset-runtime[fuse,pandas]~=1.22.0 in /anaconda/envs/azureml_py36/lib/python3.6/site-packages (from azureml-train-automl-runtime==1.22.0) (1.22.0)\n",
            "Requirement already satisfied: azure-storage-queue~=12.1 in /anaconda/envs/azureml_py36/lib/python3.6/site-packages (from azureml-train-automl-runtime==1.22.0) (12.1.5)\n",
            "Requirement already satisfied: smart-open<=1.9.0 in /anaconda/envs/azureml_py36/lib/python3.6/site-packages (from azureml-train-automl-runtime==1.22.0) (1.9.0)\n",
            "Requirement already satisfied: azureml-interpret~=1.22.0 in /anaconda/envs/azureml_py36/lib/python3.6/site-packages (from azureml-train-automl-runtime==1.22.0) (1.22.0)\n",
            "Requirement already satisfied: lightgbm<=2.3.0,>=2.0.11 in /anaconda/envs/azureml_py36/lib/python3.6/site-packages (from azureml-train-automl-runtime==1.22.0) (2.3.0)\n",
            "Requirement already satisfied: azureml-telemetry~=1.22.0 in /anaconda/envs/azureml_py36/lib/python3.6/site-packages (from azureml-train-automl-runtime==1.22.0) (1.22.0)\n",
            "Requirement already satisfied: sklearn-pandas<=1.7.0,>=1.4.0 in /anaconda/envs/azureml_py36/lib/python3.6/site-packages (from azureml-train-automl-runtime==1.22.0) (1.7.0)\n",
            "Requirement already satisfied: azureml-automl-core~=1.22.0 in /anaconda/envs/azureml_py36/lib/python3.6/site-packages (from azureml-train-automl-runtime==1.22.0) (1.22.0)\n",
            "Requirement already satisfied: onnxmltools==1.4.1 in /anaconda/envs/azureml_py36/lib/python3.6/site-packages (from azureml-train-automl-runtime==1.22.0) (1.4.1)\n",
            "Requirement already satisfied: gensim<3.9.0 in /anaconda/envs/azureml_py36/lib/python3.6/site-packages (from azureml-train-automl-runtime==1.22.0) (3.8.3)\n",
            "Requirement already satisfied: azureml-core~=1.22.0 in /anaconda/envs/azureml_py36/lib/python3.6/site-packages (from azureml-train-automl-runtime==1.22.0) (1.22.0)\n",
            "Requirement already satisfied: skl2onnx==1.4.9 in /anaconda/envs/azureml_py36/lib/python3.6/site-packages (from azureml-train-automl-runtime==1.22.0) (1.4.9)\n",
            "Requirement already satisfied: boto3<=1.15.18 in /anaconda/envs/azureml_py36/lib/python3.6/site-packages (from azureml-train-automl-runtime==1.22.0) (1.15.18)\n",
            "Requirement already satisfied: azureml-defaults~=1.22.0 in /anaconda/envs/azureml_py36/lib/python3.6/site-packages (from azureml-train-automl-runtime==1.22.0) (1.22.0)\n",
            "Requirement already satisfied: statsmodels<=0.10.2,>=0.9.0 in /anaconda/envs/azureml_py36/lib/python3.6/site-packages (from azureml-train-automl-runtime==1.22.0) (0.10.2)\n",
            "Requirement already satisfied: onnxruntime==1.3.0 in /anaconda/envs/azureml_py36/lib/python3.6/site-packages (from azureml-train-automl-runtime==1.22.0) (1.3.0)\n",
            "Requirement already satisfied: MarkupSafe>=0.23 in /anaconda/envs/azureml_py36/lib/python3.6/site-packages (from jinja2<=2.11.2->azureml-train-automl-runtime==1.22.0) (1.1.1)\n",
            "Requirement already satisfied: urllib3<1.26,>=1.20; python_version != \"3.4\" in /anaconda/envs/azureml_py36/lib/python3.6/site-packages (from botocore<=1.18.18->azureml-train-automl-runtime==1.22.0) (1.25.11)\n",
            "Requirement already satisfied: jmespath<1.0.0,>=0.7.1 in /anaconda/envs/azureml_py36/lib/python3.6/site-packages (from botocore<=1.18.18->azureml-train-automl-runtime==1.22.0) (0.10.0)\n",
            "Requirement already satisfied: python-dateutil<3.0.0,>=2.1 in /anaconda/envs/azureml_py36/lib/python3.6/site-packages (from botocore<=1.18.18->azureml-train-automl-runtime==1.22.0) (2.8.1)\n",
            "Requirement already satisfied: psutil<6.0.0,>=5.2.2 in /anaconda/envs/azureml_py36/lib/python3.6/site-packages (from azureml-automl-runtime~=1.22.0->azureml-train-automl-runtime==1.22.0) (5.8.0)\n",
            "Requirement already satisfied: pmdarima==1.1.1 in /anaconda/envs/azureml_py36/lib/python3.6/site-packages (from azureml-automl-runtime~=1.22.0->azureml-train-automl-runtime==1.22.0) (1.1.1)\n",
            "Requirement already satisfied: nimbusml<=1.8.0,>=1.7.1 in /anaconda/envs/azureml_py36/lib/python3.6/site-packages (from azureml-automl-runtime~=1.22.0->azureml-train-automl-runtime==1.22.0) (1.8.0)\n",
            "Requirement already satisfied: py-cpuinfo==5.0.0 in /anaconda/envs/azureml_py36/lib/python3.6/site-packages (from azureml-automl-runtime~=1.22.0->azureml-train-automl-runtime==1.22.0) (5.0.0)\n",
            "Requirement already satisfied: joblib==0.14.1 in /anaconda/envs/azureml_py36/lib/python3.6/site-packages (from azureml-automl-runtime~=1.22.0->azureml-train-automl-runtime==1.22.0) (0.14.1)\n",
            "Requirement already satisfied: dill<0.4.0,>=0.2.8 in /anaconda/envs/azureml_py36/lib/python3.6/site-packages (from azureml-automl-runtime~=1.22.0->azureml-train-automl-runtime==1.22.0) (0.3.3)\n",
            "Requirement already satisfied: six in /anaconda/envs/azureml_py36/lib/python3.6/site-packages (from onnx<=1.7.0,>=1.5.0->azureml-train-automl-runtime==1.22.0) (1.15.0)\n",
            "Requirement already satisfied: protobuf in /anaconda/envs/azureml_py36/lib/python3.6/site-packages (from onnx<=1.7.0,>=1.5.0->azureml-train-automl-runtime==1.22.0) (3.14.0)\n",
            "Requirement already satisfied: typing-extensions>=3.6.2.1 in /anaconda/envs/azureml_py36/lib/python3.6/site-packages (from onnx<=1.7.0,>=1.5.0->azureml-train-automl-runtime==1.22.0) (3.7.4.3)\n",
            "Requirement already satisfied: fire in /anaconda/envs/azureml_py36/lib/python3.6/site-packages (from keras2onnx<=1.6.0,>=1.4.0->azureml-train-automl-runtime==1.22.0) (0.4.0)\n",
            "Requirement already satisfied: requests in /anaconda/envs/azureml_py36/lib/python3.6/site-packages (from keras2onnx<=1.6.0,>=1.4.0->azureml-train-automl-runtime==1.22.0) (2.25.1)\n",
            "Requirement already satisfied: pytz>=2017.2 in /anaconda/envs/azureml_py36/lib/python3.6/site-packages (from pandas<1.0.0,>=0.21.0->azureml-train-automl-runtime==1.22.0) (2021.1)\n",
            "Requirement already satisfied: pyarrow<2.0.0,>=0.17.0 in /anaconda/envs/azureml_py36/lib/python3.6/site-packages (from azureml-dataset-runtime[fuse,pandas]~=1.22.0->azureml-train-automl-runtime==1.22.0) (1.0.1)\n",
            "Requirement already satisfied: azureml-dataprep<2.10.0a,>=2.9.0a in /anaconda/envs/azureml_py36/lib/python3.6/site-packages (from azureml-dataset-runtime[fuse,pandas]~=1.22.0->azureml-train-automl-runtime==1.22.0) (2.9.1)\n",
            "Requirement already satisfied: fusepy<4.0.0,>=3.0.1; extra == \"fuse\" in /anaconda/envs/azureml_py36/lib/python3.6/site-packages (from azureml-dataset-runtime[fuse,pandas]~=1.22.0->azureml-train-automl-runtime==1.22.0) (3.0.1)\n",
            "Requirement already satisfied: cryptography>=2.1.4 in /anaconda/envs/azureml_py36/lib/python3.6/site-packages (from azure-storage-queue~=12.1->azureml-train-automl-runtime==1.22.0) (3.3.1)\n",
            "Requirement already satisfied: azure-core<2.0.0,>=1.10.0 in /anaconda/envs/azureml_py36/lib/python3.6/site-packages (from azure-storage-queue~=12.1->azureml-train-automl-runtime==1.22.0) (1.10.0)\n",
            "Requirement already satisfied: msrest>=0.6.10 in /anaconda/envs/azureml_py36/lib/python3.6/site-packages (from azure-storage-queue~=12.1->azureml-train-automl-runtime==1.22.0) (0.6.21)\n",
            "Requirement already satisfied: boto>=2.32 in /anaconda/envs/azureml_py36/lib/python3.6/site-packages (from smart-open<=1.9.0->azureml-train-automl-runtime==1.22.0) (2.49.0)\n",
            "Requirement already satisfied: interpret-community==0.16.* in /anaconda/envs/azureml_py36/lib/python3.6/site-packages (from azureml-interpret~=1.22.0->azureml-train-automl-runtime==1.22.0) (0.16.0)\n",
            "Requirement already satisfied: applicationinsights in /anaconda/envs/azureml_py36/lib/python3.6/site-packages (from azureml-telemetry~=1.22.0->azureml-train-automl-runtime==1.22.0) (0.11.9)\n",
            "Requirement already satisfied: PyJWT<3.0.0 in /anaconda/envs/azureml_py36/lib/python3.6/site-packages (from azureml-core~=1.22.0->azureml-train-automl-runtime==1.22.0) (1.7.1)\n",
            "Requirement already satisfied: azure-mgmt-containerregistry>=2.0.0 in /anaconda/envs/azureml_py36/lib/python3.6/site-packages (from azureml-core~=1.22.0->azureml-train-automl-runtime==1.22.0) (2.8.0)\n",
            "Requirement already satisfied: pyopenssl<21.0.0 in /anaconda/envs/azureml_py36/lib/python3.6/site-packages (from azureml-core~=1.22.0->azureml-train-automl-runtime==1.22.0) (20.0.1)\n",
            "Requirement already satisfied: jsonpickle in /anaconda/envs/azureml_py36/lib/python3.6/site-packages (from azureml-core~=1.22.0->azureml-train-automl-runtime==1.22.0) (1.5.1)\n",
            "Requirement already satisfied: azure-mgmt-authorization<1.0.0,>=0.40.0 in /anaconda/envs/azureml_py36/lib/python3.6/site-packages (from azureml-core~=1.22.0->azureml-train-automl-runtime==1.22.0) (0.61.0)\n",
            "Requirement already satisfied: docker in /anaconda/envs/azureml_py36/lib/python3.6/site-packages (from azureml-core~=1.22.0->azureml-train-automl-runtime==1.22.0) (4.4.1)\n",
            "Requirement already satisfied: azure-common>=1.1.12 in /anaconda/envs/azureml_py36/lib/python3.6/site-packages (from azureml-core~=1.22.0->azureml-train-automl-runtime==1.22.0) (1.1.26)\n",
            "Requirement already satisfied: ruamel.yaml>=0.15.35 in /anaconda/envs/azureml_py36/lib/python3.6/site-packages (from azureml-core~=1.22.0->azureml-train-automl-runtime==1.22.0) (0.16.12)\n",
            "Requirement already satisfied: backports.tempfile in /anaconda/envs/azureml_py36/lib/python3.6/site-packages (from azureml-core~=1.22.0->azureml-train-automl-runtime==1.22.0) (1.0)\n",
            "Requirement already satisfied: SecretStorage in /anaconda/envs/azureml_py36/lib/python3.6/site-packages (from azureml-core~=1.22.0->azureml-train-automl-runtime==1.22.0) (3.3.0)\n",
            "Requirement already satisfied: msrestazure>=0.4.33 in /anaconda/envs/azureml_py36/lib/python3.6/site-packages (from azureml-core~=1.22.0->azureml-train-automl-runtime==1.22.0) (0.6.4)\n",
            "Requirement already satisfied: pathspec in /anaconda/envs/azureml_py36/lib/python3.6/site-packages (from azureml-core~=1.22.0->azureml-train-automl-runtime==1.22.0) (0.8.1)\n",
            "Requirement already satisfied: azure-mgmt-keyvault<7.0.0,>=0.40.0 in /anaconda/envs/azureml_py36/lib/python3.6/site-packages (from azureml-core~=1.22.0->azureml-train-automl-runtime==1.22.0) (2.2.0)\n",
            "Requirement already satisfied: azure-mgmt-resource<15.0.0,>=1.2.1 in /anaconda/envs/azureml_py36/lib/python3.6/site-packages (from azureml-core~=1.22.0->azureml-train-automl-runtime==1.22.0) (12.0.0)\n",
            "Requirement already satisfied: azure-mgmt-storage<16.0.0,>=1.5.0 in /anaconda/envs/azureml_py36/lib/python3.6/site-packages (from azureml-core~=1.22.0->azureml-train-automl-runtime==1.22.0) (11.2.0)\n",
            "Requirement already satisfied: contextlib2 in /anaconda/envs/azureml_py36/lib/python3.6/site-packages (from azureml-core~=1.22.0->azureml-train-automl-runtime==1.22.0) (0.6.0.post1)\n",
            "Requirement already satisfied: adal>=1.2.0 in /anaconda/envs/azureml_py36/lib/python3.6/site-packages (from azureml-core~=1.22.0->azureml-train-automl-runtime==1.22.0) (1.2.6)\n",
            "Requirement already satisfied: azure-graphrbac<1.0.0,>=0.40.0 in /anaconda/envs/azureml_py36/lib/python3.6/site-packages (from azureml-core~=1.22.0->azureml-train-automl-runtime==1.22.0) (0.61.1)\n",
            "Requirement already satisfied: ndg-httpsclient in /anaconda/envs/azureml_py36/lib/python3.6/site-packages (from azureml-core~=1.22.0->azureml-train-automl-runtime==1.22.0) (0.5.1)\n",
            "Requirement already satisfied: s3transfer<0.4.0,>=0.3.0 in /anaconda/envs/azureml_py36/lib/python3.6/site-packages (from boto3<=1.15.18->azureml-train-automl-runtime==1.22.0) (0.3.4)\n",
            "Requirement already satisfied: azureml-model-management-sdk==1.0.1b6.post1 in /anaconda/envs/azureml_py36/lib/python3.6/site-packages (from azureml-defaults~=1.22.0->azureml-train-automl-runtime==1.22.0) (1.0.1b6.post1)\n",
            "Requirement already satisfied: configparser==3.7.4 in /anaconda/envs/azureml_py36/lib/python3.6/site-packages (from azureml-defaults~=1.22.0->azureml-train-automl-runtime==1.22.0) (3.7.4)\n",
            "Requirement already satisfied: json-logging-py==0.2 in /anaconda/envs/azureml_py36/lib/python3.6/site-packages (from azureml-defaults~=1.22.0->azureml-train-automl-runtime==1.22.0) (0.2)\n",
            "Requirement already satisfied: flask==1.0.3 in /anaconda/envs/azureml_py36/lib/python3.6/site-packages (from azureml-defaults~=1.22.0->azureml-train-automl-runtime==1.22.0) (1.0.3)\n",
            "Requirement already satisfied: werkzeug<=1.0.1,>=0.16.1 in /anaconda/envs/azureml_py36/lib/python3.6/site-packages (from azureml-defaults~=1.22.0->azureml-train-automl-runtime==1.22.0) (1.0.1)\n",
            "Requirement already satisfied: gunicorn==19.9.0 in /anaconda/envs/azureml_py36/lib/python3.6/site-packages (from azureml-defaults~=1.22.0->azureml-train-automl-runtime==1.22.0) (19.9.0)\n",
            "Requirement already satisfied: patsy>=0.4.0 in /anaconda/envs/azureml_py36/lib/python3.6/site-packages (from statsmodels<=0.10.2,>=0.9.0->azureml-train-automl-runtime==1.22.0) (0.5.1)\n",
            "Requirement already satisfied: Cython>=0.29 in /anaconda/envs/azureml_py36/lib/python3.6/site-packages (from pmdarima==1.1.1->azureml-automl-runtime~=1.22.0->azureml-train-automl-runtime==1.22.0) (0.29.21)\n",
            "Requirement already satisfied: dotnetcore2>=2.1.2 in /anaconda/envs/azureml_py36/lib/python3.6/site-packages (from nimbusml<=1.8.0,>=1.7.1->azureml-automl-runtime~=1.22.0->azureml-train-automl-runtime==1.22.0) (2.1.20)\n",
            "Requirement already satisfied: termcolor in /anaconda/envs/azureml_py36/lib/python3.6/site-packages (from fire->keras2onnx<=1.6.0,>=1.4.0->azureml-train-automl-runtime==1.22.0) (1.1.0)\n",
            "Requirement already satisfied: certifi>=2017.4.17 in /anaconda/envs/azureml_py36/lib/python3.6/site-packages (from requests->keras2onnx<=1.6.0,>=1.4.0->azureml-train-automl-runtime==1.22.0) (2020.12.5)\n",
            "Requirement already satisfied: idna<3,>=2.5 in /anaconda/envs/azureml_py36/lib/python3.6/site-packages (from requests->keras2onnx<=1.6.0,>=1.4.0->azureml-train-automl-runtime==1.22.0) (2.10)\n",
            "Requirement already satisfied: chardet<5,>=3.0.2 in /anaconda/envs/azureml_py36/lib/python3.6/site-packages (from requests->keras2onnx<=1.6.0,>=1.4.0->azureml-train-automl-runtime==1.22.0) (4.0.0)\n",
            "Requirement already satisfied: cloudpickle<2.0.0,>=1.1.0 in /anaconda/envs/azureml_py36/lib/python3.6/site-packages (from azureml-dataprep<2.10.0a,>=2.9.0a->azureml-dataset-runtime[fuse,pandas]~=1.22.0->azureml-train-automl-runtime==1.22.0) (1.6.0)\n",
            "Requirement already satisfied: azureml-dataprep-native<30.0.0,>=29.0.0 in /anaconda/envs/azureml_py36/lib/python3.6/site-packages (from azureml-dataprep<2.10.0a,>=2.9.0a->azureml-dataset-runtime[fuse,pandas]~=1.22.0->azureml-train-automl-runtime==1.22.0) (29.0.0)\n",
            "Requirement already satisfied: azure-identity<1.5.0,>=1.2.0 in /anaconda/envs/azureml_py36/lib/python3.6/site-packages (from azureml-dataprep<2.10.0a,>=2.9.0a->azureml-dataset-runtime[fuse,pandas]~=1.22.0->azureml-train-automl-runtime==1.22.0) (1.4.1)\n",
            "Requirement already satisfied: azureml-dataprep-rslex<1.8.0a,>=1.7.0dev0 in /anaconda/envs/azureml_py36/lib/python3.6/site-packages (from azureml-dataprep<2.10.0a,>=2.9.0a->azureml-dataset-runtime[fuse,pandas]~=1.22.0->azureml-train-automl-runtime==1.22.0) (1.7.0)\n",
            "Requirement already satisfied: cffi>=1.12 in /anaconda/envs/azureml_py36/lib/python3.6/site-packages (from cryptography>=2.1.4->azure-storage-queue~=12.1->azureml-train-automl-runtime==1.22.0) (1.14.4)\n",
            "Requirement already satisfied: isodate>=0.6.0 in /anaconda/envs/azureml_py36/lib/python3.6/site-packages (from msrest>=0.6.10->azure-storage-queue~=12.1->azureml-train-automl-runtime==1.22.0) (0.6.0)\n",
            "Requirement already satisfied: requests-oauthlib>=0.5.0 in /anaconda/envs/azureml_py36/lib/python3.6/site-packages (from msrest>=0.6.10->azure-storage-queue~=12.1->azureml-train-automl-runtime==1.22.0) (1.3.0)\n",
            "Requirement already satisfied: interpret-core[required]<=0.2.1,>=0.1.20 in /anaconda/envs/azureml_py36/lib/python3.6/site-packages (from interpret-community==0.16.*->azureml-interpret~=1.22.0->azureml-train-automl-runtime==1.22.0) (0.2.1)\n",
            "Requirement already satisfied: packaging in /anaconda/envs/azureml_py36/lib/python3.6/site-packages (from interpret-community==0.16.*->azureml-interpret~=1.22.0->azureml-train-automl-runtime==1.22.0) (20.9)\n",
            "Requirement already satisfied: shap<=0.34.0,>=0.20.0 in /anaconda/envs/azureml_py36/lib/python3.6/site-packages (from interpret-community==0.16.*->azureml-interpret~=1.22.0->azureml-train-automl-runtime==1.22.0) (0.34.0)\n",
            "Requirement already satisfied: importlib-metadata; python_version < \"3.8\" in /anaconda/envs/azureml_py36/lib/python3.6/site-packages (from jsonpickle->azureml-core~=1.22.0->azureml-train-automl-runtime==1.22.0) (3.4.0)\n",
            "Requirement already satisfied: websocket-client>=0.32.0 in /anaconda/envs/azureml_py36/lib/python3.6/site-packages (from docker->azureml-core~=1.22.0->azureml-train-automl-runtime==1.22.0) (0.57.0)\n",
            "Requirement already satisfied: ruamel.yaml.clib>=0.1.2; platform_python_implementation == \"CPython\" and python_version < \"3.9\" in /anaconda/envs/azureml_py36/lib/python3.6/site-packages (from ruamel.yaml>=0.15.35->azureml-core~=1.22.0->azureml-train-automl-runtime==1.22.0) (0.2.2)\n",
            "Requirement already satisfied: backports.weakref in /anaconda/envs/azureml_py36/lib/python3.6/site-packages (from backports.tempfile->azureml-core~=1.22.0->azureml-train-automl-runtime==1.22.0) (1.0.post1)\n",
            "Requirement already satisfied: jeepney>=0.6 in /anaconda/envs/azureml_py36/lib/python3.6/site-packages (from SecretStorage->azureml-core~=1.22.0->azureml-train-automl-runtime==1.22.0) (0.6.0)\n",
            "Requirement already satisfied: pyasn1>=0.1.1 in /anaconda/envs/azureml_py36/lib/python3.6/site-packages (from ndg-httpsclient->azureml-core~=1.22.0->azureml-train-automl-runtime==1.22.0) (0.4.8)\n",
            "Requirement already satisfied: liac-arff>=2.1.1 in /anaconda/envs/azureml_py36/lib/python3.6/site-packages (from azureml-model-management-sdk==1.0.1b6.post1->azureml-defaults~=1.22.0->azureml-train-automl-runtime==1.22.0) (2.5.0)\n",
            "Requirement already satisfied: itsdangerous>=0.24 in /anaconda/envs/azureml_py36/lib/python3.6/site-packages (from flask==1.0.3->azureml-defaults~=1.22.0->azureml-train-automl-runtime==1.22.0) (1.1.0)\n",
            "Requirement already satisfied: click>=5.1 in /anaconda/envs/azureml_py36/lib/python3.6/site-packages (from flask==1.0.3->azureml-defaults~=1.22.0->azureml-train-automl-runtime==1.22.0) (7.1.2)\n",
            "Requirement already satisfied: distro>=1.2.0 in /anaconda/envs/azureml_py36/lib/python3.6/site-packages (from dotnetcore2>=2.1.2->nimbusml<=1.8.0,>=1.7.1->azureml-automl-runtime~=1.22.0->azureml-train-automl-runtime==1.22.0) (1.5.0)\n",
            "Requirement already satisfied: msal-extensions~=0.2.2 in /anaconda/envs/azureml_py36/lib/python3.6/site-packages (from azure-identity<1.5.0,>=1.2.0->azureml-dataprep<2.10.0a,>=2.9.0a->azureml-dataset-runtime[fuse,pandas]~=1.22.0->azureml-train-automl-runtime==1.22.0) (0.2.2)\n",
            "Requirement already satisfied: msal<2.0.0,>=1.3.0 in /anaconda/envs/azureml_py36/lib/python3.6/site-packages (from azure-identity<1.5.0,>=1.2.0->azureml-dataprep<2.10.0a,>=2.9.0a->azureml-dataset-runtime[fuse,pandas]~=1.22.0->azureml-train-automl-runtime==1.22.0) (1.8.0)\n",
            "Requirement already satisfied: pycparser in /anaconda/envs/azureml_py36/lib/python3.6/site-packages (from cffi>=1.12->cryptography>=2.1.4->azure-storage-queue~=12.1->azureml-train-automl-runtime==1.22.0) (2.20)\n",
            "Requirement already satisfied: oauthlib>=3.0.0 in /anaconda/envs/azureml_py36/lib/python3.6/site-packages (from requests-oauthlib>=0.5.0->msrest>=0.6.10->azure-storage-queue~=12.1->azureml-train-automl-runtime==1.22.0) (3.1.0)\n",
            "Requirement already satisfied: pyparsing>=2.0.2 in /anaconda/envs/azureml_py36/lib/python3.6/site-packages (from packaging->interpret-community==0.16.*->azureml-interpret~=1.22.0->azureml-train-automl-runtime==1.22.0) (2.4.7)\n",
            "Requirement already satisfied: tqdm>4.25.0 in /anaconda/envs/azureml_py36/lib/python3.6/site-packages (from shap<=0.34.0,>=0.20.0->interpret-community==0.16.*->azureml-interpret~=1.22.0->azureml-train-automl-runtime==1.22.0) (4.56.0)\n",
            "Requirement already satisfied: zipp>=0.5 in /anaconda/envs/azureml_py36/lib/python3.6/site-packages (from importlib-metadata; python_version < \"3.8\"->jsonpickle->azureml-core~=1.22.0->azureml-train-automl-runtime==1.22.0) (3.4.0)\n",
            "Requirement already satisfied: portalocker~=1.0; platform_system != \"Windows\" in /anaconda/envs/azureml_py36/lib/python3.6/site-packages (from msal-extensions~=0.2.2->azure-identity<1.5.0,>=1.2.0->azureml-dataprep<2.10.0a,>=2.9.0a->azureml-dataset-runtime[fuse,pandas]~=1.22.0->azureml-train-automl-runtime==1.22.0) (1.7.1)\n",
            "Note: you may need to restart the kernel to use updated packages.\n"
          ]
        }
      ],
      "execution_count": 1,
      "metadata": {
        "collapsed": true,
        "jupyter": {
          "source_hidden": false,
          "outputs_hidden": false
        },
        "nteract": {
          "transient": {
            "deleting": false
          }
        },
        "gather": {
          "logged": 1614830105944
        }
      }
    },
    {
      "cell_type": "code",
      "source": [
        "from azureml.core import Workspace, Experiment"
      ],
      "outputs": [],
      "execution_count": 2,
      "metadata": {
        "gather": {
          "logged": 1614830110000
        },
        "jupyter": {
          "outputs_hidden": false,
          "source_hidden": false
        },
        "nteract": {
          "transient": {
            "deleting": false
          }
        }
      }
    },
    {
      "cell_type": "markdown",
      "source": [
        "## Dataset\n",
        "\n",
        "### Overview\n",
        "TODO: In this markdown cell, give an overview of the dataset you are using. Also mention the task you will be performing.\n",
        "\n",
        "\n",
        "TODO: Get data. In the cell below, write code to access the data you will be using in this project. Remember that the dataset needs to be external."
      ],
      "metadata": {}
    },
    {
      "cell_type": "code",
      "source": [
        "ws = Workspace.from_config()\n",
        "\n",
        "# choose a name for experiment\n",
        "experiment_name = 'auto-ml'\n",
        "\n",
        "experiment=Experiment(ws, experiment_name)\n"
      ],
      "outputs": [
        {
          "output_type": "stream",
          "name": "stdout",
          "text": [
            "Performing interactive authentication. Please follow the instructions on the terminal.\n",
            "To sign in, use a web browser to open the page https://microsoft.com/devicelogin and enter the code ED5C9CL5P to authenticate.\n",
            "You have logged in. Now let us find all the subscriptions to which you have access...\n",
            "Interactive authentication successfully completed.\n"
          ]
        }
      ],
      "execution_count": 3,
      "metadata": {
        "gather": {
          "logged": 1614830160171
        },
        "jupyter": {
          "outputs_hidden": false,
          "source_hidden": false
        },
        "nteract": {
          "transient": {
            "deleting": false
          }
        }
      }
    },
    {
      "cell_type": "code",
      "source": [
        "from azureml.core.compute import ComputeTarget, AmlCompute\r\n",
        "from azureml.core.compute_target import ComputeTargetException\r\n",
        "\r\n",
        "# Choose a name for your CPU cluster\r\n",
        "cpu_cluster_name = \"cpu-cluster-4\"\r\n",
        "\r\n",
        "# Verify that cluster does not exist already\r\n",
        "try:\r\n",
        "    compute_target = ComputeTarget(workspace=ws, name=cpu_cluster_name)\r\n",
        "    print('Found existing cluster, use it.')\r\n",
        "except ComputeTargetException:\r\n",
        "    compute_config = AmlCompute.provisioning_configuration(vm_size='STANDARD_D2_V2',\r\n",
        "                                                           max_nodes=6)\r\n",
        "    compute_target = ComputeTarget.create(ws, cpu_cluster_name, compute_config)\r\n",
        "\r\n",
        "compute_target.wait_for_completion(show_output=True)"
      ],
      "outputs": [
        {
          "output_type": "stream",
          "name": "stdout",
          "text": [
            "Creating\n",
            "Succeeded\n",
            "AmlCompute wait for completion finished\n",
            "\n",
            "Minimum number of nodes requested have been provisioned\n"
          ]
        }
      ],
      "execution_count": 4,
      "metadata": {
        "collapsed": true,
        "jupyter": {
          "source_hidden": false,
          "outputs_hidden": false
        },
        "nteract": {
          "transient": {
            "deleting": false
          }
        },
        "gather": {
          "logged": 1614830180869
        }
      }
    },
    {
      "cell_type": "code",
      "source": [
        "from azureml.data.dataset_factory import TabularDatasetFactory\r\n",
        "\r\n",
        "csv_file = 'https://raw.githubusercontent.com/SwapnaKategaru/Project3/main/heart_failure_clinical_records_dataset.csv'\r\n",
        "\r\n",
        "data = TabularDatasetFactory.from_delimited_files(csv_file)"
      ],
      "outputs": [],
      "execution_count": 6,
      "metadata": {
        "collapsed": true,
        "jupyter": {
          "source_hidden": false,
          "outputs_hidden": false
        },
        "nteract": {
          "transient": {
            "deleting": false
          }
        },
        "gather": {
          "logged": 1614830993422
        }
      }
    },
    {
      "cell_type": "code",
      "source": [
        "%%writefile conda_dependencies.yml\r\n",
        "dependencies:\r\n",
        "- python=3.6.2\r\n",
        "- numpy=1.16.0\r\n",
        "- pip:\r\n",
        "  - scikit-learn=0.22.1\r\n",
        "  - azureml-defaults"
      ],
      "outputs": [
        {
          "output_type": "stream",
          "name": "stdout",
          "text": [
            "Writing conda_dependencies.yml\n"
          ]
        }
      ],
      "execution_count": 7,
      "metadata": {
        "collapsed": true,
        "jupyter": {
          "source_hidden": false,
          "outputs_hidden": false
        },
        "nteract": {
          "transient": {
            "deleting": false
          }
        },
        "gather": {
          "logged": 1613142071197
        }
      }
    },
    {
      "cell_type": "code",
      "source": [
        "# %%writefile train.py\r\n",
        "\r\n",
        "from sklearn.linear_model import LogisticRegression\r\n",
        "import argparse\r\n",
        "import os\r\n",
        "import numpy as np\r\n",
        "from sklearn.metrics import mean_squared_error\r\n",
        "import joblib\r\n",
        "from sklearn.model_selection import train_test_split\r\n",
        "from sklearn.preprocessing import OneHotEncoder\r\n",
        "import pandas as pd\r\n",
        "from azureml.core.run import Run\r\n",
        "from azureml.data.dataset_factory import TabularDatasetFactory\r\n",
        "\r\n",
        "# TODO: Create TabularDataset using TabularDatasetFactory\r\n",
        "# Data is located at:\r\n",
        "# \"https://automlsamplenotebookdata.blob.core.windows.net/automl-sample-notebook-data/bankmarketing_train.csv\"\r\n",
        "\r\n",
        "ds = TabularDatasetFactory.from_delimited_files('https://raw.githubusercontent.com/SwapnaKategaru/Project3/main/heart_failure_clinical_records_dataset.csv')\r\n",
        "\r\n",
        "\r\n",
        "def clean_data(data):\r\n",
        "    # Dict for cleaning data\r\n",
        "    df = data.to_pandas_dataframe()\r\n",
        "\r\n",
        "    dataframe = pd.DataFrame()\r\n",
        "\r\n",
        "    # dataframe = data.to_pandas_dataframe()\r\n",
        "    dataframe[['age', 'creatinine_phosphokinase','ejection_fraction','platelets','serum_creatinine','serum_sodium','time']] = df[['age', 'creatinine_phosphokinase','ejection_fraction','platelets','serum_creatinine','serum_sodium','time']]\r\n",
        "    normalized_data=(dataframe-dataframe.min())/(dataframe.max()-dataframe.min())\r\n",
        "    normalized_data[['anaemia', 'diabetes','high_blood_pressure','sex','smoking']] = df[['anaemia', 'diabetes','high_blood_pressure','sex','smoking']]\r\n",
        "    target_column = pd.DataFrame()\r\n",
        "    target_column['DEATH_EVENT'] = df['DEATH_EVENT']\r\n",
        "    target_column = target_column.squeeze()\r\n",
        "    trained_T, Death_D = normalized_data, target_column\r\n",
        "    return trained_T, Death_D"
      ],
      "outputs": [],
      "execution_count": 8,
      "metadata": {
        "collapsed": true,
        "jupyter": {
          "source_hidden": false,
          "outputs_hidden": false
        },
        "nteract": {
          "transient": {
            "deleting": false
          }
        },
        "gather": {
          "logged": 1614831433708
        }
      }
    },
    {
      "cell_type": "code",
      "source": [
        "# from train import clean_data\r\n",
        "from sklearn.model_selection import train_test_split\r\n",
        "import pandas as pd\r\n",
        "x, y = clean_data(data)\r\n",
        "\r\n",
        "x_train, x_test, y_train, y_test = train_test_split(x, y, test_size=0.33, random_state=42)\r\n",
        "train_data = pd.concat([x_train, y_train], axis = 1)"
      ],
      "outputs": [],
      "execution_count": 9,
      "metadata": {
        "collapsed": true,
        "jupyter": {
          "source_hidden": false,
          "outputs_hidden": false
        },
        "nteract": {
          "transient": {
            "deleting": false
          }
        },
        "gather": {
          "logged": 1614831892400
        }
      }
    },
    {
      "cell_type": "code",
      "source": [
        "from azureml.train.automl import AutoMLConfig\r\n",
        "import logging\r\n",
        "\r\n",
        "automl_settings = {\r\n",
        "    \"enable_early_stopping\" : True,\r\n",
        "    \"max_concurrent_iterations\": 4,\r\n",
        "    \"primary_metric\": 'AUC_weighted',\r\n",
        "    \"featurization\": 'auto',\r\n",
        "    \"verbosity\": logging.INFO,\r\n",
        "}\r\n",
        "\r\n",
        "automl_config = AutoMLConfig(\r\n",
        "    experiment_timeout_minutes=15,\r\n",
        "    task='classification',\r\n",
        "    training_data=train_data,\r\n",
        "    label_column_name='DEATH_EVENT',\r\n",
        "    n_cross_validations=2,\r\n",
        "    compute_target=compute_target)"
      ],
      "outputs": [],
      "execution_count": 12,
      "metadata": {
        "collapsed": true,
        "jupyter": {
          "source_hidden": false,
          "outputs_hidden": false
        },
        "nteract": {
          "transient": {
            "deleting": false
          }
        },
        "gather": {
          "logged": 1614832563163
        }
      }
    },
    {
      "cell_type": "code",
      "source": [
        "from azureml.widgets import RunDetails\r\n",
        "remote_run = experiment.submit(automl_config, show_output=True)\r\n",
        "RunDetails(remote_run).show()"
      ],
      "outputs": [
        {
          "output_type": "error",
          "ename": "ConfigException",
          "evalue": "ConfigException:\n\tMessage: Input of type 'Unknown' is not supported. Supported types: [azureml.data.tabular_dataset.TabularDataset, azureml.pipeline.core.pipeline_output_dataset.PipelineOutputTabularDataset]\n\tInnerException: None\n\tErrorResponse \n{\n    \"error\": {\n        \"code\": \"UserError\",\n        \"message\": \"Input of type 'Unknown' is not supported. Supported types: [azureml.data.tabular_dataset.TabularDataset, azureml.pipeline.core.pipeline_output_dataset.PipelineOutputTabularDataset]\",\n        \"details_uri\": \"https://aka.ms/AutoMLConfig\",\n        \"target\": \"training_data\",\n        \"inner_error\": {\n            \"code\": \"BadArgument\",\n            \"inner_error\": {\n                \"code\": \"ArgumentInvalid\",\n                \"inner_error\": {\n                    \"code\": \"InvalidInputDatatype\"\n                }\n            }\n        }\n    }\n}",
          "traceback": [
            "\u001b[0;31m---------------------------------------------------------------------------\u001b[0m",
            "\u001b[0;31mConfigException\u001b[0m                           Traceback (most recent call last)",
            "\u001b[0;32m<ipython-input-13-7bd8c391bd8d>\u001b[0m in \u001b[0;36m<module>\u001b[0;34m\u001b[0m\n\u001b[1;32m      1\u001b[0m \u001b[0;32mfrom\u001b[0m \u001b[0mazureml\u001b[0m\u001b[0;34m.\u001b[0m\u001b[0mwidgets\u001b[0m \u001b[0;32mimport\u001b[0m \u001b[0mRunDetails\u001b[0m\u001b[0;34m\u001b[0m\u001b[0;34m\u001b[0m\u001b[0m\n\u001b[0;32m----> 2\u001b[0;31m \u001b[0mremote_run\u001b[0m \u001b[0;34m=\u001b[0m \u001b[0mexperiment\u001b[0m\u001b[0;34m.\u001b[0m\u001b[0msubmit\u001b[0m\u001b[0;34m(\u001b[0m\u001b[0mautoml_config\u001b[0m\u001b[0;34m,\u001b[0m \u001b[0mshow_output\u001b[0m\u001b[0;34m=\u001b[0m\u001b[0;32mTrue\u001b[0m\u001b[0;34m)\u001b[0m\u001b[0;34m\u001b[0m\u001b[0;34m\u001b[0m\u001b[0m\n\u001b[0m\u001b[1;32m      3\u001b[0m \u001b[0mRunDetails\u001b[0m\u001b[0;34m(\u001b[0m\u001b[0mremote_run\u001b[0m\u001b[0;34m)\u001b[0m\u001b[0;34m.\u001b[0m\u001b[0mshow\u001b[0m\u001b[0;34m(\u001b[0m\u001b[0;34m)\u001b[0m\u001b[0;34m\u001b[0m\u001b[0;34m\u001b[0m\u001b[0m\n",
            "\u001b[0;32m/anaconda/envs/azureml_py36/lib/python3.6/site-packages/azureml/core/experiment.py\u001b[0m in \u001b[0;36msubmit\u001b[0;34m(self, config, tags, **kwargs)\u001b[0m\n\u001b[1;32m    218\u001b[0m         \u001b[0msubmit_func\u001b[0m \u001b[0;34m=\u001b[0m \u001b[0mget_experiment_submit\u001b[0m\u001b[0;34m(\u001b[0m\u001b[0mconfig\u001b[0m\u001b[0;34m)\u001b[0m\u001b[0;34m\u001b[0m\u001b[0;34m\u001b[0m\u001b[0m\n\u001b[1;32m    219\u001b[0m         \u001b[0;32mwith\u001b[0m \u001b[0mself\u001b[0m\u001b[0;34m.\u001b[0m\u001b[0m_log_context\u001b[0m\u001b[0;34m(\u001b[0m\u001b[0;34m\"submit config {}\"\u001b[0m\u001b[0;34m.\u001b[0m\u001b[0mformat\u001b[0m\u001b[0;34m(\u001b[0m\u001b[0mconfig\u001b[0m\u001b[0;34m.\u001b[0m\u001b[0m__class__\u001b[0m\u001b[0;34m.\u001b[0m\u001b[0m__name__\u001b[0m\u001b[0;34m)\u001b[0m\u001b[0;34m)\u001b[0m\u001b[0;34m:\u001b[0m\u001b[0;34m\u001b[0m\u001b[0;34m\u001b[0m\u001b[0m\n\u001b[0;32m--> 220\u001b[0;31m             \u001b[0mrun\u001b[0m \u001b[0;34m=\u001b[0m \u001b[0msubmit_func\u001b[0m\u001b[0;34m(\u001b[0m\u001b[0mconfig\u001b[0m\u001b[0;34m,\u001b[0m \u001b[0mself\u001b[0m\u001b[0;34m.\u001b[0m\u001b[0mworkspace\u001b[0m\u001b[0;34m,\u001b[0m \u001b[0mself\u001b[0m\u001b[0;34m.\u001b[0m\u001b[0mname\u001b[0m\u001b[0;34m,\u001b[0m \u001b[0;34m**\u001b[0m\u001b[0mkwargs\u001b[0m\u001b[0;34m)\u001b[0m\u001b[0;34m\u001b[0m\u001b[0;34m\u001b[0m\u001b[0m\n\u001b[0m\u001b[1;32m    221\u001b[0m         \u001b[0;32mif\u001b[0m \u001b[0mtags\u001b[0m \u001b[0;32mis\u001b[0m \u001b[0;32mnot\u001b[0m \u001b[0;32mNone\u001b[0m\u001b[0;34m:\u001b[0m\u001b[0;34m\u001b[0m\u001b[0;34m\u001b[0m\u001b[0m\n\u001b[1;32m    222\u001b[0m             \u001b[0mrun\u001b[0m\u001b[0;34m.\u001b[0m\u001b[0mset_tags\u001b[0m\u001b[0;34m(\u001b[0m\u001b[0mtags\u001b[0m\u001b[0;34m)\u001b[0m\u001b[0;34m\u001b[0m\u001b[0;34m\u001b[0m\u001b[0m\n",
            "\u001b[0;32m/anaconda/envs/azureml_py36/lib/python3.6/site-packages/azureml/train/automl/automlconfig.py\u001b[0m in \u001b[0;36m_automl_static_submit\u001b[0;34m(automl_config_object, workspace, experiment_name, **kwargs)\u001b[0m\n\u001b[1;32m     87\u001b[0m     \u001b[0mcompute_target\u001b[0m \u001b[0;34m=\u001b[0m \u001b[0mautoml_config_object\u001b[0m\u001b[0;34m.\u001b[0m\u001b[0muser_settings\u001b[0m\u001b[0;34m.\u001b[0m\u001b[0mget\u001b[0m\u001b[0;34m(\u001b[0m\u001b[0;34m'compute_target'\u001b[0m\u001b[0;34m)\u001b[0m\u001b[0;34m\u001b[0m\u001b[0;34m\u001b[0m\u001b[0m\n\u001b[1;32m     88\u001b[0m \u001b[0;34m\u001b[0m\u001b[0m\n\u001b[0;32m---> 89\u001b[0;31m     \u001b[0mautoml_config_object\u001b[0m\u001b[0;34m.\u001b[0m\u001b[0m_validate_config_settings\u001b[0m\u001b[0;34m(\u001b[0m\u001b[0mworkspace\u001b[0m\u001b[0;34m)\u001b[0m\u001b[0;34m\u001b[0m\u001b[0;34m\u001b[0m\u001b[0m\n\u001b[0m\u001b[1;32m     90\u001b[0m     \u001b[0mfit_params\u001b[0m \u001b[0;34m=\u001b[0m \u001b[0mautoml_config_object\u001b[0m\u001b[0;34m.\u001b[0m\u001b[0m_get_fit_params\u001b[0m\u001b[0;34m(\u001b[0m\u001b[0;34m)\u001b[0m\u001b[0;34m\u001b[0m\u001b[0;34m\u001b[0m\u001b[0m\n\u001b[1;32m     91\u001b[0m \u001b[0;34m\u001b[0m\u001b[0m\n",
            "\u001b[0;32m/anaconda/envs/azureml_py36/lib/python3.6/site-packages/azureml/train/automl/automlconfig.py\u001b[0m in \u001b[0;36m_validate_config_settings\u001b[0;34m(self, workspace)\u001b[0m\n\u001b[1;32m   1896\u001b[0m                     AzureMLError.create(\n\u001b[1;32m   1897\u001b[0m                         \u001b[0mInvalidInputDatatype\u001b[0m\u001b[0;34m,\u001b[0m \u001b[0mtarget\u001b[0m\u001b[0;34m=\u001b[0m\u001b[0;34m\"training_data\"\u001b[0m\u001b[0;34m,\u001b[0m \u001b[0minput_type\u001b[0m\u001b[0;34m=\u001b[0m\u001b[0;34m\"Unknown\"\u001b[0m\u001b[0;34m,\u001b[0m\u001b[0;34m\u001b[0m\u001b[0;34m\u001b[0m\u001b[0m\n\u001b[0;32m-> 1898\u001b[0;31m                         \u001b[0msupported_types\u001b[0m\u001b[0;34m=\u001b[0m\u001b[0;34m\", \"\u001b[0m\u001b[0;34m.\u001b[0m\u001b[0mjoin\u001b[0m\u001b[0;34m(\u001b[0m\u001b[0mSupportedInputDatatypes\u001b[0m\u001b[0;34m.\u001b[0m\u001b[0mREMOTE_RUN_SCENARIO\u001b[0m\u001b[0;34m)\u001b[0m\u001b[0;34m\u001b[0m\u001b[0;34m\u001b[0m\u001b[0m\n\u001b[0m\u001b[1;32m   1899\u001b[0m                     )\n\u001b[1;32m   1900\u001b[0m                 )\n",
            "\u001b[0;31mConfigException\u001b[0m: ConfigException:\n\tMessage: Input of type 'Unknown' is not supported. Supported types: [azureml.data.tabular_dataset.TabularDataset, azureml.pipeline.core.pipeline_output_dataset.PipelineOutputTabularDataset]\n\tInnerException: None\n\tErrorResponse \n{\n    \"error\": {\n        \"code\": \"UserError\",\n        \"message\": \"Input of type 'Unknown' is not supported. Supported types: [azureml.data.tabular_dataset.TabularDataset, azureml.pipeline.core.pipeline_output_dataset.PipelineOutputTabularDataset]\",\n        \"details_uri\": \"https://aka.ms/AutoMLConfig\",\n        \"target\": \"training_data\",\n        \"inner_error\": {\n            \"code\": \"BadArgument\",\n            \"inner_error\": {\n                \"code\": \"ArgumentInvalid\",\n                \"inner_error\": {\n                    \"code\": \"InvalidInputDatatype\"\n                }\n            }\n        }\n    }\n}"
          ]
        }
      ],
      "execution_count": 13,
      "metadata": {
        "collapsed": true,
        "jupyter": {
          "source_hidden": false,
          "outputs_hidden": false
        },
        "nteract": {
          "transient": {
            "deleting": false
          }
        },
        "gather": {
          "logged": 1614832456903
        }
      }
    },
    {
      "cell_type": "code",
      "source": [
        "best_run, fitted_model = remote_run.get_output()"
      ],
      "outputs": [],
      "execution_count": 50,
      "metadata": {
        "collapsed": true,
        "jupyter": {
          "source_hidden": false,
          "outputs_hidden": false
        },
        "nteract": {
          "transient": {
            "deleting": false
          }
        },
        "gather": {
          "logged": 1614756202661
        }
      }
    },
    {
      "cell_type": "code",
      "source": [
        "best_run.get_file_names()"
      ],
      "outputs": [
        {
          "output_type": "execute_result",
          "execution_count": 51,
          "data": {
            "text/plain": "['accuracy_table',\n 'confusion_matrix',\n 'explanation/173e30fe/classes.interpret.json',\n 'explanation/173e30fe/eval_data_viz.interpret.json',\n 'explanation/173e30fe/expected_values.interpret.json',\n 'explanation/173e30fe/features.interpret.json',\n 'explanation/173e30fe/global_names/0.interpret.json',\n 'explanation/173e30fe/global_rank/0.interpret.json',\n 'explanation/173e30fe/global_values/0.interpret.json',\n 'explanation/173e30fe/local_importance_values.interpret.json',\n 'explanation/173e30fe/per_class_names/0.interpret.json',\n 'explanation/173e30fe/per_class_rank/0.interpret.json',\n 'explanation/173e30fe/per_class_values/0.interpret.json',\n 'explanation/173e30fe/rich_metadata.interpret.json',\n 'explanation/173e30fe/visualization_dict.interpret.json',\n 'explanation/173e30fe/ys_pred_proba_viz.interpret.json',\n 'explanation/173e30fe/ys_pred_viz.interpret.json',\n 'explanation/d86ada26/classes.interpret.json',\n 'explanation/d86ada26/eval_data_viz.interpret.json',\n 'explanation/d86ada26/expected_values.interpret.json',\n 'explanation/d86ada26/features.interpret.json',\n 'explanation/d86ada26/global_names/0.interpret.json',\n 'explanation/d86ada26/global_rank/0.interpret.json',\n 'explanation/d86ada26/global_values/0.interpret.json',\n 'explanation/d86ada26/local_importance_values.interpret.json',\n 'explanation/d86ada26/per_class_names/0.interpret.json',\n 'explanation/d86ada26/per_class_rank/0.interpret.json',\n 'explanation/d86ada26/per_class_values/0.interpret.json',\n 'explanation/d86ada26/rich_metadata.interpret.json',\n 'explanation/d86ada26/visualization_dict.interpret.json',\n 'outputs/conda_env_v_1_0_0.yml',\n 'outputs/env_dependencies.json',\n 'outputs/internal_cross_validated_models.pkl',\n 'outputs/model.pkl',\n 'outputs/pipeline_graph.json',\n 'outputs/scoring_file_v_1_0_0.py']",
            "text/html": "['accuracy_table', 'confusion_matrix', 'explanation/173e30fe/classes.interpret.json', 'explanation/173e30fe/eval_data_viz.interpret.json', 'explanation/173e30fe/expected_values.interpret.json', 'explanation/173e30fe/features.interpret.json', 'explanation/173e30fe/global_names/0.interpret.json', 'explanation/173e30fe/global_rank/0.interpret.json', 'explanation/173e30fe/global_values/0.interpret.json', 'explanation/173e30fe/local_importance_values.interpret.json', 'explanation/173e30fe/per_class_names/0.interpret.json', 'explanation/173e30fe/per_class_rank/0.interpret.json', 'explanation/173e30fe/per_class_values/0.interpret.json', 'explanation/173e30fe/rich_metadata.interpret.json', 'explanation/173e30fe/visualization_dict.interpret.json', 'explanation/173e30fe/ys_pred_proba_viz.interpret.json', 'explanation/173e30fe/ys_pred_viz.interpret.json', 'explanation/d86ada26/classes.interpret.json', 'explanation/d86ada26/eval_data_viz.interpret.json', 'explanation/d86ada26/expected_values.interpret.json', 'explanation/d86ada26/features.interpret.json', 'explanation/d86ada26/global_names/0.interpret.json', 'explanation/d86ada26/global_rank/0.interpret.json', 'explanation/d86ada26/global_values/0.interpret.json', 'explanation/d86ada26/local_importance_values.interpret.json', 'explanation/d86ada26/per_class_names/0.interpret.json', 'explanation/d86ada26/per_class_rank/0.interpret.json', 'explanation/d86ada26/per_class_values/0.interpret.json', 'explanation/d86ada26/rich_metadata.interpret.json', 'explanation/d86ada26/visualization_dict.interpret.json', 'outputs/conda_env_v_1_0_0.yml', 'outputs/env_dependencies.json', 'outputs/internal_cross_validated_models.pkl', 'outputs/model.pkl', 'outputs/pipeline_graph.json', 'outputs/scoring_file_v_1_0_0.py']"
          },
          "metadata": {}
        }
      ],
      "execution_count": 51,
      "metadata": {
        "collapsed": true,
        "jupyter": {
          "source_hidden": false,
          "outputs_hidden": false
        },
        "nteract": {
          "transient": {
            "deleting": false
          }
        },
        "gather": {
          "logged": 1614756204666
        }
      }
    },
    {
      "cell_type": "code",
      "source": [
        "best_run.get_file_names()[-3]"
      ],
      "outputs": [
        {
          "output_type": "execute_result",
          "execution_count": 52,
          "data": {
            "text/plain": "'outputs/model.pkl'"
          },
          "metadata": {}
        }
      ],
      "execution_count": 52,
      "metadata": {
        "collapsed": true,
        "jupyter": {
          "source_hidden": false,
          "outputs_hidden": false
        },
        "nteract": {
          "transient": {
            "deleting": false
          }
        },
        "gather": {
          "logged": 1614756209094
        }
      }
    },
    {
      "cell_type": "code",
      "source": [
        "import pickle"
      ],
      "outputs": [],
      "execution_count": 53,
      "metadata": {
        "collapsed": true,
        "jupyter": {
          "source_hidden": false,
          "outputs_hidden": false
        },
        "nteract": {
          "transient": {
            "deleting": false
          }
        },
        "gather": {
          "logged": 1614756211751
        }
      }
    },
    {
      "cell_type": "code",
      "source": [
        "best_run.download_file('outputs/model.pkl', './outputs/automlmodel.pkl')"
      ],
      "outputs": [],
      "execution_count": 54,
      "metadata": {
        "collapsed": true,
        "jupyter": {
          "source_hidden": false,
          "outputs_hidden": false
        },
        "nteract": {
          "transient": {
            "deleting": false
          }
        },
        "gather": {
          "logged": 1614756213244
        }
      }
    },
    {
      "cell_type": "code",
      "source": [
        "import joblib\r\n",
        "joblib.load(filename='outputs/automlmodel.pkl')"
      ],
      "outputs": [
        {
          "output_type": "execute_result",
          "execution_count": 55,
          "data": {
            "text/plain": "Pipeline(memory=None,\n         steps=[('datatransformer',\n                 DataTransformer(enable_dnn=None, enable_feature_sweeping=None,\n                                 feature_sweeping_config=None,\n                                 feature_sweeping_timeout=None,\n                                 featurization_config=None, force_text_dnn=None,\n                                 is_cross_validation=None,\n                                 is_onnx_compatible=None, logger=None,\n                                 observer=None, task=None, working_dir=None)),\n                ('prefittedsoftvotingclassifier',...\n                                                                                                    max_samples=None,\n                                                                                                    min_impurity_decrease=0.0,\n                                                                                                    min_impurity_split=None,\n                                                                                                    min_samples_leaf=0.1131578947368421,\n                                                                                                    min_samples_split=0.19736842105263158,\n                                                                                                    min_weight_fraction_leaf=0.0,\n                                                                                                    n_estimators=100,\n                                                                                                    n_jobs=1,\n                                                                                                    oob_score=False,\n                                                                                                    random_state=None,\n                                                                                                    verbose=0,\n                                                                                                    warm_start=False))],\n                                                                     verbose=False))],\n                                               flatten_transform=None,\n                                               weights=[0.2, 0.1, 0.1, 0.1, 0.1,\n                                                        0.1, 0.2, 0.1]))],\n         verbose=False)"
          },
          "metadata": {}
        }
      ],
      "execution_count": 55,
      "metadata": {
        "gather": {
          "logged": 1614756215055
        },
        "jupyter": {
          "outputs_hidden": false,
          "source_hidden": false
        },
        "nteract": {
          "transient": {
            "deleting": false
          }
        }
      }
    },
    {
      "cell_type": "code",
      "source": [
        "from azureml.core.model import Model\r\n",
        "model = Model.register(model_name='automl-model', model_path='outputs/automlmodel.pkl', workspace=ws)"
      ],
      "outputs": [
        {
          "output_type": "stream",
          "name": "stdout",
          "text": [
            "Registering model automl-model\n"
          ]
        }
      ],
      "execution_count": 56,
      "metadata": {
        "collapsed": true,
        "jupyter": {
          "source_hidden": false,
          "outputs_hidden": false
        },
        "nteract": {
          "transient": {
            "deleting": false
          }
        },
        "gather": {
          "logged": 1614756252910
        }
      }
    },
    {
      "cell_type": "code",
      "source": [
        "import sklearn\r\n",
        "\r\n",
        "from azureml.core.environment import Environment\r\n",
        "\r\n",
        "# environment = Environment(\"LocalDeploy\")\r\n",
        "environment = Environment.get(workspace=ws, name=\"AzureML-AutoML\")\r\n",
        "\r\n",
        "environment.python.conda_dependencies.add_pip_package(\"inference-schema[numpy-support]\")\r\n",
        "environment.python.conda_dependencies.add_pip_package(\"joblib\")\r\n",
        "environment.python.conda_dependencies.add_pip_package(\"scikit-learn=={}\".format(sklearn.__version__))"
      ],
      "outputs": [],
      "execution_count": 57,
      "metadata": {
        "collapsed": true,
        "jupyter": {
          "source_hidden": false,
          "outputs_hidden": false
        },
        "nteract": {
          "transient": {
            "deleting": false
          }
        },
        "gather": {
          "logged": 1614756255723
        }
      }
    },
    {
      "cell_type": "code",
      "source": [
        "# %%writefile score.py\r\n",
        "\r\n",
        "import json\r\n",
        "import numpy as np\r\n",
        "import pandas as pd\r\n",
        "import os\r\n",
        "import joblib\r\n",
        "import pickle\r\n",
        "\r\n",
        "def init():\r\n",
        "    global model\r\n",
        "    model_path = os.path.join(os.getenv('AZUREML_MODEL_DIR'), 'automlmodel.pkl')\r\n",
        "    print(\"Found model:\", os.path.isfile(model_path)) #To check whether the model is actually present on the location we are looking at\r\n",
        "    model = joblib.load(model_path)\r\n",
        "def run(data):\r\n",
        "    try:\r\n",
        "        data = json.loads(data)['data']\r\n",
        "        data = pd.DataFrame.from_dict(data)\r\n",
        "        result = model.predict(data)\r\n",
        "        return result.tolist()\r\n",
        "    except Exception as e:\r\n",
        "        error = str(e)\r\n",
        "        return error"
      ],
      "outputs": [
        {
          "output_type": "stream",
          "name": "stdout",
          "text": [
            "Writing score.py\n"
          ]
        }
      ],
      "execution_count": 29,
      "metadata": {
        "collapsed": true,
        "jupyter": {
          "source_hidden": false,
          "outputs_hidden": false
        },
        "nteract": {
          "transient": {
            "deleting": false
          }
        },
        "gather": {
          "logged": 1614447612039
        }
      }
    },
    {
      "cell_type": "code",
      "source": [
        "pip install inference-schema"
      ],
      "outputs": [
        {
          "output_type": "stream",
          "name": "stdout",
          "text": [
            "Collecting inference-schema\n",
            "  Downloading inference_schema-1.1.0-py3-none-any.whl (19 kB)\n",
            "Requirement already satisfied: python-dateutil>=2.5.3 in /anaconda/envs/azureml_py36/lib/python3.6/site-packages (from inference-schema) (2.8.1)\n",
            "Collecting wrapt==1.11.1\n",
            "  Downloading wrapt-1.11.1.tar.gz (27 kB)\n",
            "Requirement already satisfied: pytz>=2017.2 in /anaconda/envs/azureml_py36/lib/python3.6/site-packages (from inference-schema) (2021.1)\n",
            "Requirement already satisfied: six>=1.5 in /anaconda/envs/azureml_py36/lib/python3.6/site-packages (from python-dateutil>=2.5.3->inference-schema) (1.15.0)\n",
            "Building wheels for collected packages: wrapt\n",
            "  Building wheel for wrapt (setup.py) ... \u001b[?25l-\b \b\\\b \b|\b \bdone\n",
            "\u001b[?25h  Created wheel for wrapt: filename=wrapt-1.11.1-cp36-cp36m-linux_x86_64.whl size=66568 sha256=dc555869bae724742a3086ce36b797a4f962aec9399724c64358b0e79a5ac85a\n",
            "  Stored in directory: /home/azureuser/.cache/pip/wheels/94/0f/ec/66085641573800014bb0c8b657f3366eff641c42df79abbfe9\n",
            "Successfully built wrapt\n",
            "\u001b[31mERROR: tensorflow 2.1.0 has requirement scipy==1.4.1; python_version >= \"3\", but you'll have scipy 1.5.2 which is incompatible.\u001b[0m\n",
            "\u001b[31mERROR: tensorflow-gpu 2.1.0 has requirement scipy==1.4.1; python_version >= \"3\", but you'll have scipy 1.5.2 which is incompatible.\u001b[0m\n",
            "\u001b[31mERROR: autokeras 1.0.12 has requirement tensorflow>=2.3.0, but you'll have tensorflow 2.1.0 which is incompatible.\u001b[0m\n",
            "Installing collected packages: wrapt, inference-schema\n",
            "  Attempting uninstall: wrapt\n",
            "    Found existing installation: wrapt 1.12.1\n",
            "    Uninstalling wrapt-1.12.1:\n",
            "      Successfully uninstalled wrapt-1.12.1\n",
            "Successfully installed inference-schema-1.1.0 wrapt-1.11.1\n",
            "Note: you may need to restart the kernel to use updated packages.\n"
          ]
        }
      ],
      "execution_count": 60,
      "metadata": {
        "collapsed": true,
        "jupyter": {
          "source_hidden": false,
          "outputs_hidden": false
        },
        "nteract": {
          "transient": {
            "deleting": false
          }
        },
        "gather": {
          "logged": 1614756475239
        }
      }
    },
    {
      "cell_type": "code",
      "source": [
        "%%writefile score.py\r\n",
        "\r\n",
        "import json\r\n",
        "import numpy as np\r\n",
        "import pandas as pd\r\n",
        "import os\r\n",
        "import joblib\r\n",
        "import pickle\r\n",
        "\r\n",
        "from inference_schema.schema_decorators import input_schema, output_schema\r\n",
        "from inference_schema.parameter_types.numpy_parameter_type import NumpyParameterType\r\n",
        "from inference_schema.parameter_types.pandas_parameter_type import PandasParameterType\r\n",
        "\r\n",
        "input_sample = pd.DataFrame({\"age\": pd.Series([0.0], dtype=\"float64\"), \"anaemia\": pd.Series([0], dtype=\"int64\"), \"creatinine_phosphokinase\": pd.Series([0.0], dtype=\"float64\"), \"diabetes\": pd.Series([0], dtype=\"int64\"), \"ejection_fraction\": pd.Series([0.0], dtype=\"float64\"), \"high_blood_pressure\": pd.Series([0], dtype=\"int64\"), \"platelets\": pd.Series([0.0], dtype=\"float64\"), \"serum_creatinine\": pd.Series([0.0], dtype=\"float64\"), \"serum_sodium\": pd.Series([0.0], dtype=\"float64\"), \"sex\": pd.Series([0], dtype=\"int64\"), \"smoking\": pd.Series([0], dtype=\"int64\"), \"time\": pd.Series([0.0], dtype=\"float64\")})\r\n",
        "output_sample = np.array([0])\r\n",
        "\r\n",
        "\r\n",
        "def init():\r\n",
        "    global model\r\n",
        "    model_path = os.path.join(os.getenv('AZUREML_MODEL_DIR'), 'automlmodel.pkl')\r\n",
        "    print(\"Found model:\", os.path.isfile(model_path)) #To check whether the model is actually present on the location we are looking at\r\n",
        "    model = joblib.load(model_path)\r\n",
        "\r\n",
        "@input_schema('data', PandasParameterType(input_sample))\r\n",
        "@output_schema(NumpyParameterType(output_sample))\r\n",
        "\r\n",
        "def run(data):\r\n",
        "    try:\r\n",
        "        data = json.loads(data)['data']\r\n",
        "        data = pd.DataFrame.from_dict(data)\r\n",
        "        result = model.predict(data)\r\n",
        "        return result.tolist()\r\n",
        "    except Exception as e:\r\n",
        "        error = str(e)\r\n",
        "        return error        "
      ],
      "outputs": [
        {
          "output_type": "stream",
          "name": "stdout",
          "text": [
            "Overwriting score.py\n"
          ]
        }
      ],
      "execution_count": 69,
      "metadata": {
        "collapsed": true,
        "jupyter": {
          "source_hidden": false,
          "outputs_hidden": false
        },
        "nteract": {
          "transient": {
            "deleting": false
          }
        },
        "gather": {
          "logged": 1614756483452
        }
      }
    },
    {
      "cell_type": "code",
      "source": [
        "model"
      ],
      "outputs": [
        {
          "output_type": "execute_result",
          "execution_count": 88,
          "data": {
            "text/plain": "Model(workspace=Workspace.create(name='quick-starts-ws-139731', subscription_id='d4ad7261-832d-46b2-b093-22156001df5b', resource_group='aml-quickstarts-139731'), name=automl-model, id=automl-model:1, version=1, tags={}, properties={})"
          },
          "metadata": {}
        }
      ],
      "execution_count": 88,
      "metadata": {
        "collapsed": true,
        "jupyter": {
          "source_hidden": false,
          "outputs_hidden": false
        },
        "nteract": {
          "transient": {
            "deleting": false
          }
        },
        "gather": {
          "logged": 1614758855087
        }
      }
    },
    {
      "cell_type": "code",
      "source": [
        "Model(ws, 'automl-model')"
      ],
      "outputs": [
        {
          "output_type": "execute_result",
          "execution_count": 89,
          "data": {
            "text/plain": "Model(workspace=Workspace.create(name='quick-starts-ws-139731', subscription_id='d4ad7261-832d-46b2-b093-22156001df5b', resource_group='aml-quickstarts-139731'), name=automl-model, id=automl-model:1, version=1, tags={}, properties={})"
          },
          "metadata": {}
        }
      ],
      "execution_count": 89,
      "metadata": {
        "collapsed": true,
        "jupyter": {
          "source_hidden": false,
          "outputs_hidden": false
        },
        "nteract": {
          "transient": {
            "deleting": false
          }
        },
        "gather": {
          "logged": 1614758856264
        }
      }
    },
    {
      "cell_type": "code",
      "source": [
        "from azureml.core.webservice import AciWebservice\r\n",
        "from azureml.core.model import InferenceConfig\r\n",
        "\r\n",
        "deployment_config = AciWebservice.deploy_configuration(cpu_cores = 1, memory_gb = 1,  enable_app_insights=True, auth_enabled=True)\r\n",
        "\r\n",
        "from azureml.core.webservice import LocalWebservice, Webservice\r\n",
        "inference_config = InferenceConfig(entry_script='score.py',\r\n",
        "                                    environment=environment)\r\n",
        "# deployment_config = LocalWebservice.deploy_configuration(port=8890)\r\n",
        "service = Model.deploy(ws, \"test3\", [model], inference_config, deployment_config)\r\n",
        "service.wait_for_deployment(show_output = True)\r\n",
        "print(service.state)\r\n",
        "print(service.scoring_uri)\r\n",
        "print(service.swagger_uri)"
      ],
      "outputs": [
        {
          "output_type": "stream",
          "name": "stdout",
          "text": [
            "Tips: You can try get_logs(): https://aka.ms/debugimage#dockerlog or local deployment: https://aka.ms/debugimage#debug-locally to debug if deployment takes longer than 10 minutes.\n",
            "Running.........................................\n",
            "Succeeded\n",
            "ACI service creation operation finished, operation \"Succeeded\"\n",
            "Healthy\n",
            "http://d3c13110-60ba-49a5-9888-d9eda056b386.southcentralus.azurecontainer.io/score\n",
            "http://d3c13110-60ba-49a5-9888-d9eda056b386.southcentralus.azurecontainer.io/swagger.json\n"
          ]
        }
      ],
      "execution_count": 91,
      "metadata": {
        "collapsed": true,
        "jupyter": {
          "source_hidden": false,
          "outputs_hidden": false
        },
        "nteract": {
          "transient": {
            "deleting": false
          }
        },
        "gather": {
          "logged": 1614759076216
        }
      }
    },
    {
      "cell_type": "code",
      "source": [
        "primary, secondary = service.get_keys()\r\n",
        "print(primary)"
      ],
      "outputs": [
        {
          "output_type": "stream",
          "name": "stdout",
          "text": [
            "6k9FfXS5JHrLkswumRlve8iKAlO9NOkC\n"
          ]
        }
      ],
      "execution_count": 92,
      "metadata": {
        "collapsed": true,
        "jupyter": {
          "source_hidden": false,
          "outputs_hidden": false
        },
        "nteract": {
          "transient": {
            "deleting": false
          }
        },
        "gather": {
          "logged": 1614759085024
        }
      }
    },
    {
      "cell_type": "code",
      "source": [
        "import requests\r\n",
        "import json\r\n",
        "\r\n",
        "scoring_uri = 'http://d3c13110-60ba-49a5-9888-d9eda056b386.southcentralus.azurecontainer.io/score'\r\n",
        "\r\n",
        "key = '6k9FfXS5JHrLkswumRlve8iKAlO9NOkC'\r\n",
        "\r\n",
        "\r\n",
        "# Sample data to send to the service\r\n",
        "data = json.dumps(\r\n",
        "    {\"data\":\r\n",
        "            [\r\n",
        "                {\r\n",
        "                    'age': 75.0,\r\n",
        "                    'anaemia': 0,\r\n",
        "                    'creatinine_phosphokinase': 582,\r\n",
        "                    'diabetes': 0,\r\n",
        "                    'ejection_fraction': 20,\r\n",
        "                    'high_blood_pressure': 1,\r\n",
        "                    'platelets': 265000.0,\r\n",
        "                    'serum_creatinine': 1.9,\r\n",
        "                    'serum_sodium': 130,\r\n",
        "                    'sex': 1,\r\n",
        "                    'smoking': 0,\r\n",
        "                    'time': 4\r\n",
        "                },\r\n",
        "                {\r\n",
        "                    'age': 55.0,\r\n",
        "                    'anaemia': 0,\r\n",
        "                    'creatinine_phosphokinase': 7861,\r\n",
        "                    'diabetes': 0,\r\n",
        "                    'ejection_fraction': 38,\r\n",
        "                    'high_blood_pressure': 0,\r\n",
        "                    'platelets': 263358.03,\r\n",
        "                    'serum_creatinine': 1.1,\r\n",
        "                    'serum_sodium': 136,\r\n",
        "                    'sex': 1,\r\n",
        "                    'smoking': 0,\r\n",
        "                    'time': 6\r\n",
        "                }\r\n",
        "            ] \r\n",
        "        }\r\n",
        ")\r\n",
        "                \r\n",
        "\r\n",
        "headers = {'Content-Type': 'application/json'}\r\n",
        "\r\n",
        "headers['Authorization'] = f'Bearer {key}'\r\n",
        "\r\n",
        "resp = requests.post(scoring_uri, data, headers=headers)\r\n",
        "print(resp.text)"
      ],
      "outputs": [
        {
          "output_type": "stream",
          "name": "stdout",
          "text": [
            "\"{\\\"result\\\": [0, 0]}\"\n"
          ]
        }
      ],
      "execution_count": 94,
      "metadata": {
        "collapsed": true,
        "jupyter": {
          "source_hidden": false,
          "outputs_hidden": false
        },
        "nteract": {
          "transient": {
            "deleting": false
          }
        },
        "gather": {
          "logged": 1614759160354
        }
      }
    },
    {
      "cell_type": "markdown",
      "source": [
        "## Best Model\n",
        "\n",
        "TODO: In the cell below, get the best model from the automl experiments and display all the properties of the model.\n",
        "\n"
      ],
      "metadata": {}
    },
    {
      "cell_type": "code",
      "source": [
        "from azureml.core.webservice import LocalWebservice\r\n",
        "from azureml.core.model import InferenceConfig\r\n",
        "inference_config = InferenceConfig(entry_script='score.py', environment=environment) \r\n",
        "\r\n",
        "# This is optional, if not provided Docker will choose a random unused port.\r\n",
        "deployment_config = LocalWebservice.deploy_configuration(port=1234)\r\n",
        "\r\n",
        "local_service = Model.deploy(ws, \"deeploy\", [model], inference_config, deployment_config)\r\n",
        "\r\n",
        "local_service.wait_for_deployment()"
      ],
      "outputs": [],
      "execution_count": null,
      "metadata": {
        "collapsed": true,
        "jupyter": {
          "source_hidden": false,
          "outputs_hidden": false
        },
        "nteract": {
          "transient": {
            "deleting": false
          }
        }
      }
    },
    {
      "cell_type": "code",
      "source": [
        "print('Local service port: {}'.format(local_service.port))"
      ],
      "outputs": [
        {
          "output_type": "stream",
          "name": "stdout",
          "text": [
            "Local service port: 1234\n"
          ]
        }
      ],
      "execution_count": 40,
      "metadata": {
        "gather": {
          "logged": 1614583574504
        },
        "jupyter": {
          "outputs_hidden": false,
          "source_hidden": false
        },
        "nteract": {
          "transient": {
            "deleting": false
          }
        }
      }
    },
    {
      "cell_type": "code",
      "source": [
        "import json\r\n",
        "\r\n",
        "sample_input = json.dumps(\r\n",
        "    {\"data\":\r\n",
        "            [\r\n",
        "                {\r\n",
        "                    'age': 75.0,\r\n",
        "                    'anaemia': 0,\r\n",
        "                    'creatinine_phosphokinase': 582,\r\n",
        "                    'diabetes': 0,\r\n",
        "                    'ejection_fraction': 20,\r\n",
        "                    'high_blood_pressure': 1,\r\n",
        "                    'platelets': 265000.0,\r\n",
        "                    'serum_creatinine': 1.9,\r\n",
        "                    'serum_sodium': 130,\r\n",
        "                    'sex': 1,\r\n",
        "                    'smoking': 0,\r\n",
        "                    'time': 4\r\n",
        "                },\r\n",
        "                {\r\n",
        "                    'age': 55.0,\r\n",
        "                    'anaemia': 0,\r\n",
        "                    'creatinine_phosphokinase': 7861,\r\n",
        "                    'diabetes': 0,\r\n",
        "                    'ejection_fraction': 38,\r\n",
        "                    'high_blood_pressure': 0,\r\n",
        "                    'platelets': 263358.03,\r\n",
        "                    'serum_creatinine': 1.1,\r\n",
        "                    'serum_sodium': 136,\r\n",
        "                    'sex': 1,\r\n",
        "                    'smoking': 0,\r\n",
        "                    'time': 6\r\n",
        "                }\r\n",
        "            ] \r\n",
        "        }\r\n",
        ")\r\n",
        "\r\n",
        "local_service.run(sample_input)"
      ],
      "outputs": [
        {
          "output_type": "execute_result",
          "execution_count": 41,
          "data": {
            "text/plain": "[0, 0]",
            "text/html": "[0, 0]"
          },
          "metadata": {}
        }
      ],
      "execution_count": 41,
      "metadata": {
        "gather": {
          "logged": 1614583585881
        },
        "jupyter": {
          "outputs_hidden": false,
          "source_hidden": false
        },
        "nteract": {
          "transient": {
            "deleting": false
          }
        }
      }
    },
    {
      "cell_type": "markdown",
      "source": [
        "TODO: In the cell below, send a request to the web service you deployed to test it."
      ],
      "metadata": {
        "collapsed": true,
        "gather": {
          "logged": 1598431657736
        },
        "jupyter": {
          "outputs_hidden": false,
          "source_hidden": false
        },
        "nteract": {
          "transient": {
            "deleting": false
          }
        }
      }
    },
    {
      "cell_type": "code",
      "source": [],
      "outputs": [],
      "execution_count": null,
      "metadata": {
        "gather": {
          "logged": 1598432707604
        },
        "jupyter": {
          "outputs_hidden": false,
          "source_hidden": false
        },
        "nteract": {
          "transient": {
            "deleting": false
          }
        }
      }
    },
    {
      "cell_type": "markdown",
      "source": [
        "TODO: In the cell below, print the logs of the web service and delete the service"
      ],
      "metadata": {
        "collapsed": true,
        "gather": {
          "logged": 1598432765711
        },
        "jupyter": {
          "outputs_hidden": false,
          "source_hidden": false
        },
        "nteract": {
          "transient": {
            "deleting": false
          }
        }
      }
    },
    {
      "cell_type": "code",
      "source": [],
      "outputs": [],
      "execution_count": null,
      "metadata": {
        "jupyter": {
          "outputs_hidden": false,
          "source_hidden": false
        },
        "nteract": {
          "transient": {
            "deleting": false
          }
        }
      }
    }
  ],
  "metadata": {
    "kernel_info": {
      "name": "python3-azureml"
    },
    "kernelspec": {
      "name": "python3-azureml",
      "language": "python",
      "display_name": "Python 3.6 - AzureML"
    },
    "language_info": {
      "name": "python",
      "version": "3.6.9",
      "mimetype": "text/x-python",
      "codemirror_mode": {
        "name": "ipython",
        "version": 3
      },
      "pygments_lexer": "ipython3",
      "nbconvert_exporter": "python",
      "file_extension": ".py"
    },
    "nteract": {
      "version": "nteract-front-end@1.0.0"
    },
    "microsoft": {
      "host": {
        "AzureML": {
          "notebookHasBeenCompleted": true
        }
      }
    }
  },
  "nbformat": 4,
  "nbformat_minor": 2
}