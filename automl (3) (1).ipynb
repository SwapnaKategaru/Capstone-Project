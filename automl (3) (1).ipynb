{
  "cells": [
    {
      "cell_type": "markdown",
      "source": [
        "# Automated ML\n",
        "\n",
        "TODO: Import Dependencies. In the cell below, import all the dependencies that you will need to complete the project."
      ],
      "metadata": {}
    },
    {
      "cell_type": "code",
      "source": [
        "pip install azureml-train-automl-runtime==1.22.0"
      ],
      "outputs": [
        {
          "output_type": "stream",
          "name": "stdout",
          "text": [
            "Requirement already satisfied: azureml-train-automl-runtime==1.22.0 in /anaconda/envs/azureml_py36/lib/python3.6/site-packages (1.22.0)\n",
            "Requirement already satisfied: jinja2<=2.11.2 in /anaconda/envs/azureml_py36/lib/python3.6/site-packages (from azureml-train-automl-runtime==1.22.0) (2.11.2)\n",
            "Requirement already satisfied: botocore<=1.18.18 in /anaconda/envs/azureml_py36/lib/python3.6/site-packages (from azureml-train-automl-runtime==1.22.0) (1.18.18)\n",
            "Requirement already satisfied: azureml-automl-runtime~=1.22.0 in /anaconda/envs/azureml_py36/lib/python3.6/site-packages (from azureml-train-automl-runtime==1.22.0) (1.22.0)\n",
            "Requirement already satisfied: onnx<=1.7.0,>=1.5.0 in /anaconda/envs/azureml_py36/lib/python3.6/site-packages (from azureml-train-automl-runtime==1.22.0) (1.7.0)\n",
            "Requirement already satisfied: azureml-train-automl-client~=1.22.0 in /anaconda/envs/azureml_py36/lib/python3.6/site-packages (from azureml-train-automl-runtime==1.22.0) (1.22.0)\n",
            "Requirement already satisfied: scipy<=1.5.2,>=1.0.0 in /anaconda/envs/azureml_py36/lib/python3.6/site-packages (from azureml-train-automl-runtime==1.22.0) (1.5.2)\n",
            "Requirement already satisfied: keras2onnx<=1.6.0,>=1.4.0 in /anaconda/envs/azureml_py36/lib/python3.6/site-packages (from azureml-train-automl-runtime==1.22.0) (1.6.0)\n",
            "Requirement already satisfied: numpy<1.19.0,>=1.16.0 in /anaconda/envs/azureml_py36/lib/python3.6/site-packages (from azureml-train-automl-runtime==1.22.0) (1.18.5)\n",
            "Requirement already satisfied: scikit-learn<0.23.0,>=0.19.0 in /anaconda/envs/azureml_py36/lib/python3.6/site-packages (from azureml-train-automl-runtime==1.22.0) (0.22.2.post1)\n",
            "Requirement already satisfied: onnxconverter-common<=1.6.0,>=1.4.2 in /anaconda/envs/azureml_py36/lib/python3.6/site-packages (from azureml-train-automl-runtime==1.22.0) (1.6.0)\n",
            "Requirement already satisfied: pandas<1.0.0,>=0.21.0 in /anaconda/envs/azureml_py36/lib/python3.6/site-packages (from azureml-train-automl-runtime==1.22.0) (0.25.3)\n",
            "Requirement already satisfied: azureml-dataset-runtime[fuse,pandas]~=1.22.0 in /anaconda/envs/azureml_py36/lib/python3.6/site-packages (from azureml-train-automl-runtime==1.22.0) (1.22.0)\n",
            "Requirement already satisfied: azure-storage-queue~=12.1 in /anaconda/envs/azureml_py36/lib/python3.6/site-packages (from azureml-train-automl-runtime==1.22.0) (12.1.5)\n",
            "Requirement already satisfied: smart-open<=1.9.0 in /anaconda/envs/azureml_py36/lib/python3.6/site-packages (from azureml-train-automl-runtime==1.22.0) (1.9.0)\n",
            "Requirement already satisfied: azureml-interpret~=1.22.0 in /anaconda/envs/azureml_py36/lib/python3.6/site-packages (from azureml-train-automl-runtime==1.22.0) (1.22.0)\n",
            "Requirement already satisfied: lightgbm<=2.3.0,>=2.0.11 in /anaconda/envs/azureml_py36/lib/python3.6/site-packages (from azureml-train-automl-runtime==1.22.0) (2.3.0)\n",
            "Requirement already satisfied: azureml-telemetry~=1.22.0 in /anaconda/envs/azureml_py36/lib/python3.6/site-packages (from azureml-train-automl-runtime==1.22.0) (1.22.0)\n",
            "Requirement already satisfied: sklearn-pandas<=1.7.0,>=1.4.0 in /anaconda/envs/azureml_py36/lib/python3.6/site-packages (from azureml-train-automl-runtime==1.22.0) (1.7.0)\n",
            "Requirement already satisfied: azureml-automl-core~=1.22.0 in /anaconda/envs/azureml_py36/lib/python3.6/site-packages (from azureml-train-automl-runtime==1.22.0) (1.22.0)\n",
            "Requirement already satisfied: onnxmltools==1.4.1 in /anaconda/envs/azureml_py36/lib/python3.6/site-packages (from azureml-train-automl-runtime==1.22.0) (1.4.1)\n",
            "Requirement already satisfied: gensim<3.9.0 in /anaconda/envs/azureml_py36/lib/python3.6/site-packages (from azureml-train-automl-runtime==1.22.0) (3.8.3)\n",
            "Requirement already satisfied: azureml-core~=1.22.0 in /anaconda/envs/azureml_py36/lib/python3.6/site-packages (from azureml-train-automl-runtime==1.22.0) (1.22.0)\n",
            "Requirement already satisfied: skl2onnx==1.4.9 in /anaconda/envs/azureml_py36/lib/python3.6/site-packages (from azureml-train-automl-runtime==1.22.0) (1.4.9)\n",
            "Requirement already satisfied: boto3<=1.15.18 in /anaconda/envs/azureml_py36/lib/python3.6/site-packages (from azureml-train-automl-runtime==1.22.0) (1.15.18)\n",
            "Requirement already satisfied: azureml-defaults~=1.22.0 in /anaconda/envs/azureml_py36/lib/python3.6/site-packages (from azureml-train-automl-runtime==1.22.0) (1.22.0)\n",
            "Requirement already satisfied: statsmodels<=0.10.2,>=0.9.0 in /anaconda/envs/azureml_py36/lib/python3.6/site-packages (from azureml-train-automl-runtime==1.22.0) (0.10.2)\n",
            "Requirement already satisfied: onnxruntime==1.3.0 in /anaconda/envs/azureml_py36/lib/python3.6/site-packages (from azureml-train-automl-runtime==1.22.0) (1.3.0)\n",
            "Requirement already satisfied: MarkupSafe>=0.23 in /anaconda/envs/azureml_py36/lib/python3.6/site-packages (from jinja2<=2.11.2->azureml-train-automl-runtime==1.22.0) (1.1.1)\n",
            "Requirement already satisfied: urllib3<1.26,>=1.20; python_version != \"3.4\" in /anaconda/envs/azureml_py36/lib/python3.6/site-packages (from botocore<=1.18.18->azureml-train-automl-runtime==1.22.0) (1.25.11)\n",
            "Requirement already satisfied: jmespath<1.0.0,>=0.7.1 in /anaconda/envs/azureml_py36/lib/python3.6/site-packages (from botocore<=1.18.18->azureml-train-automl-runtime==1.22.0) (0.10.0)\n",
            "Requirement already satisfied: python-dateutil<3.0.0,>=2.1 in /anaconda/envs/azureml_py36/lib/python3.6/site-packages (from botocore<=1.18.18->azureml-train-automl-runtime==1.22.0) (2.8.1)\n",
            "Requirement already satisfied: psutil<6.0.0,>=5.2.2 in /anaconda/envs/azureml_py36/lib/python3.6/site-packages (from azureml-automl-runtime~=1.22.0->azureml-train-automl-runtime==1.22.0) (5.8.0)\n",
            "Requirement already satisfied: pmdarima==1.1.1 in /anaconda/envs/azureml_py36/lib/python3.6/site-packages (from azureml-automl-runtime~=1.22.0->azureml-train-automl-runtime==1.22.0) (1.1.1)\n",
            "Requirement already satisfied: nimbusml<=1.8.0,>=1.7.1 in /anaconda/envs/azureml_py36/lib/python3.6/site-packages (from azureml-automl-runtime~=1.22.0->azureml-train-automl-runtime==1.22.0) (1.8.0)\n",
            "Requirement already satisfied: py-cpuinfo==5.0.0 in /anaconda/envs/azureml_py36/lib/python3.6/site-packages (from azureml-automl-runtime~=1.22.0->azureml-train-automl-runtime==1.22.0) (5.0.0)\n",
            "Requirement already satisfied: joblib==0.14.1 in /anaconda/envs/azureml_py36/lib/python3.6/site-packages (from azureml-automl-runtime~=1.22.0->azureml-train-automl-runtime==1.22.0) (0.14.1)\n",
            "Requirement already satisfied: dill<0.4.0,>=0.2.8 in /anaconda/envs/azureml_py36/lib/python3.6/site-packages (from azureml-automl-runtime~=1.22.0->azureml-train-automl-runtime==1.22.0) (0.3.3)\n",
            "Requirement already satisfied: six in /anaconda/envs/azureml_py36/lib/python3.6/site-packages (from onnx<=1.7.0,>=1.5.0->azureml-train-automl-runtime==1.22.0) (1.15.0)\n",
            "Requirement already satisfied: protobuf in /anaconda/envs/azureml_py36/lib/python3.6/site-packages (from onnx<=1.7.0,>=1.5.0->azureml-train-automl-runtime==1.22.0) (3.14.0)\n",
            "Requirement already satisfied: typing-extensions>=3.6.2.1 in /anaconda/envs/azureml_py36/lib/python3.6/site-packages (from onnx<=1.7.0,>=1.5.0->azureml-train-automl-runtime==1.22.0) (3.7.4.3)\n",
            "Requirement already satisfied: fire in /anaconda/envs/azureml_py36/lib/python3.6/site-packages (from keras2onnx<=1.6.0,>=1.4.0->azureml-train-automl-runtime==1.22.0) (0.4.0)\n",
            "Requirement already satisfied: requests in /anaconda/envs/azureml_py36/lib/python3.6/site-packages (from keras2onnx<=1.6.0,>=1.4.0->azureml-train-automl-runtime==1.22.0) (2.25.1)\n",
            "Requirement already satisfied: pytz>=2017.2 in /anaconda/envs/azureml_py36/lib/python3.6/site-packages (from pandas<1.0.0,>=0.21.0->azureml-train-automl-runtime==1.22.0) (2021.1)\n",
            "Requirement already satisfied: pyarrow<2.0.0,>=0.17.0 in /anaconda/envs/azureml_py36/lib/python3.6/site-packages (from azureml-dataset-runtime[fuse,pandas]~=1.22.0->azureml-train-automl-runtime==1.22.0) (1.0.1)\n",
            "Requirement already satisfied: azureml-dataprep<2.10.0a,>=2.9.0a in /anaconda/envs/azureml_py36/lib/python3.6/site-packages (from azureml-dataset-runtime[fuse,pandas]~=1.22.0->azureml-train-automl-runtime==1.22.0) (2.9.1)\n",
            "Requirement already satisfied: fusepy<4.0.0,>=3.0.1; extra == \"fuse\" in /anaconda/envs/azureml_py36/lib/python3.6/site-packages (from azureml-dataset-runtime[fuse,pandas]~=1.22.0->azureml-train-automl-runtime==1.22.0) (3.0.1)\n",
            "Requirement already satisfied: cryptography>=2.1.4 in /anaconda/envs/azureml_py36/lib/python3.6/site-packages (from azure-storage-queue~=12.1->azureml-train-automl-runtime==1.22.0) (3.3.1)\n",
            "Requirement already satisfied: azure-core<2.0.0,>=1.10.0 in /anaconda/envs/azureml_py36/lib/python3.6/site-packages (from azure-storage-queue~=12.1->azureml-train-automl-runtime==1.22.0) (1.10.0)\n",
            "Requirement already satisfied: msrest>=0.6.10 in /anaconda/envs/azureml_py36/lib/python3.6/site-packages (from azure-storage-queue~=12.1->azureml-train-automl-runtime==1.22.0) (0.6.21)\n",
            "Requirement already satisfied: boto>=2.32 in /anaconda/envs/azureml_py36/lib/python3.6/site-packages (from smart-open<=1.9.0->azureml-train-automl-runtime==1.22.0) (2.49.0)\n",
            "Requirement already satisfied: interpret-community==0.16.* in /anaconda/envs/azureml_py36/lib/python3.6/site-packages (from azureml-interpret~=1.22.0->azureml-train-automl-runtime==1.22.0) (0.16.0)\n",
            "Requirement already satisfied: applicationinsights in /anaconda/envs/azureml_py36/lib/python3.6/site-packages (from azureml-telemetry~=1.22.0->azureml-train-automl-runtime==1.22.0) (0.11.9)\n",
            "Requirement already satisfied: PyJWT<3.0.0 in /anaconda/envs/azureml_py36/lib/python3.6/site-packages (from azureml-core~=1.22.0->azureml-train-automl-runtime==1.22.0) (1.7.1)\n",
            "Requirement already satisfied: azure-mgmt-containerregistry>=2.0.0 in /anaconda/envs/azureml_py36/lib/python3.6/site-packages (from azureml-core~=1.22.0->azureml-train-automl-runtime==1.22.0) (2.8.0)\n",
            "Requirement already satisfied: pyopenssl<21.0.0 in /anaconda/envs/azureml_py36/lib/python3.6/site-packages (from azureml-core~=1.22.0->azureml-train-automl-runtime==1.22.0) (20.0.1)\n",
            "Requirement already satisfied: jsonpickle in /anaconda/envs/azureml_py36/lib/python3.6/site-packages (from azureml-core~=1.22.0->azureml-train-automl-runtime==1.22.0) (1.5.1)\n",
            "Requirement already satisfied: azure-mgmt-authorization<1.0.0,>=0.40.0 in /anaconda/envs/azureml_py36/lib/python3.6/site-packages (from azureml-core~=1.22.0->azureml-train-automl-runtime==1.22.0) (0.61.0)\n",
            "Requirement already satisfied: docker in /anaconda/envs/azureml_py36/lib/python3.6/site-packages (from azureml-core~=1.22.0->azureml-train-automl-runtime==1.22.0) (4.4.1)\n",
            "Requirement already satisfied: azure-common>=1.1.12 in /anaconda/envs/azureml_py36/lib/python3.6/site-packages (from azureml-core~=1.22.0->azureml-train-automl-runtime==1.22.0) (1.1.26)\n",
            "Requirement already satisfied: ruamel.yaml>=0.15.35 in /anaconda/envs/azureml_py36/lib/python3.6/site-packages (from azureml-core~=1.22.0->azureml-train-automl-runtime==1.22.0) (0.16.12)\n",
            "Requirement already satisfied: backports.tempfile in /anaconda/envs/azureml_py36/lib/python3.6/site-packages (from azureml-core~=1.22.0->azureml-train-automl-runtime==1.22.0) (1.0)\n",
            "Requirement already satisfied: SecretStorage in /anaconda/envs/azureml_py36/lib/python3.6/site-packages (from azureml-core~=1.22.0->azureml-train-automl-runtime==1.22.0) (3.3.0)\n",
            "Requirement already satisfied: msrestazure>=0.4.33 in /anaconda/envs/azureml_py36/lib/python3.6/site-packages (from azureml-core~=1.22.0->azureml-train-automl-runtime==1.22.0) (0.6.4)\n",
            "Requirement already satisfied: pathspec in /anaconda/envs/azureml_py36/lib/python3.6/site-packages (from azureml-core~=1.22.0->azureml-train-automl-runtime==1.22.0) (0.8.1)\n",
            "Requirement already satisfied: azure-mgmt-keyvault<7.0.0,>=0.40.0 in /anaconda/envs/azureml_py36/lib/python3.6/site-packages (from azureml-core~=1.22.0->azureml-train-automl-runtime==1.22.0) (2.2.0)\n",
            "Requirement already satisfied: azure-mgmt-resource<15.0.0,>=1.2.1 in /anaconda/envs/azureml_py36/lib/python3.6/site-packages (from azureml-core~=1.22.0->azureml-train-automl-runtime==1.22.0) (12.0.0)\n",
            "Requirement already satisfied: azure-mgmt-storage<16.0.0,>=1.5.0 in /anaconda/envs/azureml_py36/lib/python3.6/site-packages (from azureml-core~=1.22.0->azureml-train-automl-runtime==1.22.0) (11.2.0)\n",
            "Requirement already satisfied: contextlib2 in /anaconda/envs/azureml_py36/lib/python3.6/site-packages (from azureml-core~=1.22.0->azureml-train-automl-runtime==1.22.0) (0.6.0.post1)\n",
            "Requirement already satisfied: adal>=1.2.0 in /anaconda/envs/azureml_py36/lib/python3.6/site-packages (from azureml-core~=1.22.0->azureml-train-automl-runtime==1.22.0) (1.2.6)\n",
            "Requirement already satisfied: azure-graphrbac<1.0.0,>=0.40.0 in /anaconda/envs/azureml_py36/lib/python3.6/site-packages (from azureml-core~=1.22.0->azureml-train-automl-runtime==1.22.0) (0.61.1)\n",
            "Requirement already satisfied: ndg-httpsclient in /anaconda/envs/azureml_py36/lib/python3.6/site-packages (from azureml-core~=1.22.0->azureml-train-automl-runtime==1.22.0) (0.5.1)\n",
            "Requirement already satisfied: s3transfer<0.4.0,>=0.3.0 in /anaconda/envs/azureml_py36/lib/python3.6/site-packages (from boto3<=1.15.18->azureml-train-automl-runtime==1.22.0) (0.3.4)\n",
            "Requirement already satisfied: azureml-model-management-sdk==1.0.1b6.post1 in /anaconda/envs/azureml_py36/lib/python3.6/site-packages (from azureml-defaults~=1.22.0->azureml-train-automl-runtime==1.22.0) (1.0.1b6.post1)\n",
            "Requirement already satisfied: configparser==3.7.4 in /anaconda/envs/azureml_py36/lib/python3.6/site-packages (from azureml-defaults~=1.22.0->azureml-train-automl-runtime==1.22.0) (3.7.4)\n",
            "Requirement already satisfied: json-logging-py==0.2 in /anaconda/envs/azureml_py36/lib/python3.6/site-packages (from azureml-defaults~=1.22.0->azureml-train-automl-runtime==1.22.0) (0.2)\n",
            "Requirement already satisfied: flask==1.0.3 in /anaconda/envs/azureml_py36/lib/python3.6/site-packages (from azureml-defaults~=1.22.0->azureml-train-automl-runtime==1.22.0) (1.0.3)\n",
            "Requirement already satisfied: werkzeug<=1.0.1,>=0.16.1 in /anaconda/envs/azureml_py36/lib/python3.6/site-packages (from azureml-defaults~=1.22.0->azureml-train-automl-runtime==1.22.0) (1.0.1)\n",
            "Requirement already satisfied: gunicorn==19.9.0 in /anaconda/envs/azureml_py36/lib/python3.6/site-packages (from azureml-defaults~=1.22.0->azureml-train-automl-runtime==1.22.0) (19.9.0)\n",
            "Requirement already satisfied: patsy>=0.4.0 in /anaconda/envs/azureml_py36/lib/python3.6/site-packages (from statsmodels<=0.10.2,>=0.9.0->azureml-train-automl-runtime==1.22.0) (0.5.1)\n",
            "Requirement already satisfied: Cython>=0.29 in /anaconda/envs/azureml_py36/lib/python3.6/site-packages (from pmdarima==1.1.1->azureml-automl-runtime~=1.22.0->azureml-train-automl-runtime==1.22.0) (0.29.21)\n",
            "Requirement already satisfied: dotnetcore2>=2.1.2 in /anaconda/envs/azureml_py36/lib/python3.6/site-packages (from nimbusml<=1.8.0,>=1.7.1->azureml-automl-runtime~=1.22.0->azureml-train-automl-runtime==1.22.0) (2.1.20)\n",
            "Requirement already satisfied: termcolor in /anaconda/envs/azureml_py36/lib/python3.6/site-packages (from fire->keras2onnx<=1.6.0,>=1.4.0->azureml-train-automl-runtime==1.22.0) (1.1.0)\n",
            "Requirement already satisfied: certifi>=2017.4.17 in /anaconda/envs/azureml_py36/lib/python3.6/site-packages (from requests->keras2onnx<=1.6.0,>=1.4.0->azureml-train-automl-runtime==1.22.0) (2020.12.5)\n",
            "Requirement already satisfied: idna<3,>=2.5 in /anaconda/envs/azureml_py36/lib/python3.6/site-packages (from requests->keras2onnx<=1.6.0,>=1.4.0->azureml-train-automl-runtime==1.22.0) (2.10)\n",
            "Requirement already satisfied: chardet<5,>=3.0.2 in /anaconda/envs/azureml_py36/lib/python3.6/site-packages (from requests->keras2onnx<=1.6.0,>=1.4.0->azureml-train-automl-runtime==1.22.0) (4.0.0)\n",
            "Requirement already satisfied: cloudpickle<2.0.0,>=1.1.0 in /anaconda/envs/azureml_py36/lib/python3.6/site-packages (from azureml-dataprep<2.10.0a,>=2.9.0a->azureml-dataset-runtime[fuse,pandas]~=1.22.0->azureml-train-automl-runtime==1.22.0) (1.6.0)\n",
            "Requirement already satisfied: azureml-dataprep-native<30.0.0,>=29.0.0 in /anaconda/envs/azureml_py36/lib/python3.6/site-packages (from azureml-dataprep<2.10.0a,>=2.9.0a->azureml-dataset-runtime[fuse,pandas]~=1.22.0->azureml-train-automl-runtime==1.22.0) (29.0.0)\n",
            "Requirement already satisfied: azure-identity<1.5.0,>=1.2.0 in /anaconda/envs/azureml_py36/lib/python3.6/site-packages (from azureml-dataprep<2.10.0a,>=2.9.0a->azureml-dataset-runtime[fuse,pandas]~=1.22.0->azureml-train-automl-runtime==1.22.0) (1.4.1)\n",
            "Requirement already satisfied: azureml-dataprep-rslex<1.8.0a,>=1.7.0dev0 in /anaconda/envs/azureml_py36/lib/python3.6/site-packages (from azureml-dataprep<2.10.0a,>=2.9.0a->azureml-dataset-runtime[fuse,pandas]~=1.22.0->azureml-train-automl-runtime==1.22.0) (1.7.0)\n",
            "Requirement already satisfied: cffi>=1.12 in /anaconda/envs/azureml_py36/lib/python3.6/site-packages (from cryptography>=2.1.4->azure-storage-queue~=12.1->azureml-train-automl-runtime==1.22.0) (1.14.4)\n",
            "Requirement already satisfied: isodate>=0.6.0 in /anaconda/envs/azureml_py36/lib/python3.6/site-packages (from msrest>=0.6.10->azure-storage-queue~=12.1->azureml-train-automl-runtime==1.22.0) (0.6.0)\n",
            "Requirement already satisfied: requests-oauthlib>=0.5.0 in /anaconda/envs/azureml_py36/lib/python3.6/site-packages (from msrest>=0.6.10->azure-storage-queue~=12.1->azureml-train-automl-runtime==1.22.0) (1.3.0)\n",
            "Requirement already satisfied: interpret-core[required]<=0.2.1,>=0.1.20 in /anaconda/envs/azureml_py36/lib/python3.6/site-packages (from interpret-community==0.16.*->azureml-interpret~=1.22.0->azureml-train-automl-runtime==1.22.0) (0.2.1)\n",
            "Requirement already satisfied: packaging in /anaconda/envs/azureml_py36/lib/python3.6/site-packages (from interpret-community==0.16.*->azureml-interpret~=1.22.0->azureml-train-automl-runtime==1.22.0) (20.9)\n",
            "Requirement already satisfied: shap<=0.34.0,>=0.20.0 in /anaconda/envs/azureml_py36/lib/python3.6/site-packages (from interpret-community==0.16.*->azureml-interpret~=1.22.0->azureml-train-automl-runtime==1.22.0) (0.34.0)\n",
            "Requirement already satisfied: importlib-metadata; python_version < \"3.8\" in /anaconda/envs/azureml_py36/lib/python3.6/site-packages (from jsonpickle->azureml-core~=1.22.0->azureml-train-automl-runtime==1.22.0) (3.4.0)\n",
            "Requirement already satisfied: websocket-client>=0.32.0 in /anaconda/envs/azureml_py36/lib/python3.6/site-packages (from docker->azureml-core~=1.22.0->azureml-train-automl-runtime==1.22.0) (0.57.0)\n",
            "Requirement already satisfied: ruamel.yaml.clib>=0.1.2; platform_python_implementation == \"CPython\" and python_version < \"3.9\" in /anaconda/envs/azureml_py36/lib/python3.6/site-packages (from ruamel.yaml>=0.15.35->azureml-core~=1.22.0->azureml-train-automl-runtime==1.22.0) (0.2.2)\n",
            "Requirement already satisfied: backports.weakref in /anaconda/envs/azureml_py36/lib/python3.6/site-packages (from backports.tempfile->azureml-core~=1.22.0->azureml-train-automl-runtime==1.22.0) (1.0.post1)\n",
            "Requirement already satisfied: jeepney>=0.6 in /anaconda/envs/azureml_py36/lib/python3.6/site-packages (from SecretStorage->azureml-core~=1.22.0->azureml-train-automl-runtime==1.22.0) (0.6.0)\n",
            "Requirement already satisfied: pyasn1>=0.1.1 in /anaconda/envs/azureml_py36/lib/python3.6/site-packages (from ndg-httpsclient->azureml-core~=1.22.0->azureml-train-automl-runtime==1.22.0) (0.4.8)\n",
            "Requirement already satisfied: liac-arff>=2.1.1 in /anaconda/envs/azureml_py36/lib/python3.6/site-packages (from azureml-model-management-sdk==1.0.1b6.post1->azureml-defaults~=1.22.0->azureml-train-automl-runtime==1.22.0) (2.5.0)\n",
            "Requirement already satisfied: itsdangerous>=0.24 in /anaconda/envs/azureml_py36/lib/python3.6/site-packages (from flask==1.0.3->azureml-defaults~=1.22.0->azureml-train-automl-runtime==1.22.0) (1.1.0)\n",
            "Requirement already satisfied: click>=5.1 in /anaconda/envs/azureml_py36/lib/python3.6/site-packages (from flask==1.0.3->azureml-defaults~=1.22.0->azureml-train-automl-runtime==1.22.0) (7.1.2)\n",
            "Requirement already satisfied: distro>=1.2.0 in /anaconda/envs/azureml_py36/lib/python3.6/site-packages (from dotnetcore2>=2.1.2->nimbusml<=1.8.0,>=1.7.1->azureml-automl-runtime~=1.22.0->azureml-train-automl-runtime==1.22.0) (1.5.0)\n",
            "Requirement already satisfied: msal-extensions~=0.2.2 in /anaconda/envs/azureml_py36/lib/python3.6/site-packages (from azure-identity<1.5.0,>=1.2.0->azureml-dataprep<2.10.0a,>=2.9.0a->azureml-dataset-runtime[fuse,pandas]~=1.22.0->azureml-train-automl-runtime==1.22.0) (0.2.2)\n",
            "Requirement already satisfied: msal<2.0.0,>=1.3.0 in /anaconda/envs/azureml_py36/lib/python3.6/site-packages (from azure-identity<1.5.0,>=1.2.0->azureml-dataprep<2.10.0a,>=2.9.0a->azureml-dataset-runtime[fuse,pandas]~=1.22.0->azureml-train-automl-runtime==1.22.0) (1.8.0)\n",
            "Requirement already satisfied: pycparser in /anaconda/envs/azureml_py36/lib/python3.6/site-packages (from cffi>=1.12->cryptography>=2.1.4->azure-storage-queue~=12.1->azureml-train-automl-runtime==1.22.0) (2.20)\n",
            "Requirement already satisfied: oauthlib>=3.0.0 in /anaconda/envs/azureml_py36/lib/python3.6/site-packages (from requests-oauthlib>=0.5.0->msrest>=0.6.10->azure-storage-queue~=12.1->azureml-train-automl-runtime==1.22.0) (3.1.0)\n",
            "Requirement already satisfied: pyparsing>=2.0.2 in /anaconda/envs/azureml_py36/lib/python3.6/site-packages (from packaging->interpret-community==0.16.*->azureml-interpret~=1.22.0->azureml-train-automl-runtime==1.22.0) (2.4.7)\n",
            "Requirement already satisfied: tqdm>4.25.0 in /anaconda/envs/azureml_py36/lib/python3.6/site-packages (from shap<=0.34.0,>=0.20.0->interpret-community==0.16.*->azureml-interpret~=1.22.0->azureml-train-automl-runtime==1.22.0) (4.56.0)\n",
            "Requirement already satisfied: zipp>=0.5 in /anaconda/envs/azureml_py36/lib/python3.6/site-packages (from importlib-metadata; python_version < \"3.8\"->jsonpickle->azureml-core~=1.22.0->azureml-train-automl-runtime==1.22.0) (3.4.0)\n",
            "Requirement already satisfied: portalocker~=1.0; platform_system != \"Windows\" in /anaconda/envs/azureml_py36/lib/python3.6/site-packages (from msal-extensions~=0.2.2->azure-identity<1.5.0,>=1.2.0->azureml-dataprep<2.10.0a,>=2.9.0a->azureml-dataset-runtime[fuse,pandas]~=1.22.0->azureml-train-automl-runtime==1.22.0) (1.7.1)\n",
            "Note: you may need to restart the kernel to use updated packages.\n"
          ]
        }
      ],
      "execution_count": 1,
      "metadata": {
        "collapsed": true,
        "jupyter": {
          "source_hidden": false,
          "outputs_hidden": false
        },
        "nteract": {
          "transient": {
            "deleting": false
          }
        },
        "gather": {
          "logged": 1614830105944
        }
      }
    },
    {
      "cell_type": "code",
      "source": [
        "from azureml.core import Workspace, Experiment"
      ],
      "outputs": [],
      "execution_count": 2,
      "metadata": {
        "gather": {
          "logged": 1614830110000
        },
        "jupyter": {
          "outputs_hidden": false,
          "source_hidden": false
        },
        "nteract": {
          "transient": {
            "deleting": false
          }
        }
      }
    },
    {
      "cell_type": "markdown",
      "source": [
        "## Dataset\n",
        "\n",
        "### Overview\n",
        "TODO: In this markdown cell, give an overview of the dataset you are using. Also mention the task you will be performing.\n",
        "\n",
        "\n",
        "TODO: Get data. In the cell below, write code to access the data you will be using in this project. Remember that the dataset needs to be external."
      ],
      "metadata": {}
    },
    {
      "cell_type": "code",
      "source": [
        "ws = Workspace.from_config()\n",
        "\n",
        "# choose a name for experiment\n",
        "experiment_name = 'auto-ml'\n",
        "\n",
        "experiment=Experiment(ws, experiment_name)\n"
      ],
      "outputs": [
        {
          "output_type": "stream",
          "name": "stdout",
          "text": [
            "Performing interactive authentication. Please follow the instructions on the terminal.\n",
            "To sign in, use a web browser to open the page https://microsoft.com/devicelogin and enter the code ED5C9CL5P to authenticate.\n",
            "You have logged in. Now let us find all the subscriptions to which you have access...\n",
            "Interactive authentication successfully completed.\n"
          ]
        }
      ],
      "execution_count": 3,
      "metadata": {
        "gather": {
          "logged": 1614830160171
        },
        "jupyter": {
          "outputs_hidden": false,
          "source_hidden": false
        },
        "nteract": {
          "transient": {
            "deleting": false
          }
        }
      }
    },
    {
      "cell_type": "code",
      "source": [
        "from azureml.core.compute import ComputeTarget, AmlCompute\r\n",
        "from azureml.core.compute_target import ComputeTargetException\r\n",
        "\r\n",
        "# Choose a name for your CPU cluster\r\n",
        "cpu_cluster_name = \"cpu-cluster-4\"\r\n",
        "\r\n",
        "# Verify that cluster does not exist already\r\n",
        "try:\r\n",
        "    compute_target = ComputeTarget(workspace=ws, name=cpu_cluster_name)\r\n",
        "    print('Found existing cluster, use it.')\r\n",
        "except ComputeTargetException:\r\n",
        "    compute_config = AmlCompute.provisioning_configuration(vm_size='STANDARD_D2_V2',\r\n",
        "                                                           max_nodes=6)\r\n",
        "    compute_target = ComputeTarget.create(ws, cpu_cluster_name, compute_config)\r\n",
        "\r\n",
        "compute_target.wait_for_completion(show_output=True)"
      ],
      "outputs": [
        {
          "output_type": "stream",
          "name": "stdout",
          "text": [
            "Creating\n",
            "Succeeded\n",
            "AmlCompute wait for completion finished\n",
            "\n",
            "Minimum number of nodes requested have been provisioned\n"
          ]
        }
      ],
      "execution_count": 4,
      "metadata": {
        "collapsed": true,
        "jupyter": {
          "source_hidden": false,
          "outputs_hidden": false
        },
        "nteract": {
          "transient": {
            "deleting": false
          }
        },
        "gather": {
          "logged": 1614830180869
        }
      }
    },
    {
      "cell_type": "code",
      "source": [
        "from azureml.data.dataset_factory import TabularDatasetFactory\r\n",
        "\r\n",
        "csv_file = 'https://raw.githubusercontent.com/SwapnaKategaru/Project3/main/heart_failure_clinical_records_dataset.csv'\r\n",
        "\r\n",
        "data = TabularDatasetFactory.from_delimited_files(csv_file)"
      ],
      "outputs": [],
      "execution_count": 6,
      "metadata": {
        "collapsed": true,
        "jupyter": {
          "source_hidden": false,
          "outputs_hidden": false
        },
        "nteract": {
          "transient": {
            "deleting": false
          }
        },
        "gather": {
          "logged": 1614830993422
        }
      }
    },
    {
      "cell_type": "code",
      "source": [
        "%%writefile conda_dependencies.yml\r\n",
        "dependencies:\r\n",
        "- python=3.6.2\r\n",
        "- numpy=1.16.0\r\n",
        "- pip:\r\n",
        "  - scikit-learn=0.22.1\r\n",
        "  - azureml-defaults"
      ],
      "outputs": [
        {
          "output_type": "stream",
          "name": "stdout",
          "text": [
            "Writing conda_dependencies.yml\n"
          ]
        }
      ],
      "execution_count": 7,
      "metadata": {
        "collapsed": true,
        "jupyter": {
          "source_hidden": false,
          "outputs_hidden": false
        },
        "nteract": {
          "transient": {
            "deleting": false
          }
        },
        "gather": {
          "logged": 1613142071197
        }
      }
    },
    {
      "cell_type": "code",
      "source": [
        "# %%writefile train.py\r\n",
        "\r\n",
        "from sklearn.linear_model import LogisticRegression\r\n",
        "import argparse\r\n",
        "import os\r\n",
        "import numpy as np\r\n",
        "from sklearn.metrics import mean_squared_error\r\n",
        "import joblib\r\n",
        "from sklearn.model_selection import train_test_split\r\n",
        "from sklearn.preprocessing import OneHotEncoder\r\n",
        "import pandas as pd\r\n",
        "from azureml.core.run import Run\r\n",
        "from azureml.data.dataset_factory import TabularDatasetFactory\r\n",
        "\r\n",
        "# TODO: Create TabularDataset using TabularDatasetFactory\r\n",
        "# Data is located at:\r\n",
        "# \"https://automlsamplenotebookdata.blob.core.windows.net/automl-sample-notebook-data/bankmarketing_train.csv\"\r\n",
        "\r\n",
        "ds = TabularDatasetFactory.from_delimited_files('https://raw.githubusercontent.com/SwapnaKategaru/Project3/main/heart_failure_clinical_records_dataset.csv')\r\n",
        "\r\n",
        "\r\n",
        "def clean_data(data):\r\n",
        "    # Dict for cleaning data\r\n",
        "    df = data.to_pandas_dataframe()\r\n",
        "\r\n",
        "    dataframe = pd.DataFrame()\r\n",
        "\r\n",
        "    # dataframe = data.to_pandas_dataframe()\r\n",
        "    dataframe[['age', 'creatinine_phosphokinase','ejection_fraction','platelets','serum_creatinine','serum_sodium','time']] = df[['age', 'creatinine_phosphokinase','ejection_fraction','platelets','serum_creatinine','serum_sodium','time']]\r\n",
        "    normalized_data=(dataframe-dataframe.min())/(dataframe.max()-dataframe.min())\r\n",
        "    normalized_data[['anaemia', 'diabetes','high_blood_pressure','sex','smoking']] = df[['anaemia', 'diabetes','high_blood_pressure','sex','smoking']]\r\n",
        "    target_column = pd.DataFrame()\r\n",
        "    target_column['DEATH_EVENT'] = df['DEATH_EVENT']\r\n",
        "    target_column = target_column.squeeze()\r\n",
        "    trained_T, Death_D = normalized_data, target_column\r\n",
        "    return trained_T, Death_D"
      ],
      "outputs": [],
      "execution_count": 8,
      "metadata": {
        "collapsed": true,
        "jupyter": {
          "source_hidden": false,
          "outputs_hidden": false
        },
        "nteract": {
          "transient": {
            "deleting": false
          }
        },
        "gather": {
          "logged": 1614831433708
        }
      }
    },
    {
      "cell_type": "code",
      "source": [
        "# from train import clean_data\r\n",
        "from sklearn.model_selection import train_test_split\r\n",
        "import pandas as pd\r\n",
        "x, y = clean_data(data)\r\n",
        "\r\n",
        "x_train, x_test, y_train, y_test = train_test_split(x, y, test_size=0.33, random_state=42)\r\n",
        "train_data = pd.concat([x_train, y_train], axis = 1)"
      ],
      "outputs": [],
      "execution_count": 9,
      "metadata": {
        "collapsed": true,
        "jupyter": {
          "source_hidden": false,
          "outputs_hidden": false
        },
        "nteract": {
          "transient": {
            "deleting": false
          }
        },
        "gather": {
          "logged": 1614831892400
        }
      }
    },
    {
      "cell_type": "code",
      "source": [
        "from azureml.train.automl import AutoMLConfig\r\n",
        "import logging\r\n",
        "\r\n",
        "automl_settings = {\r\n",
        "    \"enable_early_stopping\" : True,\r\n",
        "    \"max_concurrent_iterations\": 4,\r\n",
        "    \"primary_metric\": 'AUC_weighted',\r\n",
        "    \"featurization\": 'auto',\r\n",
        "    \"verbosity\": logging.INFO,\r\n",
        "}\r\n",
        "\r\n",
        "automl_config = AutoMLConfig(\r\n",
        "    experiment_timeout_minutes=15,\r\n",
        "    task='classification',\r\n",
        "    training_data=train_data,\r\n",
        "    label_column_name='DEATH_EVENT',\r\n",
        "    n_cross_validations=2)"
      ],
      "outputs": [],
      "execution_count": 10,
      "metadata": {
        "collapsed": true,
        "jupyter": {
          "source_hidden": false,
          "outputs_hidden": false
        },
        "nteract": {
          "transient": {
            "deleting": false
          }
        },
        "gather": {
          "logged": 1614831930547
        }
      }
    },
    {
      "cell_type": "code",
      "source": [
        "from azureml.widgets import RunDetails\r\n",
        "remote_run = experiment.submit(automl_config, show_output=True)\r\n",
        "RunDetails(remote_run).show()"
      ],
      "outputs": [
        {
          "output_type": "stream",
          "name": "stdout",
          "text": [
            "No run_configuration provided, running on local with default configuration\n",
            "Running on local machine\n",
            "Parent Run ID: AutoML_4f25edac-9cc6-4736-af67-0c39ac9ca2f7\n",
            "\n",
            "Current status: DatasetEvaluation. Gathering dataset statistics.\n",
            "Current status: FeaturesGeneration. Generating features for the dataset.\n",
            "Current status: DatasetFeaturization. Beginning to fit featurizers and featurize the dataset.\n",
            "Current status: DatasetFeaturizationCompleted. Completed fit featurizers and featurizing the dataset.\n",
            "Current status: DatasetCrossValidationSplit. Generating individually featurized CV splits.\n",
            "\n",
            "****************************************************************************************************\n",
            "DATA GUARDRAILS: \n",
            "\n",
            "TYPE:         Class balancing detection\n",
            "STATUS:       PASSED\n",
            "DESCRIPTION:  Your inputs were analyzed, and all classes are balanced in your training data.\n",
            "              Learn more about imbalanced data: https://aka.ms/AutomatedMLImbalancedData\n",
            "\n",
            "****************************************************************************************************\n",
            "\n",
            "TYPE:         Missing feature values imputation\n",
            "STATUS:       PASSED\n",
            "DESCRIPTION:  No feature missing values were detected in the training data.\n",
            "              Learn more about missing value imputation: https://aka.ms/AutomatedMLFeaturization\n",
            "\n",
            "****************************************************************************************************\n",
            "\n",
            "TYPE:         High cardinality feature detection\n",
            "STATUS:       PASSED\n",
            "DESCRIPTION:  Your inputs were analyzed, and no high cardinality features were detected.\n",
            "              Learn more about high cardinality feature handling: https://aka.ms/AutomatedMLFeaturization\n",
            "\n",
            "****************************************************************************************************\n",
            "Current status: ModelSelection. Beginning model selection.\n",
            "\n",
            "****************************************************************************************************\n",
            "ITERATION: The iteration being evaluated.\n",
            "PIPELINE: A summary description of the pipeline being evaluated.\n",
            "DURATION: Time taken for the current iteration.\n",
            "METRIC: The result of computing score on the fitted pipeline.\n",
            "BEST: The best observed score thus far.\n",
            "****************************************************************************************************\n",
            "\n",
            " ITERATION   PIPELINE                                       DURATION      METRIC      BEST\n",
            "         0   MaxAbsScaler LightGBM                          0:00:27       0.8100    0.8100\n",
            "         1                                                  0:00:09          nan    0.8100\n",
            "ERROR: FitException:\n",
            "\tMessage: /anaconda/envs/azureml_py36/lib/libxgboost.so: undefined symbol: XGDMatrixSetDenseInfo\n",
            "\tInnerException: AttributeError: /anaconda/envs/azureml_py36/lib/libxgboost.so: undefined symbol: XGDMatrixSetDenseInfo\n",
            "\tErrorResponse \n",
            "{\n",
            "    \"error\": {\n",
            "        \"code\": \"SystemError\",\n",
            "        \"message\": \"Encountered an internal AutoML error. Error Message/Code: FitException. Additional Info: FitException:\\n\\tMessage: /anaconda/envs/azureml_py36/lib/libxgboost.so: undefined symbol: XGDMatrixSetDenseInfo\\n\\tInnerException: None\\n\\tErrorResponse \\n{\\n    \\\"error\\\": {\\n        \\\"message\\\": \\\"/anaconda/envs/azureml_py36/lib/libxgboost.so: undefined symbol: XGDMatrixSetDenseInfo\\\",\\n        \\\"target\\\": \\\"Xgboost\\\",\\n        \\\"reference_code\\\": \\\"Xgboost\\\"\\n    }\\n}\",\n",
            "        \"details_uri\": \"https://docs.microsoft.com/azure/machine-learning/resource-known-issues#automated-machine-learning\",\n",
            "        \"target\": \"Xgboost\",\n",
            "        \"inner_error\": {\n",
            "            \"code\": \"ClientError\",\n",
            "            \"inner_error\": {\n",
            "                \"code\": \"AutoMLInternal\"\n",
            "            }\n",
            "        },\n",
            "        \"reference_code\": \"Xgboost\"\n",
            "    }\n",
            "}\n",
            "         2   MinMaxScaler RandomForest                      0:00:25       0.8800    0.8800\n",
            "         3   MinMaxScaler RandomForest                      0:00:29       0.8300    0.8800\n",
            "         4   MinMaxScaler RandomForest                      0:00:25       0.8650    0.8800\n",
            "         5   MinMaxScaler SVM                               0:00:25       0.8150    0.8800\n",
            "         6   MaxAbsScaler GradientBoosting                  0:00:30       0.8800    0.8800\n",
            "         7   StandardScalerWrapper RandomForest             0:00:25       0.8700    0.8800\n",
            "         8                                                  0:00:08          nan    0.8800\n",
            "ERROR: FitException:\n",
            "\tMessage: /anaconda/envs/azureml_py36/lib/libxgboost.so: undefined symbol: XGDMatrixSetDenseInfo\n",
            "\tInnerException: AttributeError: /anaconda/envs/azureml_py36/lib/libxgboost.so: undefined symbol: XGDMatrixSetDenseInfo\n",
            "\tErrorResponse \n",
            "{\n",
            "    \"error\": {\n",
            "        \"code\": \"SystemError\",\n",
            "        \"message\": \"Encountered an internal AutoML error. Error Message/Code: FitException. Additional Info: FitException:\\n\\tMessage: /anaconda/envs/azureml_py36/lib/libxgboost.so: undefined symbol: XGDMatrixSetDenseInfo\\n\\tInnerException: None\\n\\tErrorResponse \\n{\\n    \\\"error\\\": {\\n        \\\"message\\\": \\\"/anaconda/envs/azureml_py36/lib/libxgboost.so: undefined symbol: XGDMatrixSetDenseInfo\\\",\\n        \\\"target\\\": \\\"Xgboost\\\",\\n        \\\"reference_code\\\": \\\"Xgboost\\\"\\n    }\\n}\",\n",
            "        \"details_uri\": \"https://docs.microsoft.com/azure/machine-learning/resource-known-issues#automated-machine-learning\",\n",
            "        \"target\": \"Xgboost\",\n",
            "        \"inner_error\": {\n",
            "            \"code\": \"ClientError\",\n",
            "            \"inner_error\": {\n",
            "                \"code\": \"AutoMLInternal\"\n",
            "            }\n",
            "        },\n",
            "        \"reference_code\": \"Xgboost\"\n",
            "    }\n",
            "}\n",
            "         9   MaxAbsScaler SVM                               0:00:24       0.7750    0.8800\n",
            "        10   MaxAbsScaler LightGBM                          0:00:25       0.7550    0.8800\n",
            "        11   MinMaxScaler ExtremeRandomTrees                0:00:25       0.8300    0.8800\n",
            "        12   MaxAbsScaler RandomForest                      0:00:33       0.8350    0.8800\n",
            "        13   StandardScalerWrapper ExtremeRandomTrees       0:00:25       0.8250    0.8800\n",
            "        14                                                  0:00:08          nan    0.8800\n",
            "ERROR: FitException:\n",
            "\tMessage: /anaconda/envs/azureml_py36/lib/libxgboost.so: undefined symbol: XGDMatrixSetDenseInfo\n",
            "\tInnerException: AttributeError: /anaconda/envs/azureml_py36/lib/libxgboost.so: undefined symbol: XGDMatrixSetDenseInfo\n",
            "\tErrorResponse \n",
            "{\n",
            "    \"error\": {\n",
            "        \"code\": \"SystemError\",\n",
            "        \"message\": \"Encountered an internal AutoML error. Error Message/Code: FitException. Additional Info: FitException:\\n\\tMessage: /anaconda/envs/azureml_py36/lib/libxgboost.so: undefined symbol: XGDMatrixSetDenseInfo\\n\\tInnerException: None\\n\\tErrorResponse \\n{\\n    \\\"error\\\": {\\n        \\\"message\\\": \\\"/anaconda/envs/azureml_py36/lib/libxgboost.so: undefined symbol: XGDMatrixSetDenseInfo\\\",\\n        \\\"target\\\": \\\"Xgboost\\\",\\n        \\\"reference_code\\\": \\\"Xgboost\\\"\\n    }\\n}\",\n",
            "        \"details_uri\": \"https://docs.microsoft.com/azure/machine-learning/resource-known-issues#automated-machine-learning\",\n",
            "        \"target\": \"Xgboost\",\n",
            "        \"inner_error\": {\n",
            "            \"code\": \"ClientError\",\n",
            "            \"inner_error\": {\n",
            "                \"code\": \"AutoMLInternal\"\n",
            "            }\n",
            "        },\n",
            "        \"reference_code\": \"Xgboost\"\n",
            "    }\n",
            "}\n",
            "        15   StandardScalerWrapper ExtremeRandomTrees       0:00:30       0.8350    0.8800\n",
            "        16   StandardScalerWrapper LightGBM                 0:00:27       0.8150    0.8800\n",
            "        17   Received interrupt. Returning now.\n"
          ]
        },
        {
          "output_type": "display_data",
          "data": {
            "text/plain": "_AutoMLWidget(widget_settings={'childWidgetDisplay': 'popup', 'send_telemetry': False, 'log_level': 'INFO', 's…",
            "application/vnd.jupyter.widget-view+json": {
              "version_major": 2,
              "version_minor": 0,
              "model_id": "d8527aa21eb44a268587dcec654524eb"
            }
          },
          "metadata": {}
        },
        {
          "output_type": "display_data",
          "data": {
            "application/aml.mini.widget.v1": "{\"status\": \"Canceled\", \"workbench_run_details_uri\": \"https://ml.azure.com/experiments/auto-ml/runs/AutoML_4f25edac-9cc6-4736-af67-0c39ac9ca2f7?wsid=/subscriptions/9e65f93e-bdd8-437b-b1e8-0647cd6098f7/resourcegroups/aml-quickstarts-139764/workspaces/quick-starts-ws-139764\", \"run_id\": \"AutoML_4f25edac-9cc6-4736-af67-0c39ac9ca2f7\", \"run_properties\": {\"run_id\": \"AutoML_4f25edac-9cc6-4736-af67-0c39ac9ca2f7\", \"created_utc\": \"2021-03-04T04:26:17.588354Z\", \"properties\": {\"num_iterations\": \"1000\", \"training_type\": \"TrainFull\", \"acquisition_function\": \"EI\", \"primary_metric\": \"accuracy\", \"train_split\": \"0\", \"acquisition_parameter\": \"0\", \"num_cross_validation\": \"2\", \"target\": \"local\", \"AMLSettingsJsonString\": \"{\\\"path\\\":null,\\\"name\\\":\\\"auto-ml\\\",\\\"subscription_id\\\":\\\"9e65f93e-bdd8-437b-b1e8-0647cd6098f7\\\",\\\"resource_group\\\":\\\"aml-quickstarts-139764\\\",\\\"workspace_name\\\":\\\"quick-starts-ws-139764\\\",\\\"region\\\":\\\"southcentralus\\\",\\\"compute_target\\\":\\\"local\\\",\\\"spark_service\\\":null,\\\"azure_service\\\":\\\"Microsoft.AzureNotebookVM\\\",\\\"many_models\\\":false,\\\"pipeline_fetch_max_batch_size\\\":1,\\\"iterations\\\":1000,\\\"primary_metric\\\":\\\"accuracy\\\",\\\"task_type\\\":\\\"classification\\\",\\\"data_script\\\":null,\\\"validation_size\\\":0.0,\\\"n_cross_validations\\\":2,\\\"y_min\\\":null,\\\"y_max\\\":null,\\\"num_classes\\\":2,\\\"featurization\\\":\\\"auto\\\",\\\"_ignore_package_version_incompatibilities\\\":false,\\\"is_timeseries\\\":false,\\\"max_cores_per_iteration\\\":1,\\\"max_concurrent_iterations\\\":1,\\\"iteration_timeout_minutes\\\":null,\\\"mem_in_mb\\\":null,\\\"enforce_time_on_windows\\\":false,\\\"experiment_timeout_minutes\\\":15,\\\"experiment_exit_score\\\":null,\\\"whitelist_models\\\":null,\\\"blacklist_algos\\\":[\\\"TensorFlowLinearClassifier\\\",\\\"TensorFlowDNN\\\"],\\\"supported_models\\\":[\\\"MultinomialNaiveBayes\\\",\\\"LinearSVM\\\",\\\"TensorFlowLinearClassifier\\\",\\\"RandomForest\\\",\\\"LightGBM\\\",\\\"XGBoostClassifier\\\",\\\"DecisionTree\\\",\\\"ExtremeRandomTrees\\\",\\\"SVM\\\",\\\"GradientBoosting\\\",\\\"LogisticRegression\\\",\\\"BernoulliNaiveBayes\\\",\\\"TensorFlowDNN\\\",\\\"SGD\\\",\\\"KNN\\\",\\\"AveragedPerceptronClassifier\\\"],\\\"private_models\\\":[],\\\"auto_blacklist\\\":true,\\\"blacklist_samples_reached\\\":false,\\\"exclude_nan_labels\\\":true,\\\"verbosity\\\":20,\\\"_debug_log\\\":\\\"automl.log\\\",\\\"show_warnings\\\":false,\\\"model_explainability\\\":true,\\\"service_url\\\":null,\\\"sdk_url\\\":null,\\\"sdk_packages\\\":null,\\\"enable_onnx_compatible_models\\\":false,\\\"enable_split_onnx_featurizer_estimator_models\\\":false,\\\"vm_type\\\":null,\\\"telemetry_verbosity\\\":20,\\\"send_telemetry\\\":true,\\\"enable_dnn\\\":false,\\\"scenario\\\":\\\"SDK-1.13.0\\\",\\\"environment_label\\\":null,\\\"force_text_dnn\\\":false,\\\"enable_feature_sweeping\\\":true,\\\"enable_early_stopping\\\":false,\\\"early_stopping_n_iters\\\":10,\\\"metrics\\\":null,\\\"enable_ensembling\\\":true,\\\"enable_stack_ensembling\\\":true,\\\"ensemble_iterations\\\":15,\\\"enable_tf\\\":false,\\\"enable_subsampling\\\":null,\\\"subsample_seed\\\":null,\\\"enable_nimbusml\\\":false,\\\"enable_streaming\\\":false,\\\"force_streaming\\\":false,\\\"track_child_runs\\\":true,\\\"allowed_private_models\\\":[],\\\"label_column_name\\\":\\\"DEATH_EVENT\\\",\\\"weight_column_name\\\":null,\\\"cv_split_column_names\\\":null,\\\"enable_local_managed\\\":false,\\\"_local_managed_run_id\\\":null,\\\"cost_mode\\\":1,\\\"lag_length\\\":0,\\\"metric_operation\\\":\\\"maximize\\\",\\\"preprocess\\\":true}\", \"DataPrepJsonString\": null, \"EnableSubsampling\": null, \"runTemplate\": \"AutoML\", \"azureml.runsource\": \"automl\", \"display_task_type\": \"classification\", \"dependencies_versions\": \"{\\\"azureml-widgets\\\": \\\"1.22.0\\\", \\\"azureml-train\\\": \\\"1.22.0\\\", \\\"azureml-train-restclients-hyperdrive\\\": \\\"1.22.0\\\", \\\"azureml-train-core\\\": \\\"1.22.0\\\", \\\"azureml-train-automl\\\": \\\"1.22.0\\\", \\\"azureml-train-automl-runtime\\\": \\\"1.22.0\\\", \\\"azureml-train-automl-client\\\": \\\"1.22.0\\\", \\\"azureml-tensorboard\\\": \\\"1.22.0\\\", \\\"azureml-telemetry\\\": \\\"1.22.0\\\", \\\"azureml-sdk\\\": \\\"1.22.0\\\", \\\"azureml-samples\\\": \\\"0+unknown\\\", \\\"azureml-pipeline\\\": \\\"1.22.0\\\", \\\"azureml-pipeline-steps\\\": \\\"1.22.0\\\", \\\"azureml-pipeline-core\\\": \\\"1.22.0\\\", \\\"azureml-opendatasets\\\": \\\"1.22.0\\\", \\\"azureml-model-management-sdk\\\": \\\"1.0.1b6.post1\\\", \\\"azureml-mlflow\\\": \\\"1.22.0\\\", \\\"azureml-interpret\\\": \\\"1.22.0\\\", \\\"azureml-explain-model\\\": \\\"1.22.0\\\", \\\"azureml-defaults\\\": \\\"1.22.0\\\", \\\"azureml-dataset-runtime\\\": \\\"1.22.0\\\", \\\"azureml-dataprep\\\": \\\"2.9.1\\\", \\\"azureml-dataprep-rslex\\\": \\\"1.7.0\\\", \\\"azureml-dataprep-native\\\": \\\"29.0.0\\\", \\\"azureml-datadrift\\\": \\\"1.22.0\\\", \\\"azureml-core\\\": \\\"1.22.0\\\", \\\"azureml-contrib-services\\\": \\\"1.22.0\\\", \\\"azureml-contrib-server\\\": \\\"1.22.0\\\", \\\"azureml-contrib-reinforcementlearning\\\": \\\"1.22.0\\\", \\\"azureml-contrib-pipeline-steps\\\": \\\"1.22.0\\\", \\\"azureml-contrib-notebook\\\": \\\"1.22.0\\\", \\\"azureml-contrib-interpret\\\": \\\"1.22.0\\\", \\\"azureml-contrib-gbdt\\\": \\\"1.22.0\\\", \\\"azureml-contrib-fairness\\\": \\\"1.22.0\\\", \\\"azureml-contrib-dataset\\\": \\\"1.22.0\\\", \\\"azureml-cli-common\\\": \\\"1.22.0\\\", \\\"azureml-automl-runtime\\\": \\\"1.22.0\\\", \\\"azureml-automl-core\\\": \\\"1.22.0\\\", \\\"azureml-accel-models\\\": \\\"1.22.0\\\"}\", \"_aml_system_scenario_identification\": \"Local.Parent\", \"ClientSdkVersion\": \"1.22.0\", \"ClientType\": \"SDK\", \"environment_cpu_name\": \"AzureML-AutoML\", \"environment_cpu_label\": \"prod\", \"environment_gpu_name\": \"AzureML-AutoML-GPU\", \"environment_gpu_label\": \"prod\", \"root_attribution\": \"automl\", \"attribution\": \"AutoML\", \"Orchestrator\": \"AutoML\", \"_azureml.ComputeTargetType\": \"local\", \"ProblemInfoJsonString\": \"{\\\"dataset_num_categorical\\\": 0, \\\"is_sparse\\\": false, \\\"subsampling\\\": false, \\\"dataset_classes\\\": 2, \\\"dataset_features\\\": 12, \\\"dataset_samples\\\": 200, \\\"single_frequency_class_detected\\\": false}\", \"feature_skus\": \"automatedml_sdk_guardrails\"}, \"tags\": {\"model_explain_run\": \"best_run\", \"automl_best_child_run_id\": \"AutoML_4f25edac-9cc6-4736-af67-0c39ac9ca2f7_2\"}, \"end_time_utc\": \"2021-03-04T04:34:06.839638Z\", \"status\": \"Canceled\", \"log_files\": {}, \"log_groups\": [], \"run_duration\": \"0:07:49\", \"run_number\": \"1\", \"run_queued_details\": {\"status\": \"Canceled\", \"details\": null}}, \"child_runs\": [{\"run_id\": \"AutoML_4f25edac-9cc6-4736-af67-0c39ac9ca2f7_0\", \"run_number\": 2, \"metric\": null, \"status\": \"Completed\", \"run_type\": null, \"training_percent\": \"100\", \"start_time\": \"2021-03-04T04:26:30.408301Z\", \"end_time\": \"2021-03-04T04:26:58.225629Z\", \"created_time\": \"2021-03-04T04:26:30.325195Z\", \"created_time_dt\": \"2021-03-04T04:26:30.325195Z\", \"duration\": \"0:00:27\", \"iteration\": \"0\", \"goal\": \"accuracy_max\", \"run_name\": \"MaxAbsScaler, LightGBM\", \"run_properties\": \"copy=True\", \"primary_metric\": 0.81, \"best_metric\": 0.81}, {\"run_id\": \"AutoML_4f25edac-9cc6-4736-af67-0c39ac9ca2f7_1\", \"run_number\": 3, \"metric\": null, \"status\": \"Failed\", \"run_type\": null, \"training_percent\": \"100\", \"start_time\": \"2021-03-04T04:26:58.535604Z\", \"end_time\": \"2021-03-04T04:27:07.425262Z\", \"created_time\": \"2021-03-04T04:26:58.451998Z\", \"created_time_dt\": \"2021-03-04T04:26:58.451998Z\", \"duration\": \"0:00:08\", \"iteration\": \"1\", \"goal\": \"accuracy_max\", \"run_name\": \"MaxAbsScaler, XGBoostClassifier\", \"run_properties\": \"\"}, {\"run_id\": \"AutoML_4f25edac-9cc6-4736-af67-0c39ac9ca2f7_2\", \"run_number\": 4, \"metric\": null, \"status\": \"Completed\", \"run_type\": null, \"training_percent\": \"100\", \"start_time\": \"2021-03-04T04:27:08.088619Z\", \"end_time\": \"2021-03-04T04:27:33.687503Z\", \"created_time\": \"2021-03-04T04:27:07.998097Z\", \"created_time_dt\": \"2021-03-04T04:27:07.998097Z\", \"duration\": \"0:00:25\", \"iteration\": \"2\", \"goal\": \"accuracy_max\", \"run_name\": \"MinMaxScaler, RandomForest\", \"run_properties\": \"copy=True, feature_range=(0, 1\", \"primary_metric\": 0.88, \"best_metric\": 0.88}, {\"run_id\": \"AutoML_4f25edac-9cc6-4736-af67-0c39ac9ca2f7_3\", \"run_number\": 5, \"metric\": null, \"status\": \"Completed\", \"run_type\": null, \"training_percent\": \"100\", \"start_time\": \"2021-03-04T04:27:34.901967Z\", \"end_time\": \"2021-03-04T04:28:04.729192Z\", \"created_time\": \"2021-03-04T04:27:34.822469Z\", \"created_time_dt\": \"2021-03-04T04:27:34.822469Z\", \"duration\": \"0:00:29\", \"iteration\": \"3\", \"goal\": \"accuracy_max\", \"run_name\": \"MinMaxScaler, RandomForest\", \"run_properties\": \"copy=True, feature_range=(0, 1\", \"primary_metric\": 0.83, \"best_metric\": 0.88}, {\"run_id\": \"AutoML_4f25edac-9cc6-4736-af67-0c39ac9ca2f7_4\", \"run_number\": 6, \"metric\": null, \"status\": \"Completed\", \"run_type\": null, \"training_percent\": \"100\", \"start_time\": \"2021-03-04T04:28:06.150862Z\", \"end_time\": \"2021-03-04T04:28:31.439796Z\", \"created_time\": \"2021-03-04T04:28:06.072646Z\", \"created_time_dt\": \"2021-03-04T04:28:06.072646Z\", \"duration\": \"0:00:25\", \"iteration\": \"4\", \"goal\": \"accuracy_max\", \"run_name\": \"MinMaxScaler, RandomForest\", \"run_properties\": \"copy=True, feature_range=(0, 1\", \"primary_metric\": 0.865, \"best_metric\": 0.88}, {\"run_id\": \"AutoML_4f25edac-9cc6-4736-af67-0c39ac9ca2f7_5\", \"run_number\": 7, \"metric\": null, \"status\": \"Completed\", \"run_type\": null, \"training_percent\": \"100\", \"start_time\": \"2021-03-04T04:28:32.64216Z\", \"end_time\": \"2021-03-04T04:28:58.133333Z\", \"created_time\": \"2021-03-04T04:28:32.548365Z\", \"created_time_dt\": \"2021-03-04T04:28:32.548365Z\", \"duration\": \"0:00:25\", \"iteration\": \"5\", \"goal\": \"accuracy_max\", \"run_name\": \"MinMaxScaler, SVM\", \"run_properties\": \"copy=True, feature_range=(0, 1\", \"primary_metric\": 0.815, \"best_metric\": 0.88}, {\"run_id\": \"AutoML_4f25edac-9cc6-4736-af67-0c39ac9ca2f7_6\", \"run_number\": 8, \"metric\": null, \"status\": \"Completed\", \"run_type\": null, \"training_percent\": \"100\", \"start_time\": \"2021-03-04T04:28:59.280915Z\", \"end_time\": \"2021-03-04T04:29:29.296669Z\", \"created_time\": \"2021-03-04T04:28:59.179673Z\", \"created_time_dt\": \"2021-03-04T04:28:59.179673Z\", \"duration\": \"0:00:30\", \"iteration\": \"6\", \"goal\": \"accuracy_max\", \"run_name\": \"MaxAbsScaler, GradientBoosting\", \"run_properties\": \"copy=True\", \"primary_metric\": 0.88, \"best_metric\": 0.88}, {\"run_id\": \"AutoML_4f25edac-9cc6-4736-af67-0c39ac9ca2f7_7\", \"run_number\": 9, \"metric\": null, \"status\": \"Completed\", \"run_type\": null, \"training_percent\": \"100\", \"start_time\": \"2021-03-04T04:29:30.511219Z\", \"end_time\": \"2021-03-04T04:29:55.695028Z\", \"created_time\": \"2021-03-04T04:29:30.421839Z\", \"created_time_dt\": \"2021-03-04T04:29:30.421839Z\", \"duration\": \"0:00:25\", \"iteration\": \"7\", \"goal\": \"accuracy_max\", \"run_name\": \"StandardScalerWrapper, RandomForest\", \"run_properties\": \"<azureml.automl.runtime.shared.model_wrappers.StandardScalerWrapper object at 0x7fb5ff979320\", \"primary_metric\": 0.87, \"best_metric\": 0.88}, {\"run_id\": \"AutoML_4f25edac-9cc6-4736-af67-0c39ac9ca2f7_8\", \"run_number\": 10, \"metric\": null, \"status\": \"Failed\", \"run_type\": null, \"training_percent\": \"100\", \"start_time\": \"2021-03-04T04:29:56.835078Z\", \"end_time\": \"2021-03-04T04:30:05.271641Z\", \"created_time\": \"2021-03-04T04:29:56.746601Z\", \"created_time_dt\": \"2021-03-04T04:29:56.746601Z\", \"duration\": \"0:00:08\", \"iteration\": \"8\", \"goal\": \"accuracy_max\", \"run_name\": \"SparseNormalizer, XGBoostClassifier\", \"run_properties\": \"\"}, {\"run_id\": \"AutoML_4f25edac-9cc6-4736-af67-0c39ac9ca2f7_9\", \"run_number\": 11, \"metric\": null, \"status\": \"Completed\", \"run_type\": null, \"training_percent\": \"100\", \"start_time\": \"2021-03-04T04:30:06.505492Z\", \"end_time\": \"2021-03-04T04:30:31.373849Z\", \"created_time\": \"2021-03-04T04:30:06.407474Z\", \"created_time_dt\": \"2021-03-04T04:30:06.407474Z\", \"duration\": \"0:00:24\", \"iteration\": \"9\", \"goal\": \"accuracy_max\", \"run_name\": \"MaxAbsScaler, SVM\", \"run_properties\": \"copy=True\", \"primary_metric\": 0.775, \"best_metric\": 0.88}, {\"run_id\": \"AutoML_4f25edac-9cc6-4736-af67-0c39ac9ca2f7_10\", \"run_number\": 12, \"metric\": null, \"status\": \"Completed\", \"run_type\": null, \"training_percent\": \"100\", \"start_time\": \"2021-03-04T04:30:32.655374Z\", \"end_time\": \"2021-03-04T04:30:57.833945Z\", \"created_time\": \"2021-03-04T04:30:32.568439Z\", \"created_time_dt\": \"2021-03-04T04:30:32.568439Z\", \"duration\": \"0:00:25\", \"iteration\": \"10\", \"goal\": \"accuracy_max\", \"run_name\": \"MaxAbsScaler, LightGBM\", \"run_properties\": \"copy=True\", \"primary_metric\": 0.755, \"best_metric\": 0.88}, {\"run_id\": \"AutoML_4f25edac-9cc6-4736-af67-0c39ac9ca2f7_11\", \"run_number\": 13, \"metric\": null, \"status\": \"Completed\", \"run_type\": null, \"training_percent\": \"100\", \"start_time\": \"2021-03-04T04:30:59.069494Z\", \"end_time\": \"2021-03-04T04:31:24.913612Z\", \"created_time\": \"2021-03-04T04:30:58.985275Z\", \"created_time_dt\": \"2021-03-04T04:30:58.985275Z\", \"duration\": \"0:00:25\", \"iteration\": \"11\", \"goal\": \"accuracy_max\", \"run_name\": \"MinMaxScaler, ExtremeRandomTrees\", \"run_properties\": \"copy=True, feature_range=(0, 1\", \"primary_metric\": 0.83, \"best_metric\": 0.88}, {\"run_id\": \"AutoML_4f25edac-9cc6-4736-af67-0c39ac9ca2f7_12\", \"run_number\": 14, \"metric\": null, \"status\": \"Completed\", \"run_type\": null, \"training_percent\": \"100\", \"start_time\": \"2021-03-04T04:31:26.130051Z\", \"end_time\": \"2021-03-04T04:31:58.720714Z\", \"created_time\": \"2021-03-04T04:31:25.994665Z\", \"created_time_dt\": \"2021-03-04T04:31:25.994665Z\", \"duration\": \"0:00:32\", \"iteration\": \"12\", \"goal\": \"accuracy_max\", \"run_name\": \"MaxAbsScaler, RandomForest\", \"run_properties\": \"copy=True\", \"primary_metric\": 0.835, \"best_metric\": 0.88}, {\"run_id\": \"AutoML_4f25edac-9cc6-4736-af67-0c39ac9ca2f7_13\", \"run_number\": 15, \"metric\": null, \"status\": \"Completed\", \"run_type\": null, \"training_percent\": \"100\", \"start_time\": \"2021-03-04T04:32:00.756747Z\", \"end_time\": \"2021-03-04T04:32:26.146007Z\", \"created_time\": \"2021-03-04T04:32:00.567438Z\", \"created_time_dt\": \"2021-03-04T04:32:00.567438Z\", \"duration\": \"0:00:25\", \"iteration\": \"13\", \"goal\": \"accuracy_max\", \"run_name\": \"StandardScalerWrapper, ExtremeRandomTrees\", \"run_properties\": \"<azureml.automl.runtime.shared.model_wrappers.StandardScalerWrapper object at 0x7fb5ffb456a0\", \"primary_metric\": 0.825, \"best_metric\": 0.88}, {\"run_id\": \"AutoML_4f25edac-9cc6-4736-af67-0c39ac9ca2f7_14\", \"run_number\": 16, \"metric\": null, \"status\": \"Failed\", \"run_type\": null, \"training_percent\": \"100\", \"start_time\": \"2021-03-04T04:32:27.915095Z\", \"end_time\": \"2021-03-04T04:32:36.583052Z\", \"created_time\": \"2021-03-04T04:32:27.836076Z\", \"created_time_dt\": \"2021-03-04T04:32:27.836076Z\", \"duration\": \"0:00:08\", \"iteration\": \"14\", \"goal\": \"accuracy_max\", \"run_name\": \"SparseNormalizer, XGBoostClassifier\", \"run_properties\": \"\"}, {\"run_id\": \"AutoML_4f25edac-9cc6-4736-af67-0c39ac9ca2f7_15\", \"run_number\": 17, \"metric\": null, \"status\": \"Completed\", \"run_type\": null, \"training_percent\": \"100\", \"start_time\": \"2021-03-04T04:32:37.659081Z\", \"end_time\": \"2021-03-04T04:33:07.851111Z\", \"created_time\": \"2021-03-04T04:32:37.57241Z\", \"created_time_dt\": \"2021-03-04T04:32:37.57241Z\", \"duration\": \"0:00:30\", \"iteration\": \"15\", \"goal\": \"accuracy_max\", \"run_name\": \"StandardScalerWrapper, ExtremeRandomTrees\", \"run_properties\": \"<azureml.automl.runtime.shared.model_wrappers.StandardScalerWrapper object at 0x7fb726d24860\", \"primary_metric\": 0.835, \"best_metric\": 0.88}, {\"run_id\": \"AutoML_4f25edac-9cc6-4736-af67-0c39ac9ca2f7_16\", \"run_number\": 18, \"metric\": null, \"status\": \"Completed\", \"run_type\": null, \"training_percent\": \"100\", \"start_time\": \"2021-03-04T04:33:09.009586Z\", \"end_time\": \"2021-03-04T04:33:36.597782Z\", \"created_time\": \"2021-03-04T04:33:08.92096Z\", \"created_time_dt\": \"2021-03-04T04:33:08.92096Z\", \"duration\": \"0:00:27\", \"iteration\": \"16\", \"goal\": \"accuracy_max\", \"run_name\": \"StandardScalerWrapper, LightGBM\", \"run_properties\": \"<azureml.automl.runtime.shared.model_wrappers.StandardScalerWrapper object at 0x7fb726c2ae48\", \"primary_metric\": 0.815, \"best_metric\": 0.88}, {\"run_id\": \"AutoML_4f25edac-9cc6-4736-af67-0c39ac9ca2f7_17\", \"run_number\": 19, \"metric\": null, \"status\": \"Canceled\", \"run_type\": null, \"training_percent\": \"100\", \"start_time\": \"2021-03-04T04:33:37.794342Z\", \"end_time\": \"2021-03-04T04:33:59.481883Z\", \"created_time\": \"2021-03-04T04:33:37.707417Z\", \"created_time_dt\": \"2021-03-04T04:33:37.707417Z\", \"duration\": \"0:00:21\", \"iteration\": \"17\", \"goal\": \"accuracy_max\", \"run_name\": \"RobustScaler, LightGBM\", \"run_properties\": \"copy=True, quantile_range=[25, 75], with_centering=True,\\n             with_scaling=False\", \"primary_metric\": 0.82, \"best_metric\": 0.88}], \"children_metrics\": {\"categories\": [0], \"series\": {\"average_precision_score_micro\": [{\"categories\": [\"0\", \"2\", \"3\", \"4\", \"5\", \"6\", \"7\", \"9\", \"10\", \"11\", \"12\", \"13\", \"15\", \"16\", \"17\"], \"mode\": \"markers\", \"name\": \"average_precision_score_micro\", \"stepped\": false, \"type\": \"scatter\", \"data\": [0.9068873233451877, 0.9322220911887177, 0.9250061891674612, 0.9332094043419196, 0.8734893663269504, 0.9420853803392791, 0.9425343855482654, 0.8659208286465492, 0.8869272525298462, 0.9043119772847337, 0.930972200642447, 0.9050765835282807, 0.9291860494190456, 0.8979737137967615, 0.8894950055150082]}, {\"categories\": [\"0\", \"2\", \"3\", \"4\", \"5\", \"6\", \"7\", \"9\", \"10\", \"11\", \"12\", \"13\", \"15\", \"16\", \"17\"], \"mode\": \"lines\", \"name\": \"average_precision_score_micro_max\", \"stepped\": true, \"type\": \"scatter\", \"data\": [0.9068873233451877, 0.9322220911887177, 0.9322220911887177, 0.9332094043419196, 0.9332094043419196, 0.9420853803392791, 0.9425343855482654, 0.9425343855482654, 0.9425343855482654, 0.9425343855482654, 0.9425343855482654, 0.9425343855482654, 0.9425343855482654, 0.9425343855482654, 0.9425343855482654]}], \"norm_macro_recall\": [{\"categories\": [\"0\", \"2\", \"3\", \"4\", \"5\", \"6\", \"7\", \"9\", \"10\", \"11\", \"12\", \"13\", \"15\", \"16\", \"17\"], \"mode\": \"markers\", \"name\": \"norm_macro_recall\", \"stepped\": false, \"type\": \"scatter\", \"data\": [0.4763671685284119, 0.6790416059575846, 0.4665436295936539, 0.5912028492795856, 0.41557066537153964, 0.6664594463331714, 0.5982451028007123, 0.2591646430305975, 0.10468188440990778, 0.6088651448923427, 0.4504290108466894, 0.4292795855593331, 0.46652096486967776, 0.35166261939452814, 0.4226129188926664]}, {\"categories\": [\"0\", \"2\", \"3\", \"4\", \"5\", \"6\", \"7\", \"9\", \"10\", \"11\", \"12\", \"13\", \"15\", \"16\", \"17\"], \"mode\": \"lines\", \"name\": \"norm_macro_recall_max\", \"stepped\": true, \"type\": \"scatter\", \"data\": [0.4763671685284119, 0.6790416059575846, 0.6790416059575846, 0.6790416059575846, 0.6790416059575846, 0.6790416059575846, 0.6790416059575846, 0.6790416059575846, 0.6790416059575846, 0.6790416059575846, 0.6790416059575846, 0.6790416059575846, 0.6790416059575846, 0.6790416059575846, 0.6790416059575846]}], \"balanced_accuracy\": [{\"categories\": [\"0\", \"2\", \"3\", \"4\", \"5\", \"6\", \"7\", \"9\", \"10\", \"11\", \"12\", \"13\", \"15\", \"16\", \"17\"], \"mode\": \"markers\", \"name\": \"balanced_accuracy\", \"stepped\": false, \"type\": \"scatter\", \"data\": [0.7381835842642059, 0.8395208029787923, 0.7332718147968269, 0.7956014246397928, 0.7077853326857698, 0.8332297231665857, 0.7991225514003562, 0.6295823215152987, 0.5523409422049539, 0.8044325724461714, 0.7252145054233448, 0.7146397927796666, 0.7332604824348389, 0.6758313096972641, 0.7113064594463332]}, {\"categories\": [\"0\", \"2\", \"3\", \"4\", \"5\", \"6\", \"7\", \"9\", \"10\", \"11\", \"12\", \"13\", \"15\", \"16\", \"17\"], \"mode\": \"lines\", \"name\": \"balanced_accuracy_max\", \"stepped\": true, \"type\": \"scatter\", \"data\": [0.7381835842642059, 0.8395208029787923, 0.8395208029787923, 0.8395208029787923, 0.8395208029787923, 0.8395208029787923, 0.8395208029787923, 0.8395208029787923, 0.8395208029787923, 0.8395208029787923, 0.8395208029787923, 0.8395208029787923, 0.8395208029787923, 0.8395208029787923, 0.8395208029787923]}], \"accuracy\": [{\"categories\": [\"0\", \"2\", \"3\", \"4\", \"5\", \"6\", \"7\", \"9\", \"10\", \"11\", \"12\", \"13\", \"15\", \"16\", \"17\"], \"mode\": \"markers\", \"name\": \"accuracy\", \"stepped\": false, \"type\": \"scatter\", \"data\": [0.81, 0.88, 0.8300000000000001, 0.865, 0.815, 0.88, 0.87, 0.775, 0.755, 0.83, 0.835, 0.825, 0.835, 0.815, 0.8200000000000001]}, {\"categories\": [\"0\", \"2\", \"3\", \"4\", \"5\", \"6\", \"7\", \"9\", \"10\", \"11\", \"12\", \"13\", \"15\", \"16\", \"17\"], \"mode\": \"lines\", \"name\": \"accuracy_max\", \"stepped\": true, \"type\": \"scatter\", \"data\": [0.81, 0.88, 0.88, 0.88, 0.88, 0.88, 0.88, 0.88, 0.88, 0.88, 0.88, 0.88, 0.88, 0.88, 0.88]}], \"recall_score_macro\": [{\"categories\": [\"0\", \"2\", \"3\", \"4\", \"5\", \"6\", \"7\", \"9\", \"10\", \"11\", \"12\", \"13\", \"15\", \"16\", \"17\"], \"mode\": \"markers\", \"name\": \"recall_score_macro\", \"stepped\": false, \"type\": \"scatter\", \"data\": [0.7381835842642059, 0.8395208029787923, 0.7332718147968269, 0.7956014246397928, 0.7077853326857698, 0.8332297231665857, 0.7991225514003562, 0.6295823215152987, 0.5523409422049539, 0.8044325724461714, 0.7252145054233448, 0.7146397927796666, 0.7332604824348389, 0.6758313096972641, 0.7113064594463332]}, {\"categories\": [\"0\", \"2\", \"3\", \"4\", \"5\", \"6\", \"7\", \"9\", \"10\", \"11\", \"12\", \"13\", \"15\", \"16\", \"17\"], \"mode\": \"lines\", \"name\": \"recall_score_macro_max\", \"stepped\": true, \"type\": \"scatter\", \"data\": [0.7381835842642059, 0.8395208029787923, 0.8395208029787923, 0.8395208029787923, 0.8395208029787923, 0.8395208029787923, 0.8395208029787923, 0.8395208029787923, 0.8395208029787923, 0.8395208029787923, 0.8395208029787923, 0.8395208029787923, 0.8395208029787923, 0.8395208029787923, 0.8395208029787923]}], \"AUC_weighted\": [{\"categories\": [\"0\", \"2\", \"3\", \"4\", \"5\", \"6\", \"7\", \"9\", \"10\", \"11\", \"12\", \"13\", \"15\", \"16\", \"17\"], \"mode\": \"markers\", \"name\": \"AUC_weighted\", \"stepped\": false, \"type\": \"scatter\", \"data\": [0.8702254168690302, 0.9196829528897523, 0.9058996924073175, 0.9289606605148131, 0.8177028978468512, 0.9276415088230533, 0.9299132912417031, 0.8137363768819816, 0.8976052452646915, 0.8934798122065728, 0.9276324429334628, 0.88223785008904, 0.9216409260158652, 0.8935246883600454, 0.8695729318439371]}, {\"categories\": [\"0\", \"2\", \"3\", \"4\", \"5\", \"6\", \"7\", \"9\", \"10\", \"11\", \"12\", \"13\", \"15\", \"16\", \"17\"], \"mode\": \"lines\", \"name\": \"AUC_weighted_max\", \"stepped\": true, \"type\": \"scatter\", \"data\": [0.8702254168690302, 0.9196829528897523, 0.9196829528897523, 0.9289606605148131, 0.9289606605148131, 0.9289606605148131, 0.9299132912417031, 0.9299132912417031, 0.9299132912417031, 0.9299132912417031, 0.9299132912417031, 0.9299132912417031, 0.9299132912417031, 0.9299132912417031, 0.9299132912417031]}], \"average_precision_score_weighted\": [{\"categories\": [\"0\", \"2\", \"3\", \"4\", \"5\", \"6\", \"7\", \"9\", \"10\", \"11\", \"12\", \"13\", \"15\", \"16\", \"17\"], \"mode\": \"markers\", \"name\": \"average_precision_score_weighted\", \"stepped\": false, \"type\": \"scatter\", \"data\": [0.8820937322303385, 0.9196033181002821, 0.905424071274926, 0.9237609761586284, 0.8537161650592693, 0.9279456857334241, 0.9323534197445212, 0.8487259528799449, 0.9015947830736246, 0.907052596284927, 0.9304281893514563, 0.9026724191397419, 0.9298221181307823, 0.8956354919512196, 0.8762563900691762]}, {\"categories\": [\"0\", \"2\", \"3\", \"4\", \"5\", \"6\", \"7\", \"9\", \"10\", \"11\", \"12\", \"13\", \"15\", \"16\", \"17\"], \"mode\": \"lines\", \"name\": \"average_precision_score_weighted_max\", \"stepped\": true, \"type\": \"scatter\", \"data\": [0.8820937322303385, 0.9196033181002821, 0.9196033181002821, 0.9237609761586284, 0.9237609761586284, 0.9279456857334241, 0.9323534197445212, 0.9323534197445212, 0.9323534197445212, 0.9323534197445212, 0.9323534197445212, 0.9323534197445212, 0.9323534197445212, 0.9323534197445212, 0.9323534197445212]}], \"f1_score_macro\": [{\"categories\": [\"0\", \"2\", \"3\", \"4\", \"5\", \"6\", \"7\", \"9\", \"10\", \"11\", \"12\", \"13\", \"15\", \"16\", \"17\"], \"mode\": \"markers\", \"name\": \"f1_score_macro\", \"stepped\": false, \"type\": \"scatter\", \"data\": [0.7466666666666667, 0.8445167607374722, 0.7567957659347263, 0.8127350827774504, 0.7274430120489737, 0.8420844848006317, 0.8181387487701767, 0.6328565948819114, 0.5266300681632808, 0.7915173030520286, 0.7535381760691091, 0.7377220110768201, 0.7568492484784849, 0.7034309965741168, 0.7324083283437826]}, {\"categories\": [\"0\", \"2\", \"3\", \"4\", \"5\", \"6\", \"7\", \"9\", \"10\", \"11\", \"12\", \"13\", \"15\", \"16\", \"17\"], \"mode\": \"lines\", \"name\": \"f1_score_macro_max\", \"stepped\": true, \"type\": \"scatter\", \"data\": [0.7466666666666667, 0.8445167607374722, 0.8445167607374722, 0.8445167607374722, 0.8445167607374722, 0.8445167607374722, 0.8445167607374722, 0.8445167607374722, 0.8445167607374722, 0.8445167607374722, 0.8445167607374722, 0.8445167607374722, 0.8445167607374722, 0.8445167607374722, 0.8445167607374722]}], \"f1_score_micro\": [{\"categories\": [\"0\", \"2\", \"3\", \"4\", \"5\", \"6\", \"7\", \"9\", \"10\", \"11\", \"12\", \"13\", \"15\", \"16\", \"17\"], \"mode\": \"markers\", \"name\": \"f1_score_micro\", \"stepped\": false, \"type\": \"scatter\", \"data\": [0.81, 0.88, 0.8300000000000001, 0.865, 0.8150000000000001, 0.88, 0.87, 0.7750000000000001, 0.7549999999999999, 0.8299999999999998, 0.835, 0.825, 0.835, 0.815, 0.8200000000000001]}, {\"categories\": [\"0\", \"2\", \"3\", \"4\", \"5\", \"6\", \"7\", \"9\", \"10\", \"11\", \"12\", \"13\", \"15\", \"16\", \"17\"], \"mode\": \"lines\", \"name\": \"f1_score_micro_max\", \"stepped\": true, \"type\": \"scatter\", \"data\": [0.81, 0.88, 0.88, 0.88, 0.88, 0.88, 0.88, 0.88, 0.88, 0.88, 0.88, 0.88, 0.88, 0.88, 0.88]}], \"log_loss\": [{\"categories\": [\"0\", \"2\", \"3\", \"4\", \"5\", \"6\", \"7\", \"9\", \"10\", \"11\", \"12\", \"13\", \"15\", \"16\", \"17\"], \"mode\": \"markers\", \"name\": \"log_loss\", \"stepped\": false, \"type\": \"scatter\", \"data\": [0.4549031880038983, 0.3275593142710671, 0.37092347951459703, 0.3278391846712405, 0.44970990362346364, 0.3222558236448966, 0.33179232330111064, 0.4602003445912529, 0.46885971090305023, 0.4437172734958871, 0.3798338713197981, 0.415529175863946, 0.3838377567804778, 0.4184250263701142, 0.4222990063652601]}, {\"categories\": [\"0\", \"2\", \"3\", \"4\", \"5\", \"6\", \"7\", \"9\", \"10\", \"11\", \"12\", \"13\", \"15\", \"16\", \"17\"], \"mode\": \"lines\", \"name\": \"log_loss_min\", \"stepped\": true, \"type\": \"scatter\", \"data\": [0.4549031880038983, 0.3275593142710671, 0.3275593142710671, 0.3275593142710671, 0.3275593142710671, 0.3222558236448966, 0.3222558236448966, 0.3222558236448966, 0.3222558236448966, 0.3222558236448966, 0.3222558236448966, 0.3222558236448966, 0.3222558236448966, 0.3222558236448966, 0.3222558236448966]}], \"f1_score_weighted\": [{\"categories\": [\"0\", \"2\", \"3\", \"4\", \"5\", \"6\", \"7\", \"9\", \"10\", \"11\", \"12\", \"13\", \"15\", \"16\", \"17\"], \"mode\": \"markers\", \"name\": \"f1_score_weighted\", \"stepped\": false, \"type\": \"scatter\", \"data\": [0.8046666666666666, 0.8780279441142038, 0.8178653347626451, 0.8573029952236895, 0.7976644176113348, 0.8774207132517436, 0.8619327226724913, 0.7356485286865034, 0.6777890247894426, 0.8327986694111026, 0.8186411969954399, 0.8064674104848978, 0.8194571156351476, 0.7867039934550288, 0.8020322399206951]}, {\"categories\": [\"0\", \"2\", \"3\", \"4\", \"5\", \"6\", \"7\", \"9\", \"10\", \"11\", \"12\", \"13\", \"15\", \"16\", \"17\"], \"mode\": \"lines\", \"name\": \"f1_score_weighted_max\", \"stepped\": true, \"type\": \"scatter\", \"data\": [0.8046666666666666, 0.8780279441142038, 0.8780279441142038, 0.8780279441142038, 0.8780279441142038, 0.8780279441142038, 0.8780279441142038, 0.8780279441142038, 0.8780279441142038, 0.8780279441142038, 0.8780279441142038, 0.8780279441142038, 0.8780279441142038, 0.8780279441142038, 0.8780279441142038]}], \"precision_score_weighted\": [{\"categories\": [\"0\", \"2\", \"3\", \"4\", \"5\", \"6\", \"7\", \"9\", \"10\", \"11\", \"12\", \"13\", \"15\", \"16\", \"17\"], \"mode\": \"markers\", \"name\": \"precision_score_weighted\", \"stepped\": false, \"type\": \"scatter\", \"data\": [0.8056600361663653, 0.8787724085421453, 0.8247560975609756, 0.8674147285737377, 0.8151815318302387, 0.8805304605304606, 0.876123903508772, 0.7778243763539765, 0.782552620274914, 0.8414127852504463, 0.8399677133391883, 0.831482367534999, 0.8413533377541997, 0.8246197225059585, 0.8262405303030302]}, {\"categories\": [\"0\", \"2\", \"3\", \"4\", \"5\", \"6\", \"7\", \"9\", \"10\", \"11\", \"12\", \"13\", \"15\", \"16\", \"17\"], \"mode\": \"lines\", \"name\": \"precision_score_weighted_max\", \"stepped\": true, \"type\": \"scatter\", \"data\": [0.8056600361663653, 0.8787724085421453, 0.8787724085421453, 0.8787724085421453, 0.8787724085421453, 0.8805304605304606, 0.8805304605304606, 0.8805304605304606, 0.8805304605304606, 0.8805304605304606, 0.8805304605304606, 0.8805304605304606, 0.8805304605304606, 0.8805304605304606, 0.8805304605304606]}], \"average_precision_score_macro\": [{\"categories\": [\"0\", \"2\", \"3\", \"4\", \"5\", \"6\", \"7\", \"9\", \"10\", \"11\", \"12\", \"13\", \"15\", \"16\", \"17\"], \"mode\": \"markers\", \"name\": \"average_precision_score_macro\", \"stepped\": false, \"type\": \"scatter\", \"data\": [0.8269434533200687, 0.8784432327290878, 0.8578324592921128, 0.884309827581784, 0.7948736957855316, 0.8889566815554745, 0.8990414503438655, 0.7883637944082967, 0.8645142663563491, 0.8629361244886444, 0.8981327707219231, 0.8622840374717599, 0.8941897640738314, 0.8570359931459288, 0.8302998780962824]}, {\"categories\": [\"0\", \"2\", \"3\", \"4\", \"5\", \"6\", \"7\", \"9\", \"10\", \"11\", \"12\", \"13\", \"15\", \"16\", \"17\"], \"mode\": \"lines\", \"name\": \"average_precision_score_macro_max\", \"stepped\": true, \"type\": \"scatter\", \"data\": [0.8269434533200687, 0.8784432327290878, 0.8784432327290878, 0.884309827581784, 0.884309827581784, 0.8889566815554745, 0.8990414503438655, 0.8990414503438655, 0.8990414503438655, 0.8990414503438655, 0.8990414503438655, 0.8990414503438655, 0.8990414503438655, 0.8990414503438655, 0.8990414503438655]}], \"recall_score_weighted\": [{\"categories\": [\"0\", \"2\", \"3\", \"4\", \"5\", \"6\", \"7\", \"9\", \"10\", \"11\", \"12\", \"13\", \"15\", \"16\", \"17\"], \"mode\": \"markers\", \"name\": \"recall_score_weighted\", \"stepped\": false, \"type\": \"scatter\", \"data\": [0.81, 0.88, 0.8300000000000001, 0.865, 0.815, 0.88, 0.87, 0.775, 0.755, 0.83, 0.835, 0.825, 0.835, 0.815, 0.8200000000000001]}, {\"categories\": [\"0\", \"2\", \"3\", \"4\", \"5\", \"6\", \"7\", \"9\", \"10\", \"11\", \"12\", \"13\", \"15\", \"16\", \"17\"], \"mode\": \"lines\", \"name\": \"recall_score_weighted_max\", \"stepped\": true, \"type\": \"scatter\", \"data\": [0.81, 0.88, 0.88, 0.88, 0.88, 0.88, 0.88, 0.88, 0.88, 0.88, 0.88, 0.88, 0.88, 0.88, 0.88]}], \"AUC_micro\": [{\"categories\": [\"0\", \"2\", \"3\", \"4\", \"5\", \"6\", \"7\", \"9\", \"10\", \"11\", \"12\", \"13\", \"15\", \"16\", \"17\"], \"mode\": \"markers\", \"name\": \"AUC_micro\", \"stepped\": false, \"type\": \"scatter\", \"data\": [0.9059999999999999, 0.9330499999999999, 0.9253, 0.93825, 0.873175, 0.9399, 0.9422999999999999, 0.86545, 0.8892, 0.9061, 0.93055, 0.9048499999999999, 0.92645, 0.9051, 0.8986000000000001]}, {\"categories\": [\"0\", \"2\", \"3\", \"4\", \"5\", \"6\", \"7\", \"9\", \"10\", \"11\", \"12\", \"13\", \"15\", \"16\", \"17\"], \"mode\": \"lines\", \"name\": \"AUC_micro_max\", \"stepped\": true, \"type\": \"scatter\", \"data\": [0.9059999999999999, 0.9330499999999999, 0.9330499999999999, 0.93825, 0.93825, 0.9399, 0.9422999999999999, 0.9422999999999999, 0.9422999999999999, 0.9422999999999999, 0.9422999999999999, 0.9422999999999999, 0.9422999999999999, 0.9422999999999999, 0.9422999999999999]}], \"matthews_correlation\": [{\"categories\": [\"0\", \"2\", \"3\", \"4\", \"5\", \"6\", \"7\", \"9\", \"10\", \"11\", \"12\", \"13\", \"15\", \"16\", \"17\"], \"mode\": \"markers\", \"name\": \"matthews_correlation\", \"stepped\": false, \"type\": \"scatter\", \"data\": [0.5010440091219422, 0.6923500855443139, 0.5373504273545926, 0.646877911828589, 0.4966987654681602, 0.6910794355120486, 0.6628678031329813, 0.3587544860095764, 0.2557670628917329, 0.5906016757221506, 0.5528767042407342, 0.5272576639623806, 0.5583313058063177, 0.4886409005540659, 0.5148003005898977]}, {\"categories\": [\"0\", \"2\", \"3\", \"4\", \"5\", \"6\", \"7\", \"9\", \"10\", \"11\", \"12\", \"13\", \"15\", \"16\", \"17\"], \"mode\": \"lines\", \"name\": \"matthews_correlation_max\", \"stepped\": true, \"type\": \"scatter\", \"data\": [0.5010440091219422, 0.6923500855443139, 0.6923500855443139, 0.6923500855443139, 0.6923500855443139, 0.6923500855443139, 0.6923500855443139, 0.6923500855443139, 0.6923500855443139, 0.6923500855443139, 0.6923500855443139, 0.6923500855443139, 0.6923500855443139, 0.6923500855443139, 0.6923500855443139]}], \"precision_score_macro\": [{\"categories\": [\"0\", \"2\", \"3\", \"4\", \"5\", \"6\", \"7\", \"9\", \"10\", \"11\", \"12\", \"13\", \"15\", \"16\", \"17\"], \"mode\": \"markers\", \"name\": \"precision_score_macro\", \"stepped\": false, \"type\": \"scatter\", \"data\": [0.7642676311030742, 0.8534314932341248, 0.809620596205962, 0.856599385156726, 0.8004393236074271, 0.8592736092736093, 0.8708881578947368, 0.7640995772828485, 0.8130906357388316, 0.787221702474207, 0.8406631215108626, 0.8282902120621418, 0.8381686560565871, 0.8394939564181136, 0.818655303030303]}, {\"categories\": [\"0\", \"2\", \"3\", \"4\", \"5\", \"6\", \"7\", \"9\", \"10\", \"11\", \"12\", \"13\", \"15\", \"16\", \"17\"], \"mode\": \"lines\", \"name\": \"precision_score_macro_max\", \"stepped\": true, \"type\": \"scatter\", \"data\": [0.7642676311030742, 0.8534314932341248, 0.8534314932341248, 0.856599385156726, 0.856599385156726, 0.8592736092736093, 0.8708881578947368, 0.8708881578947368, 0.8708881578947368, 0.8708881578947368, 0.8708881578947368, 0.8708881578947368, 0.8708881578947368, 0.8708881578947368, 0.8708881578947368]}], \"precision_score_micro\": [{\"categories\": [\"0\", \"2\", \"3\", \"4\", \"5\", \"6\", \"7\", \"9\", \"10\", \"11\", \"12\", \"13\", \"15\", \"16\", \"17\"], \"mode\": \"markers\", \"name\": \"precision_score_micro\", \"stepped\": false, \"type\": \"scatter\", \"data\": [0.81, 0.88, 0.8300000000000001, 0.865, 0.815, 0.88, 0.87, 0.775, 0.755, 0.83, 0.835, 0.825, 0.835, 0.815, 0.8200000000000001]}, {\"categories\": [\"0\", \"2\", \"3\", \"4\", \"5\", \"6\", \"7\", \"9\", \"10\", \"11\", \"12\", \"13\", \"15\", \"16\", \"17\"], \"mode\": \"lines\", \"name\": \"precision_score_micro_max\", \"stepped\": true, \"type\": \"scatter\", \"data\": [0.81, 0.88, 0.88, 0.88, 0.88, 0.88, 0.88, 0.88, 0.88, 0.88, 0.88, 0.88, 0.88, 0.88, 0.88]}], \"weighted_accuracy\": [{\"categories\": [\"0\", \"2\", \"3\", \"4\", \"5\", \"6\", \"7\", \"9\", \"10\", \"11\", \"12\", \"13\", \"15\", \"16\", \"17\"], \"mode\": \"markers\", \"name\": \"weighted_accuracy\", \"stepped\": false, \"type\": \"scatter\", \"data\": [0.8572757565453928, 0.9071717103026182, 0.8928813328799728, 0.911417205032302, 0.8855566133968038, 0.9112424345460728, 0.9174525671540292, 0.8708010880652839, 0.8858707922475348, 0.847566133968038, 0.9065222713362802, 0.8975919755185312, 0.9020571234274057, 0.9050914654879294, 0.8915919755185312]}, {\"categories\": [\"0\", \"2\", \"3\", \"4\", \"5\", \"6\", \"7\", \"9\", \"10\", \"11\", \"12\", \"13\", \"15\", \"16\", \"17\"], \"mode\": \"lines\", \"name\": \"weighted_accuracy_max\", \"stepped\": true, \"type\": \"scatter\", \"data\": [0.8572757565453928, 0.9071717103026182, 0.9071717103026182, 0.911417205032302, 0.911417205032302, 0.911417205032302, 0.9174525671540292, 0.9174525671540292, 0.9174525671540292, 0.9174525671540292, 0.9174525671540292, 0.9174525671540292, 0.9174525671540292, 0.9174525671540292, 0.9174525671540292]}], \"recall_score_micro\": [{\"categories\": [\"0\", \"2\", \"3\", \"4\", \"5\", \"6\", \"7\", \"9\", \"10\", \"11\", \"12\", \"13\", \"15\", \"16\", \"17\"], \"mode\": \"markers\", \"name\": \"recall_score_micro\", \"stepped\": false, \"type\": \"scatter\", \"data\": [0.81, 0.88, 0.8300000000000001, 0.865, 0.815, 0.88, 0.87, 0.775, 0.755, 0.83, 0.835, 0.825, 0.835, 0.815, 0.8200000000000001]}, {\"categories\": [\"0\", \"2\", \"3\", \"4\", \"5\", \"6\", \"7\", \"9\", \"10\", \"11\", \"12\", \"13\", \"15\", \"16\", \"17\"], \"mode\": \"lines\", \"name\": \"recall_score_micro_max\", \"stepped\": true, \"type\": \"scatter\", \"data\": [0.81, 0.88, 0.88, 0.88, 0.88, 0.88, 0.88, 0.88, 0.88, 0.88, 0.88, 0.88, 0.88, 0.88, 0.88]}], \"AUC_macro\": [{\"categories\": [\"0\", \"2\", \"3\", \"4\", \"5\", \"6\", \"7\", \"9\", \"10\", \"11\", \"12\", \"13\", \"15\", \"16\", \"17\"], \"mode\": \"markers\", \"name\": \"AUC_macro\", \"stepped\": false, \"type\": \"scatter\", \"data\": [0.8702254168690302, 0.9196829528897523, 0.9058996924073174, 0.9289606605148131, 0.8177028978468512, 0.9276415088230533, 0.9299132912417031, 0.8137363768819816, 0.8976052452646917, 0.8934798122065728, 0.9276324429334628, 0.88223785008904, 0.9216409260158653, 0.8935246883600454, 0.8695729318439371]}, {\"categories\": [\"0\", \"2\", \"3\", \"4\", \"5\", \"6\", \"7\", \"9\", \"10\", \"11\", \"12\", \"13\", \"15\", \"16\", \"17\"], \"mode\": \"lines\", \"name\": \"AUC_macro_max\", \"stepped\": true, \"type\": \"scatter\", \"data\": [0.8702254168690302, 0.9196829528897523, 0.9196829528897523, 0.9289606605148131, 0.9289606605148131, 0.9289606605148131, 0.9299132912417031, 0.9299132912417031, 0.9299132912417031, 0.9299132912417031, 0.9299132912417031, 0.9299132912417031, 0.9299132912417031, 0.9299132912417031, 0.9299132912417031]}]}, \"metricName\": null, \"primaryMetricName\": \"accuracy\", \"showLegend\": false}, \"run_metrics\": [{\"name\": \"precision_score_macro\", \"run_id\": \"AutoML_4f25edac-9cc6-4736-af67-0c39ac9ca2f7\", \"categories\": [0], \"series\": [{\"data\": [0.8534314932341248]}]}, {\"name\": \"average_precision_score_weighted\", \"run_id\": \"AutoML_4f25edac-9cc6-4736-af67-0c39ac9ca2f7\", \"categories\": [0], \"series\": [{\"data\": [0.9196033181002821]}]}, {\"name\": \"AUC_weighted\", \"run_id\": \"AutoML_4f25edac-9cc6-4736-af67-0c39ac9ca2f7\", \"categories\": [0], \"series\": [{\"data\": [0.9196829528897523]}]}, {\"name\": \"norm_macro_recall\", \"run_id\": \"AutoML_4f25edac-9cc6-4736-af67-0c39ac9ca2f7\", \"categories\": [0], \"series\": [{\"data\": [0.6790416059575846]}]}, {\"name\": \"weighted_accuracy\", \"run_id\": \"AutoML_4f25edac-9cc6-4736-af67-0c39ac9ca2f7\", \"categories\": [0], \"series\": [{\"data\": [0.9071717103026182]}]}, {\"name\": \"f1_score_macro\", \"run_id\": \"AutoML_4f25edac-9cc6-4736-af67-0c39ac9ca2f7\", \"categories\": [0], \"series\": [{\"data\": [0.8445167607374722]}]}, {\"name\": \"recall_score_macro\", \"run_id\": \"AutoML_4f25edac-9cc6-4736-af67-0c39ac9ca2f7\", \"categories\": [0], \"series\": [{\"data\": [0.8395208029787923]}]}, {\"name\": \"accuracy\", \"run_id\": \"AutoML_4f25edac-9cc6-4736-af67-0c39ac9ca2f7\", \"categories\": [0], \"series\": [{\"data\": [0.88]}]}, {\"name\": \"matthews_correlation\", \"run_id\": \"AutoML_4f25edac-9cc6-4736-af67-0c39ac9ca2f7\", \"categories\": [0], \"series\": [{\"data\": [0.6923500855443139]}]}, {\"name\": \"f1_score_weighted\", \"run_id\": \"AutoML_4f25edac-9cc6-4736-af67-0c39ac9ca2f7\", \"categories\": [0], \"series\": [{\"data\": [0.8780279441142038]}]}, {\"name\": \"precision_score_weighted\", \"run_id\": \"AutoML_4f25edac-9cc6-4736-af67-0c39ac9ca2f7\", \"categories\": [0], \"series\": [{\"data\": [0.8787724085421453]}]}, {\"name\": \"recall_score_micro\", \"run_id\": \"AutoML_4f25edac-9cc6-4736-af67-0c39ac9ca2f7\", \"categories\": [0], \"series\": [{\"data\": [0.88]}]}, {\"name\": \"log_loss\", \"run_id\": \"AutoML_4f25edac-9cc6-4736-af67-0c39ac9ca2f7\", \"categories\": [0], \"series\": [{\"data\": [0.3275593142710671]}]}, {\"name\": \"AUC_micro\", \"run_id\": \"AutoML_4f25edac-9cc6-4736-af67-0c39ac9ca2f7\", \"categories\": [0], \"series\": [{\"data\": [0.9330499999999999]}]}, {\"name\": \"recall_score_weighted\", \"run_id\": \"AutoML_4f25edac-9cc6-4736-af67-0c39ac9ca2f7\", \"categories\": [0], \"series\": [{\"data\": [0.88]}]}, {\"name\": \"f1_score_micro\", \"run_id\": \"AutoML_4f25edac-9cc6-4736-af67-0c39ac9ca2f7\", \"categories\": [0], \"series\": [{\"data\": [0.88]}]}, {\"name\": \"balanced_accuracy\", \"run_id\": \"AutoML_4f25edac-9cc6-4736-af67-0c39ac9ca2f7\", \"categories\": [0], \"series\": [{\"data\": [0.8395208029787923]}]}, {\"name\": \"precision_score_micro\", \"run_id\": \"AutoML_4f25edac-9cc6-4736-af67-0c39ac9ca2f7\", \"categories\": [0], \"series\": [{\"data\": [0.88]}]}, {\"name\": \"AUC_macro\", \"run_id\": \"AutoML_4f25edac-9cc6-4736-af67-0c39ac9ca2f7\", \"categories\": [0], \"series\": [{\"data\": [0.9196829528897523]}]}, {\"name\": \"average_precision_score_macro\", \"run_id\": \"AutoML_4f25edac-9cc6-4736-af67-0c39ac9ca2f7\", \"categories\": [0], \"series\": [{\"data\": [0.8784432327290878]}]}, {\"name\": \"average_precision_score_micro\", \"run_id\": \"AutoML_4f25edac-9cc6-4736-af67-0c39ac9ca2f7\", \"categories\": [0], \"series\": [{\"data\": [0.9322220911887177]}]}], \"run_logs\": \"\\nRun is canceled.\", \"graph\": {}, \"widget_settings\": {\"childWidgetDisplay\": \"popup\", \"send_telemetry\": false, \"log_level\": \"INFO\", \"sdk_version\": \"1.22.0\"}, \"loading\": false}"
          },
          "metadata": {}
        }
      ],
      "execution_count": 11,
      "metadata": {
        "collapsed": true,
        "jupyter": {
          "source_hidden": false,
          "outputs_hidden": false
        },
        "nteract": {
          "transient": {
            "deleting": false
          }
        },
        "gather": {
          "logged": 1614832456903
        }
      }
    },
    {
      "cell_type": "code",
      "source": [
        "best_run, fitted_model = remote_run.get_output()"
      ],
      "outputs": [],
      "execution_count": 50,
      "metadata": {
        "collapsed": true,
        "jupyter": {
          "source_hidden": false,
          "outputs_hidden": false
        },
        "nteract": {
          "transient": {
            "deleting": false
          }
        },
        "gather": {
          "logged": 1614756202661
        }
      }
    },
    {
      "cell_type": "code",
      "source": [
        "best_run.get_file_names()"
      ],
      "outputs": [
        {
          "output_type": "execute_result",
          "execution_count": 51,
          "data": {
            "text/plain": "['accuracy_table',\n 'confusion_matrix',\n 'explanation/173e30fe/classes.interpret.json',\n 'explanation/173e30fe/eval_data_viz.interpret.json',\n 'explanation/173e30fe/expected_values.interpret.json',\n 'explanation/173e30fe/features.interpret.json',\n 'explanation/173e30fe/global_names/0.interpret.json',\n 'explanation/173e30fe/global_rank/0.interpret.json',\n 'explanation/173e30fe/global_values/0.interpret.json',\n 'explanation/173e30fe/local_importance_values.interpret.json',\n 'explanation/173e30fe/per_class_names/0.interpret.json',\n 'explanation/173e30fe/per_class_rank/0.interpret.json',\n 'explanation/173e30fe/per_class_values/0.interpret.json',\n 'explanation/173e30fe/rich_metadata.interpret.json',\n 'explanation/173e30fe/visualization_dict.interpret.json',\n 'explanation/173e30fe/ys_pred_proba_viz.interpret.json',\n 'explanation/173e30fe/ys_pred_viz.interpret.json',\n 'explanation/d86ada26/classes.interpret.json',\n 'explanation/d86ada26/eval_data_viz.interpret.json',\n 'explanation/d86ada26/expected_values.interpret.json',\n 'explanation/d86ada26/features.interpret.json',\n 'explanation/d86ada26/global_names/0.interpret.json',\n 'explanation/d86ada26/global_rank/0.interpret.json',\n 'explanation/d86ada26/global_values/0.interpret.json',\n 'explanation/d86ada26/local_importance_values.interpret.json',\n 'explanation/d86ada26/per_class_names/0.interpret.json',\n 'explanation/d86ada26/per_class_rank/0.interpret.json',\n 'explanation/d86ada26/per_class_values/0.interpret.json',\n 'explanation/d86ada26/rich_metadata.interpret.json',\n 'explanation/d86ada26/visualization_dict.interpret.json',\n 'outputs/conda_env_v_1_0_0.yml',\n 'outputs/env_dependencies.json',\n 'outputs/internal_cross_validated_models.pkl',\n 'outputs/model.pkl',\n 'outputs/pipeline_graph.json',\n 'outputs/scoring_file_v_1_0_0.py']",
            "text/html": "['accuracy_table', 'confusion_matrix', 'explanation/173e30fe/classes.interpret.json', 'explanation/173e30fe/eval_data_viz.interpret.json', 'explanation/173e30fe/expected_values.interpret.json', 'explanation/173e30fe/features.interpret.json', 'explanation/173e30fe/global_names/0.interpret.json', 'explanation/173e30fe/global_rank/0.interpret.json', 'explanation/173e30fe/global_values/0.interpret.json', 'explanation/173e30fe/local_importance_values.interpret.json', 'explanation/173e30fe/per_class_names/0.interpret.json', 'explanation/173e30fe/per_class_rank/0.interpret.json', 'explanation/173e30fe/per_class_values/0.interpret.json', 'explanation/173e30fe/rich_metadata.interpret.json', 'explanation/173e30fe/visualization_dict.interpret.json', 'explanation/173e30fe/ys_pred_proba_viz.interpret.json', 'explanation/173e30fe/ys_pred_viz.interpret.json', 'explanation/d86ada26/classes.interpret.json', 'explanation/d86ada26/eval_data_viz.interpret.json', 'explanation/d86ada26/expected_values.interpret.json', 'explanation/d86ada26/features.interpret.json', 'explanation/d86ada26/global_names/0.interpret.json', 'explanation/d86ada26/global_rank/0.interpret.json', 'explanation/d86ada26/global_values/0.interpret.json', 'explanation/d86ada26/local_importance_values.interpret.json', 'explanation/d86ada26/per_class_names/0.interpret.json', 'explanation/d86ada26/per_class_rank/0.interpret.json', 'explanation/d86ada26/per_class_values/0.interpret.json', 'explanation/d86ada26/rich_metadata.interpret.json', 'explanation/d86ada26/visualization_dict.interpret.json', 'outputs/conda_env_v_1_0_0.yml', 'outputs/env_dependencies.json', 'outputs/internal_cross_validated_models.pkl', 'outputs/model.pkl', 'outputs/pipeline_graph.json', 'outputs/scoring_file_v_1_0_0.py']"
          },
          "metadata": {}
        }
      ],
      "execution_count": 51,
      "metadata": {
        "collapsed": true,
        "jupyter": {
          "source_hidden": false,
          "outputs_hidden": false
        },
        "nteract": {
          "transient": {
            "deleting": false
          }
        },
        "gather": {
          "logged": 1614756204666
        }
      }
    },
    {
      "cell_type": "code",
      "source": [
        "best_run.get_file_names()[-3]"
      ],
      "outputs": [
        {
          "output_type": "execute_result",
          "execution_count": 52,
          "data": {
            "text/plain": "'outputs/model.pkl'"
          },
          "metadata": {}
        }
      ],
      "execution_count": 52,
      "metadata": {
        "collapsed": true,
        "jupyter": {
          "source_hidden": false,
          "outputs_hidden": false
        },
        "nteract": {
          "transient": {
            "deleting": false
          }
        },
        "gather": {
          "logged": 1614756209094
        }
      }
    },
    {
      "cell_type": "code",
      "source": [
        "import pickle"
      ],
      "outputs": [],
      "execution_count": 53,
      "metadata": {
        "collapsed": true,
        "jupyter": {
          "source_hidden": false,
          "outputs_hidden": false
        },
        "nteract": {
          "transient": {
            "deleting": false
          }
        },
        "gather": {
          "logged": 1614756211751
        }
      }
    },
    {
      "cell_type": "code",
      "source": [
        "best_run.download_file('outputs/model.pkl', './outputs/automlmodel.pkl')"
      ],
      "outputs": [],
      "execution_count": 54,
      "metadata": {
        "collapsed": true,
        "jupyter": {
          "source_hidden": false,
          "outputs_hidden": false
        },
        "nteract": {
          "transient": {
            "deleting": false
          }
        },
        "gather": {
          "logged": 1614756213244
        }
      }
    },
    {
      "cell_type": "code",
      "source": [
        "import joblib\r\n",
        "joblib.load(filename='outputs/automlmodel.pkl')"
      ],
      "outputs": [
        {
          "output_type": "execute_result",
          "execution_count": 55,
          "data": {
            "text/plain": "Pipeline(memory=None,\n         steps=[('datatransformer',\n                 DataTransformer(enable_dnn=None, enable_feature_sweeping=None,\n                                 feature_sweeping_config=None,\n                                 feature_sweeping_timeout=None,\n                                 featurization_config=None, force_text_dnn=None,\n                                 is_cross_validation=None,\n                                 is_onnx_compatible=None, logger=None,\n                                 observer=None, task=None, working_dir=None)),\n                ('prefittedsoftvotingclassifier',...\n                                                                                                    max_samples=None,\n                                                                                                    min_impurity_decrease=0.0,\n                                                                                                    min_impurity_split=None,\n                                                                                                    min_samples_leaf=0.1131578947368421,\n                                                                                                    min_samples_split=0.19736842105263158,\n                                                                                                    min_weight_fraction_leaf=0.0,\n                                                                                                    n_estimators=100,\n                                                                                                    n_jobs=1,\n                                                                                                    oob_score=False,\n                                                                                                    random_state=None,\n                                                                                                    verbose=0,\n                                                                                                    warm_start=False))],\n                                                                     verbose=False))],\n                                               flatten_transform=None,\n                                               weights=[0.2, 0.1, 0.1, 0.1, 0.1,\n                                                        0.1, 0.2, 0.1]))],\n         verbose=False)"
          },
          "metadata": {}
        }
      ],
      "execution_count": 55,
      "metadata": {
        "gather": {
          "logged": 1614756215055
        },
        "jupyter": {
          "outputs_hidden": false,
          "source_hidden": false
        },
        "nteract": {
          "transient": {
            "deleting": false
          }
        }
      }
    },
    {
      "cell_type": "code",
      "source": [
        "from azureml.core.model import Model\r\n",
        "model = Model.register(model_name='automl-model', model_path='outputs/automlmodel.pkl', workspace=ws)"
      ],
      "outputs": [
        {
          "output_type": "stream",
          "name": "stdout",
          "text": [
            "Registering model automl-model\n"
          ]
        }
      ],
      "execution_count": 56,
      "metadata": {
        "collapsed": true,
        "jupyter": {
          "source_hidden": false,
          "outputs_hidden": false
        },
        "nteract": {
          "transient": {
            "deleting": false
          }
        },
        "gather": {
          "logged": 1614756252910
        }
      }
    },
    {
      "cell_type": "code",
      "source": [
        "import sklearn\r\n",
        "\r\n",
        "from azureml.core.environment import Environment\r\n",
        "\r\n",
        "# environment = Environment(\"LocalDeploy\")\r\n",
        "environment = Environment.get(workspace=ws, name=\"AzureML-AutoML\")\r\n",
        "\r\n",
        "environment.python.conda_dependencies.add_pip_package(\"inference-schema[numpy-support]\")\r\n",
        "environment.python.conda_dependencies.add_pip_package(\"joblib\")\r\n",
        "environment.python.conda_dependencies.add_pip_package(\"scikit-learn=={}\".format(sklearn.__version__))"
      ],
      "outputs": [],
      "execution_count": 57,
      "metadata": {
        "collapsed": true,
        "jupyter": {
          "source_hidden": false,
          "outputs_hidden": false
        },
        "nteract": {
          "transient": {
            "deleting": false
          }
        },
        "gather": {
          "logged": 1614756255723
        }
      }
    },
    {
      "cell_type": "code",
      "source": [
        "# %%writefile score.py\r\n",
        "\r\n",
        "import json\r\n",
        "import numpy as np\r\n",
        "import pandas as pd\r\n",
        "import os\r\n",
        "import joblib\r\n",
        "import pickle\r\n",
        "\r\n",
        "def init():\r\n",
        "    global model\r\n",
        "    model_path = os.path.join(os.getenv('AZUREML_MODEL_DIR'), 'automlmodel.pkl')\r\n",
        "    print(\"Found model:\", os.path.isfile(model_path)) #To check whether the model is actually present on the location we are looking at\r\n",
        "    model = joblib.load(model_path)\r\n",
        "def run(data):\r\n",
        "    try:\r\n",
        "        data = json.loads(data)['data']\r\n",
        "        data = pd.DataFrame.from_dict(data)\r\n",
        "        result = model.predict(data)\r\n",
        "        return result.tolist()\r\n",
        "    except Exception as e:\r\n",
        "        error = str(e)\r\n",
        "        return error"
      ],
      "outputs": [
        {
          "output_type": "stream",
          "name": "stdout",
          "text": [
            "Writing score.py\n"
          ]
        }
      ],
      "execution_count": 29,
      "metadata": {
        "collapsed": true,
        "jupyter": {
          "source_hidden": false,
          "outputs_hidden": false
        },
        "nteract": {
          "transient": {
            "deleting": false
          }
        },
        "gather": {
          "logged": 1614447612039
        }
      }
    },
    {
      "cell_type": "code",
      "source": [
        "pip install inference-schema"
      ],
      "outputs": [
        {
          "output_type": "stream",
          "name": "stdout",
          "text": [
            "Collecting inference-schema\n",
            "  Downloading inference_schema-1.1.0-py3-none-any.whl (19 kB)\n",
            "Requirement already satisfied: python-dateutil>=2.5.3 in /anaconda/envs/azureml_py36/lib/python3.6/site-packages (from inference-schema) (2.8.1)\n",
            "Collecting wrapt==1.11.1\n",
            "  Downloading wrapt-1.11.1.tar.gz (27 kB)\n",
            "Requirement already satisfied: pytz>=2017.2 in /anaconda/envs/azureml_py36/lib/python3.6/site-packages (from inference-schema) (2021.1)\n",
            "Requirement already satisfied: six>=1.5 in /anaconda/envs/azureml_py36/lib/python3.6/site-packages (from python-dateutil>=2.5.3->inference-schema) (1.15.0)\n",
            "Building wheels for collected packages: wrapt\n",
            "  Building wheel for wrapt (setup.py) ... \u001b[?25l-\b \b\\\b \b|\b \bdone\n",
            "\u001b[?25h  Created wheel for wrapt: filename=wrapt-1.11.1-cp36-cp36m-linux_x86_64.whl size=66568 sha256=dc555869bae724742a3086ce36b797a4f962aec9399724c64358b0e79a5ac85a\n",
            "  Stored in directory: /home/azureuser/.cache/pip/wheels/94/0f/ec/66085641573800014bb0c8b657f3366eff641c42df79abbfe9\n",
            "Successfully built wrapt\n",
            "\u001b[31mERROR: tensorflow 2.1.0 has requirement scipy==1.4.1; python_version >= \"3\", but you'll have scipy 1.5.2 which is incompatible.\u001b[0m\n",
            "\u001b[31mERROR: tensorflow-gpu 2.1.0 has requirement scipy==1.4.1; python_version >= \"3\", but you'll have scipy 1.5.2 which is incompatible.\u001b[0m\n",
            "\u001b[31mERROR: autokeras 1.0.12 has requirement tensorflow>=2.3.0, but you'll have tensorflow 2.1.0 which is incompatible.\u001b[0m\n",
            "Installing collected packages: wrapt, inference-schema\n",
            "  Attempting uninstall: wrapt\n",
            "    Found existing installation: wrapt 1.12.1\n",
            "    Uninstalling wrapt-1.12.1:\n",
            "      Successfully uninstalled wrapt-1.12.1\n",
            "Successfully installed inference-schema-1.1.0 wrapt-1.11.1\n",
            "Note: you may need to restart the kernel to use updated packages.\n"
          ]
        }
      ],
      "execution_count": 60,
      "metadata": {
        "collapsed": true,
        "jupyter": {
          "source_hidden": false,
          "outputs_hidden": false
        },
        "nteract": {
          "transient": {
            "deleting": false
          }
        },
        "gather": {
          "logged": 1614756475239
        }
      }
    },
    {
      "cell_type": "code",
      "source": [
        "%%writefile score.py\r\n",
        "\r\n",
        "import json\r\n",
        "import numpy as np\r\n",
        "import pandas as pd\r\n",
        "import os\r\n",
        "import joblib\r\n",
        "import pickle\r\n",
        "\r\n",
        "from inference_schema.schema_decorators import input_schema, output_schema\r\n",
        "from inference_schema.parameter_types.numpy_parameter_type import NumpyParameterType\r\n",
        "from inference_schema.parameter_types.pandas_parameter_type import PandasParameterType\r\n",
        "\r\n",
        "input_sample = pd.DataFrame({\"age\": pd.Series([0.0], dtype=\"float64\"), \"anaemia\": pd.Series([0], dtype=\"int64\"), \"creatinine_phosphokinase\": pd.Series([0.0], dtype=\"float64\"), \"diabetes\": pd.Series([0], dtype=\"int64\"), \"ejection_fraction\": pd.Series([0.0], dtype=\"float64\"), \"high_blood_pressure\": pd.Series([0], dtype=\"int64\"), \"platelets\": pd.Series([0.0], dtype=\"float64\"), \"serum_creatinine\": pd.Series([0.0], dtype=\"float64\"), \"serum_sodium\": pd.Series([0.0], dtype=\"float64\"), \"sex\": pd.Series([0], dtype=\"int64\"), \"smoking\": pd.Series([0], dtype=\"int64\"), \"time\": pd.Series([0.0], dtype=\"float64\")})\r\n",
        "output_sample = np.array([0])\r\n",
        "\r\n",
        "\r\n",
        "def init():\r\n",
        "    global model\r\n",
        "    model_path = os.path.join(os.getenv('AZUREML_MODEL_DIR'), 'automlmodel.pkl')\r\n",
        "    print(\"Found model:\", os.path.isfile(model_path)) #To check whether the model is actually present on the location we are looking at\r\n",
        "    model = joblib.load(model_path)\r\n",
        "\r\n",
        "@input_schema('data', PandasParameterType(input_sample))\r\n",
        "@output_schema(NumpyParameterType(output_sample))\r\n",
        "\r\n",
        "def run(data):\r\n",
        "    try:\r\n",
        "        data = json.loads(data)['data']\r\n",
        "        data = pd.DataFrame.from_dict(data)\r\n",
        "        result = model.predict(data)\r\n",
        "        return result.tolist()\r\n",
        "    except Exception as e:\r\n",
        "        error = str(e)\r\n",
        "        return error        "
      ],
      "outputs": [
        {
          "output_type": "stream",
          "name": "stdout",
          "text": [
            "Overwriting score.py\n"
          ]
        }
      ],
      "execution_count": 69,
      "metadata": {
        "collapsed": true,
        "jupyter": {
          "source_hidden": false,
          "outputs_hidden": false
        },
        "nteract": {
          "transient": {
            "deleting": false
          }
        },
        "gather": {
          "logged": 1614756483452
        }
      }
    },
    {
      "cell_type": "code",
      "source": [
        "model"
      ],
      "outputs": [
        {
          "output_type": "execute_result",
          "execution_count": 88,
          "data": {
            "text/plain": "Model(workspace=Workspace.create(name='quick-starts-ws-139731', subscription_id='d4ad7261-832d-46b2-b093-22156001df5b', resource_group='aml-quickstarts-139731'), name=automl-model, id=automl-model:1, version=1, tags={}, properties={})"
          },
          "metadata": {}
        }
      ],
      "execution_count": 88,
      "metadata": {
        "collapsed": true,
        "jupyter": {
          "source_hidden": false,
          "outputs_hidden": false
        },
        "nteract": {
          "transient": {
            "deleting": false
          }
        },
        "gather": {
          "logged": 1614758855087
        }
      }
    },
    {
      "cell_type": "code",
      "source": [
        "Model(ws, 'automl-model')"
      ],
      "outputs": [
        {
          "output_type": "execute_result",
          "execution_count": 89,
          "data": {
            "text/plain": "Model(workspace=Workspace.create(name='quick-starts-ws-139731', subscription_id='d4ad7261-832d-46b2-b093-22156001df5b', resource_group='aml-quickstarts-139731'), name=automl-model, id=automl-model:1, version=1, tags={}, properties={})"
          },
          "metadata": {}
        }
      ],
      "execution_count": 89,
      "metadata": {
        "collapsed": true,
        "jupyter": {
          "source_hidden": false,
          "outputs_hidden": false
        },
        "nteract": {
          "transient": {
            "deleting": false
          }
        },
        "gather": {
          "logged": 1614758856264
        }
      }
    },
    {
      "cell_type": "code",
      "source": [
        "from azureml.core.webservice import AciWebservice\r\n",
        "from azureml.core.model import InferenceConfig\r\n",
        "\r\n",
        "deployment_config = AciWebservice.deploy_configuration(cpu_cores = 1, memory_gb = 1,  enable_app_insights=True, auth_enabled=True)\r\n",
        "\r\n",
        "from azureml.core.webservice import LocalWebservice, Webservice\r\n",
        "inference_config = InferenceConfig(entry_script='score.py',\r\n",
        "                                    environment=environment)\r\n",
        "# deployment_config = LocalWebservice.deploy_configuration(port=8890)\r\n",
        "service = Model.deploy(ws, \"test3\", [model], inference_config, deployment_config)\r\n",
        "service.wait_for_deployment(show_output = True)\r\n",
        "print(service.state)\r\n",
        "print(service.scoring_uri)\r\n",
        "print(service.swagger_uri)"
      ],
      "outputs": [
        {
          "output_type": "stream",
          "name": "stdout",
          "text": [
            "Tips: You can try get_logs(): https://aka.ms/debugimage#dockerlog or local deployment: https://aka.ms/debugimage#debug-locally to debug if deployment takes longer than 10 minutes.\n",
            "Running.........................................\n",
            "Succeeded\n",
            "ACI service creation operation finished, operation \"Succeeded\"\n",
            "Healthy\n",
            "http://d3c13110-60ba-49a5-9888-d9eda056b386.southcentralus.azurecontainer.io/score\n",
            "http://d3c13110-60ba-49a5-9888-d9eda056b386.southcentralus.azurecontainer.io/swagger.json\n"
          ]
        }
      ],
      "execution_count": 91,
      "metadata": {
        "collapsed": true,
        "jupyter": {
          "source_hidden": false,
          "outputs_hidden": false
        },
        "nteract": {
          "transient": {
            "deleting": false
          }
        },
        "gather": {
          "logged": 1614759076216
        }
      }
    },
    {
      "cell_type": "code",
      "source": [
        "primary, secondary = service.get_keys()\r\n",
        "print(primary)"
      ],
      "outputs": [
        {
          "output_type": "stream",
          "name": "stdout",
          "text": [
            "6k9FfXS5JHrLkswumRlve8iKAlO9NOkC\n"
          ]
        }
      ],
      "execution_count": 92,
      "metadata": {
        "collapsed": true,
        "jupyter": {
          "source_hidden": false,
          "outputs_hidden": false
        },
        "nteract": {
          "transient": {
            "deleting": false
          }
        },
        "gather": {
          "logged": 1614759085024
        }
      }
    },
    {
      "cell_type": "code",
      "source": [
        "import requests\r\n",
        "import json\r\n",
        "\r\n",
        "scoring_uri = 'http://d3c13110-60ba-49a5-9888-d9eda056b386.southcentralus.azurecontainer.io/score'\r\n",
        "\r\n",
        "key = '6k9FfXS5JHrLkswumRlve8iKAlO9NOkC'\r\n",
        "\r\n",
        "\r\n",
        "# Sample data to send to the service\r\n",
        "data = json.dumps(\r\n",
        "    {\"data\":\r\n",
        "            [\r\n",
        "                {\r\n",
        "                    'age': 75.0,\r\n",
        "                    'anaemia': 0,\r\n",
        "                    'creatinine_phosphokinase': 582,\r\n",
        "                    'diabetes': 0,\r\n",
        "                    'ejection_fraction': 20,\r\n",
        "                    'high_blood_pressure': 1,\r\n",
        "                    'platelets': 265000.0,\r\n",
        "                    'serum_creatinine': 1.9,\r\n",
        "                    'serum_sodium': 130,\r\n",
        "                    'sex': 1,\r\n",
        "                    'smoking': 0,\r\n",
        "                    'time': 4\r\n",
        "                },\r\n",
        "                {\r\n",
        "                    'age': 55.0,\r\n",
        "                    'anaemia': 0,\r\n",
        "                    'creatinine_phosphokinase': 7861,\r\n",
        "                    'diabetes': 0,\r\n",
        "                    'ejection_fraction': 38,\r\n",
        "                    'high_blood_pressure': 0,\r\n",
        "                    'platelets': 263358.03,\r\n",
        "                    'serum_creatinine': 1.1,\r\n",
        "                    'serum_sodium': 136,\r\n",
        "                    'sex': 1,\r\n",
        "                    'smoking': 0,\r\n",
        "                    'time': 6\r\n",
        "                }\r\n",
        "            ] \r\n",
        "        }\r\n",
        ")\r\n",
        "                \r\n",
        "\r\n",
        "headers = {'Content-Type': 'application/json'}\r\n",
        "\r\n",
        "headers['Authorization'] = f'Bearer {key}'\r\n",
        "\r\n",
        "resp = requests.post(scoring_uri, data, headers=headers)\r\n",
        "print(resp.text)"
      ],
      "outputs": [
        {
          "output_type": "stream",
          "name": "stdout",
          "text": [
            "\"{\\\"result\\\": [0, 0]}\"\n"
          ]
        }
      ],
      "execution_count": 94,
      "metadata": {
        "collapsed": true,
        "jupyter": {
          "source_hidden": false,
          "outputs_hidden": false
        },
        "nteract": {
          "transient": {
            "deleting": false
          }
        },
        "gather": {
          "logged": 1614759160354
        }
      }
    },
    {
      "cell_type": "markdown",
      "source": [
        "## Best Model\n",
        "\n",
        "TODO: In the cell below, get the best model from the automl experiments and display all the properties of the model.\n",
        "\n"
      ],
      "metadata": {}
    },
    {
      "cell_type": "code",
      "source": [
        "from azureml.core.webservice import LocalWebservice\r\n",
        "from azureml.core.model import InferenceConfig\r\n",
        "inference_config = InferenceConfig(entry_script='score.py', environment=environment) \r\n",
        "\r\n",
        "# This is optional, if not provided Docker will choose a random unused port.\r\n",
        "deployment_config = LocalWebservice.deploy_configuration(port=1234)\r\n",
        "\r\n",
        "local_service = Model.deploy(ws, \"deeploy\", [model], inference_config, deployment_config)\r\n",
        "\r\n",
        "local_service.wait_for_deployment()"
      ],
      "outputs": [],
      "execution_count": null,
      "metadata": {
        "collapsed": true,
        "jupyter": {
          "source_hidden": false,
          "outputs_hidden": false
        },
        "nteract": {
          "transient": {
            "deleting": false
          }
        }
      }
    },
    {
      "cell_type": "code",
      "source": [
        "print('Local service port: {}'.format(local_service.port))"
      ],
      "outputs": [
        {
          "output_type": "stream",
          "name": "stdout",
          "text": [
            "Local service port: 1234\n"
          ]
        }
      ],
      "execution_count": 40,
      "metadata": {
        "gather": {
          "logged": 1614583574504
        },
        "jupyter": {
          "outputs_hidden": false,
          "source_hidden": false
        },
        "nteract": {
          "transient": {
            "deleting": false
          }
        }
      }
    },
    {
      "cell_type": "code",
      "source": [
        "import json\r\n",
        "\r\n",
        "sample_input = json.dumps(\r\n",
        "    {\"data\":\r\n",
        "            [\r\n",
        "                {\r\n",
        "                    'age': 75.0,\r\n",
        "                    'anaemia': 0,\r\n",
        "                    'creatinine_phosphokinase': 582,\r\n",
        "                    'diabetes': 0,\r\n",
        "                    'ejection_fraction': 20,\r\n",
        "                    'high_blood_pressure': 1,\r\n",
        "                    'platelets': 265000.0,\r\n",
        "                    'serum_creatinine': 1.9,\r\n",
        "                    'serum_sodium': 130,\r\n",
        "                    'sex': 1,\r\n",
        "                    'smoking': 0,\r\n",
        "                    'time': 4\r\n",
        "                },\r\n",
        "                {\r\n",
        "                    'age': 55.0,\r\n",
        "                    'anaemia': 0,\r\n",
        "                    'creatinine_phosphokinase': 7861,\r\n",
        "                    'diabetes': 0,\r\n",
        "                    'ejection_fraction': 38,\r\n",
        "                    'high_blood_pressure': 0,\r\n",
        "                    'platelets': 263358.03,\r\n",
        "                    'serum_creatinine': 1.1,\r\n",
        "                    'serum_sodium': 136,\r\n",
        "                    'sex': 1,\r\n",
        "                    'smoking': 0,\r\n",
        "                    'time': 6\r\n",
        "                }\r\n",
        "            ] \r\n",
        "        }\r\n",
        ")\r\n",
        "\r\n",
        "local_service.run(sample_input)"
      ],
      "outputs": [
        {
          "output_type": "execute_result",
          "execution_count": 41,
          "data": {
            "text/plain": "[0, 0]",
            "text/html": "[0, 0]"
          },
          "metadata": {}
        }
      ],
      "execution_count": 41,
      "metadata": {
        "gather": {
          "logged": 1614583585881
        },
        "jupyter": {
          "outputs_hidden": false,
          "source_hidden": false
        },
        "nteract": {
          "transient": {
            "deleting": false
          }
        }
      }
    },
    {
      "cell_type": "markdown",
      "source": [
        "TODO: In the cell below, send a request to the web service you deployed to test it."
      ],
      "metadata": {
        "collapsed": true,
        "gather": {
          "logged": 1598431657736
        },
        "jupyter": {
          "outputs_hidden": false,
          "source_hidden": false
        },
        "nteract": {
          "transient": {
            "deleting": false
          }
        }
      }
    },
    {
      "cell_type": "code",
      "source": [],
      "outputs": [],
      "execution_count": null,
      "metadata": {
        "gather": {
          "logged": 1598432707604
        },
        "jupyter": {
          "outputs_hidden": false,
          "source_hidden": false
        },
        "nteract": {
          "transient": {
            "deleting": false
          }
        }
      }
    },
    {
      "cell_type": "markdown",
      "source": [
        "TODO: In the cell below, print the logs of the web service and delete the service"
      ],
      "metadata": {
        "collapsed": true,
        "gather": {
          "logged": 1598432765711
        },
        "jupyter": {
          "outputs_hidden": false,
          "source_hidden": false
        },
        "nteract": {
          "transient": {
            "deleting": false
          }
        }
      }
    },
    {
      "cell_type": "code",
      "source": [],
      "outputs": [],
      "execution_count": null,
      "metadata": {
        "jupyter": {
          "outputs_hidden": false,
          "source_hidden": false
        },
        "nteract": {
          "transient": {
            "deleting": false
          }
        }
      }
    }
  ],
  "metadata": {
    "kernel_info": {
      "name": "python3-azureml"
    },
    "kernelspec": {
      "name": "python3-azureml",
      "language": "python",
      "display_name": "Python 3.6 - AzureML"
    },
    "language_info": {
      "name": "python",
      "version": "3.6.9",
      "mimetype": "text/x-python",
      "codemirror_mode": {
        "name": "ipython",
        "version": 3
      },
      "pygments_lexer": "ipython3",
      "nbconvert_exporter": "python",
      "file_extension": ".py"
    },
    "nteract": {
      "version": "nteract-front-end@1.0.0"
    },
    "microsoft": {
      "host": {
        "AzureML": {
          "notebookHasBeenCompleted": true
        }
      }
    }
  },
  "nbformat": 4,
  "nbformat_minor": 2
}