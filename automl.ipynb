{
  "cells": [
    {
      "cell_type": "markdown",
      "source": [
        "# Automated ML\n",
        "\n",
        "TODO: Import Dependencies. In the cell below, import all the dependencies that you will need to complete the project."
      ],
      "metadata": {}
    },
    {
      "cell_type": "code",
      "source": [
        "pip install azureml-train-automl-runtime==1.20.0"
      ],
      "outputs": [
        {
          "output_type": "stream",
          "name": "stdout",
          "text": [
            "Requirement already satisfied: azureml-train-automl-runtime==1.20.0 in /anaconda/envs/azureml_py36/lib/python3.6/site-packages (1.20.0)\n",
            "Requirement already satisfied: pandas<1.0.0,>=0.21.0 in /anaconda/envs/azureml_py36/lib/python3.6/site-packages (from azureml-train-automl-runtime==1.20.0) (0.25.3)\n",
            "Requirement already satisfied: azureml-interpret~=1.20.0 in /anaconda/envs/azureml_py36/lib/python3.6/site-packages (from azureml-train-automl-runtime==1.20.0) (1.20.0)\n",
            "Requirement already satisfied: onnxmltools==1.4.1 in /anaconda/envs/azureml_py36/lib/python3.6/site-packages (from azureml-train-automl-runtime==1.20.0) (1.4.1)\n",
            "Requirement already satisfied: onnx<=1.7.0,>=1.5.0 in /anaconda/envs/azureml_py36/lib/python3.6/site-packages (from azureml-train-automl-runtime==1.20.0) (1.7.0)\n",
            "Requirement already satisfied: scikit-learn<0.23.0,>=0.19.0 in /anaconda/envs/azureml_py36/lib/python3.6/site-packages (from azureml-train-automl-runtime==1.20.0) (0.22.2.post1)\n",
            "Requirement already satisfied: azureml-core~=1.20.0 in /anaconda/envs/azureml_py36/lib/python3.6/site-packages (from azureml-train-automl-runtime==1.20.0) (1.20.0)\n",
            "Requirement already satisfied: keras2onnx<=1.6.0,>=1.4.0 in /anaconda/envs/azureml_py36/lib/python3.6/site-packages (from azureml-train-automl-runtime==1.20.0) (1.6.0)\n",
            "Requirement already satisfied: azureml-telemetry~=1.20.0 in /anaconda/envs/azureml_py36/lib/python3.6/site-packages (from azureml-train-automl-runtime==1.20.0) (1.20.0)\n",
            "Requirement already satisfied: botocore<=1.18.18 in /anaconda/envs/azureml_py36/lib/python3.6/site-packages (from azureml-train-automl-runtime==1.20.0) (1.18.18)\n",
            "Requirement already satisfied: azureml-train-automl-client~=1.20.0 in /anaconda/envs/azureml_py36/lib/python3.6/site-packages (from azureml-train-automl-runtime==1.20.0) (1.20.0)\n",
            "Requirement already satisfied: numpy<1.19.0,>=1.16.0 in /anaconda/envs/azureml_py36/lib/python3.6/site-packages (from azureml-train-automl-runtime==1.20.0) (1.18.5)\n",
            "Requirement already satisfied: azureml-defaults~=1.20.0 in /anaconda/envs/azureml_py36/lib/python3.6/site-packages (from azureml-train-automl-runtime==1.20.0) (1.20.0)\n",
            "Requirement already satisfied: boto3<=1.15.18 in /anaconda/envs/azureml_py36/lib/python3.6/site-packages (from azureml-train-automl-runtime==1.20.0) (1.15.18)\n",
            "Requirement already satisfied: lightgbm<=2.3.0,>=2.0.11 in /anaconda/envs/azureml_py36/lib/python3.6/site-packages (from azureml-train-automl-runtime==1.20.0) (2.3.0)\n",
            "Requirement already satisfied: sklearn-pandas<=1.7.0,>=1.4.0 in /anaconda/envs/azureml_py36/lib/python3.6/site-packages (from azureml-train-automl-runtime==1.20.0) (1.7.0)\n",
            "Requirement already satisfied: jinja2<=2.11.2 in /anaconda/envs/azureml_py36/lib/python3.6/site-packages (from azureml-train-automl-runtime==1.20.0) (2.11.2)\n",
            "Requirement already satisfied: onnxconverter-common<=1.6.0,>=1.4.2 in /anaconda/envs/azureml_py36/lib/python3.6/site-packages (from azureml-train-automl-runtime==1.20.0) (1.6.0)\n",
            "Requirement already satisfied: statsmodels<=0.10.2,>=0.9.0 in /anaconda/envs/azureml_py36/lib/python3.6/site-packages (from azureml-train-automl-runtime==1.20.0) (0.10.2)\n",
            "Requirement already satisfied: azureml-automl-core~=1.20.0 in /anaconda/envs/azureml_py36/lib/python3.6/site-packages (from azureml-train-automl-runtime==1.20.0) (1.20.0)\n",
            "Requirement already satisfied: azureml-automl-runtime~=1.20.0 in /anaconda/envs/azureml_py36/lib/python3.6/site-packages (from azureml-train-automl-runtime==1.20.0) (1.20.0)\n",
            "Requirement already satisfied: azureml-dataset-runtime[fuse,pandas]~=1.20.0 in /anaconda/envs/azureml_py36/lib/python3.6/site-packages (from azureml-train-automl-runtime==1.20.0) (1.20.0)\n",
            "Requirement already satisfied: azure-storage-queue~=12.1 in /anaconda/envs/azureml_py36/lib/python3.6/site-packages (from azureml-train-automl-runtime==1.20.0) (12.1.4)\n",
            "Requirement already satisfied: scipy<=1.5.2,>=1.0.0 in /anaconda/envs/azureml_py36/lib/python3.6/site-packages (from azureml-train-automl-runtime==1.20.0) (1.5.2)\n",
            "Requirement already satisfied: onnxruntime==1.3.0 in /anaconda/envs/azureml_py36/lib/python3.6/site-packages (from azureml-train-automl-runtime==1.20.0) (1.3.0)\n",
            "Requirement already satisfied: skl2onnx==1.4.9 in /anaconda/envs/azureml_py36/lib/python3.6/site-packages (from azureml-train-automl-runtime==1.20.0) (1.4.9)\n",
            "Requirement already satisfied: smart-open<=1.9.0 in /anaconda/envs/azureml_py36/lib/python3.6/site-packages (from azureml-train-automl-runtime==1.20.0) (1.9.0)\n",
            "Requirement already satisfied: gensim<3.9.0 in /anaconda/envs/azureml_py36/lib/python3.6/site-packages (from azureml-train-automl-runtime==1.20.0) (3.8.3)\n",
            "Requirement already satisfied: python-dateutil>=2.6.1 in /anaconda/envs/azureml_py36/lib/python3.6/site-packages (from pandas<1.0.0,>=0.21.0->azureml-train-automl-runtime==1.20.0) (2.8.1)\n",
            "Requirement already satisfied: pytz>=2017.2 in /anaconda/envs/azureml_py36/lib/python3.6/site-packages (from pandas<1.0.0,>=0.21.0->azureml-train-automl-runtime==1.20.0) (2020.5)\n",
            "Requirement already satisfied: interpret-community==0.15.* in /anaconda/envs/azureml_py36/lib/python3.6/site-packages (from azureml-interpret~=1.20.0->azureml-train-automl-runtime==1.20.0) (0.15.4)\n",
            "Requirement already satisfied: protobuf in /anaconda/envs/azureml_py36/lib/python3.6/site-packages (from onnxmltools==1.4.1->azureml-train-automl-runtime==1.20.0) (3.14.0)\n",
            "Requirement already satisfied: six in /anaconda/envs/azureml_py36/lib/python3.6/site-packages (from onnxmltools==1.4.1->azureml-train-automl-runtime==1.20.0) (1.15.0)\n",
            "Requirement already satisfied: typing-extensions>=3.6.2.1 in /anaconda/envs/azureml_py36/lib/python3.6/site-packages (from onnx<=1.7.0,>=1.5.0->azureml-train-automl-runtime==1.20.0) (3.7.4.3)\n",
            "Requirement already satisfied: joblib>=0.11 in /anaconda/envs/azureml_py36/lib/python3.6/site-packages (from scikit-learn<0.23.0,>=0.19.0->azureml-train-automl-runtime==1.20.0) (0.14.1)\n",
            "Requirement already satisfied: requests>=2.19.1 in /anaconda/envs/azureml_py36/lib/python3.6/site-packages (from azureml-core~=1.20.0->azureml-train-automl-runtime==1.20.0) (2.25.1)\n",
            "Requirement already satisfied: msrest>=0.5.1 in /anaconda/envs/azureml_py36/lib/python3.6/site-packages (from azureml-core~=1.20.0->azureml-train-automl-runtime==1.20.0) (0.6.19)\n",
            "Requirement already satisfied: azure-common>=1.1.12 in /anaconda/envs/azureml_py36/lib/python3.6/site-packages (from azureml-core~=1.20.0->azureml-train-automl-runtime==1.20.0) (1.1.26)\n",
            "Requirement already satisfied: pyopenssl<20.0.0 in /anaconda/envs/azureml_py36/lib/python3.6/site-packages (from azureml-core~=1.20.0->azureml-train-automl-runtime==1.20.0) (19.1.0)\n",
            "Requirement already satisfied: docker in /anaconda/envs/azureml_py36/lib/python3.6/site-packages (from azureml-core~=1.20.0->azureml-train-automl-runtime==1.20.0) (4.4.1)\n",
            "Requirement already satisfied: azure-graphrbac<1.0.0,>=0.40.0 in /anaconda/envs/azureml_py36/lib/python3.6/site-packages (from azureml-core~=1.20.0->azureml-train-automl-runtime==1.20.0) (0.61.1)\n",
            "Requirement already satisfied: PyJWT<2.0.0 in /anaconda/envs/azureml_py36/lib/python3.6/site-packages (from azureml-core~=1.20.0->azureml-train-automl-runtime==1.20.0) (1.7.1)\n",
            "Requirement already satisfied: ndg-httpsclient in /anaconda/envs/azureml_py36/lib/python3.6/site-packages (from azureml-core~=1.20.0->azureml-train-automl-runtime==1.20.0) (0.5.1)\n",
            "Requirement already satisfied: azure-mgmt-resource<15.0.0,>=1.2.1 in /anaconda/envs/azureml_py36/lib/python3.6/site-packages (from azureml-core~=1.20.0->azureml-train-automl-runtime==1.20.0) (12.0.0)\n",
            "Requirement already satisfied: msrestazure>=0.4.33 in /anaconda/envs/azureml_py36/lib/python3.6/site-packages (from azureml-core~=1.20.0->azureml-train-automl-runtime==1.20.0) (0.6.4)\n",
            "Requirement already satisfied: azure-mgmt-authorization<1.0.0,>=0.40.0 in /anaconda/envs/azureml_py36/lib/python3.6/site-packages (from azureml-core~=1.20.0->azureml-train-automl-runtime==1.20.0) (0.61.0)\n",
            "Requirement already satisfied: cryptography!=1.9,!=2.0.*,!=2.1.*,!=2.2.* in /anaconda/envs/azureml_py36/lib/python3.6/site-packages (from azureml-core~=1.20.0->azureml-train-automl-runtime==1.20.0) (3.3.1)\n",
            "Requirement already satisfied: azure-mgmt-storage<16.0.0,>=1.5.0 in /anaconda/envs/azureml_py36/lib/python3.6/site-packages (from azureml-core~=1.20.0->azureml-train-automl-runtime==1.20.0) (11.2.0)\n",
            "Requirement already satisfied: urllib3>=1.23 in /anaconda/envs/azureml_py36/lib/python3.6/site-packages (from azureml-core~=1.20.0->azureml-train-automl-runtime==1.20.0) (1.25.11)\n",
            "Requirement already satisfied: jsonpickle in /anaconda/envs/azureml_py36/lib/python3.6/site-packages (from azureml-core~=1.20.0->azureml-train-automl-runtime==1.20.0) (1.4.2)\n",
            "Requirement already satisfied: contextlib2 in /anaconda/envs/azureml_py36/lib/python3.6/site-packages (from azureml-core~=1.20.0->azureml-train-automl-runtime==1.20.0) (0.6.0.post1)\n",
            "Requirement already satisfied: azure-mgmt-containerregistry>=2.0.0 in /anaconda/envs/azureml_py36/lib/python3.6/site-packages (from azureml-core~=1.20.0->azureml-train-automl-runtime==1.20.0) (2.8.0)\n",
            "Requirement already satisfied: adal>=1.2.0 in /anaconda/envs/azureml_py36/lib/python3.6/site-packages (from azureml-core~=1.20.0->azureml-train-automl-runtime==1.20.0) (1.2.5)\n",
            "Requirement already satisfied: SecretStorage in /anaconda/envs/azureml_py36/lib/python3.6/site-packages (from azureml-core~=1.20.0->azureml-train-automl-runtime==1.20.0) (3.3.0)\n",
            "Requirement already satisfied: jmespath in /anaconda/envs/azureml_py36/lib/python3.6/site-packages (from azureml-core~=1.20.0->azureml-train-automl-runtime==1.20.0) (0.10.0)\n",
            "Requirement already satisfied: pathspec in /anaconda/envs/azureml_py36/lib/python3.6/site-packages (from azureml-core~=1.20.0->azureml-train-automl-runtime==1.20.0) (0.8.1)\n",
            "Requirement already satisfied: ruamel.yaml>=0.15.35 in /anaconda/envs/azureml_py36/lib/python3.6/site-packages (from azureml-core~=1.20.0->azureml-train-automl-runtime==1.20.0) (0.16.12)\n",
            "Requirement already satisfied: azure-mgmt-keyvault<7.0.0,>=0.40.0 in /anaconda/envs/azureml_py36/lib/python3.6/site-packages (from azureml-core~=1.20.0->azureml-train-automl-runtime==1.20.0) (2.2.0)\n",
            "Requirement already satisfied: backports.tempfile in /anaconda/envs/azureml_py36/lib/python3.6/site-packages (from azureml-core~=1.20.0->azureml-train-automl-runtime==1.20.0) (1.0)\n",
            "Requirement already satisfied: fire in /anaconda/envs/azureml_py36/lib/python3.6/site-packages (from keras2onnx<=1.6.0,>=1.4.0->azureml-train-automl-runtime==1.20.0) (0.3.1)\n",
            "Requirement already satisfied: applicationinsights in /anaconda/envs/azureml_py36/lib/python3.6/site-packages (from azureml-telemetry~=1.20.0->azureml-train-automl-runtime==1.20.0) (0.11.9)\n",
            "Requirement already satisfied: configparser==3.7.4 in /anaconda/envs/azureml_py36/lib/python3.6/site-packages (from azureml-defaults~=1.20.0->azureml-train-automl-runtime==1.20.0) (3.7.4)\n",
            "Requirement already satisfied: json-logging-py==0.2 in /anaconda/envs/azureml_py36/lib/python3.6/site-packages (from azureml-defaults~=1.20.0->azureml-train-automl-runtime==1.20.0) (0.2)\n",
            "Requirement already satisfied: werkzeug<=1.0.1,>=0.16.1 in /anaconda/envs/azureml_py36/lib/python3.6/site-packages (from azureml-defaults~=1.20.0->azureml-train-automl-runtime==1.20.0) (1.0.1)\n",
            "Requirement already satisfied: gunicorn==19.9.0 in /anaconda/envs/azureml_py36/lib/python3.6/site-packages (from azureml-defaults~=1.20.0->azureml-train-automl-runtime==1.20.0) (19.9.0)\n",
            "Requirement already satisfied: azureml-model-management-sdk==1.0.1b6.post1 in /anaconda/envs/azureml_py36/lib/python3.6/site-packages (from azureml-defaults~=1.20.0->azureml-train-automl-runtime==1.20.0) (1.0.1b6.post1)\n",
            "Requirement already satisfied: flask==1.0.3 in /anaconda/envs/azureml_py36/lib/python3.6/site-packages (from azureml-defaults~=1.20.0->azureml-train-automl-runtime==1.20.0) (1.0.3)\n",
            "Requirement already satisfied: s3transfer<0.4.0,>=0.3.0 in /anaconda/envs/azureml_py36/lib/python3.6/site-packages (from boto3<=1.15.18->azureml-train-automl-runtime==1.20.0) (0.3.3)\n",
            "Requirement already satisfied: MarkupSafe>=0.23 in /anaconda/envs/azureml_py36/lib/python3.6/site-packages (from jinja2<=2.11.2->azureml-train-automl-runtime==1.20.0) (1.1.1)\n",
            "Requirement already satisfied: patsy>=0.4.0 in /anaconda/envs/azureml_py36/lib/python3.6/site-packages (from statsmodels<=0.10.2,>=0.9.0->azureml-train-automl-runtime==1.20.0) (0.5.1)\n",
            "Requirement already satisfied: py-cpuinfo==5.0.0 in /anaconda/envs/azureml_py36/lib/python3.6/site-packages (from azureml-automl-runtime~=1.20.0->azureml-train-automl-runtime==1.20.0) (5.0.0)\n",
            "Requirement already satisfied: pmdarima==1.1.1 in /anaconda/envs/azureml_py36/lib/python3.6/site-packages (from azureml-automl-runtime~=1.20.0->azureml-train-automl-runtime==1.20.0) (1.1.1)\n",
            "Requirement already satisfied: dill<0.4.0,>=0.2.8 in /anaconda/envs/azureml_py36/lib/python3.6/site-packages (from azureml-automl-runtime~=1.20.0->azureml-train-automl-runtime==1.20.0) (0.3.3)\n",
            "Requirement already satisfied: nimbusml<=1.8.0,>=1.7.1 in /anaconda/envs/azureml_py36/lib/python3.6/site-packages (from azureml-automl-runtime~=1.20.0->azureml-train-automl-runtime==1.20.0) (1.8.0)\n",
            "Requirement already satisfied: psutil<6.0.0,>=5.2.2 in /anaconda/envs/azureml_py36/lib/python3.6/site-packages (from azureml-automl-runtime~=1.20.0->azureml-train-automl-runtime==1.20.0) (5.8.0)\n",
            "Requirement already satisfied: azureml-dataprep<2.8.0a,>=2.7.0a in /anaconda/envs/azureml_py36/lib/python3.6/site-packages (from azureml-dataset-runtime[fuse,pandas]~=1.20.0->azureml-train-automl-runtime==1.20.0) (2.7.3)\n",
            "Requirement already satisfied: pyarrow<2.0.0,>=0.17.0 in /anaconda/envs/azureml_py36/lib/python3.6/site-packages (from azureml-dataset-runtime[fuse,pandas]~=1.20.0->azureml-train-automl-runtime==1.20.0) (1.0.1)\n",
            "Requirement already satisfied: fusepy<4.0.0,>=3.0.1; extra == \"fuse\" in /anaconda/envs/azureml_py36/lib/python3.6/site-packages (from azureml-dataset-runtime[fuse,pandas]~=1.20.0->azureml-train-automl-runtime==1.20.0) (3.0.1)\n",
            "Requirement already satisfied: azure-core<2.0.0,>=1.9.0 in /anaconda/envs/azureml_py36/lib/python3.6/site-packages (from azure-storage-queue~=12.1->azureml-train-automl-runtime==1.20.0) (1.9.0)\n",
            "Requirement already satisfied: boto>=2.32 in /anaconda/envs/azureml_py36/lib/python3.6/site-packages (from smart-open<=1.9.0->azureml-train-automl-runtime==1.20.0) (2.49.0)\n",
            "Requirement already satisfied: packaging in /anaconda/envs/azureml_py36/lib/python3.6/site-packages (from interpret-community==0.15.*->azureml-interpret~=1.20.0->azureml-train-automl-runtime==1.20.0) (20.8)\n",
            "Requirement already satisfied: interpret-core[required]<=0.2.1,>=0.1.20 in /anaconda/envs/azureml_py36/lib/python3.6/site-packages (from interpret-community==0.15.*->azureml-interpret~=1.20.0->azureml-train-automl-runtime==1.20.0) (0.2.1)\n",
            "Requirement already satisfied: shap<=0.34.0,>=0.20.0 in /anaconda/envs/azureml_py36/lib/python3.6/site-packages (from interpret-community==0.15.*->azureml-interpret~=1.20.0->azureml-train-automl-runtime==1.20.0) (0.34.0)\n",
            "Requirement already satisfied: certifi>=2017.4.17 in /anaconda/envs/azureml_py36/lib/python3.6/site-packages (from requests>=2.19.1->azureml-core~=1.20.0->azureml-train-automl-runtime==1.20.0) (2020.12.5)\n",
            "Requirement already satisfied: idna<3,>=2.5 in /anaconda/envs/azureml_py36/lib/python3.6/site-packages (from requests>=2.19.1->azureml-core~=1.20.0->azureml-train-automl-runtime==1.20.0) (2.10)\n",
            "Requirement already satisfied: chardet<5,>=3.0.2 in /anaconda/envs/azureml_py36/lib/python3.6/site-packages (from requests>=2.19.1->azureml-core~=1.20.0->azureml-train-automl-runtime==1.20.0) (4.0.0)\n",
            "Requirement already satisfied: requests-oauthlib>=0.5.0 in /anaconda/envs/azureml_py36/lib/python3.6/site-packages (from msrest>=0.5.1->azureml-core~=1.20.0->azureml-train-automl-runtime==1.20.0) (1.3.0)\n",
            "Requirement already satisfied: isodate>=0.6.0 in /anaconda/envs/azureml_py36/lib/python3.6/site-packages (from msrest>=0.5.1->azureml-core~=1.20.0->azureml-train-automl-runtime==1.20.0) (0.6.0)\n",
            "Requirement already satisfied: websocket-client>=0.32.0 in /anaconda/envs/azureml_py36/lib/python3.6/site-packages (from docker->azureml-core~=1.20.0->azureml-train-automl-runtime==1.20.0) (0.57.0)\n",
            "Requirement already satisfied: pyasn1>=0.1.1 in /anaconda/envs/azureml_py36/lib/python3.6/site-packages (from ndg-httpsclient->azureml-core~=1.20.0->azureml-train-automl-runtime==1.20.0) (0.4.8)\n",
            "Requirement already satisfied: cffi>=1.12 in /anaconda/envs/azureml_py36/lib/python3.6/site-packages (from cryptography!=1.9,!=2.0.*,!=2.1.*,!=2.2.*->azureml-core~=1.20.0->azureml-train-automl-runtime==1.20.0) (1.14.4)\n",
            "Requirement already satisfied: importlib-metadata; python_version < \"3.8\" in /anaconda/envs/azureml_py36/lib/python3.6/site-packages (from jsonpickle->azureml-core~=1.20.0->azureml-train-automl-runtime==1.20.0) (3.3.0)\n",
            "Requirement already satisfied: jeepney>=0.6 in /anaconda/envs/azureml_py36/lib/python3.6/site-packages (from SecretStorage->azureml-core~=1.20.0->azureml-train-automl-runtime==1.20.0) (0.6.0)\n",
            "Requirement already satisfied: ruamel.yaml.clib>=0.1.2; platform_python_implementation == \"CPython\" and python_version < \"3.9\" in /anaconda/envs/azureml_py36/lib/python3.6/site-packages (from ruamel.yaml>=0.15.35->azureml-core~=1.20.0->azureml-train-automl-runtime==1.20.0) (0.2.2)\n",
            "Requirement already satisfied: backports.weakref in /anaconda/envs/azureml_py36/lib/python3.6/site-packages (from backports.tempfile->azureml-core~=1.20.0->azureml-train-automl-runtime==1.20.0) (1.0.post1)\n",
            "Requirement already satisfied: termcolor in /anaconda/envs/azureml_py36/lib/python3.6/site-packages (from fire->keras2onnx<=1.6.0,>=1.4.0->azureml-train-automl-runtime==1.20.0) (1.1.0)\n",
            "Requirement already satisfied: liac-arff>=2.1.1 in /anaconda/envs/azureml_py36/lib/python3.6/site-packages (from azureml-model-management-sdk==1.0.1b6.post1->azureml-defaults~=1.20.0->azureml-train-automl-runtime==1.20.0) (2.5.0)\n",
            "Requirement already satisfied: click>=5.1 in /anaconda/envs/azureml_py36/lib/python3.6/site-packages (from flask==1.0.3->azureml-defaults~=1.20.0->azureml-train-automl-runtime==1.20.0) (7.1.2)\n",
            "Requirement already satisfied: itsdangerous>=0.24 in /anaconda/envs/azureml_py36/lib/python3.6/site-packages (from flask==1.0.3->azureml-defaults~=1.20.0->azureml-train-automl-runtime==1.20.0) (1.1.0)\n",
            "Requirement already satisfied: Cython>=0.29 in /anaconda/envs/azureml_py36/lib/python3.6/site-packages (from pmdarima==1.1.1->azureml-automl-runtime~=1.20.0->azureml-train-automl-runtime==1.20.0) (0.29.21)\n",
            "Requirement already satisfied: dotnetcore2>=2.1.2 in /anaconda/envs/azureml_py36/lib/python3.6/site-packages (from nimbusml<=1.8.0,>=1.7.1->azureml-automl-runtime~=1.20.0->azureml-train-automl-runtime==1.20.0) (2.1.20)\n",
            "Requirement already satisfied: cloudpickle<2.0.0,>=1.1.0 in /anaconda/envs/azureml_py36/lib/python3.6/site-packages (from azureml-dataprep<2.8.0a,>=2.7.0a->azureml-dataset-runtime[fuse,pandas]~=1.20.0->azureml-train-automl-runtime==1.20.0) (1.6.0)\n",
            "Requirement already satisfied: azure-identity<1.5.0,>=1.2.0 in /anaconda/envs/azureml_py36/lib/python3.6/site-packages (from azureml-dataprep<2.8.0a,>=2.7.0a->azureml-dataset-runtime[fuse,pandas]~=1.20.0->azureml-train-automl-runtime==1.20.0) (1.4.1)\n",
            "Requirement already satisfied: azureml-dataprep-rslex<1.6.0a,>=1.5.0dev0 in /anaconda/envs/azureml_py36/lib/python3.6/site-packages (from azureml-dataprep<2.8.0a,>=2.7.0a->azureml-dataset-runtime[fuse,pandas]~=1.20.0->azureml-train-automl-runtime==1.20.0) (1.5.0)\n",
            "Requirement already satisfied: azureml-dataprep-native<28.0.0,>=27.0.0 in /anaconda/envs/azureml_py36/lib/python3.6/site-packages (from azureml-dataprep<2.8.0a,>=2.7.0a->azureml-dataset-runtime[fuse,pandas]~=1.20.0->azureml-train-automl-runtime==1.20.0) (27.0.0)\n",
            "Requirement already satisfied: pyparsing>=2.0.2 in /anaconda/envs/azureml_py36/lib/python3.6/site-packages (from packaging->interpret-community==0.15.*->azureml-interpret~=1.20.0->azureml-train-automl-runtime==1.20.0) (2.4.7)\n",
            "Requirement already satisfied: tqdm>4.25.0 in /anaconda/envs/azureml_py36/lib/python3.6/site-packages (from shap<=0.34.0,>=0.20.0->interpret-community==0.15.*->azureml-interpret~=1.20.0->azureml-train-automl-runtime==1.20.0) (4.55.1)\n",
            "Requirement already satisfied: oauthlib>=3.0.0 in /anaconda/envs/azureml_py36/lib/python3.6/site-packages (from requests-oauthlib>=0.5.0->msrest>=0.5.1->azureml-core~=1.20.0->azureml-train-automl-runtime==1.20.0) (3.1.0)\n",
            "Requirement already satisfied: pycparser in /anaconda/envs/azureml_py36/lib/python3.6/site-packages (from cffi>=1.12->cryptography!=1.9,!=2.0.*,!=2.1.*,!=2.2.*->azureml-core~=1.20.0->azureml-train-automl-runtime==1.20.0) (2.20)\n",
            "Requirement already satisfied: zipp>=0.5 in /anaconda/envs/azureml_py36/lib/python3.6/site-packages (from importlib-metadata; python_version < \"3.8\"->jsonpickle->azureml-core~=1.20.0->azureml-train-automl-runtime==1.20.0) (3.4.0)\n",
            "Requirement already satisfied: distro>=1.2.0 in /anaconda/envs/azureml_py36/lib/python3.6/site-packages (from dotnetcore2>=2.1.2->nimbusml<=1.8.0,>=1.7.1->azureml-automl-runtime~=1.20.0->azureml-train-automl-runtime==1.20.0) (1.5.0)\n",
            "Requirement already satisfied: msal<2.0.0,>=1.3.0 in /anaconda/envs/azureml_py36/lib/python3.6/site-packages (from azure-identity<1.5.0,>=1.2.0->azureml-dataprep<2.8.0a,>=2.7.0a->azureml-dataset-runtime[fuse,pandas]~=1.20.0->azureml-train-automl-runtime==1.20.0) (1.8.0)\n",
            "Requirement already satisfied: msal-extensions~=0.2.2 in /anaconda/envs/azureml_py36/lib/python3.6/site-packages (from azure-identity<1.5.0,>=1.2.0->azureml-dataprep<2.8.0a,>=2.7.0a->azureml-dataset-runtime[fuse,pandas]~=1.20.0->azureml-train-automl-runtime==1.20.0) (0.2.2)\n",
            "Requirement already satisfied: portalocker~=1.0; platform_system != \"Windows\" in /anaconda/envs/azureml_py36/lib/python3.6/site-packages (from msal-extensions~=0.2.2->azure-identity<1.5.0,>=1.2.0->azureml-dataprep<2.8.0a,>=2.7.0a->azureml-dataset-runtime[fuse,pandas]~=1.20.0->azureml-train-automl-runtime==1.20.0) (1.7.1)\n",
            "Note: you may need to restart the kernel to use updated packages.\n"
          ]
        }
      ],
      "execution_count": 8,
      "metadata": {
        "collapsed": true,
        "jupyter": {
          "source_hidden": false,
          "outputs_hidden": false
        },
        "nteract": {
          "transient": {
            "deleting": false
          }
        },
        "gather": {
          "logged": 1614446142385
        }
      }
    },
    {
      "cell_type": "code",
      "source": [
        "from azureml.core import Workspace, Experiment"
      ],
      "outputs": [],
      "execution_count": 10,
      "metadata": {
        "gather": {
          "logged": 1614446158467
        },
        "jupyter": {
          "outputs_hidden": false,
          "source_hidden": false
        },
        "nteract": {
          "transient": {
            "deleting": false
          }
        }
      }
    },
    {
      "cell_type": "markdown",
      "source": [
        "## Dataset\n",
        "\n",
        "### Overview\n",
        "TODO: In this markdown cell, give an overview of the dataset you are using. Also mention the task you will be performing.\n",
        "\n",
        "\n",
        "TODO: Get data. In the cell below, write code to access the data you will be using in this project. Remember that the dataset needs to be external."
      ],
      "metadata": {}
    },
    {
      "cell_type": "code",
      "source": [
        "ws = Workspace.from_config()\n",
        "\n",
        "# choose a name for experiment\n",
        "experiment_name = 'auto-ml'\n",
        "\n",
        "experiment=Experiment(ws, experiment_name)\n"
      ],
      "outputs": [],
      "execution_count": 11,
      "metadata": {
        "gather": {
          "logged": 1614446162417
        },
        "jupyter": {
          "outputs_hidden": false,
          "source_hidden": false
        },
        "nteract": {
          "transient": {
            "deleting": false
          }
        }
      }
    },
    {
      "cell_type": "code",
      "source": [
        "from azureml.core.compute import ComputeTarget, AmlCompute\r\n",
        "from azureml.core.compute_target import ComputeTargetException\r\n",
        "\r\n",
        "# Choose a name for your CPU cluster\r\n",
        "cpu_cluster_name = \"cpu-cluster-4\"\r\n",
        "\r\n",
        "# Verify that cluster does not exist already\r\n",
        "try:\r\n",
        "    compute_target = ComputeTarget(workspace=ws, name=cpu_cluster_name)\r\n",
        "    print('Found existing cluster, use it.')\r\n",
        "except ComputeTargetException:\r\n",
        "    compute_config = AmlCompute.provisioning_configuration(vm_size='STANDARD_D2_V2',\r\n",
        "                                                           max_nodes=6)\r\n",
        "    compute_target = ComputeTarget.create(ws, cpu_cluster_name, compute_config)\r\n",
        "\r\n",
        "compute_target.wait_for_completion(show_output=True)"
      ],
      "outputs": [
        {
          "output_type": "stream",
          "name": "stdout",
          "text": [
            "Found existing cluster, use it.\n",
            "Succeeded\n",
            "AmlCompute wait for completion finished\n",
            "\n",
            "Minimum number of nodes requested have been provisioned\n"
          ]
        }
      ],
      "execution_count": 13,
      "metadata": {
        "collapsed": true,
        "jupyter": {
          "source_hidden": false,
          "outputs_hidden": false
        },
        "nteract": {
          "transient": {
            "deleting": false
          }
        },
        "gather": {
          "logged": 1614446168765
        }
      }
    },
    {
      "cell_type": "code",
      "source": [
        "from azureml.data.dataset_factory import TabularDatasetFactory\r\n",
        "\r\n",
        "csv_file = 'https://raw.githubusercontent.com/SwapnaKategaru/Project3/main/heart_failure_clinical_records_dataset.csv'\r\n",
        "\r\n",
        "data = TabularDatasetFactory.from_delimited_files(csv_file)"
      ],
      "outputs": [],
      "execution_count": 14,
      "metadata": {
        "collapsed": true,
        "jupyter": {
          "source_hidden": false,
          "outputs_hidden": false
        },
        "nteract": {
          "transient": {
            "deleting": false
          }
        },
        "gather": {
          "logged": 1614446176513
        }
      }
    },
    {
      "cell_type": "code",
      "source": [
        "%%writefile conda_dependencies.yml\r\n",
        "dependencies:\r\n",
        "- python=3.6.2\r\n",
        "- pip:\r\n",
        "  - scikit-learn=0.21.2\r\n",
        "  - azureml-defaults"
      ],
      "outputs": [
        {
          "output_type": "stream",
          "name": "stdout",
          "text": [
            "Overwriting conda_dependencies.yml\n"
          ]
        }
      ],
      "execution_count": 16,
      "metadata": {
        "collapsed": true,
        "jupyter": {
          "source_hidden": false,
          "outputs_hidden": false
        },
        "nteract": {
          "transient": {
            "deleting": false
          }
        },
        "gather": {
          "logged": 1613142071197
        }
      }
    },
    {
      "cell_type": "code",
      "source": [
        "from train import clean_data\r\n",
        "from sklearn.model_selection import train_test_split\r\n",
        "import pandas as pd\r\n",
        "x, y = clean_data(data)\r\n",
        "\r\n",
        "x_train, x_test, y_train, y_test = train_test_split(x, y, test_size=0.33, random_state=42)\r\n",
        "train_data = pd.concat([x_train, y_train], axis = 1)"
      ],
      "outputs": [],
      "execution_count": 17,
      "metadata": {
        "collapsed": true,
        "jupyter": {
          "source_hidden": false,
          "outputs_hidden": false
        },
        "nteract": {
          "transient": {
            "deleting": false
          }
        },
        "gather": {
          "logged": 1614446187512
        }
      }
    },
    {
      "cell_type": "code",
      "source": [
        "from azureml.train.automl import AutoMLConfig\r\n",
        "import logging\r\n",
        "\r\n",
        "automl_settings = {\r\n",
        "    \"enable_early_stopping\" : True,\r\n",
        "    \"max_concurrent_iterations\": 4,\r\n",
        "    \"primary_metric\": 'AUC_weighted',\r\n",
        "    \"featurization\": 'auto',\r\n",
        "    \"verbosity\": logging.INFO,\r\n",
        "}\r\n",
        "\r\n",
        "automl_config = AutoMLConfig(\r\n",
        "    experiment_timeout_minutes=15,\r\n",
        "    task='classification',\r\n",
        "    training_data=train_data,\r\n",
        "    label_column_name='DEATH_EVENT',\r\n",
        "    n_cross_validations=2)"
      ],
      "outputs": [],
      "execution_count": 19,
      "metadata": {
        "collapsed": true,
        "jupyter": {
          "source_hidden": false,
          "outputs_hidden": false
        },
        "nteract": {
          "transient": {
            "deleting": false
          }
        },
        "gather": {
          "logged": 1614446197612
        }
      }
    },
    {
      "cell_type": "code",
      "source": [
        "from azureml.widgets import RunDetails\r\n",
        "remote_run = experiment.submit(automl_config, show_output=True)\r\n",
        "RunDetails(remote_run).show()"
      ],
      "outputs": [
        {
          "output_type": "stream",
          "name": "stdout",
          "text": [
            "No run_configuration provided, running on local with default configuration\n",
            "\n",
            "****************************************************************************************************\n",
            "DATA GUARDRAILS: \n",
            "\n",
            "TYPE:         Class balancing detection\n",
            "STATUS:       PASSED\n",
            "DESCRIPTION:  Your inputs were analyzed, and all classes are balanced in your training data.\n",
            "              Learn more about imbalanced data: https://aka.ms/AutomatedMLImbalancedData\n",
            "\n",
            "****************************************************************************************************\n",
            "\n",
            "TYPE:         Missing feature values imputation\n",
            "STATUS:       PASSED\n",
            "DESCRIPTION:  No feature missing values were detected in the training data.\n",
            "              Learn more about missing value imputation: https://aka.ms/AutomatedMLFeaturization\n",
            "\n",
            "****************************************************************************************************\n",
            "\n",
            "TYPE:         High cardinality feature detection\n",
            "STATUS:       PASSED\n",
            "DESCRIPTION:  Your inputs were analyzed, and no high cardinality features were detected.\n",
            "              Learn more about high cardinality feature handling: https://aka.ms/AutomatedMLFeaturization\n",
            "\n",
            "****************************************************************************************************\n",
            "Current status: ModelSelection. Beginning model selection.\n",
            "\n",
            "****************************************************************************************************\n",
            "ITERATION: The iteration being evaluated.\n",
            "PIPELINE: A summary description of the pipeline being evaluated.\n",
            "DURATION: Time taken for the current iteration.\n",
            "METRIC: The result of computing score on the fitted pipeline.\n",
            "BEST: The best observed score thus far.\n",
            "****************************************************************************************************\n",
            "\n",
            " ITERATION   PIPELINE                                       DURATION      METRIC      BEST\n",
            "         0   MaxAbsScaler XGBoostClassifier                 0:00:27       0.8500    0.8500\n",
            "         2   MinMaxScaler RandomForest                      0:00:26       0.8500    0.8500\n",
            "         3   MinMaxScaler RandomForest                      0:00:26       0.8400    0.8500\n",
            "         4   MinMaxScaler RandomForest                      0:00:26       0.8550    0.8550\n",
            "         5   MinMaxScaler SVM                               0:00:26       0.7950    0.8550\n",
            "         6   MaxAbsScaler GradientBoosting                  0:00:31       0.8650    0.8650\n",
            "         7   StandardScalerWrapper RandomForest             0:00:26       0.8700    0.8700\n",
            "         8   SparseNormalizer XGBoostClassifier             0:00:27       0.8600    0.8700\n",
            "         9   SparseNormalizer LightGBM                      0:00:26       0.8400    0.8700\n",
            "        10   RobustScaler RandomForest                      0:00:31       0.8850    0.8850\n",
            "        11   MaxAbsScaler LightGBM                          0:00:26       0.8700    0.8850\n",
            "        12   RobustScaler ExtremeRandomTrees                0:00:26       0.8850    0.8850\n",
            "        13   SparseNormalizer XGBoostClassifier             0:00:27       0.8500    0.8850\n",
            "        14   StandardScalerWrapper ExtremeRandomTrees       0:00:27       0.8750    0.8850\n",
            "        15   StandardScalerWrapper XGBoostClassifier        0:00:26       0.8400    0.8850\n",
            "        16   StandardScalerWrapper GradientBoosting         0:00:26       0.8200    0.8850\n",
            "        17   StandardScalerWrapper RandomForest             0:00:27       0.8900    0.8900\n",
            "        18   StandardScalerWrapper XGBoostClassifier        0:00:31       0.8600    0.8900\n",
            "        19   MinMaxScaler LightGBM                          0:00:26       0.8650    0.8900\n",
            "        20   RobustScaler KNN                               0:00:26       0.7350    0.8900\n",
            "        21   MaxAbsScaler RandomForest                      0:00:36       0.8600    0.8900\n",
            "        22   StandardScalerWrapper XGBoostClassifier        0:00:27       0.8300    0.8900\n",
            "        23   MaxAbsScaler RandomForest                      0:00:32       0.8750    0.8900\n",
            "        24   StandardScalerWrapper RandomForest             0:00:32       0.8750    0.8900\n",
            "        25   SparseNormalizer RandomForest                  0:00:25       0.5650    0.8900\n",
            "        26   MaxAbsScaler LightGBM                          0:00:25       0.8150    0.8900\n",
            "        27   SparseNormalizer LightGBM                      0:00:25       0.8600    0.8900\n",
            "        28   MaxAbsScaler ExtremeRandomTrees                0:00:27       0.8250    0.8900\n",
            "        29   MaxAbsScaler LightGBM                          0:00:25       0.8650    0.8900\n",
            "        30   StandardScalerWrapper RandomForest             0:00:31       0.8900    0.8900\n",
            "        31   VotingEnsemble                                 0:00:23       0.9000    0.9000\n",
            "        32   StackEnsemble                                  0:00:23       0.8650    0.9000\n",
            "Stopping criteria reached at iteration 33. Ending experiment.\n",
            "****************************************************************************************************\n",
            "Current status: BestRunExplainModel. Best run model explanations started\n",
            "Current status: ModelExplanationDataSetSetup. Model explanations data setup completed\n",
            "Current status: PickSurrogateModel. Choosing LightGBM as the surrogate model for explanations\n",
            "Current status: EngineeredFeatureExplanations. Computation of engineered features started\n",
            "Current status: EngineeredFeatureExplanations. Computation of engineered features completed\n",
            "Current status: RawFeaturesExplanations. Computation of raw features started\n",
            "Current status: RawFeaturesExplanations. Computation of raw features completed\n",
            "Current status: BestRunExplainModel. Best run model explanations completed\n",
            "****************************************************************************************************\n"
          ]
        },
        {
          "output_type": "display_data",
          "data": {
            "text/plain": "_AutoMLWidget(widget_settings={'childWidgetDisplay': 'popup', 'send_telemetry': False, 'log_level': 'INFO', 's…",
            "application/vnd.jupyter.widget-view+json": {
              "version_major": 2,
              "version_minor": 0,
              "model_id": "e53fe9d40f0f42cca4090fc53a45be76"
            }
          },
          "metadata": {}
        },
        {
          "output_type": "display_data",
          "data": {
            "application/aml.mini.widget.v1": "{\"status\": \"Completed\", \"workbench_run_details_uri\": \"https://ml.azure.com/experiments/auto-ml/runs/AutoML_a1526448-c253-404f-8d61-6ca7995e708c?wsid=/subscriptions/976ee174-3882-4721-b90a-b5fef6b72f24/resourcegroups/aml-quickstarts-139578/workspaces/quick-starts-ws-139578\", \"run_id\": \"AutoML_a1526448-c253-404f-8d61-6ca7995e708c\", \"run_properties\": {\"run_id\": \"AutoML_a1526448-c253-404f-8d61-6ca7995e708c\", \"created_utc\": \"2021-02-27T17:16:50.512746Z\", \"properties\": {\"num_iterations\": \"1000\", \"training_type\": \"TrainFull\", \"acquisition_function\": \"EI\", \"primary_metric\": \"accuracy\", \"train_split\": \"0\", \"acquisition_parameter\": \"0\", \"num_cross_validation\": \"2\", \"target\": \"local\", \"AMLSettingsJsonString\": \"{\\\"path\\\":null,\\\"name\\\":\\\"auto-ml\\\",\\\"subscription_id\\\":\\\"976ee174-3882-4721-b90a-b5fef6b72f24\\\",\\\"resource_group\\\":\\\"aml-quickstarts-139578\\\",\\\"workspace_name\\\":\\\"quick-starts-ws-139578\\\",\\\"region\\\":\\\"southcentralus\\\",\\\"compute_target\\\":\\\"local\\\",\\\"spark_service\\\":null,\\\"azure_service\\\":\\\"Microsoft.AzureNotebookVM\\\",\\\"many_models\\\":false,\\\"pipeline_fetch_max_batch_size\\\":1,\\\"iterations\\\":1000,\\\"primary_metric\\\":\\\"accuracy\\\",\\\"task_type\\\":\\\"classification\\\",\\\"data_script\\\":null,\\\"validation_size\\\":0.0,\\\"n_cross_validations\\\":2,\\\"y_min\\\":null,\\\"y_max\\\":null,\\\"num_classes\\\":2,\\\"featurization\\\":\\\"auto\\\",\\\"_ignore_package_version_incompatibilities\\\":false,\\\"is_timeseries\\\":false,\\\"max_cores_per_iteration\\\":1,\\\"max_concurrent_iterations\\\":1,\\\"iteration_timeout_minutes\\\":null,\\\"mem_in_mb\\\":null,\\\"enforce_time_on_windows\\\":false,\\\"experiment_timeout_minutes\\\":15,\\\"experiment_exit_score\\\":null,\\\"whitelist_models\\\":null,\\\"blacklist_algos\\\":[\\\"TensorFlowLinearClassifier\\\",\\\"TensorFlowDNN\\\"],\\\"supported_models\\\":[\\\"DecisionTree\\\",\\\"RandomForest\\\",\\\"KNN\\\",\\\"LogisticRegression\\\",\\\"LightGBM\\\",\\\"ExtremeRandomTrees\\\",\\\"MultinomialNaiveBayes\\\",\\\"BernoulliNaiveBayes\\\",\\\"XGBoostClassifier\\\",\\\"SGD\\\",\\\"LinearSVM\\\",\\\"SVM\\\",\\\"GradientBoosting\\\",\\\"TensorFlowDNN\\\",\\\"AveragedPerceptronClassifier\\\",\\\"TensorFlowLinearClassifier\\\"],\\\"auto_blacklist\\\":true,\\\"blacklist_samples_reached\\\":false,\\\"exclude_nan_labels\\\":true,\\\"verbosity\\\":20,\\\"_debug_log\\\":\\\"automl.log\\\",\\\"show_warnings\\\":false,\\\"model_explainability\\\":true,\\\"service_url\\\":null,\\\"sdk_url\\\":null,\\\"sdk_packages\\\":null,\\\"enable_onnx_compatible_models\\\":false,\\\"enable_split_onnx_featurizer_estimator_models\\\":false,\\\"vm_type\\\":null,\\\"telemetry_verbosity\\\":20,\\\"send_telemetry\\\":true,\\\"enable_dnn\\\":false,\\\"scenario\\\":\\\"SDK-1.13.0\\\",\\\"environment_label\\\":null,\\\"force_text_dnn\\\":false,\\\"enable_feature_sweeping\\\":true,\\\"enable_early_stopping\\\":false,\\\"early_stopping_n_iters\\\":10,\\\"metrics\\\":null,\\\"enable_ensembling\\\":true,\\\"enable_stack_ensembling\\\":true,\\\"ensemble_iterations\\\":15,\\\"enable_tf\\\":false,\\\"enable_subsampling\\\":null,\\\"subsample_seed\\\":null,\\\"enable_nimbusml\\\":false,\\\"enable_streaming\\\":false,\\\"force_streaming\\\":false,\\\"track_child_runs\\\":true,\\\"allowed_private_models\\\":[],\\\"label_column_name\\\":\\\"DEATH_EVENT\\\",\\\"weight_column_name\\\":null,\\\"cv_split_column_names\\\":null,\\\"enable_local_managed\\\":false,\\\"_local_managed_run_id\\\":null,\\\"cost_mode\\\":1,\\\"lag_length\\\":0,\\\"metric_operation\\\":\\\"maximize\\\",\\\"preprocess\\\":true}\", \"DataPrepJsonString\": null, \"EnableSubsampling\": null, \"runTemplate\": \"AutoML\", \"azureml.runsource\": \"automl\", \"display_task_type\": \"classification\", \"dependencies_versions\": \"{\\\"azureml-widgets\\\": \\\"1.20.0\\\", \\\"azureml-train\\\": \\\"1.20.0\\\", \\\"azureml-train-restclients-hyperdrive\\\": \\\"1.20.0\\\", \\\"azureml-train-core\\\": \\\"1.20.0\\\", \\\"azureml-train-automl\\\": \\\"1.20.0\\\", \\\"azureml-train-automl-runtime\\\": \\\"1.20.0\\\", \\\"azureml-train-automl-client\\\": \\\"1.20.0\\\", \\\"azureml-tensorboard\\\": \\\"1.20.0\\\", \\\"azureml-telemetry\\\": \\\"1.20.0\\\", \\\"azureml-sdk\\\": \\\"1.20.0\\\", \\\"azureml-samples\\\": \\\"0+unknown\\\", \\\"azureml-pipeline\\\": \\\"1.20.0\\\", \\\"azureml-pipeline-steps\\\": \\\"1.20.0\\\", \\\"azureml-pipeline-core\\\": \\\"1.20.0\\\", \\\"azureml-opendatasets\\\": \\\"1.20.0\\\", \\\"azureml-model-management-sdk\\\": \\\"1.0.1b6.post1\\\", \\\"azureml-mlflow\\\": \\\"1.20.0.post1\\\", \\\"azureml-interpret\\\": \\\"1.20.0\\\", \\\"azureml-explain-model\\\": \\\"1.20.0\\\", \\\"azureml-defaults\\\": \\\"1.20.0\\\", \\\"azureml-dataset-runtime\\\": \\\"1.20.0\\\", \\\"azureml-dataprep\\\": \\\"2.7.3\\\", \\\"azureml-dataprep-rslex\\\": \\\"1.5.0\\\", \\\"azureml-dataprep-native\\\": \\\"27.0.0\\\", \\\"azureml-datadrift\\\": \\\"1.20.0\\\", \\\"azureml-core\\\": \\\"1.20.0\\\", \\\"azureml-contrib-services\\\": \\\"1.20.0\\\", \\\"azureml-contrib-server\\\": \\\"1.20.0\\\", \\\"azureml-contrib-reinforcementlearning\\\": \\\"1.20.0\\\", \\\"azureml-contrib-pipeline-steps\\\": \\\"1.20.0\\\", \\\"azureml-contrib-notebook\\\": \\\"1.20.0\\\", \\\"azureml-contrib-interpret\\\": \\\"1.20.0\\\", \\\"azureml-contrib-gbdt\\\": \\\"1.20.0\\\", \\\"azureml-contrib-fairness\\\": \\\"1.20.0\\\", \\\"azureml-contrib-dataset\\\": \\\"1.20.0\\\", \\\"azureml-cli-common\\\": \\\"1.20.0\\\", \\\"azureml-automl-runtime\\\": \\\"1.20.0\\\", \\\"azureml-automl-core\\\": \\\"1.20.0\\\", \\\"azureml-accel-models\\\": \\\"1.20.0\\\"}\", \"_aml_system_scenario_identification\": \"Local.Parent\", \"ClientSdkVersion\": \"1.20.0\", \"ClientType\": \"SDK\", \"environment_cpu_name\": \"AzureML-AutoML\", \"environment_cpu_label\": \"prod\", \"environment_gpu_name\": \"AzureML-AutoML-GPU\", \"environment_gpu_label\": \"prod\", \"root_attribution\": \"automl\", \"attribution\": \"AutoML\", \"Orchestrator\": \"AutoML\", \"_azureml.ComputeTargetType\": \"local\", \"ProblemInfoJsonString\": \"{\\\"dataset_num_categorical\\\": 0, \\\"is_sparse\\\": false, \\\"subsampling\\\": false, \\\"dataset_classes\\\": 2, \\\"dataset_features\\\": 12, \\\"dataset_samples\\\": 200, \\\"single_frequency_class_detected\\\": false}\", \"feature_skus\": \"automatedml_sdk_guardrails\"}, \"tags\": {\"model_explain_run\": \"best_run\", \"best_score\": \"0.9\", \"best_pipeline\": \"VotingEnsemble\", \"automl_best_child_run_id\": \"AutoML_a1526448-c253-404f-8d61-6ca7995e708c_31\", \"model_explain_best_run_child_id\": \"AutoML_a1526448-c253-404f-8d61-6ca7995e708c_31\"}, \"end_time_utc\": \"2021-02-27T17:32:58.185068Z\", \"status\": \"Completed\", \"log_files\": {}, \"log_groups\": [], \"run_duration\": \"0:16:07\"}, \"child_runs\": [{\"run_id\": \"AutoML_a1526448-c253-404f-8d61-6ca7995e708c_0\", \"run_number\": 42, \"metric\": null, \"status\": \"Completed\", \"run_type\": null, \"training_percent\": \"100\", \"start_time\": \"2021-02-27T17:17:02.271898Z\", \"end_time\": \"2021-02-27T17:17:28.868027Z\", \"created_time\": \"2021-02-27T17:17:02.174275Z\", \"created_time_dt\": \"2021-02-27T17:17:02.174275Z\", \"duration\": \"0:00:26\", \"iteration\": \"0\", \"goal\": \"accuracy_max\", \"run_name\": \"MaxAbsScaler, LightGBM\", \"run_properties\": \"copy=True\", \"primary_metric\": 0.81, \"best_metric\": 0.81}, {\"run_id\": \"AutoML_a1526448-c253-404f-8d61-6ca7995e708c_1\", \"run_number\": 43, \"metric\": null, \"status\": \"Completed\", \"run_type\": null, \"training_percent\": \"100\", \"start_time\": \"2021-02-27T17:17:29.172818Z\", \"end_time\": \"2021-02-27T17:17:56.381537Z\", \"created_time\": \"2021-02-27T17:17:29.072892Z\", \"created_time_dt\": \"2021-02-27T17:17:29.072892Z\", \"duration\": \"0:00:27\", \"iteration\": \"1\", \"goal\": \"accuracy_max\", \"run_name\": \"MaxAbsScaler, XGBoostClassifier\", \"run_properties\": \"copy=True\", \"primary_metric\": 0.85, \"best_metric\": 0.85}, {\"run_id\": \"AutoML_a1526448-c253-404f-8d61-6ca7995e708c_2\", \"run_number\": 44, \"metric\": null, \"status\": \"Completed\", \"run_type\": null, \"training_percent\": \"100\", \"start_time\": \"2021-02-27T17:17:57.062469Z\", \"end_time\": \"2021-02-27T17:18:23.619279Z\", \"created_time\": \"2021-02-27T17:17:56.935568Z\", \"created_time_dt\": \"2021-02-27T17:17:56.935568Z\", \"duration\": \"0:00:26\", \"iteration\": \"2\", \"goal\": \"accuracy_max\", \"run_name\": \"MinMaxScaler, RandomForest\", \"run_properties\": \"copy=True, feature_range=(0, 1\", \"primary_metric\": 0.85, \"best_metric\": 0.85}, {\"run_id\": \"AutoML_a1526448-c253-404f-8d61-6ca7995e708c_3\", \"run_number\": 45, \"metric\": null, \"status\": \"Completed\", \"run_type\": null, \"training_percent\": \"100\", \"start_time\": \"2021-02-27T17:18:25.066252Z\", \"end_time\": \"2021-02-27T17:18:51.450686Z\", \"created_time\": \"2021-02-27T17:18:24.964287Z\", \"created_time_dt\": \"2021-02-27T17:18:24.964287Z\", \"duration\": \"0:00:26\", \"iteration\": \"3\", \"goal\": \"accuracy_max\", \"run_name\": \"MinMaxScaler, RandomForest\", \"run_properties\": \"copy=True, feature_range=(0, 1\", \"primary_metric\": 0.84, \"best_metric\": 0.85}, {\"run_id\": \"AutoML_a1526448-c253-404f-8d61-6ca7995e708c_4\", \"run_number\": 46, \"metric\": null, \"status\": \"Completed\", \"run_type\": null, \"training_percent\": \"100\", \"start_time\": \"2021-02-27T17:18:52.783837Z\", \"end_time\": \"2021-02-27T17:19:19.186728Z\", \"created_time\": \"2021-02-27T17:18:52.68384Z\", \"created_time_dt\": \"2021-02-27T17:18:52.68384Z\", \"duration\": \"0:00:26\", \"iteration\": \"4\", \"goal\": \"accuracy_max\", \"run_name\": \"MinMaxScaler, RandomForest\", \"run_properties\": \"copy=True, feature_range=(0, 1\", \"primary_metric\": 0.855, \"best_metric\": 0.855}, {\"run_id\": \"AutoML_a1526448-c253-404f-8d61-6ca7995e708c_5\", \"run_number\": 47, \"metric\": null, \"status\": \"Completed\", \"run_type\": null, \"training_percent\": \"100\", \"start_time\": \"2021-02-27T17:19:20.386832Z\", \"end_time\": \"2021-02-27T17:19:46.836136Z\", \"created_time\": \"2021-02-27T17:19:20.287385Z\", \"created_time_dt\": \"2021-02-27T17:19:20.287385Z\", \"duration\": \"0:00:26\", \"iteration\": \"5\", \"goal\": \"accuracy_max\", \"run_name\": \"MinMaxScaler, SVM\", \"run_properties\": \"copy=True, feature_range=(0, 1\", \"primary_metric\": 0.795, \"best_metric\": 0.855}, {\"run_id\": \"AutoML_a1526448-c253-404f-8d61-6ca7995e708c_6\", \"run_number\": 48, \"metric\": null, \"status\": \"Completed\", \"run_type\": null, \"training_percent\": \"100\", \"start_time\": \"2021-02-27T17:19:48.154252Z\", \"end_time\": \"2021-02-27T17:20:19.83557Z\", \"created_time\": \"2021-02-27T17:19:48.046962Z\", \"created_time_dt\": \"2021-02-27T17:19:48.046962Z\", \"duration\": \"0:00:31\", \"iteration\": \"6\", \"goal\": \"accuracy_max\", \"run_name\": \"MaxAbsScaler, GradientBoosting\", \"run_properties\": \"copy=True\", \"primary_metric\": 0.865, \"best_metric\": 0.865}, {\"run_id\": \"AutoML_a1526448-c253-404f-8d61-6ca7995e708c_7\", \"run_number\": 49, \"metric\": null, \"status\": \"Completed\", \"run_type\": null, \"training_percent\": \"100\", \"start_time\": \"2021-02-27T17:20:21.043227Z\", \"end_time\": \"2021-02-27T17:20:47.803329Z\", \"created_time\": \"2021-02-27T17:20:20.932077Z\", \"created_time_dt\": \"2021-02-27T17:20:20.932077Z\", \"duration\": \"0:00:26\", \"iteration\": \"7\", \"goal\": \"accuracy_max\", \"run_name\": \"StandardScalerWrapper, RandomForest\", \"run_properties\": \"<azureml.automl.runtime.shared.model_wrappers.StandardScalerWrapper object at 0x7f3af65b8d68\", \"primary_metric\": 0.87, \"best_metric\": 0.87}, {\"run_id\": \"AutoML_a1526448-c253-404f-8d61-6ca7995e708c_8\", \"run_number\": 50, \"metric\": null, \"status\": \"Completed\", \"run_type\": null, \"training_percent\": \"100\", \"start_time\": \"2021-02-27T17:20:49.127857Z\", \"end_time\": \"2021-02-27T17:21:16.080929Z\", \"created_time\": \"2021-02-27T17:20:49.027505Z\", \"created_time_dt\": \"2021-02-27T17:20:49.027505Z\", \"duration\": \"0:00:27\", \"iteration\": \"8\", \"goal\": \"accuracy_max\", \"run_name\": \"SparseNormalizer, XGBoostClassifier\", \"run_properties\": \"<azureml.automl.runtime.shared.model_wrappers.SparseNormalizer object at 0x7f3af65b0160\", \"primary_metric\": 0.86, \"best_metric\": 0.87}, {\"run_id\": \"AutoML_a1526448-c253-404f-8d61-6ca7995e708c_9\", \"run_number\": 51, \"metric\": null, \"status\": \"Completed\", \"run_type\": null, \"training_percent\": \"100\", \"start_time\": \"2021-02-27T17:21:17.349748Z\", \"end_time\": \"2021-02-27T17:21:43.797768Z\", \"created_time\": \"2021-02-27T17:21:17.240535Z\", \"created_time_dt\": \"2021-02-27T17:21:17.240535Z\", \"duration\": \"0:00:26\", \"iteration\": \"9\", \"goal\": \"accuracy_max\", \"run_name\": \"SparseNormalizer, LightGBM\", \"run_properties\": \"<azureml.automl.runtime.shared.model_wrappers.SparseNormalizer object at 0x7f3af6554ef0\", \"primary_metric\": 0.84, \"best_metric\": 0.87}, {\"run_id\": \"AutoML_a1526448-c253-404f-8d61-6ca7995e708c_10\", \"run_number\": 52, \"metric\": null, \"status\": \"Completed\", \"run_type\": null, \"training_percent\": \"100\", \"start_time\": \"2021-02-27T17:21:45.068828Z\", \"end_time\": \"2021-02-27T17:22:16.753178Z\", \"created_time\": \"2021-02-27T17:21:44.967278Z\", \"created_time_dt\": \"2021-02-27T17:21:44.967278Z\", \"duration\": \"0:00:31\", \"iteration\": \"10\", \"goal\": \"accuracy_max\", \"run_name\": \"RobustScaler, RandomForest\", \"run_properties\": \"copy=True, quantile_range=[10, 90], with_centering=True,\\n             with_scaling=True\", \"primary_metric\": 0.885, \"best_metric\": 0.885}, {\"run_id\": \"AutoML_a1526448-c253-404f-8d61-6ca7995e708c_11\", \"run_number\": 53, \"metric\": null, \"status\": \"Completed\", \"run_type\": null, \"training_percent\": \"100\", \"start_time\": \"2021-02-27T17:22:17.976052Z\", \"end_time\": \"2021-02-27T17:22:44.444998Z\", \"created_time\": \"2021-02-27T17:22:17.861295Z\", \"created_time_dt\": \"2021-02-27T17:22:17.861295Z\", \"duration\": \"0:00:26\", \"iteration\": \"11\", \"goal\": \"accuracy_max\", \"run_name\": \"MaxAbsScaler, LightGBM\", \"run_properties\": \"copy=True\", \"primary_metric\": 0.87, \"best_metric\": 0.885}, {\"run_id\": \"AutoML_a1526448-c253-404f-8d61-6ca7995e708c_12\", \"run_number\": 54, \"metric\": null, \"status\": \"Completed\", \"run_type\": null, \"training_percent\": \"100\", \"start_time\": \"2021-02-27T17:22:45.695008Z\", \"end_time\": \"2021-02-27T17:23:12.47691Z\", \"created_time\": \"2021-02-27T17:22:45.559407Z\", \"created_time_dt\": \"2021-02-27T17:22:45.559407Z\", \"duration\": \"0:00:26\", \"iteration\": \"12\", \"goal\": \"accuracy_max\", \"run_name\": \"RobustScaler, ExtremeRandomTrees\", \"run_properties\": \"copy=True, quantile_range=[25, 75], with_centering=True,\\n             with_scaling=False\", \"primary_metric\": 0.885, \"best_metric\": 0.885}, {\"run_id\": \"AutoML_a1526448-c253-404f-8d61-6ca7995e708c_13\", \"run_number\": 55, \"metric\": null, \"status\": \"Completed\", \"run_type\": null, \"training_percent\": \"100\", \"start_time\": \"2021-02-27T17:23:14.25587Z\", \"end_time\": \"2021-02-27T17:23:41.347897Z\", \"created_time\": \"2021-02-27T17:23:13.965315Z\", \"created_time_dt\": \"2021-02-27T17:23:13.965315Z\", \"duration\": \"0:00:27\", \"iteration\": \"13\", \"goal\": \"accuracy_max\", \"run_name\": \"SparseNormalizer, XGBoostClassifier\", \"run_properties\": \"<azureml.automl.runtime.shared.model_wrappers.SparseNormalizer object at 0x7f3af6504b70\", \"primary_metric\": 0.85, \"best_metric\": 0.885}, {\"run_id\": \"AutoML_a1526448-c253-404f-8d61-6ca7995e708c_14\", \"run_number\": 56, \"metric\": null, \"status\": \"Completed\", \"run_type\": null, \"training_percent\": \"100\", \"start_time\": \"2021-02-27T17:23:42.500167Z\", \"end_time\": \"2021-02-27T17:24:09.506011Z\", \"created_time\": \"2021-02-27T17:23:42.387532Z\", \"created_time_dt\": \"2021-02-27T17:23:42.387532Z\", \"duration\": \"0:00:27\", \"iteration\": \"14\", \"goal\": \"accuracy_max\", \"run_name\": \"StandardScalerWrapper, ExtremeRandomTrees\", \"run_properties\": \"<azureml.automl.runtime.shared.model_wrappers.StandardScalerWrapper object at 0x7f3af64b0cf8\", \"primary_metric\": 0.875, \"best_metric\": 0.885}, {\"run_id\": \"AutoML_a1526448-c253-404f-8d61-6ca7995e708c_15\", \"run_number\": 57, \"metric\": null, \"status\": \"Completed\", \"run_type\": null, \"training_percent\": \"100\", \"start_time\": \"2021-02-27T17:24:10.720096Z\", \"end_time\": \"2021-02-27T17:24:37.236602Z\", \"created_time\": \"2021-02-27T17:24:10.615168Z\", \"created_time_dt\": \"2021-02-27T17:24:10.615168Z\", \"duration\": \"0:00:26\", \"iteration\": \"15\", \"goal\": \"accuracy_max\", \"run_name\": \"StandardScalerWrapper, XGBoostClassifier\", \"run_properties\": \"<azureml.automl.runtime.shared.model_wrappers.StandardScalerWrapper object at 0x7f3af6479668\", \"primary_metric\": 0.84, \"best_metric\": 0.885}, {\"run_id\": \"AutoML_a1526448-c253-404f-8d61-6ca7995e708c_16\", \"run_number\": 58, \"metric\": null, \"status\": \"Completed\", \"run_type\": null, \"training_percent\": \"100\", \"start_time\": \"2021-02-27T17:24:38.659488Z\", \"end_time\": \"2021-02-27T17:25:05.368827Z\", \"created_time\": \"2021-02-27T17:24:38.498512Z\", \"created_time_dt\": \"2021-02-27T17:24:38.498512Z\", \"duration\": \"0:00:26\", \"iteration\": \"16\", \"goal\": \"accuracy_max\", \"run_name\": \"StandardScalerWrapper, GradientBoosting\", \"run_properties\": \"<azureml.automl.runtime.shared.model_wrappers.StandardScalerWrapper object at 0x7f3af6409588\", \"primary_metric\": 0.82, \"best_metric\": 0.885}, {\"run_id\": \"AutoML_a1526448-c253-404f-8d61-6ca7995e708c_17\", \"run_number\": 59, \"metric\": null, \"status\": \"Completed\", \"run_type\": null, \"training_percent\": \"100\", \"start_time\": \"2021-02-27T17:25:06.745663Z\", \"end_time\": \"2021-02-27T17:25:34.352011Z\", \"created_time\": \"2021-02-27T17:25:06.632658Z\", \"created_time_dt\": \"2021-02-27T17:25:06.632658Z\", \"duration\": \"0:00:27\", \"iteration\": \"17\", \"goal\": \"accuracy_max\", \"run_name\": \"StandardScalerWrapper, RandomForest\", \"run_properties\": \"<azureml.automl.runtime.shared.model_wrappers.StandardScalerWrapper object at 0x7f3b3f498780\", \"primary_metric\": 0.89, \"best_metric\": 0.89}, {\"run_id\": \"AutoML_a1526448-c253-404f-8d61-6ca7995e708c_18\", \"run_number\": 60, \"metric\": null, \"status\": \"Completed\", \"run_type\": null, \"training_percent\": \"100\", \"start_time\": \"2021-02-27T17:25:35.659228Z\", \"end_time\": \"2021-02-27T17:26:07.401876Z\", \"created_time\": \"2021-02-27T17:25:35.566428Z\", \"created_time_dt\": \"2021-02-27T17:25:35.566428Z\", \"duration\": \"0:00:31\", \"iteration\": \"18\", \"goal\": \"accuracy_max\", \"run_name\": \"StandardScalerWrapper, XGBoostClassifier\", \"run_properties\": \"<azureml.automl.runtime.shared.model_wrappers.StandardScalerWrapper object at 0x7f39f44a5198\", \"primary_metric\": 0.86, \"best_metric\": 0.89}, {\"run_id\": \"AutoML_a1526448-c253-404f-8d61-6ca7995e708c_19\", \"run_number\": 61, \"metric\": null, \"status\": \"Completed\", \"run_type\": null, \"training_percent\": \"100\", \"start_time\": \"2021-02-27T17:26:08.769941Z\", \"end_time\": \"2021-02-27T17:26:35.063812Z\", \"created_time\": \"2021-02-27T17:26:08.623795Z\", \"created_time_dt\": \"2021-02-27T17:26:08.623795Z\", \"duration\": \"0:00:26\", \"iteration\": \"19\", \"goal\": \"accuracy_max\", \"run_name\": \"MinMaxScaler, LightGBM\", \"run_properties\": \"copy=True, feature_range=(0, 1\", \"primary_metric\": 0.865, \"best_metric\": 0.89}, {\"run_id\": \"AutoML_a1526448-c253-404f-8d61-6ca7995e708c_20\", \"run_number\": 62, \"metric\": null, \"status\": \"Completed\", \"run_type\": null, \"training_percent\": \"100\", \"start_time\": \"2021-02-27T17:26:36.308943Z\", \"end_time\": \"2021-02-27T17:27:02.661651Z\", \"created_time\": \"2021-02-27T17:26:36.210952Z\", \"created_time_dt\": \"2021-02-27T17:26:36.210952Z\", \"duration\": \"0:00:26\", \"iteration\": \"20\", \"goal\": \"accuracy_max\", \"run_name\": \"RobustScaler, KNN\", \"run_properties\": \"copy=True, quantile_range=[25, 75], with_centering=True,\\n             with_scaling=False\", \"primary_metric\": 0.735, \"best_metric\": 0.89}, {\"run_id\": \"AutoML_a1526448-c253-404f-8d61-6ca7995e708c_21\", \"run_number\": 63, \"metric\": null, \"status\": \"Completed\", \"run_type\": null, \"training_percent\": \"100\", \"start_time\": \"2021-02-27T17:27:04.232852Z\", \"end_time\": \"2021-02-27T17:27:40.496762Z\", \"created_time\": \"2021-02-27T17:27:04.127722Z\", \"created_time_dt\": \"2021-02-27T17:27:04.127722Z\", \"duration\": \"0:00:36\", \"iteration\": \"21\", \"goal\": \"accuracy_max\", \"run_name\": \"MaxAbsScaler, RandomForest\", \"run_properties\": \"copy=True\", \"primary_metric\": 0.86, \"best_metric\": 0.89}, {\"run_id\": \"AutoML_a1526448-c253-404f-8d61-6ca7995e708c_22\", \"run_number\": 64, \"metric\": null, \"status\": \"Completed\", \"run_type\": null, \"training_percent\": \"100\", \"start_time\": \"2021-02-27T17:27:41.700927Z\", \"end_time\": \"2021-02-27T17:28:08.776103Z\", \"created_time\": \"2021-02-27T17:27:41.608158Z\", \"created_time_dt\": \"2021-02-27T17:27:41.608158Z\", \"duration\": \"0:00:27\", \"iteration\": \"22\", \"goal\": \"accuracy_max\", \"run_name\": \"StandardScalerWrapper, XGBoostClassifier\", \"run_properties\": \"<azureml.automl.runtime.shared.model_wrappers.StandardScalerWrapper object at 0x7f3af64b0d30\", \"primary_metric\": 0.83, \"best_metric\": 0.89}, {\"run_id\": \"AutoML_a1526448-c253-404f-8d61-6ca7995e708c_23\", \"run_number\": 65, \"metric\": null, \"status\": \"Completed\", \"run_type\": null, \"training_percent\": \"100\", \"start_time\": \"2021-02-27T17:28:09.988399Z\", \"end_time\": \"2021-02-27T17:28:42.055998Z\", \"created_time\": \"2021-02-27T17:28:09.886814Z\", \"created_time_dt\": \"2021-02-27T17:28:09.886814Z\", \"duration\": \"0:00:32\", \"iteration\": \"23\", \"goal\": \"accuracy_max\", \"run_name\": \"MaxAbsScaler, RandomForest\", \"run_properties\": \"copy=True\", \"primary_metric\": 0.875, \"best_metric\": 0.89}, {\"run_id\": \"AutoML_a1526448-c253-404f-8d61-6ca7995e708c_24\", \"run_number\": 66, \"metric\": null, \"status\": \"Completed\", \"run_type\": null, \"training_percent\": \"100\", \"start_time\": \"2021-02-27T17:28:43.247063Z\", \"end_time\": \"2021-02-27T17:29:15.885738Z\", \"created_time\": \"2021-02-27T17:28:43.147068Z\", \"created_time_dt\": \"2021-02-27T17:28:43.147068Z\", \"duration\": \"0:00:32\", \"iteration\": \"24\", \"goal\": \"accuracy_max\", \"run_name\": \"StandardScalerWrapper, RandomForest\", \"run_properties\": \"<azureml.automl.runtime.shared.model_wrappers.StandardScalerWrapper object at 0x7f39f4559fd0\", \"primary_metric\": 0.875, \"best_metric\": 0.89}, {\"run_id\": \"AutoML_a1526448-c253-404f-8d61-6ca7995e708c_25\", \"run_number\": 67, \"metric\": null, \"status\": \"Completed\", \"run_type\": null, \"training_percent\": \"100\", \"start_time\": \"2021-02-27T17:29:18.940349Z\", \"end_time\": \"2021-02-27T17:29:44.468163Z\", \"created_time\": \"2021-02-27T17:29:18.837357Z\", \"created_time_dt\": \"2021-02-27T17:29:18.837357Z\", \"duration\": \"0:00:25\", \"iteration\": \"25\", \"goal\": \"accuracy_max\", \"run_name\": \"SparseNormalizer, RandomForest\", \"run_properties\": \"<azureml.automl.runtime.shared.model_wrappers.SparseNormalizer object at 0x7f3a00529940\", \"primary_metric\": 0.565, \"best_metric\": 0.89}, {\"run_id\": \"AutoML_a1526448-c253-404f-8d61-6ca7995e708c_26\", \"run_number\": 68, \"metric\": null, \"status\": \"Completed\", \"run_type\": null, \"training_percent\": \"100\", \"start_time\": \"2021-02-27T17:29:45.557788Z\", \"end_time\": \"2021-02-27T17:30:10.541757Z\", \"created_time\": \"2021-02-27T17:29:45.436575Z\", \"created_time_dt\": \"2021-02-27T17:29:45.436575Z\", \"duration\": \"0:00:25\", \"iteration\": \"26\", \"goal\": \"accuracy_max\", \"run_name\": \"MaxAbsScaler, LightGBM\", \"run_properties\": \"copy=True\", \"primary_metric\": 0.815, \"best_metric\": 0.89}, {\"run_id\": \"AutoML_a1526448-c253-404f-8d61-6ca7995e708c_27\", \"run_number\": 69, \"metric\": null, \"status\": \"Completed\", \"run_type\": null, \"training_percent\": \"100\", \"start_time\": \"2021-02-27T17:30:11.960613Z\", \"end_time\": \"2021-02-27T17:30:37.126989Z\", \"created_time\": \"2021-02-27T17:30:11.85317Z\", \"created_time_dt\": \"2021-02-27T17:30:11.85317Z\", \"duration\": \"0:00:25\", \"iteration\": \"27\", \"goal\": \"accuracy_max\", \"run_name\": \"SparseNormalizer, LightGBM\", \"run_properties\": \"<azureml.automl.runtime.shared.model_wrappers.SparseNormalizer object at 0x7f3a00360048\", \"primary_metric\": 0.86, \"best_metric\": 0.89}, {\"run_id\": \"AutoML_a1526448-c253-404f-8d61-6ca7995e708c_28\", \"run_number\": 70, \"metric\": null, \"status\": \"Completed\", \"run_type\": null, \"training_percent\": \"100\", \"start_time\": \"2021-02-27T17:30:38.526515Z\", \"end_time\": \"2021-02-27T17:31:05.884696Z\", \"created_time\": \"2021-02-27T17:30:38.424923Z\", \"created_time_dt\": \"2021-02-27T17:30:38.424923Z\", \"duration\": \"0:00:27\", \"iteration\": \"28\", \"goal\": \"accuracy_max\", \"run_name\": \"MaxAbsScaler, ExtremeRandomTrees\", \"run_properties\": \"copy=True\", \"primary_metric\": 0.825, \"best_metric\": 0.89}, {\"run_id\": \"AutoML_a1526448-c253-404f-8d61-6ca7995e708c_29\", \"run_number\": 71, \"metric\": null, \"status\": \"Completed\", \"run_type\": null, \"training_percent\": \"100\", \"start_time\": \"2021-02-27T17:31:07.112044Z\", \"end_time\": \"2021-02-27T17:31:32.759068Z\", \"created_time\": \"2021-02-27T17:31:06.999324Z\", \"created_time_dt\": \"2021-02-27T17:31:06.999324Z\", \"duration\": \"0:00:25\", \"iteration\": \"29\", \"goal\": \"accuracy_max\", \"run_name\": \"MaxAbsScaler, LightGBM\", \"run_properties\": \"copy=True\", \"primary_metric\": 0.865, \"best_metric\": 0.89}, {\"run_id\": \"AutoML_a1526448-c253-404f-8d61-6ca7995e708c_30\", \"run_number\": 72, \"metric\": null, \"status\": \"Completed\", \"run_type\": null, \"training_percent\": \"100\", \"start_time\": \"2021-02-27T17:31:34.714185Z\", \"end_time\": \"2021-02-27T17:32:06.522117Z\", \"created_time\": \"2021-02-27T17:31:34.613843Z\", \"created_time_dt\": \"2021-02-27T17:31:34.613843Z\", \"duration\": \"0:00:31\", \"iteration\": \"30\", \"goal\": \"accuracy_max\", \"run_name\": \"StandardScalerWrapper, RandomForest\", \"run_properties\": \"<azureml.automl.runtime.shared.model_wrappers.StandardScalerWrapper object at 0x7f3a003e03c8\", \"primary_metric\": 0.89, \"best_metric\": 0.89}, {\"run_id\": \"AutoML_a1526448-c253-404f-8d61-6ca7995e708c_31\", \"run_number\": 73, \"metric\": null, \"status\": \"Completed\", \"run_type\": null, \"training_percent\": \"100\", \"start_time\": \"2021-02-27T17:32:06.862934Z\", \"end_time\": \"2021-02-27T17:32:30.289372Z\", \"created_time\": \"2021-02-27T17:32:06.72714Z\", \"created_time_dt\": \"2021-02-27T17:32:06.72714Z\", \"duration\": \"0:00:23\", \"iteration\": \"31\", \"goal\": \"accuracy_max\", \"run_name\": \"VotingEnsemble\", \"run_properties\": \"classification_labels=None,\\n                              estimators=[('30',\\n                                           Pipeline(memory=None,\\n                                                    steps=[('standardscalerwrapper',\\n                                                            <azureml.automl.runtime.shared.model_wrappers.StandardScalerWrapper object at 0x7f39ffdad080>\", \"primary_metric\": 0.9, \"best_metric\": 0.9}, {\"run_id\": \"AutoML_a1526448-c253-404f-8d61-6ca7995e708c_32\", \"run_number\": 74, \"metric\": null, \"status\": \"Completed\", \"run_type\": null, \"training_percent\": \"100\", \"start_time\": \"2021-02-27T17:32:30.624456Z\", \"end_time\": \"2021-02-27T17:32:54.055773Z\", \"created_time\": \"2021-02-27T17:32:30.487356Z\", \"created_time_dt\": \"2021-02-27T17:32:30.487356Z\", \"duration\": \"0:00:23\", \"iteration\": \"32\", \"goal\": \"accuracy_max\", \"run_name\": \"StackEnsemble\", \"run_properties\": \"base_learners=[('30',\\n                                        Pipeline(memory=None,\\n                                                 steps=[('standardscalerwrapper',\\n                                                         <azureml.automl.runtime.shared.model_wrappers.StandardScalerWrapper object at 0x7f3a07b6ef60>\", \"primary_metric\": 0.865, \"best_metric\": 0.9}], \"children_metrics\": {\"categories\": [0], \"series\": {\"average_precision_score_micro\": [{\"categories\": [\"0\", \"1\", \"2\", \"3\", \"4\", \"5\", \"6\", \"7\", \"8\", \"9\", \"10\", \"11\", \"12\", \"13\", \"14\", \"15\", \"16\", \"17\", \"18\", \"19\", \"20\", \"21\", \"22\", \"23\", \"24\", \"25\", \"26\", \"27\", \"28\", \"29\", \"30\", \"31\", \"32\"], \"mode\": \"markers\", \"name\": \"average_precision_score_micro\", \"stepped\": false, \"type\": \"scatter\", \"data\": [0.9068873233451877, 0.9332951749857434, 0.9252049438466763, 0.930578790765246, 0.9265280200608035, 0.8726343342244838, 0.9398474147864009, 0.9243050507541603, 0.9415141697225337, 0.9282633061251023, 0.9366448704413135, 0.914075717679885, 0.922216946246257, 0.9377190681146895, 0.9269734540194849, 0.9338655152850037, 0.9096170808068831, 0.9480470652122712, 0.9190397596646926, 0.9227468806832191, 0.8196134459652735, 0.9273598263458774, 0.9306296545348407, 0.9414909282850655, 0.9332973963280364, 0.6931744476609274, 0.8892894521400043, 0.9123447836645744, 0.917293847112152, 0.9162756636814016, 0.9321045905475129, 0.9416922968921437, 0.9232870519768492]}, {\"categories\": [\"0\", \"1\", \"2\", \"3\", \"4\", \"5\", \"6\", \"7\", \"8\", \"9\", \"10\", \"11\", \"12\", \"13\", \"14\", \"15\", \"16\", \"17\", \"18\", \"19\", \"20\", \"21\", \"22\", \"23\", \"24\", \"25\", \"26\", \"27\", \"28\", \"29\", \"30\", \"31\", \"32\"], \"mode\": \"lines\", \"name\": \"average_precision_score_micro_max\", \"stepped\": true, \"type\": \"scatter\", \"data\": [0.9068873233451877, 0.9332951749857434, 0.9332951749857434, 0.9332951749857434, 0.9332951749857434, 0.9332951749857434, 0.9398474147864009, 0.9398474147864009, 0.9415141697225337, 0.9415141697225337, 0.9415141697225337, 0.9415141697225337, 0.9415141697225337, 0.9415141697225337, 0.9415141697225337, 0.9415141697225337, 0.9415141697225337, 0.9480470652122712, 0.9480470652122712, 0.9480470652122712, 0.9480470652122712, 0.9480470652122712, 0.9480470652122712, 0.9480470652122712, 0.9480470652122712, 0.9480470652122712, 0.9480470652122712, 0.9480470652122712, 0.9480470652122712, 0.9480470652122712, 0.9480470652122712, 0.9480470652122712, 0.9480470652122712]}], \"average_precision_score_macro\": [{\"categories\": [\"0\", \"1\", \"2\", \"3\", \"4\", \"5\", \"6\", \"7\", \"8\", \"9\", \"10\", \"11\", \"12\", \"13\", \"14\", \"15\", \"16\", \"17\", \"18\", \"19\", \"20\", \"21\", \"22\", \"23\", \"24\", \"25\", \"26\", \"27\", \"28\", \"29\", \"30\", \"31\", \"32\"], \"mode\": \"markers\", \"name\": \"average_precision_score_macro\", \"stepped\": false, \"type\": \"scatter\", \"data\": [0.8269434533200687, 0.8713010810671512, 0.8662473944281952, 0.8749201417157733, 0.8640098667849508, 0.7949506003334627, 0.8928420903704393, 0.8918657688420464, 0.8884426449299424, 0.8681684164230012, 0.8858264959952246, 0.8721298141481688, 0.8793079794554672, 0.8828623035093627, 0.8859729225485202, 0.8906511424709784, 0.8474317654798247, 0.9104643061621874, 0.8708504190728198, 0.8749637739110361, 0.7082846436235263, 0.8785248828510971, 0.8892794096599423, 0.9019738861766372, 0.8787346961075102, 0.6805433788609797, 0.8254576370546458, 0.8663724584615982, 0.8929963638647038, 0.8668478619551312, 0.8828684280487903, 0.9041981267306907, 0.8743687896815838]}, {\"categories\": [\"0\", \"1\", \"2\", \"3\", \"4\", \"5\", \"6\", \"7\", \"8\", \"9\", \"10\", \"11\", \"12\", \"13\", \"14\", \"15\", \"16\", \"17\", \"18\", \"19\", \"20\", \"21\", \"22\", \"23\", \"24\", \"25\", \"26\", \"27\", \"28\", \"29\", \"30\", \"31\", \"32\"], \"mode\": \"lines\", \"name\": \"average_precision_score_macro_max\", \"stepped\": true, \"type\": \"scatter\", \"data\": [0.8269434533200687, 0.8713010810671512, 0.8713010810671512, 0.8749201417157733, 0.8749201417157733, 0.8749201417157733, 0.8928420903704393, 0.8928420903704393, 0.8928420903704393, 0.8928420903704393, 0.8928420903704393, 0.8928420903704393, 0.8928420903704393, 0.8928420903704393, 0.8928420903704393, 0.8928420903704393, 0.8928420903704393, 0.9104643061621874, 0.9104643061621874, 0.9104643061621874, 0.9104643061621874, 0.9104643061621874, 0.9104643061621874, 0.9104643061621874, 0.9104643061621874, 0.9104643061621874, 0.9104643061621874, 0.9104643061621874, 0.9104643061621874, 0.9104643061621874, 0.9104643061621874, 0.9104643061621874, 0.9104643061621874]}], \"AUC_weighted\": [{\"categories\": [\"0\", \"1\", \"2\", \"3\", \"4\", \"5\", \"6\", \"7\", \"8\", \"9\", \"10\", \"11\", \"12\", \"13\", \"14\", \"15\", \"16\", \"17\", \"18\", \"19\", \"20\", \"21\", \"22\", \"23\", \"24\", \"25\", \"26\", \"27\", \"28\", \"29\", \"30\", \"31\", \"32\"], \"mode\": \"markers\", \"name\": \"AUC_weighted\", \"stepped\": false, \"type\": \"scatter\", \"data\": [0.8702254168690302, 0.9179087582969079, 0.904738287194431, 0.9176251092763478, 0.9126996924073174, 0.8175933948518699, 0.9222707463169824, 0.9123292213048406, 0.9251802493119636, 0.9086707463169823, 0.92707301278938, 0.9030628460417678, 0.912484636554962, 0.9152613890237979, 0.9219132912417031, 0.9208942852517403, 0.8909425287356322, 0.9353464788732394, 0.9041164319248826, 0.9065311963736442, 0.7539531811559008, 0.9167377043872431, 0.9258446495062327, 0.9303467702768334, 0.9203087582969078, 0.7309359235875021, 0.8632722033349522, 0.9040710377205763, 0.9118321515298689, 0.9024625546381739, 0.9199643840051805, 0.9328466245750364, 0.9056489558037882]}, {\"categories\": [\"0\", \"1\", \"2\", \"3\", \"4\", \"5\", \"6\", \"7\", \"8\", \"9\", \"10\", \"11\", \"12\", \"13\", \"14\", \"15\", \"16\", \"17\", \"18\", \"19\", \"20\", \"21\", \"22\", \"23\", \"24\", \"25\", \"26\", \"27\", \"28\", \"29\", \"30\", \"31\", \"32\"], \"mode\": \"lines\", \"name\": \"AUC_weighted_max\", \"stepped\": true, \"type\": \"scatter\", \"data\": [0.8702254168690302, 0.9179087582969079, 0.9179087582969079, 0.9179087582969079, 0.9179087582969079, 0.9179087582969079, 0.9222707463169824, 0.9222707463169824, 0.9251802493119636, 0.9251802493119636, 0.92707301278938, 0.92707301278938, 0.92707301278938, 0.92707301278938, 0.92707301278938, 0.92707301278938, 0.92707301278938, 0.9353464788732394, 0.9353464788732394, 0.9353464788732394, 0.9353464788732394, 0.9353464788732394, 0.9353464788732394, 0.9353464788732394, 0.9353464788732394, 0.9353464788732394, 0.9353464788732394, 0.9353464788732394, 0.9353464788732394, 0.9353464788732394, 0.9353464788732394, 0.9353464788732394, 0.9353464788732394]}], \"recall_score_micro\": [{\"categories\": [\"0\", \"1\", \"2\", \"3\", \"4\", \"5\", \"6\", \"7\", \"8\", \"9\", \"10\", \"11\", \"12\", \"13\", \"14\", \"15\", \"16\", \"17\", \"18\", \"19\", \"20\", \"21\", \"22\", \"23\", \"24\", \"25\", \"26\", \"27\", \"28\", \"29\", \"30\", \"31\", \"32\"], \"mode\": \"markers\", \"name\": \"recall_score_micro\", \"stepped\": false, \"type\": \"scatter\", \"data\": [0.81, 0.85, 0.85, 0.8400000000000001, 0.855, 0.795, 0.865, 0.87, 0.86, 0.84, 0.885, 0.87, 0.885, 0.85, 0.875, 0.84, 0.8200000000000001, 0.89, 0.86, 0.865, 0.735, 0.86, 0.83, 0.875, 0.875, 0.565, 0.815, 0.86, 0.825, 0.865, 0.89, 0.9, 0.865]}, {\"categories\": [\"0\", \"1\", \"2\", \"3\", \"4\", \"5\", \"6\", \"7\", \"8\", \"9\", \"10\", \"11\", \"12\", \"13\", \"14\", \"15\", \"16\", \"17\", \"18\", \"19\", \"20\", \"21\", \"22\", \"23\", \"24\", \"25\", \"26\", \"27\", \"28\", \"29\", \"30\", \"31\", \"32\"], \"mode\": \"lines\", \"name\": \"recall_score_micro_max\", \"stepped\": true, \"type\": \"scatter\", \"data\": [0.81, 0.85, 0.85, 0.85, 0.855, 0.855, 0.865, 0.87, 0.87, 0.87, 0.885, 0.885, 0.885, 0.885, 0.885, 0.885, 0.885, 0.89, 0.89, 0.89, 0.89, 0.89, 0.89, 0.89, 0.89, 0.89, 0.89, 0.89, 0.89, 0.89, 0.89, 0.9, 0.9]}], \"balanced_accuracy\": [{\"categories\": [\"0\", \"1\", \"2\", \"3\", \"4\", \"5\", \"6\", \"7\", \"8\", \"9\", \"10\", \"11\", \"12\", \"13\", \"14\", \"15\", \"16\", \"17\", \"18\", \"19\", \"20\", \"21\", \"22\", \"23\", \"24\", \"25\", \"26\", \"27\", \"28\", \"29\", \"30\", \"31\", \"32\"], \"mode\": \"markers\", \"name\": \"balanced_accuracy\", \"stepped\": false, \"type\": \"scatter\", \"data\": [0.7381835842642059, 0.8058118827909988, 0.8022794236684474, 0.7642642059252065, 0.7703140683179537, 0.6677853326857699, 0.8124672170956775, 0.7973676542010684, 0.8193330095515622, 0.7720802978792294, 0.8328428039501377, 0.7989347579731261, 0.8196972640440343, 0.7940456532297232, 0.8077432410555285, 0.7440343208677351, 0.7371798607738385, 0.8349846203658734, 0.7891338837623442, 0.8058005504290109, 0.5403869192164481, 0.8414861583292861, 0.7085478387566779, 0.8105018617451838, 0.8230419297393556, 0.6327068156062814, 0.7524672170956774, 0.7891338837623442, 0.700344827586207, 0.8058005504290109, 0.836176137283471, 0.8483179536992067, 0.8342447790189413]}, {\"categories\": [\"0\", \"1\", \"2\", \"3\", \"4\", \"5\", \"6\", \"7\", \"8\", \"9\", \"10\", \"11\", \"12\", \"13\", \"14\", \"15\", \"16\", \"17\", \"18\", \"19\", \"20\", \"21\", \"22\", \"23\", \"24\", \"25\", \"26\", \"27\", \"28\", \"29\", \"30\", \"31\", \"32\"], \"mode\": \"lines\", \"name\": \"balanced_accuracy_max\", \"stepped\": true, \"type\": \"scatter\", \"data\": [0.7381835842642059, 0.8058118827909988, 0.8058118827909988, 0.8058118827909988, 0.8058118827909988, 0.8058118827909988, 0.8124672170956775, 0.8124672170956775, 0.8193330095515622, 0.8193330095515622, 0.8328428039501377, 0.8328428039501377, 0.8328428039501377, 0.8328428039501377, 0.8328428039501377, 0.8328428039501377, 0.8328428039501377, 0.8349846203658734, 0.8349846203658734, 0.8349846203658734, 0.8349846203658734, 0.8414861583292861, 0.8414861583292861, 0.8414861583292861, 0.8414861583292861, 0.8414861583292861, 0.8414861583292861, 0.8414861583292861, 0.8414861583292861, 0.8414861583292861, 0.8414861583292861, 0.8483179536992067, 0.8483179536992067]}], \"precision_score_micro\": [{\"categories\": [\"0\", \"1\", \"2\", \"3\", \"4\", \"5\", \"6\", \"7\", \"8\", \"9\", \"10\", \"11\", \"12\", \"13\", \"14\", \"15\", \"16\", \"17\", \"18\", \"19\", \"20\", \"21\", \"22\", \"23\", \"24\", \"25\", \"26\", \"27\", \"28\", \"29\", \"30\", \"31\", \"32\"], \"mode\": \"markers\", \"name\": \"precision_score_micro\", \"stepped\": false, \"type\": \"scatter\", \"data\": [0.81, 0.85, 0.85, 0.8400000000000001, 0.855, 0.795, 0.865, 0.87, 0.86, 0.84, 0.885, 0.87, 0.885, 0.85, 0.875, 0.84, 0.8200000000000001, 0.89, 0.86, 0.865, 0.735, 0.86, 0.83, 0.875, 0.875, 0.565, 0.815, 0.86, 0.825, 0.865, 0.89, 0.9, 0.865]}, {\"categories\": [\"0\", \"1\", \"2\", \"3\", \"4\", \"5\", \"6\", \"7\", \"8\", \"9\", \"10\", \"11\", \"12\", \"13\", \"14\", \"15\", \"16\", \"17\", \"18\", \"19\", \"20\", \"21\", \"22\", \"23\", \"24\", \"25\", \"26\", \"27\", \"28\", \"29\", \"30\", \"31\", \"32\"], \"mode\": \"lines\", \"name\": \"precision_score_micro_max\", \"stepped\": true, \"type\": \"scatter\", \"data\": [0.81, 0.85, 0.85, 0.85, 0.855, 0.855, 0.865, 0.87, 0.87, 0.87, 0.885, 0.885, 0.885, 0.885, 0.885, 0.885, 0.885, 0.89, 0.89, 0.89, 0.89, 0.89, 0.89, 0.89, 0.89, 0.89, 0.89, 0.89, 0.89, 0.89, 0.89, 0.9, 0.9]}], \"recall_score_macro\": [{\"categories\": [\"0\", \"1\", \"2\", \"3\", \"4\", \"5\", \"6\", \"7\", \"8\", \"9\", \"10\", \"11\", \"12\", \"13\", \"14\", \"15\", \"16\", \"17\", \"18\", \"19\", \"20\", \"21\", \"22\", \"23\", \"24\", \"25\", \"26\", \"27\", \"28\", \"29\", \"30\", \"31\", \"32\"], \"mode\": \"markers\", \"name\": \"recall_score_macro\", \"stepped\": false, \"type\": \"scatter\", \"data\": [0.7381835842642059, 0.8058118827909988, 0.8022794236684474, 0.7642642059252065, 0.7703140683179537, 0.6677853326857699, 0.8124672170956775, 0.7973676542010684, 0.8193330095515622, 0.7720802978792294, 0.8328428039501377, 0.7989347579731261, 0.8196972640440343, 0.7940456532297232, 0.8077432410555285, 0.7440343208677351, 0.7371798607738385, 0.8349846203658734, 0.7891338837623442, 0.8058005504290109, 0.5403869192164481, 0.8414861583292861, 0.7085478387566779, 0.8105018617451838, 0.8230419297393556, 0.6327068156062814, 0.7524672170956774, 0.7891338837623442, 0.700344827586207, 0.8058005504290109, 0.836176137283471, 0.8483179536992067, 0.8342447790189413]}, {\"categories\": [\"0\", \"1\", \"2\", \"3\", \"4\", \"5\", \"6\", \"7\", \"8\", \"9\", \"10\", \"11\", \"12\", \"13\", \"14\", \"15\", \"16\", \"17\", \"18\", \"19\", \"20\", \"21\", \"22\", \"23\", \"24\", \"25\", \"26\", \"27\", \"28\", \"29\", \"30\", \"31\", \"32\"], \"mode\": \"lines\", \"name\": \"recall_score_macro_max\", \"stepped\": true, \"type\": \"scatter\", \"data\": [0.7381835842642059, 0.8058118827909988, 0.8058118827909988, 0.8058118827909988, 0.8058118827909988, 0.8058118827909988, 0.8124672170956775, 0.8124672170956775, 0.8193330095515622, 0.8193330095515622, 0.8328428039501377, 0.8328428039501377, 0.8328428039501377, 0.8328428039501377, 0.8328428039501377, 0.8328428039501377, 0.8328428039501377, 0.8349846203658734, 0.8349846203658734, 0.8349846203658734, 0.8349846203658734, 0.8414861583292861, 0.8414861583292861, 0.8414861583292861, 0.8414861583292861, 0.8414861583292861, 0.8414861583292861, 0.8414861583292861, 0.8414861583292861, 0.8414861583292861, 0.8414861583292861, 0.8483179536992067, 0.8483179536992067]}], \"f1_score_weighted\": [{\"categories\": [\"0\", \"1\", \"2\", \"3\", \"4\", \"5\", \"6\", \"7\", \"8\", \"9\", \"10\", \"11\", \"12\", \"13\", \"14\", \"15\", \"16\", \"17\", \"18\", \"19\", \"20\", \"21\", \"22\", \"23\", \"24\", \"25\", \"26\", \"27\", \"28\", \"29\", \"30\", \"31\", \"32\"], \"mode\": \"markers\", \"name\": \"f1_score_weighted\", \"stepped\": false, \"type\": \"scatter\", \"data\": [0.8046666666666666, 0.8489802626232374, 0.8473396682973557, 0.8270566220063922, 0.8444572634783014, 0.7724629799609266, 0.8610879852612185, 0.8627736832199074, 0.8588813681964367, 0.8335923633102154, 0.8803011346714595, 0.8619693812099418, 0.8790174990302206, 0.8469881107509855, 0.8682177326601661, 0.8287045144506836, 0.8126264477892045, 0.8857236842105264, 0.8539038584603802, 0.8603542280488354, 0.6631236390854653, 0.8622034915729035, 0.8101514753796863, 0.8661526406216498, 0.8720013520959594, 0.5854561653206231, 0.8126336028751123, 0.8539038584603802, 0.7949252845809454, 0.8603542280488354, 0.8850109649122807, 0.8957236842105264, 0.8651752893858156]}, {\"categories\": [\"0\", \"1\", \"2\", \"3\", \"4\", \"5\", \"6\", \"7\", \"8\", \"9\", \"10\", \"11\", \"12\", \"13\", \"14\", \"15\", \"16\", \"17\", \"18\", \"19\", \"20\", \"21\", \"22\", \"23\", \"24\", \"25\", \"26\", \"27\", \"28\", \"29\", \"30\", \"31\", \"32\"], \"mode\": \"lines\", \"name\": \"f1_score_weighted_max\", \"stepped\": true, \"type\": \"scatter\", \"data\": [0.8046666666666666, 0.8489802626232374, 0.8489802626232374, 0.8489802626232374, 0.8489802626232374, 0.8489802626232374, 0.8610879852612185, 0.8627736832199074, 0.8627736832199074, 0.8627736832199074, 0.8803011346714595, 0.8803011346714595, 0.8803011346714595, 0.8803011346714595, 0.8803011346714595, 0.8803011346714595, 0.8803011346714595, 0.8857236842105264, 0.8857236842105264, 0.8857236842105264, 0.8857236842105264, 0.8857236842105264, 0.8857236842105264, 0.8857236842105264, 0.8857236842105264, 0.8857236842105264, 0.8857236842105264, 0.8857236842105264, 0.8857236842105264, 0.8857236842105264, 0.8857236842105264, 0.8957236842105264, 0.8957236842105264]}], \"f1_score_micro\": [{\"categories\": [\"0\", \"1\", \"2\", \"3\", \"4\", \"5\", \"6\", \"7\", \"8\", \"9\", \"10\", \"11\", \"12\", \"13\", \"14\", \"15\", \"16\", \"17\", \"18\", \"19\", \"20\", \"21\", \"22\", \"23\", \"24\", \"25\", \"26\", \"27\", \"28\", \"29\", \"30\", \"31\", \"32\"], \"mode\": \"markers\", \"name\": \"f1_score_micro\", \"stepped\": false, \"type\": \"scatter\", \"data\": [0.81, 0.85, 0.85, 0.8400000000000001, 0.855, 0.7950000000000002, 0.865, 0.8699999999999999, 0.8599999999999999, 0.84, 0.885, 0.8699999999999999, 0.885, 0.85, 0.875, 0.8399999999999999, 0.8200000000000001, 0.89, 0.8599999999999999, 0.865, 0.735, 0.86, 0.83, 0.875, 0.875, 0.565, 0.815, 0.8599999999999999, 0.825, 0.865, 0.8899999999999999, 0.9, 0.865]}, {\"categories\": [\"0\", \"1\", \"2\", \"3\", \"4\", \"5\", \"6\", \"7\", \"8\", \"9\", \"10\", \"11\", \"12\", \"13\", \"14\", \"15\", \"16\", \"17\", \"18\", \"19\", \"20\", \"21\", \"22\", \"23\", \"24\", \"25\", \"26\", \"27\", \"28\", \"29\", \"30\", \"31\", \"32\"], \"mode\": \"lines\", \"name\": \"f1_score_micro_max\", \"stepped\": true, \"type\": \"scatter\", \"data\": [0.81, 0.85, 0.85, 0.85, 0.855, 0.855, 0.865, 0.8699999999999999, 0.8699999999999999, 0.8699999999999999, 0.885, 0.885, 0.885, 0.885, 0.885, 0.885, 0.885, 0.89, 0.89, 0.89, 0.89, 0.89, 0.89, 0.89, 0.89, 0.89, 0.89, 0.89, 0.89, 0.89, 0.89, 0.9, 0.9]}], \"f1_score_macro\": [{\"categories\": [\"0\", \"1\", \"2\", \"3\", \"4\", \"5\", \"6\", \"7\", \"8\", \"9\", \"10\", \"11\", \"12\", \"13\", \"14\", \"15\", \"16\", \"17\", \"18\", \"19\", \"20\", \"21\", \"22\", \"23\", \"24\", \"25\", \"26\", \"27\", \"28\", \"29\", \"30\", \"31\", \"32\"], \"mode\": \"markers\", \"name\": \"f1_score_macro\", \"stepped\": false, \"type\": \"scatter\", \"data\": [0.7466666666666667, 0.8078793571666953, 0.8047135784793846, 0.772089541831949, 0.7934382899319786, 0.6882391629197946, 0.8209553888669562, 0.8197692848722598, 0.8205660876893753, 0.7830994933077233, 0.8448386993440965, 0.8185387505324577, 0.8410785320100418, 0.8030500467086747, 0.826851401241595, 0.7697963262586847, 0.7530100293369896, 0.8510964912280702, 0.8086354225484661, 0.8189989638239401, 0.5127642442387952, 0.8283402310908932, 0.7387208525010976, 0.8242315652501202, 0.8347092895342658, 0.5553873001162157, 0.7585624438454628, 0.8086354225484661, 0.7174036045648562, 0.8189989638239401, 0.8507236842105264, 0.8644298245614035, 0.8307495018021334]}, {\"categories\": [\"0\", \"1\", \"2\", \"3\", \"4\", \"5\", \"6\", \"7\", \"8\", \"9\", \"10\", \"11\", \"12\", \"13\", \"14\", \"15\", \"16\", \"17\", \"18\", \"19\", \"20\", \"21\", \"22\", \"23\", \"24\", \"25\", \"26\", \"27\", \"28\", \"29\", \"30\", \"31\", \"32\"], \"mode\": \"lines\", \"name\": \"f1_score_macro_max\", \"stepped\": true, \"type\": \"scatter\", \"data\": [0.7466666666666667, 0.8078793571666953, 0.8078793571666953, 0.8078793571666953, 0.8078793571666953, 0.8078793571666953, 0.8209553888669562, 0.8209553888669562, 0.8209553888669562, 0.8209553888669562, 0.8448386993440965, 0.8448386993440965, 0.8448386993440965, 0.8448386993440965, 0.8448386993440965, 0.8448386993440965, 0.8448386993440965, 0.8510964912280702, 0.8510964912280702, 0.8510964912280702, 0.8510964912280702, 0.8510964912280702, 0.8510964912280702, 0.8510964912280702, 0.8510964912280702, 0.8510964912280702, 0.8510964912280702, 0.8510964912280702, 0.8510964912280702, 0.8510964912280702, 0.8510964912280702, 0.8644298245614035, 0.8644298245614035]}], \"matthews_correlation\": [{\"categories\": [\"0\", \"1\", \"2\", \"3\", \"4\", \"5\", \"6\", \"7\", \"8\", \"9\", \"10\", \"11\", \"12\", \"13\", \"14\", \"15\", \"16\", \"17\", \"18\", \"19\", \"20\", \"21\", \"22\", \"23\", \"24\", \"25\", \"26\", \"27\", \"28\", \"29\", \"30\", \"31\", \"32\"], \"mode\": \"markers\", \"name\": \"matthews_correlation\", \"stepped\": false, \"type\": \"scatter\", \"data\": [0.5010440091219422, 0.6169495625236554, 0.6168169348525211, 0.5757742933765952, 0.6144385119145646, 0.4258733808374422, 0.6505366438584566, 0.6561010437373453, 0.6436265762213762, 0.5832394205650402, 0.7044435284650723, 0.6589580582491181, 0.7014254662793249, 0.6092812093680038, 0.6762123871061729, 0.5636205141120302, 0.5179195084034789, 0.717487163673292, 0.6282576253332539, 0.6466301542592323, 0.158117403730732, 0.65997197649985, 0.5334848387527671, 0.6795038448630637, 0.6743259071547487, 0.2382299139400468, 0.5266054334190513, 0.6282576253332539, 0.5302229219841417, 0.6466301542592323, 0.7160657200912297, 0.7441538303399586, 0.6621802739633504]}, {\"categories\": [\"0\", \"1\", \"2\", \"3\", \"4\", \"5\", \"6\", \"7\", \"8\", \"9\", \"10\", \"11\", \"12\", \"13\", \"14\", \"15\", \"16\", \"17\", \"18\", \"19\", \"20\", \"21\", \"22\", \"23\", \"24\", \"25\", \"26\", \"27\", \"28\", \"29\", \"30\", \"31\", \"32\"], \"mode\": \"lines\", \"name\": \"matthews_correlation_max\", \"stepped\": true, \"type\": \"scatter\", \"data\": [0.5010440091219422, 0.6169495625236554, 0.6169495625236554, 0.6169495625236554, 0.6169495625236554, 0.6169495625236554, 0.6505366438584566, 0.6561010437373453, 0.6561010437373453, 0.6561010437373453, 0.7044435284650723, 0.7044435284650723, 0.7044435284650723, 0.7044435284650723, 0.7044435284650723, 0.7044435284650723, 0.7044435284650723, 0.717487163673292, 0.717487163673292, 0.717487163673292, 0.717487163673292, 0.717487163673292, 0.717487163673292, 0.717487163673292, 0.717487163673292, 0.717487163673292, 0.717487163673292, 0.717487163673292, 0.717487163673292, 0.717487163673292, 0.717487163673292, 0.7441538303399586, 0.7441538303399586]}], \"weighted_accuracy\": [{\"categories\": [\"0\", \"1\", \"2\", \"3\", \"4\", \"5\", \"6\", \"7\", \"8\", \"9\", \"10\", \"11\", \"12\", \"13\", \"14\", \"15\", \"16\", \"17\", \"18\", \"19\", \"20\", \"21\", \"22\", \"23\", \"24\", \"25\", \"26\", \"27\", \"28\", \"29\", \"30\", \"31\", \"32\"], \"mode\": \"markers\", \"name\": \"weighted_accuracy\", \"stepped\": false, \"type\": \"scatter\", \"data\": [0.8572757565453928, 0.8791009860591636, 0.8822414144848691, 0.8915212512750765, 0.9109520571234275, 0.8775566133968038, 0.9002767766065964, 0.9178469908194493, 0.8871363481808909, 0.8853818429105746, 0.920347500850051, 0.917417205032302, 0.9283828629717784, 0.8866712002720163, 0.9199177150629039, 0.9018469908194492, 0.8738116286977218, 0.9268480108806529, 0.9062767766065964, 0.9042767766065964, 0.8614056443386603, 0.8724610676640598, 0.9085222713362802, 0.9189874192451548, 0.9092070724243455, 0.521435566133968, 0.8562767766065964, 0.9062767766065964, 0.9077667460047603, 0.9042767766065964, 0.926347500850051, 0.934848010880653, 0.8855307718463108]}, {\"categories\": [\"0\", \"1\", \"2\", \"3\", \"4\", \"5\", \"6\", \"7\", \"8\", \"9\", \"10\", \"11\", \"12\", \"13\", \"14\", \"15\", \"16\", \"17\", \"18\", \"19\", \"20\", \"21\", \"22\", \"23\", \"24\", \"25\", \"26\", \"27\", \"28\", \"29\", \"30\", \"31\", \"32\"], \"mode\": \"lines\", \"name\": \"weighted_accuracy_max\", \"stepped\": true, \"type\": \"scatter\", \"data\": [0.8572757565453928, 0.8791009860591636, 0.8822414144848691, 0.8915212512750765, 0.9109520571234275, 0.9109520571234275, 0.9109520571234275, 0.9178469908194493, 0.9178469908194493, 0.9178469908194493, 0.920347500850051, 0.920347500850051, 0.9283828629717784, 0.9283828629717784, 0.9283828629717784, 0.9283828629717784, 0.9283828629717784, 0.9283828629717784, 0.9283828629717784, 0.9283828629717784, 0.9283828629717784, 0.9283828629717784, 0.9283828629717784, 0.9283828629717784, 0.9283828629717784, 0.9283828629717784, 0.9283828629717784, 0.9283828629717784, 0.9283828629717784, 0.9283828629717784, 0.9283828629717784, 0.934848010880653, 0.934848010880653]}], \"norm_macro_recall\": [{\"categories\": [\"0\", \"1\", \"2\", \"3\", \"4\", \"5\", \"6\", \"7\", \"8\", \"9\", \"10\", \"11\", \"12\", \"13\", \"14\", \"15\", \"16\", \"17\", \"18\", \"19\", \"20\", \"21\", \"22\", \"23\", \"24\", \"25\", \"26\", \"27\", \"28\", \"29\", \"30\", \"31\", \"32\"], \"mode\": \"markers\", \"name\": \"norm_macro_recall\", \"stepped\": false, \"type\": \"scatter\", \"data\": [0.4763671685284119, 0.6116237655819976, 0.6045588473368949, 0.5285284118504129, 0.5406281366359075, 0.3355706653715397, 0.6249344341913551, 0.5947353084021368, 0.6386660191031244, 0.5441605957584588, 0.6656856079002753, 0.5978695159462522, 0.6393945280880686, 0.5880913064594464, 0.6154864821110572, 0.48806864173547027, 0.4743597215476768, 0.6699692407317468, 0.5782677675246883, 0.6116011008580217, 0.0807738384328962, 0.682972316658572, 0.41709567751335597, 0.6210037234903676, 0.6460838594787113, 0.2654136312125628, 0.504934434191355, 0.5782677675246883, 0.40068965517241384, 0.6116011008580217, 0.6723522745669419, 0.6966359073984134, 0.6684895580378826]}, {\"categories\": [\"0\", \"1\", \"2\", \"3\", \"4\", \"5\", \"6\", \"7\", \"8\", \"9\", \"10\", \"11\", \"12\", \"13\", \"14\", \"15\", \"16\", \"17\", \"18\", \"19\", \"20\", \"21\", \"22\", \"23\", \"24\", \"25\", \"26\", \"27\", \"28\", \"29\", \"30\", \"31\", \"32\"], \"mode\": \"lines\", \"name\": \"norm_macro_recall_max\", \"stepped\": true, \"type\": \"scatter\", \"data\": [0.4763671685284119, 0.6116237655819976, 0.6116237655819976, 0.6116237655819976, 0.6116237655819976, 0.6116237655819976, 0.6249344341913551, 0.6249344341913551, 0.6386660191031244, 0.6386660191031244, 0.6656856079002753, 0.6656856079002753, 0.6656856079002753, 0.6656856079002753, 0.6656856079002753, 0.6656856079002753, 0.6656856079002753, 0.6699692407317468, 0.6699692407317468, 0.6699692407317468, 0.6699692407317468, 0.682972316658572, 0.682972316658572, 0.682972316658572, 0.682972316658572, 0.682972316658572, 0.682972316658572, 0.682972316658572, 0.682972316658572, 0.682972316658572, 0.682972316658572, 0.6966359073984134, 0.6966359073984134]}], \"accuracy\": [{\"categories\": [\"0\", \"1\", \"2\", \"3\", \"4\", \"5\", \"6\", \"7\", \"8\", \"9\", \"10\", \"11\", \"12\", \"13\", \"14\", \"15\", \"16\", \"17\", \"18\", \"19\", \"20\", \"21\", \"22\", \"23\", \"24\", \"25\", \"26\", \"27\", \"28\", \"29\", \"30\", \"31\", \"32\"], \"mode\": \"markers\", \"name\": \"accuracy\", \"stepped\": false, \"type\": \"scatter\", \"data\": [0.81, 0.85, 0.85, 0.8400000000000001, 0.855, 0.795, 0.865, 0.87, 0.86, 0.84, 0.885, 0.87, 0.885, 0.85, 0.875, 0.84, 0.8200000000000001, 0.89, 0.86, 0.865, 0.735, 0.86, 0.83, 0.875, 0.875, 0.565, 0.815, 0.86, 0.825, 0.865, 0.89, 0.9, 0.865]}, {\"categories\": [\"0\", \"1\", \"2\", \"3\", \"4\", \"5\", \"6\", \"7\", \"8\", \"9\", \"10\", \"11\", \"12\", \"13\", \"14\", \"15\", \"16\", \"17\", \"18\", \"19\", \"20\", \"21\", \"22\", \"23\", \"24\", \"25\", \"26\", \"27\", \"28\", \"29\", \"30\", \"31\", \"32\"], \"mode\": \"lines\", \"name\": \"accuracy_max\", \"stepped\": true, \"type\": \"scatter\", \"data\": [0.81, 0.85, 0.85, 0.85, 0.855, 0.855, 0.865, 0.87, 0.87, 0.87, 0.885, 0.885, 0.885, 0.885, 0.885, 0.885, 0.885, 0.89, 0.89, 0.89, 0.89, 0.89, 0.89, 0.89, 0.89, 0.89, 0.89, 0.89, 0.89, 0.89, 0.89, 0.9, 0.9]}], \"average_precision_score_weighted\": [{\"categories\": [\"0\", \"1\", \"2\", \"3\", \"4\", \"5\", \"6\", \"7\", \"8\", \"9\", \"10\", \"11\", \"12\", \"13\", \"14\", \"15\", \"16\", \"17\", \"18\", \"19\", \"20\", \"21\", \"22\", \"23\", \"24\", \"25\", \"26\", \"27\", \"28\", \"29\", \"30\", \"31\", \"32\"], \"mode\": \"markers\", \"name\": \"average_precision_score_weighted\", \"stepped\": false, \"type\": \"scatter\", \"data\": [0.8820937322303385, 0.9164363393885221, 0.9094216243881317, 0.9174440760557818, 0.9104966802608698, 0.8535570090781195, 0.9275772206029267, 0.9177312331514104, 0.9266789728896958, 0.9123825708299262, 0.9225940921806877, 0.906107952646027, 0.915893631124044, 0.9217923259694176, 0.9218412400208742, 0.9280603732389798, 0.8985144211541172, 0.9396372362764102, 0.9094242272660586, 0.9121628266906358, 0.7848498825116059, 0.9171810158555052, 0.925362134766126, 0.9336099106318105, 0.9201741002696245, 0.7671824841301038, 0.8748869156930109, 0.9059100298483029, 0.9259407254929297, 0.9035083099657342, 0.9157810782986283, 0.9326334199580357, 0.9107785949874813]}, {\"categories\": [\"0\", \"1\", \"2\", \"3\", \"4\", \"5\", \"6\", \"7\", \"8\", \"9\", \"10\", \"11\", \"12\", \"13\", \"14\", \"15\", \"16\", \"17\", \"18\", \"19\", \"20\", \"21\", \"22\", \"23\", \"24\", \"25\", \"26\", \"27\", \"28\", \"29\", \"30\", \"31\", \"32\"], \"mode\": \"lines\", \"name\": \"average_precision_score_weighted_max\", \"stepped\": true, \"type\": \"scatter\", \"data\": [0.8820937322303385, 0.9164363393885221, 0.9164363393885221, 0.9174440760557818, 0.9174440760557818, 0.9174440760557818, 0.9275772206029267, 0.9275772206029267, 0.9275772206029267, 0.9275772206029267, 0.9275772206029267, 0.9275772206029267, 0.9275772206029267, 0.9275772206029267, 0.9275772206029267, 0.9280603732389798, 0.9280603732389798, 0.9396372362764102, 0.9396372362764102, 0.9396372362764102, 0.9396372362764102, 0.9396372362764102, 0.9396372362764102, 0.9396372362764102, 0.9396372362764102, 0.9396372362764102, 0.9396372362764102, 0.9396372362764102, 0.9396372362764102, 0.9396372362764102, 0.9396372362764102, 0.9396372362764102, 0.9396372362764102]}], \"precision_score_weighted\": [{\"categories\": [\"0\", \"1\", \"2\", \"3\", \"4\", \"5\", \"6\", \"7\", \"8\", \"9\", \"10\", \"11\", \"12\", \"13\", \"14\", \"15\", \"16\", \"17\", \"18\", \"19\", \"20\", \"21\", \"22\", \"23\", \"24\", \"25\", \"26\", \"27\", \"28\", \"29\", \"30\", \"31\", \"32\"], \"mode\": \"markers\", \"name\": \"precision_score_weighted\", \"stepped\": false, \"type\": \"scatter\", \"data\": [0.8056600361663653, 0.8489293139293139, 0.8506741175491176, 0.8404422541631844, 0.8566979355033153, 0.790404746115953, 0.8642729100640494, 0.8690449635575107, 0.8597743277524099, 0.8412890658012608, 0.8878355177039388, 0.8721017487427372, 0.8890333152766874, 0.8465789473684211, 0.8802212487721786, 0.8365013223401575, 0.8149733391608391, 0.8941585445094216, 0.8566726943942133, 0.8628099719234796, 0.7047544075900194, 0.8669047619047618, 0.8357641196013289, 0.8833775427010722, 0.8730317827671947, 0.7219186316456134, 0.8180104731766124, 0.8566726943942133, 0.8494564647259375, 0.8628099719234796, 0.8921442495126706, 0.9041585445094216, 0.8658707055881714]}, {\"categories\": [\"0\", \"1\", \"2\", \"3\", \"4\", \"5\", \"6\", \"7\", \"8\", \"9\", \"10\", \"11\", \"12\", \"13\", \"14\", \"15\", \"16\", \"17\", \"18\", \"19\", \"20\", \"21\", \"22\", \"23\", \"24\", \"25\", \"26\", \"27\", \"28\", \"29\", \"30\", \"31\", \"32\"], \"mode\": \"lines\", \"name\": \"precision_score_weighted_max\", \"stepped\": true, \"type\": \"scatter\", \"data\": [0.8056600361663653, 0.8489293139293139, 0.8506741175491176, 0.8506741175491176, 0.8566979355033153, 0.8566979355033153, 0.8642729100640494, 0.8690449635575107, 0.8690449635575107, 0.8690449635575107, 0.8878355177039388, 0.8878355177039388, 0.8890333152766874, 0.8890333152766874, 0.8890333152766874, 0.8890333152766874, 0.8890333152766874, 0.8941585445094216, 0.8941585445094216, 0.8941585445094216, 0.8941585445094216, 0.8941585445094216, 0.8941585445094216, 0.8941585445094216, 0.8941585445094216, 0.8941585445094216, 0.8941585445094216, 0.8941585445094216, 0.8941585445094216, 0.8941585445094216, 0.8941585445094216, 0.9041585445094216, 0.9041585445094216]}], \"log_loss\": [{\"categories\": [\"0\", \"1\", \"2\", \"3\", \"4\", \"5\", \"6\", \"7\", \"8\", \"9\", \"10\", \"11\", \"12\", \"13\", \"14\", \"15\", \"16\", \"17\", \"18\", \"19\", \"20\", \"21\", \"22\", \"23\", \"24\", \"25\", \"26\", \"27\", \"28\", \"29\", \"30\", \"31\", \"32\"], \"mode\": \"markers\", \"name\": \"log_loss\", \"stepped\": false, \"type\": \"scatter\", \"data\": [0.4549031880038983, 0.357466519013178, 0.34286585825315885, 0.3502518849982831, 0.34993088374577797, 0.45089170910645204, 0.32400126478942204, 0.3557375807723763, 0.3373867798433216, 0.34868554187858614, 0.3181141328572064, 0.4016162947008164, 0.353333440156816, 0.43146774258574905, 0.3681278717180474, 0.4624304803294636, 0.44632315071660716, 0.32804988236464827, 0.40780216743533515, 0.36021579170588636, 1.1345205330415582, 0.42581105396250707, 0.4612203670110107, 0.33591526213125794, 0.3206690932098148, 0.6710279371669465, 0.41230421380516175, 0.42743080507475506, 0.4056336168710375, 0.3724023110578216, 0.36579882300371985, 0.3335602980457252, 0.5142504729621603]}, {\"categories\": [\"0\", \"1\", \"2\", \"3\", \"4\", \"5\", \"6\", \"7\", \"8\", \"9\", \"10\", \"11\", \"12\", \"13\", \"14\", \"15\", \"16\", \"17\", \"18\", \"19\", \"20\", \"21\", \"22\", \"23\", \"24\", \"25\", \"26\", \"27\", \"28\", \"29\", \"30\", \"31\", \"32\"], \"mode\": \"lines\", \"name\": \"log_loss_min\", \"stepped\": true, \"type\": \"scatter\", \"data\": [0.4549031880038983, 0.357466519013178, 0.34286585825315885, 0.34286585825315885, 0.34286585825315885, 0.34286585825315885, 0.32400126478942204, 0.32400126478942204, 0.32400126478942204, 0.32400126478942204, 0.3181141328572064, 0.3181141328572064, 0.3181141328572064, 0.3181141328572064, 0.3181141328572064, 0.3181141328572064, 0.3181141328572064, 0.3181141328572064, 0.3181141328572064, 0.3181141328572064, 0.3181141328572064, 0.3181141328572064, 0.3181141328572064, 0.3181141328572064, 0.3181141328572064, 0.3181141328572064, 0.3181141328572064, 0.3181141328572064, 0.3181141328572064, 0.3181141328572064, 0.3181141328572064, 0.3181141328572064, 0.3181141328572064]}], \"precision_score_macro\": [{\"categories\": [\"0\", \"1\", \"2\", \"3\", \"4\", \"5\", \"6\", \"7\", \"8\", \"9\", \"10\", \"11\", \"12\", \"13\", \"14\", \"15\", \"16\", \"17\", \"18\", \"19\", \"20\", \"21\", \"22\", \"23\", \"24\", \"25\", \"26\", \"27\", \"28\", \"29\", \"30\", \"31\", \"32\"], \"mode\": \"markers\", \"name\": \"precision_score_macro\", \"stepped\": false, \"type\": \"scatter\", \"data\": [0.7642676311030742, 0.8113305613305614, 0.8159305971805971, 0.819518790449023, 0.8511716395418927, 0.77142146646457, 0.839822069252449, 0.8625366745508873, 0.824728564180619, 0.8150786809323395, 0.8750567368988421, 0.8654607802452378, 0.8865669649073679, 0.8157894736842105, 0.8743173157024382, 0.8254347512743325, 0.7832094988344989, 0.8862248213125405, 0.8414707655213984, 0.842586093398052, 0.665013820409383, 0.819047619047619, 0.8413621262458472, 0.8776252496840732, 0.8522340312243057, 0.6069824039436019, 0.7760134116937913, 0.8414707655213984, 0.868705743509048, 0.842586093398052, 0.8833138401559454, 0.899558154645874, 0.8280672428788868]}, {\"categories\": [\"0\", \"1\", \"2\", \"3\", \"4\", \"5\", \"6\", \"7\", \"8\", \"9\", \"10\", \"11\", \"12\", \"13\", \"14\", \"15\", \"16\", \"17\", \"18\", \"19\", \"20\", \"21\", \"22\", \"23\", \"24\", \"25\", \"26\", \"27\", \"28\", \"29\", \"30\", \"31\", \"32\"], \"mode\": \"lines\", \"name\": \"precision_score_macro_max\", \"stepped\": true, \"type\": \"scatter\", \"data\": [0.7642676311030742, 0.8113305613305614, 0.8159305971805971, 0.819518790449023, 0.8511716395418927, 0.8511716395418927, 0.8511716395418927, 0.8625366745508873, 0.8625366745508873, 0.8625366745508873, 0.8750567368988421, 0.8750567368988421, 0.8865669649073679, 0.8865669649073679, 0.8865669649073679, 0.8865669649073679, 0.8865669649073679, 0.8865669649073679, 0.8865669649073679, 0.8865669649073679, 0.8865669649073679, 0.8865669649073679, 0.8865669649073679, 0.8865669649073679, 0.8865669649073679, 0.8865669649073679, 0.8865669649073679, 0.8865669649073679, 0.8865669649073679, 0.8865669649073679, 0.8865669649073679, 0.899558154645874, 0.899558154645874]}], \"AUC_macro\": [{\"categories\": [\"0\", \"1\", \"2\", \"3\", \"4\", \"5\", \"6\", \"7\", \"8\", \"9\", \"10\", \"11\", \"12\", \"13\", \"14\", \"15\", \"16\", \"17\", \"18\", \"19\", \"20\", \"21\", \"22\", \"23\", \"24\", \"25\", \"26\", \"27\", \"28\", \"29\", \"30\", \"31\", \"32\"], \"mode\": \"markers\", \"name\": \"AUC_macro\", \"stepped\": false, \"type\": \"scatter\", \"data\": [0.8702254168690302, 0.9179087582969079, 0.904738287194431, 0.9176506070908208, 0.9126996924073174, 0.8175933948518699, 0.9222707463169824, 0.9123292213048406, 0.9251802493119637, 0.9086707463169824, 0.92707301278938, 0.9030628460417678, 0.912484636554962, 0.9152613890237979, 0.9219132912417031, 0.9208942852517403, 0.8909425287356322, 0.9353464788732394, 0.9041164319248826, 0.9065311963736441, 0.7539531811559008, 0.916737704387243, 0.9258446495062328, 0.9303467702768333, 0.9203087582969078, 0.730935923587502, 0.8632722033349522, 0.9040710377205763, 0.9118321515298689, 0.9024625546381738, 0.9199643840051805, 0.9328466245750364, 0.9056489558037883]}, {\"categories\": [\"0\", \"1\", \"2\", \"3\", \"4\", \"5\", \"6\", \"7\", \"8\", \"9\", \"10\", \"11\", \"12\", \"13\", \"14\", \"15\", \"16\", \"17\", \"18\", \"19\", \"20\", \"21\", \"22\", \"23\", \"24\", \"25\", \"26\", \"27\", \"28\", \"29\", \"30\", \"31\", \"32\"], \"mode\": \"lines\", \"name\": \"AUC_macro_max\", \"stepped\": true, \"type\": \"scatter\", \"data\": [0.8702254168690302, 0.9179087582969079, 0.9179087582969079, 0.9179087582969079, 0.9179087582969079, 0.9179087582969079, 0.9222707463169824, 0.9222707463169824, 0.9251802493119637, 0.9251802493119637, 0.92707301278938, 0.92707301278938, 0.92707301278938, 0.92707301278938, 0.92707301278938, 0.92707301278938, 0.92707301278938, 0.9353464788732394, 0.9353464788732394, 0.9353464788732394, 0.9353464788732394, 0.9353464788732394, 0.9353464788732394, 0.9353464788732394, 0.9353464788732394, 0.9353464788732394, 0.9353464788732394, 0.9353464788732394, 0.9353464788732394, 0.9353464788732394, 0.9353464788732394, 0.9353464788732394, 0.9353464788732394]}], \"recall_score_weighted\": [{\"categories\": [\"0\", \"1\", \"2\", \"3\", \"4\", \"5\", \"6\", \"7\", \"8\", \"9\", \"10\", \"11\", \"12\", \"13\", \"14\", \"15\", \"16\", \"17\", \"18\", \"19\", \"20\", \"21\", \"22\", \"23\", \"24\", \"25\", \"26\", \"27\", \"28\", \"29\", \"30\", \"31\", \"32\"], \"mode\": \"markers\", \"name\": \"recall_score_weighted\", \"stepped\": false, \"type\": \"scatter\", \"data\": [0.81, 0.85, 0.85, 0.8400000000000001, 0.855, 0.795, 0.865, 0.87, 0.86, 0.84, 0.885, 0.87, 0.885, 0.85, 0.875, 0.84, 0.8200000000000001, 0.89, 0.86, 0.865, 0.735, 0.86, 0.83, 0.875, 0.875, 0.565, 0.815, 0.86, 0.825, 0.865, 0.89, 0.9, 0.865]}, {\"categories\": [\"0\", \"1\", \"2\", \"3\", \"4\", \"5\", \"6\", \"7\", \"8\", \"9\", \"10\", \"11\", \"12\", \"13\", \"14\", \"15\", \"16\", \"17\", \"18\", \"19\", \"20\", \"21\", \"22\", \"23\", \"24\", \"25\", \"26\", \"27\", \"28\", \"29\", \"30\", \"31\", \"32\"], \"mode\": \"lines\", \"name\": \"recall_score_weighted_max\", \"stepped\": true, \"type\": \"scatter\", \"data\": [0.81, 0.85, 0.85, 0.85, 0.855, 0.855, 0.865, 0.87, 0.87, 0.87, 0.885, 0.885, 0.885, 0.885, 0.885, 0.885, 0.885, 0.89, 0.89, 0.89, 0.89, 0.89, 0.89, 0.89, 0.89, 0.89, 0.89, 0.89, 0.89, 0.89, 0.89, 0.9, 0.9]}], \"AUC_micro\": [{\"categories\": [\"0\", \"1\", \"2\", \"3\", \"4\", \"5\", \"6\", \"7\", \"8\", \"9\", \"10\", \"11\", \"12\", \"13\", \"14\", \"15\", \"16\", \"17\", \"18\", \"19\", \"20\", \"21\", \"22\", \"23\", \"24\", \"25\", \"26\", \"27\", \"28\", \"29\", \"30\", \"31\", \"32\"], \"mode\": \"markers\", \"name\": \"AUC_micro\", \"stepped\": false, \"type\": \"scatter\", \"data\": [0.9059999999999999, 0.9322999999999999, 0.9270000000000002, 0.928625, 0.9277500000000001, 0.87245, 0.93855, 0.9331, 0.9394, 0.9263000000000001, 0.9405, 0.9214, 0.92635, 0.9344000000000001, 0.9299499999999999, 0.9298, 0.9106000000000001, 0.9471, 0.9222, 0.92545, 0.83185, 0.9322, 0.9298, 0.94125, 0.93465, 0.67835, 0.8959000000000001, 0.91675, 0.91395, 0.92465, 0.94, 0.9464000000000001, 0.92735]}, {\"categories\": [\"0\", \"1\", \"2\", \"3\", \"4\", \"5\", \"6\", \"7\", \"8\", \"9\", \"10\", \"11\", \"12\", \"13\", \"14\", \"15\", \"16\", \"17\", \"18\", \"19\", \"20\", \"21\", \"22\", \"23\", \"24\", \"25\", \"26\", \"27\", \"28\", \"29\", \"30\", \"31\", \"32\"], \"mode\": \"lines\", \"name\": \"AUC_micro_max\", \"stepped\": true, \"type\": \"scatter\", \"data\": [0.9059999999999999, 0.9322999999999999, 0.9322999999999999, 0.9322999999999999, 0.9322999999999999, 0.9322999999999999, 0.93855, 0.93855, 0.9394, 0.9394, 0.9405, 0.9405, 0.9405, 0.9405, 0.9405, 0.9405, 0.9405, 0.9471, 0.9471, 0.9471, 0.9471, 0.9471, 0.9471, 0.9471, 0.9471, 0.9471, 0.9471, 0.9471, 0.9471, 0.9471, 0.9471, 0.9471, 0.9471]}]}, \"metricName\": null, \"primaryMetricName\": \"accuracy\", \"showLegend\": false}, \"run_metrics\": [{\"name\": \"AUC_micro\", \"run_id\": \"AutoML_a1526448-c253-404f-8d61-6ca7995e708c\", \"categories\": [0], \"series\": [{\"data\": [0.9464000000000001]}]}, {\"name\": \"recall_score_weighted\", \"run_id\": \"AutoML_a1526448-c253-404f-8d61-6ca7995e708c\", \"categories\": [0], \"series\": [{\"data\": [0.9]}]}, {\"name\": \"f1_score_weighted\", \"run_id\": \"AutoML_a1526448-c253-404f-8d61-6ca7995e708c\", \"categories\": [0], \"series\": [{\"data\": [0.8957236842105264]}]}, {\"name\": \"AUC_macro\", \"run_id\": \"AutoML_a1526448-c253-404f-8d61-6ca7995e708c\", \"categories\": [0], \"series\": [{\"data\": [0.9328466245750364]}]}, {\"name\": \"norm_macro_recall\", \"run_id\": \"AutoML_a1526448-c253-404f-8d61-6ca7995e708c\", \"categories\": [0], \"series\": [{\"data\": [0.6966359073984134]}]}, {\"name\": \"f1_score_macro\", \"run_id\": \"AutoML_a1526448-c253-404f-8d61-6ca7995e708c\", \"categories\": [0], \"series\": [{\"data\": [0.8644298245614035]}]}, {\"name\": \"log_loss\", \"run_id\": \"AutoML_a1526448-c253-404f-8d61-6ca7995e708c\", \"categories\": [0], \"series\": [{\"data\": [0.3335602980457252]}]}, {\"name\": \"f1_score_micro\", \"run_id\": \"AutoML_a1526448-c253-404f-8d61-6ca7995e708c\", \"categories\": [0], \"series\": [{\"data\": [0.9]}]}, {\"name\": \"AUC_weighted\", \"run_id\": \"AutoML_a1526448-c253-404f-8d61-6ca7995e708c\", \"categories\": [0], \"series\": [{\"data\": [0.9328466245750364]}]}, {\"name\": \"recall_score_macro\", \"run_id\": \"AutoML_a1526448-c253-404f-8d61-6ca7995e708c\", \"categories\": [0], \"series\": [{\"data\": [0.8483179536992067]}]}, {\"name\": \"weighted_accuracy\", \"run_id\": \"AutoML_a1526448-c253-404f-8d61-6ca7995e708c\", \"categories\": [0], \"series\": [{\"data\": [0.934848010880653]}]}, {\"name\": \"average_precision_score_macro\", \"run_id\": \"AutoML_a1526448-c253-404f-8d61-6ca7995e708c\", \"categories\": [0], \"series\": [{\"data\": [0.9041981267306907]}]}, {\"name\": \"precision_score_micro\", \"run_id\": \"AutoML_a1526448-c253-404f-8d61-6ca7995e708c\", \"categories\": [0], \"series\": [{\"data\": [0.9]}]}, {\"name\": \"average_precision_score_weighted\", \"run_id\": \"AutoML_a1526448-c253-404f-8d61-6ca7995e708c\", \"categories\": [0], \"series\": [{\"data\": [0.9326334199580357]}]}, {\"name\": \"balanced_accuracy\", \"run_id\": \"AutoML_a1526448-c253-404f-8d61-6ca7995e708c\", \"categories\": [0], \"series\": [{\"data\": [0.8483179536992067]}]}, {\"name\": \"matthews_correlation\", \"run_id\": \"AutoML_a1526448-c253-404f-8d61-6ca7995e708c\", \"categories\": [0], \"series\": [{\"data\": [0.7441538303399586]}]}, {\"name\": \"precision_score_macro\", \"run_id\": \"AutoML_a1526448-c253-404f-8d61-6ca7995e708c\", \"categories\": [0], \"series\": [{\"data\": [0.899558154645874]}]}, {\"name\": \"precision_score_weighted\", \"run_id\": \"AutoML_a1526448-c253-404f-8d61-6ca7995e708c\", \"categories\": [0], \"series\": [{\"data\": [0.9041585445094216]}]}, {\"name\": \"accuracy\", \"run_id\": \"AutoML_a1526448-c253-404f-8d61-6ca7995e708c\", \"categories\": [0], \"series\": [{\"data\": [0.9]}]}, {\"name\": \"recall_score_micro\", \"run_id\": \"AutoML_a1526448-c253-404f-8d61-6ca7995e708c\", \"categories\": [0], \"series\": [{\"data\": [0.9]}]}, {\"name\": \"average_precision_score_micro\", \"run_id\": \"AutoML_a1526448-c253-404f-8d61-6ca7995e708c\", \"categories\": [0], \"series\": [{\"data\": [0.9416922968921437]}]}], \"run_logs\": \"\\nRun is completed.\", \"graph\": {}, \"widget_settings\": {\"childWidgetDisplay\": \"popup\", \"send_telemetry\": false, \"log_level\": \"INFO\", \"sdk_version\": \"1.20.0\"}, \"loading\": false}"
          },
          "metadata": {}
        }
      ],
      "execution_count": 20,
      "metadata": {
        "collapsed": true,
        "jupyter": {
          "source_hidden": false,
          "outputs_hidden": false
        },
        "nteract": {
          "transient": {
            "deleting": false
          }
        },
        "gather": {
          "logged": 1614447465865
        }
      }
    },
    {
      "cell_type": "code",
      "source": [
        "best_run, fitted_model = remote_run.get_output()"
      ],
      "outputs": [],
      "execution_count": 21,
      "metadata": {
        "collapsed": true,
        "jupyter": {
          "source_hidden": false,
          "outputs_hidden": false
        },
        "nteract": {
          "transient": {
            "deleting": false
          }
        },
        "gather": {
          "logged": 1614447543555
        }
      }
    },
    {
      "cell_type": "code",
      "source": [
        "best_run.get_file_names()"
      ],
      "outputs": [
        {
          "output_type": "execute_result",
          "execution_count": 22,
          "data": {
            "text/plain": "['accuracy_table',\n 'confusion_matrix',\n 'explanation/2d61d971/classes.interpret.json',\n 'explanation/2d61d971/eval_data_viz.interpret.json',\n 'explanation/2d61d971/expected_values.interpret.json',\n 'explanation/2d61d971/features.interpret.json',\n 'explanation/2d61d971/global_names/0.interpret.json',\n 'explanation/2d61d971/global_rank/0.interpret.json',\n 'explanation/2d61d971/global_values/0.interpret.json',\n 'explanation/2d61d971/local_importance_values.interpret.json',\n 'explanation/2d61d971/per_class_names/0.interpret.json',\n 'explanation/2d61d971/per_class_rank/0.interpret.json',\n 'explanation/2d61d971/per_class_values/0.interpret.json',\n 'explanation/2d61d971/rich_metadata.interpret.json',\n 'explanation/2d61d971/visualization_dict.interpret.json',\n 'explanation/eac202f6/classes.interpret.json',\n 'explanation/eac202f6/eval_data_viz.interpret.json',\n 'explanation/eac202f6/expected_values.interpret.json',\n 'explanation/eac202f6/features.interpret.json',\n 'explanation/eac202f6/global_names/0.interpret.json',\n 'explanation/eac202f6/global_rank/0.interpret.json',\n 'explanation/eac202f6/global_values/0.interpret.json',\n 'explanation/eac202f6/local_importance_values.interpret.json',\n 'explanation/eac202f6/per_class_names/0.interpret.json',\n 'explanation/eac202f6/per_class_rank/0.interpret.json',\n 'explanation/eac202f6/per_class_values/0.interpret.json',\n 'explanation/eac202f6/rich_metadata.interpret.json',\n 'explanation/eac202f6/visualization_dict.interpret.json',\n 'explanation/eac202f6/ys_pred_proba_viz.interpret.json',\n 'explanation/eac202f6/ys_pred_viz.interpret.json',\n 'outputs/conda_env_v_1_0_0.yml',\n 'outputs/env_dependencies.json',\n 'outputs/internal_cross_validated_models.pkl',\n 'outputs/model.pkl',\n 'outputs/pipeline_graph.json',\n 'outputs/scoring_file_v_1_0_0.py']",
            "text/html": "['accuracy_table', 'confusion_matrix', 'explanation/2d61d971/classes.interpret.json', 'explanation/2d61d971/eval_data_viz.interpret.json', 'explanation/2d61d971/expected_values.interpret.json', 'explanation/2d61d971/features.interpret.json', 'explanation/2d61d971/global_names/0.interpret.json', 'explanation/2d61d971/global_rank/0.interpret.json', 'explanation/2d61d971/global_values/0.interpret.json', 'explanation/2d61d971/local_importance_values.interpret.json', 'explanation/2d61d971/per_class_names/0.interpret.json', 'explanation/2d61d971/per_class_rank/0.interpret.json', 'explanation/2d61d971/per_class_values/0.interpret.json', 'explanation/2d61d971/rich_metadata.interpret.json', 'explanation/2d61d971/visualization_dict.interpret.json', 'explanation/eac202f6/classes.interpret.json', 'explanation/eac202f6/eval_data_viz.interpret.json', 'explanation/eac202f6/expected_values.interpret.json', 'explanation/eac202f6/features.interpret.json', 'explanation/eac202f6/global_names/0.interpret.json', 'explanation/eac202f6/global_rank/0.interpret.json', 'explanation/eac202f6/global_values/0.interpret.json', 'explanation/eac202f6/local_importance_values.interpret.json', 'explanation/eac202f6/per_class_names/0.interpret.json', 'explanation/eac202f6/per_class_rank/0.interpret.json', 'explanation/eac202f6/per_class_values/0.interpret.json', 'explanation/eac202f6/rich_metadata.interpret.json', 'explanation/eac202f6/visualization_dict.interpret.json', 'explanation/eac202f6/ys_pred_proba_viz.interpret.json', 'explanation/eac202f6/ys_pred_viz.interpret.json', 'outputs/conda_env_v_1_0_0.yml', 'outputs/env_dependencies.json', 'outputs/internal_cross_validated_models.pkl', 'outputs/model.pkl', 'outputs/pipeline_graph.json', 'outputs/scoring_file_v_1_0_0.py']"
          },
          "metadata": {}
        }
      ],
      "execution_count": 22,
      "metadata": {
        "collapsed": true,
        "jupyter": {
          "source_hidden": false,
          "outputs_hidden": false
        },
        "nteract": {
          "transient": {
            "deleting": false
          }
        },
        "gather": {
          "logged": 1614447545364
        }
      }
    },
    {
      "cell_type": "code",
      "source": [
        "best_run.get_file_names()[-3]"
      ],
      "outputs": [
        {
          "output_type": "execute_result",
          "execution_count": 24,
          "data": {
            "text/plain": "'outputs/model.pkl'"
          },
          "metadata": {}
        }
      ],
      "execution_count": 24,
      "metadata": {
        "collapsed": true,
        "jupyter": {
          "source_hidden": false,
          "outputs_hidden": false
        },
        "nteract": {
          "transient": {
            "deleting": false
          }
        },
        "gather": {
          "logged": 1614447566782
        }
      }
    },
    {
      "cell_type": "code",
      "source": [
        "import pickle"
      ],
      "outputs": [],
      "execution_count": 25,
      "metadata": {
        "collapsed": true,
        "jupyter": {
          "source_hidden": false,
          "outputs_hidden": false
        },
        "nteract": {
          "transient": {
            "deleting": false
          }
        },
        "gather": {
          "logged": 1614447567066
        }
      }
    },
    {
      "cell_type": "code",
      "source": [
        "best_run.download_file('outputs/model.pkl', './outputs/model.pkl')"
      ],
      "outputs": [],
      "execution_count": 26,
      "metadata": {
        "collapsed": true,
        "jupyter": {
          "source_hidden": false,
          "outputs_hidden": false
        },
        "nteract": {
          "transient": {
            "deleting": false
          }
        },
        "gather": {
          "logged": 1614447572532
        }
      }
    },
    {
      "cell_type": "code",
      "source": [
        "import joblib\r\n",
        "joblib.load(filename='outputs/model.pkl')"
      ],
      "outputs": [
        {
          "output_type": "execute_result",
          "execution_count": 27,
          "data": {
            "text/plain": "Pipeline(memory=None,\n         steps=[('datatransformer',\n                 DataTransformer(enable_dnn=None, enable_feature_sweeping=None,\n                                 feature_sweeping_config=None,\n                                 feature_sweeping_timeout=None,\n                                 featurization_config=None, force_text_dnn=None,\n                                 is_cross_validation=None,\n                                 is_onnx_compatible=None, logger=None,\n                                 observer=None, task=None, working_dir=None)),\n                ('prefittedsoftvotingclassifier',...\n                                                                                                objective=None,\n                                                                                                random_state=None,\n                                                                                                reg_alpha=0,\n                                                                                                reg_lambda=0.42105263157894735,\n                                                                                                silent=True,\n                                                                                                subsample=1,\n                                                                                                subsample_for_bin=200000,\n                                                                                                subsample_freq=0,\n                                                                                                verbose=-10))],\n                                                                     verbose=False))],\n                                               flatten_transform=None,\n                                               weights=[0.14285714285714285,\n                                                        0.14285714285714285,\n                                                        0.14285714285714285,\n                                                        0.14285714285714285,\n                                                        0.14285714285714285,\n                                                        0.14285714285714285,\n                                                        0.14285714285714285]))],\n         verbose=False)"
          },
          "metadata": {}
        }
      ],
      "execution_count": 27,
      "metadata": {
        "gather": {
          "logged": 1614447581891
        },
        "jupyter": {
          "outputs_hidden": false,
          "source_hidden": false
        },
        "nteract": {
          "transient": {
            "deleting": false
          }
        }
      }
    },
    {
      "cell_type": "code",
      "source": [
        "from azureml.core.model import Model\r\n",
        "model = Model.register(model_name='automl-model', model_path='outputs/model.pkl', workspace=ws)"
      ],
      "outputs": [
        {
          "output_type": "stream",
          "name": "stdout",
          "text": [
            "Registering model automl-model\n"
          ]
        }
      ],
      "execution_count": 28,
      "metadata": {
        "collapsed": true,
        "jupyter": {
          "source_hidden": false,
          "outputs_hidden": false
        },
        "nteract": {
          "transient": {
            "deleting": false
          }
        },
        "gather": {
          "logged": 1614447598579
        }
      }
    },
    {
      "cell_type": "code",
      "source": [
        "import sklearn\r\n",
        "\r\n",
        "from azureml.core.environment import Environment\r\n",
        "\r\n",
        "environment = Environment(\"LocalDeploy\")\r\n",
        "environment.python.conda_dependencies.add_pip_package(\"inference-schema[numpy-support]\")\r\n",
        "environment.python.conda_dependencies.add_pip_package(\"joblib\")\r\n",
        "environment.python.conda_dependencies.add_pip_package(\"scikit-learn=={}\".format(sklearn.__version__))"
      ],
      "outputs": [],
      "execution_count": 29,
      "metadata": {
        "collapsed": true,
        "jupyter": {
          "source_hidden": false,
          "outputs_hidden": false
        },
        "nteract": {
          "transient": {
            "deleting": false
          }
        },
        "gather": {
          "logged": 1614447601833
        }
      }
    },
    {
      "cell_type": "code",
      "source": [
        "%%writefile score.py\r\n",
        "\r\n",
        "import json\r\n",
        "import numpy as np\r\n",
        "import pandas as pd\r\n",
        "import os\r\n",
        "import joblib\r\n",
        "import pickle\r\n",
        "\r\n",
        "def init():\r\n",
        "    global model\r\n",
        "    model_path = os.path.join(os.getenv('AZUREML_MODEL_DIR'), 'model.pkl')\r\n",
        "    print(\"Found model:\", os.path.isfile(model_path)) #To check whether the model is actually present on the location we are looking at\r\n",
        "    model = joblib.load(model_path)\r\n",
        "def run(data):\r\n",
        "    try:\r\n",
        "        data = json.loads(data)['data']\r\n",
        "        data = pd.DataFrame.from_dict(data)\r\n",
        "        result = model.predict(data)\r\n",
        "        return result.tolist()\r\n",
        "    except Exception as e:\r\n",
        "        error = str(e)\r\n",
        "        return error"
      ],
      "outputs": [
        {
          "output_type": "stream",
          "name": "stdout",
          "text": [
            "Overwriting score.py\n"
          ]
        }
      ],
      "execution_count": 31,
      "metadata": {
        "collapsed": true,
        "jupyter": {
          "source_hidden": false,
          "outputs_hidden": false
        },
        "nteract": {
          "transient": {
            "deleting": false
          }
        },
        "gather": {
          "logged": 1614447612039
        }
      }
    },
    {
      "cell_type": "code",
      "source": [
        "model"
      ],
      "outputs": [
        {
          "output_type": "execute_result",
          "execution_count": 32,
          "data": {
            "text/plain": "Model(workspace=Workspace.create(name='quick-starts-ws-139578', subscription_id='976ee174-3882-4721-b90a-b5fef6b72f24', resource_group='aml-quickstarts-139578'), name=automl-model, id=automl-model:1, version=1, tags={}, properties={})"
          },
          "metadata": {}
        }
      ],
      "execution_count": 32,
      "metadata": {
        "collapsed": true,
        "jupyter": {
          "source_hidden": false,
          "outputs_hidden": false
        },
        "nteract": {
          "transient": {
            "deleting": false
          }
        },
        "gather": {
          "logged": 1614447634106
        }
      }
    },
    {
      "cell_type": "code",
      "source": [
        "Model(ws, 'automl-model')"
      ],
      "outputs": [
        {
          "output_type": "execute_result",
          "execution_count": 33,
          "data": {
            "text/plain": "Model(workspace=Workspace.create(name='quick-starts-ws-139578', subscription_id='976ee174-3882-4721-b90a-b5fef6b72f24', resource_group='aml-quickstarts-139578'), name=automl-model, id=automl-model:1, version=1, tags={}, properties={})"
          },
          "metadata": {}
        }
      ],
      "execution_count": 33,
      "metadata": {
        "collapsed": true,
        "jupyter": {
          "source_hidden": false,
          "outputs_hidden": false
        },
        "nteract": {
          "transient": {
            "deleting": false
          }
        },
        "gather": {
          "logged": 1614447774436
        }
      }
    },
    {
      "cell_type": "code",
      "source": [
        "from azureml.core.webservice import AciWebservice\r\n",
        "from azureml.core.model import InferenceConfig\r\n",
        "\r\n",
        "deployment_config = AciWebservice.deploy_configuration(cpu_cores = 1, memory_gb = 1,  enable_app_insights=True, auth_enabled=True)\r\n",
        "\r\n",
        "from azureml.core.webservice import LocalWebservice, Webservice\r\n",
        "inference_config = InferenceConfig(entry_script='score.py',\r\n",
        "                                    environment=environment)\r\n",
        "# deployment_config = LocalWebservice.deploy_configuration(port=8890)\r\n",
        "service = Model.deploy(ws, \"test1\", [model], inference_config, deployment_config)\r\n",
        "service.wait_for_deployment(show_output = True)\r\n",
        "print(service.state)\r\n",
        "print(service.scoring_uri)\r\n",
        "print(service.swagger_uri)"
      ],
      "outputs": [
        {
          "output_type": "stream",
          "name": "stdout",
          "text": [
            "Tips: You can try get_logs(): https://aka.ms/debugimage#dockerlog or local deployment: https://aka.ms/debugimage#debug-locally to debug if deployment takes longer than 10 minutes.\n",
            "Running......................................................................................................\n",
            "Failed\n"
          ]
        },
        {
          "output_type": "stream",
          "name": "stderr",
          "text": [
            "ERROR:azureml.core.webservice.webservice:Service deployment polling reached non-successful terminal state, current service state: Failed\n",
            "Operation ID: 1111236d-cd5f-402f-890f-1f33d822b0ed\n",
            "More information can be found using '.get_logs()'\n",
            "Error:\n",
            "{\n",
            "  \"code\": \"AciDeploymentFailed\",\n",
            "  \"statusCode\": 400,\n",
            "  \"message\": \"Aci Deployment failed with exception: Your container application crashed. This may be caused by errors in your scoring file's init() function.\\n\\t1. Please check the logs for your container instance: test1. From the AML SDK, you can run print(service.get_logs()) if you have service object to fetch the logs.\\n\\t2. You can interactively debug your scoring file locally. Please refer to https://docs.microsoft.com/azure/machine-learning/how-to-debug-visual-studio-code#debug-and-troubleshoot-deployments for more information.\\n\\t3. You can also try to run image cb8e6bfc10894ccf9422841aba6fe7dd.azurecr.io/azureml/azureml_8a90a8ae4f21dcd7231b9244082417af locally. Please refer to https://aka.ms/debugimage#service-launch-fails for more information.\",\n",
            "  \"details\": [\n",
            "    {\n",
            "      \"code\": \"CrashLoopBackOff\",\n",
            "      \"message\": \"Your container application crashed. This may be caused by errors in your scoring file's init() function.\\n\\t1. Please check the logs for your container instance: test1. From the AML SDK, you can run print(service.get_logs()) if you have service object to fetch the logs.\\n\\t2. You can interactively debug your scoring file locally. Please refer to https://docs.microsoft.com/azure/machine-learning/how-to-debug-visual-studio-code#debug-and-troubleshoot-deployments for more information.\\n\\t3. You can also try to run image cb8e6bfc10894ccf9422841aba6fe7dd.azurecr.io/azureml/azureml_8a90a8ae4f21dcd7231b9244082417af locally. Please refer to https://aka.ms/debugimage#service-launch-fails for more information.\"\n",
            "    },\n",
            "    {\n",
            "      \"code\": \"AciDeploymentFailed\",\n",
            "      \"message\": \"Your container application crashed. Please follow the steps to debug:\\n\\t1. From the AML SDK, you can run print(service.get_logs()) if you have service object to fetch the logs. Please refer to https://aka.ms/debugimage#dockerlog for more information.\\n\\t2. If your container application crashed. This may be caused by errors in your scoring file's init() function. You can try debugging locally first. Please refer to https://aka.ms/debugimage#debug-locally for more information.\\n\\t3. You can also interactively debug your scoring file locally. Please refer to https://docs.microsoft.com/azure/machine-learning/how-to-debug-visual-studio-code#debug-and-troubleshoot-deployments for more information.\\n\\t4. View the diagnostic events to check status of container, it may help you to debug the issue.\\n\\\"RestartCount\\\": 3\\n\\\"CurrentState\\\": {\\\"state\\\":\\\"Waiting\\\",\\\"startTime\\\":null,\\\"exitCode\\\":null,\\\"finishTime\\\":null,\\\"detailStatus\\\":\\\"CrashLoopBackOff: Back-off restarting failed\\\"}\\n\\\"PreviousState\\\": {\\\"state\\\":\\\"Terminated\\\",\\\"startTime\\\":\\\"2021-02-27T17:52:32.088Z\\\",\\\"exitCode\\\":111,\\\"finishTime\\\":\\\"2021-02-27T17:52:35.863Z\\\",\\\"detailStatus\\\":\\\"Error\\\"}\\n\\\"Events\\\":\\n{\\\"count\\\":1,\\\"firstTimestamp\\\":\\\"2021-02-27T17:50:22Z\\\",\\\"lastTimestamp\\\":\\\"2021-02-27T17:50:22Z\\\",\\\"name\\\":\\\"Pulling\\\",\\\"message\\\":\\\"pulling image \\\\\\\"cb8e6bfc10894ccf9422841aba6fe7dd.azurecr.io/azureml/azureml_8a90a8ae4f21dcd7231b9244082417af:latest\\\\\\\"\\\",\\\"type\\\":\\\"Normal\\\"}\\n{\\\"count\\\":1,\\\"firstTimestamp\\\":\\\"2021-02-27T17:50:49Z\\\",\\\"lastTimestamp\\\":\\\"2021-02-27T17:50:49Z\\\",\\\"name\\\":\\\"Pulled\\\",\\\"message\\\":\\\"Successfully pulled image \\\\\\\"cb8e6bfc10894ccf9422841aba6fe7dd.azurecr.io/azureml/azureml_8a90a8ae4f21dcd7231b9244082417af:latest\\\\\\\"\\\",\\\"type\\\":\\\"Normal\\\"}\\n{\\\"count\\\":4,\\\"firstTimestamp\\\":\\\"2021-02-27T17:51:05Z\\\",\\\"lastTimestamp\\\":\\\"2021-02-27T17:52:32Z\\\",\\\"name\\\":\\\"Started\\\",\\\"message\\\":\\\"Started container\\\",\\\"type\\\":\\\"Normal\\\"}\\n{\\\"count\\\":4,\\\"firstTimestamp\\\":\\\"2021-02-27T17:51:14Z\\\",\\\"lastTimestamp\\\":\\\"2021-02-27T17:52:35Z\\\",\\\"name\\\":\\\"Killing\\\",\\\"message\\\":\\\"Killing container with id d6c16c812f2457142ba3b91ccf4221562ac9d2c0eb4da8bffecc9064b82ec22e.\\\",\\\"type\\\":\\\"Normal\\\"}\\n\"\n",
            "    }\n",
            "  ]\n",
            "}\n",
            "\n"
          ]
        },
        {
          "output_type": "error",
          "ename": "WebserviceException",
          "evalue": "WebserviceException:\n\tMessage: Service deployment polling reached non-successful terminal state, current service state: Failed\nOperation ID: 1111236d-cd5f-402f-890f-1f33d822b0ed\nMore information can be found using '.get_logs()'\nError:\n{\n  \"code\": \"AciDeploymentFailed\",\n  \"statusCode\": 400,\n  \"message\": \"Aci Deployment failed with exception: Your container application crashed. This may be caused by errors in your scoring file's init() function.\\n\\t1. Please check the logs for your container instance: test1. From the AML SDK, you can run print(service.get_logs()) if you have service object to fetch the logs.\\n\\t2. You can interactively debug your scoring file locally. Please refer to https://docs.microsoft.com/azure/machine-learning/how-to-debug-visual-studio-code#debug-and-troubleshoot-deployments for more information.\\n\\t3. You can also try to run image cb8e6bfc10894ccf9422841aba6fe7dd.azurecr.io/azureml/azureml_8a90a8ae4f21dcd7231b9244082417af locally. Please refer to https://aka.ms/debugimage#service-launch-fails for more information.\",\n  \"details\": [\n    {\n      \"code\": \"CrashLoopBackOff\",\n      \"message\": \"Your container application crashed. This may be caused by errors in your scoring file's init() function.\\n\\t1. Please check the logs for your container instance: test1. From the AML SDK, you can run print(service.get_logs()) if you have service object to fetch the logs.\\n\\t2. You can interactively debug your scoring file locally. Please refer to https://docs.microsoft.com/azure/machine-learning/how-to-debug-visual-studio-code#debug-and-troubleshoot-deployments for more information.\\n\\t3. You can also try to run image cb8e6bfc10894ccf9422841aba6fe7dd.azurecr.io/azureml/azureml_8a90a8ae4f21dcd7231b9244082417af locally. Please refer to https://aka.ms/debugimage#service-launch-fails for more information.\"\n    },\n    {\n      \"code\": \"AciDeploymentFailed\",\n      \"message\": \"Your container application crashed. Please follow the steps to debug:\\n\\t1. From the AML SDK, you can run print(service.get_logs()) if you have service object to fetch the logs. Please refer to https://aka.ms/debugimage#dockerlog for more information.\\n\\t2. If your container application crashed. This may be caused by errors in your scoring file's init() function. You can try debugging locally first. Please refer to https://aka.ms/debugimage#debug-locally for more information.\\n\\t3. You can also interactively debug your scoring file locally. Please refer to https://docs.microsoft.com/azure/machine-learning/how-to-debug-visual-studio-code#debug-and-troubleshoot-deployments for more information.\\n\\t4. View the diagnostic events to check status of container, it may help you to debug the issue.\\n\\\"RestartCount\\\": 3\\n\\\"CurrentState\\\": {\\\"state\\\":\\\"Waiting\\\",\\\"startTime\\\":null,\\\"exitCode\\\":null,\\\"finishTime\\\":null,\\\"detailStatus\\\":\\\"CrashLoopBackOff: Back-off restarting failed\\\"}\\n\\\"PreviousState\\\": {\\\"state\\\":\\\"Terminated\\\",\\\"startTime\\\":\\\"2021-02-27T17:52:32.088Z\\\",\\\"exitCode\\\":111,\\\"finishTime\\\":\\\"2021-02-27T17:52:35.863Z\\\",\\\"detailStatus\\\":\\\"Error\\\"}\\n\\\"Events\\\":\\n{\\\"count\\\":1,\\\"firstTimestamp\\\":\\\"2021-02-27T17:50:22Z\\\",\\\"lastTimestamp\\\":\\\"2021-02-27T17:50:22Z\\\",\\\"name\\\":\\\"Pulling\\\",\\\"message\\\":\\\"pulling image \\\\\\\"cb8e6bfc10894ccf9422841aba6fe7dd.azurecr.io/azureml/azureml_8a90a8ae4f21dcd7231b9244082417af:latest\\\\\\\"\\\",\\\"type\\\":\\\"Normal\\\"}\\n{\\\"count\\\":1,\\\"firstTimestamp\\\":\\\"2021-02-27T17:50:49Z\\\",\\\"lastTimestamp\\\":\\\"2021-02-27T17:50:49Z\\\",\\\"name\\\":\\\"Pulled\\\",\\\"message\\\":\\\"Successfully pulled image \\\\\\\"cb8e6bfc10894ccf9422841aba6fe7dd.azurecr.io/azureml/azureml_8a90a8ae4f21dcd7231b9244082417af:latest\\\\\\\"\\\",\\\"type\\\":\\\"Normal\\\"}\\n{\\\"count\\\":4,\\\"firstTimestamp\\\":\\\"2021-02-27T17:51:05Z\\\",\\\"lastTimestamp\\\":\\\"2021-02-27T17:52:32Z\\\",\\\"name\\\":\\\"Started\\\",\\\"message\\\":\\\"Started container\\\",\\\"type\\\":\\\"Normal\\\"}\\n{\\\"count\\\":4,\\\"firstTimestamp\\\":\\\"2021-02-27T17:51:14Z\\\",\\\"lastTimestamp\\\":\\\"2021-02-27T17:52:35Z\\\",\\\"name\\\":\\\"Killing\\\",\\\"message\\\":\\\"Killing container with id d6c16c812f2457142ba3b91ccf4221562ac9d2c0eb4da8bffecc9064b82ec22e.\\\",\\\"type\\\":\\\"Normal\\\"}\\n\"\n    }\n  ]\n}\n\tInnerException None\n\tErrorResponse \n{\n    \"error\": {\n        \"message\": \"Service deployment polling reached non-successful terminal state, current service state: Failed\\nOperation ID: 1111236d-cd5f-402f-890f-1f33d822b0ed\\nMore information can be found using '.get_logs()'\\nError:\\n{\\n  \\\"code\\\": \\\"AciDeploymentFailed\\\",\\n  \\\"statusCode\\\": 400,\\n  \\\"message\\\": \\\"Aci Deployment failed with exception: Your container application crashed. This may be caused by errors in your scoring file's init() function.\\\\n\\\\t1. Please check the logs for your container instance: test1. From the AML SDK, you can run print(service.get_logs()) if you have service object to fetch the logs.\\\\n\\\\t2. You can interactively debug your scoring file locally. Please refer to https://docs.microsoft.com/azure/machine-learning/how-to-debug-visual-studio-code#debug-and-troubleshoot-deployments for more information.\\\\n\\\\t3. You can also try to run image cb8e6bfc10894ccf9422841aba6fe7dd.azurecr.io/azureml/azureml_8a90a8ae4f21dcd7231b9244082417af locally. Please refer to https://aka.ms/debugimage#service-launch-fails for more information.\\\",\\n  \\\"details\\\": [\\n    {\\n      \\\"code\\\": \\\"CrashLoopBackOff\\\",\\n      \\\"message\\\": \\\"Your container application crashed. This may be caused by errors in your scoring file's init() function.\\\\n\\\\t1. Please check the logs for your container instance: test1. From the AML SDK, you can run print(service.get_logs()) if you have service object to fetch the logs.\\\\n\\\\t2. You can interactively debug your scoring file locally. Please refer to https://docs.microsoft.com/azure/machine-learning/how-to-debug-visual-studio-code#debug-and-troubleshoot-deployments for more information.\\\\n\\\\t3. You can also try to run image cb8e6bfc10894ccf9422841aba6fe7dd.azurecr.io/azureml/azureml_8a90a8ae4f21dcd7231b9244082417af locally. Please refer to https://aka.ms/debugimage#service-launch-fails for more information.\\\"\\n    },\\n    {\\n      \\\"code\\\": \\\"AciDeploymentFailed\\\",\\n      \\\"message\\\": \\\"Your container application crashed. Please follow the steps to debug:\\\\n\\\\t1. From the AML SDK, you can run print(service.get_logs()) if you have service object to fetch the logs. Please refer to https://aka.ms/debugimage#dockerlog for more information.\\\\n\\\\t2. If your container application crashed. This may be caused by errors in your scoring file's init() function. You can try debugging locally first. Please refer to https://aka.ms/debugimage#debug-locally for more information.\\\\n\\\\t3. You can also interactively debug your scoring file locally. Please refer to https://docs.microsoft.com/azure/machine-learning/how-to-debug-visual-studio-code#debug-and-troubleshoot-deployments for more information.\\\\n\\\\t4. View the diagnostic events to check status of container, it may help you to debug the issue.\\\\n\\\\\\\"RestartCount\\\\\\\": 3\\\\n\\\\\\\"CurrentState\\\\\\\": {\\\\\\\"state\\\\\\\":\\\\\\\"Waiting\\\\\\\",\\\\\\\"startTime\\\\\\\":null,\\\\\\\"exitCode\\\\\\\":null,\\\\\\\"finishTime\\\\\\\":null,\\\\\\\"detailStatus\\\\\\\":\\\\\\\"CrashLoopBackOff: Back-off restarting failed\\\\\\\"}\\\\n\\\\\\\"PreviousState\\\\\\\": {\\\\\\\"state\\\\\\\":\\\\\\\"Terminated\\\\\\\",\\\\\\\"startTime\\\\\\\":\\\\\\\"2021-02-27T17:52:32.088Z\\\\\\\",\\\\\\\"exitCode\\\\\\\":111,\\\\\\\"finishTime\\\\\\\":\\\\\\\"2021-02-27T17:52:35.863Z\\\\\\\",\\\\\\\"detailStatus\\\\\\\":\\\\\\\"Error\\\\\\\"}\\\\n\\\\\\\"Events\\\\\\\":\\\\n{\\\\\\\"count\\\\\\\":1,\\\\\\\"firstTimestamp\\\\\\\":\\\\\\\"2021-02-27T17:50:22Z\\\\\\\",\\\\\\\"lastTimestamp\\\\\\\":\\\\\\\"2021-02-27T17:50:22Z\\\\\\\",\\\\\\\"name\\\\\\\":\\\\\\\"Pulling\\\\\\\",\\\\\\\"message\\\\\\\":\\\\\\\"pulling image \\\\\\\\\\\\\\\"cb8e6bfc10894ccf9422841aba6fe7dd.azurecr.io/azureml/azureml_8a90a8ae4f21dcd7231b9244082417af:latest\\\\\\\\\\\\\\\"\\\\\\\",\\\\\\\"type\\\\\\\":\\\\\\\"Normal\\\\\\\"}\\\\n{\\\\\\\"count\\\\\\\":1,\\\\\\\"firstTimestamp\\\\\\\":\\\\\\\"2021-02-27T17:50:49Z\\\\\\\",\\\\\\\"lastTimestamp\\\\\\\":\\\\\\\"2021-02-27T17:50:49Z\\\\\\\",\\\\\\\"name\\\\\\\":\\\\\\\"Pulled\\\\\\\",\\\\\\\"message\\\\\\\":\\\\\\\"Successfully pulled image \\\\\\\\\\\\\\\"cb8e6bfc10894ccf9422841aba6fe7dd.azurecr.io/azureml/azureml_8a90a8ae4f21dcd7231b9244082417af:latest\\\\\\\\\\\\\\\"\\\\\\\",\\\\\\\"type\\\\\\\":\\\\\\\"Normal\\\\\\\"}\\\\n{\\\\\\\"count\\\\\\\":4,\\\\\\\"firstTimestamp\\\\\\\":\\\\\\\"2021-02-27T17:51:05Z\\\\\\\",\\\\\\\"lastTimestamp\\\\\\\":\\\\\\\"2021-02-27T17:52:32Z\\\\\\\",\\\\\\\"name\\\\\\\":\\\\\\\"Started\\\\\\\",\\\\\\\"message\\\\\\\":\\\\\\\"Started container\\\\\\\",\\\\\\\"type\\\\\\\":\\\\\\\"Normal\\\\\\\"}\\\\n{\\\\\\\"count\\\\\\\":4,\\\\\\\"firstTimestamp\\\\\\\":\\\\\\\"2021-02-27T17:51:14Z\\\\\\\",\\\\\\\"lastTimestamp\\\\\\\":\\\\\\\"2021-02-27T17:52:35Z\\\\\\\",\\\\\\\"name\\\\\\\":\\\\\\\"Killing\\\\\\\",\\\\\\\"message\\\\\\\":\\\\\\\"Killing container with id d6c16c812f2457142ba3b91ccf4221562ac9d2c0eb4da8bffecc9064b82ec22e.\\\\\\\",\\\\\\\"type\\\\\\\":\\\\\\\"Normal\\\\\\\"}\\\\n\\\"\\n    }\\n  ]\\n}\"\n    }\n}",
          "traceback": [
            "\u001b[0;31m---------------------------------------------------------------------------\u001b[0m",
            "\u001b[0;31mWebserviceException\u001b[0m                       Traceback (most recent call last)",
            "\u001b[0;32m<ipython-input-34-7bb0ceb97ddb>\u001b[0m in \u001b[0;36m<module>\u001b[0;34m\u001b[0m\n\u001b[1;32m      9\u001b[0m \u001b[0;31m# deployment_config = LocalWebservice.deploy_configuration(port=8890)\u001b[0m\u001b[0;34m\u001b[0m\u001b[0;34m\u001b[0m\u001b[0;34m\u001b[0m\u001b[0m\n\u001b[1;32m     10\u001b[0m \u001b[0mservice\u001b[0m \u001b[0;34m=\u001b[0m \u001b[0mModel\u001b[0m\u001b[0;34m.\u001b[0m\u001b[0mdeploy\u001b[0m\u001b[0;34m(\u001b[0m\u001b[0mws\u001b[0m\u001b[0;34m,\u001b[0m \u001b[0;34m\"test1\"\u001b[0m\u001b[0;34m,\u001b[0m \u001b[0;34m[\u001b[0m\u001b[0mmodel\u001b[0m\u001b[0;34m]\u001b[0m\u001b[0;34m,\u001b[0m \u001b[0minference_config\u001b[0m\u001b[0;34m,\u001b[0m \u001b[0mdeployment_config\u001b[0m\u001b[0;34m)\u001b[0m\u001b[0;34m\u001b[0m\u001b[0;34m\u001b[0m\u001b[0m\n\u001b[0;32m---> 11\u001b[0;31m \u001b[0mservice\u001b[0m\u001b[0;34m.\u001b[0m\u001b[0mwait_for_deployment\u001b[0m\u001b[0;34m(\u001b[0m\u001b[0mshow_output\u001b[0m \u001b[0;34m=\u001b[0m \u001b[0;32mTrue\u001b[0m\u001b[0;34m)\u001b[0m\u001b[0;34m\u001b[0m\u001b[0;34m\u001b[0m\u001b[0m\n\u001b[0m\u001b[1;32m     12\u001b[0m \u001b[0mprint\u001b[0m\u001b[0;34m(\u001b[0m\u001b[0mservice\u001b[0m\u001b[0;34m.\u001b[0m\u001b[0mstate\u001b[0m\u001b[0;34m)\u001b[0m\u001b[0;34m\u001b[0m\u001b[0;34m\u001b[0m\u001b[0m\n\u001b[1;32m     13\u001b[0m \u001b[0mprint\u001b[0m\u001b[0;34m(\u001b[0m\u001b[0mservice\u001b[0m\u001b[0;34m.\u001b[0m\u001b[0mscoring_uri\u001b[0m\u001b[0;34m)\u001b[0m\u001b[0;34m\u001b[0m\u001b[0;34m\u001b[0m\u001b[0m\n",
            "\u001b[0;32m/anaconda/envs/azureml_py36/lib/python3.6/site-packages/azureml/core/webservice/webservice.py\u001b[0m in \u001b[0;36mwait_for_deployment\u001b[0;34m(self, show_output, timeout_sec)\u001b[0m\n\u001b[1;32m    913\u001b[0m                                           \u001b[0;34m'Error:\\n'\u001b[0m\u001b[0;34m\u001b[0m\u001b[0;34m\u001b[0m\u001b[0m\n\u001b[1;32m    914\u001b[0m                                           '{}'.format(self.state, self._operation_endpoint.split('/')[-1],\n\u001b[0;32m--> 915\u001b[0;31m                                                       logs_response, error_response), logger=module_logger)\n\u001b[0m\u001b[1;32m    916\u001b[0m             print('{} service creation operation finished, operation \"{}\"'.format(self._webservice_type,\n\u001b[1;32m    917\u001b[0m                                                                                   operation_state))\n",
            "\u001b[0;31mWebserviceException\u001b[0m: WebserviceException:\n\tMessage: Service deployment polling reached non-successful terminal state, current service state: Failed\nOperation ID: 1111236d-cd5f-402f-890f-1f33d822b0ed\nMore information can be found using '.get_logs()'\nError:\n{\n  \"code\": \"AciDeploymentFailed\",\n  \"statusCode\": 400,\n  \"message\": \"Aci Deployment failed with exception: Your container application crashed. This may be caused by errors in your scoring file's init() function.\\n\\t1. Please check the logs for your container instance: test1. From the AML SDK, you can run print(service.get_logs()) if you have service object to fetch the logs.\\n\\t2. You can interactively debug your scoring file locally. Please refer to https://docs.microsoft.com/azure/machine-learning/how-to-debug-visual-studio-code#debug-and-troubleshoot-deployments for more information.\\n\\t3. You can also try to run image cb8e6bfc10894ccf9422841aba6fe7dd.azurecr.io/azureml/azureml_8a90a8ae4f21dcd7231b9244082417af locally. Please refer to https://aka.ms/debugimage#service-launch-fails for more information.\",\n  \"details\": [\n    {\n      \"code\": \"CrashLoopBackOff\",\n      \"message\": \"Your container application crashed. This may be caused by errors in your scoring file's init() function.\\n\\t1. Please check the logs for your container instance: test1. From the AML SDK, you can run print(service.get_logs()) if you have service object to fetch the logs.\\n\\t2. You can interactively debug your scoring file locally. Please refer to https://docs.microsoft.com/azure/machine-learning/how-to-debug-visual-studio-code#debug-and-troubleshoot-deployments for more information.\\n\\t3. You can also try to run image cb8e6bfc10894ccf9422841aba6fe7dd.azurecr.io/azureml/azureml_8a90a8ae4f21dcd7231b9244082417af locally. Please refer to https://aka.ms/debugimage#service-launch-fails for more information.\"\n    },\n    {\n      \"code\": \"AciDeploymentFailed\",\n      \"message\": \"Your container application crashed. Please follow the steps to debug:\\n\\t1. From the AML SDK, you can run print(service.get_logs()) if you have service object to fetch the logs. Please refer to https://aka.ms/debugimage#dockerlog for more information.\\n\\t2. If your container application crashed. This may be caused by errors in your scoring file's init() function. You can try debugging locally first. Please refer to https://aka.ms/debugimage#debug-locally for more information.\\n\\t3. You can also interactively debug your scoring file locally. Please refer to https://docs.microsoft.com/azure/machine-learning/how-to-debug-visual-studio-code#debug-and-troubleshoot-deployments for more information.\\n\\t4. View the diagnostic events to check status of container, it may help you to debug the issue.\\n\\\"RestartCount\\\": 3\\n\\\"CurrentState\\\": {\\\"state\\\":\\\"Waiting\\\",\\\"startTime\\\":null,\\\"exitCode\\\":null,\\\"finishTime\\\":null,\\\"detailStatus\\\":\\\"CrashLoopBackOff: Back-off restarting failed\\\"}\\n\\\"PreviousState\\\": {\\\"state\\\":\\\"Terminated\\\",\\\"startTime\\\":\\\"2021-02-27T17:52:32.088Z\\\",\\\"exitCode\\\":111,\\\"finishTime\\\":\\\"2021-02-27T17:52:35.863Z\\\",\\\"detailStatus\\\":\\\"Error\\\"}\\n\\\"Events\\\":\\n{\\\"count\\\":1,\\\"firstTimestamp\\\":\\\"2021-02-27T17:50:22Z\\\",\\\"lastTimestamp\\\":\\\"2021-02-27T17:50:22Z\\\",\\\"name\\\":\\\"Pulling\\\",\\\"message\\\":\\\"pulling image \\\\\\\"cb8e6bfc10894ccf9422841aba6fe7dd.azurecr.io/azureml/azureml_8a90a8ae4f21dcd7231b9244082417af:latest\\\\\\\"\\\",\\\"type\\\":\\\"Normal\\\"}\\n{\\\"count\\\":1,\\\"firstTimestamp\\\":\\\"2021-02-27T17:50:49Z\\\",\\\"lastTimestamp\\\":\\\"2021-02-27T17:50:49Z\\\",\\\"name\\\":\\\"Pulled\\\",\\\"message\\\":\\\"Successfully pulled image \\\\\\\"cb8e6bfc10894ccf9422841aba6fe7dd.azurecr.io/azureml/azureml_8a90a8ae4f21dcd7231b9244082417af:latest\\\\\\\"\\\",\\\"type\\\":\\\"Normal\\\"}\\n{\\\"count\\\":4,\\\"firstTimestamp\\\":\\\"2021-02-27T17:51:05Z\\\",\\\"lastTimestamp\\\":\\\"2021-02-27T17:52:32Z\\\",\\\"name\\\":\\\"Started\\\",\\\"message\\\":\\\"Started container\\\",\\\"type\\\":\\\"Normal\\\"}\\n{\\\"count\\\":4,\\\"firstTimestamp\\\":\\\"2021-02-27T17:51:14Z\\\",\\\"lastTimestamp\\\":\\\"2021-02-27T17:52:35Z\\\",\\\"name\\\":\\\"Killing\\\",\\\"message\\\":\\\"Killing container with id d6c16c812f2457142ba3b91ccf4221562ac9d2c0eb4da8bffecc9064b82ec22e.\\\",\\\"type\\\":\\\"Normal\\\"}\\n\"\n    }\n  ]\n}\n\tInnerException None\n\tErrorResponse \n{\n    \"error\": {\n        \"message\": \"Service deployment polling reached non-successful terminal state, current service state: Failed\\nOperation ID: 1111236d-cd5f-402f-890f-1f33d822b0ed\\nMore information can be found using '.get_logs()'\\nError:\\n{\\n  \\\"code\\\": \\\"AciDeploymentFailed\\\",\\n  \\\"statusCode\\\": 400,\\n  \\\"message\\\": \\\"Aci Deployment failed with exception: Your container application crashed. This may be caused by errors in your scoring file's init() function.\\\\n\\\\t1. Please check the logs for your container instance: test1. From the AML SDK, you can run print(service.get_logs()) if you have service object to fetch the logs.\\\\n\\\\t2. You can interactively debug your scoring file locally. Please refer to https://docs.microsoft.com/azure/machine-learning/how-to-debug-visual-studio-code#debug-and-troubleshoot-deployments for more information.\\\\n\\\\t3. You can also try to run image cb8e6bfc10894ccf9422841aba6fe7dd.azurecr.io/azureml/azureml_8a90a8ae4f21dcd7231b9244082417af locally. Please refer to https://aka.ms/debugimage#service-launch-fails for more information.\\\",\\n  \\\"details\\\": [\\n    {\\n      \\\"code\\\": \\\"CrashLoopBackOff\\\",\\n      \\\"message\\\": \\\"Your container application crashed. This may be caused by errors in your scoring file's init() function.\\\\n\\\\t1. Please check the logs for your container instance: test1. From the AML SDK, you can run print(service.get_logs()) if you have service object to fetch the logs.\\\\n\\\\t2. You can interactively debug your scoring file locally. Please refer to https://docs.microsoft.com/azure/machine-learning/how-to-debug-visual-studio-code#debug-and-troubleshoot-deployments for more information.\\\\n\\\\t3. You can also try to run image cb8e6bfc10894ccf9422841aba6fe7dd.azurecr.io/azureml/azureml_8a90a8ae4f21dcd7231b9244082417af locally. Please refer to https://aka.ms/debugimage#service-launch-fails for more information.\\\"\\n    },\\n    {\\n      \\\"code\\\": \\\"AciDeploymentFailed\\\",\\n      \\\"message\\\": \\\"Your container application crashed. Please follow the steps to debug:\\\\n\\\\t1. From the AML SDK, you can run print(service.get_logs()) if you have service object to fetch the logs. Please refer to https://aka.ms/debugimage#dockerlog for more information.\\\\n\\\\t2. If your container application crashed. This may be caused by errors in your scoring file's init() function. You can try debugging locally first. Please refer to https://aka.ms/debugimage#debug-locally for more information.\\\\n\\\\t3. You can also interactively debug your scoring file locally. Please refer to https://docs.microsoft.com/azure/machine-learning/how-to-debug-visual-studio-code#debug-and-troubleshoot-deployments for more information.\\\\n\\\\t4. View the diagnostic events to check status of container, it may help you to debug the issue.\\\\n\\\\\\\"RestartCount\\\\\\\": 3\\\\n\\\\\\\"CurrentState\\\\\\\": {\\\\\\\"state\\\\\\\":\\\\\\\"Waiting\\\\\\\",\\\\\\\"startTime\\\\\\\":null,\\\\\\\"exitCode\\\\\\\":null,\\\\\\\"finishTime\\\\\\\":null,\\\\\\\"detailStatus\\\\\\\":\\\\\\\"CrashLoopBackOff: Back-off restarting failed\\\\\\\"}\\\\n\\\\\\\"PreviousState\\\\\\\": {\\\\\\\"state\\\\\\\":\\\\\\\"Terminated\\\\\\\",\\\\\\\"startTime\\\\\\\":\\\\\\\"2021-02-27T17:52:32.088Z\\\\\\\",\\\\\\\"exitCode\\\\\\\":111,\\\\\\\"finishTime\\\\\\\":\\\\\\\"2021-02-27T17:52:35.863Z\\\\\\\",\\\\\\\"detailStatus\\\\\\\":\\\\\\\"Error\\\\\\\"}\\\\n\\\\\\\"Events\\\\\\\":\\\\n{\\\\\\\"count\\\\\\\":1,\\\\\\\"firstTimestamp\\\\\\\":\\\\\\\"2021-02-27T17:50:22Z\\\\\\\",\\\\\\\"lastTimestamp\\\\\\\":\\\\\\\"2021-02-27T17:50:22Z\\\\\\\",\\\\\\\"name\\\\\\\":\\\\\\\"Pulling\\\\\\\",\\\\\\\"message\\\\\\\":\\\\\\\"pulling image \\\\\\\\\\\\\\\"cb8e6bfc10894ccf9422841aba6fe7dd.azurecr.io/azureml/azureml_8a90a8ae4f21dcd7231b9244082417af:latest\\\\\\\\\\\\\\\"\\\\\\\",\\\\\\\"type\\\\\\\":\\\\\\\"Normal\\\\\\\"}\\\\n{\\\\\\\"count\\\\\\\":1,\\\\\\\"firstTimestamp\\\\\\\":\\\\\\\"2021-02-27T17:50:49Z\\\\\\\",\\\\\\\"lastTimestamp\\\\\\\":\\\\\\\"2021-02-27T17:50:49Z\\\\\\\",\\\\\\\"name\\\\\\\":\\\\\\\"Pulled\\\\\\\",\\\\\\\"message\\\\\\\":\\\\\\\"Successfully pulled image \\\\\\\\\\\\\\\"cb8e6bfc10894ccf9422841aba6fe7dd.azurecr.io/azureml/azureml_8a90a8ae4f21dcd7231b9244082417af:latest\\\\\\\\\\\\\\\"\\\\\\\",\\\\\\\"type\\\\\\\":\\\\\\\"Normal\\\\\\\"}\\\\n{\\\\\\\"count\\\\\\\":4,\\\\\\\"firstTimestamp\\\\\\\":\\\\\\\"2021-02-27T17:51:05Z\\\\\\\",\\\\\\\"lastTimestamp\\\\\\\":\\\\\\\"2021-02-27T17:52:32Z\\\\\\\",\\\\\\\"name\\\\\\\":\\\\\\\"Started\\\\\\\",\\\\\\\"message\\\\\\\":\\\\\\\"Started container\\\\\\\",\\\\\\\"type\\\\\\\":\\\\\\\"Normal\\\\\\\"}\\\\n{\\\\\\\"count\\\\\\\":4,\\\\\\\"firstTimestamp\\\\\\\":\\\\\\\"2021-02-27T17:51:14Z\\\\\\\",\\\\\\\"lastTimestamp\\\\\\\":\\\\\\\"2021-02-27T17:52:35Z\\\\\\\",\\\\\\\"name\\\\\\\":\\\\\\\"Killing\\\\\\\",\\\\\\\"message\\\\\\\":\\\\\\\"Killing container with id d6c16c812f2457142ba3b91ccf4221562ac9d2c0eb4da8bffecc9064b82ec22e.\\\\\\\",\\\\\\\"type\\\\\\\":\\\\\\\"Normal\\\\\\\"}\\\\n\\\"\\n    }\\n  ]\\n}\"\n    }\n}"
          ]
        }
      ],
      "execution_count": 34,
      "metadata": {
        "collapsed": true,
        "jupyter": {
          "source_hidden": false,
          "outputs_hidden": false
        },
        "nteract": {
          "transient": {
            "deleting": false
          }
        }
      }
    },
    {
      "cell_type": "code",
      "source": [
        "primary, secondary = service.get_keys()\r\n",
        "print(primary)"
      ],
      "outputs": [],
      "execution_count": null,
      "metadata": {
        "collapsed": true,
        "jupyter": {
          "source_hidden": false,
          "outputs_hidden": false
        },
        "nteract": {
          "transient": {
            "deleting": false
          }
        }
      }
    },
    {
      "cell_type": "code",
      "source": [
        "import requests\r\n",
        "import json\r\n",
        "\r\n",
        "scoring_uri = 'http://c05355da-4e21-43f4-999d-3893163d1a13.southcentralus.azurecontainer.io/score'\r\n",
        "\r\n",
        "key = 'DiDq37HlNN3IuMh6wWUlSgWS4Z1KCSis'\r\n",
        "\r\n",
        "\r\n",
        "# Sample data to send to the service\r\n",
        "data = json.dumps(\r\n",
        "    {\"data\":\r\n",
        "            [\r\n",
        "                {\r\n",
        "                    'age': 75.0,\r\n",
        "                    'anaemia': 0,\r\n",
        "                    'creatinine_phosphokinase': 582,\r\n",
        "                    'diabetes': 0,\r\n",
        "                    'ejection_fraction': 20,\r\n",
        "                    'high_blood_pressure': 1,\r\n",
        "                    'platelets': 265000.0,\r\n",
        "                    'serum_creatinine': 1.9,\r\n",
        "                    'serum_sodium': 130,\r\n",
        "                    'sex': 1,\r\n",
        "                    'smoking': 0,\r\n",
        "                    'time': 4\r\n",
        "                },\r\n",
        "                {\r\n",
        "                    'age': 55.0,\r\n",
        "                    'anaemia': 0,\r\n",
        "                    'creatinine_phosphokinase': 7861,\r\n",
        "                    'diabetes': 0,\r\n",
        "                    'ejection_fraction': 38,\r\n",
        "                    'high_blood_pressure': 0,\r\n",
        "                    'platelets': 263358.03,\r\n",
        "                    'serum_creatinine': 1.1,\r\n",
        "                    'serum_sodium': 136,\r\n",
        "                    'sex': 1,\r\n",
        "                    'smoking': 0,\r\n",
        "                    'time': 6\r\n",
        "                }\r\n",
        "            ] \r\n",
        "        }\r\n",
        ")\r\n",
        "                \r\n",
        "\r\n",
        "headers = {'Content-Type': 'application/json'}\r\n",
        "\r\n",
        "headers['Authorization'] = f'Bearer {key}'\r\n",
        "\r\n",
        "resp = requests.post(scoring_uri, data, headers=headers)\r\n",
        "print(resp.text)"
      ],
      "outputs": [],
      "execution_count": null,
      "metadata": {
        "collapsed": true,
        "jupyter": {
          "source_hidden": false,
          "outputs_hidden": false
        },
        "nteract": {
          "transient": {
            "deleting": false
          }
        }
      }
    },
    {
      "cell_type": "markdown",
      "source": [
        "## Best Model\n",
        "\n",
        "TODO: In the cell below, get the best model from the automl experiments and display all the properties of the model.\n",
        "\n"
      ],
      "metadata": {}
    },
    {
      "cell_type": "code",
      "source": [
        "from azureml.core.webservice import LocalWebservice\r\n",
        "from azureml.core.model import InferenceConfig\r\n",
        "inference_config = InferenceConfig(entry_script='score.py', environment=environment) \r\n",
        "\r\n",
        "# This is optional, if not provided Docker will choose a random unused port.\r\n",
        "deployment_config = LocalWebservice.deploy_configuration(port=1234)\r\n",
        "\r\n",
        "local_service = Model.deploy(ws, \"deeploy\", [model], inference_config, deployment_config)\r\n",
        "\r\n",
        "local_service.wait_for_deployment()"
      ],
      "outputs": [
        {
          "output_type": "stream",
          "name": "stdout",
          "text": [
            "Downloading model automl-model:2 to /tmp/azureml_bhclygnr/automl-model/2\n",
            "Generating Docker build context.\n",
            "Package creation Succeeded\n",
            "Logging into Docker registry 88619665ccdc418b86b5c2f0b6e8e5dd.azurecr.io\n",
            "Logging into Docker registry 88619665ccdc418b86b5c2f0b6e8e5dd.azurecr.io\n",
            "Building Docker image from Dockerfile...\n",
            "Step 1/5 : FROM 88619665ccdc418b86b5c2f0b6e8e5dd.azurecr.io/azureml/azureml_8a90a8ae4f21dcd7231b9244082417af\n",
            " ---> 0f083f3495e8\n",
            "Step 2/5 : COPY azureml-app /var/azureml-app\n",
            " ---> 231fc03ba1c0\n",
            "Step 3/5 : RUN mkdir -p '/var/azureml-app' && echo eyJhY2NvdW50Q29udGV4dCI6eyJzdWJzY3JpcHRpb25JZCI6IjNkMWE1NmQyLTdjODEtNDExOC05NzkwLWY4NWQxYWNmMGM3NyIsInJlc291cmNlR3JvdXBOYW1lIjoiYW1sLXF1aWNrc3RhcnRzLTEzOTEwNyIsImFjY291bnROYW1lIjoicXVpY2stc3RhcnRzLXdzLTEzOTEwNyIsIndvcmtzcGFjZUlkIjoiODg2MTk2NjUtY2NkYy00MThiLTg2YjUtYzJmMGI2ZThlNWRkIn0sIm1vZGVscyI6e30sIm1vZGVsc0luZm8iOnt9fQ== | base64 --decode > /var/azureml-app/model_config_map.json\n",
            " ---> Running in 41dcb43e49ba\n",
            " ---> 61972de0099d\n",
            "Step 4/5 : RUN mv '/var/azureml-app/tmpgqf2touk.py' /var/azureml-app/main.py\n",
            " ---> Running in c37a1e558ab7\n",
            " ---> 36fff7de8525\n",
            "Step 5/5 : CMD [\"runsvdir\",\"/var/runit\"]\n",
            " ---> Running in 1c24d3aabde2\n",
            " ---> 436e38ab8b8c\n",
            "Successfully built 436e38ab8b8c\n",
            "Successfully tagged deeploy:latest\n",
            "Starting Docker container...\n",
            "Docker container running.\n",
            "Checking container health...\n",
            "\n",
            "Container Logs:\n",
            "2021-02-18T08:17:36,362828338+00:00 - iot-server/run \n",
            "2021-02-18T08:17:36,362999849+00:00 - rsyslog/run \n",
            "2021-02-18T08:17:36,364127519+00:00 - gunicorn/run \n",
            "/usr/sbin/nginx: /azureml-envs/azureml_c6bf3e53b0b53065cb9df10251065eb1/lib/libcrypto.so.1.0.0: no version information available (required by /usr/sbin/nginx)\n",
            "/usr/sbin/nginx: /azureml-envs/azureml_c6bf3e53b0b53065cb9df10251065eb1/lib/libcrypto.so.1.0.0: no version information available (required by /usr/sbin/nginx)\n",
            "/usr/sbin/nginx: /azureml-envs/azureml_c6bf3e53b0b53065cb9df10251065eb1/lib/libssl.so.1.0.0: no version information available (required by /usr/sbin/nginx)\n",
            "/usr/sbin/nginx: /azureml-envs/azureml_c6bf3e53b0b53065cb9df10251065eb1/lib/libssl.so.1.0.0: no version information available (required by /usr/sbin/nginx)\n",
            "/usr/sbin/nginx: /azureml-envs/azureml_c6bf3e53b0b53065cb9df10251065eb1/lib/libssl.so.1.0.0: no version information available (required by /usr/sbin/nginx)\n",
            "2021-02-18T08:17:36,364984673+00:00 - nginx/run \n",
            "EdgeHubConnectionString and IOTEDGE_IOTHUBHOSTNAME are not set. Exiting...\n",
            "2021-02-18T08:17:36,445829825+00:00 - iot-server/finish 1 0\n",
            "2021-02-18T08:17:36,447287216+00:00 - Exit code 1 is normal. Not restarting iot-server.\n",
            "Starting gunicorn 19.9.0\n",
            "Listening at: http://127.0.0.1:31311 (12)\n",
            "Using worker: sync\n",
            "worker timeout is set to 300\n",
            "Booting worker with pid: 42\n",
            "SPARK_HOME not set. Skipping PySpark Initialization.\n",
            "Initializing logger\n",
            "2021-02-18 08:17:37,089 | root | INFO | Starting up app insights client\n",
            "2021-02-18 08:17:37,089 | root | INFO | Starting up request id generator\n",
            "2021-02-18 08:17:37,089 | root | INFO | Starting up app insight hooks\n",
            "2021-02-18 08:17:37,089 | root | INFO | Invoking user's init function\n",
            "Found model:\n",
            "False\n",
            "2021-02-18 08:17:37,089 | root | ERROR | User's init function failed\n",
            "2021-02-18 08:17:37,090 | root | ERROR | Encountered Exception Traceback (most recent call last):\n",
            "  File \"/var/azureml-server/aml_blueprint.py\", line 176, in register\n",
            "    main.init()\n",
            "  File \"/var/azureml-app/score.py\", line 13, in init\n",
            "    model = joblib.load(model_path)\n",
            "  File \"/azureml-envs/azureml_c6bf3e53b0b53065cb9df10251065eb1/lib/python3.6/site-packages/joblib/numpy_pickle.py\", line 577, in load\n",
            "    with open(filename, 'rb') as f:\n",
            "FileNotFoundError: [Errno 2] No such file or directory: 'azureml-models/automl-model/2/outputs/model.pkl'\n",
            "\n",
            "Worker exiting (pid: 42)\n",
            "Shutting down: Master\n",
            "Reason: Worker failed to boot.\n",
            "2021-02-18T08:17:37,197551504+00:00 - gunicorn/finish 3 0\n",
            "2021-02-18T08:17:37,198842185+00:00 - Exit code 3 is not normal. Killing image.\n",
            "\n"
          ]
        },
        {
          "output_type": "stream",
          "name": "stderr",
          "text": [
            "ERROR:azureml._model_management._util:Error: Container has crashed. Did your init method fail?\n",
            "\n"
          ]
        },
        {
          "output_type": "error",
          "ename": "WebserviceException",
          "evalue": "WebserviceException:\n\tMessage: Error: Container has crashed. Did your init method fail?\n\tInnerException None\n\tErrorResponse \n{\n    \"error\": {\n        \"message\": \"Error: Container has crashed. Did your init method fail?\"\n    }\n}",
          "traceback": [
            "\u001b[0;31m---------------------------------------------------------------------------\u001b[0m",
            "\u001b[0;31mWebserviceException\u001b[0m                       Traceback (most recent call last)",
            "\u001b[0;32m<ipython-input-55-28620fa0c282>\u001b[0m in \u001b[0;36m<module>\u001b[0;34m\u001b[0m\n\u001b[1;32m      8\u001b[0m \u001b[0mlocal_service\u001b[0m \u001b[0;34m=\u001b[0m \u001b[0mModel\u001b[0m\u001b[0;34m.\u001b[0m\u001b[0mdeploy\u001b[0m\u001b[0;34m(\u001b[0m\u001b[0mws\u001b[0m\u001b[0;34m,\u001b[0m \u001b[0;34m\"deeploy\"\u001b[0m\u001b[0;34m,\u001b[0m \u001b[0;34m[\u001b[0m\u001b[0mmodel\u001b[0m\u001b[0;34m]\u001b[0m\u001b[0;34m,\u001b[0m \u001b[0minference_config\u001b[0m\u001b[0;34m,\u001b[0m \u001b[0mdeployment_config\u001b[0m\u001b[0;34m)\u001b[0m\u001b[0;34m\u001b[0m\u001b[0;34m\u001b[0m\u001b[0m\n\u001b[1;32m      9\u001b[0m \u001b[0;34m\u001b[0m\u001b[0m\n\u001b[0;32m---> 10\u001b[0;31m \u001b[0mlocal_service\u001b[0m\u001b[0;34m.\u001b[0m\u001b[0mwait_for_deployment\u001b[0m\u001b[0;34m(\u001b[0m\u001b[0;34m)\u001b[0m\u001b[0;34m\u001b[0m\u001b[0;34m\u001b[0m\u001b[0m\n\u001b[0m",
            "\u001b[0;32m/anaconda/envs/azureml_py36/lib/python3.6/site-packages/azureml/core/webservice/local.py\u001b[0m in \u001b[0;36mdecorated\u001b[0;34m(self, *args, **kwargs)\u001b[0m\n\u001b[1;32m     70\u001b[0m                 raise WebserviceException('Cannot call {}() when service is {}.'.format(func.__name__, self.state),\n\u001b[1;32m     71\u001b[0m                                           logger=module_logger)\n\u001b[0;32m---> 72\u001b[0;31m             \u001b[0;32mreturn\u001b[0m \u001b[0mfunc\u001b[0m\u001b[0;34m(\u001b[0m\u001b[0mself\u001b[0m\u001b[0;34m,\u001b[0m \u001b[0;34m*\u001b[0m\u001b[0margs\u001b[0m\u001b[0;34m,\u001b[0m \u001b[0;34m**\u001b[0m\u001b[0mkwargs\u001b[0m\u001b[0;34m)\u001b[0m\u001b[0;34m\u001b[0m\u001b[0;34m\u001b[0m\u001b[0m\n\u001b[0m\u001b[1;32m     73\u001b[0m         \u001b[0;32mreturn\u001b[0m \u001b[0mdecorated\u001b[0m\u001b[0;34m\u001b[0m\u001b[0;34m\u001b[0m\u001b[0m\n\u001b[1;32m     74\u001b[0m     \u001b[0;32mreturn\u001b[0m \u001b[0mdecorator\u001b[0m\u001b[0;34m\u001b[0m\u001b[0;34m\u001b[0m\u001b[0m\n",
            "\u001b[0;32m/anaconda/envs/azureml_py36/lib/python3.6/site-packages/azureml/core/webservice/local.py\u001b[0m in \u001b[0;36mwait_for_deployment\u001b[0;34m(self, show_output)\u001b[0m\n\u001b[1;32m    609\u001b[0m                                    \u001b[0mself\u001b[0m\u001b[0;34m.\u001b[0m\u001b[0m_container\u001b[0m\u001b[0;34m,\u001b[0m\u001b[0;34m\u001b[0m\u001b[0;34m\u001b[0m\u001b[0m\n\u001b[1;32m    610\u001b[0m                                    \u001b[0mhealth_url\u001b[0m\u001b[0;34m=\u001b[0m\u001b[0mself\u001b[0m\u001b[0;34m.\u001b[0m\u001b[0m_get_health_url\u001b[0m\u001b[0;34m(\u001b[0m\u001b[0;34m)\u001b[0m\u001b[0;34m,\u001b[0m\u001b[0;34m\u001b[0m\u001b[0;34m\u001b[0m\u001b[0m\n\u001b[0;32m--> 611\u001b[0;31m                                    cleanup_if_failed=False)\n\u001b[0m\u001b[1;32m    612\u001b[0m \u001b[0;34m\u001b[0m\u001b[0m\n\u001b[1;32m    613\u001b[0m             \u001b[0mself\u001b[0m\u001b[0;34m.\u001b[0m\u001b[0mstate\u001b[0m \u001b[0;34m=\u001b[0m \u001b[0mLocalWebservice\u001b[0m\u001b[0;34m.\u001b[0m\u001b[0mSTATE_RUNNING\u001b[0m\u001b[0;34m\u001b[0m\u001b[0;34m\u001b[0m\u001b[0m\n",
            "\u001b[0;32m/anaconda/envs/azureml_py36/lib/python3.6/site-packages/azureml/_model_management/_util.py\u001b[0m in \u001b[0;36mcontainer_health_check\u001b[0;34m(docker_port, container, health_url, cleanup_if_failed)\u001b[0m\n\u001b[1;32m    741\u001b[0m             \u001b[0;31m# The container has started and crashed.\u001b[0m\u001b[0;34m\u001b[0m\u001b[0;34m\u001b[0m\u001b[0;34m\u001b[0m\u001b[0m\n\u001b[1;32m    742\u001b[0m             _raise_for_container_failure(container, cleanup_if_failed,\n\u001b[0;32m--> 743\u001b[0;31m                                          'Error: Container has crashed. Did your init method fail?')\n\u001b[0m\u001b[1;32m    744\u001b[0m \u001b[0;34m\u001b[0m\u001b[0m\n\u001b[1;32m    745\u001b[0m         \u001b[0;31m# The container hasn't crashed, so try to ping the health endpoint.\u001b[0m\u001b[0;34m\u001b[0m\u001b[0;34m\u001b[0m\u001b[0;34m\u001b[0m\u001b[0m\n",
            "\u001b[0;32m/anaconda/envs/azureml_py36/lib/python3.6/site-packages/azureml/_model_management/_util.py\u001b[0m in \u001b[0;36m_raise_for_container_failure\u001b[0;34m(container, cleanup, message)\u001b[0m\n\u001b[1;32m   1259\u001b[0m         \u001b[0mcleanup_container\u001b[0m\u001b[0;34m(\u001b[0m\u001b[0mcontainer\u001b[0m\u001b[0;34m)\u001b[0m\u001b[0;34m\u001b[0m\u001b[0;34m\u001b[0m\u001b[0m\n\u001b[1;32m   1260\u001b[0m \u001b[0;34m\u001b[0m\u001b[0m\n\u001b[0;32m-> 1261\u001b[0;31m     \u001b[0;32mraise\u001b[0m \u001b[0mWebserviceException\u001b[0m\u001b[0;34m(\u001b[0m\u001b[0mmessage\u001b[0m\u001b[0;34m,\u001b[0m \u001b[0mlogger\u001b[0m\u001b[0;34m=\u001b[0m\u001b[0mmodule_logger\u001b[0m\u001b[0;34m)\u001b[0m\u001b[0;34m\u001b[0m\u001b[0;34m\u001b[0m\u001b[0m\n\u001b[0m\u001b[1;32m   1262\u001b[0m \u001b[0;34m\u001b[0m\u001b[0m\n\u001b[1;32m   1263\u001b[0m \u001b[0;34m\u001b[0m\u001b[0m\n",
            "\u001b[0;31mWebserviceException\u001b[0m: WebserviceException:\n\tMessage: Error: Container has crashed. Did your init method fail?\n\tInnerException None\n\tErrorResponse \n{\n    \"error\": {\n        \"message\": \"Error: Container has crashed. Did your init method fail?\"\n    }\n}"
          ]
        }
      ],
      "execution_count": 55,
      "metadata": {
        "gather": {
          "logged": 1598431425670
        },
        "jupyter": {
          "outputs_hidden": false,
          "source_hidden": false
        },
        "nteract": {
          "transient": {
            "deleting": false
          }
        }
      }
    },
    {
      "cell_type": "code",
      "source": [
        "print('Local service port: {}'.format(local_service.port))"
      ],
      "outputs": [],
      "execution_count": null,
      "metadata": {
        "gather": {
          "logged": 1598431426111
        },
        "jupyter": {
          "outputs_hidden": false,
          "source_hidden": false
        },
        "nteract": {
          "transient": {
            "deleting": false
          }
        }
      }
    },
    {
      "cell_type": "code",
      "source": [
        "import json\r\n",
        "\r\n",
        "sample_input = json.dumps(\r\n",
        "    {\"data\":\r\n",
        "            [\r\n",
        "                {\r\n",
        "                    'age': 75.0,\r\n",
        "                    'anaemia': 0,\r\n",
        "                    'creatinine_phosphokinase': 582,\r\n",
        "                    'diabetes': 0,\r\n",
        "                    'ejection_fraction': 20,\r\n",
        "                    'high_blood_pressure': 1,\r\n",
        "                    'platelets': 265000.0,\r\n",
        "                    'serum_creatinine': 1.9,\r\n",
        "                    'serum_sodium': 130,\r\n",
        "                    'sex': 1,\r\n",
        "                    'smoking': 0,\r\n",
        "                    'time': 4\r\n",
        "                },\r\n",
        "                {\r\n",
        "                    'age': 55.0,\r\n",
        "                    'anaemia': 0,\r\n",
        "                    'creatinine_phosphokinase': 7861,\r\n",
        "                    'diabetes': 0,\r\n",
        "                    'ejection_fraction': 38,\r\n",
        "                    'high_blood_pressure': 0,\r\n",
        "                    'platelets': 263358.03,\r\n",
        "                    'serum_creatinine': 1.1,\r\n",
        "                    'serum_sodium': 136,\r\n",
        "                    'sex': 1,\r\n",
        "                    'smoking': 0,\r\n",
        "                    'time': 6\r\n",
        "                }\r\n",
        "            ] \r\n",
        "        }\r\n",
        ")\r\n",
        "\r\n",
        "local_service.run(sample_input)"
      ],
      "outputs": [],
      "execution_count": null,
      "metadata": {
        "gather": {
          "logged": 1598431435189
        },
        "jupyter": {
          "outputs_hidden": false,
          "source_hidden": false
        },
        "nteract": {
          "transient": {
            "deleting": false
          }
        }
      }
    },
    {
      "cell_type": "markdown",
      "source": [
        "TODO: In the cell below, send a request to the web service you deployed to test it."
      ],
      "metadata": {
        "collapsed": true,
        "gather": {
          "logged": 1598431657736
        },
        "jupyter": {
          "outputs_hidden": false,
          "source_hidden": false
        },
        "nteract": {
          "transient": {
            "deleting": false
          }
        }
      }
    },
    {
      "cell_type": "code",
      "source": [],
      "outputs": [],
      "execution_count": null,
      "metadata": {
        "gather": {
          "logged": 1598432707604
        },
        "jupyter": {
          "outputs_hidden": false,
          "source_hidden": false
        },
        "nteract": {
          "transient": {
            "deleting": false
          }
        }
      }
    },
    {
      "cell_type": "markdown",
      "source": [
        "TODO: In the cell below, print the logs of the web service and delete the service"
      ],
      "metadata": {
        "collapsed": true,
        "gather": {
          "logged": 1598432765711
        },
        "jupyter": {
          "outputs_hidden": false,
          "source_hidden": false
        },
        "nteract": {
          "transient": {
            "deleting": false
          }
        }
      }
    },
    {
      "cell_type": "code",
      "source": [],
      "outputs": [],
      "execution_count": null,
      "metadata": {
        "jupyter": {
          "outputs_hidden": false,
          "source_hidden": false
        },
        "nteract": {
          "transient": {
            "deleting": false
          }
        }
      }
    }
  ],
  "metadata": {
    "kernel_info": {
      "name": "python3-azureml"
    },
    "kernelspec": {
      "name": "python3-azureml",
      "language": "python",
      "display_name": "Python 3.6 - AzureML"
    },
    "language_info": {
      "name": "python",
      "version": "3.6.9",
      "mimetype": "text/x-python",
      "codemirror_mode": {
        "name": "ipython",
        "version": 3
      },
      "pygments_lexer": "ipython3",
      "nbconvert_exporter": "python",
      "file_extension": ".py"
    },
    "nteract": {
      "version": "nteract-front-end@1.0.0"
    },
    "microsoft": {
      "host": {
        "AzureML": {
          "notebookHasBeenCompleted": true
        }
      }
    }
  },
  "nbformat": 4,
  "nbformat_minor": 2
}