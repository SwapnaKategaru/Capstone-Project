{
  "cells": [
    {
      "cell_type": "markdown",
      "source": [
        "# Automated ML\n",
        "\n",
        "TODO: Import Dependencies. In the cell below, import all the dependencies that you will need to complete the project."
      ],
      "metadata": {}
    },
    {
      "cell_type": "code",
      "source": [
        "pip install azureml-train-automl-runtime==1.20.0"
      ],
      "outputs": [
        {
          "output_type": "stream",
          "name": "stdout",
          "text": [
            "Requirement already satisfied: azureml-train-automl-runtime==1.20.0 in /anaconda/envs/azureml_py36/lib/python3.6/site-packages (1.20.0)\n",
            "Requirement already satisfied: azureml-dataset-runtime[fuse,pandas]~=1.20.0 in /anaconda/envs/azureml_py36/lib/python3.6/site-packages (from azureml-train-automl-runtime==1.20.0) (1.20.0)\n",
            "Requirement already satisfied: azureml-telemetry~=1.20.0 in /anaconda/envs/azureml_py36/lib/python3.6/site-packages (from azureml-train-automl-runtime==1.20.0) (1.20.0)\n",
            "Requirement already satisfied: lightgbm<=2.3.0,>=2.0.11 in /anaconda/envs/azureml_py36/lib/python3.6/site-packages (from azureml-train-automl-runtime==1.20.0) (2.3.0)\n",
            "Requirement already satisfied: onnxruntime==1.3.0 in /anaconda/envs/azureml_py36/lib/python3.6/site-packages (from azureml-train-automl-runtime==1.20.0) (1.3.0)\n",
            "Requirement already satisfied: gensim<3.9.0 in /anaconda/envs/azureml_py36/lib/python3.6/site-packages (from azureml-train-automl-runtime==1.20.0) (3.8.3)\n",
            "Requirement already satisfied: azureml-automl-runtime~=1.20.0 in /anaconda/envs/azureml_py36/lib/python3.6/site-packages (from azureml-train-automl-runtime==1.20.0) (1.20.0)\n",
            "Requirement already satisfied: azure-storage-queue~=12.1 in /anaconda/envs/azureml_py36/lib/python3.6/site-packages (from azureml-train-automl-runtime==1.20.0) (12.1.4)\n",
            "Requirement already satisfied: skl2onnx==1.4.9 in /anaconda/envs/azureml_py36/lib/python3.6/site-packages (from azureml-train-automl-runtime==1.20.0) (1.4.9)\n",
            "Requirement already satisfied: onnxmltools==1.4.1 in /anaconda/envs/azureml_py36/lib/python3.6/site-packages (from azureml-train-automl-runtime==1.20.0) (1.4.1)\n",
            "Requirement already satisfied: azureml-train-automl-client~=1.20.0 in /anaconda/envs/azureml_py36/lib/python3.6/site-packages (from azureml-train-automl-runtime==1.20.0) (1.20.0)\n",
            "Requirement already satisfied: numpy<1.19.0,>=1.16.0 in /anaconda/envs/azureml_py36/lib/python3.6/site-packages (from azureml-train-automl-runtime==1.20.0) (1.18.5)\n",
            "Requirement already satisfied: azureml-automl-core~=1.20.0 in /anaconda/envs/azureml_py36/lib/python3.6/site-packages (from azureml-train-automl-runtime==1.20.0) (1.20.0)\n",
            "Requirement already satisfied: sklearn-pandas<=1.7.0,>=1.4.0 in /anaconda/envs/azureml_py36/lib/python3.6/site-packages (from azureml-train-automl-runtime==1.20.0) (1.7.0)\n",
            "Requirement already satisfied: statsmodels<=0.10.2,>=0.9.0 in /anaconda/envs/azureml_py36/lib/python3.6/site-packages (from azureml-train-automl-runtime==1.20.0) (0.10.2)\n",
            "Requirement already satisfied: onnxconverter-common<=1.6.0,>=1.4.2 in /anaconda/envs/azureml_py36/lib/python3.6/site-packages (from azureml-train-automl-runtime==1.20.0) (1.6.0)\n",
            "Requirement already satisfied: botocore<=1.18.18 in /anaconda/envs/azureml_py36/lib/python3.6/site-packages (from azureml-train-automl-runtime==1.20.0) (1.18.18)\n",
            "Requirement already satisfied: keras2onnx<=1.6.0,>=1.4.0 in /anaconda/envs/azureml_py36/lib/python3.6/site-packages (from azureml-train-automl-runtime==1.20.0) (1.6.0)\n",
            "Requirement already satisfied: jinja2<=2.11.2 in /anaconda/envs/azureml_py36/lib/python3.6/site-packages (from azureml-train-automl-runtime==1.20.0) (2.11.2)\n",
            "Requirement already satisfied: scipy<=1.5.2,>=1.0.0 in /anaconda/envs/azureml_py36/lib/python3.6/site-packages (from azureml-train-automl-runtime==1.20.0) (1.5.2)\n",
            "Requirement already satisfied: onnx<=1.7.0,>=1.5.0 in /anaconda/envs/azureml_py36/lib/python3.6/site-packages (from azureml-train-automl-runtime==1.20.0) (1.7.0)\n",
            "Requirement already satisfied: azureml-core~=1.20.0 in /anaconda/envs/azureml_py36/lib/python3.6/site-packages (from azureml-train-automl-runtime==1.20.0) (1.20.0)\n",
            "Requirement already satisfied: smart-open<=1.9.0 in /anaconda/envs/azureml_py36/lib/python3.6/site-packages (from azureml-train-automl-runtime==1.20.0) (1.9.0)\n",
            "Requirement already satisfied: scikit-learn<0.23.0,>=0.19.0 in /anaconda/envs/azureml_py36/lib/python3.6/site-packages (from azureml-train-automl-runtime==1.20.0) (0.22.2.post1)\n",
            "Requirement already satisfied: azureml-defaults~=1.20.0 in /anaconda/envs/azureml_py36/lib/python3.6/site-packages (from azureml-train-automl-runtime==1.20.0) (1.20.0)\n",
            "Requirement already satisfied: boto3<=1.15.18 in /anaconda/envs/azureml_py36/lib/python3.6/site-packages (from azureml-train-automl-runtime==1.20.0) (1.15.18)\n",
            "Requirement already satisfied: azureml-interpret~=1.20.0 in /anaconda/envs/azureml_py36/lib/python3.6/site-packages (from azureml-train-automl-runtime==1.20.0) (1.20.0)\n",
            "Requirement already satisfied: pandas<1.0.0,>=0.21.0 in /anaconda/envs/azureml_py36/lib/python3.6/site-packages (from azureml-train-automl-runtime==1.20.0) (0.25.3)\n",
            "Requirement already satisfied: pyarrow<2.0.0,>=0.17.0 in /anaconda/envs/azureml_py36/lib/python3.6/site-packages (from azureml-dataset-runtime[fuse,pandas]~=1.20.0->azureml-train-automl-runtime==1.20.0) (1.0.1)\n",
            "Requirement already satisfied: azureml-dataprep<2.8.0a,>=2.7.0a in /anaconda/envs/azureml_py36/lib/python3.6/site-packages (from azureml-dataset-runtime[fuse,pandas]~=1.20.0->azureml-train-automl-runtime==1.20.0) (2.7.3)\n",
            "Requirement already satisfied: fusepy<4.0.0,>=3.0.1; extra == \"fuse\" in /anaconda/envs/azureml_py36/lib/python3.6/site-packages (from azureml-dataset-runtime[fuse,pandas]~=1.20.0->azureml-train-automl-runtime==1.20.0) (3.0.1)\n",
            "Requirement already satisfied: applicationinsights in /anaconda/envs/azureml_py36/lib/python3.6/site-packages (from azureml-telemetry~=1.20.0->azureml-train-automl-runtime==1.20.0) (0.11.9)\n",
            "Requirement already satisfied: protobuf in /anaconda/envs/azureml_py36/lib/python3.6/site-packages (from onnxruntime==1.3.0->azureml-train-automl-runtime==1.20.0) (3.14.0)\n",
            "Requirement already satisfied: six>=1.5.0 in /anaconda/envs/azureml_py36/lib/python3.6/site-packages (from gensim<3.9.0->azureml-train-automl-runtime==1.20.0) (1.15.0)\n",
            "Requirement already satisfied: py-cpuinfo==5.0.0 in /anaconda/envs/azureml_py36/lib/python3.6/site-packages (from azureml-automl-runtime~=1.20.0->azureml-train-automl-runtime==1.20.0) (5.0.0)\n",
            "Requirement already satisfied: joblib==0.14.1 in /anaconda/envs/azureml_py36/lib/python3.6/site-packages (from azureml-automl-runtime~=1.20.0->azureml-train-automl-runtime==1.20.0) (0.14.1)\n",
            "Requirement already satisfied: psutil<6.0.0,>=5.2.2 in /anaconda/envs/azureml_py36/lib/python3.6/site-packages (from azureml-automl-runtime~=1.20.0->azureml-train-automl-runtime==1.20.0) (5.8.0)\n",
            "Requirement already satisfied: nimbusml<=1.8.0,>=1.7.1 in /anaconda/envs/azureml_py36/lib/python3.6/site-packages (from azureml-automl-runtime~=1.20.0->azureml-train-automl-runtime==1.20.0) (1.8.0)\n",
            "Requirement already satisfied: pmdarima==1.1.1 in /anaconda/envs/azureml_py36/lib/python3.6/site-packages (from azureml-automl-runtime~=1.20.0->azureml-train-automl-runtime==1.20.0) (1.1.1)\n",
            "Requirement already satisfied: dill<0.4.0,>=0.2.8 in /anaconda/envs/azureml_py36/lib/python3.6/site-packages (from azureml-automl-runtime~=1.20.0->azureml-train-automl-runtime==1.20.0) (0.3.3)\n",
            "Requirement already satisfied: azure-core<2.0.0,>=1.9.0 in /anaconda/envs/azureml_py36/lib/python3.6/site-packages (from azure-storage-queue~=12.1->azureml-train-automl-runtime==1.20.0) (1.9.0)\n",
            "Requirement already satisfied: cryptography>=2.1.4 in /anaconda/envs/azureml_py36/lib/python3.6/site-packages (from azure-storage-queue~=12.1->azureml-train-automl-runtime==1.20.0) (3.3.1)\n",
            "Requirement already satisfied: msrest>=0.6.10 in /anaconda/envs/azureml_py36/lib/python3.6/site-packages (from azure-storage-queue~=12.1->azureml-train-automl-runtime==1.20.0) (0.6.19)\n",
            "Requirement already satisfied: patsy>=0.4.0 in /anaconda/envs/azureml_py36/lib/python3.6/site-packages (from statsmodels<=0.10.2,>=0.9.0->azureml-train-automl-runtime==1.20.0) (0.5.1)\n",
            "Requirement already satisfied: jmespath<1.0.0,>=0.7.1 in /anaconda/envs/azureml_py36/lib/python3.6/site-packages (from botocore<=1.18.18->azureml-train-automl-runtime==1.20.0) (0.10.0)\n",
            "Requirement already satisfied: urllib3<1.26,>=1.20; python_version != \"3.4\" in /anaconda/envs/azureml_py36/lib/python3.6/site-packages (from botocore<=1.18.18->azureml-train-automl-runtime==1.20.0) (1.25.11)\n",
            "Requirement already satisfied: python-dateutil<3.0.0,>=2.1 in /anaconda/envs/azureml_py36/lib/python3.6/site-packages (from botocore<=1.18.18->azureml-train-automl-runtime==1.20.0) (2.8.1)\n",
            "Requirement already satisfied: requests in /anaconda/envs/azureml_py36/lib/python3.6/site-packages (from keras2onnx<=1.6.0,>=1.4.0->azureml-train-automl-runtime==1.20.0) (2.25.1)\n",
            "Requirement already satisfied: fire in /anaconda/envs/azureml_py36/lib/python3.6/site-packages (from keras2onnx<=1.6.0,>=1.4.0->azureml-train-automl-runtime==1.20.0) (0.3.1)\n",
            "Requirement already satisfied: MarkupSafe>=0.23 in /anaconda/envs/azureml_py36/lib/python3.6/site-packages (from jinja2<=2.11.2->azureml-train-automl-runtime==1.20.0) (1.1.1)\n",
            "Requirement already satisfied: typing-extensions>=3.6.2.1 in /anaconda/envs/azureml_py36/lib/python3.6/site-packages (from onnx<=1.7.0,>=1.5.0->azureml-train-automl-runtime==1.20.0) (3.7.4.3)\n",
            "Requirement already satisfied: pyopenssl<20.0.0 in /anaconda/envs/azureml_py36/lib/python3.6/site-packages (from azureml-core~=1.20.0->azureml-train-automl-runtime==1.20.0) (19.1.0)\n",
            "Requirement already satisfied: pathspec in /anaconda/envs/azureml_py36/lib/python3.6/site-packages (from azureml-core~=1.20.0->azureml-train-automl-runtime==1.20.0) (0.8.1)\n",
            "Requirement already satisfied: azure-common>=1.1.12 in /anaconda/envs/azureml_py36/lib/python3.6/site-packages (from azureml-core~=1.20.0->azureml-train-automl-runtime==1.20.0) (1.1.26)\n",
            "Requirement already satisfied: docker in /anaconda/envs/azureml_py36/lib/python3.6/site-packages (from azureml-core~=1.20.0->azureml-train-automl-runtime==1.20.0) (4.4.1)\n",
            "Requirement already satisfied: azure-mgmt-storage<16.0.0,>=1.5.0 in /anaconda/envs/azureml_py36/lib/python3.6/site-packages (from azureml-core~=1.20.0->azureml-train-automl-runtime==1.20.0) (11.2.0)\n",
            "Requirement already satisfied: msrestazure>=0.4.33 in /anaconda/envs/azureml_py36/lib/python3.6/site-packages (from azureml-core~=1.20.0->azureml-train-automl-runtime==1.20.0) (0.6.4)\n",
            "Requirement already satisfied: PyJWT<2.0.0 in /anaconda/envs/azureml_py36/lib/python3.6/site-packages (from azureml-core~=1.20.0->azureml-train-automl-runtime==1.20.0) (1.7.1)\n",
            "Requirement already satisfied: jsonpickle in /anaconda/envs/azureml_py36/lib/python3.6/site-packages (from azureml-core~=1.20.0->azureml-train-automl-runtime==1.20.0) (1.4.2)\n",
            "Requirement already satisfied: azure-mgmt-containerregistry>=2.0.0 in /anaconda/envs/azureml_py36/lib/python3.6/site-packages (from azureml-core~=1.20.0->azureml-train-automl-runtime==1.20.0) (2.8.0)\n",
            "Requirement already satisfied: pytz in /anaconda/envs/azureml_py36/lib/python3.6/site-packages (from azureml-core~=1.20.0->azureml-train-automl-runtime==1.20.0) (2020.5)\n",
            "Requirement already satisfied: azure-graphrbac<1.0.0,>=0.40.0 in /anaconda/envs/azureml_py36/lib/python3.6/site-packages (from azureml-core~=1.20.0->azureml-train-automl-runtime==1.20.0) (0.61.1)\n",
            "Requirement already satisfied: azure-mgmt-resource<15.0.0,>=1.2.1 in /anaconda/envs/azureml_py36/lib/python3.6/site-packages (from azureml-core~=1.20.0->azureml-train-automl-runtime==1.20.0) (12.0.0)\n",
            "Requirement already satisfied: backports.tempfile in /anaconda/envs/azureml_py36/lib/python3.6/site-packages (from azureml-core~=1.20.0->azureml-train-automl-runtime==1.20.0) (1.0)\n",
            "Requirement already satisfied: contextlib2 in /anaconda/envs/azureml_py36/lib/python3.6/site-packages (from azureml-core~=1.20.0->azureml-train-automl-runtime==1.20.0) (0.6.0.post1)\n",
            "Requirement already satisfied: ndg-httpsclient in /anaconda/envs/azureml_py36/lib/python3.6/site-packages (from azureml-core~=1.20.0->azureml-train-automl-runtime==1.20.0) (0.5.1)\n",
            "Requirement already satisfied: azure-mgmt-authorization<1.0.0,>=0.40.0 in /anaconda/envs/azureml_py36/lib/python3.6/site-packages (from azureml-core~=1.20.0->azureml-train-automl-runtime==1.20.0) (0.61.0)\n",
            "Requirement already satisfied: ruamel.yaml>=0.15.35 in /anaconda/envs/azureml_py36/lib/python3.6/site-packages (from azureml-core~=1.20.0->azureml-train-automl-runtime==1.20.0) (0.16.12)\n",
            "Requirement already satisfied: adal>=1.2.0 in /anaconda/envs/azureml_py36/lib/python3.6/site-packages (from azureml-core~=1.20.0->azureml-train-automl-runtime==1.20.0) (1.2.5)\n",
            "Requirement already satisfied: SecretStorage in /anaconda/envs/azureml_py36/lib/python3.6/site-packages (from azureml-core~=1.20.0->azureml-train-automl-runtime==1.20.0) (3.3.0)\n",
            "Requirement already satisfied: azure-mgmt-keyvault<7.0.0,>=0.40.0 in /anaconda/envs/azureml_py36/lib/python3.6/site-packages (from azureml-core~=1.20.0->azureml-train-automl-runtime==1.20.0) (2.2.0)\n",
            "Requirement already satisfied: boto>=2.32 in /anaconda/envs/azureml_py36/lib/python3.6/site-packages (from smart-open<=1.9.0->azureml-train-automl-runtime==1.20.0) (2.49.0)\n",
            "Requirement already satisfied: configparser==3.7.4 in /anaconda/envs/azureml_py36/lib/python3.6/site-packages (from azureml-defaults~=1.20.0->azureml-train-automl-runtime==1.20.0) (3.7.4)\n",
            "Requirement already satisfied: gunicorn==19.9.0 in /anaconda/envs/azureml_py36/lib/python3.6/site-packages (from azureml-defaults~=1.20.0->azureml-train-automl-runtime==1.20.0) (19.9.0)\n",
            "Requirement already satisfied: werkzeug<=1.0.1,>=0.16.1 in /anaconda/envs/azureml_py36/lib/python3.6/site-packages (from azureml-defaults~=1.20.0->azureml-train-automl-runtime==1.20.0) (1.0.1)\n",
            "Requirement already satisfied: azureml-model-management-sdk==1.0.1b6.post1 in /anaconda/envs/azureml_py36/lib/python3.6/site-packages (from azureml-defaults~=1.20.0->azureml-train-automl-runtime==1.20.0) (1.0.1b6.post1)\n",
            "Requirement already satisfied: json-logging-py==0.2 in /anaconda/envs/azureml_py36/lib/python3.6/site-packages (from azureml-defaults~=1.20.0->azureml-train-automl-runtime==1.20.0) (0.2)\n",
            "Requirement already satisfied: flask==1.0.3 in /anaconda/envs/azureml_py36/lib/python3.6/site-packages (from azureml-defaults~=1.20.0->azureml-train-automl-runtime==1.20.0) (1.0.3)\n",
            "Requirement already satisfied: s3transfer<0.4.0,>=0.3.0 in /anaconda/envs/azureml_py36/lib/python3.6/site-packages (from boto3<=1.15.18->azureml-train-automl-runtime==1.20.0) (0.3.3)\n",
            "Requirement already satisfied: interpret-community==0.15.* in /anaconda/envs/azureml_py36/lib/python3.6/site-packages (from azureml-interpret~=1.20.0->azureml-train-automl-runtime==1.20.0) (0.15.4)\n",
            "Requirement already satisfied: dotnetcore2<3.0.0,>=2.1.14 in /anaconda/envs/azureml_py36/lib/python3.6/site-packages (from azureml-dataprep<2.8.0a,>=2.7.0a->azureml-dataset-runtime[fuse,pandas]~=1.20.0->azureml-train-automl-runtime==1.20.0) (2.1.20)\n",
            "Requirement already satisfied: azure-identity<1.5.0,>=1.2.0 in /anaconda/envs/azureml_py36/lib/python3.6/site-packages (from azureml-dataprep<2.8.0a,>=2.7.0a->azureml-dataset-runtime[fuse,pandas]~=1.20.0->azureml-train-automl-runtime==1.20.0) (1.4.1)\n",
            "Requirement already satisfied: azureml-dataprep-native<28.0.0,>=27.0.0 in /anaconda/envs/azureml_py36/lib/python3.6/site-packages (from azureml-dataprep<2.8.0a,>=2.7.0a->azureml-dataset-runtime[fuse,pandas]~=1.20.0->azureml-train-automl-runtime==1.20.0) (27.0.0)\n",
            "Requirement already satisfied: cloudpickle<2.0.0,>=1.1.0 in /anaconda/envs/azureml_py36/lib/python3.6/site-packages (from azureml-dataprep<2.8.0a,>=2.7.0a->azureml-dataset-runtime[fuse,pandas]~=1.20.0->azureml-train-automl-runtime==1.20.0) (1.6.0)\n",
            "Requirement already satisfied: azureml-dataprep-rslex<1.6.0a,>=1.5.0dev0 in /anaconda/envs/azureml_py36/lib/python3.6/site-packages (from azureml-dataprep<2.8.0a,>=2.7.0a->azureml-dataset-runtime[fuse,pandas]~=1.20.0->azureml-train-automl-runtime==1.20.0) (1.5.0)\n",
            "Requirement already satisfied: Cython>=0.29 in /anaconda/envs/azureml_py36/lib/python3.6/site-packages (from pmdarima==1.1.1->azureml-automl-runtime~=1.20.0->azureml-train-automl-runtime==1.20.0) (0.29.21)\n",
            "Requirement already satisfied: cffi>=1.12 in /anaconda/envs/azureml_py36/lib/python3.6/site-packages (from cryptography>=2.1.4->azure-storage-queue~=12.1->azureml-train-automl-runtime==1.20.0) (1.14.4)\n",
            "Requirement already satisfied: certifi>=2017.4.17 in /anaconda/envs/azureml_py36/lib/python3.6/site-packages (from msrest>=0.6.10->azure-storage-queue~=12.1->azureml-train-automl-runtime==1.20.0) (2020.12.5)\n",
            "Requirement already satisfied: requests-oauthlib>=0.5.0 in /anaconda/envs/azureml_py36/lib/python3.6/site-packages (from msrest>=0.6.10->azure-storage-queue~=12.1->azureml-train-automl-runtime==1.20.0) (1.3.0)\n",
            "Requirement already satisfied: isodate>=0.6.0 in /anaconda/envs/azureml_py36/lib/python3.6/site-packages (from msrest>=0.6.10->azure-storage-queue~=12.1->azureml-train-automl-runtime==1.20.0) (0.6.0)\n",
            "Requirement already satisfied: chardet<5,>=3.0.2 in /anaconda/envs/azureml_py36/lib/python3.6/site-packages (from requests->keras2onnx<=1.6.0,>=1.4.0->azureml-train-automl-runtime==1.20.0) (4.0.0)\n",
            "Requirement already satisfied: idna<3,>=2.5 in /anaconda/envs/azureml_py36/lib/python3.6/site-packages (from requests->keras2onnx<=1.6.0,>=1.4.0->azureml-train-automl-runtime==1.20.0) (2.10)\n",
            "Requirement already satisfied: termcolor in /anaconda/envs/azureml_py36/lib/python3.6/site-packages (from fire->keras2onnx<=1.6.0,>=1.4.0->azureml-train-automl-runtime==1.20.0) (1.1.0)\n",
            "Requirement already satisfied: websocket-client>=0.32.0 in /anaconda/envs/azureml_py36/lib/python3.6/site-packages (from docker->azureml-core~=1.20.0->azureml-train-automl-runtime==1.20.0) (0.57.0)\n",
            "Requirement already satisfied: importlib-metadata; python_version < \"3.8\" in /anaconda/envs/azureml_py36/lib/python3.6/site-packages (from jsonpickle->azureml-core~=1.20.0->azureml-train-automl-runtime==1.20.0) (3.3.0)\n",
            "Requirement already satisfied: backports.weakref in /anaconda/envs/azureml_py36/lib/python3.6/site-packages (from backports.tempfile->azureml-core~=1.20.0->azureml-train-automl-runtime==1.20.0) (1.0.post1)\n",
            "Requirement already satisfied: pyasn1>=0.1.1 in /anaconda/envs/azureml_py36/lib/python3.6/site-packages (from ndg-httpsclient->azureml-core~=1.20.0->azureml-train-automl-runtime==1.20.0) (0.4.8)\n",
            "Requirement already satisfied: ruamel.yaml.clib>=0.1.2; platform_python_implementation == \"CPython\" and python_version < \"3.9\" in /anaconda/envs/azureml_py36/lib/python3.6/site-packages (from ruamel.yaml>=0.15.35->azureml-core~=1.20.0->azureml-train-automl-runtime==1.20.0) (0.2.2)\n",
            "Requirement already satisfied: jeepney>=0.6 in /anaconda/envs/azureml_py36/lib/python3.6/site-packages (from SecretStorage->azureml-core~=1.20.0->azureml-train-automl-runtime==1.20.0) (0.6.0)\n",
            "Requirement already satisfied: liac-arff>=2.1.1 in /anaconda/envs/azureml_py36/lib/python3.6/site-packages (from azureml-model-management-sdk==1.0.1b6.post1->azureml-defaults~=1.20.0->azureml-train-automl-runtime==1.20.0) (2.5.0)\n",
            "Requirement already satisfied: itsdangerous>=0.24 in /anaconda/envs/azureml_py36/lib/python3.6/site-packages (from flask==1.0.3->azureml-defaults~=1.20.0->azureml-train-automl-runtime==1.20.0) (1.1.0)\n",
            "Requirement already satisfied: click>=5.1 in /anaconda/envs/azureml_py36/lib/python3.6/site-packages (from flask==1.0.3->azureml-defaults~=1.20.0->azureml-train-automl-runtime==1.20.0) (7.1.2)\n",
            "Requirement already satisfied: interpret-core[required]<=0.2.1,>=0.1.20 in /anaconda/envs/azureml_py36/lib/python3.6/site-packages (from interpret-community==0.15.*->azureml-interpret~=1.20.0->azureml-train-automl-runtime==1.20.0) (0.2.1)\n",
            "Requirement already satisfied: packaging in /anaconda/envs/azureml_py36/lib/python3.6/site-packages (from interpret-community==0.15.*->azureml-interpret~=1.20.0->azureml-train-automl-runtime==1.20.0) (20.8)\n",
            "Requirement already satisfied: shap<=0.34.0,>=0.20.0 in /anaconda/envs/azureml_py36/lib/python3.6/site-packages (from interpret-community==0.15.*->azureml-interpret~=1.20.0->azureml-train-automl-runtime==1.20.0) (0.34.0)\n",
            "Requirement already satisfied: distro>=1.2.0 in /anaconda/envs/azureml_py36/lib/python3.6/site-packages (from dotnetcore2<3.0.0,>=2.1.14->azureml-dataprep<2.8.0a,>=2.7.0a->azureml-dataset-runtime[fuse,pandas]~=1.20.0->azureml-train-automl-runtime==1.20.0) (1.5.0)\n",
            "Requirement already satisfied: msal<2.0.0,>=1.3.0 in /anaconda/envs/azureml_py36/lib/python3.6/site-packages (from azure-identity<1.5.0,>=1.2.0->azureml-dataprep<2.8.0a,>=2.7.0a->azureml-dataset-runtime[fuse,pandas]~=1.20.0->azureml-train-automl-runtime==1.20.0) (1.8.0)\n",
            "Requirement already satisfied: msal-extensions~=0.2.2 in /anaconda/envs/azureml_py36/lib/python3.6/site-packages (from azure-identity<1.5.0,>=1.2.0->azureml-dataprep<2.8.0a,>=2.7.0a->azureml-dataset-runtime[fuse,pandas]~=1.20.0->azureml-train-automl-runtime==1.20.0) (0.2.2)\n",
            "Requirement already satisfied: pycparser in /anaconda/envs/azureml_py36/lib/python3.6/site-packages (from cffi>=1.12->cryptography>=2.1.4->azure-storage-queue~=12.1->azureml-train-automl-runtime==1.20.0) (2.20)\n",
            "Requirement already satisfied: oauthlib>=3.0.0 in /anaconda/envs/azureml_py36/lib/python3.6/site-packages (from requests-oauthlib>=0.5.0->msrest>=0.6.10->azure-storage-queue~=12.1->azureml-train-automl-runtime==1.20.0) (3.1.0)\n",
            "Requirement already satisfied: zipp>=0.5 in /anaconda/envs/azureml_py36/lib/python3.6/site-packages (from importlib-metadata; python_version < \"3.8\"->jsonpickle->azureml-core~=1.20.0->azureml-train-automl-runtime==1.20.0) (3.4.0)\n",
            "Requirement already satisfied: pyparsing>=2.0.2 in /anaconda/envs/azureml_py36/lib/python3.6/site-packages (from packaging->interpret-community==0.15.*->azureml-interpret~=1.20.0->azureml-train-automl-runtime==1.20.0) (2.4.7)\n",
            "Requirement already satisfied: tqdm>4.25.0 in /anaconda/envs/azureml_py36/lib/python3.6/site-packages (from shap<=0.34.0,>=0.20.0->interpret-community==0.15.*->azureml-interpret~=1.20.0->azureml-train-automl-runtime==1.20.0) (4.55.1)\n",
            "Requirement already satisfied: portalocker~=1.0; platform_system != \"Windows\" in /anaconda/envs/azureml_py36/lib/python3.6/site-packages (from msal-extensions~=0.2.2->azure-identity<1.5.0,>=1.2.0->azureml-dataprep<2.8.0a,>=2.7.0a->azureml-dataset-runtime[fuse,pandas]~=1.20.0->azureml-train-automl-runtime==1.20.0) (1.7.1)\n",
            "Note: you may need to restart the kernel to use updated packages.\n"
          ]
        }
      ],
      "execution_count": 2,
      "metadata": {
        "collapsed": true,
        "jupyter": {
          "source_hidden": false,
          "outputs_hidden": false
        },
        "nteract": {
          "transient": {
            "deleting": false
          }
        },
        "gather": {
          "logged": 1613549229028
        }
      }
    },
    {
      "cell_type": "code",
      "source": [
        "from azureml.core import Workspace, Experiment"
      ],
      "outputs": [],
      "execution_count": 3,
      "metadata": {
        "gather": {
          "logged": 1613549231243
        },
        "jupyter": {
          "outputs_hidden": false,
          "source_hidden": false
        },
        "nteract": {
          "transient": {
            "deleting": false
          }
        }
      }
    },
    {
      "cell_type": "markdown",
      "source": [
        "## Dataset\n",
        "\n",
        "### Overview\n",
        "TODO: In this markdown cell, give an overview of the dataset you are using. Also mention the task you will be performing.\n",
        "\n",
        "\n",
        "TODO: Get data. In the cell below, write code to access the data you will be using in this project. Remember that the dataset needs to be external."
      ],
      "metadata": {}
    },
    {
      "cell_type": "code",
      "source": [
        "ws = Workspace.from_config()\n",
        "\n",
        "# choose a name for experiment\n",
        "experiment_name = 'auto-ml'\n",
        "\n",
        "experiment=Experiment(ws, experiment_name)\n"
      ],
      "outputs": [
        {
          "output_type": "stream",
          "name": "stdout",
          "text": [
            "Performing interactive authentication. Please follow the instructions on the terminal.\n",
            "To sign in, use a web browser to open the page https://microsoft.com/devicelogin and enter the code AMPK765JH to authenticate.\n",
            "You have logged in. Now let us find all the subscriptions to which you have access...\n",
            "Interactive authentication successfully completed.\n"
          ]
        }
      ],
      "execution_count": 4,
      "metadata": {
        "gather": {
          "logged": 1613549266100
        },
        "jupyter": {
          "outputs_hidden": false,
          "source_hidden": false
        },
        "nteract": {
          "transient": {
            "deleting": false
          }
        }
      }
    },
    {
      "cell_type": "code",
      "source": [
        "from azureml.core.compute import ComputeTarget, AmlCompute\r\n",
        "from azureml.core.compute_target import ComputeTargetException\r\n",
        "\r\n",
        "# Choose a name for your CPU cluster\r\n",
        "cpu_cluster_name = \"cpu-cluster-4\"\r\n",
        "\r\n",
        "# Verify that cluster does not exist already\r\n",
        "try:\r\n",
        "    compute_target = ComputeTarget(workspace=ws, name=cpu_cluster_name)\r\n",
        "    print('Found existing cluster, use it.')\r\n",
        "except ComputeTargetException:\r\n",
        "    compute_config = AmlCompute.provisioning_configuration(vm_size='STANDARD_D2_V2',\r\n",
        "                                                           max_nodes=6)\r\n",
        "    compute_target = ComputeTarget.create(ws, cpu_cluster_name, compute_config)\r\n",
        "\r\n",
        "compute_target.wait_for_completion(show_output=True)"
      ],
      "outputs": [
        {
          "output_type": "stream",
          "name": "stdout",
          "text": [
            "Creating\n",
            "Succeeded\n",
            "AmlCompute wait for completion finished\n",
            "\n",
            "Minimum number of nodes requested have been provisioned\n"
          ]
        }
      ],
      "execution_count": 5,
      "metadata": {
        "collapsed": true,
        "jupyter": {
          "source_hidden": false,
          "outputs_hidden": false
        },
        "nteract": {
          "transient": {
            "deleting": false
          }
        },
        "gather": {
          "logged": 1613549288127
        }
      }
    },
    {
      "cell_type": "code",
      "source": [
        "from azureml.data.dataset_factory import TabularDatasetFactory\r\n",
        "\r\n",
        "csv_file = 'https://raw.githubusercontent.com/SwapnaKategaru/Project3/main/heart_failure_clinical_records_dataset.csv'\r\n",
        "\r\n",
        "data = TabularDatasetFactory.from_delimited_files(csv_file)"
      ],
      "outputs": [],
      "execution_count": 6,
      "metadata": {
        "collapsed": true,
        "jupyter": {
          "source_hidden": false,
          "outputs_hidden": false
        },
        "nteract": {
          "transient": {
            "deleting": false
          }
        },
        "gather": {
          "logged": 1613549295389
        }
      }
    },
    {
      "cell_type": "code",
      "source": [
        "%%writefile conda_dependencies.yml\r\n",
        "dependencies:\r\n",
        "- python=3.6.2\r\n",
        "- scikit-learn=0.21.2\r\n",
        "- pip:\r\n",
        "  - azureml-defaults"
      ],
      "outputs": [
        {
          "output_type": "stream",
          "name": "stdout",
          "text": [
            "Writing conda_dependencies.yml\n"
          ]
        }
      ],
      "execution_count": 7,
      "metadata": {
        "collapsed": true,
        "jupyter": {
          "source_hidden": false,
          "outputs_hidden": false
        },
        "nteract": {
          "transient": {
            "deleting": false
          }
        },
        "gather": {
          "logged": 1613142071197
        }
      }
    },
    {
      "cell_type": "code",
      "source": [
        "from train import clean_data\r\n",
        "from sklearn.model_selection import train_test_split\r\n",
        "import pandas as pd\r\n",
        "x, y = clean_data(data)\r\n",
        "\r\n",
        "x_train, x_test, y_train, y_test = train_test_split(x, y, test_size=0.33, random_state=42)\r\n",
        "train_data = pd.concat([x_train, y_train], axis = 1)"
      ],
      "outputs": [],
      "execution_count": 8,
      "metadata": {
        "collapsed": true,
        "jupyter": {
          "source_hidden": false,
          "outputs_hidden": false
        },
        "nteract": {
          "transient": {
            "deleting": false
          }
        },
        "gather": {
          "logged": 1613549304040
        }
      }
    },
    {
      "cell_type": "code",
      "source": [
        "from azureml.train.automl import AutoMLConfig\r\n",
        "import logging\r\n",
        "\r\n",
        "automl_settings = {\r\n",
        "    \"enable_early_stopping\" : True,\r\n",
        "    \"max_concurrent_iterations\": 4,\r\n",
        "    \"primary_metric\": 'AUC_weighted',\r\n",
        "    \"featurization\": 'auto',\r\n",
        "    \"verbosity\": logging.INFO,\r\n",
        "}\r\n",
        "\r\n",
        "automl_config = AutoMLConfig(\r\n",
        "    experiment_timeout_minutes=15,\r\n",
        "    task='classification',\r\n",
        "    training_data=train_data,\r\n",
        "    label_column_name='DEATH_EVENT',\r\n",
        "    n_cross_validations=2)"
      ],
      "outputs": [],
      "execution_count": 10,
      "metadata": {
        "collapsed": true,
        "jupyter": {
          "source_hidden": false,
          "outputs_hidden": false
        },
        "nteract": {
          "transient": {
            "deleting": false
          }
        },
        "gather": {
          "logged": 1613549313393
        }
      }
    },
    {
      "cell_type": "code",
      "source": [
        "from azureml.widgets import RunDetails\r\n",
        "remote_run = experiment.submit(automl_config, show_output=True)\r\n",
        "RunDetails(remote_run).show()"
      ],
      "outputs": [
        {
          "output_type": "stream",
          "name": "stdout",
          "text": [
            "Running on local machine\n",
            "Parent Run ID: AutoML_7cc14aee-89e5-4bea-bbd3-96e12e64422c\n",
            "\n",
            "Current status: DatasetEvaluation. Gathering dataset statistics.\n",
            "Current status: FeaturesGeneration. Generating features for the dataset.\n",
            "Current status: DatasetFeaturization. Beginning to fit featurizers and featurize the dataset.\n",
            "Current status: DatasetFeaturizationCompleted. Completed fit featurizers and featurizing the dataset.\n",
            "Current status: DatasetCrossValidationSplit. Generating individually featurized CV splits.\n",
            "\n",
            "****************************************************************************************************\n",
            "DATA GUARDRAILS: \n",
            "\n",
            "TYPE:         Class balancing detection\n",
            "STATUS:       PASSED\n",
            "DESCRIPTION:  Your inputs were analyzed, and all classes are balanced in your training data.\n",
            "              Learn more about imbalanced data: https://aka.ms/AutomatedMLImbalancedData\n",
            "\n",
            "****************************************************************************************************\n",
            "\n",
            "TYPE:         Missing feature values imputation\n",
            "STATUS:       PASSED\n",
            "DESCRIPTION:  No feature missing values were detected in the training data.\n",
            "              Learn more about missing value imputation: https://aka.ms/AutomatedMLFeaturization\n",
            "\n",
            "****************************************************************************************************\n",
            "\n",
            "TYPE:         High cardinality feature detection\n",
            "STATUS:       PASSED\n",
            "DESCRIPTION:  Your inputs were analyzed, and no high cardinality features were detected.\n",
            "              Learn more about high cardinality feature handling: https://aka.ms/AutomatedMLFeaturization\n",
            "\n",
            "****************************************************************************************************\n",
            "Current status: ModelSelection. Beginning model selection.\n",
            "\n",
            "****************************************************************************************************\n",
            "ITERATION: The iteration being evaluated.\n",
            "PIPELINE: A summary description of the pipeline being evaluated.\n",
            "DURATION: Time taken for the current iteration.\n",
            "METRIC: The result of computing score on the fitted pipeline.\n",
            "BEST: The best observed score thus far.\n",
            "****************************************************************************************************\n",
            "\n",
            " ITERATION   PIPELINE                                       DURATION      METRIC      BEST\n",
            "         0   MaxAbsScaler LightGBM                          0:00:25       0.8100    0.8100\n",
            "         1   MaxAbsScaler XGBoostClassifier                 0:00:31       0.8500    0.8500\n",
            "         2   MinMaxScaler RandomForest                      0:00:42       0.8800    0.8800\n",
            "         3   MinMaxScaler RandomForest                      0:00:26       0.8600    0.8800\n",
            "         4   MinMaxScaler RandomForest                      0:00:25       0.8500    0.8800\n",
            "         5   MinMaxScaler SVM                               0:00:24       0.8100    0.8800\n",
            "         6   MaxAbsScaler GradientBoosting                  0:00:30       0.8600    0.8800\n",
            "         7   StandardScalerWrapper RandomForest             0:00:30       0.8700    0.8800\n",
            "         8   SparseNormalizer XGBoostClassifier             0:00:33       0.8600    0.8800\n",
            "         9   SparseNormalizer LightGBM                      0:00:31       0.8400    0.8800\n",
            "        10   RobustScaler RandomForest                      0:00:24       0.8850    0.8850\n",
            "        11   MaxAbsScaler LightGBM                          0:00:24       0.8700    0.8850\n",
            "        12   RobustScaler ExtremeRandomTrees                0:00:25       0.8600    0.8850\n",
            "        13   SparseNormalizer XGBoostClassifier             0:00:29       0.8500    0.8850\n",
            "        14   StandardScalerWrapper ExtremeRandomTrees       0:00:25       0.8400    0.8850\n",
            "        15   StandardScalerWrapper XGBoostClassifier        0:00:23       0.8400    0.8850\n",
            "        16   StandardScalerWrapper GradientBoosting         0:00:25       0.8400    0.8850\n",
            "        17   StandardScalerWrapper ExtremeRandomTrees       0:00:25       0.8000    0.8850\n",
            "        18   RobustScaler ExtremeRandomTrees                0:00:27       0.8800    0.8850\n",
            "        19   StandardScalerWrapper XGBoostClassifier        0:00:24       0.8600    0.8850\n",
            "        20   StandardScalerWrapper LightGBM                 0:00:23       0.8500    0.8850\n",
            "        21   SparseNormalizer RandomForest                  0:00:24       0.8400    0.8850\n",
            "        22   SparseNormalizer XGBoostClassifier             0:00:23       0.8500    0.8850\n",
            "        23   StandardScalerWrapper LightGBM                 0:00:29       0.8150    0.8850\n",
            "        24   MinMaxScaler LightGBM                          0:00:23       0.8600    0.8850\n",
            "        25   PCA RandomForest                               0:00:30       0.7300    0.8850\n",
            "        26   StandardScalerWrapper RandomForest             0:00:28       0.8900    0.8900\n",
            "        27   StandardScalerWrapper RandomForest             0:00:29       0.8850    0.8900\n",
            "        28   MaxAbsScaler LightGBM                          0:00:26       0.8550    0.8900\n",
            "        29   RobustScaler RandomForest                      0:00:23       0.8800    0.8900\n",
            "        30   MaxAbsScaler RandomForest                      0:00:24       0.7100    0.8900\n",
            "        31   VotingEnsemble                                 0:00:22       0.8950    0.8950\n",
            "        32   StackEnsemble                                  0:00:22       0.8700    0.8950\n",
            "Stopping criteria reached at iteration 33. Ending experiment.\n",
            "****************************************************************************************************\n",
            "Current status: BestRunExplainModel. Best run model explanations started\n",
            "Current status: ModelExplanationDataSetSetup. Model explanations data setup completed\n",
            "Current status: PickSurrogateModel. Choosing LightGBM as the surrogate model for explanations\n",
            "Current status: EngineeredFeatureExplanations. Computation of engineered features started\n",
            "Current status: EngineeredFeatureExplanations. Computation of engineered features completed\n",
            "Current status: RawFeaturesExplanations. Computation of raw features started\n",
            "Current status: RawFeaturesExplanations. Computation of raw features completed\n",
            "Current status: BestRunExplainModel. Best run model explanations completed\n",
            "****************************************************************************************************\n"
          ]
        },
        {
          "output_type": "display_data",
          "data": {
            "text/plain": "_AutoMLWidget(widget_settings={'childWidgetDisplay': 'popup', 'send_telemetry': False, 'log_level': 'INFO', 's…",
            "application/vnd.jupyter.widget-view+json": {
              "version_major": 2,
              "version_minor": 0,
              "model_id": "3922ceb05ba047d8bdfc3048c52eda36"
            }
          },
          "metadata": {}
        },
        {
          "output_type": "display_data",
          "data": {
            "application/aml.mini.widget.v1": "{\"status\": \"Completed\", \"workbench_run_details_uri\": \"https://ml.azure.com/experiments/auto-ml/runs/AutoML_7cc14aee-89e5-4bea-bbd3-96e12e64422c?wsid=/subscriptions/81cefad3-d2c9-4f77-a466-99a7f541c7bb/resourcegroups/aml-quickstarts-139064/workspaces/quick-starts-ws-139064\", \"run_id\": \"AutoML_7cc14aee-89e5-4bea-bbd3-96e12e64422c\", \"run_properties\": {\"run_id\": \"AutoML_7cc14aee-89e5-4bea-bbd3-96e12e64422c\", \"created_utc\": \"2021-02-17T08:20:05.525802Z\", \"properties\": {\"num_iterations\": \"1000\", \"training_type\": \"TrainFull\", \"acquisition_function\": \"EI\", \"primary_metric\": \"accuracy\", \"train_split\": \"0\", \"acquisition_parameter\": \"0\", \"num_cross_validation\": \"2\", \"target\": \"local\", \"AMLSettingsJsonString\": \"{\\\"path\\\":null,\\\"name\\\":\\\"auto-ml\\\",\\\"subscription_id\\\":\\\"81cefad3-d2c9-4f77-a466-99a7f541c7bb\\\",\\\"resource_group\\\":\\\"aml-quickstarts-139064\\\",\\\"workspace_name\\\":\\\"quick-starts-ws-139064\\\",\\\"region\\\":\\\"southcentralus\\\",\\\"compute_target\\\":\\\"local\\\",\\\"spark_service\\\":null,\\\"azure_service\\\":\\\"Microsoft.AzureNotebookVM\\\",\\\"many_models\\\":false,\\\"pipeline_fetch_max_batch_size\\\":1,\\\"iterations\\\":1000,\\\"primary_metric\\\":\\\"accuracy\\\",\\\"task_type\\\":\\\"classification\\\",\\\"data_script\\\":null,\\\"validation_size\\\":0.0,\\\"n_cross_validations\\\":2,\\\"y_min\\\":null,\\\"y_max\\\":null,\\\"num_classes\\\":2,\\\"featurization\\\":\\\"auto\\\",\\\"_ignore_package_version_incompatibilities\\\":false,\\\"is_timeseries\\\":false,\\\"max_cores_per_iteration\\\":1,\\\"max_concurrent_iterations\\\":1,\\\"iteration_timeout_minutes\\\":null,\\\"mem_in_mb\\\":null,\\\"enforce_time_on_windows\\\":false,\\\"experiment_timeout_minutes\\\":15,\\\"experiment_exit_score\\\":null,\\\"whitelist_models\\\":null,\\\"blacklist_algos\\\":[\\\"TensorFlowLinearClassifier\\\",\\\"TensorFlowDNN\\\"],\\\"supported_models\\\":[\\\"TensorFlowDNN\\\",\\\"MultinomialNaiveBayes\\\",\\\"XGBoostClassifier\\\",\\\"DecisionTree\\\",\\\"LinearSVM\\\",\\\"ExtremeRandomTrees\\\",\\\"GradientBoosting\\\",\\\"LogisticRegression\\\",\\\"KNN\\\",\\\"RandomForest\\\",\\\"AveragedPerceptronClassifier\\\",\\\"SVM\\\",\\\"LightGBM\\\",\\\"TensorFlowLinearClassifier\\\",\\\"BernoulliNaiveBayes\\\",\\\"SGD\\\"],\\\"auto_blacklist\\\":true,\\\"blacklist_samples_reached\\\":false,\\\"exclude_nan_labels\\\":true,\\\"verbosity\\\":20,\\\"_debug_log\\\":\\\"automl.log\\\",\\\"show_warnings\\\":false,\\\"model_explainability\\\":true,\\\"service_url\\\":null,\\\"sdk_url\\\":null,\\\"sdk_packages\\\":null,\\\"enable_onnx_compatible_models\\\":false,\\\"enable_split_onnx_featurizer_estimator_models\\\":false,\\\"vm_type\\\":null,\\\"telemetry_verbosity\\\":20,\\\"send_telemetry\\\":true,\\\"enable_dnn\\\":false,\\\"scenario\\\":\\\"SDK-1.13.0\\\",\\\"environment_label\\\":null,\\\"force_text_dnn\\\":false,\\\"enable_feature_sweeping\\\":true,\\\"enable_early_stopping\\\":false,\\\"early_stopping_n_iters\\\":10,\\\"metrics\\\":null,\\\"enable_ensembling\\\":true,\\\"enable_stack_ensembling\\\":true,\\\"ensemble_iterations\\\":15,\\\"enable_tf\\\":false,\\\"enable_subsampling\\\":null,\\\"subsample_seed\\\":null,\\\"enable_nimbusml\\\":false,\\\"enable_streaming\\\":false,\\\"force_streaming\\\":false,\\\"track_child_runs\\\":true,\\\"allowed_private_models\\\":[],\\\"label_column_name\\\":\\\"DEATH_EVENT\\\",\\\"weight_column_name\\\":null,\\\"cv_split_column_names\\\":null,\\\"enable_local_managed\\\":false,\\\"_local_managed_run_id\\\":null,\\\"cost_mode\\\":1,\\\"lag_length\\\":0,\\\"metric_operation\\\":\\\"maximize\\\",\\\"preprocess\\\":true}\", \"DataPrepJsonString\": null, \"EnableSubsampling\": null, \"runTemplate\": \"AutoML\", \"azureml.runsource\": \"automl\", \"display_task_type\": \"classification\", \"dependencies_versions\": \"{\\\"azureml-widgets\\\": \\\"1.20.0\\\", \\\"azureml-train\\\": \\\"1.20.0\\\", \\\"azureml-train-restclients-hyperdrive\\\": \\\"1.20.0\\\", \\\"azureml-train-core\\\": \\\"1.20.0\\\", \\\"azureml-train-automl\\\": \\\"1.20.0\\\", \\\"azureml-train-automl-runtime\\\": \\\"1.20.0\\\", \\\"azureml-train-automl-client\\\": \\\"1.20.0\\\", \\\"azureml-tensorboard\\\": \\\"1.20.0\\\", \\\"azureml-telemetry\\\": \\\"1.20.0\\\", \\\"azureml-sdk\\\": \\\"1.20.0\\\", \\\"azureml-samples\\\": \\\"0+unknown\\\", \\\"azureml-pipeline\\\": \\\"1.20.0\\\", \\\"azureml-pipeline-steps\\\": \\\"1.20.0\\\", \\\"azureml-pipeline-core\\\": \\\"1.20.0\\\", \\\"azureml-opendatasets\\\": \\\"1.20.0\\\", \\\"azureml-model-management-sdk\\\": \\\"1.0.1b6.post1\\\", \\\"azureml-mlflow\\\": \\\"1.20.0.post1\\\", \\\"azureml-interpret\\\": \\\"1.20.0\\\", \\\"azureml-explain-model\\\": \\\"1.20.0\\\", \\\"azureml-defaults\\\": \\\"1.20.0\\\", \\\"azureml-dataset-runtime\\\": \\\"1.20.0\\\", \\\"azureml-dataprep\\\": \\\"2.7.3\\\", \\\"azureml-dataprep-rslex\\\": \\\"1.5.0\\\", \\\"azureml-dataprep-native\\\": \\\"27.0.0\\\", \\\"azureml-datadrift\\\": \\\"1.20.0\\\", \\\"azureml-core\\\": \\\"1.20.0\\\", \\\"azureml-contrib-services\\\": \\\"1.20.0\\\", \\\"azureml-contrib-server\\\": \\\"1.20.0\\\", \\\"azureml-contrib-reinforcementlearning\\\": \\\"1.20.0\\\", \\\"azureml-contrib-pipeline-steps\\\": \\\"1.20.0\\\", \\\"azureml-contrib-notebook\\\": \\\"1.20.0\\\", \\\"azureml-contrib-interpret\\\": \\\"1.20.0\\\", \\\"azureml-contrib-gbdt\\\": \\\"1.20.0\\\", \\\"azureml-contrib-fairness\\\": \\\"1.20.0\\\", \\\"azureml-contrib-dataset\\\": \\\"1.20.0\\\", \\\"azureml-cli-common\\\": \\\"1.20.0\\\", \\\"azureml-automl-runtime\\\": \\\"1.20.0\\\", \\\"azureml-automl-core\\\": \\\"1.20.0\\\", \\\"azureml-accel-models\\\": \\\"1.20.0\\\"}\", \"_aml_system_scenario_identification\": \"Local.Parent\", \"ClientSdkVersion\": \"1.20.0\", \"ClientType\": \"SDK\", \"environment_cpu_name\": \"AzureML-AutoML\", \"environment_cpu_label\": \"prod\", \"environment_gpu_name\": \"AzureML-AutoML-GPU\", \"environment_gpu_label\": \"prod\", \"root_attribution\": \"automl\", \"attribution\": \"AutoML\", \"Orchestrator\": \"AutoML\", \"_azureml.ComputeTargetType\": \"local\", \"ProblemInfoJsonString\": \"{\\\"dataset_num_categorical\\\": 0, \\\"is_sparse\\\": false, \\\"subsampling\\\": false, \\\"dataset_classes\\\": 2, \\\"dataset_features\\\": 12, \\\"dataset_samples\\\": 200, \\\"single_frequency_class_detected\\\": false}\", \"feature_skus\": \"automatedml_sdk_guardrails\"}, \"tags\": {\"model_explain_run\": \"best_run\", \"best_score\": \"0.895\", \"best_pipeline\": \"VotingEnsemble\", \"automl_best_child_run_id\": \"AutoML_7cc14aee-89e5-4bea-bbd3-96e12e64422c_31\", \"model_explain_best_run_child_id\": \"AutoML_7cc14aee-89e5-4bea-bbd3-96e12e64422c_31\"}, \"end_time_utc\": \"2021-02-17T08:36:01.160206Z\", \"status\": \"Completed\", \"log_files\": {}, \"log_groups\": [], \"run_duration\": \"0:15:55\"}, \"child_runs\": [{\"run_id\": \"AutoML_7cc14aee-89e5-4bea-bbd3-96e12e64422c_0\", \"run_number\": 27, \"metric\": null, \"status\": \"Completed\", \"run_type\": null, \"training_percent\": \"100\", \"start_time\": \"2021-02-17T08:20:17.936338Z\", \"end_time\": \"2021-02-17T08:20:43.458581Z\", \"created_time\": \"2021-02-17T08:20:17.807305Z\", \"created_time_dt\": \"2021-02-17T08:20:17.807305Z\", \"duration\": \"0:00:25\", \"iteration\": \"0\", \"goal\": \"accuracy_max\", \"run_name\": \"MaxAbsScaler, LightGBM\", \"run_properties\": \"copy=True\", \"primary_metric\": 0.81, \"best_metric\": 0.81}, {\"run_id\": \"AutoML_7cc14aee-89e5-4bea-bbd3-96e12e64422c_1\", \"run_number\": 28, \"metric\": null, \"status\": \"Completed\", \"run_type\": null, \"training_percent\": \"100\", \"start_time\": \"2021-02-17T08:20:44.204918Z\", \"end_time\": \"2021-02-17T08:21:14.999764Z\", \"created_time\": \"2021-02-17T08:20:43.91548Z\", \"created_time_dt\": \"2021-02-17T08:20:43.91548Z\", \"duration\": \"0:00:31\", \"iteration\": \"1\", \"goal\": \"accuracy_max\", \"run_name\": \"MaxAbsScaler, XGBoostClassifier\", \"run_properties\": \"copy=True\", \"primary_metric\": 0.85, \"best_metric\": 0.85}, {\"run_id\": \"AutoML_7cc14aee-89e5-4bea-bbd3-96e12e64422c_2\", \"run_number\": 29, \"metric\": null, \"status\": \"Completed\", \"run_type\": null, \"training_percent\": \"100\", \"start_time\": \"2021-02-17T08:21:17.503446Z\", \"end_time\": \"2021-02-17T08:21:59.657287Z\", \"created_time\": \"2021-02-17T08:21:17.006941Z\", \"created_time_dt\": \"2021-02-17T08:21:17.006941Z\", \"duration\": \"0:00:42\", \"iteration\": \"2\", \"goal\": \"accuracy_max\", \"run_name\": \"MinMaxScaler, RandomForest\", \"run_properties\": \"copy=True, feature_range=(0, 1\", \"primary_metric\": 0.88, \"best_metric\": 0.88}, {\"run_id\": \"AutoML_7cc14aee-89e5-4bea-bbd3-96e12e64422c_3\", \"run_number\": 30, \"metric\": null, \"status\": \"Completed\", \"run_type\": null, \"training_percent\": \"100\", \"start_time\": \"2021-02-17T08:22:02.09585Z\", \"end_time\": \"2021-02-17T08:22:28.120461Z\", \"created_time\": \"2021-02-17T08:22:01.658497Z\", \"created_time_dt\": \"2021-02-17T08:22:01.658497Z\", \"duration\": \"0:00:26\", \"iteration\": \"3\", \"goal\": \"accuracy_max\", \"run_name\": \"MinMaxScaler, RandomForest\", \"run_properties\": \"copy=True, feature_range=(0, 1\", \"primary_metric\": 0.86, \"best_metric\": 0.88}, {\"run_id\": \"AutoML_7cc14aee-89e5-4bea-bbd3-96e12e64422c_4\", \"run_number\": 31, \"metric\": null, \"status\": \"Completed\", \"run_type\": null, \"training_percent\": \"100\", \"start_time\": \"2021-02-17T08:22:29.605273Z\", \"end_time\": \"2021-02-17T08:22:54.875523Z\", \"created_time\": \"2021-02-17T08:22:29.491908Z\", \"created_time_dt\": \"2021-02-17T08:22:29.491908Z\", \"duration\": \"0:00:25\", \"iteration\": \"4\", \"goal\": \"accuracy_max\", \"run_name\": \"MinMaxScaler, RandomForest\", \"run_properties\": \"copy=True, feature_range=(0, 1\", \"primary_metric\": 0.85, \"best_metric\": 0.88}, {\"run_id\": \"AutoML_7cc14aee-89e5-4bea-bbd3-96e12e64422c_5\", \"run_number\": 32, \"metric\": null, \"status\": \"Completed\", \"run_type\": null, \"training_percent\": \"100\", \"start_time\": \"2021-02-17T08:22:56.382463Z\", \"end_time\": \"2021-02-17T08:23:20.881508Z\", \"created_time\": \"2021-02-17T08:22:56.282926Z\", \"created_time_dt\": \"2021-02-17T08:22:56.282926Z\", \"duration\": \"0:00:24\", \"iteration\": \"5\", \"goal\": \"accuracy_max\", \"run_name\": \"MinMaxScaler, SVM\", \"run_properties\": \"copy=True, feature_range=(0, 1\", \"primary_metric\": 0.81, \"best_metric\": 0.88}, {\"run_id\": \"AutoML_7cc14aee-89e5-4bea-bbd3-96e12e64422c_6\", \"run_number\": 33, \"metric\": null, \"status\": \"Completed\", \"run_type\": null, \"training_percent\": \"100\", \"start_time\": \"2021-02-17T08:23:22.094995Z\", \"end_time\": \"2021-02-17T08:23:52.314061Z\", \"created_time\": \"2021-02-17T08:23:21.964416Z\", \"created_time_dt\": \"2021-02-17T08:23:21.964416Z\", \"duration\": \"0:00:30\", \"iteration\": \"6\", \"goal\": \"accuracy_max\", \"run_name\": \"MaxAbsScaler, GradientBoosting\", \"run_properties\": \"copy=True\", \"primary_metric\": 0.86, \"best_metric\": 0.88}, {\"run_id\": \"AutoML_7cc14aee-89e5-4bea-bbd3-96e12e64422c_7\", \"run_number\": 34, \"metric\": null, \"status\": \"Completed\", \"run_type\": null, \"training_percent\": \"100\", \"start_time\": \"2021-02-17T08:23:53.61632Z\", \"end_time\": \"2021-02-17T08:24:23.688876Z\", \"created_time\": \"2021-02-17T08:23:53.491781Z\", \"created_time_dt\": \"2021-02-17T08:23:53.491781Z\", \"duration\": \"0:00:30\", \"iteration\": \"7\", \"goal\": \"accuracy_max\", \"run_name\": \"StandardScalerWrapper, RandomForest\", \"run_properties\": \"<azureml.automl.runtime.shared.model_wrappers.StandardScalerWrapper object at 0x7fe478ec50f0\", \"primary_metric\": 0.87, \"best_metric\": 0.88}, {\"run_id\": \"AutoML_7cc14aee-89e5-4bea-bbd3-96e12e64422c_8\", \"run_number\": 35, \"metric\": null, \"status\": \"Completed\", \"run_type\": null, \"training_percent\": \"100\", \"start_time\": \"2021-02-17T08:24:26.553644Z\", \"end_time\": \"2021-02-17T08:24:59.759531Z\", \"created_time\": \"2021-02-17T08:24:25.843007Z\", \"created_time_dt\": \"2021-02-17T08:24:25.843007Z\", \"duration\": \"0:00:33\", \"iteration\": \"8\", \"goal\": \"accuracy_max\", \"run_name\": \"SparseNormalizer, XGBoostClassifier\", \"run_properties\": \"<azureml.automl.runtime.shared.model_wrappers.SparseNormalizer object at 0x7fe48c678940\", \"primary_metric\": 0.86, \"best_metric\": 0.88}, {\"run_id\": \"AutoML_7cc14aee-89e5-4bea-bbd3-96e12e64422c_9\", \"run_number\": 36, \"metric\": null, \"status\": \"Completed\", \"run_type\": null, \"training_percent\": \"100\", \"start_time\": \"2021-02-17T08:25:02.40864Z\", \"end_time\": \"2021-02-17T08:25:34.324786Z\", \"created_time\": \"2021-02-17T08:25:01.995103Z\", \"created_time_dt\": \"2021-02-17T08:25:01.995103Z\", \"duration\": \"0:00:32\", \"iteration\": \"9\", \"goal\": \"accuracy_max\", \"run_name\": \"SparseNormalizer, LightGBM\", \"run_properties\": \"<azureml.automl.runtime.shared.model_wrappers.SparseNormalizer object at 0x7fe49b6bcba8\", \"primary_metric\": 0.84, \"best_metric\": 0.88}, {\"run_id\": \"AutoML_7cc14aee-89e5-4bea-bbd3-96e12e64422c_10\", \"run_number\": 37, \"metric\": null, \"status\": \"Completed\", \"run_type\": null, \"training_percent\": \"100\", \"start_time\": \"2021-02-17T08:25:35.600288Z\", \"end_time\": \"2021-02-17T08:25:59.582258Z\", \"created_time\": \"2021-02-17T08:25:35.483577Z\", \"created_time_dt\": \"2021-02-17T08:25:35.483577Z\", \"duration\": \"0:00:24\", \"iteration\": \"10\", \"goal\": \"accuracy_max\", \"run_name\": \"RobustScaler, RandomForest\", \"run_properties\": \"copy=True, quantile_range=[10, 90], with_centering=True,\\n             with_scaling=True\", \"primary_metric\": 0.885, \"best_metric\": 0.885}, {\"run_id\": \"AutoML_7cc14aee-89e5-4bea-bbd3-96e12e64422c_11\", \"run_number\": 38, \"metric\": null, \"status\": \"Completed\", \"run_type\": null, \"training_percent\": \"100\", \"start_time\": \"2021-02-17T08:26:00.954074Z\", \"end_time\": \"2021-02-17T08:26:24.966958Z\", \"created_time\": \"2021-02-17T08:26:00.85191Z\", \"created_time_dt\": \"2021-02-17T08:26:00.85191Z\", \"duration\": \"0:00:24\", \"iteration\": \"11\", \"goal\": \"accuracy_max\", \"run_name\": \"MaxAbsScaler, LightGBM\", \"run_properties\": \"copy=True\", \"primary_metric\": 0.87, \"best_metric\": 0.885}, {\"run_id\": \"AutoML_7cc14aee-89e5-4bea-bbd3-96e12e64422c_12\", \"run_number\": 39, \"metric\": null, \"status\": \"Completed\", \"run_type\": null, \"training_percent\": \"100\", \"start_time\": \"2021-02-17T08:26:26.388327Z\", \"end_time\": \"2021-02-17T08:26:52.11344Z\", \"created_time\": \"2021-02-17T08:26:26.282509Z\", \"created_time_dt\": \"2021-02-17T08:26:26.282509Z\", \"duration\": \"0:00:25\", \"iteration\": \"12\", \"goal\": \"accuracy_max\", \"run_name\": \"RobustScaler, ExtremeRandomTrees\", \"run_properties\": \"copy=True, quantile_range=[25, 75], with_centering=True,\\n             with_scaling=False\", \"primary_metric\": 0.86, \"best_metric\": 0.885}, {\"run_id\": \"AutoML_7cc14aee-89e5-4bea-bbd3-96e12e64422c_13\", \"run_number\": 40, \"metric\": null, \"status\": \"Completed\", \"run_type\": null, \"training_percent\": \"100\", \"start_time\": \"2021-02-17T08:26:53.32821Z\", \"end_time\": \"2021-02-17T08:27:22.566885Z\", \"created_time\": \"2021-02-17T08:26:53.229497Z\", \"created_time_dt\": \"2021-02-17T08:26:53.229497Z\", \"duration\": \"0:00:29\", \"iteration\": \"13\", \"goal\": \"accuracy_max\", \"run_name\": \"SparseNormalizer, XGBoostClassifier\", \"run_properties\": \"<azureml.automl.runtime.shared.model_wrappers.SparseNormalizer object at 0x7fe49b661908\", \"primary_metric\": 0.85, \"best_metric\": 0.885}, {\"run_id\": \"AutoML_7cc14aee-89e5-4bea-bbd3-96e12e64422c_14\", \"run_number\": 41, \"metric\": null, \"status\": \"Completed\", \"run_type\": null, \"training_percent\": \"100\", \"start_time\": \"2021-02-17T08:27:23.757817Z\", \"end_time\": \"2021-02-17T08:27:48.926309Z\", \"created_time\": \"2021-02-17T08:27:23.65423Z\", \"created_time_dt\": \"2021-02-17T08:27:23.65423Z\", \"duration\": \"0:00:25\", \"iteration\": \"14\", \"goal\": \"accuracy_max\", \"run_name\": \"StandardScalerWrapper, ExtremeRandomTrees\", \"run_properties\": \"<azureml.automl.runtime.shared.model_wrappers.StandardScalerWrapper object at 0x7fe49b621d68\", \"primary_metric\": 0.84, \"best_metric\": 0.885}, {\"run_id\": \"AutoML_7cc14aee-89e5-4bea-bbd3-96e12e64422c_15\", \"run_number\": 42, \"metric\": null, \"status\": \"Completed\", \"run_type\": null, \"training_percent\": \"100\", \"start_time\": \"2021-02-17T08:27:50.551981Z\", \"end_time\": \"2021-02-17T08:28:14.470177Z\", \"created_time\": \"2021-02-17T08:27:50.440821Z\", \"created_time_dt\": \"2021-02-17T08:27:50.440821Z\", \"duration\": \"0:00:24\", \"iteration\": \"15\", \"goal\": \"accuracy_max\", \"run_name\": \"StandardScalerWrapper, XGBoostClassifier\", \"run_properties\": \"<azureml.automl.runtime.shared.model_wrappers.StandardScalerWrapper object at 0x7fe5b33c98d0\", \"primary_metric\": 0.84, \"best_metric\": 0.885}, {\"run_id\": \"AutoML_7cc14aee-89e5-4bea-bbd3-96e12e64422c_16\", \"run_number\": 43, \"metric\": null, \"status\": \"Completed\", \"run_type\": null, \"training_percent\": \"100\", \"start_time\": \"2021-02-17T08:28:15.729069Z\", \"end_time\": \"2021-02-17T08:28:41.103053Z\", \"created_time\": \"2021-02-17T08:28:15.630391Z\", \"created_time_dt\": \"2021-02-17T08:28:15.630391Z\", \"duration\": \"0:00:25\", \"iteration\": \"16\", \"goal\": \"accuracy_max\", \"run_name\": \"StandardScalerWrapper, GradientBoosting\", \"run_properties\": \"<azureml.automl.runtime.shared.model_wrappers.StandardScalerWrapper object at 0x7fe49b6bc588\", \"primary_metric\": 0.84, \"best_metric\": 0.885}, {\"run_id\": \"AutoML_7cc14aee-89e5-4bea-bbd3-96e12e64422c_17\", \"run_number\": 44, \"metric\": null, \"status\": \"Completed\", \"run_type\": null, \"training_percent\": \"100\", \"start_time\": \"2021-02-17T08:28:42.363241Z\", \"end_time\": \"2021-02-17T08:29:07.718223Z\", \"created_time\": \"2021-02-17T08:28:42.210642Z\", \"created_time_dt\": \"2021-02-17T08:28:42.210642Z\", \"duration\": \"0:00:25\", \"iteration\": \"17\", \"goal\": \"accuracy_max\", \"run_name\": \"StandardScalerWrapper, ExtremeRandomTrees\", \"run_properties\": \"<azureml.automl.runtime.shared.model_wrappers.StandardScalerWrapper object at 0x7fe4a0ee5240\", \"primary_metric\": 0.8, \"best_metric\": 0.885}, {\"run_id\": \"AutoML_7cc14aee-89e5-4bea-bbd3-96e12e64422c_18\", \"run_number\": 45, \"metric\": null, \"status\": \"Completed\", \"run_type\": null, \"training_percent\": \"100\", \"start_time\": \"2021-02-17T08:29:09.113996Z\", \"end_time\": \"2021-02-17T08:29:36.240796Z\", \"created_time\": \"2021-02-17T08:29:08.998189Z\", \"created_time_dt\": \"2021-02-17T08:29:08.998189Z\", \"duration\": \"0:00:27\", \"iteration\": \"18\", \"goal\": \"accuracy_max\", \"run_name\": \"RobustScaler, ExtremeRandomTrees\", \"run_properties\": \"copy=True, quantile_range=[25, 75], with_centering=True,\\n             with_scaling=True\", \"primary_metric\": 0.88, \"best_metric\": 0.885}, {\"run_id\": \"AutoML_7cc14aee-89e5-4bea-bbd3-96e12e64422c_19\", \"run_number\": 46, \"metric\": null, \"status\": \"Completed\", \"run_type\": null, \"training_percent\": \"100\", \"start_time\": \"2021-02-17T08:29:37.421129Z\", \"end_time\": \"2021-02-17T08:30:01.875342Z\", \"created_time\": \"2021-02-17T08:29:37.340135Z\", \"created_time_dt\": \"2021-02-17T08:29:37.340135Z\", \"duration\": \"0:00:24\", \"iteration\": \"19\", \"goal\": \"accuracy_max\", \"run_name\": \"StandardScalerWrapper, XGBoostClassifier\", \"run_properties\": \"<azureml.automl.runtime.shared.model_wrappers.StandardScalerWrapper object at 0x7fe599d3c710\", \"primary_metric\": 0.86, \"best_metric\": 0.885}, {\"run_id\": \"AutoML_7cc14aee-89e5-4bea-bbd3-96e12e64422c_20\", \"run_number\": 47, \"metric\": null, \"status\": \"Completed\", \"run_type\": null, \"training_percent\": \"100\", \"start_time\": \"2021-02-17T08:30:03.19264Z\", \"end_time\": \"2021-02-17T08:30:26.981715Z\", \"created_time\": \"2021-02-17T08:30:03.092878Z\", \"created_time_dt\": \"2021-02-17T08:30:03.092878Z\", \"duration\": \"0:00:23\", \"iteration\": \"20\", \"goal\": \"accuracy_max\", \"run_name\": \"StandardScalerWrapper, LightGBM\", \"run_properties\": \"<azureml.automl.runtime.shared.model_wrappers.StandardScalerWrapper object at 0x7fe4a0c427f0\", \"primary_metric\": 0.85, \"best_metric\": 0.885}, {\"run_id\": \"AutoML_7cc14aee-89e5-4bea-bbd3-96e12e64422c_21\", \"run_number\": 48, \"metric\": null, \"status\": \"Completed\", \"run_type\": null, \"training_percent\": \"100\", \"start_time\": \"2021-02-17T08:30:28.333936Z\", \"end_time\": \"2021-02-17T08:30:52.766894Z\", \"created_time\": \"2021-02-17T08:30:28.211907Z\", \"created_time_dt\": \"2021-02-17T08:30:28.211907Z\", \"duration\": \"0:00:24\", \"iteration\": \"21\", \"goal\": \"accuracy_max\", \"run_name\": \"SparseNormalizer, RandomForest\", \"run_properties\": \"<azureml.automl.runtime.shared.model_wrappers.SparseNormalizer object at 0x7fe4a0c9cac8\", \"primary_metric\": 0.84, \"best_metric\": 0.885}, {\"run_id\": \"AutoML_7cc14aee-89e5-4bea-bbd3-96e12e64422c_22\", \"run_number\": 49, \"metric\": null, \"status\": \"Completed\", \"run_type\": null, \"training_percent\": \"100\", \"start_time\": \"2021-02-17T08:30:54.122186Z\", \"end_time\": \"2021-02-17T08:31:17.9841Z\", \"created_time\": \"2021-02-17T08:30:54.006289Z\", \"created_time_dt\": \"2021-02-17T08:30:54.006289Z\", \"duration\": \"0:00:23\", \"iteration\": \"22\", \"goal\": \"accuracy_max\", \"run_name\": \"SparseNormalizer, XGBoostClassifier\", \"run_properties\": \"<azureml.automl.runtime.shared.model_wrappers.SparseNormalizer object at 0x7fe48c614d68\", \"primary_metric\": 0.85, \"best_metric\": 0.885}, {\"run_id\": \"AutoML_7cc14aee-89e5-4bea-bbd3-96e12e64422c_23\", \"run_number\": 50, \"metric\": null, \"status\": \"Completed\", \"run_type\": null, \"training_percent\": \"100\", \"start_time\": \"2021-02-17T08:31:19.338031Z\", \"end_time\": \"2021-02-17T08:31:48.947606Z\", \"created_time\": \"2021-02-17T08:31:19.233844Z\", \"created_time_dt\": \"2021-02-17T08:31:19.233844Z\", \"duration\": \"0:00:29\", \"iteration\": \"23\", \"goal\": \"accuracy_max\", \"run_name\": \"StandardScalerWrapper, LightGBM\", \"run_properties\": \"<azureml.automl.runtime.shared.model_wrappers.StandardScalerWrapper object at 0x7fe4a0db3fd0\", \"primary_metric\": 0.815, \"best_metric\": 0.885}, {\"run_id\": \"AutoML_7cc14aee-89e5-4bea-bbd3-96e12e64422c_24\", \"run_number\": 51, \"metric\": null, \"status\": \"Completed\", \"run_type\": null, \"training_percent\": \"100\", \"start_time\": \"2021-02-17T08:31:50.759706Z\", \"end_time\": \"2021-02-17T08:32:14.330379Z\", \"created_time\": \"2021-02-17T08:31:50.615459Z\", \"created_time_dt\": \"2021-02-17T08:31:50.615459Z\", \"duration\": \"0:00:23\", \"iteration\": \"24\", \"goal\": \"accuracy_max\", \"run_name\": \"MinMaxScaler, LightGBM\", \"run_properties\": \"copy=True, feature_range=(0, 1\", \"primary_metric\": 0.86, \"best_metric\": 0.885}, {\"run_id\": \"AutoML_7cc14aee-89e5-4bea-bbd3-96e12e64422c_25\", \"run_number\": 52, \"metric\": null, \"status\": \"Completed\", \"run_type\": null, \"training_percent\": \"100\", \"start_time\": \"2021-02-17T08:32:17.186013Z\", \"end_time\": \"2021-02-17T08:32:47.620477Z\", \"created_time\": \"2021-02-17T08:32:17.059608Z\", \"created_time_dt\": \"2021-02-17T08:32:17.059608Z\", \"duration\": \"0:00:30\", \"iteration\": \"25\", \"goal\": \"accuracy_max\", \"run_name\": \"PCA, RandomForest\", \"run_properties\": \"copy=True, iterated_power='auto', n_components=0.15842105263157896,\\n    random_state=None, svd_solver='auto', tol=0.0, whiten=False\", \"primary_metric\": 0.73, \"best_metric\": 0.885}, {\"run_id\": \"AutoML_7cc14aee-89e5-4bea-bbd3-96e12e64422c_26\", \"run_number\": 53, \"metric\": null, \"status\": \"Completed\", \"run_type\": null, \"training_percent\": \"100\", \"start_time\": \"2021-02-17T08:32:48.800998Z\", \"end_time\": \"2021-02-17T08:33:16.819001Z\", \"created_time\": \"2021-02-17T08:32:48.701806Z\", \"created_time_dt\": \"2021-02-17T08:32:48.701806Z\", \"duration\": \"0:00:28\", \"iteration\": \"26\", \"goal\": \"accuracy_max\", \"run_name\": \"StandardScalerWrapper, RandomForest\", \"run_properties\": \"<azureml.automl.runtime.shared.model_wrappers.StandardScalerWrapper object at 0x7fe4a0b61fd0\", \"primary_metric\": 0.89, \"best_metric\": 0.89}, {\"run_id\": \"AutoML_7cc14aee-89e5-4bea-bbd3-96e12e64422c_27\", \"run_number\": 54, \"metric\": null, \"status\": \"Completed\", \"run_type\": null, \"training_percent\": \"100\", \"start_time\": \"2021-02-17T08:33:18.209724Z\", \"end_time\": \"2021-02-17T08:33:47.262587Z\", \"created_time\": \"2021-02-17T08:33:18.075981Z\", \"created_time_dt\": \"2021-02-17T08:33:18.075981Z\", \"duration\": \"0:00:29\", \"iteration\": \"27\", \"goal\": \"accuracy_max\", \"run_name\": \"StandardScalerWrapper, RandomForest\", \"run_properties\": \"<azureml.automl.runtime.shared.model_wrappers.StandardScalerWrapper object at 0x7fe4a0d8af98\", \"primary_metric\": 0.885, \"best_metric\": 0.89}, {\"run_id\": \"AutoML_7cc14aee-89e5-4bea-bbd3-96e12e64422c_28\", \"run_number\": 55, \"metric\": null, \"status\": \"Completed\", \"run_type\": null, \"training_percent\": \"100\", \"start_time\": \"2021-02-17T08:33:48.526437Z\", \"end_time\": \"2021-02-17T08:34:14.573132Z\", \"created_time\": \"2021-02-17T08:33:48.408449Z\", \"created_time_dt\": \"2021-02-17T08:33:48.408449Z\", \"duration\": \"0:00:26\", \"iteration\": \"28\", \"goal\": \"accuracy_max\", \"run_name\": \"MaxAbsScaler, LightGBM\", \"run_properties\": \"copy=True\", \"primary_metric\": 0.855, \"best_metric\": 0.89}, {\"run_id\": \"AutoML_7cc14aee-89e5-4bea-bbd3-96e12e64422c_29\", \"run_number\": 56, \"metric\": null, \"status\": \"Completed\", \"run_type\": null, \"training_percent\": \"100\", \"start_time\": \"2021-02-17T08:34:15.861583Z\", \"end_time\": \"2021-02-17T08:34:39.685386Z\", \"created_time\": \"2021-02-17T08:34:15.752138Z\", \"created_time_dt\": \"2021-02-17T08:34:15.752138Z\", \"duration\": \"0:00:23\", \"iteration\": \"29\", \"goal\": \"accuracy_max\", \"run_name\": \"RobustScaler, RandomForest\", \"run_properties\": \"copy=True, quantile_range=[10, 90], with_centering=True,\\n             with_scaling=True\", \"primary_metric\": 0.88, \"best_metric\": 0.89}, {\"run_id\": \"AutoML_7cc14aee-89e5-4bea-bbd3-96e12e64422c_30\", \"run_number\": 57, \"metric\": null, \"status\": \"Completed\", \"run_type\": null, \"training_percent\": \"100\", \"start_time\": \"2021-02-17T08:34:42.298079Z\", \"end_time\": \"2021-02-17T08:35:06.56458Z\", \"created_time\": \"2021-02-17T08:34:42.16407Z\", \"created_time_dt\": \"2021-02-17T08:34:42.16407Z\", \"duration\": \"0:00:24\", \"iteration\": \"30\", \"goal\": \"accuracy_max\", \"run_name\": \"MaxAbsScaler, RandomForest\", \"run_properties\": \"copy=True\", \"primary_metric\": 0.71, \"best_metric\": 0.89}, {\"run_id\": \"AutoML_7cc14aee-89e5-4bea-bbd3-96e12e64422c_31\", \"run_number\": 58, \"metric\": null, \"status\": \"Completed\", \"run_type\": null, \"training_percent\": \"100\", \"start_time\": \"2021-02-17T08:35:07.506649Z\", \"end_time\": \"2021-02-17T08:35:29.941557Z\", \"created_time\": \"2021-02-17T08:35:07.380988Z\", \"created_time_dt\": \"2021-02-17T08:35:07.380988Z\", \"duration\": \"0:00:22\", \"iteration\": \"31\", \"goal\": \"accuracy_max\", \"run_name\": \"VotingEnsemble\", \"run_properties\": \"classification_labels=None,\\n                              estimators=[('26',\\n                                           Pipeline(memory=None,\\n                                                    steps=[('standardscalerwrapper',\\n                                                            <azureml.automl.runtime.shared.model_wrappers.StandardScalerWrapper object at 0x7fe49b018588>\", \"primary_metric\": 0.895, \"best_metric\": 0.895}, {\"run_id\": \"AutoML_7cc14aee-89e5-4bea-bbd3-96e12e64422c_32\", \"run_number\": 59, \"metric\": null, \"status\": \"Completed\", \"run_type\": null, \"training_percent\": \"100\", \"start_time\": \"2021-02-17T08:35:30.317928Z\", \"end_time\": \"2021-02-17T08:35:52.865164Z\", \"created_time\": \"2021-02-17T08:35:30.19878Z\", \"created_time_dt\": \"2021-02-17T08:35:30.19878Z\", \"duration\": \"0:00:22\", \"iteration\": \"32\", \"goal\": \"accuracy_max\", \"run_name\": \"StackEnsemble\", \"run_properties\": \"base_learners=[('26',\\n                                        Pipeline(memory=None,\\n                                                 steps=[('standardscalerwrapper',\\n                                                         <azureml.automl.runtime.shared.model_wrappers.StandardScalerWrapper object at 0x7fe4a4de4ba8>\", \"primary_metric\": 0.87, \"best_metric\": 0.895}], \"children_metrics\": {\"categories\": [0], \"series\": {\"f1_score_macro\": [{\"categories\": [\"0\", \"1\", \"2\", \"3\", \"4\", \"5\", \"6\", \"7\", \"8\", \"9\", \"10\", \"11\", \"12\", \"13\", \"14\", \"15\", \"16\", \"17\", \"18\", \"19\", \"20\", \"21\", \"22\", \"23\", \"24\", \"25\", \"26\", \"27\", \"28\", \"29\", \"30\", \"31\", \"32\"], \"mode\": \"markers\", \"name\": \"f1_score_macro\", \"stepped\": false, \"type\": \"scatter\", \"data\": [0.7466666666666667, 0.8078793571666953, 0.8416978516978517, 0.8017147825370298, 0.7907162917174358, 0.7262641766056547, 0.8133333333333334, 0.8189178825170826, 0.8205660876893753, 0.7830994933077233, 0.8479694696670614, 0.8185387505324577, 0.7934530980283423, 0.8030500467086747, 0.7546458739441196, 0.7697963262586847, 0.7871131505999927, 0.6623848334514528, 0.8345191040843215, 0.8086354225484661, 0.8023769923769923, 0.7970573313039067, 0.8, 0.7034309965741168, 0.8133333333333334, 0.4218880534670008, 0.8552441110672457, 0.8453852134283597, 0.8042667923757282, 0.8390882025750446, 0.6525207535691642, 0.8569441282961425, 0.8262570062026322]}, {\"categories\": [\"0\", \"1\", \"2\", \"3\", \"4\", \"5\", \"6\", \"7\", \"8\", \"9\", \"10\", \"11\", \"12\", \"13\", \"14\", \"15\", \"16\", \"17\", \"18\", \"19\", \"20\", \"21\", \"22\", \"23\", \"24\", \"25\", \"26\", \"27\", \"28\", \"29\", \"30\", \"31\", \"32\"], \"mode\": \"lines\", \"name\": \"f1_score_macro_max\", \"stepped\": true, \"type\": \"scatter\", \"data\": [0.7466666666666667, 0.8078793571666953, 0.8416978516978517, 0.8416978516978517, 0.8416978516978517, 0.8416978516978517, 0.8416978516978517, 0.8416978516978517, 0.8416978516978517, 0.8416978516978517, 0.8479694696670614, 0.8479694696670614, 0.8479694696670614, 0.8479694696670614, 0.8479694696670614, 0.8479694696670614, 0.8479694696670614, 0.8479694696670614, 0.8479694696670614, 0.8479694696670614, 0.8479694696670614, 0.8479694696670614, 0.8479694696670614, 0.8479694696670614, 0.8479694696670614, 0.8479694696670614, 0.8552441110672457, 0.8552441110672457, 0.8552441110672457, 0.8552441110672457, 0.8552441110672457, 0.8569441282961425, 0.8569441282961425]}], \"average_precision_score_micro\": [{\"categories\": [\"0\", \"1\", \"2\", \"3\", \"4\", \"5\", \"6\", \"7\", \"8\", \"9\", \"10\", \"11\", \"12\", \"13\", \"14\", \"15\", \"16\", \"17\", \"18\", \"19\", \"20\", \"21\", \"22\", \"23\", \"24\", \"25\", \"26\", \"27\", \"28\", \"29\", \"30\", \"31\", \"32\"], \"mode\": \"markers\", \"name\": \"average_precision_score_micro\", \"stepped\": false, \"type\": \"scatter\", \"data\": [0.9068873233451877, 0.9332951749857434, 0.9491948279285476, 0.926676824603613, 0.9328585217317334, 0.8736003037570006, 0.939332444084231, 0.9487449093133089, 0.9415141697225337, 0.9282633061251023, 0.9412480657329174, 0.914075717679885, 0.9228511716455057, 0.9377190681146895, 0.9179251458577946, 0.9338655152850037, 0.9187102227284041, 0.9144622336154751, 0.9212173564981954, 0.9190397596646926, 0.9297382240708867, 0.9200141582219499, 0.9365534504194315, 0.8979737137967615, 0.9229092953007533, 0.6806960960163155, 0.9468406482812917, 0.9498263249680186, 0.9264207867485645, 0.9318909119852072, 0.7397170589902768, 0.948647454638496, 0.9392150719036083]}, {\"categories\": [\"0\", \"1\", \"2\", \"3\", \"4\", \"5\", \"6\", \"7\", \"8\", \"9\", \"10\", \"11\", \"12\", \"13\", \"14\", \"15\", \"16\", \"17\", \"18\", \"19\", \"20\", \"21\", \"22\", \"23\", \"24\", \"25\", \"26\", \"27\", \"28\", \"29\", \"30\", \"31\", \"32\"], \"mode\": \"lines\", \"name\": \"average_precision_score_micro_max\", \"stepped\": true, \"type\": \"scatter\", \"data\": [0.9068873233451877, 0.9332951749857434, 0.9491948279285476, 0.9491948279285476, 0.9491948279285476, 0.9491948279285476, 0.9491948279285476, 0.9491948279285476, 0.9491948279285476, 0.9491948279285476, 0.9491948279285476, 0.9491948279285476, 0.9491948279285476, 0.9491948279285476, 0.9491948279285476, 0.9491948279285476, 0.9491948279285476, 0.9491948279285476, 0.9491948279285476, 0.9491948279285476, 0.9491948279285476, 0.9491948279285476, 0.9491948279285476, 0.9491948279285476, 0.9491948279285476, 0.9491948279285476, 0.9491948279285476, 0.9498263249680186, 0.9498263249680186, 0.9498263249680186, 0.9498263249680186, 0.9498263249680186, 0.9498263249680186]}], \"norm_macro_recall\": [{\"categories\": [\"0\", \"1\", \"2\", \"3\", \"4\", \"5\", \"6\", \"7\", \"8\", \"9\", \"10\", \"11\", \"12\", \"13\", \"14\", \"15\", \"16\", \"17\", \"18\", \"19\", \"20\", \"21\", \"22\", \"23\", \"24\", \"25\", \"26\", \"27\", \"28\", \"29\", \"30\", \"31\", \"32\"], \"mode\": \"markers\", \"name\": \"norm_macro_recall\", \"stepped\": false, \"type\": \"scatter\", \"data\": [0.4763671685284119, 0.6116237655819976, 0.6692180670228266, 0.5770956775133561, 0.5469192164481139, 0.4218617451837461, 0.6049344341913551, 0.6139614699692408, 0.6386660191031244, 0.5441605957584588, 0.6755091468350332, 0.5978695159462522, 0.5559462522259997, 0.5880913064594464, 0.4975554476282986, 0.48806864173547027, 0.552352274566942, 0.3062068965517242, 0.6354864821110572, 0.5782677675246883, 0.5916011008580216, 0.5986660191031244, 0.5806508013598835, 0.35166261939452814, 0.6049344341913551, 0.0, 0.6931261129998381, 0.6633025740650802, 0.5904516755706655, 0.6590189412336086, 0.3223053262101343, 0.6766359073984134, 0.6319766877124818]}, {\"categories\": [\"0\", \"1\", \"2\", \"3\", \"4\", \"5\", \"6\", \"7\", \"8\", \"9\", \"10\", \"11\", \"12\", \"13\", \"14\", \"15\", \"16\", \"17\", \"18\", \"19\", \"20\", \"21\", \"22\", \"23\", \"24\", \"25\", \"26\", \"27\", \"28\", \"29\", \"30\", \"31\", \"32\"], \"mode\": \"lines\", \"name\": \"norm_macro_recall_max\", \"stepped\": true, \"type\": \"scatter\", \"data\": [0.4763671685284119, 0.6116237655819976, 0.6692180670228266, 0.6692180670228266, 0.6692180670228266, 0.6692180670228266, 0.6692180670228266, 0.6692180670228266, 0.6692180670228266, 0.6692180670228266, 0.6755091468350332, 0.6755091468350332, 0.6755091468350332, 0.6755091468350332, 0.6755091468350332, 0.6755091468350332, 0.6755091468350332, 0.6755091468350332, 0.6755091468350332, 0.6755091468350332, 0.6755091468350332, 0.6755091468350332, 0.6755091468350332, 0.6755091468350332, 0.6755091468350332, 0.6755091468350332, 0.6931261129998381, 0.6931261129998381, 0.6931261129998381, 0.6931261129998381, 0.6931261129998381, 0.6931261129998381, 0.6931261129998381]}], \"average_precision_score_macro\": [{\"categories\": [\"0\", \"1\", \"2\", \"3\", \"4\", \"5\", \"6\", \"7\", \"8\", \"9\", \"10\", \"11\", \"12\", \"13\", \"14\", \"15\", \"16\", \"17\", \"18\", \"19\", \"20\", \"21\", \"22\", \"23\", \"24\", \"25\", \"26\", \"27\", \"28\", \"29\", \"30\", \"31\", \"32\"], \"mode\": \"markers\", \"name\": \"average_precision_score_macro\", \"stepped\": false, \"type\": \"scatter\", \"data\": [0.8269434533200687, 0.8713010810671512, 0.9100603825261409, 0.8641574263336257, 0.8775538151551279, 0.7952347635152702, 0.8941948839048193, 0.9049562557313775, 0.8884426449299424, 0.8681684164230012, 0.8887522787510572, 0.8721298141481688, 0.8710592405067983, 0.8828623035093627, 0.8754269412950859, 0.8906511424709784, 0.8662137486183697, 0.8804718483399223, 0.8754111627432963, 0.8708504190728198, 0.8635140650314831, 0.8749828349072943, 0.8814409632299135, 0.8570359931459288, 0.848246207519991, 0.4931479330200301, 0.9040040031888044, 0.9018325492203283, 0.8687302965018406, 0.8813515557593903, 0.6631142150409975, 0.8938443982742352, 0.8890471281747246]}, {\"categories\": [\"0\", \"1\", \"2\", \"3\", \"4\", \"5\", \"6\", \"7\", \"8\", \"9\", \"10\", \"11\", \"12\", \"13\", \"14\", \"15\", \"16\", \"17\", \"18\", \"19\", \"20\", \"21\", \"22\", \"23\", \"24\", \"25\", \"26\", \"27\", \"28\", \"29\", \"30\", \"31\", \"32\"], \"mode\": \"lines\", \"name\": \"average_precision_score_macro_max\", \"stepped\": true, \"type\": \"scatter\", \"data\": [0.8269434533200687, 0.8713010810671512, 0.9100603825261409, 0.9100603825261409, 0.9100603825261409, 0.9100603825261409, 0.9100603825261409, 0.9100603825261409, 0.9100603825261409, 0.9100603825261409, 0.9100603825261409, 0.9100603825261409, 0.9100603825261409, 0.9100603825261409, 0.9100603825261409, 0.9100603825261409, 0.9100603825261409, 0.9100603825261409, 0.9100603825261409, 0.9100603825261409, 0.9100603825261409, 0.9100603825261409, 0.9100603825261409, 0.9100603825261409, 0.9100603825261409, 0.9100603825261409, 0.9100603825261409, 0.9100603825261409, 0.9100603825261409, 0.9100603825261409, 0.9100603825261409, 0.9100603825261409, 0.9100603825261409]}], \"precision_score_macro\": [{\"categories\": [\"0\", \"1\", \"2\", \"3\", \"4\", \"5\", \"6\", \"7\", \"8\", \"9\", \"10\", \"11\", \"12\", \"13\", \"14\", \"15\", \"16\", \"17\", \"18\", \"19\", \"20\", \"21\", \"22\", \"23\", \"24\", \"25\", \"26\", \"27\", \"28\", \"29\", \"30\", \"31\", \"32\"], \"mode\": \"markers\", \"name\": \"precision_score_macro\", \"stepped\": false, \"type\": \"scatter\", \"data\": [0.7642676311030742, 0.8113305613305614, 0.860221402010894, 0.8610470296516808, 0.833626531235381, 0.7825062534364859, 0.8344062688366486, 0.8625167062667063, 0.824728564180619, 0.8150786809323395, 0.865955710955711, 0.8654607802452378, 0.8699162679425837, 0.8157894736842105, 0.8478632478632478, 0.8254347512743325, 0.8166573206227136, 0.8486068111455108, 0.8794708244743681, 0.8414707655213984, 0.8197842495570951, 0.7993330095515623, 0.8193369499698614, 0.8394939564181136, 0.8344062688366486, 0.365, 0.8722673722673723, 0.8783072883950076, 0.8295743449252221, 0.8673929877967369, 0.6535218253968254, 0.894777452891488, 0.8504158004158004]}, {\"categories\": [\"0\", \"1\", \"2\", \"3\", \"4\", \"5\", \"6\", \"7\", \"8\", \"9\", \"10\", \"11\", \"12\", \"13\", \"14\", \"15\", \"16\", \"17\", \"18\", \"19\", \"20\", \"21\", \"22\", \"23\", \"24\", \"25\", \"26\", \"27\", \"28\", \"29\", \"30\", \"31\", \"32\"], \"mode\": \"lines\", \"name\": \"precision_score_macro_max\", \"stepped\": true, \"type\": \"scatter\", \"data\": [0.7642676311030742, 0.8113305613305614, 0.860221402010894, 0.8610470296516808, 0.8610470296516808, 0.8610470296516808, 0.8610470296516808, 0.8625167062667063, 0.8625167062667063, 0.8625167062667063, 0.865955710955711, 0.865955710955711, 0.8699162679425837, 0.8699162679425837, 0.8699162679425837, 0.8699162679425837, 0.8699162679425837, 0.8699162679425837, 0.8794708244743681, 0.8794708244743681, 0.8794708244743681, 0.8794708244743681, 0.8794708244743681, 0.8794708244743681, 0.8794708244743681, 0.8794708244743681, 0.8794708244743681, 0.8794708244743681, 0.8794708244743681, 0.8794708244743681, 0.8794708244743681, 0.894777452891488, 0.894777452891488]}], \"f1_score_micro\": [{\"categories\": [\"0\", \"1\", \"2\", \"3\", \"4\", \"5\", \"6\", \"7\", \"8\", \"9\", \"10\", \"11\", \"12\", \"13\", \"14\", \"15\", \"16\", \"17\", \"18\", \"19\", \"20\", \"21\", \"22\", \"23\", \"24\", \"25\", \"26\", \"27\", \"28\", \"29\", \"30\", \"31\", \"32\"], \"mode\": \"markers\", \"name\": \"f1_score_micro\", \"stepped\": false, \"type\": \"scatter\", \"data\": [0.81, 0.85, 0.8799999999999999, 0.86, 0.85, 0.81, 0.8599999999999999, 0.87, 0.8599999999999999, 0.84, 0.885, 0.8699999999999999, 0.8600000000000001, 0.85, 0.8400000000000001, 0.8399999999999999, 0.8399999999999999, 0.7999999999999999, 0.8799999999999999, 0.8599999999999999, 0.8499999999999999, 0.8399999999999999, 0.85, 0.815, 0.8599999999999999, 0.73, 0.89, 0.885, 0.855, 0.8799999999999999, 0.71, 0.895, 0.87]}, {\"categories\": [\"0\", \"1\", \"2\", \"3\", \"4\", \"5\", \"6\", \"7\", \"8\", \"9\", \"10\", \"11\", \"12\", \"13\", \"14\", \"15\", \"16\", \"17\", \"18\", \"19\", \"20\", \"21\", \"22\", \"23\", \"24\", \"25\", \"26\", \"27\", \"28\", \"29\", \"30\", \"31\", \"32\"], \"mode\": \"lines\", \"name\": \"f1_score_micro_max\", \"stepped\": true, \"type\": \"scatter\", \"data\": [0.81, 0.85, 0.8799999999999999, 0.8799999999999999, 0.8799999999999999, 0.8799999999999999, 0.8799999999999999, 0.8799999999999999, 0.8799999999999999, 0.8799999999999999, 0.885, 0.885, 0.885, 0.885, 0.885, 0.885, 0.885, 0.885, 0.885, 0.885, 0.885, 0.885, 0.885, 0.885, 0.885, 0.885, 0.89, 0.89, 0.89, 0.89, 0.89, 0.895, 0.895]}], \"AUC_macro\": [{\"categories\": [\"0\", \"1\", \"2\", \"3\", \"4\", \"5\", \"6\", \"7\", \"8\", \"9\", \"10\", \"11\", \"12\", \"13\", \"14\", \"15\", \"16\", \"17\", \"18\", \"19\", \"20\", \"21\", \"22\", \"23\", \"24\", \"25\", \"26\", \"27\", \"28\", \"29\", \"30\", \"31\", \"32\"], \"mode\": \"markers\", \"name\": \"AUC_macro\", \"stepped\": false, \"type\": \"scatter\", \"data\": [0.8702254168690302, 0.9179087582969079, 0.935937121580055, 0.9115241055528573, 0.9226469159786304, 0.8178362311801846, 0.9220324429334628, 0.9360704549133885, 0.9251802493119637, 0.9086707463169824, 0.9266542982030112, 0.9030628460417678, 0.920584490853165, 0.9152613890237979, 0.9129181155900923, 0.9208942852517403, 0.9004415088230533, 0.9116324429334628, 0.9042894609033512, 0.9041164319248826, 0.9043802493119637, 0.9070764448761535, 0.9193850736603529, 0.8935246883600454, 0.9015314877772381, 0.4714225028330905, 0.9293232313420754, 0.9386270357778856, 0.9045760077707625, 0.9354440666990449, 0.7079265015379634, 0.9365651934596082, 0.9313896066051481]}, {\"categories\": [\"0\", \"1\", \"2\", \"3\", \"4\", \"5\", \"6\", \"7\", \"8\", \"9\", \"10\", \"11\", \"12\", \"13\", \"14\", \"15\", \"16\", \"17\", \"18\", \"19\", \"20\", \"21\", \"22\", \"23\", \"24\", \"25\", \"26\", \"27\", \"28\", \"29\", \"30\", \"31\", \"32\"], \"mode\": \"lines\", \"name\": \"AUC_macro_max\", \"stepped\": true, \"type\": \"scatter\", \"data\": [0.8702254168690302, 0.9179087582969079, 0.935937121580055, 0.935937121580055, 0.935937121580055, 0.935937121580055, 0.935937121580055, 0.9360704549133885, 0.9360704549133885, 0.9360704549133885, 0.9360704549133885, 0.9360704549133885, 0.9360704549133885, 0.9360704549133885, 0.9360704549133885, 0.9360704549133885, 0.9360704549133885, 0.9360704549133885, 0.9360704549133885, 0.9360704549133885, 0.9360704549133885, 0.9360704549133885, 0.9360704549133885, 0.9360704549133885, 0.9360704549133885, 0.9360704549133885, 0.9360704549133885, 0.9386270357778856, 0.9386270357778856, 0.9386270357778856, 0.9386270357778856, 0.9386270357778856, 0.9386270357778856]}], \"recall_score_macro\": [{\"categories\": [\"0\", \"1\", \"2\", \"3\", \"4\", \"5\", \"6\", \"7\", \"8\", \"9\", \"10\", \"11\", \"12\", \"13\", \"14\", \"15\", \"16\", \"17\", \"18\", \"19\", \"20\", \"21\", \"22\", \"23\", \"24\", \"25\", \"26\", \"27\", \"28\", \"29\", \"30\", \"31\", \"32\"], \"mode\": \"markers\", \"name\": \"recall_score_macro\", \"stepped\": false, \"type\": \"scatter\", \"data\": [0.7381835842642059, 0.8058118827909988, 0.8346090335114134, 0.788547838756678, 0.773459608224057, 0.710930872591873, 0.8024672170956775, 0.8069807349846204, 0.8193330095515622, 0.7720802978792294, 0.8377545734175166, 0.7989347579731261, 0.7779731261129998, 0.7940456532297232, 0.7487777238141493, 0.7440343208677351, 0.776176137283471, 0.6531034482758621, 0.8177432410555285, 0.7891338837623442, 0.7958005504290109, 0.7993330095515623, 0.7903254006799417, 0.6758313096972641, 0.8024672170956775, 0.5, 0.846563056499919, 0.8316512870325401, 0.7952258377853327, 0.8295094706168042, 0.6611526631050672, 0.8383179536992067, 0.815988343856241]}, {\"categories\": [\"0\", \"1\", \"2\", \"3\", \"4\", \"5\", \"6\", \"7\", \"8\", \"9\", \"10\", \"11\", \"12\", \"13\", \"14\", \"15\", \"16\", \"17\", \"18\", \"19\", \"20\", \"21\", \"22\", \"23\", \"24\", \"25\", \"26\", \"27\", \"28\", \"29\", \"30\", \"31\", \"32\"], \"mode\": \"lines\", \"name\": \"recall_score_macro_max\", \"stepped\": true, \"type\": \"scatter\", \"data\": [0.7381835842642059, 0.8058118827909988, 0.8346090335114134, 0.8346090335114134, 0.8346090335114134, 0.8346090335114134, 0.8346090335114134, 0.8346090335114134, 0.8346090335114134, 0.8346090335114134, 0.8377545734175166, 0.8377545734175166, 0.8377545734175166, 0.8377545734175166, 0.8377545734175166, 0.8377545734175166, 0.8377545734175166, 0.8377545734175166, 0.8377545734175166, 0.8377545734175166, 0.8377545734175166, 0.8377545734175166, 0.8377545734175166, 0.8377545734175166, 0.8377545734175166, 0.8377545734175166, 0.846563056499919, 0.846563056499919, 0.846563056499919, 0.846563056499919, 0.846563056499919, 0.846563056499919, 0.846563056499919]}], \"accuracy\": [{\"categories\": [\"0\", \"1\", \"2\", \"3\", \"4\", \"5\", \"6\", \"7\", \"8\", \"9\", \"10\", \"11\", \"12\", \"13\", \"14\", \"15\", \"16\", \"17\", \"18\", \"19\", \"20\", \"21\", \"22\", \"23\", \"24\", \"25\", \"26\", \"27\", \"28\", \"29\", \"30\", \"31\", \"32\"], \"mode\": \"markers\", \"name\": \"accuracy\", \"stepped\": false, \"type\": \"scatter\", \"data\": [0.81, 0.85, 0.88, 0.86, 0.85, 0.81, 0.86, 0.87, 0.86, 0.84, 0.885, 0.87, 0.8600000000000001, 0.85, 0.8400000000000001, 0.84, 0.84, 0.8, 0.88, 0.86, 0.85, 0.84, 0.85, 0.815, 0.86, 0.73, 0.89, 0.885, 0.855, 0.88, 0.71, 0.895, 0.87]}, {\"categories\": [\"0\", \"1\", \"2\", \"3\", \"4\", \"5\", \"6\", \"7\", \"8\", \"9\", \"10\", \"11\", \"12\", \"13\", \"14\", \"15\", \"16\", \"17\", \"18\", \"19\", \"20\", \"21\", \"22\", \"23\", \"24\", \"25\", \"26\", \"27\", \"28\", \"29\", \"30\", \"31\", \"32\"], \"mode\": \"lines\", \"name\": \"accuracy_max\", \"stepped\": true, \"type\": \"scatter\", \"data\": [0.81, 0.85, 0.88, 0.88, 0.88, 0.88, 0.88, 0.88, 0.88, 0.88, 0.885, 0.885, 0.885, 0.885, 0.885, 0.885, 0.885, 0.885, 0.885, 0.885, 0.885, 0.885, 0.885, 0.885, 0.885, 0.885, 0.89, 0.89, 0.89, 0.89, 0.89, 0.895, 0.895]}], \"precision_score_weighted\": [{\"categories\": [\"0\", \"1\", \"2\", \"3\", \"4\", \"5\", \"6\", \"7\", \"8\", \"9\", \"10\", \"11\", \"12\", \"13\", \"14\", \"15\", \"16\", \"17\", \"18\", \"19\", \"20\", \"21\", \"22\", \"23\", \"24\", \"25\", \"26\", \"27\", \"28\", \"29\", \"30\", \"31\", \"32\"], \"mode\": \"markers\", \"name\": \"precision_score_weighted\", \"stepped\": false, \"type\": \"scatter\", \"data\": [0.8056600361663653, 0.8489293139293139, 0.8815296115556216, 0.8694123538309586, 0.8489903160654708, 0.8067765954975257, 0.858456901748041, 0.8741734110484111, 0.8597743277524099, 0.8412890658012608, 0.8835722610722611, 0.8721017487427372, 0.8697986443381179, 0.8465789473684211, 0.851965811965812, 0.8365013223401575, 0.8447520628054154, 0.8279628482972137, 0.8858681785967399, 0.8566726943942133, 0.8505979469027848, 0.8430730775457342, 0.8470584689572032, 0.8246197225059585, 0.858456901748041, 0.5333, 0.8904057204057204, 0.8899745528254299, 0.8539316678351767, 0.8838185265294134, 0.7336954365079364, 0.8986541585445093, 0.8708160083160084]}, {\"categories\": [\"0\", \"1\", \"2\", \"3\", \"4\", \"5\", \"6\", \"7\", \"8\", \"9\", \"10\", \"11\", \"12\", \"13\", \"14\", \"15\", \"16\", \"17\", \"18\", \"19\", \"20\", \"21\", \"22\", \"23\", \"24\", \"25\", \"26\", \"27\", \"28\", \"29\", \"30\", \"31\", \"32\"], \"mode\": \"lines\", \"name\": \"precision_score_weighted_max\", \"stepped\": true, \"type\": \"scatter\", \"data\": [0.8056600361663653, 0.8489293139293139, 0.8815296115556216, 0.8815296115556216, 0.8815296115556216, 0.8815296115556216, 0.8815296115556216, 0.8815296115556216, 0.8815296115556216, 0.8815296115556216, 0.8835722610722611, 0.8835722610722611, 0.8835722610722611, 0.8835722610722611, 0.8835722610722611, 0.8835722610722611, 0.8835722610722611, 0.8835722610722611, 0.8858681785967399, 0.8858681785967399, 0.8858681785967399, 0.8858681785967399, 0.8858681785967399, 0.8858681785967399, 0.8858681785967399, 0.8858681785967399, 0.8904057204057204, 0.8904057204057204, 0.8904057204057204, 0.8904057204057204, 0.8904057204057204, 0.8986541585445093, 0.8986541585445093]}], \"recall_score_weighted\": [{\"categories\": [\"0\", \"1\", \"2\", \"3\", \"4\", \"5\", \"6\", \"7\", \"8\", \"9\", \"10\", \"11\", \"12\", \"13\", \"14\", \"15\", \"16\", \"17\", \"18\", \"19\", \"20\", \"21\", \"22\", \"23\", \"24\", \"25\", \"26\", \"27\", \"28\", \"29\", \"30\", \"31\", \"32\"], \"mode\": \"markers\", \"name\": \"recall_score_weighted\", \"stepped\": false, \"type\": \"scatter\", \"data\": [0.81, 0.85, 0.88, 0.86, 0.85, 0.81, 0.86, 0.87, 0.86, 0.84, 0.885, 0.87, 0.8600000000000001, 0.85, 0.8400000000000001, 0.84, 0.84, 0.8, 0.88, 0.86, 0.85, 0.84, 0.85, 0.815, 0.86, 0.73, 0.89, 0.885, 0.855, 0.88, 0.71, 0.895, 0.87]}, {\"categories\": [\"0\", \"1\", \"2\", \"3\", \"4\", \"5\", \"6\", \"7\", \"8\", \"9\", \"10\", \"11\", \"12\", \"13\", \"14\", \"15\", \"16\", \"17\", \"18\", \"19\", \"20\", \"21\", \"22\", \"23\", \"24\", \"25\", \"26\", \"27\", \"28\", \"29\", \"30\", \"31\", \"32\"], \"mode\": \"lines\", \"name\": \"recall_score_weighted_max\", \"stepped\": true, \"type\": \"scatter\", \"data\": [0.81, 0.85, 0.88, 0.88, 0.88, 0.88, 0.88, 0.88, 0.88, 0.88, 0.885, 0.885, 0.885, 0.885, 0.885, 0.885, 0.885, 0.885, 0.885, 0.885, 0.885, 0.885, 0.885, 0.885, 0.885, 0.885, 0.89, 0.89, 0.89, 0.89, 0.89, 0.895, 0.895]}], \"precision_score_micro\": [{\"categories\": [\"0\", \"1\", \"2\", \"3\", \"4\", \"5\", \"6\", \"7\", \"8\", \"9\", \"10\", \"11\", \"12\", \"13\", \"14\", \"15\", \"16\", \"17\", \"18\", \"19\", \"20\", \"21\", \"22\", \"23\", \"24\", \"25\", \"26\", \"27\", \"28\", \"29\", \"30\", \"31\", \"32\"], \"mode\": \"markers\", \"name\": \"precision_score_micro\", \"stepped\": false, \"type\": \"scatter\", \"data\": [0.81, 0.85, 0.88, 0.86, 0.85, 0.81, 0.86, 0.87, 0.86, 0.84, 0.885, 0.87, 0.8600000000000001, 0.85, 0.8400000000000001, 0.84, 0.84, 0.8, 0.88, 0.86, 0.85, 0.84, 0.85, 0.815, 0.86, 0.73, 0.89, 0.885, 0.855, 0.88, 0.71, 0.895, 0.87]}, {\"categories\": [\"0\", \"1\", \"2\", \"3\", \"4\", \"5\", \"6\", \"7\", \"8\", \"9\", \"10\", \"11\", \"12\", \"13\", \"14\", \"15\", \"16\", \"17\", \"18\", \"19\", \"20\", \"21\", \"22\", \"23\", \"24\", \"25\", \"26\", \"27\", \"28\", \"29\", \"30\", \"31\", \"32\"], \"mode\": \"lines\", \"name\": \"precision_score_micro_max\", \"stepped\": true, \"type\": \"scatter\", \"data\": [0.81, 0.85, 0.88, 0.88, 0.88, 0.88, 0.88, 0.88, 0.88, 0.88, 0.885, 0.885, 0.885, 0.885, 0.885, 0.885, 0.885, 0.885, 0.885, 0.885, 0.885, 0.885, 0.885, 0.885, 0.885, 0.885, 0.89, 0.89, 0.89, 0.89, 0.89, 0.895, 0.895]}], \"AUC_weighted\": [{\"categories\": [\"0\", \"1\", \"2\", \"3\", \"4\", \"5\", \"6\", \"7\", \"8\", \"9\", \"10\", \"11\", \"12\", \"13\", \"14\", \"15\", \"16\", \"17\", \"18\", \"19\", \"20\", \"21\", \"22\", \"23\", \"24\", \"25\", \"26\", \"27\", \"28\", \"29\", \"30\", \"31\", \"32\"], \"mode\": \"markers\", \"name\": \"AUC_weighted\", \"stepped\": false, \"type\": \"scatter\", \"data\": [0.8702254168690302, 0.9179087582969079, 0.9360037882467216, 0.9115241055528573, 0.9226469159786304, 0.8178362311801846, 0.9220324429334628, 0.9360704549133885, 0.9251802493119636, 0.9086707463169823, 0.9266542982030113, 0.9030628460417678, 0.920584490853165, 0.9152613890237979, 0.9129181155900923, 0.9208942852517403, 0.9004415088230533, 0.9116324429334628, 0.9042894609033512, 0.9041164319248826, 0.9043802493119637, 0.9070764448761535, 0.9193850736603529, 0.8935246883600454, 0.9015314877772381, 0.4714225028330905, 0.9293232313420754, 0.9386270357778856, 0.9045760077707625, 0.9354440666990449, 0.7079265015379634, 0.9365651934596082, 0.9313896066051481]}, {\"categories\": [\"0\", \"1\", \"2\", \"3\", \"4\", \"5\", \"6\", \"7\", \"8\", \"9\", \"10\", \"11\", \"12\", \"13\", \"14\", \"15\", \"16\", \"17\", \"18\", \"19\", \"20\", \"21\", \"22\", \"23\", \"24\", \"25\", \"26\", \"27\", \"28\", \"29\", \"30\", \"31\", \"32\"], \"mode\": \"lines\", \"name\": \"AUC_weighted_max\", \"stepped\": true, \"type\": \"scatter\", \"data\": [0.8702254168690302, 0.9179087582969079, 0.9360037882467216, 0.9360037882467216, 0.9360037882467216, 0.9360037882467216, 0.9360037882467216, 0.9360704549133885, 0.9360704549133885, 0.9360704549133885, 0.9360704549133885, 0.9360704549133885, 0.9360704549133885, 0.9360704549133885, 0.9360704549133885, 0.9360704549133885, 0.9360704549133885, 0.9360704549133885, 0.9360704549133885, 0.9360704549133885, 0.9360704549133885, 0.9360704549133885, 0.9360704549133885, 0.9360704549133885, 0.9360704549133885, 0.9360704549133885, 0.9360704549133885, 0.9386270357778856, 0.9386270357778856, 0.9386270357778856, 0.9386270357778856, 0.9386270357778856, 0.9386270357778856]}], \"f1_score_weighted\": [{\"categories\": [\"0\", \"1\", \"2\", \"3\", \"4\", \"5\", \"6\", \"7\", \"8\", \"9\", \"10\", \"11\", \"12\", \"13\", \"14\", \"15\", \"16\", \"17\", \"18\", \"19\", \"20\", \"21\", \"22\", \"23\", \"24\", \"25\", \"26\", \"27\", \"28\", \"29\", \"30\", \"31\", \"32\"], \"mode\": \"markers\", \"name\": \"f1_score_weighted\", \"stepped\": false, \"type\": \"scatter\", \"data\": [0.8046666666666666, 0.8489802626232374, 0.8768903672903672, 0.8495895800866766, 0.8409120999138161, 0.7948225374543934, 0.8557333333333332, 0.8615769081104333, 0.8588813681964367, 0.8335923633102154, 0.8816146861429135, 0.8619693812099418, 0.8450733173500289, 0.8469881107509855, 0.8178427550357376, 0.8287045144506836, 0.8361336260349418, 0.7588217576187101, 0.8735968379446641, 0.8539038584603802, 0.8466065142065142, 0.8399999999999999, 0.8452, 0.7867039934550288, 0.8557333333333332, 0.6162238930659982, 0.8873562310830372, 0.8810783361384116, 0.8489401782436747, 0.8756346655359812, 0.7182475540652089, 0.8904135071595736, 0.8657019961635928]}, {\"categories\": [\"0\", \"1\", \"2\", \"3\", \"4\", \"5\", \"6\", \"7\", \"8\", \"9\", \"10\", \"11\", \"12\", \"13\", \"14\", \"15\", \"16\", \"17\", \"18\", \"19\", \"20\", \"21\", \"22\", \"23\", \"24\", \"25\", \"26\", \"27\", \"28\", \"29\", \"30\", \"31\", \"32\"], \"mode\": \"lines\", \"name\": \"f1_score_weighted_max\", \"stepped\": true, \"type\": \"scatter\", \"data\": [0.8046666666666666, 0.8489802626232374, 0.8768903672903672, 0.8768903672903672, 0.8768903672903672, 0.8768903672903672, 0.8768903672903672, 0.8768903672903672, 0.8768903672903672, 0.8768903672903672, 0.8816146861429135, 0.8816146861429135, 0.8816146861429135, 0.8816146861429135, 0.8816146861429135, 0.8816146861429135, 0.8816146861429135, 0.8816146861429135, 0.8816146861429135, 0.8816146861429135, 0.8816146861429135, 0.8816146861429135, 0.8816146861429135, 0.8816146861429135, 0.8816146861429135, 0.8816146861429135, 0.8873562310830372, 0.8873562310830372, 0.8873562310830372, 0.8873562310830372, 0.8873562310830372, 0.8904135071595736, 0.8904135071595736]}], \"average_precision_score_weighted\": [{\"categories\": [\"0\", \"1\", \"2\", \"3\", \"4\", \"5\", \"6\", \"7\", \"8\", \"9\", \"10\", \"11\", \"12\", \"13\", \"14\", \"15\", \"16\", \"17\", \"18\", \"19\", \"20\", \"21\", \"22\", \"23\", \"24\", \"25\", \"26\", \"27\", \"28\", \"29\", \"30\", \"31\", \"32\"], \"mode\": \"markers\", \"name\": \"average_precision_score_weighted\", \"stepped\": false, \"type\": \"scatter\", \"data\": [0.8820937322303385, 0.9164363393885221, 0.938900212597785, 0.9088045368309934, 0.9192074959999613, 0.8539330913292018, 0.928614726909746, 0.9369253375363042, 0.9266789728896958, 0.9123825708299262, 0.9262062514416699, 0.906107952646027, 0.91308569407832, 0.9217923259694176, 0.9152457702984456, 0.9280603732389798, 0.9114877870408474, 0.920633327379621, 0.9152543880377104, 0.9094242272660586, 0.9085691745769375, 0.9129689651119832, 0.9225236672980609, 0.8956354919512196, 0.8977330411478099, 0.5998989233367923, 0.9338737719471921, 0.9369513791911597, 0.911035054723943, 0.9234216851347647, 0.7608135085143444, 0.9328067937943891, 0.9249793806926141]}, {\"categories\": [\"0\", \"1\", \"2\", \"3\", \"4\", \"5\", \"6\", \"7\", \"8\", \"9\", \"10\", \"11\", \"12\", \"13\", \"14\", \"15\", \"16\", \"17\", \"18\", \"19\", \"20\", \"21\", \"22\", \"23\", \"24\", \"25\", \"26\", \"27\", \"28\", \"29\", \"30\", \"31\", \"32\"], \"mode\": \"lines\", \"name\": \"average_precision_score_weighted_max\", \"stepped\": true, \"type\": \"scatter\", \"data\": [0.8820937322303385, 0.9164363393885221, 0.938900212597785, 0.938900212597785, 0.938900212597785, 0.938900212597785, 0.938900212597785, 0.938900212597785, 0.938900212597785, 0.938900212597785, 0.938900212597785, 0.938900212597785, 0.938900212597785, 0.938900212597785, 0.938900212597785, 0.938900212597785, 0.938900212597785, 0.938900212597785, 0.938900212597785, 0.938900212597785, 0.938900212597785, 0.938900212597785, 0.938900212597785, 0.938900212597785, 0.938900212597785, 0.938900212597785, 0.938900212597785, 0.938900212597785, 0.938900212597785, 0.938900212597785, 0.938900212597785, 0.938900212597785, 0.938900212597785]}], \"log_loss\": [{\"categories\": [\"0\", \"1\", \"2\", \"3\", \"4\", \"5\", \"6\", \"7\", \"8\", \"9\", \"10\", \"11\", \"12\", \"13\", \"14\", \"15\", \"16\", \"17\", \"18\", \"19\", \"20\", \"21\", \"22\", \"23\", \"24\", \"25\", \"26\", \"27\", \"28\", \"29\", \"30\", \"31\", \"32\"], \"mode\": \"markers\", \"name\": \"log_loss\", \"stepped\": false, \"type\": \"scatter\", \"data\": [0.4549031880038983, 0.357466519013178, 0.3040994957201383, 0.35969336738566626, 0.3332523838309457, 0.4457197648325195, 0.3236769665173399, 0.31957027365766333, 0.3373867798433216, 0.34868554187858614, 0.32082383424708183, 0.4016162947008164, 0.3712646867549989, 0.43146774258574905, 0.3838604749561487, 0.4624304803294636, 0.4186255087033828, 0.419605056391131, 0.3718468481930039, 0.40780216743533515, 0.3483577513577395, 0.3522071617223231, 0.336540725879334, 0.4184250263701142, 0.3595447058422726, 0.5957629351616451, 0.31053932790856, 0.3139738711847587, 0.355965240187864, 0.7604635982294599, 0.6490344025892427, 0.3145726153867896, 0.34674067145108756]}, {\"categories\": [\"0\", \"1\", \"2\", \"3\", \"4\", \"5\", \"6\", \"7\", \"8\", \"9\", \"10\", \"11\", \"12\", \"13\", \"14\", \"15\", \"16\", \"17\", \"18\", \"19\", \"20\", \"21\", \"22\", \"23\", \"24\", \"25\", \"26\", \"27\", \"28\", \"29\", \"30\", \"31\", \"32\"], \"mode\": \"lines\", \"name\": \"log_loss_min\", \"stepped\": true, \"type\": \"scatter\", \"data\": [0.4549031880038983, 0.357466519013178, 0.3040994957201383, 0.3040994957201383, 0.3040994957201383, 0.3040994957201383, 0.3040994957201383, 0.3040994957201383, 0.3040994957201383, 0.3040994957201383, 0.3040994957201383, 0.3040994957201383, 0.3040994957201383, 0.3040994957201383, 0.3040994957201383, 0.3040994957201383, 0.3040994957201383, 0.3040994957201383, 0.3040994957201383, 0.3040994957201383, 0.3040994957201383, 0.3040994957201383, 0.3040994957201383, 0.3040994957201383, 0.3040994957201383, 0.3040994957201383, 0.3040994957201383, 0.3040994957201383, 0.3040994957201383, 0.3040994957201383, 0.3040994957201383, 0.3040994957201383, 0.3040994957201383]}], \"matthews_correlation\": [{\"categories\": [\"0\", \"1\", \"2\", \"3\", \"4\", \"5\", \"6\", \"7\", \"8\", \"9\", \"10\", \"11\", \"12\", \"13\", \"14\", \"15\", \"16\", \"17\", \"18\", \"19\", \"20\", \"21\", \"22\", \"23\", \"24\", \"25\", \"26\", \"27\", \"28\", \"29\", \"30\", \"31\", \"32\"], \"mode\": \"markers\", \"name\": \"matthews_correlation\", \"stepped\": false, \"type\": \"scatter\", \"data\": [0.5010440091219422, 0.6169495625236554, 0.6928339076073127, 0.6392867020204145, 0.602185100541055, 0.485198027829631, 0.6351504084759135, 0.6630424367644, 0.6436265762213762, 0.5832394205650402, 0.7024264383654137, 0.6589580582491181, 0.6335093287596787, 0.6092812093680038, 0.5742003745048971, 0.5636205141120302, 0.5893261109268605, 0.44627221202934464, 0.6913993079895209, 0.6282576253332539, 0.6137624202876022, 0.5980108411766503, 0.6080972087989278, 0.4886409005540659, 0.6351504084759135, 0.0, 0.7174043418366816, 0.7062067323891684, 0.6219424016429814, 0.6933626862123099, 0.31415128843727436, 0.729337146311738, 0.6639179852874251]}, {\"categories\": [\"0\", \"1\", \"2\", \"3\", \"4\", \"5\", \"6\", \"7\", \"8\", \"9\", \"10\", \"11\", \"12\", \"13\", \"14\", \"15\", \"16\", \"17\", \"18\", \"19\", \"20\", \"21\", \"22\", \"23\", \"24\", \"25\", \"26\", \"27\", \"28\", \"29\", \"30\", \"31\", \"32\"], \"mode\": \"lines\", \"name\": \"matthews_correlation_max\", \"stepped\": true, \"type\": \"scatter\", \"data\": [0.5010440091219422, 0.6169495625236554, 0.6928339076073127, 0.6928339076073127, 0.6928339076073127, 0.6928339076073127, 0.6928339076073127, 0.6928339076073127, 0.6928339076073127, 0.6928339076073127, 0.7024264383654137, 0.7024264383654137, 0.7024264383654137, 0.7024264383654137, 0.7024264383654137, 0.7024264383654137, 0.7024264383654137, 0.7024264383654137, 0.7024264383654137, 0.7024264383654137, 0.7024264383654137, 0.7024264383654137, 0.7024264383654137, 0.7024264383654137, 0.7024264383654137, 0.7024264383654137, 0.7174043418366816, 0.7174043418366816, 0.7174043418366816, 0.7174043418366816, 0.7174043418366816, 0.729337146311738, 0.729337146311738]}], \"recall_score_micro\": [{\"categories\": [\"0\", \"1\", \"2\", \"3\", \"4\", \"5\", \"6\", \"7\", \"8\", \"9\", \"10\", \"11\", \"12\", \"13\", \"14\", \"15\", \"16\", \"17\", \"18\", \"19\", \"20\", \"21\", \"22\", \"23\", \"24\", \"25\", \"26\", \"27\", \"28\", \"29\", \"30\", \"31\", \"32\"], \"mode\": \"markers\", \"name\": \"recall_score_micro\", \"stepped\": false, \"type\": \"scatter\", \"data\": [0.81, 0.85, 0.88, 0.86, 0.85, 0.81, 0.86, 0.87, 0.86, 0.84, 0.885, 0.87, 0.8600000000000001, 0.85, 0.8400000000000001, 0.84, 0.84, 0.8, 0.88, 0.86, 0.85, 0.84, 0.85, 0.815, 0.86, 0.73, 0.89, 0.885, 0.855, 0.88, 0.71, 0.895, 0.87]}, {\"categories\": [\"0\", \"1\", \"2\", \"3\", \"4\", \"5\", \"6\", \"7\", \"8\", \"9\", \"10\", \"11\", \"12\", \"13\", \"14\", \"15\", \"16\", \"17\", \"18\", \"19\", \"20\", \"21\", \"22\", \"23\", \"24\", \"25\", \"26\", \"27\", \"28\", \"29\", \"30\", \"31\", \"32\"], \"mode\": \"lines\", \"name\": \"recall_score_micro_max\", \"stepped\": true, \"type\": \"scatter\", \"data\": [0.81, 0.85, 0.88, 0.88, 0.88, 0.88, 0.88, 0.88, 0.88, 0.88, 0.885, 0.885, 0.885, 0.885, 0.885, 0.885, 0.885, 0.885, 0.885, 0.885, 0.885, 0.885, 0.885, 0.885, 0.885, 0.885, 0.89, 0.89, 0.89, 0.89, 0.89, 0.895, 0.895]}], \"weighted_accuracy\": [{\"categories\": [\"0\", \"1\", \"2\", \"3\", \"4\", \"5\", \"6\", \"7\", \"8\", \"9\", \"10\", \"11\", \"12\", \"13\", \"14\", \"15\", \"16\", \"17\", \"18\", \"19\", \"20\", \"21\", \"22\", \"23\", \"24\", \"25\", \"26\", \"27\", \"28\", \"29\", \"30\", \"31\", \"32\"], \"mode\": \"markers\", \"name\": \"weighted_accuracy\", \"stepped\": false, \"type\": \"scatter\", \"data\": [0.8572757565453928, 0.8791009860591636, 0.9107772866371984, 0.9085222713362802, 0.9009166950017001, 0.8755212512750765, 0.8982767766065964, 0.9129520571234275, 0.8871363481808909, 0.8853818429105746, 0.916741924515471, 0.917417205032302, 0.9155919755185312, 0.8866712002720163, 0.9021965317919076, 0.9018469908194492, 0.882347500850051, 0.8968364501870113, 0.9219177150629039, 0.9062767766065964, 0.8862767766065964, 0.8671363481808909, 0.8897762665759946, 0.9050914654879294, 0.8982767766065964, 0.8785107106426386, 0.9192424345460728, 0.9208480108806529, 0.8953464807888474, 0.914347500850051, 0.7420292417545054, 0.932848010880653, 0.9063121387283237]}, {\"categories\": [\"0\", \"1\", \"2\", \"3\", \"4\", \"5\", \"6\", \"7\", \"8\", \"9\", \"10\", \"11\", \"12\", \"13\", \"14\", \"15\", \"16\", \"17\", \"18\", \"19\", \"20\", \"21\", \"22\", \"23\", \"24\", \"25\", \"26\", \"27\", \"28\", \"29\", \"30\", \"31\", \"32\"], \"mode\": \"lines\", \"name\": \"weighted_accuracy_max\", \"stepped\": true, \"type\": \"scatter\", \"data\": [0.8572757565453928, 0.8791009860591636, 0.9107772866371984, 0.9107772866371984, 0.9107772866371984, 0.9107772866371984, 0.9107772866371984, 0.9129520571234275, 0.9129520571234275, 0.9129520571234275, 0.916741924515471, 0.917417205032302, 0.917417205032302, 0.917417205032302, 0.917417205032302, 0.917417205032302, 0.917417205032302, 0.917417205032302, 0.9219177150629039, 0.9219177150629039, 0.9219177150629039, 0.9219177150629039, 0.9219177150629039, 0.9219177150629039, 0.9219177150629039, 0.9219177150629039, 0.9219177150629039, 0.9219177150629039, 0.9219177150629039, 0.9219177150629039, 0.9219177150629039, 0.932848010880653, 0.932848010880653]}], \"balanced_accuracy\": [{\"categories\": [\"0\", \"1\", \"2\", \"3\", \"4\", \"5\", \"6\", \"7\", \"8\", \"9\", \"10\", \"11\", \"12\", \"13\", \"14\", \"15\", \"16\", \"17\", \"18\", \"19\", \"20\", \"21\", \"22\", \"23\", \"24\", \"25\", \"26\", \"27\", \"28\", \"29\", \"30\", \"31\", \"32\"], \"mode\": \"markers\", \"name\": \"balanced_accuracy\", \"stepped\": false, \"type\": \"scatter\", \"data\": [0.7381835842642059, 0.8058118827909988, 0.8346090335114134, 0.788547838756678, 0.773459608224057, 0.710930872591873, 0.8024672170956775, 0.8069807349846204, 0.8193330095515622, 0.7720802978792294, 0.8377545734175166, 0.7989347579731261, 0.7779731261129998, 0.7940456532297232, 0.7487777238141493, 0.7440343208677351, 0.776176137283471, 0.6531034482758621, 0.8177432410555285, 0.7891338837623442, 0.7958005504290109, 0.7993330095515623, 0.7903254006799417, 0.6758313096972641, 0.8024672170956775, 0.5, 0.846563056499919, 0.8316512870325401, 0.7952258377853327, 0.8295094706168042, 0.6611526631050672, 0.8383179536992067, 0.815988343856241]}, {\"categories\": [\"0\", \"1\", \"2\", \"3\", \"4\", \"5\", \"6\", \"7\", \"8\", \"9\", \"10\", \"11\", \"12\", \"13\", \"14\", \"15\", \"16\", \"17\", \"18\", \"19\", \"20\", \"21\", \"22\", \"23\", \"24\", \"25\", \"26\", \"27\", \"28\", \"29\", \"30\", \"31\", \"32\"], \"mode\": \"lines\", \"name\": \"balanced_accuracy_max\", \"stepped\": true, \"type\": \"scatter\", \"data\": [0.7381835842642059, 0.8058118827909988, 0.8346090335114134, 0.8346090335114134, 0.8346090335114134, 0.8346090335114134, 0.8346090335114134, 0.8346090335114134, 0.8346090335114134, 0.8346090335114134, 0.8377545734175166, 0.8377545734175166, 0.8377545734175166, 0.8377545734175166, 0.8377545734175166, 0.8377545734175166, 0.8377545734175166, 0.8377545734175166, 0.8377545734175166, 0.8377545734175166, 0.8377545734175166, 0.8377545734175166, 0.8377545734175166, 0.8377545734175166, 0.8377545734175166, 0.8377545734175166, 0.846563056499919, 0.846563056499919, 0.846563056499919, 0.846563056499919, 0.846563056499919, 0.846563056499919, 0.846563056499919]}], \"AUC_micro\": [{\"categories\": [\"0\", \"1\", \"2\", \"3\", \"4\", \"5\", \"6\", \"7\", \"8\", \"9\", \"10\", \"11\", \"12\", \"13\", \"14\", \"15\", \"16\", \"17\", \"18\", \"19\", \"20\", \"21\", \"22\", \"23\", \"24\", \"25\", \"26\", \"27\", \"28\", \"29\", \"30\", \"31\", \"32\"], \"mode\": \"markers\", \"name\": \"AUC_micro\", \"stepped\": false, \"type\": \"scatter\", \"data\": [0.9059999999999999, 0.9322999999999999, 0.94935, 0.9275500000000001, 0.93515, 0.8730249999999999, 0.9380999999999999, 0.9472, 0.9394, 0.9263000000000001, 0.9411, 0.9214, 0.9264999999999999, 0.9344000000000001, 0.9187000000000001, 0.9298, 0.9177, 0.9079999999999999, 0.9204, 0.9222, 0.9296, 0.9254, 0.9327999999999999, 0.9051, 0.9259999999999999, 0.7178, 0.9484, 0.9479500000000001, 0.9258, 0.94055, 0.73975, 0.94675, 0.9435]}, {\"categories\": [\"0\", \"1\", \"2\", \"3\", \"4\", \"5\", \"6\", \"7\", \"8\", \"9\", \"10\", \"11\", \"12\", \"13\", \"14\", \"15\", \"16\", \"17\", \"18\", \"19\", \"20\", \"21\", \"22\", \"23\", \"24\", \"25\", \"26\", \"27\", \"28\", \"29\", \"30\", \"31\", \"32\"], \"mode\": \"lines\", \"name\": \"AUC_micro_max\", \"stepped\": true, \"type\": \"scatter\", \"data\": [0.9059999999999999, 0.9322999999999999, 0.94935, 0.94935, 0.94935, 0.94935, 0.94935, 0.94935, 0.94935, 0.94935, 0.94935, 0.94935, 0.94935, 0.94935, 0.94935, 0.94935, 0.94935, 0.94935, 0.94935, 0.94935, 0.94935, 0.94935, 0.94935, 0.94935, 0.94935, 0.94935, 0.94935, 0.94935, 0.94935, 0.94935, 0.94935, 0.94935, 0.94935]}]}, \"metricName\": null, \"primaryMetricName\": \"accuracy\", \"showLegend\": false}, \"run_metrics\": [{\"name\": \"f1_score_weighted\", \"run_id\": \"AutoML_7cc14aee-89e5-4bea-bbd3-96e12e64422c\", \"categories\": [0], \"series\": [{\"data\": [0.8904135071595736]}]}, {\"name\": \"accuracy\", \"run_id\": \"AutoML_7cc14aee-89e5-4bea-bbd3-96e12e64422c\", \"categories\": [0], \"series\": [{\"data\": [0.895]}]}, {\"name\": \"recall_score_macro\", \"run_id\": \"AutoML_7cc14aee-89e5-4bea-bbd3-96e12e64422c\", \"categories\": [0], \"series\": [{\"data\": [0.8383179536992067]}]}, {\"name\": \"average_precision_score_weighted\", \"run_id\": \"AutoML_7cc14aee-89e5-4bea-bbd3-96e12e64422c\", \"categories\": [0], \"series\": [{\"data\": [0.9328067937943891]}]}, {\"name\": \"log_loss\", \"run_id\": \"AutoML_7cc14aee-89e5-4bea-bbd3-96e12e64422c\", \"categories\": [0], \"series\": [{\"data\": [0.3145726153867896]}]}, {\"name\": \"AUC_weighted\", \"run_id\": \"AutoML_7cc14aee-89e5-4bea-bbd3-96e12e64422c\", \"categories\": [0], \"series\": [{\"data\": [0.9365651934596082]}]}, {\"name\": \"AUC_macro\", \"run_id\": \"AutoML_7cc14aee-89e5-4bea-bbd3-96e12e64422c\", \"categories\": [0], \"series\": [{\"data\": [0.9365651934596082]}]}, {\"name\": \"recall_score_weighted\", \"run_id\": \"AutoML_7cc14aee-89e5-4bea-bbd3-96e12e64422c\", \"categories\": [0], \"series\": [{\"data\": [0.895]}]}, {\"name\": \"precision_score_weighted\", \"run_id\": \"AutoML_7cc14aee-89e5-4bea-bbd3-96e12e64422c\", \"categories\": [0], \"series\": [{\"data\": [0.8986541585445093]}]}, {\"name\": \"precision_score_micro\", \"run_id\": \"AutoML_7cc14aee-89e5-4bea-bbd3-96e12e64422c\", \"categories\": [0], \"series\": [{\"data\": [0.895]}]}, {\"name\": \"AUC_micro\", \"run_id\": \"AutoML_7cc14aee-89e5-4bea-bbd3-96e12e64422c\", \"categories\": [0], \"series\": [{\"data\": [0.94675]}]}, {\"name\": \"average_precision_score_macro\", \"run_id\": \"AutoML_7cc14aee-89e5-4bea-bbd3-96e12e64422c\", \"categories\": [0], \"series\": [{\"data\": [0.8938443982742352]}]}, {\"name\": \"f1_score_micro\", \"run_id\": \"AutoML_7cc14aee-89e5-4bea-bbd3-96e12e64422c\", \"categories\": [0], \"series\": [{\"data\": [0.895]}]}, {\"name\": \"weighted_accuracy\", \"run_id\": \"AutoML_7cc14aee-89e5-4bea-bbd3-96e12e64422c\", \"categories\": [0], \"series\": [{\"data\": [0.932848010880653]}]}, {\"name\": \"matthews_correlation\", \"run_id\": \"AutoML_7cc14aee-89e5-4bea-bbd3-96e12e64422c\", \"categories\": [0], \"series\": [{\"data\": [0.729337146311738]}]}, {\"name\": \"balanced_accuracy\", \"run_id\": \"AutoML_7cc14aee-89e5-4bea-bbd3-96e12e64422c\", \"categories\": [0], \"series\": [{\"data\": [0.8383179536992067]}]}, {\"name\": \"precision_score_macro\", \"run_id\": \"AutoML_7cc14aee-89e5-4bea-bbd3-96e12e64422c\", \"categories\": [0], \"series\": [{\"data\": [0.894777452891488]}]}, {\"name\": \"recall_score_micro\", \"run_id\": \"AutoML_7cc14aee-89e5-4bea-bbd3-96e12e64422c\", \"categories\": [0], \"series\": [{\"data\": [0.895]}]}, {\"name\": \"norm_macro_recall\", \"run_id\": \"AutoML_7cc14aee-89e5-4bea-bbd3-96e12e64422c\", \"categories\": [0], \"series\": [{\"data\": [0.6766359073984134]}]}, {\"name\": \"average_precision_score_micro\", \"run_id\": \"AutoML_7cc14aee-89e5-4bea-bbd3-96e12e64422c\", \"categories\": [0], \"series\": [{\"data\": [0.948647454638496]}]}, {\"name\": \"f1_score_macro\", \"run_id\": \"AutoML_7cc14aee-89e5-4bea-bbd3-96e12e64422c\", \"categories\": [0], \"series\": [{\"data\": [0.8569441282961425]}]}], \"run_logs\": \"\\nRun is completed.\", \"graph\": {}, \"widget_settings\": {\"childWidgetDisplay\": \"popup\", \"send_telemetry\": false, \"log_level\": \"INFO\", \"sdk_version\": \"1.20.0\"}, \"loading\": false}"
          },
          "metadata": {}
        }
      ],
      "execution_count": 18,
      "metadata": {
        "collapsed": true,
        "jupyter": {
          "source_hidden": false,
          "outputs_hidden": false
        },
        "nteract": {
          "transient": {
            "deleting": false
          }
        },
        "gather": {
          "logged": 1613551127019
        }
      }
    },
    {
      "cell_type": "code",
      "source": [
        "best_run, fitted_model = remote_run.get_output()"
      ],
      "outputs": [],
      "execution_count": 20,
      "metadata": {
        "collapsed": true,
        "jupyter": {
          "source_hidden": false,
          "outputs_hidden": false
        },
        "nteract": {
          "transient": {
            "deleting": false
          }
        },
        "gather": {
          "logged": 1613551186088
        }
      }
    },
    {
      "cell_type": "code",
      "source": [
        "import joblib\r\n",
        "import os\r\n",
        "\r\n",
        "os.makedirs('outputs', exist_ok=True)\r\n",
        "\r\n",
        "# best_run.download_file('outputs/model.joblib', 'model.joblib')"
      ],
      "outputs": [],
      "execution_count": 21,
      "metadata": {
        "collapsed": true,
        "jupyter": {
          "source_hidden": false,
          "outputs_hidden": false
        },
        "nteract": {
          "transient": {
            "deleting": false
          }
        },
        "gather": {
          "logged": 1613551202652
        }
      }
    },
    {
      "cell_type": "code",
      "source": [
        "# joblib.dump(value=best_run, filename=\"outputs/model.joblib\")\r\n",
        "best_run.download_file('outputs/model.pkl', 'model.joblib')"
      ],
      "outputs": [],
      "execution_count": 22,
      "metadata": {
        "collapsed": true,
        "jupyter": {
          "source_hidden": false,
          "outputs_hidden": false
        },
        "nteract": {
          "transient": {
            "deleting": false
          }
        },
        "gather": {
          "logged": 1613551213775
        }
      }
    },
    {
      "cell_type": "code",
      "source": [
        "joblib.load(filename='outputs/model.joblib')"
      ],
      "outputs": [
        {
          "output_type": "execute_result",
          "execution_count": 23,
          "data": {
            "text/plain": "Pipeline(memory=None,\n         steps=[('datatransformer',\n                 DataTransformer(enable_dnn=None, enable_feature_sweeping=None,\n                                 feature_sweeping_config=None,\n                                 feature_sweeping_timeout=None,\n                                 featurization_config=None, force_text_dnn=None,\n                                 is_cross_validation=None,\n                                 is_onnx_compatible=None, logger=None,\n                                 observer=None, task=None, working_dir=None)),\n                ('prefittedsoftvotingclassifier',...\n                                                                                                  min_impurity_split=None,\n                                                                                                  min_samples_leaf=0.06157894736842105,\n                                                                                                  min_samples_split=0.01,\n                                                                                                  min_weight_fraction_leaf=0.0,\n                                                                                                  n_estimators=400,\n                                                                                                  n_jobs=1,\n                                                                                                  oob_score=False,\n                                                                                                  random_state=None,\n                                                                                                  verbose=0,\n                                                                                                  warm_start=False))],\n                                                                     verbose=False))],\n                                               flatten_transform=None,\n                                               weights=[0.14285714285714285,\n                                                        0.14285714285714285,\n                                                        0.2857142857142857,\n                                                        0.14285714285714285,\n                                                        0.2857142857142857]))],\n         verbose=False)"
          },
          "metadata": {}
        }
      ],
      "execution_count": 23,
      "metadata": {
        "gather": {
          "logged": 1613551286870
        },
        "jupyter": {
          "outputs_hidden": false,
          "source_hidden": false
        },
        "nteract": {
          "transient": {
            "deleting": false
          }
        }
      }
    },
    {
      "cell_type": "code",
      "source": [
        "from azureml.core.model import Model\r\n",
        "model = Model.register(model_name='automl-model', model_path='outputs/model.joblib', workspace=ws)"
      ],
      "outputs": [
        {
          "output_type": "stream",
          "name": "stdout",
          "text": [
            "Registering model automl-model\n"
          ]
        }
      ],
      "execution_count": 24,
      "metadata": {
        "collapsed": true,
        "jupyter": {
          "source_hidden": false,
          "outputs_hidden": false
        },
        "nteract": {
          "transient": {
            "deleting": false
          }
        },
        "gather": {
          "logged": 1613551312607
        }
      }
    },
    {
      "cell_type": "code",
      "source": [
        "import sklearn\r\n",
        "\r\n",
        "from azureml.core.environment import Environment\r\n",
        "\r\n",
        "environment = Environment(\"LocalDeploy\")\r\n",
        "environment.python.conda_dependencies.add_pip_package(\"inference-schema[numpy-support]\")\r\n",
        "environment.python.conda_dependencies.add_pip_package(\"joblib\")\r\n",
        "environment.python.conda_dependencies.add_pip_package(\"scikit-learn=={}\".format(sklearn.__version__))"
      ],
      "outputs": [],
      "execution_count": 25,
      "metadata": {
        "collapsed": true,
        "jupyter": {
          "source_hidden": false,
          "outputs_hidden": false
        },
        "nteract": {
          "transient": {
            "deleting": false
          }
        },
        "gather": {
          "logged": 1613551321755
        }
      }
    },
    {
      "cell_type": "code",
      "source": [
        "%%writefile score.py\r\n",
        "\r\n",
        "import json\r\n",
        "import numpy as np\r\n",
        "import pandas as pd\r\n",
        "import os\r\n",
        "from sklearn.externals import joblib\r\n",
        "def init():\r\n",
        "    global model\r\n",
        "    model_path = os.path.join(os.getenv('AZUREML_MODEL_DIR'), 'outputs/model.joblib')\r\n",
        "    print(\"Found model:\", os.path.isfile(model_path)) #To check whether the model is actually present on the location we are looking at\r\n",
        "    model = joblib.load(model_path)\r\n",
        "def run(data):\r\n",
        "    try:\r\n",
        "        data = json.loads(data)['data']\r\n",
        "        data = pd.DataFrame.from_dict(data)\r\n",
        "        result = model.predict(data)\r\n",
        "        return result.tolist()\r\n",
        "    except Exception as e:\r\n",
        "        error = str(e)\r\n",
        "        return error"
      ],
      "outputs": [
        {
          "output_type": "stream",
          "name": "stdout",
          "text": [
            "Writing score.py\n"
          ]
        }
      ],
      "execution_count": 26,
      "metadata": {
        "collapsed": true,
        "jupyter": {
          "source_hidden": false,
          "outputs_hidden": false
        },
        "nteract": {
          "transient": {
            "deleting": false
          }
        },
        "gather": {
          "logged": 1613234575411
        }
      }
    },
    {
      "cell_type": "code",
      "source": [
        "model"
      ],
      "outputs": [
        {
          "output_type": "execute_result",
          "execution_count": 27,
          "data": {
            "text/plain": "Model(workspace=Workspace.create(name='quick-starts-ws-139064', subscription_id='81cefad3-d2c9-4f77-a466-99a7f541c7bb', resource_group='aml-quickstarts-139064'), name=automl-model, id=automl-model:1, version=1, tags={}, properties={})"
          },
          "metadata": {}
        }
      ],
      "execution_count": 27,
      "metadata": {
        "collapsed": true,
        "jupyter": {
          "source_hidden": false,
          "outputs_hidden": false
        },
        "nteract": {
          "transient": {
            "deleting": false
          }
        },
        "gather": {
          "logged": 1613551352648
        }
      }
    },
    {
      "cell_type": "markdown",
      "source": [
        "## Best Model\n",
        "\n",
        "TODO: In the cell below, get the best model from the automl experiments and display all the properties of the model.\n",
        "\n"
      ],
      "metadata": {}
    },
    {
      "cell_type": "code",
      "source": [
        "from azureml.core.webservice import LocalWebservice\r\n",
        "from azureml.core.model import InferenceConfig\r\n",
        "inference_config = InferenceConfig(entry_script='score.py', environment=environment) \r\n",
        "\r\n",
        "# This is optional, if not provided Docker will choose a random unused port.\r\n",
        "deployment_config = LocalWebservice.deploy_configuration(port=1234)\r\n",
        "\r\n",
        "local_service = Model.deploy(ws, \"deploy\", [model], inference_config, deployment_config)\r\n",
        "\r\n",
        "local_service.wait_for_deployment()"
      ],
      "outputs": [
        {
          "output_type": "stream",
          "name": "stdout",
          "text": [
            "Downloading model automl-model:1 to /tmp/azureml_iao3fbz0/automl-model/1\n",
            "Generating Docker build context.\n",
            "2021/02/17 08:42:58 Downloading source code...\n",
            "2021/02/17 08:42:59 Finished downloading source code\n",
            "2021/02/17 08:43:00 Creating Docker network: acb_default_network, driver: 'bridge'\n",
            "2021/02/17 08:43:00 Successfully set up Docker network: acb_default_network\n",
            "2021/02/17 08:43:00 Setting up Docker configuration...\n",
            "2021/02/17 08:43:01 Successfully set up Docker configuration\n",
            "2021/02/17 08:43:01 Logging in to registry: c692fa426f3149bb983af57e192d930e.azurecr.io\n",
            "2021/02/17 08:43:02 Successfully logged into c692fa426f3149bb983af57e192d930e.azurecr.io\n",
            "2021/02/17 08:43:02 Executing step ID: acb_step_0. Timeout(sec): 5400, Working directory: '', Network: 'acb_default_network'\n",
            "2021/02/17 08:43:02 Scanning for dependencies...\n",
            "2021/02/17 08:43:03 Successfully scanned dependencies\n",
            "2021/02/17 08:43:03 Launching container with name: acb_step_0\n",
            "Sending build context to Docker daemon  65.02kB\n",
            "Step 1/15 : FROM mcr.microsoft.com/azureml/intelmpi2018.3-ubuntu16.04:20210104.v1@sha256:81ca5cdfeefc2a25afff41e66151e97b8a36c0a43d0cd0056af26f01dd37885e\n",
            "sha256:81ca5cdfeefc2a25afff41e66151e97b8a36c0a43d0cd0056af26f01dd37885e: Pulling from azureml/intelmpi2018.3-ubuntu16.04\n",
            "Digest: sha256:81ca5cdfeefc2a25afff41e66151e97b8a36c0a43d0cd0056af26f01dd37885e\n",
            "Status: Downloaded newer image for mcr.microsoft.com/azureml/intelmpi2018.3-ubuntu16.04:20210104.v1@sha256:81ca5cdfeefc2a25afff41e66151e97b8a36c0a43d0cd0056af26f01dd37885e\n",
            " ---> 138ae4912094\n",
            "Step 2/15 : USER root\n",
            " ---> Running in 23bb3006c6b1\n",
            "Removing intermediate container 23bb3006c6b1\n",
            " ---> fd4578d170f5\n",
            "Step 3/15 : RUN mkdir -p $HOME/.cache\n",
            " ---> Running in 1d46303412e0\n",
            "Removing intermediate container 1d46303412e0\n",
            " ---> a38361656f6a\n",
            "Step 4/15 : WORKDIR /\n",
            " ---> Running in 4789173aaae3\n",
            "Removing intermediate container 4789173aaae3\n",
            " ---> 5b6532f0a868\n",
            "Step 5/15 : COPY azureml-environment-setup/99brokenproxy /etc/apt/apt.conf.d/\n",
            " ---> 88687f905644\n",
            "Step 6/15 : RUN if dpkg --compare-versions `conda --version | grep -oE '[^ ]+$'` lt 4.4.11; then conda install conda==4.4.11; fi\n",
            " ---> Running in dbdbef431838\n",
            "Removing intermediate container dbdbef431838\n",
            " ---> 3000f2f76ae0\n",
            "Step 7/15 : COPY azureml-environment-setup/mutated_conda_dependencies.yml azureml-environment-setup/mutated_conda_dependencies.yml\n",
            " ---> c833e58e5bdf\n",
            "Step 8/15 : RUN ldconfig /usr/local/cuda/lib64/stubs && conda env create -p /azureml-envs/azureml_c6bf3e53b0b53065cb9df10251065eb1 -f azureml-environment-setup/mutated_conda_dependencies.yml && rm -rf \"$HOME/.cache/pip\" && conda clean -aqy && CONDA_ROOT_DIR=$(conda info --root) && rm -rf \"$CONDA_ROOT_DIR/pkgs\" && find \"$CONDA_ROOT_DIR\" -type d -name __pycache__ -exec rm -rf {} + && ldconfig\n",
            " ---> Running in dfe9512820b5\n",
            "Warning: you have pip-installed dependencies in your environment file, but you do not list pip itself as one of your conda dependencies.  Conda may not use the correct pip to install your packages, and they may end up in the wrong place.  Please add an explicit pip dependency.  I'm adding one for you, but still nagging you.\n",
            "Collecting package metadata (repodata.json): ...working... \n",
            "done\n",
            "Solving environment: ...working... done\n",
            "\n",
            "Downloading and Extracting Packages\n",
            "libstdcxx-ng-9.1.0   | 4.0 MB    | ########## | 100% \n",
            "libffi-3.2.1         | 52 KB     | ########## | 100% \n",
            "zlib-1.2.11          | 120 KB    | ########## | 100% \n",
            "ca-certificates-2020 | 128 KB    | ########## | 100% \n",
            "ncurses-6.0          | 907 KB    | ########## | 100% \n",
            "readline-7.0         | 387 KB    | ########## | 100% \n",
            "setuptools-50.3.0    | 891 KB    | ########## | 100% \n",
            "xz-5.2.5             | 438 KB    | ########## | 100% \n",
            "libgcc-ng-9.1.0      | 8.1 MB    | ########## | 100% \n",
            "tk-8.6.10            | 3.2 MB    | ########## | 100% \n",
            "sqlite-3.23.1        | 1.5 MB    | ########## | 100% \n",
            "wheel-0.35.1         | 36 KB     | ########## | 100% \n",
            "openssl-1.0.2u       | 3.1 MB    | ########## | 100% \n",
            "certifi-2020.6.20    | 160 KB    | ########## | 100% \n",
            "libedit-3.1          | 171 KB    | ########## | 100% \n",
            "pip-20.2.4           | 2.0 MB    | ########## | 100% \n",
            "python-3.6.2         | 27.0 MB   | ########## | 100% \n",
            "Preparing transaction: ...working... done\n",
            "Verifying transaction: ...working... done\n",
            "Executing transaction: ...working... done\n",
            "Ran pip subprocess with arguments:\n",
            "['/azureml-envs/azureml_c6bf3e53b0b53065cb9df10251065eb1/bin/python', '-m', 'pip', 'install', '-U', '-r', '/azureml-environment-setup/condaenv.69okyjzp.requirements.txt']\n",
            "Pip subprocess output:\n",
            "Collecting azureml-defaults\n",
            "  Downloading azureml_defaults-1.22.0-py3-none-any.whl (3.1 kB)\n",
            "Collecting inference-schema[numpy-support]\n",
            "  Downloading inference_schema-1.1.0-py3-none-any.whl (19 kB)\n",
            "Collecting joblib\n",
            "  Downloading joblib-1.0.1-py3-none-any.whl (303 kB)\n",
            "Collecting scikit-learn==0.22.2.post1\n",
            "  Downloading scikit_learn-0.22.2.post1-cp36-cp36m-manylinux1_x86_64.whl (7.1 MB)\n",
            "Collecting configparser==3.7.4\n",
            "  Downloading configparser-3.7.4-py2.py3-none-any.whl (22 kB)\n",
            "Collecting werkzeug<=1.0.1,>=0.16.1\n",
            "  Downloading Werkzeug-1.0.1-py2.py3-none-any.whl (298 kB)\n",
            "Collecting flask==1.0.3\n",
            "  Downloading Flask-1.0.3-py2.py3-none-any.whl (92 kB)\n",
            "Collecting applicationinsights>=0.11.7\n",
            "  Downloading applicationinsights-0.11.9-py2.py3-none-any.whl (58 kB)\n",
            "Collecting azureml-model-management-sdk==1.0.1b6.post1\n",
            "  Downloading azureml_model_management_sdk-1.0.1b6.post1-py2.py3-none-any.whl (130 kB)\n",
            "Collecting azureml-dataset-runtime[fuse]~=1.22.0\n",
            "  Downloading azureml_dataset_runtime-1.22.0-py3-none-any.whl (3.4 kB)\n",
            "Collecting gunicorn==19.9.0\n",
            "  Downloading gunicorn-19.9.0-py2.py3-none-any.whl (112 kB)\n",
            "Collecting json-logging-py==0.2\n",
            "  Downloading json-logging-py-0.2.tar.gz (3.6 kB)\n",
            "Collecting azureml-core~=1.22.0\n",
            "  Downloading azureml_core-1.22.0-py3-none-any.whl (2.1 MB)\n",
            "Collecting pytz>=2017.2\n",
            "  Downloading pytz-2021.1-py2.py3-none-any.whl (510 kB)\n",
            "Collecting wrapt==1.11.1\n",
            "  Downloading wrapt-1.11.1.tar.gz (27 kB)\n",
            "Collecting python-dateutil>=2.5.3\n",
            "  Downloading python_dateutil-2.8.1-py2.py3-none-any.whl (227 kB)\n",
            "Collecting numpy>=1.13.0; extra == \"numpy-support\"\n",
            "  Downloading numpy-1.19.5-cp36-cp36m-manylinux2010_x86_64.whl (14.8 MB)\n",
            "Collecting scipy>=0.17.0\n",
            "  Downloading scipy-1.5.4-cp36-cp36m-manylinux1_x86_64.whl (25.9 MB)\n",
            "Collecting itsdangerous>=0.24\n",
            "  Downloading itsdangerous-1.1.0-py2.py3-none-any.whl (16 kB)\n",
            "Collecting Jinja2>=2.10\n",
            "  Downloading Jinja2-2.11.3-py2.py3-none-any.whl (125 kB)\n",
            "Collecting click>=5.1\n",
            "  Downloading click-7.1.2-py2.py3-none-any.whl (82 kB)\n",
            "Collecting six>=1.10\n",
            "  Downloading six-1.15.0-py2.py3-none-any.whl (10 kB)\n",
            "Collecting liac-arff>=2.1.1\n",
            "  Downloading liac-arff-2.5.0.tar.gz (13 kB)\n",
            "Collecting adal>=0.4.5\n",
            "  Downloading adal-1.2.6-py2.py3-none-any.whl (55 kB)\n",
            "Collecting pandas>=0.20.2\n",
            "  Downloading pandas-1.1.5-cp36-cp36m-manylinux1_x86_64.whl (9.5 MB)\n",
            "Collecting dill>=0.2.7.1\n",
            "  Downloading dill-0.3.3-py2.py3-none-any.whl (81 kB)\n",
            "Collecting requests>=2.17.3\n",
            "  Downloading requests-2.25.1-py2.py3-none-any.whl (61 kB)\n",
            "Collecting pyarrow<2.0.0,>=0.17.0\n",
            "  Downloading pyarrow-1.0.1-cp36-cp36m-manylinux2014_x86_64.whl (17.3 MB)\n",
            "Collecting azureml-dataprep<2.10.0a,>=2.9.0a\n",
            "  Downloading azureml_dataprep-2.9.1-py3-none-any.whl (39.4 MB)\n",
            "Collecting fusepy<4.0.0,>=3.0.1; extra == \"fuse\"\n",
            "  Downloading fusepy-3.0.1.tar.gz (11 kB)\n",
            "Collecting urllib3>=1.23\n",
            "  Downloading urllib3-1.26.3-py2.py3-none-any.whl (137 kB)\n",
            "Collecting SecretStorage\n",
            "  Downloading SecretStorage-3.3.1-py3-none-any.whl (15 kB)\n",
            "Collecting msrest>=0.5.1\n",
            "  Downloading msrest-0.6.21-py2.py3-none-any.whl (85 kB)\n",
            "Collecting pyopenssl<21.0.0\n",
            "  Downloading pyOpenSSL-20.0.1-py2.py3-none-any.whl (54 kB)\n",
            "Collecting azure-mgmt-storage<16.0.0,>=1.5.0\n",
            "  Downloading azure_mgmt_storage-11.2.0-py2.py3-none-any.whl (547 kB)\n",
            "Collecting msrestazure>=0.4.33\n",
            "  Downloading msrestazure-0.6.4-py2.py3-none-any.whl (40 kB)\n",
            "Collecting backports.tempfile\n",
            "  Downloading backports.tempfile-1.0-py2.py3-none-any.whl (4.4 kB)\n",
            "Collecting contextlib2\n",
            "  Downloading contextlib2-0.6.0.post1-py2.py3-none-any.whl (9.8 kB)\n",
            "Collecting azure-common>=1.1.12\n",
            "  Downloading azure_common-1.1.26-py2.py3-none-any.whl (12 kB)\n",
            "Collecting azure-graphrbac<1.0.0,>=0.40.0\n",
            "  Downloading azure_graphrbac-0.61.1-py2.py3-none-any.whl (141 kB)\n",
            "Collecting docker\n",
            "  Downloading docker-4.4.2-py2.py3-none-any.whl (146 kB)\n",
            "Collecting pathspec\n",
            "  Downloading pathspec-0.8.1-py2.py3-none-any.whl (28 kB)\n",
            "Collecting jmespath\n",
            "  Downloading jmespath-0.10.0-py2.py3-none-any.whl (24 kB)\n",
            "Collecting ruamel.yaml>=0.15.35\n",
            "  Downloading ruamel.yaml-0.16.12-py2.py3-none-any.whl (111 kB)\n",
            "Collecting azure-mgmt-authorization<1.0.0,>=0.40.0\n",
            "  Downloading azure_mgmt_authorization-0.61.0-py2.py3-none-any.whl (94 kB)\n",
            "Collecting cryptography!=1.9,!=2.0.*,!=2.1.*,!=2.2.*\n",
            "  Downloading cryptography-3.4.6-cp36-abi3-manylinux2014_x86_64.whl (3.2 MB)\n",
            "Collecting azure-mgmt-resource<15.0.0,>=1.2.1\n",
            "  Downloading azure_mgmt_resource-12.0.0-py2.py3-none-any.whl (1.1 MB)\n",
            "Collecting azure-mgmt-keyvault<7.0.0,>=0.40.0\n",
            "  Downloading azure_mgmt_keyvault-2.2.0-py2.py3-none-any.whl (89 kB)\n",
            "Collecting PyJWT<3.0.0\n",
            "  Downloading PyJWT-2.0.1-py3-none-any.whl (15 kB)\n",
            "Collecting jsonpickle\n",
            "  Downloading jsonpickle-2.0.0-py2.py3-none-any.whl (37 kB)\n",
            "Collecting azure-mgmt-containerregistry>=2.0.0\n",
            "  Downloading azure_mgmt_containerregistry-2.8.0-py2.py3-none-any.whl (718 kB)\n",
            "Collecting ndg-httpsclient\n",
            "  Downloading ndg_httpsclient-0.5.1-py3-none-any.whl (34 kB)\n",
            "Collecting MarkupSafe>=0.23\n",
            "  Downloading MarkupSafe-1.1.1-cp36-cp36m-manylinux2010_x86_64.whl (32 kB)\n",
            "Requirement already satisfied, skipping upgrade: certifi>=2017.4.17 in /azureml-envs/azureml_c6bf3e53b0b53065cb9df10251065eb1/lib/python3.6/site-packages (from requests>=2.17.3->azureml-model-management-sdk==1.0.1b6.post1->azureml-defaults->-r /azureml-environment-setup/condaenv.69okyjzp.requirements.txt (line 1)) (2020.6.20)\n",
            "Collecting chardet<5,>=3.0.2\n",
            "  Downloading chardet-4.0.0-py2.py3-none-any.whl (178 kB)\n",
            "Collecting idna<3,>=2.5\n",
            "  Downloading idna-2.10-py2.py3-none-any.whl (58 kB)\n",
            "Collecting azureml-dataprep-native<30.0.0,>=29.0.0\n",
            "  Downloading azureml_dataprep_native-29.0.0-cp36-cp36m-manylinux1_x86_64.whl (1.3 MB)\n",
            "Collecting azureml-dataprep-rslex<1.8.0a,>=1.7.0dev0\n",
            "  Downloading azureml_dataprep_rslex-1.7.0-cp36-cp36m-manylinux2010_x86_64.whl (8.5 MB)\n",
            "Collecting azure-identity<1.5.0,>=1.2.0\n",
            "  Downloading azure_identity-1.4.1-py2.py3-none-any.whl (86 kB)\n",
            "Collecting dotnetcore2<3.0.0,>=2.1.14\n",
            "  Downloading dotnetcore2-2.1.20-py3-none-manylinux1_x86_64.whl (28.7 MB)\n",
            "Collecting cloudpickle<2.0.0,>=1.1.0\n",
            "  Downloading cloudpickle-1.6.0-py3-none-any.whl (23 kB)\n",
            "Collecting jeepney>=0.6\n",
            "  Downloading jeepney-0.6.0-py3-none-any.whl (45 kB)\n",
            "Collecting isodate>=0.6.0\n",
            "  Downloading isodate-0.6.0-py2.py3-none-any.whl (45 kB)\n",
            "Collecting requests-oauthlib>=0.5.0\n",
            "  Downloading requests_oauthlib-1.3.0-py2.py3-none-any.whl (23 kB)\n",
            "Collecting backports.weakref\n",
            "  Downloading backports.weakref-1.0.post1-py2.py3-none-any.whl (5.2 kB)\n",
            "Collecting websocket-client>=0.32.0\n",
            "  Downloading websocket_client-0.57.0-py2.py3-none-any.whl (200 kB)\n",
            "Collecting ruamel.yaml.clib>=0.1.2; platform_python_implementation == \"CPython\" and python_version < \"3.9\"\n",
            "  Downloading ruamel.yaml.clib-0.2.2-cp36-cp36m-manylinux1_x86_64.whl (549 kB)\n",
            "Collecting cffi>=1.12\n",
            "  Downloading cffi-1.14.5-cp36-cp36m-manylinux1_x86_64.whl (401 kB)\n",
            "Collecting importlib-metadata; python_version < \"3.8\"\n",
            "  Downloading importlib_metadata-3.4.0-py3-none-any.whl (10 kB)\n",
            "Collecting pyasn1>=0.1.1\n",
            "  Downloading pyasn1-0.4.8-py2.py3-none-any.whl (77 kB)\n",
            "Collecting msal-extensions~=0.2.2\n",
            "  Downloading msal_extensions-0.2.2-py2.py3-none-any.whl (15 kB)\n",
            "Collecting msal<2.0.0,>=1.3.0\n",
            "  Downloading msal-1.9.0-py2.py3-none-any.whl (59 kB)\n",
            "Collecting azure-core<2.0.0,>=1.0.0\n",
            "  Downloading azure_core-1.11.0-py2.py3-none-any.whl (127 kB)\n",
            "Collecting distro>=1.2.0\n",
            "  Downloading distro-1.5.0-py2.py3-none-any.whl (18 kB)\n",
            "Collecting oauthlib>=3.0.0\n",
            "  Downloading oauthlib-3.1.0-py2.py3-none-any.whl (147 kB)\n",
            "Collecting pycparser\n",
            "  Downloading pycparser-2.20-py2.py3-none-any.whl (112 kB)\n",
            "Collecting zipp>=0.5\n",
            "  Downloading zipp-3.4.0-py3-none-any.whl (5.2 kB)\n",
            "Collecting typing-extensions>=3.6.4; python_version < \"3.8\"\n",
            "  Downloading typing_extensions-3.7.4.3-py3-none-any.whl (22 kB)\n",
            "Collecting portalocker~=1.0; platform_system != \"Windows\"\n",
            "  Downloading portalocker-1.7.1-py2.py3-none-any.whl (10 kB)\n",
            "Building wheels for collected packages: json-logging-py, wrapt, liac-arff, fusepy\n",
            "  Building wheel for json-logging-py (setup.py): started\n",
            "  Building wheel for json-logging-py (setup.py): finished with status 'done'\n",
            "  Created wheel for json-logging-py: filename=json_logging_py-0.2-py3-none-any.whl size=3924 sha256=b0b39acaae76194e769b6caf30744a3a0472f6ed0931bc290b08aafdfeccab16\n",
            "  Stored in directory: /root/.cache/pip/wheels/e2/1d/52/535a274b9c2ce7d4064838f2bdb62013801281ef7d7f21e2ee\n",
            "  Building wheel for wrapt (setup.py): started\n",
            "  Building wheel for wrapt (setup.py): finished with status 'done'\n",
            "  Created wheel for wrapt: filename=wrapt-1.11.1-cp36-cp36m-linux_x86_64.whl size=66698 sha256=76f76f9f72330806467c3a0d633cf7d7b3352519fe5aa31436f42fc1e6abb6f3\n",
            "  Stored in directory: /root/.cache/pip/wheels/94/0f/ec/66085641573800014bb0c8b657f3366eff641c42df79abbfe9\n",
            "  Building wheel for liac-arff (setup.py): started\n",
            "  Building wheel for liac-arff (setup.py): finished with status 'done'\n",
            "  Created wheel for liac-arff: filename=liac_arff-2.5.0-py3-none-any.whl size=11730 sha256=20bf6c1175f6e893beec7a85ba4df0cacf2a90236594795e16298361ad5b76b1\n",
            "  Stored in directory: /root/.cache/pip/wheels/53/ba/da/8562a6a6dbb428fd1ecc21053106df3948645cd991958f669b\n",
            "  Building wheel for fusepy (setup.py): started\n",
            "  Building wheel for fusepy (setup.py): finished with status 'done'\n",
            "  Created wheel for fusepy: filename=fusepy-3.0.1-py3-none-any.whl size=10504 sha256=6cdd6171f8a42f7236f97bb437a7f2b9a68812729eacd99375294ccb73f3b754\n",
            "  Stored in directory: /root/.cache/pip/wheels/21/5c/83/1dd7e8a232d12227e5410120f4374b33adeb4037473105b079\n",
            "Successfully built json-logging-py wrapt liac-arff fusepy\n",
            "Installing collected packages: configparser, werkzeug, itsdangerous, MarkupSafe, Jinja2, click, flask, applicationinsights, six, liac-arff, pycparser, cffi, cryptography, chardet, urllib3, idna, requests, python-dateutil, PyJWT, adal, pytz, numpy, pandas, dill, azureml-model-management-sdk, pyarrow, azureml-dataprep-native, azureml-dataprep-rslex, msal, portalocker, msal-extensions, azure-core, azure-identity, distro, dotnetcore2, cloudpickle, azureml-dataprep, fusepy, azureml-dataset-runtime, gunicorn, json-logging-py, jeepney, SecretStorage, isodate, oauthlib, requests-oauthlib, msrest, pyopenssl, msrestazure, azure-common, azure-mgmt-storage, backports.weakref, backports.tempfile, contextlib2, azure-graphrbac, websocket-client, docker, pathspec, jmespath, ruamel.yaml.clib, ruamel.yaml, azure-mgmt-authorization, azure-mgmt-resource, azure-mgmt-keyvault, zipp, typing-extensions, importlib-metadata, jsonpickle, azure-mgmt-containerregistry, pyasn1, ndg-httpsclient, azureml-core, azureml-defaults, wrapt, inference-schema, joblib, scipy, scikit-learn\n",
            "Successfully installed Jinja2-2.11.3 MarkupSafe-1.1.1 PyJWT-2.0.1 SecretStorage-3.3.1 adal-1.2.6 applicationinsights-0.11.9 azure-common-1.1.26 azure-core-1.11.0 azure-graphrbac-0.61.1 azure-identity-1.4.1 azure-mgmt-authorization-0.61.0 azure-mgmt-containerregistry-2.8.0 azure-mgmt-keyvault-2.2.0 azure-mgmt-resource-12.0.0 azure-mgmt-storage-11.2.0 azureml-core-1.22.0 azureml-dataprep-2.9.1 azureml-dataprep-native-29.0.0 azureml-dataprep-rslex-1.7.0 azureml-dataset-runtime-1.22.0 azureml-defaults-1.22.0 azureml-model-management-sdk-1.0.1b6.post1 backports.tempfile-1.0 backports.weakref-1.0.post1 cffi-1.14.5 chardet-4.0.0 click-7.1.2 cloudpickle-1.6.0 configparser-3.7.4 contextlib2-0.6.0.post1 cryptography-3.4.6 dill-0.3.3 distro-1.5.0 docker-4.4.2 dotnetcore2-2.1.20 flask-1.0.3 fusepy-3.0.1 gunicorn-19.9.0 idna-2.10 importlib-metadata-3.4.0 inference-schema-1.1.0 isodate-0.6.0 itsdangerous-1.1.0 jeepney-0.6.0 jmespath-0.10.0 joblib-1.0.1 json-logging-py-0.2 jsonpickle-2.0.0 liac-arff-2.5.0 msal-1.9.0 msal-extensions-0.2.2 msrest-0.6.21 msrestazure-0.6.4 ndg-httpsclient-0.5.1 numpy-1.19.5 oauthlib-3.1.0 pandas-1.1.5 pathspec-0.8.1 portalocker-1.7.1 pyarrow-1.0.1 pyasn1-0.4.8 pycparser-2.20 pyopenssl-20.0.1 python-dateutil-2.8.1 pytz-2021.1 requests-2.25.1 requests-oauthlib-1.3.0 ruamel.yaml-0.16.12 ruamel.yaml.clib-0.2.2 scikit-learn-0.22.2.post1 scipy-1.5.4 six-1.15.0 typing-extensions-3.7.4.3 urllib3-1.26.3 websocket-client-0.57.0 werkzeug-1.0.1 wrapt-1.11.1 zipp-3.4.0\n",
            "\n",
            "#\n",
            "# To activate this environment, use\n",
            "#\n",
            "#     $ conda activate /azureml-envs/azureml_c6bf3e53b0b53065cb9df10251065eb1\n",
            "#\n",
            "# To deactivate an active environment, use\n",
            "#\n",
            "#     $ conda deactivate\n",
            "\n",
            "\u001b[91m\n",
            "\n",
            "==> WARNING: A newer version of conda exists. <==\n",
            "  current version: 4.7.12\n",
            "  latest version: 4.9.2\n",
            "\n",
            "Please update conda by running\n",
            "\n",
            "    $ conda update -n base -c defaults conda\n",
            "\n",
            "\n",
            "\u001b[0mWARNING: /root/.conda/pkgs does not exist\n",
            "Removing intermediate container dfe9512820b5\n",
            " ---> dfc0d04a6ed9\n",
            "Step 9/15 : ENV PATH /azureml-envs/azureml_c6bf3e53b0b53065cb9df10251065eb1/bin:$PATH\n",
            " ---> Running in 00759dd8e53a\n",
            "Removing intermediate container 00759dd8e53a\n",
            " ---> 9dc202cf6d7a\n",
            "Step 10/15 : ENV AZUREML_CONDA_ENVIRONMENT_PATH /azureml-envs/azureml_c6bf3e53b0b53065cb9df10251065eb1\n",
            " ---> Running in 5e202c02f686\n",
            "Removing intermediate container 5e202c02f686\n",
            " ---> de7f16561c2f\n",
            "Step 11/15 : ENV LD_LIBRARY_PATH /azureml-envs/azureml_c6bf3e53b0b53065cb9df10251065eb1/lib:$LD_LIBRARY_PATH\n",
            " ---> Running in 1f364d714f83\n",
            "Removing intermediate container 1f364d714f83\n",
            " ---> 8ff57e62b79f\n",
            "Step 12/15 : COPY azureml-environment-setup/spark_cache.py azureml-environment-setup/log4j.properties /azureml-environment-setup/\n",
            " ---> 714fdc952702\n",
            "Step 13/15 : RUN if [ $SPARK_HOME ]; then /bin/bash -c '$SPARK_HOME/bin/spark-submit  /azureml-environment-setup/spark_cache.py'; fi\n",
            " ---> Running in 86c2f54808b4\n",
            "Removing intermediate container 86c2f54808b4\n",
            " ---> e4cbe35b7ef4\n",
            "Step 14/15 : ENV AZUREML_ENVIRONMENT_IMAGE True\n",
            " ---> Running in e87b1b9babce\n",
            "Removing intermediate container e87b1b9babce\n",
            " ---> df317e28c6ab\n",
            "Step 15/15 : CMD [\"bash\"]\n",
            " ---> Running in d1dd6177b67e\n",
            "Removing intermediate container d1dd6177b67e\n",
            " ---> a962c62232e0\n",
            "Successfully built a962c62232e0\n",
            "Successfully tagged c692fa426f3149bb983af57e192d930e.azurecr.io/azureml/azureml_8a90a8ae4f21dcd7231b9244082417af:latest\n",
            "2021/02/17 08:45:36 Successfully executed container: acb_step_0\n",
            "2021/02/17 08:45:36 Executing step ID: acb_step_1. Timeout(sec): 5400, Working directory: '', Network: 'acb_default_network'\n",
            "2021/02/17 08:45:36 Pushing image: c692fa426f3149bb983af57e192d930e.azurecr.io/azureml/azureml_8a90a8ae4f21dcd7231b9244082417af:latest, attempt 1\n",
            "The push refers to repository [c692fa426f3149bb983af57e192d930e.azurecr.io/azureml/azureml_8a90a8ae4f21dcd7231b9244082417af]\n",
            "22d1e33a626c: Preparing\n",
            "ad544d8e6e33: Preparing\n",
            "85acbe95ba56: Preparing\n",
            "9a06aac25613: Preparing\n",
            "7c38b2180e50: Preparing\n",
            "d7167a32287a: Preparing\n",
            "c9fd473f5354: Preparing\n",
            "f449d8429d6e: Preparing\n",
            "cbb89d0b53de: Preparing\n",
            "088c5f014be3: Preparing\n",
            "0c7d6f1219f0: Preparing\n",
            "e342e7653d41: Preparing\n",
            "fc2b9863058f: Preparing\n",
            "8547178b7afb: Preparing\n",
            "1a1a19626b20: Preparing\n",
            "5b7dc8292d9b: Preparing\n",
            "bbc674332e2e: Preparing\n",
            "da2785b7bb16: Preparing\n",
            "cbb89d0b53de: Waiting\n",
            "088c5f014be3: Waiting\n",
            "0c7d6f1219f0: Waiting\n",
            "e342e7653d41: Waiting\n",
            "fc2b9863058f: Waiting\n",
            "8547178b7afb: Waiting\n",
            "1a1a19626b20: Waiting\n",
            "5b7dc8292d9b: Waiting\n",
            "bbc674332e2e: Waiting\n",
            "da2785b7bb16: Waiting\n",
            "d7167a32287a: Waiting\n",
            "c9fd473f5354: Waiting\n",
            "f449d8429d6e: Waiting\n",
            "7c38b2180e50: Pushed\n",
            "9a06aac25613: Pushed\n",
            "22d1e33a626c: Pushed\n",
            "85acbe95ba56: Pushed\n",
            "d7167a32287a: Pushed\n",
            "c9fd473f5354: Pushed\n",
            "f449d8429d6e: Pushed\n",
            "cbb89d0b53de: Pushed\n",
            "fc2b9863058f: Pushed\n",
            "0c7d6f1219f0: Pushed\n",
            "088c5f014be3: Pushed\n",
            "e342e7653d41: Pushed\n",
            "1a1a19626b20: Pushed\n",
            "5b7dc8292d9b: Pushed\n",
            "bbc674332e2e: Pushed\n",
            "ad544d8e6e33: Pushed\n",
            "8547178b7afb: Pushed\n",
            "da2785b7bb16: Pushed\n",
            "latest: digest: sha256:a8eea3ae45a13e2f640fb727496be7dfac5969dda63fe17faf8309cd34d5c56d size: 4095\n",
            "2021/02/17 08:47:32 Successfully pushed image: c692fa426f3149bb983af57e192d930e.azurecr.io/azureml/azureml_8a90a8ae4f21dcd7231b9244082417af:latest\n",
            "2021/02/17 08:47:32 Step ID: acb_step_0 marked as successful (elapsed time in seconds: 153.677896)\n",
            "2021/02/17 08:47:32 Populating digests for step ID: acb_step_0...\n",
            "2021/02/17 08:47:34 Successfully populated digests for step ID: acb_step_0\n",
            "2021/02/17 08:47:34 Step ID: acb_step_1 marked as successful (elapsed time in seconds: 115.772889)\n",
            "2021/02/17 08:47:34 The following dependencies were found:\n",
            "2021/02/17 08:47:34 \n",
            "- image:\n",
            "    registry: c692fa426f3149bb983af57e192d930e.azurecr.io\n",
            "    repository: azureml/azureml_8a90a8ae4f21dcd7231b9244082417af\n",
            "    tag: latest\n",
            "    digest: sha256:a8eea3ae45a13e2f640fb727496be7dfac5969dda63fe17faf8309cd34d5c56d\n",
            "  runtime-dependency:\n",
            "    registry: mcr.microsoft.com\n",
            "    repository: azureml/intelmpi2018.3-ubuntu16.04\n",
            "    tag: 20210104.v1\n",
            "    digest: sha256:81ca5cdfeefc2a25afff41e66151e97b8a36c0a43d0cd0056af26f01dd37885e\n",
            "  git: {}\n",
            "\n",
            "Run ID: cd3 was successful after 4m37s\n",
            "Package creation Succeeded\n",
            "Logging into Docker registry c692fa426f3149bb983af57e192d930e.azurecr.io\n",
            "Logging into Docker registry c692fa426f3149bb983af57e192d930e.azurecr.io\n",
            "Building Docker image from Dockerfile...\n",
            "Step 1/5 : FROM c692fa426f3149bb983af57e192d930e.azurecr.io/azureml/azureml_8a90a8ae4f21dcd7231b9244082417af\n",
            " ---> a962c62232e0\n",
            "Step 2/5 : COPY azureml-app /var/azureml-app\n",
            " ---> 4473add69ef9\n",
            "Step 3/5 : RUN mkdir -p '/var/azureml-app' && echo eyJhY2NvdW50Q29udGV4dCI6eyJzdWJzY3JpcHRpb25JZCI6IjgxY2VmYWQzLWQyYzktNGY3Ny1hNDY2LTk5YTdmNTQxYzdiYiIsInJlc291cmNlR3JvdXBOYW1lIjoiYW1sLXF1aWNrc3RhcnRzLTEzOTA2NCIsImFjY291bnROYW1lIjoicXVpY2stc3RhcnRzLXdzLTEzOTA2NCIsIndvcmtzcGFjZUlkIjoiYzY5MmZhNDItNmYzMS00OWJiLTk4M2EtZjU3ZTE5MmQ5MzBlIn0sIm1vZGVscyI6e30sIm1vZGVsc0luZm8iOnt9fQ== | base64 --decode > /var/azureml-app/model_config_map.json\n",
            " ---> Running in 88ce05357d3b\n",
            " ---> ba7bc04b8b59\n",
            "Step 4/5 : RUN mv '/var/azureml-app/tmp99rkh94v.py' /var/azureml-app/main.py\n",
            " ---> Running in 6e0136d9924f\n",
            " ---> e153bdb446f8\n",
            "Step 5/5 : CMD [\"runsvdir\",\"/var/runit\"]\n",
            " ---> Running in 9a96b21d9da7\n",
            " ---> 03ec63f477c7\n",
            "Successfully built 03ec63f477c7\n",
            "Successfully tagged deploy:latest\n",
            "Starting Docker container...\n",
            "Docker container running.\n",
            "Checking container health...\n",
            "\n",
            "Container Logs:\n",
            "2021-02-17T08:49:00,907841713+00:00 - gunicorn/run \n",
            "2021-02-17T08:49:00,909233011+00:00 - iot-server/run \n",
            "2021-02-17T08:49:00,911361208+00:00 - nginx/run \n",
            "/usr/sbin/nginx: /azureml-envs/azureml_c6bf3e53b0b53065cb9df10251065eb1/lib/libcrypto.so.1.0.0: no version information available (required by /usr/sbin/nginx)\n",
            "/usr/sbin/nginx: /azureml-envs/azureml_c6bf3e53b0b53065cb9df10251065eb1/lib/libcrypto.so.1.0.0: no version information available (required by /usr/sbin/nginx)\n",
            "/usr/sbin/nginx: /azureml-envs/azureml_c6bf3e53b0b53065cb9df10251065eb1/lib/libssl.so.1.0.0: no version information available (required by /usr/sbin/nginx)\n",
            "/usr/sbin/nginx: /azureml-envs/azureml_c6bf3e53b0b53065cb9df10251065eb1/lib/libssl.so.1.0.0: no version information available (required by /usr/sbin/nginx)\n",
            "/usr/sbin/nginx: /azureml-envs/azureml_c6bf3e53b0b53065cb9df10251065eb1/lib/libssl.so.1.0.0: no version information available (required by /usr/sbin/nginx)\n",
            "2021-02-17T08:49:00,931680780+00:00 - rsyslog/run \n",
            "EdgeHubConnectionString and IOTEDGE_IOTHUBHOSTNAME are not set. Exiting...\n",
            "2021-02-17T08:49:01,000984385+00:00 - iot-server/finish 1 0\n",
            "2021-02-17T08:49:01,002235683+00:00 - Exit code 1 is normal. Not restarting iot-server.\n",
            "Starting gunicorn 19.9.0\n",
            "Listening at: http://127.0.0.1:31311 (12)\n",
            "Using worker: sync\n",
            "worker timeout is set to 300\n",
            "Booting worker with pid: 41\n",
            "SPARK_HOME not set. Skipping PySpark Initialization.\n",
            "Initializing logger\n",
            "2021-02-17 08:49:01,954 | root | INFO | Starting up app insights client\n",
            "2021-02-17 08:49:01,954 | root | INFO | Starting up request id generator\n",
            "2021-02-17 08:49:01,954 | root | INFO | Starting up app insight hooks\n",
            "2021-02-17 08:49:01,954 | root | INFO | Invoking user's init function\n",
            "Found model:\n",
            "False\n",
            "2021-02-17 08:49:01,954 | root | ERROR | User's init function failed\n",
            "2021-02-17 08:49:01,955 | root | ERROR | Encountered Exception Traceback (most recent call last):\n",
            "  File \"/var/azureml-server/aml_blueprint.py\", line 176, in register\n",
            "    main.init()\n",
            "  File \"/var/azureml-app/score.py\", line 11, in init\n",
            "    model = joblib.load(model_path)\n",
            "  File \"/azureml-envs/azureml_c6bf3e53b0b53065cb9df10251065eb1/lib/python3.6/site-packages/joblib/numpy_pickle.py\", line 577, in load\n",
            "    with open(filename, 'rb') as f:\n",
            "FileNotFoundError: [Errno 2] No such file or directory: 'azureml-models/automl-model/1/outputs/model.joblib'\n",
            "\n",
            "Worker exiting (pid: 41)\n",
            "/azureml-envs/azureml_c6bf3e53b0b53065cb9df10251065eb1/lib/python3.6/site-packages/sklearn/externals/joblib/__init__.py:15: FutureWarning: sklearn.externals.joblib is deprecated in 0.21 and will be removed in 0.23. Please import this functionality directly from joblib, which can be installed with: pip install joblib. If this warning is raised when loading pickled models, you may need to re-serialize those models with scikit-learn 0.21+.\n",
            "  warnings.warn(msg, category=FutureWarning)\n",
            "Shutting down: Master\n",
            "Reason: Worker failed to boot.\n",
            "2021-02-17T08:49:02,070751519+00:00 - gunicorn/finish 3 0\n",
            "2021-02-17T08:49:02,071837718+00:00 - Exit code 3 is not normal. Killing image.\n",
            "\n"
          ]
        },
        {
          "output_type": "stream",
          "name": "stderr",
          "text": [
            "ERROR:azureml._model_management._util:Error: Container has crashed. Did your init method fail?\n",
            "\n"
          ]
        },
        {
          "output_type": "error",
          "ename": "WebserviceException",
          "evalue": "WebserviceException:\n\tMessage: Error: Container has crashed. Did your init method fail?\n\tInnerException None\n\tErrorResponse \n{\n    \"error\": {\n        \"message\": \"Error: Container has crashed. Did your init method fail?\"\n    }\n}",
          "traceback": [
            "\u001b[0;31m---------------------------------------------------------------------------\u001b[0m",
            "\u001b[0;31mWebserviceException\u001b[0m                       Traceback (most recent call last)",
            "\u001b[0;32m<ipython-input-28-9c31a4b91c45>\u001b[0m in \u001b[0;36m<module>\u001b[0;34m\u001b[0m\n\u001b[1;32m      8\u001b[0m \u001b[0mlocal_service\u001b[0m \u001b[0;34m=\u001b[0m \u001b[0mModel\u001b[0m\u001b[0;34m.\u001b[0m\u001b[0mdeploy\u001b[0m\u001b[0;34m(\u001b[0m\u001b[0mws\u001b[0m\u001b[0;34m,\u001b[0m \u001b[0;34m\"deploy\"\u001b[0m\u001b[0;34m,\u001b[0m \u001b[0;34m[\u001b[0m\u001b[0mmodel\u001b[0m\u001b[0;34m]\u001b[0m\u001b[0;34m,\u001b[0m \u001b[0minference_config\u001b[0m\u001b[0;34m,\u001b[0m \u001b[0mdeployment_config\u001b[0m\u001b[0;34m)\u001b[0m\u001b[0;34m\u001b[0m\u001b[0;34m\u001b[0m\u001b[0m\n\u001b[1;32m      9\u001b[0m \u001b[0;34m\u001b[0m\u001b[0m\n\u001b[0;32m---> 10\u001b[0;31m \u001b[0mlocal_service\u001b[0m\u001b[0;34m.\u001b[0m\u001b[0mwait_for_deployment\u001b[0m\u001b[0;34m(\u001b[0m\u001b[0;34m)\u001b[0m\u001b[0;34m\u001b[0m\u001b[0;34m\u001b[0m\u001b[0m\n\u001b[0m",
            "\u001b[0;32m/anaconda/envs/azureml_py36/lib/python3.6/site-packages/azureml/core/webservice/local.py\u001b[0m in \u001b[0;36mdecorated\u001b[0;34m(self, *args, **kwargs)\u001b[0m\n\u001b[1;32m     70\u001b[0m                 raise WebserviceException('Cannot call {}() when service is {}.'.format(func.__name__, self.state),\n\u001b[1;32m     71\u001b[0m                                           logger=module_logger)\n\u001b[0;32m---> 72\u001b[0;31m             \u001b[0;32mreturn\u001b[0m \u001b[0mfunc\u001b[0m\u001b[0;34m(\u001b[0m\u001b[0mself\u001b[0m\u001b[0;34m,\u001b[0m \u001b[0;34m*\u001b[0m\u001b[0margs\u001b[0m\u001b[0;34m,\u001b[0m \u001b[0;34m**\u001b[0m\u001b[0mkwargs\u001b[0m\u001b[0;34m)\u001b[0m\u001b[0;34m\u001b[0m\u001b[0;34m\u001b[0m\u001b[0m\n\u001b[0m\u001b[1;32m     73\u001b[0m         \u001b[0;32mreturn\u001b[0m \u001b[0mdecorated\u001b[0m\u001b[0;34m\u001b[0m\u001b[0;34m\u001b[0m\u001b[0m\n\u001b[1;32m     74\u001b[0m     \u001b[0;32mreturn\u001b[0m \u001b[0mdecorator\u001b[0m\u001b[0;34m\u001b[0m\u001b[0;34m\u001b[0m\u001b[0m\n",
            "\u001b[0;32m/anaconda/envs/azureml_py36/lib/python3.6/site-packages/azureml/core/webservice/local.py\u001b[0m in \u001b[0;36mwait_for_deployment\u001b[0;34m(self, show_output)\u001b[0m\n\u001b[1;32m    609\u001b[0m                                    \u001b[0mself\u001b[0m\u001b[0;34m.\u001b[0m\u001b[0m_container\u001b[0m\u001b[0;34m,\u001b[0m\u001b[0;34m\u001b[0m\u001b[0;34m\u001b[0m\u001b[0m\n\u001b[1;32m    610\u001b[0m                                    \u001b[0mhealth_url\u001b[0m\u001b[0;34m=\u001b[0m\u001b[0mself\u001b[0m\u001b[0;34m.\u001b[0m\u001b[0m_get_health_url\u001b[0m\u001b[0;34m(\u001b[0m\u001b[0;34m)\u001b[0m\u001b[0;34m,\u001b[0m\u001b[0;34m\u001b[0m\u001b[0;34m\u001b[0m\u001b[0m\n\u001b[0;32m--> 611\u001b[0;31m                                    cleanup_if_failed=False)\n\u001b[0m\u001b[1;32m    612\u001b[0m \u001b[0;34m\u001b[0m\u001b[0m\n\u001b[1;32m    613\u001b[0m             \u001b[0mself\u001b[0m\u001b[0;34m.\u001b[0m\u001b[0mstate\u001b[0m \u001b[0;34m=\u001b[0m \u001b[0mLocalWebservice\u001b[0m\u001b[0;34m.\u001b[0m\u001b[0mSTATE_RUNNING\u001b[0m\u001b[0;34m\u001b[0m\u001b[0;34m\u001b[0m\u001b[0m\n",
            "\u001b[0;32m/anaconda/envs/azureml_py36/lib/python3.6/site-packages/azureml/_model_management/_util.py\u001b[0m in \u001b[0;36mcontainer_health_check\u001b[0;34m(docker_port, container, health_url, cleanup_if_failed)\u001b[0m\n\u001b[1;32m    741\u001b[0m             \u001b[0;31m# The container has started and crashed.\u001b[0m\u001b[0;34m\u001b[0m\u001b[0;34m\u001b[0m\u001b[0;34m\u001b[0m\u001b[0m\n\u001b[1;32m    742\u001b[0m             _raise_for_container_failure(container, cleanup_if_failed,\n\u001b[0;32m--> 743\u001b[0;31m                                          'Error: Container has crashed. Did your init method fail?')\n\u001b[0m\u001b[1;32m    744\u001b[0m \u001b[0;34m\u001b[0m\u001b[0m\n\u001b[1;32m    745\u001b[0m         \u001b[0;31m# The container hasn't crashed, so try to ping the health endpoint.\u001b[0m\u001b[0;34m\u001b[0m\u001b[0;34m\u001b[0m\u001b[0;34m\u001b[0m\u001b[0m\n",
            "\u001b[0;32m/anaconda/envs/azureml_py36/lib/python3.6/site-packages/azureml/_model_management/_util.py\u001b[0m in \u001b[0;36m_raise_for_container_failure\u001b[0;34m(container, cleanup, message)\u001b[0m\n\u001b[1;32m   1259\u001b[0m         \u001b[0mcleanup_container\u001b[0m\u001b[0;34m(\u001b[0m\u001b[0mcontainer\u001b[0m\u001b[0;34m)\u001b[0m\u001b[0;34m\u001b[0m\u001b[0;34m\u001b[0m\u001b[0m\n\u001b[1;32m   1260\u001b[0m \u001b[0;34m\u001b[0m\u001b[0m\n\u001b[0;32m-> 1261\u001b[0;31m     \u001b[0;32mraise\u001b[0m \u001b[0mWebserviceException\u001b[0m\u001b[0;34m(\u001b[0m\u001b[0mmessage\u001b[0m\u001b[0;34m,\u001b[0m \u001b[0mlogger\u001b[0m\u001b[0;34m=\u001b[0m\u001b[0mmodule_logger\u001b[0m\u001b[0;34m)\u001b[0m\u001b[0;34m\u001b[0m\u001b[0;34m\u001b[0m\u001b[0m\n\u001b[0m\u001b[1;32m   1262\u001b[0m \u001b[0;34m\u001b[0m\u001b[0m\n\u001b[1;32m   1263\u001b[0m \u001b[0;34m\u001b[0m\u001b[0m\n",
            "\u001b[0;31mWebserviceException\u001b[0m: WebserviceException:\n\tMessage: Error: Container has crashed. Did your init method fail?\n\tInnerException None\n\tErrorResponse \n{\n    \"error\": {\n        \"message\": \"Error: Container has crashed. Did your init method fail?\"\n    }\n}"
          ]
        }
      ],
      "execution_count": 28,
      "metadata": {
        "gather": {
          "logged": 1598431425670
        },
        "jupyter": {
          "outputs_hidden": false,
          "source_hidden": false
        },
        "nteract": {
          "transient": {
            "deleting": false
          }
        }
      }
    },
    {
      "cell_type": "code",
      "source": [
        "print('Local service port: {}'.format(local_service.port))"
      ],
      "outputs": [],
      "execution_count": null,
      "metadata": {
        "gather": {
          "logged": 1598431426111
        },
        "jupyter": {
          "outputs_hidden": false,
          "source_hidden": false
        },
        "nteract": {
          "transient": {
            "deleting": false
          }
        }
      }
    },
    {
      "cell_type": "code",
      "source": [
        "import json\r\n",
        "\r\n",
        "sample_input = json.dumps(\r\n",
        "    {\"data\":\r\n",
        "            [\r\n",
        "                {\r\n",
        "                    'age': 75.0,\r\n",
        "                    'anaemia': 0,\r\n",
        "                    'creatinine_phosphokinase': 582,\r\n",
        "                    'diabetes': 0,\r\n",
        "                    'ejection_fraction': 20,\r\n",
        "                    'high_blood_pressure': 1,\r\n",
        "                    'platelets': 265000.0,\r\n",
        "                    'serum_creatinine': 1.9,\r\n",
        "                    'serum_sodium': 130,\r\n",
        "                    'sex': 1,\r\n",
        "                    'smoking': 0,\r\n",
        "                    'time': 4\r\n",
        "                },\r\n",
        "                {\r\n",
        "                    'age': 55.0,\r\n",
        "                    'anaemia': 0,\r\n",
        "                    'creatinine_phosphokinase': 7861,\r\n",
        "                    'diabetes': 0,\r\n",
        "                    'ejection_fraction': 38,\r\n",
        "                    'high_blood_pressure': 0,\r\n",
        "                    'platelets': 263358.03,\r\n",
        "                    'serum_creatinine': 1.1,\r\n",
        "                    'serum_sodium': 136,\r\n",
        "                    'sex': 1,\r\n",
        "                    'smoking': 0,\r\n",
        "                    'time': 6\r\n",
        "                }\r\n",
        "            ] \r\n",
        "        }\r\n",
        ")\r\n",
        "\r\n",
        "local_service.run(sample_input)"
      ],
      "outputs": [],
      "execution_count": null,
      "metadata": {
        "gather": {
          "logged": 1598431435189
        },
        "jupyter": {
          "outputs_hidden": false,
          "source_hidden": false
        },
        "nteract": {
          "transient": {
            "deleting": false
          }
        }
      }
    },
    {
      "cell_type": "markdown",
      "source": [
        "TODO: In the cell below, send a request to the web service you deployed to test it."
      ],
      "metadata": {
        "collapsed": true,
        "gather": {
          "logged": 1598431657736
        },
        "jupyter": {
          "outputs_hidden": false,
          "source_hidden": false
        },
        "nteract": {
          "transient": {
            "deleting": false
          }
        }
      }
    },
    {
      "cell_type": "code",
      "source": [],
      "outputs": [],
      "execution_count": null,
      "metadata": {
        "gather": {
          "logged": 1598432707604
        },
        "jupyter": {
          "outputs_hidden": false,
          "source_hidden": false
        },
        "nteract": {
          "transient": {
            "deleting": false
          }
        }
      }
    },
    {
      "cell_type": "markdown",
      "source": [
        "TODO: In the cell below, print the logs of the web service and delete the service"
      ],
      "metadata": {
        "collapsed": true,
        "gather": {
          "logged": 1598432765711
        },
        "jupyter": {
          "outputs_hidden": false,
          "source_hidden": false
        },
        "nteract": {
          "transient": {
            "deleting": false
          }
        }
      }
    },
    {
      "cell_type": "code",
      "source": [],
      "outputs": [],
      "execution_count": null,
      "metadata": {
        "jupyter": {
          "outputs_hidden": false,
          "source_hidden": false
        },
        "nteract": {
          "transient": {
            "deleting": false
          }
        }
      }
    }
  ],
  "metadata": {
    "kernel_info": {
      "name": "python3-azureml"
    },
    "kernelspec": {
      "name": "python3-azureml",
      "language": "python",
      "display_name": "Python 3.6 - AzureML"
    },
    "language_info": {
      "name": "python",
      "version": "3.6.9",
      "mimetype": "text/x-python",
      "codemirror_mode": {
        "name": "ipython",
        "version": 3
      },
      "pygments_lexer": "ipython3",
      "nbconvert_exporter": "python",
      "file_extension": ".py"
    },
    "nteract": {
      "version": "nteract-front-end@1.0.0"
    }
  },
  "nbformat": 4,
  "nbformat_minor": 2
}