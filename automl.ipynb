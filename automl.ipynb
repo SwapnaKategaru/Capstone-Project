{
  "cells": [
    {
      "cell_type": "markdown",
      "source": [
        "# Automated ML\n",
        "\n",
        "In the cell below, import all the dependencies that you will need to complete the project."
      ],
      "metadata": {}
    },
    {
      "cell_type": "code",
      "source": [
        "pip install azureml-train-automl-runtime==1.22.0"
      ],
      "outputs": [
        {
          "output_type": "stream",
          "name": "stdout",
          "text": [
            "Requirement already satisfied: azureml-train-automl-runtime==1.22.0 in /anaconda/envs/azureml_py36/lib/python3.6/site-packages (1.22.0)\n",
            "Requirement already satisfied: pandas<1.0.0,>=0.21.0 in /anaconda/envs/azureml_py36/lib/python3.6/site-packages (from azureml-train-automl-runtime==1.22.0) (0.25.3)\n",
            "Requirement already satisfied: numpy<1.19.0,>=1.16.0 in /anaconda/envs/azureml_py36/lib/python3.6/site-packages (from azureml-train-automl-runtime==1.22.0) (1.18.5)\n",
            "Requirement already satisfied: jinja2<=2.11.2 in /anaconda/envs/azureml_py36/lib/python3.6/site-packages (from azureml-train-automl-runtime==1.22.0) (2.11.2)\n",
            "Requirement already satisfied: statsmodels<=0.10.2,>=0.9.0 in /anaconda/envs/azureml_py36/lib/python3.6/site-packages (from azureml-train-automl-runtime==1.22.0) (0.10.2)\n",
            "Requirement already satisfied: onnxruntime==1.3.0 in /anaconda/envs/azureml_py36/lib/python3.6/site-packages (from azureml-train-automl-runtime==1.22.0) (1.3.0)\n",
            "Requirement already satisfied: boto3<=1.15.18 in /anaconda/envs/azureml_py36/lib/python3.6/site-packages (from azureml-train-automl-runtime==1.22.0) (1.15.18)\n",
            "Requirement already satisfied: azureml-interpret~=1.22.0 in /anaconda/envs/azureml_py36/lib/python3.6/site-packages (from azureml-train-automl-runtime==1.22.0) (1.22.0)\n",
            "Requirement already satisfied: azureml-train-automl-client~=1.22.0 in /anaconda/envs/azureml_py36/lib/python3.6/site-packages (from azureml-train-automl-runtime==1.22.0) (1.22.0)\n",
            "Requirement already satisfied: scikit-learn<0.23.0,>=0.19.0 in /anaconda/envs/azureml_py36/lib/python3.6/site-packages (from azureml-train-automl-runtime==1.22.0) (0.22.2.post1)\n",
            "Requirement already satisfied: onnxconverter-common<=1.6.0,>=1.4.2 in /anaconda/envs/azureml_py36/lib/python3.6/site-packages (from azureml-train-automl-runtime==1.22.0) (1.6.0)\n",
            "Requirement already satisfied: gensim<3.9.0 in /anaconda/envs/azureml_py36/lib/python3.6/site-packages (from azureml-train-automl-runtime==1.22.0) (3.8.3)\n",
            "Requirement already satisfied: azureml-core~=1.22.0 in /anaconda/envs/azureml_py36/lib/python3.6/site-packages (from azureml-train-automl-runtime==1.22.0) (1.22.0)\n",
            "Requirement already satisfied: skl2onnx==1.4.9 in /anaconda/envs/azureml_py36/lib/python3.6/site-packages (from azureml-train-automl-runtime==1.22.0) (1.4.9)\n",
            "Requirement already satisfied: azureml-automl-core~=1.22.0 in /anaconda/envs/azureml_py36/lib/python3.6/site-packages (from azureml-train-automl-runtime==1.22.0) (1.22.0)\n",
            "Requirement already satisfied: botocore<=1.18.18 in /anaconda/envs/azureml_py36/lib/python3.6/site-packages (from azureml-train-automl-runtime==1.22.0) (1.18.18)\n",
            "Requirement already satisfied: azureml-defaults~=1.22.0 in /anaconda/envs/azureml_py36/lib/python3.6/site-packages (from azureml-train-automl-runtime==1.22.0) (1.22.0)\n",
            "Requirement already satisfied: lightgbm<=2.3.0,>=2.0.11 in /anaconda/envs/azureml_py36/lib/python3.6/site-packages (from azureml-train-automl-runtime==1.22.0) (2.3.0)\n",
            "Requirement already satisfied: sklearn-pandas<=1.7.0,>=1.4.0 in /anaconda/envs/azureml_py36/lib/python3.6/site-packages (from azureml-train-automl-runtime==1.22.0) (1.7.0)\n",
            "Requirement already satisfied: azure-storage-queue~=12.1 in /anaconda/envs/azureml_py36/lib/python3.6/site-packages (from azureml-train-automl-runtime==1.22.0) (12.1.5)\n",
            "Requirement already satisfied: scipy<=1.5.2,>=1.0.0 in /anaconda/envs/azureml_py36/lib/python3.6/site-packages (from azureml-train-automl-runtime==1.22.0) (1.5.2)\n",
            "Requirement already satisfied: keras2onnx<=1.6.0,>=1.4.0 in /anaconda/envs/azureml_py36/lib/python3.6/site-packages (from azureml-train-automl-runtime==1.22.0) (1.6.0)\n",
            "Requirement already satisfied: azureml-automl-runtime~=1.22.0 in /anaconda/envs/azureml_py36/lib/python3.6/site-packages (from azureml-train-automl-runtime==1.22.0) (1.22.0)\n",
            "Requirement already satisfied: azureml-dataset-runtime[fuse,pandas]~=1.22.0 in /anaconda/envs/azureml_py36/lib/python3.6/site-packages (from azureml-train-automl-runtime==1.22.0) (1.22.0)\n",
            "Requirement already satisfied: azureml-telemetry~=1.22.0 in /anaconda/envs/azureml_py36/lib/python3.6/site-packages (from azureml-train-automl-runtime==1.22.0) (1.22.0)\n",
            "Requirement already satisfied: onnx<=1.7.0,>=1.5.0 in /anaconda/envs/azureml_py36/lib/python3.6/site-packages (from azureml-train-automl-runtime==1.22.0) (1.7.0)\n",
            "Requirement already satisfied: smart-open<=1.9.0 in /anaconda/envs/azureml_py36/lib/python3.6/site-packages (from azureml-train-automl-runtime==1.22.0) (1.9.0)\n",
            "Requirement already satisfied: onnxmltools==1.4.1 in /anaconda/envs/azureml_py36/lib/python3.6/site-packages (from azureml-train-automl-runtime==1.22.0) (1.4.1)\n",
            "Requirement already satisfied: python-dateutil>=2.6.1 in /anaconda/envs/azureml_py36/lib/python3.6/site-packages (from pandas<1.0.0,>=0.21.0->azureml-train-automl-runtime==1.22.0) (2.8.1)\n",
            "Requirement already satisfied: pytz>=2017.2 in /anaconda/envs/azureml_py36/lib/python3.6/site-packages (from pandas<1.0.0,>=0.21.0->azureml-train-automl-runtime==1.22.0) (2021.1)\n",
            "Requirement already satisfied: MarkupSafe>=0.23 in /anaconda/envs/azureml_py36/lib/python3.6/site-packages (from jinja2<=2.11.2->azureml-train-automl-runtime==1.22.0) (1.1.1)\n",
            "Requirement already satisfied: patsy>=0.4.0 in /anaconda/envs/azureml_py36/lib/python3.6/site-packages (from statsmodels<=0.10.2,>=0.9.0->azureml-train-automl-runtime==1.22.0) (0.5.1)\n",
            "Requirement already satisfied: protobuf in /anaconda/envs/azureml_py36/lib/python3.6/site-packages (from onnxruntime==1.3.0->azureml-train-automl-runtime==1.22.0) (3.14.0)\n",
            "Requirement already satisfied: jmespath<1.0.0,>=0.7.1 in /anaconda/envs/azureml_py36/lib/python3.6/site-packages (from boto3<=1.15.18->azureml-train-automl-runtime==1.22.0) (0.10.0)\n",
            "Requirement already satisfied: s3transfer<0.4.0,>=0.3.0 in /anaconda/envs/azureml_py36/lib/python3.6/site-packages (from boto3<=1.15.18->azureml-train-automl-runtime==1.22.0) (0.3.4)\n",
            "Requirement already satisfied: interpret-community==0.16.* in /anaconda/envs/azureml_py36/lib/python3.6/site-packages (from azureml-interpret~=1.22.0->azureml-train-automl-runtime==1.22.0) (0.16.0)\n",
            "Requirement already satisfied: joblib>=0.11 in /anaconda/envs/azureml_py36/lib/python3.6/site-packages (from scikit-learn<0.23.0,>=0.19.0->azureml-train-automl-runtime==1.22.0) (0.14.1)\n",
            "Requirement already satisfied: six in /anaconda/envs/azureml_py36/lib/python3.6/site-packages (from onnxconverter-common<=1.6.0,>=1.4.2->azureml-train-automl-runtime==1.22.0) (1.15.0)\n",
            "Requirement already satisfied: msrestazure>=0.4.33 in /anaconda/envs/azureml_py36/lib/python3.6/site-packages (from azureml-core~=1.22.0->azureml-train-automl-runtime==1.22.0) (0.6.4)\n",
            "Requirement already satisfied: azure-graphrbac<1.0.0,>=0.40.0 in /anaconda/envs/azureml_py36/lib/python3.6/site-packages (from azureml-core~=1.22.0->azureml-train-automl-runtime==1.22.0) (0.61.1)\n",
            "Requirement already satisfied: azure-mgmt-authorization<1.0.0,>=0.40.0 in /anaconda/envs/azureml_py36/lib/python3.6/site-packages (from azureml-core~=1.22.0->azureml-train-automl-runtime==1.22.0) (0.61.0)\n",
            "Requirement already satisfied: contextlib2 in /anaconda/envs/azureml_py36/lib/python3.6/site-packages (from azureml-core~=1.22.0->azureml-train-automl-runtime==1.22.0) (0.6.0.post1)\n",
            "Requirement already satisfied: SecretStorage in /anaconda/envs/azureml_py36/lib/python3.6/site-packages (from azureml-core~=1.22.0->azureml-train-automl-runtime==1.22.0) (3.3.0)\n",
            "Requirement already satisfied: jsonpickle in /anaconda/envs/azureml_py36/lib/python3.6/site-packages (from azureml-core~=1.22.0->azureml-train-automl-runtime==1.22.0) (1.5.1)\n",
            "Requirement already satisfied: urllib3>=1.23 in /anaconda/envs/azureml_py36/lib/python3.6/site-packages (from azureml-core~=1.22.0->azureml-train-automl-runtime==1.22.0) (1.25.11)\n",
            "Requirement already satisfied: ndg-httpsclient in /anaconda/envs/azureml_py36/lib/python3.6/site-packages (from azureml-core~=1.22.0->azureml-train-automl-runtime==1.22.0) (0.5.1)\n",
            "Requirement already satisfied: azure-mgmt-containerregistry>=2.0.0 in /anaconda/envs/azureml_py36/lib/python3.6/site-packages (from azureml-core~=1.22.0->azureml-train-automl-runtime==1.22.0) (2.8.0)\n",
            "Requirement already satisfied: docker in /anaconda/envs/azureml_py36/lib/python3.6/site-packages (from azureml-core~=1.22.0->azureml-train-automl-runtime==1.22.0) (4.4.1)\n",
            "Requirement already satisfied: pyopenssl<21.0.0 in /anaconda/envs/azureml_py36/lib/python3.6/site-packages (from azureml-core~=1.22.0->azureml-train-automl-runtime==1.22.0) (20.0.1)\n",
            "Requirement already satisfied: requests>=2.19.1 in /anaconda/envs/azureml_py36/lib/python3.6/site-packages (from azureml-core~=1.22.0->azureml-train-automl-runtime==1.22.0) (2.25.1)\n",
            "Requirement already satisfied: PyJWT<3.0.0 in /anaconda/envs/azureml_py36/lib/python3.6/site-packages (from azureml-core~=1.22.0->azureml-train-automl-runtime==1.22.0) (1.7.1)\n",
            "Requirement already satisfied: azure-mgmt-storage<16.0.0,>=1.5.0 in /anaconda/envs/azureml_py36/lib/python3.6/site-packages (from azureml-core~=1.22.0->azureml-train-automl-runtime==1.22.0) (11.2.0)\n",
            "Requirement already satisfied: azure-common>=1.1.12 in /anaconda/envs/azureml_py36/lib/python3.6/site-packages (from azureml-core~=1.22.0->azureml-train-automl-runtime==1.22.0) (1.1.26)\n",
            "Requirement already satisfied: ruamel.yaml>=0.15.35 in /anaconda/envs/azureml_py36/lib/python3.6/site-packages (from azureml-core~=1.22.0->azureml-train-automl-runtime==1.22.0) (0.16.12)\n",
            "Requirement already satisfied: pathspec in /anaconda/envs/azureml_py36/lib/python3.6/site-packages (from azureml-core~=1.22.0->azureml-train-automl-runtime==1.22.0) (0.8.1)\n",
            "Requirement already satisfied: msrest>=0.5.1 in /anaconda/envs/azureml_py36/lib/python3.6/site-packages (from azureml-core~=1.22.0->azureml-train-automl-runtime==1.22.0) (0.6.21)\n",
            "Requirement already satisfied: azure-mgmt-resource<15.0.0,>=1.2.1 in /anaconda/envs/azureml_py36/lib/python3.6/site-packages (from azureml-core~=1.22.0->azureml-train-automl-runtime==1.22.0) (12.0.0)\n",
            "Requirement already satisfied: cryptography!=1.9,!=2.0.*,!=2.1.*,!=2.2.* in /anaconda/envs/azureml_py36/lib/python3.6/site-packages (from azureml-core~=1.22.0->azureml-train-automl-runtime==1.22.0) (3.3.1)\n",
            "Requirement already satisfied: azure-mgmt-keyvault<7.0.0,>=0.40.0 in /anaconda/envs/azureml_py36/lib/python3.6/site-packages (from azureml-core~=1.22.0->azureml-train-automl-runtime==1.22.0) (2.2.0)\n",
            "Requirement already satisfied: adal>=1.2.0 in /anaconda/envs/azureml_py36/lib/python3.6/site-packages (from azureml-core~=1.22.0->azureml-train-automl-runtime==1.22.0) (1.2.6)\n",
            "Requirement already satisfied: backports.tempfile in /anaconda/envs/azureml_py36/lib/python3.6/site-packages (from azureml-core~=1.22.0->azureml-train-automl-runtime==1.22.0) (1.0)\n",
            "Requirement already satisfied: azureml-model-management-sdk==1.0.1b6.post1 in /anaconda/envs/azureml_py36/lib/python3.6/site-packages (from azureml-defaults~=1.22.0->azureml-train-automl-runtime==1.22.0) (1.0.1b6.post1)\n",
            "Requirement already satisfied: json-logging-py==0.2 in /anaconda/envs/azureml_py36/lib/python3.6/site-packages (from azureml-defaults~=1.22.0->azureml-train-automl-runtime==1.22.0) (0.2)\n",
            "Requirement already satisfied: flask==1.0.3 in /anaconda/envs/azureml_py36/lib/python3.6/site-packages (from azureml-defaults~=1.22.0->azureml-train-automl-runtime==1.22.0) (1.0.3)\n",
            "Requirement already satisfied: gunicorn==19.9.0 in /anaconda/envs/azureml_py36/lib/python3.6/site-packages (from azureml-defaults~=1.22.0->azureml-train-automl-runtime==1.22.0) (19.9.0)\n",
            "Requirement already satisfied: configparser==3.7.4 in /anaconda/envs/azureml_py36/lib/python3.6/site-packages (from azureml-defaults~=1.22.0->azureml-train-automl-runtime==1.22.0) (3.7.4)\n",
            "Requirement already satisfied: applicationinsights>=0.11.7 in /anaconda/envs/azureml_py36/lib/python3.6/site-packages (from azureml-defaults~=1.22.0->azureml-train-automl-runtime==1.22.0) (0.11.9)\n",
            "Requirement already satisfied: werkzeug<=1.0.1,>=0.16.1 in /anaconda/envs/azureml_py36/lib/python3.6/site-packages (from azureml-defaults~=1.22.0->azureml-train-automl-runtime==1.22.0) (1.0.1)\n",
            "Requirement already satisfied: azure-core<2.0.0,>=1.10.0 in /anaconda/envs/azureml_py36/lib/python3.6/site-packages (from azure-storage-queue~=12.1->azureml-train-automl-runtime==1.22.0) (1.10.0)\n",
            "Requirement already satisfied: fire in /anaconda/envs/azureml_py36/lib/python3.6/site-packages (from keras2onnx<=1.6.0,>=1.4.0->azureml-train-automl-runtime==1.22.0) (0.4.0)\n",
            "Requirement already satisfied: psutil<6.0.0,>=5.2.2 in /anaconda/envs/azureml_py36/lib/python3.6/site-packages (from azureml-automl-runtime~=1.22.0->azureml-train-automl-runtime==1.22.0) (5.8.0)\n",
            "Requirement already satisfied: pmdarima==1.1.1 in /anaconda/envs/azureml_py36/lib/python3.6/site-packages (from azureml-automl-runtime~=1.22.0->azureml-train-automl-runtime==1.22.0) (1.1.1)\n",
            "Requirement already satisfied: nimbusml<=1.8.0,>=1.7.1 in /anaconda/envs/azureml_py36/lib/python3.6/site-packages (from azureml-automl-runtime~=1.22.0->azureml-train-automl-runtime==1.22.0) (1.8.0)\n",
            "Requirement already satisfied: dill<0.4.0,>=0.2.8 in /anaconda/envs/azureml_py36/lib/python3.6/site-packages (from azureml-automl-runtime~=1.22.0->azureml-train-automl-runtime==1.22.0) (0.3.3)\n",
            "Requirement already satisfied: py-cpuinfo==5.0.0 in /anaconda/envs/azureml_py36/lib/python3.6/site-packages (from azureml-automl-runtime~=1.22.0->azureml-train-automl-runtime==1.22.0) (5.0.0)\n",
            "Requirement already satisfied: azureml-dataprep<2.10.0a,>=2.9.0a in /anaconda/envs/azureml_py36/lib/python3.6/site-packages (from azureml-dataset-runtime[fuse,pandas]~=1.22.0->azureml-train-automl-runtime==1.22.0) (2.9.1)\n",
            "Requirement already satisfied: pyarrow<2.0.0,>=0.17.0 in /anaconda/envs/azureml_py36/lib/python3.6/site-packages (from azureml-dataset-runtime[fuse,pandas]~=1.22.0->azureml-train-automl-runtime==1.22.0) (1.0.1)\n",
            "Requirement already satisfied: fusepy<4.0.0,>=3.0.1; extra == \"fuse\" in /anaconda/envs/azureml_py36/lib/python3.6/site-packages (from azureml-dataset-runtime[fuse,pandas]~=1.22.0->azureml-train-automl-runtime==1.22.0) (3.0.1)\n",
            "Requirement already satisfied: typing-extensions>=3.6.2.1 in /anaconda/envs/azureml_py36/lib/python3.6/site-packages (from onnx<=1.7.0,>=1.5.0->azureml-train-automl-runtime==1.22.0) (3.7.4.3)\n",
            "Requirement already satisfied: boto>=2.32 in /anaconda/envs/azureml_py36/lib/python3.6/site-packages (from smart-open<=1.9.0->azureml-train-automl-runtime==1.22.0) (2.49.0)\n",
            "Requirement already satisfied: shap<=0.34.0,>=0.20.0 in /anaconda/envs/azureml_py36/lib/python3.6/site-packages (from interpret-community==0.16.*->azureml-interpret~=1.22.0->azureml-train-automl-runtime==1.22.0) (0.34.0)\n",
            "Requirement already satisfied: packaging in /anaconda/envs/azureml_py36/lib/python3.6/site-packages (from interpret-community==0.16.*->azureml-interpret~=1.22.0->azureml-train-automl-runtime==1.22.0) (20.9)\n",
            "Requirement already satisfied: interpret-core[required]<=0.2.1,>=0.1.20 in /anaconda/envs/azureml_py36/lib/python3.6/site-packages (from interpret-community==0.16.*->azureml-interpret~=1.22.0->azureml-train-automl-runtime==1.22.0) (0.2.1)\n",
            "Requirement already satisfied: jeepney>=0.6 in /anaconda/envs/azureml_py36/lib/python3.6/site-packages (from SecretStorage->azureml-core~=1.22.0->azureml-train-automl-runtime==1.22.0) (0.6.0)\n",
            "Requirement already satisfied: importlib-metadata; python_version < \"3.8\" in /anaconda/envs/azureml_py36/lib/python3.6/site-packages (from jsonpickle->azureml-core~=1.22.0->azureml-train-automl-runtime==1.22.0) (3.4.0)\n",
            "Requirement already satisfied: pyasn1>=0.1.1 in /anaconda/envs/azureml_py36/lib/python3.6/site-packages (from ndg-httpsclient->azureml-core~=1.22.0->azureml-train-automl-runtime==1.22.0) (0.4.8)\n",
            "Requirement already satisfied: websocket-client>=0.32.0 in /anaconda/envs/azureml_py36/lib/python3.6/site-packages (from docker->azureml-core~=1.22.0->azureml-train-automl-runtime==1.22.0) (0.57.0)\n",
            "Requirement already satisfied: idna<3,>=2.5 in /anaconda/envs/azureml_py36/lib/python3.6/site-packages (from requests>=2.19.1->azureml-core~=1.22.0->azureml-train-automl-runtime==1.22.0) (2.10)\n",
            "Requirement already satisfied: certifi>=2017.4.17 in /anaconda/envs/azureml_py36/lib/python3.6/site-packages (from requests>=2.19.1->azureml-core~=1.22.0->azureml-train-automl-runtime==1.22.0) (2020.12.5)\n",
            "Requirement already satisfied: chardet<5,>=3.0.2 in /anaconda/envs/azureml_py36/lib/python3.6/site-packages (from requests>=2.19.1->azureml-core~=1.22.0->azureml-train-automl-runtime==1.22.0) (4.0.0)\n",
            "Requirement already satisfied: ruamel.yaml.clib>=0.1.2; platform_python_implementation == \"CPython\" and python_version < \"3.9\" in /anaconda/envs/azureml_py36/lib/python3.6/site-packages (from ruamel.yaml>=0.15.35->azureml-core~=1.22.0->azureml-train-automl-runtime==1.22.0) (0.2.2)\n",
            "Requirement already satisfied: requests-oauthlib>=0.5.0 in /anaconda/envs/azureml_py36/lib/python3.6/site-packages (from msrest>=0.5.1->azureml-core~=1.22.0->azureml-train-automl-runtime==1.22.0) (1.3.0)\n",
            "Requirement already satisfied: isodate>=0.6.0 in /anaconda/envs/azureml_py36/lib/python3.6/site-packages (from msrest>=0.5.1->azureml-core~=1.22.0->azureml-train-automl-runtime==1.22.0) (0.6.0)\n",
            "Requirement already satisfied: cffi>=1.12 in /anaconda/envs/azureml_py36/lib/python3.6/site-packages (from cryptography!=1.9,!=2.0.*,!=2.1.*,!=2.2.*->azureml-core~=1.22.0->azureml-train-automl-runtime==1.22.0) (1.14.4)\n",
            "Requirement already satisfied: backports.weakref in /anaconda/envs/azureml_py36/lib/python3.6/site-packages (from backports.tempfile->azureml-core~=1.22.0->azureml-train-automl-runtime==1.22.0) (1.0.post1)\n",
            "Requirement already satisfied: liac-arff>=2.1.1 in /anaconda/envs/azureml_py36/lib/python3.6/site-packages (from azureml-model-management-sdk==1.0.1b6.post1->azureml-defaults~=1.22.0->azureml-train-automl-runtime==1.22.0) (2.5.0)\n",
            "Requirement already satisfied: click>=5.1 in /anaconda/envs/azureml_py36/lib/python3.6/site-packages (from flask==1.0.3->azureml-defaults~=1.22.0->azureml-train-automl-runtime==1.22.0) (7.1.2)\n",
            "Requirement already satisfied: itsdangerous>=0.24 in /anaconda/envs/azureml_py36/lib/python3.6/site-packages (from flask==1.0.3->azureml-defaults~=1.22.0->azureml-train-automl-runtime==1.22.0) (1.1.0)\n",
            "Requirement already satisfied: termcolor in /anaconda/envs/azureml_py36/lib/python3.6/site-packages (from fire->keras2onnx<=1.6.0,>=1.4.0->azureml-train-automl-runtime==1.22.0) (1.1.0)\n",
            "Requirement already satisfied: Cython>=0.29 in /anaconda/envs/azureml_py36/lib/python3.6/site-packages (from pmdarima==1.1.1->azureml-automl-runtime~=1.22.0->azureml-train-automl-runtime==1.22.0) (0.29.21)\n",
            "Requirement already satisfied: dotnetcore2>=2.1.2 in /anaconda/envs/azureml_py36/lib/python3.6/site-packages (from nimbusml<=1.8.0,>=1.7.1->azureml-automl-runtime~=1.22.0->azureml-train-automl-runtime==1.22.0) (2.1.20)\n",
            "Requirement already satisfied: azureml-dataprep-native<30.0.0,>=29.0.0 in /anaconda/envs/azureml_py36/lib/python3.6/site-packages (from azureml-dataprep<2.10.0a,>=2.9.0a->azureml-dataset-runtime[fuse,pandas]~=1.22.0->azureml-train-automl-runtime==1.22.0) (29.0.0)\n",
            "Requirement already satisfied: azure-identity<1.5.0,>=1.2.0 in /anaconda/envs/azureml_py36/lib/python3.6/site-packages (from azureml-dataprep<2.10.0a,>=2.9.0a->azureml-dataset-runtime[fuse,pandas]~=1.22.0->azureml-train-automl-runtime==1.22.0) (1.4.1)\n",
            "Requirement already satisfied: azureml-dataprep-rslex<1.8.0a,>=1.7.0dev0 in /anaconda/envs/azureml_py36/lib/python3.6/site-packages (from azureml-dataprep<2.10.0a,>=2.9.0a->azureml-dataset-runtime[fuse,pandas]~=1.22.0->azureml-train-automl-runtime==1.22.0) (1.7.0)\n",
            "Requirement already satisfied: cloudpickle<2.0.0,>=1.1.0 in /anaconda/envs/azureml_py36/lib/python3.6/site-packages (from azureml-dataprep<2.10.0a,>=2.9.0a->azureml-dataset-runtime[fuse,pandas]~=1.22.0->azureml-train-automl-runtime==1.22.0) (1.6.0)\n",
            "Requirement already satisfied: tqdm>4.25.0 in /anaconda/envs/azureml_py36/lib/python3.6/site-packages (from shap<=0.34.0,>=0.20.0->interpret-community==0.16.*->azureml-interpret~=1.22.0->azureml-train-automl-runtime==1.22.0) (4.56.0)\n",
            "Requirement already satisfied: pyparsing>=2.0.2 in /anaconda/envs/azureml_py36/lib/python3.6/site-packages (from packaging->interpret-community==0.16.*->azureml-interpret~=1.22.0->azureml-train-automl-runtime==1.22.0) (2.4.7)\n",
            "Requirement already satisfied: zipp>=0.5 in /anaconda/envs/azureml_py36/lib/python3.6/site-packages (from importlib-metadata; python_version < \"3.8\"->jsonpickle->azureml-core~=1.22.0->azureml-train-automl-runtime==1.22.0) (3.4.0)\n",
            "Requirement already satisfied: oauthlib>=3.0.0 in /anaconda/envs/azureml_py36/lib/python3.6/site-packages (from requests-oauthlib>=0.5.0->msrest>=0.5.1->azureml-core~=1.22.0->azureml-train-automl-runtime==1.22.0) (3.1.0)\n",
            "Requirement already satisfied: pycparser in /anaconda/envs/azureml_py36/lib/python3.6/site-packages (from cffi>=1.12->cryptography!=1.9,!=2.0.*,!=2.1.*,!=2.2.*->azureml-core~=1.22.0->azureml-train-automl-runtime==1.22.0) (2.20)\n",
            "Requirement already satisfied: distro>=1.2.0 in /anaconda/envs/azureml_py36/lib/python3.6/site-packages (from dotnetcore2>=2.1.2->nimbusml<=1.8.0,>=1.7.1->azureml-automl-runtime~=1.22.0->azureml-train-automl-runtime==1.22.0) (1.5.0)\n",
            "Requirement already satisfied: msal<2.0.0,>=1.3.0 in /anaconda/envs/azureml_py36/lib/python3.6/site-packages (from azure-identity<1.5.0,>=1.2.0->azureml-dataprep<2.10.0a,>=2.9.0a->azureml-dataset-runtime[fuse,pandas]~=1.22.0->azureml-train-automl-runtime==1.22.0) (1.8.0)\n",
            "Requirement already satisfied: msal-extensions~=0.2.2 in /anaconda/envs/azureml_py36/lib/python3.6/site-packages (from azure-identity<1.5.0,>=1.2.0->azureml-dataprep<2.10.0a,>=2.9.0a->azureml-dataset-runtime[fuse,pandas]~=1.22.0->azureml-train-automl-runtime==1.22.0) (0.2.2)\n",
            "Requirement already satisfied: portalocker~=1.0; platform_system != \"Windows\" in /anaconda/envs/azureml_py36/lib/python3.6/site-packages (from msal-extensions~=0.2.2->azure-identity<1.5.0,>=1.2.0->azureml-dataprep<2.10.0a,>=2.9.0a->azureml-dataset-runtime[fuse,pandas]~=1.22.0->azureml-train-automl-runtime==1.22.0) (1.7.1)\n",
            "Note: you may need to restart the kernel to use updated packages.\n"
          ]
        }
      ],
      "execution_count": 1,
      "metadata": {
        "collapsed": true,
        "jupyter": {
          "source_hidden": false,
          "outputs_hidden": false
        },
        "nteract": {
          "transient": {
            "deleting": false
          }
        },
        "gather": {
          "logged": 1615040843429
        }
      }
    },
    {
      "cell_type": "code",
      "source": [
        "pip install inference_schema"
      ],
      "outputs": [
        {
          "output_type": "stream",
          "name": "stdout",
          "text": [
            "Collecting inference_schema\n",
            "  Downloading inference_schema-1.1.0-py3-none-any.whl (19 kB)\n",
            "Requirement already satisfied: pytz>=2017.2 in /anaconda/envs/azureml_py36/lib/python3.6/site-packages (from inference_schema) (2021.1)\n",
            "Requirement already satisfied: python-dateutil>=2.5.3 in /anaconda/envs/azureml_py36/lib/python3.6/site-packages (from inference_schema) (2.8.1)\n",
            "Collecting wrapt==1.11.1\n",
            "  Downloading wrapt-1.11.1.tar.gz (27 kB)\n",
            "Requirement already satisfied: six>=1.5 in /anaconda/envs/azureml_py36/lib/python3.6/site-packages (from python-dateutil>=2.5.3->inference_schema) (1.15.0)\n",
            "Building wheels for collected packages: wrapt\n",
            "  Building wheel for wrapt (setup.py) ... \u001b[?25l-\b \b\\\b \b|\b \bdone\n",
            "\u001b[?25h  Created wheel for wrapt: filename=wrapt-1.11.1-cp36-cp36m-linux_x86_64.whl size=66557 sha256=8feef0b8dd2570852fada881caab4724b987bdbe79f7b2adc65a68ce080d8222\n",
            "  Stored in directory: /home/azureuser/.cache/pip/wheels/94/0f/ec/66085641573800014bb0c8b657f3366eff641c42df79abbfe9\n",
            "Successfully built wrapt\n",
            "\u001b[31mERROR: tensorflow 2.1.0 has requirement scipy==1.4.1; python_version >= \"3\", but you'll have scipy 1.5.2 which is incompatible.\u001b[0m\n",
            "\u001b[31mERROR: tensorflow-gpu 2.1.0 has requirement scipy==1.4.1; python_version >= \"3\", but you'll have scipy 1.5.2 which is incompatible.\u001b[0m\n",
            "\u001b[31mERROR: autokeras 1.0.12 has requirement tensorflow>=2.3.0, but you'll have tensorflow 2.1.0 which is incompatible.\u001b[0m\n",
            "Installing collected packages: wrapt, inference-schema\n",
            "  Attempting uninstall: wrapt\n",
            "    Found existing installation: wrapt 1.12.1\n",
            "    Uninstalling wrapt-1.12.1:\n",
            "      Successfully uninstalled wrapt-1.12.1\n",
            "Successfully installed inference-schema-1.1.0 wrapt-1.11.1\n",
            "Note: you may need to restart the kernel to use updated packages.\n"
          ]
        }
      ],
      "execution_count": 2,
      "metadata": {
        "collapsed": true,
        "jupyter": {
          "source_hidden": false,
          "outputs_hidden": false
        },
        "nteract": {
          "transient": {
            "deleting": false
          }
        },
        "gather": {
          "logged": 1615040858859
        }
      }
    },
    {
      "cell_type": "code",
      "source": [
        "import azureml.core\r\n",
        "print(\"The version used is :\", azureml.core.VERSION)"
      ],
      "outputs": [
        {
          "output_type": "stream",
          "name": "stdout",
          "text": [
            "The version used is : 1.22.0\n"
          ]
        }
      ],
      "execution_count": 3,
      "metadata": {
        "collapsed": true,
        "jupyter": {
          "source_hidden": false,
          "outputs_hidden": false
        },
        "nteract": {
          "transient": {
            "deleting": false
          }
        },
        "gather": {
          "logged": 1615040866465
        }
      }
    },
    {
      "cell_type": "markdown",
      "source": [
        "## Initialize Workspace and Create Experiment\r\n",
        "\r\n",
        "Initializing a workspace object from persisted configuration.  \r\n",
        "Create an AzureML experiment with experiment name as \"auto-ml\". This will be recorded under the experiment section in Azure ML studio."
      ],
      "metadata": {
        "nteract": {
          "transient": {
            "deleting": false
          }
        }
      }
    },
    {
      "cell_type": "code",
      "source": [
        "from azureml.core import Workspace, Experiment\n",
        "\n",
        "ws = Workspace.from_config()\n",
        "\n",
        "# choose a name for experiment\n",
        "experiment_name = 'auto-ml'\n",
        "\n",
        "experiment=Experiment(ws, experiment_name)\n"
      ],
      "outputs": [
        {
          "output_type": "stream",
          "name": "stdout",
          "text": [
            "Performing interactive authentication. Please follow the instructions on the terminal.\n",
            "To sign in, use a web browser to open the page https://microsoft.com/devicelogin and enter the code FAFLZLZHK to authenticate.\n",
            "You have logged in. Now let us find all the subscriptions to which you have access...\n",
            "Interactive authentication successfully completed.\n"
          ]
        }
      ],
      "execution_count": 4,
      "metadata": {
        "gather": {
          "logged": 1615040892532
        },
        "jupyter": {
          "outputs_hidden": false,
          "source_hidden": false
        },
        "nteract": {
          "transient": {
            "deleting": false
          }
        }
      }
    },
    {
      "cell_type": "code",
      "source": [
        "from azureml.core.compute import ComputeTarget, AmlCompute\r\n",
        "from azureml.core.compute_target import ComputeTargetException\r\n",
        "\r\n",
        "# Create compute cluster\r\n",
        "cpu_cluster_name = \"cpucluster\"\r\n",
        "\r\n",
        "try:\r\n",
        "    cpu_cluster = ComputeTarget(workspace=ws, name=cpu_cluster_name)\r\n",
        "    print('Found existing cluster, use it.')\r\n",
        "except ComputeTargetException:\r\n",
        "    compute_config = AmlCompute.provisioning_configuration(vm_size='STANDARD_D2_V2', max_nodes=4)\r\n",
        "    cpu_cluster = ComputeTarget.create(ws, cpu_cluster_name, compute_config)\r\n",
        "\r\n",
        "cpu_cluster.wait_for_completion(show_output=True)"
      ],
      "outputs": [
        {
          "output_type": "stream",
          "name": "stdout",
          "text": [
            "Found existing cluster, use it.\n",
            "Succeeded\n",
            "AmlCompute wait for completion finished\n",
            "\n",
            "Minimum number of nodes requested have been provisioned\n"
          ]
        }
      ],
      "execution_count": 39,
      "metadata": {
        "collapsed": true,
        "jupyter": {
          "source_hidden": false,
          "outputs_hidden": false
        },
        "nteract": {
          "transient": {
            "deleting": false
          }
        },
        "gather": {
          "logged": 1615044687858
        }
      }
    },
    {
      "cell_type": "markdown",
      "source": [
        "## Overview of Dataset\r\n",
        "The dataset used in this notebook is __heart_failure_clinical_records_dataset.csv__ which is an external dataset available in kaggle.  \r\n",
        "This dataset contains data of 299 patients and 12 features that are useful to predict mortality by heart failure.\r\n",
        "* No.of patients data collected : 299\r\n",
        "* Input variables or features : age, anaemia, creatinine_phosphokinase, diabetes, ejection_fraction, high_blood_pressure, platelets, serum_creatinine, serum_sodium, sex, smoking, time\r\n",
        "* Output/target variable : DEATH_EVENT\r\n",
        "\r\n",
        "In this project, we create a classification model for predicting mortality rate/DEATH_EVENT(target variabe) that is caused due to Heart Failure."
      ],
      "metadata": {
        "nteract": {
          "transient": {
            "deleting": false
          }
        }
      }
    },
    {
      "cell_type": "markdown",
      "source": [
        "### Data Import\r\n",
        "Create tabular dataset of heart_failure_clinical_records_dataset csv_file by importing of data using azureml's **TabularDatasetFactory** class."
      ],
      "metadata": {
        "nteract": {
          "transient": {
            "deleting": false
          }
        }
      }
    },
    {
      "cell_type": "code",
      "source": [
        "from azureml.data.dataset_factory import TabularDatasetFactory\r\n",
        "\r\n",
        "csv_file = 'https://raw.githubusercontent.com/SwapnaKategaru/Project3/main/heart_failure_clinical_records_dataset.csv'\r\n",
        "\r\n",
        "data = TabularDatasetFactory.from_delimited_files(csv_file)"
      ],
      "outputs": [],
      "execution_count": 40,
      "metadata": {
        "collapsed": true,
        "jupyter": {
          "source_hidden": false,
          "outputs_hidden": false
        },
        "nteract": {
          "transient": {
            "deleting": false
          }
        },
        "gather": {
          "logged": 1615045131422
        }
      }
    },
    {
      "cell_type": "markdown",
      "source": [
        "## Clean Data\r\n",
        "A clean_data function is used from **train.py** script file to clean the data and the data is being normalized.  \r\n",
        "\r\n",
        "## Split Data\r\n",
        "\r\n",
        "Splitting of data into train and test subsets is done using **train_test_split** function with specified random state of split (random_state=42) and size of test set (test_size=0.33)."
      ],
      "metadata": {
        "nteract": {
          "transient": {
            "deleting": false
          }
        }
      }
    },
    {
      "cell_type": "code",
      "source": [
        "from train import clean_data\r\n",
        "from sklearn.model_selection import train_test_split\r\n",
        "import pandas as pd\r\n",
        "x, y = clean_data(data)\r\n",
        "\r\n",
        "x_train, x_test, y_train, y_test = train_test_split(x, y, test_size=0.33, random_state=42)\r\n",
        "train_data = pd.concat([x_train, y_train], axis = 1)"
      ],
      "outputs": [],
      "execution_count": 41,
      "metadata": {
        "collapsed": true,
        "jupyter": {
          "source_hidden": false,
          "outputs_hidden": false
        },
        "nteract": {
          "transient": {
            "deleting": false
          }
        },
        "gather": {
          "logged": 1615045512366
        }
      }
    },
    {
      "cell_type": "markdown",
      "source": [
        "## AutoML Configuration\r\n",
        "TODO: Explain why you chose the automl settings and cofiguration you used below."
      ],
      "metadata": {
        "nteract": {
          "transient": {
            "deleting": false
          }
        }
      }
    },
    {
      "cell_type": "code",
      "source": [
        "from azureml.train.automl import AutoMLConfig\r\n",
        "import logging\r\n",
        "\r\n",
        "automl_settings = {\r\n",
        "    \"enable_early_stopping\" : True,\r\n",
        "    \"max_concurrent_iterations\": 4,\r\n",
        "    \"primary_metric\": 'AUC_weighted',\r\n",
        "    \"featurization\": 'auto',\r\n",
        "    \"verbosity\": logging.INFO,\r\n",
        "}\r\n",
        "\r\n",
        "automl_config = AutoMLConfig(\r\n",
        "    experiment_timeout_minutes=15,\r\n",
        "    task='classification',\r\n",
        "    training_data=train_data,\r\n",
        "    label_column_name='DEATH_EVENT',\r\n",
        "    n_cross_validations=2,\r\n",
        "    blocked_models=['XGBoostClassifier']\r\n",
        ")"
      ],
      "outputs": [],
      "execution_count": 8,
      "metadata": {
        "collapsed": true,
        "jupyter": {
          "source_hidden": false,
          "outputs_hidden": false
        },
        "nteract": {
          "transient": {
            "deleting": false
          }
        },
        "gather": {
          "logged": 1615042031273
        }
      }
    },
    {
      "cell_type": "code",
      "source": [
        "remote_run = experiment.submit(automl_config, show_output=True)"
      ],
      "outputs": [
        {
          "output_type": "stream",
          "name": "stdout",
          "text": [
            "No run_configuration provided, running on local with default configuration\n",
            "Running on local machine\n",
            "Parent Run ID: AutoML_d2989d9f-2b73-485a-92d2-33e34c18b2b7\n",
            "\n",
            "Current status: DatasetEvaluation. Gathering dataset statistics.\n",
            "Current status: FeaturesGeneration. Generating features for the dataset.\n",
            "Current status: DatasetFeaturization. Beginning to fit featurizers and featurize the dataset.\n",
            "Current status: DatasetFeaturizationCompleted. Completed fit featurizers and featurizing the dataset.\n",
            "Current status: DatasetCrossValidationSplit. Generating individually featurized CV splits.\n",
            "\n",
            "****************************************************************************************************\n",
            "DATA GUARDRAILS: \n",
            "\n",
            "TYPE:         Class balancing detection\n",
            "STATUS:       PASSED\n",
            "DESCRIPTION:  Your inputs were analyzed, and all classes are balanced in your training data.\n",
            "              Learn more about imbalanced data: https://aka.ms/AutomatedMLImbalancedData\n",
            "\n",
            "****************************************************************************************************\n",
            "\n",
            "TYPE:         Missing feature values imputation\n",
            "STATUS:       PASSED\n",
            "DESCRIPTION:  No feature missing values were detected in the training data.\n",
            "              Learn more about missing value imputation: https://aka.ms/AutomatedMLFeaturization\n",
            "\n",
            "****************************************************************************************************\n",
            "\n",
            "TYPE:         High cardinality feature detection\n",
            "STATUS:       PASSED\n",
            "DESCRIPTION:  Your inputs were analyzed, and no high cardinality features were detected.\n",
            "              Learn more about high cardinality feature handling: https://aka.ms/AutomatedMLFeaturization\n",
            "\n",
            "****************************************************************************************************\n",
            "Current status: ModelSelection. Beginning model selection.\n",
            "\n",
            "****************************************************************************************************\n",
            "ITERATION: The iteration being evaluated.\n",
            "PIPELINE: A summary description of the pipeline being evaluated.\n",
            "DURATION: Time taken for the current iteration.\n",
            "METRIC: The result of computing score on the fitted pipeline.\n",
            "BEST: The best observed score thus far.\n",
            "****************************************************************************************************\n",
            "\n",
            " ITERATION   PIPELINE                                       DURATION      METRIC      BEST\n",
            "         0   MaxAbsScaler LightGBM                          0:00:26       0.8100    0.8100\n",
            "         1   MinMaxScaler RandomForest                      0:00:23       0.8700    0.8700\n",
            "         2   MinMaxScaler RandomForest                      0:00:23       0.8850    0.8850\n",
            "         3   MinMaxScaler RandomForest                      0:00:24       0.8450    0.8850\n",
            "         4   MinMaxScaler RandomForest                      0:00:28       0.8750    0.8850\n",
            "         5   MinMaxScaler SVM                               0:00:23       0.8000    0.8850\n",
            "         6   StandardScalerWrapper GradientBoosting         0:00:23       0.8800    0.8850\n",
            "         7   StandardScalerWrapper RandomForest             0:00:23       0.8400    0.8850\n",
            "         8   MaxAbsScaler LightGBM                          0:00:23       0.8700    0.8850\n",
            "         9   SparseNormalizer LightGBM                      0:00:23       0.8400    0.8850\n",
            "        10   MaxAbsScaler LightGBM                          0:00:23       0.8450    0.8850\n",
            "        11   SparseNormalizer RandomForest                  0:00:23       0.8300    0.8850\n",
            "        12   MinMaxScaler LightGBM                          0:00:23       0.8300    0.8850\n",
            "        13   RobustScaler LogisticRegression                0:00:24       0.7700    0.8850\n",
            "        14   StandardScalerWrapper LightGBM                 0:00:23       0.7650    0.8850\n",
            "        15   StandardScalerWrapper LightGBM                 0:00:23       0.7600    0.8850\n",
            "        16   StandardScalerWrapper LightGBM                 0:00:23       0.7750    0.8850\n",
            "        17   StandardScalerWrapper ExtremeRandomTrees       0:00:24       0.7350    0.8850\n",
            "        18   StandardScalerWrapper LightGBM                 0:00:23       0.7300    0.8850\n",
            "        19   RobustScaler LightGBM                          0:00:23       0.8650    0.8850\n",
            "        20   MaxAbsScaler LightGBM                          0:00:23       0.8650    0.8850\n",
            "        21   MinMaxScaler LightGBM                          0:00:23       0.7850    0.8850\n",
            "        22   MinMaxScaler LightGBM                          0:00:28       0.8300    0.8850\n",
            "        23   StandardScalerWrapper LightGBM                 0:00:23       0.8600    0.8850\n",
            "        24   SparseNormalizer LightGBM                      0:00:28       0.8600    0.8850\n",
            "        25   StandardScalerWrapper RandomForest             0:00:24       0.5750    0.8850\n",
            "        26   SparseNormalizer LightGBM                      0:00:23       0.8650    0.8850\n",
            "        27   StandardScalerWrapper LightGBM                 0:00:23       0.8550    0.8850\n",
            "        28   MaxAbsScaler LightGBM                          0:00:29       0.8700    0.8850\n",
            "        29   SparseNormalizer ExtremeRandomTrees            0:00:24       0.8150    0.8850\n",
            "        30   MaxAbsScaler RandomForest                      0:00:24       0.8200    0.8850\n",
            "        31   StandardScalerWrapper LightGBM                 0:00:24       0.8700    0.8850\n",
            "        32   MaxAbsScaler GradientBoosting                  0:00:24       0.8550    0.8850\n",
            "        33   StandardScalerWrapper RandomForest             0:00:24       0.8800    0.8850\n",
            "        34   MaxAbsScaler LightGBM                          0:00:24       0.8150    0.8850\n",
            "        35   VotingEnsemble                                 0:00:24       0.9000    0.9000\n",
            "        36   StackEnsemble                                  0:00:19       0.8850    0.9000\n",
            "Stopping criteria reached at iteration 37. Ending experiment.\n",
            "****************************************************************************************************\n",
            "Current status: BestRunExplainModel. Best run model explanations started\n",
            "Current status: ModelExplanationDataSetSetup. Model explanations data setup completed\n",
            "Current status: PickSurrogateModel. Choosing LightGBM as the surrogate model for explanations\n",
            "Current status: EngineeredFeatureExplanations. Computation of engineered features started\n",
            "Current status: EngineeredFeatureExplanations. Computation of engineered features completed\n",
            "Current status: RawFeaturesExplanations. Computation of raw features started\n",
            "Current status: RawFeaturesExplanations. Computation of raw features completed\n",
            "Current status: BestRunExplainModel. Best run model explanations completed\n",
            "****************************************************************************************************\n"
          ]
        }
      ],
      "execution_count": 9,
      "metadata": {
        "collapsed": true,
        "jupyter": {
          "source_hidden": false,
          "outputs_hidden": false
        },
        "nteract": {
          "transient": {
            "deleting": false
          }
        },
        "gather": {
          "logged": 1615043170195
        }
      }
    },
    {
      "cell_type": "markdown",
      "source": [
        "## Run Details\r\n",
        "OPTIONAL: Write about the different models trained and their performance. Why do you think some models did better than others?\r\n",
        "\r\n",
        "TODO: In the cell below, use the RunDetails widget to show the different experiments."
      ],
      "metadata": {
        "nteract": {
          "transient": {
            "deleting": false
          }
        }
      }
    },
    {
      "cell_type": "code",
      "source": [
        "from azureml.widgets import RunDetails\r\n",
        "RunDetails(remote_run).show()"
      ],
      "outputs": [
        {
          "output_type": "display_data",
          "data": {
            "text/plain": "_AutoMLWidget(widget_settings={'childWidgetDisplay': 'popup', 'send_telemetry': False, 'log_level': 'INFO', 's…",
            "application/vnd.jupyter.widget-view+json": {
              "version_major": 2,
              "version_minor": 0,
              "model_id": "fc42722b30e944e9b9e8cd17bb9498e8"
            }
          },
          "metadata": {}
        },
        {
          "output_type": "display_data",
          "data": {
            "application/aml.mini.widget.v1": "{\"status\": \"Completed\", \"workbench_run_details_uri\": \"https://ml.azure.com/experiments/auto-ml/runs/AutoML_d2989d9f-2b73-485a-92d2-33e34c18b2b7?wsid=/subscriptions/9a7511b8-150f-4a58-8528-3e7d50216c31/resourcegroups/aml-quickstarts-139939/workspaces/quick-starts-ws-139939\", \"run_id\": \"AutoML_d2989d9f-2b73-485a-92d2-33e34c18b2b7\", \"run_properties\": {\"run_id\": \"AutoML_d2989d9f-2b73-485a-92d2-33e34c18b2b7\", \"created_utc\": \"2021-03-06T14:48:12.997385Z\", \"properties\": {\"num_iterations\": \"1000\", \"training_type\": \"TrainFull\", \"acquisition_function\": \"EI\", \"primary_metric\": \"accuracy\", \"train_split\": \"0\", \"acquisition_parameter\": \"0\", \"num_cross_validation\": \"2\", \"target\": \"local\", \"AMLSettingsJsonString\": \"{\\\"path\\\":null,\\\"name\\\":\\\"auto-ml\\\",\\\"subscription_id\\\":\\\"9a7511b8-150f-4a58-8528-3e7d50216c31\\\",\\\"resource_group\\\":\\\"aml-quickstarts-139939\\\",\\\"workspace_name\\\":\\\"quick-starts-ws-139939\\\",\\\"region\\\":\\\"southcentralus\\\",\\\"compute_target\\\":\\\"local\\\",\\\"spark_service\\\":null,\\\"azure_service\\\":\\\"Microsoft.AzureNotebookVM\\\",\\\"many_models\\\":false,\\\"pipeline_fetch_max_batch_size\\\":1,\\\"iterations\\\":1000,\\\"primary_metric\\\":\\\"accuracy\\\",\\\"task_type\\\":\\\"classification\\\",\\\"data_script\\\":null,\\\"validation_size\\\":0.0,\\\"n_cross_validations\\\":2,\\\"y_min\\\":null,\\\"y_max\\\":null,\\\"num_classes\\\":2,\\\"featurization\\\":\\\"auto\\\",\\\"_ignore_package_version_incompatibilities\\\":false,\\\"is_timeseries\\\":false,\\\"max_cores_per_iteration\\\":1,\\\"max_concurrent_iterations\\\":1,\\\"iteration_timeout_minutes\\\":null,\\\"mem_in_mb\\\":null,\\\"enforce_time_on_windows\\\":false,\\\"experiment_timeout_minutes\\\":15,\\\"experiment_exit_score\\\":null,\\\"whitelist_models\\\":null,\\\"blacklist_algos\\\":[\\\"XGBoostClassifier\\\",\\\"TensorFlowLinearClassifier\\\",\\\"TensorFlowDNN\\\"],\\\"supported_models\\\":[\\\"LogisticRegression\\\",\\\"LinearSVM\\\",\\\"TensorFlowDNN\\\",\\\"MultinomialNaiveBayes\\\",\\\"DecisionTree\\\",\\\"BernoulliNaiveBayes\\\",\\\"RandomForest\\\",\\\"ExtremeRandomTrees\\\",\\\"SVM\\\",\\\"SGD\\\",\\\"LightGBM\\\",\\\"XGBoostClassifier\\\",\\\"AveragedPerceptronClassifier\\\",\\\"GradientBoosting\\\",\\\"KNN\\\",\\\"TensorFlowLinearClassifier\\\"],\\\"private_models\\\":[],\\\"auto_blacklist\\\":true,\\\"blacklist_samples_reached\\\":false,\\\"exclude_nan_labels\\\":true,\\\"verbosity\\\":20,\\\"_debug_log\\\":\\\"automl.log\\\",\\\"show_warnings\\\":false,\\\"model_explainability\\\":true,\\\"service_url\\\":null,\\\"sdk_url\\\":null,\\\"sdk_packages\\\":null,\\\"enable_onnx_compatible_models\\\":false,\\\"enable_split_onnx_featurizer_estimator_models\\\":false,\\\"vm_type\\\":null,\\\"telemetry_verbosity\\\":20,\\\"send_telemetry\\\":true,\\\"enable_dnn\\\":false,\\\"scenario\\\":\\\"SDK-1.13.0\\\",\\\"environment_label\\\":null,\\\"force_text_dnn\\\":false,\\\"enable_feature_sweeping\\\":true,\\\"enable_early_stopping\\\":false,\\\"early_stopping_n_iters\\\":10,\\\"metrics\\\":null,\\\"enable_ensembling\\\":true,\\\"enable_stack_ensembling\\\":true,\\\"ensemble_iterations\\\":15,\\\"enable_tf\\\":false,\\\"enable_subsampling\\\":null,\\\"subsample_seed\\\":null,\\\"enable_nimbusml\\\":false,\\\"enable_streaming\\\":false,\\\"force_streaming\\\":false,\\\"track_child_runs\\\":true,\\\"allowed_private_models\\\":[],\\\"label_column_name\\\":\\\"DEATH_EVENT\\\",\\\"weight_column_name\\\":null,\\\"cv_split_column_names\\\":null,\\\"enable_local_managed\\\":false,\\\"_local_managed_run_id\\\":null,\\\"cost_mode\\\":1,\\\"lag_length\\\":0,\\\"metric_operation\\\":\\\"maximize\\\",\\\"preprocess\\\":true}\", \"DataPrepJsonString\": null, \"EnableSubsampling\": null, \"runTemplate\": \"AutoML\", \"azureml.runsource\": \"automl\", \"display_task_type\": \"classification\", \"dependencies_versions\": \"{\\\"azureml-widgets\\\": \\\"1.22.0\\\", \\\"azureml-train\\\": \\\"1.22.0\\\", \\\"azureml-train-restclients-hyperdrive\\\": \\\"1.22.0\\\", \\\"azureml-train-core\\\": \\\"1.22.0\\\", \\\"azureml-train-automl\\\": \\\"1.22.0\\\", \\\"azureml-train-automl-runtime\\\": \\\"1.22.0\\\", \\\"azureml-train-automl-client\\\": \\\"1.22.0\\\", \\\"azureml-tensorboard\\\": \\\"1.22.0\\\", \\\"azureml-telemetry\\\": \\\"1.22.0\\\", \\\"azureml-sdk\\\": \\\"1.22.0\\\", \\\"azureml-samples\\\": \\\"0+unknown\\\", \\\"azureml-pipeline\\\": \\\"1.22.0\\\", \\\"azureml-pipeline-steps\\\": \\\"1.22.0\\\", \\\"azureml-pipeline-core\\\": \\\"1.22.0\\\", \\\"azureml-opendatasets\\\": \\\"1.22.0\\\", \\\"azureml-model-management-sdk\\\": \\\"1.0.1b6.post1\\\", \\\"azureml-mlflow\\\": \\\"1.22.0\\\", \\\"azureml-interpret\\\": \\\"1.22.0\\\", \\\"azureml-explain-model\\\": \\\"1.22.0\\\", \\\"azureml-defaults\\\": \\\"1.22.0\\\", \\\"azureml-dataset-runtime\\\": \\\"1.22.0\\\", \\\"azureml-dataprep\\\": \\\"2.9.1\\\", \\\"azureml-dataprep-rslex\\\": \\\"1.7.0\\\", \\\"azureml-dataprep-native\\\": \\\"29.0.0\\\", \\\"azureml-datadrift\\\": \\\"1.22.0\\\", \\\"azureml-core\\\": \\\"1.22.0\\\", \\\"azureml-contrib-services\\\": \\\"1.22.0\\\", \\\"azureml-contrib-server\\\": \\\"1.22.0\\\", \\\"azureml-contrib-reinforcementlearning\\\": \\\"1.22.0\\\", \\\"azureml-contrib-pipeline-steps\\\": \\\"1.22.0\\\", \\\"azureml-contrib-notebook\\\": \\\"1.22.0\\\", \\\"azureml-contrib-interpret\\\": \\\"1.22.0\\\", \\\"azureml-contrib-gbdt\\\": \\\"1.22.0\\\", \\\"azureml-contrib-fairness\\\": \\\"1.22.0\\\", \\\"azureml-contrib-dataset\\\": \\\"1.22.0\\\", \\\"azureml-cli-common\\\": \\\"1.22.0\\\", \\\"azureml-automl-runtime\\\": \\\"1.22.0\\\", \\\"azureml-automl-core\\\": \\\"1.22.0\\\", \\\"azureml-accel-models\\\": \\\"1.22.0\\\"}\", \"_aml_system_scenario_identification\": \"Local.Parent\", \"ClientSdkVersion\": \"1.22.0\", \"ClientType\": \"SDK\", \"environment_cpu_name\": \"AzureML-AutoML\", \"environment_cpu_label\": \"prod\", \"environment_gpu_name\": \"AzureML-AutoML-GPU\", \"environment_gpu_label\": \"prod\", \"root_attribution\": \"automl\", \"attribution\": \"AutoML\", \"Orchestrator\": \"AutoML\", \"_azureml.ComputeTargetType\": \"local\", \"ProblemInfoJsonString\": \"{\\\"dataset_num_categorical\\\": 0, \\\"is_sparse\\\": false, \\\"subsampling\\\": false, \\\"dataset_classes\\\": 2, \\\"dataset_features\\\": 12, \\\"dataset_samples\\\": 200, \\\"single_frequency_class_detected\\\": false}\", \"feature_skus\": \"automatedml_sdk_guardrails\"}, \"tags\": {\"model_explain_run\": \"best_run\", \"best_score\": \"0.9\", \"best_pipeline\": \"VotingEnsemble\", \"automl_best_child_run_id\": \"AutoML_d2989d9f-2b73-485a-92d2-33e34c18b2b7_35\", \"model_explain_best_run_child_id\": \"AutoML_d2989d9f-2b73-485a-92d2-33e34c18b2b7_35\"}, \"end_time_utc\": \"2021-03-06T15:04:12.990844Z\", \"status\": \"Completed\", \"log_files\": {}, \"log_groups\": [], \"run_duration\": \"0:15:59\", \"run_number\": \"1\", \"run_queued_details\": {\"status\": \"Completed\", \"details\": null}}, \"child_runs\": [{\"run_id\": \"AutoML_d2989d9f-2b73-485a-92d2-33e34c18b2b7_0\", \"run_number\": 2, \"metric\": null, \"status\": \"Completed\", \"run_type\": null, \"training_percent\": \"100\", \"start_time\": \"2021-03-06T14:48:24.948157Z\", \"end_time\": \"2021-03-06T14:48:51.267059Z\", \"created_time\": \"2021-03-06T14:48:24.843883Z\", \"created_time_dt\": \"2021-03-06T14:48:24.843883Z\", \"duration\": \"0:00:26\", \"iteration\": \"0\", \"goal\": \"accuracy_max\", \"run_name\": \"MaxAbsScaler, LightGBM\", \"run_properties\": \"copy=True\", \"primary_metric\": 0.81, \"best_metric\": 0.81}, {\"run_id\": \"AutoML_d2989d9f-2b73-485a-92d2-33e34c18b2b7_1\", \"run_number\": 3, \"metric\": null, \"status\": \"Completed\", \"run_type\": null, \"training_percent\": \"100\", \"start_time\": \"2021-03-06T14:48:51.949534Z\", \"end_time\": \"2021-03-06T14:49:15.24478Z\", \"created_time\": \"2021-03-06T14:48:51.849877Z\", \"created_time_dt\": \"2021-03-06T14:48:51.849877Z\", \"duration\": \"0:00:23\", \"iteration\": \"1\", \"goal\": \"accuracy_max\", \"run_name\": \"MinMaxScaler, RandomForest\", \"run_properties\": \"copy=True, feature_range=(0, 1\", \"primary_metric\": 0.87, \"best_metric\": 0.87}, {\"run_id\": \"AutoML_d2989d9f-2b73-485a-92d2-33e34c18b2b7_2\", \"run_number\": 4, \"metric\": null, \"status\": \"Completed\", \"run_type\": null, \"training_percent\": \"100\", \"start_time\": \"2021-03-06T14:49:16.413012Z\", \"end_time\": \"2021-03-06T14:49:39.959567Z\", \"created_time\": \"2021-03-06T14:49:16.300575Z\", \"created_time_dt\": \"2021-03-06T14:49:16.300575Z\", \"duration\": \"0:00:23\", \"iteration\": \"2\", \"goal\": \"accuracy_max\", \"run_name\": \"MinMaxScaler, RandomForest\", \"run_properties\": \"copy=True, feature_range=(0, 1\", \"primary_metric\": 0.885, \"best_metric\": 0.885}, {\"run_id\": \"AutoML_d2989d9f-2b73-485a-92d2-33e34c18b2b7_3\", \"run_number\": 5, \"metric\": null, \"status\": \"Completed\", \"run_type\": null, \"training_percent\": \"100\", \"start_time\": \"2021-03-06T14:49:40.984653Z\", \"end_time\": \"2021-03-06T14:50:05.024043Z\", \"created_time\": \"2021-03-06T14:49:40.887553Z\", \"created_time_dt\": \"2021-03-06T14:49:40.887553Z\", \"duration\": \"0:00:24\", \"iteration\": \"3\", \"goal\": \"accuracy_max\", \"run_name\": \"MinMaxScaler, RandomForest\", \"run_properties\": \"copy=True, feature_range=(0, 1\", \"primary_metric\": 0.845, \"best_metric\": 0.885}, {\"run_id\": \"AutoML_d2989d9f-2b73-485a-92d2-33e34c18b2b7_4\", \"run_number\": 6, \"metric\": null, \"status\": \"Completed\", \"run_type\": null, \"training_percent\": \"100\", \"start_time\": \"2021-03-06T14:50:06.487112Z\", \"end_time\": \"2021-03-06T14:50:34.771945Z\", \"created_time\": \"2021-03-06T14:50:06.370622Z\", \"created_time_dt\": \"2021-03-06T14:50:06.370622Z\", \"duration\": \"0:00:28\", \"iteration\": \"4\", \"goal\": \"accuracy_max\", \"run_name\": \"MinMaxScaler, RandomForest\", \"run_properties\": \"copy=True, feature_range=(0, 1\", \"primary_metric\": 0.875, \"best_metric\": 0.885}, {\"run_id\": \"AutoML_d2989d9f-2b73-485a-92d2-33e34c18b2b7_5\", \"run_number\": 7, \"metric\": null, \"status\": \"Completed\", \"run_type\": null, \"training_percent\": \"100\", \"start_time\": \"2021-03-06T14:50:35.893256Z\", \"end_time\": \"2021-03-06T14:50:59.23416Z\", \"created_time\": \"2021-03-06T14:50:35.77183Z\", \"created_time_dt\": \"2021-03-06T14:50:35.77183Z\", \"duration\": \"0:00:23\", \"iteration\": \"5\", \"goal\": \"accuracy_max\", \"run_name\": \"MinMaxScaler, SVM\", \"run_properties\": \"copy=True, feature_range=(0, 1\", \"primary_metric\": 0.8, \"best_metric\": 0.885}, {\"run_id\": \"AutoML_d2989d9f-2b73-485a-92d2-33e34c18b2b7_6\", \"run_number\": 8, \"metric\": null, \"status\": \"Completed\", \"run_type\": null, \"training_percent\": \"100\", \"start_time\": \"2021-03-06T14:51:00.489904Z\", \"end_time\": \"2021-03-06T14:51:23.748593Z\", \"created_time\": \"2021-03-06T14:51:00.37834Z\", \"created_time_dt\": \"2021-03-06T14:51:00.37834Z\", \"duration\": \"0:00:23\", \"iteration\": \"6\", \"goal\": \"accuracy_max\", \"run_name\": \"StandardScalerWrapper, GradientBoosting\", \"run_properties\": \"<azureml.automl.runtime.shared.model_wrappers.StandardScalerWrapper object at 0x7f3dced6e160\", \"primary_metric\": 0.88, \"best_metric\": 0.885}, {\"run_id\": \"AutoML_d2989d9f-2b73-485a-92d2-33e34c18b2b7_7\", \"run_number\": 9, \"metric\": null, \"status\": \"Completed\", \"run_type\": null, \"training_percent\": \"100\", \"start_time\": \"2021-03-06T14:51:24.983911Z\", \"end_time\": \"2021-03-06T14:51:47.933118Z\", \"created_time\": \"2021-03-06T14:51:24.890919Z\", \"created_time_dt\": \"2021-03-06T14:51:24.890919Z\", \"duration\": \"0:00:23\", \"iteration\": \"7\", \"goal\": \"accuracy_max\", \"run_name\": \"StandardScalerWrapper, RandomForest\", \"run_properties\": \"<azureml.automl.runtime.shared.model_wrappers.StandardScalerWrapper object at 0x7f3dced41dd8\", \"primary_metric\": 0.84, \"best_metric\": 0.885}, {\"run_id\": \"AutoML_d2989d9f-2b73-485a-92d2-33e34c18b2b7_8\", \"run_number\": 10, \"metric\": null, \"status\": \"Completed\", \"run_type\": null, \"training_percent\": \"100\", \"start_time\": \"2021-03-06T14:51:49.220607Z\", \"end_time\": \"2021-03-06T14:52:12.257152Z\", \"created_time\": \"2021-03-06T14:51:49.072288Z\", \"created_time_dt\": \"2021-03-06T14:51:49.072288Z\", \"duration\": \"0:00:23\", \"iteration\": \"8\", \"goal\": \"accuracy_max\", \"run_name\": \"MaxAbsScaler, LightGBM\", \"run_properties\": \"copy=True\", \"primary_metric\": 0.87, \"best_metric\": 0.885}, {\"run_id\": \"AutoML_d2989d9f-2b73-485a-92d2-33e34c18b2b7_9\", \"run_number\": 11, \"metric\": null, \"status\": \"Completed\", \"run_type\": null, \"training_percent\": \"100\", \"start_time\": \"2021-03-06T14:52:13.503249Z\", \"end_time\": \"2021-03-06T14:52:36.612792Z\", \"created_time\": \"2021-03-06T14:52:13.403387Z\", \"created_time_dt\": \"2021-03-06T14:52:13.403387Z\", \"duration\": \"0:00:23\", \"iteration\": \"9\", \"goal\": \"accuracy_max\", \"run_name\": \"SparseNormalizer, LightGBM\", \"run_properties\": \"<azureml.automl.runtime.shared.model_wrappers.SparseNormalizer object at 0x7f3dced9ffd0\", \"primary_metric\": 0.84, \"best_metric\": 0.885}, {\"run_id\": \"AutoML_d2989d9f-2b73-485a-92d2-33e34c18b2b7_10\", \"run_number\": 12, \"metric\": null, \"status\": \"Completed\", \"run_type\": null, \"training_percent\": \"100\", \"start_time\": \"2021-03-06T14:52:37.940966Z\", \"end_time\": \"2021-03-06T14:53:01.190296Z\", \"created_time\": \"2021-03-06T14:52:37.806209Z\", \"created_time_dt\": \"2021-03-06T14:52:37.806209Z\", \"duration\": \"0:00:23\", \"iteration\": \"10\", \"goal\": \"accuracy_max\", \"run_name\": \"MaxAbsScaler, LightGBM\", \"run_properties\": \"copy=True\", \"primary_metric\": 0.845, \"best_metric\": 0.885}, {\"run_id\": \"AutoML_d2989d9f-2b73-485a-92d2-33e34c18b2b7_11\", \"run_number\": 13, \"metric\": null, \"status\": \"Completed\", \"run_type\": null, \"training_percent\": \"100\", \"start_time\": \"2021-03-06T14:53:02.444131Z\", \"end_time\": \"2021-03-06T14:53:25.792528Z\", \"created_time\": \"2021-03-06T14:53:02.293973Z\", \"created_time_dt\": \"2021-03-06T14:53:02.293973Z\", \"duration\": \"0:00:23\", \"iteration\": \"11\", \"goal\": \"accuracy_max\", \"run_name\": \"SparseNormalizer, RandomForest\", \"run_properties\": \"<azureml.automl.runtime.shared.model_wrappers.SparseNormalizer object at 0x7f3dced5ffd0\", \"primary_metric\": 0.83, \"best_metric\": 0.885}, {\"run_id\": \"AutoML_d2989d9f-2b73-485a-92d2-33e34c18b2b7_12\", \"run_number\": 14, \"metric\": null, \"status\": \"Completed\", \"run_type\": null, \"training_percent\": \"100\", \"start_time\": \"2021-03-06T14:53:27.090441Z\", \"end_time\": \"2021-03-06T14:53:50.618077Z\", \"created_time\": \"2021-03-06T14:53:26.981786Z\", \"created_time_dt\": \"2021-03-06T14:53:26.981786Z\", \"duration\": \"0:00:23\", \"iteration\": \"12\", \"goal\": \"accuracy_max\", \"run_name\": \"MinMaxScaler, LightGBM\", \"run_properties\": \"copy=True, feature_range=(0, 1\", \"primary_metric\": 0.83, \"best_metric\": 0.885}, {\"run_id\": \"AutoML_d2989d9f-2b73-485a-92d2-33e34c18b2b7_13\", \"run_number\": 15, \"metric\": null, \"status\": \"Completed\", \"run_type\": null, \"training_percent\": \"100\", \"start_time\": \"2021-03-06T14:53:51.72223Z\", \"end_time\": \"2021-03-06T14:54:15.681682Z\", \"created_time\": \"2021-03-06T14:53:51.621088Z\", \"created_time_dt\": \"2021-03-06T14:53:51.621088Z\", \"duration\": \"0:00:24\", \"iteration\": \"13\", \"goal\": \"accuracy_max\", \"run_name\": \"RobustScaler, LogisticRegression\", \"run_properties\": \"copy=True, quantile_range=[25, 75], with_centering=False,\\n             with_scaling=False\", \"primary_metric\": 0.77, \"best_metric\": 0.885}, {\"run_id\": \"AutoML_d2989d9f-2b73-485a-92d2-33e34c18b2b7_14\", \"run_number\": 16, \"metric\": null, \"status\": \"Completed\", \"run_type\": null, \"training_percent\": \"100\", \"start_time\": \"2021-03-06T14:54:16.9188Z\", \"end_time\": \"2021-03-06T14:54:40.497673Z\", \"created_time\": \"2021-03-06T14:54:16.824246Z\", \"created_time_dt\": \"2021-03-06T14:54:16.824246Z\", \"duration\": \"0:00:23\", \"iteration\": \"14\", \"goal\": \"accuracy_max\", \"run_name\": \"StandardScalerWrapper, LightGBM\", \"run_properties\": \"<azureml.automl.runtime.shared.model_wrappers.StandardScalerWrapper object at 0x7f3dcec26e10\", \"primary_metric\": 0.765, \"best_metric\": 0.885}, {\"run_id\": \"AutoML_d2989d9f-2b73-485a-92d2-33e34c18b2b7_15\", \"run_number\": 17, \"metric\": null, \"status\": \"Completed\", \"run_type\": null, \"training_percent\": \"100\", \"start_time\": \"2021-03-06T14:54:41.692655Z\", \"end_time\": \"2021-03-06T14:55:05.241086Z\", \"created_time\": \"2021-03-06T14:54:41.600212Z\", \"created_time_dt\": \"2021-03-06T14:54:41.600212Z\", \"duration\": \"0:00:23\", \"iteration\": \"15\", \"goal\": \"accuracy_max\", \"run_name\": \"StandardScalerWrapper, LightGBM\", \"run_properties\": \"<azureml.automl.runtime.shared.model_wrappers.StandardScalerWrapper object at 0x7f3cac7fe0b8\", \"primary_metric\": 0.76, \"best_metric\": 0.885}, {\"run_id\": \"AutoML_d2989d9f-2b73-485a-92d2-33e34c18b2b7_16\", \"run_number\": 18, \"metric\": null, \"status\": \"Completed\", \"run_type\": null, \"training_percent\": \"100\", \"start_time\": \"2021-03-06T14:55:06.451032Z\", \"end_time\": \"2021-03-06T14:55:29.67867Z\", \"created_time\": \"2021-03-06T14:55:06.353115Z\", \"created_time_dt\": \"2021-03-06T14:55:06.353115Z\", \"duration\": \"0:00:23\", \"iteration\": \"16\", \"goal\": \"accuracy_max\", \"run_name\": \"StandardScalerWrapper, LightGBM\", \"run_properties\": \"<azureml.automl.runtime.shared.model_wrappers.StandardScalerWrapper object at 0x7f3dcec263c8\", \"primary_metric\": 0.775, \"best_metric\": 0.885}, {\"run_id\": \"AutoML_d2989d9f-2b73-485a-92d2-33e34c18b2b7_17\", \"run_number\": 19, \"metric\": null, \"status\": \"Completed\", \"run_type\": null, \"training_percent\": \"100\", \"start_time\": \"2021-03-06T14:55:31.009865Z\", \"end_time\": \"2021-03-06T14:55:55.845119Z\", \"created_time\": \"2021-03-06T14:55:30.90583Z\", \"created_time_dt\": \"2021-03-06T14:55:30.90583Z\", \"duration\": \"0:00:24\", \"iteration\": \"17\", \"goal\": \"accuracy_max\", \"run_name\": \"StandardScalerWrapper, ExtremeRandomTrees\", \"run_properties\": \"<azureml.automl.runtime.shared.model_wrappers.StandardScalerWrapper object at 0x7f3dcec36b38\", \"primary_metric\": 0.735, \"best_metric\": 0.885}, {\"run_id\": \"AutoML_d2989d9f-2b73-485a-92d2-33e34c18b2b7_18\", \"run_number\": 20, \"metric\": null, \"status\": \"Completed\", \"run_type\": null, \"training_percent\": \"100\", \"start_time\": \"2021-03-06T14:55:57.307904Z\", \"end_time\": \"2021-03-06T14:56:20.786822Z\", \"created_time\": \"2021-03-06T14:55:57.213274Z\", \"created_time_dt\": \"2021-03-06T14:55:57.213274Z\", \"duration\": \"0:00:23\", \"iteration\": \"18\", \"goal\": \"accuracy_max\", \"run_name\": \"StandardScalerWrapper, LightGBM\", \"run_properties\": \"<azureml.automl.runtime.shared.model_wrappers.StandardScalerWrapper object at 0x7f3dcecc8860\", \"primary_metric\": 0.73, \"best_metric\": 0.885}, {\"run_id\": \"AutoML_d2989d9f-2b73-485a-92d2-33e34c18b2b7_19\", \"run_number\": 21, \"metric\": null, \"status\": \"Completed\", \"run_type\": null, \"training_percent\": \"100\", \"start_time\": \"2021-03-06T14:56:22.311198Z\", \"end_time\": \"2021-03-06T14:56:45.662804Z\", \"created_time\": \"2021-03-06T14:56:22.210034Z\", \"created_time_dt\": \"2021-03-06T14:56:22.210034Z\", \"duration\": \"0:00:23\", \"iteration\": \"19\", \"goal\": \"accuracy_max\", \"run_name\": \"RobustScaler, LightGBM\", \"run_properties\": \"copy=True, quantile_range=[25, 75], with_centering=True,\\n             with_scaling=True\", \"primary_metric\": 0.865, \"best_metric\": 0.885}, {\"run_id\": \"AutoML_d2989d9f-2b73-485a-92d2-33e34c18b2b7_20\", \"run_number\": 22, \"metric\": null, \"status\": \"Completed\", \"run_type\": null, \"training_percent\": \"100\", \"start_time\": \"2021-03-06T14:56:46.791393Z\", \"end_time\": \"2021-03-06T14:57:09.993709Z\", \"created_time\": \"2021-03-06T14:56:46.689456Z\", \"created_time_dt\": \"2021-03-06T14:56:46.689456Z\", \"duration\": \"0:00:23\", \"iteration\": \"20\", \"goal\": \"accuracy_max\", \"run_name\": \"MaxAbsScaler, LightGBM\", \"run_properties\": \"copy=True\", \"primary_metric\": 0.865, \"best_metric\": 0.885}, {\"run_id\": \"AutoML_d2989d9f-2b73-485a-92d2-33e34c18b2b7_21\", \"run_number\": 23, \"metric\": null, \"status\": \"Completed\", \"run_type\": null, \"training_percent\": \"100\", \"start_time\": \"2021-03-06T14:57:11.306039Z\", \"end_time\": \"2021-03-06T14:57:34.865458Z\", \"created_time\": \"2021-03-06T14:57:11.211096Z\", \"created_time_dt\": \"2021-03-06T14:57:11.211096Z\", \"duration\": \"0:00:23\", \"iteration\": \"21\", \"goal\": \"accuracy_max\", \"run_name\": \"MinMaxScaler, LightGBM\", \"run_properties\": \"copy=True, feature_range=(0, 1\", \"primary_metric\": 0.785, \"best_metric\": 0.885}, {\"run_id\": \"AutoML_d2989d9f-2b73-485a-92d2-33e34c18b2b7_22\", \"run_number\": 24, \"metric\": null, \"status\": \"Completed\", \"run_type\": null, \"training_percent\": \"100\", \"start_time\": \"2021-03-06T14:57:36.247286Z\", \"end_time\": \"2021-03-06T14:58:04.470743Z\", \"created_time\": \"2021-03-06T14:57:36.156303Z\", \"created_time_dt\": \"2021-03-06T14:57:36.156303Z\", \"duration\": \"0:00:28\", \"iteration\": \"22\", \"goal\": \"accuracy_max\", \"run_name\": \"MinMaxScaler, LightGBM\", \"run_properties\": \"copy=True, feature_range=(0, 1\", \"primary_metric\": 0.83, \"best_metric\": 0.885}, {\"run_id\": \"AutoML_d2989d9f-2b73-485a-92d2-33e34c18b2b7_23\", \"run_number\": 25, \"metric\": null, \"status\": \"Completed\", \"run_type\": null, \"training_percent\": \"100\", \"start_time\": \"2021-03-06T14:58:06.412419Z\", \"end_time\": \"2021-03-06T14:58:30.262654Z\", \"created_time\": \"2021-03-06T14:58:06.317381Z\", \"created_time_dt\": \"2021-03-06T14:58:06.317381Z\", \"duration\": \"0:00:23\", \"iteration\": \"23\", \"goal\": \"accuracy_max\", \"run_name\": \"StandardScalerWrapper, LightGBM\", \"run_properties\": \"<azureml.automl.runtime.shared.model_wrappers.StandardScalerWrapper object at 0x7f3dcea02860\", \"primary_metric\": 0.86, \"best_metric\": 0.885}, {\"run_id\": \"AutoML_d2989d9f-2b73-485a-92d2-33e34c18b2b7_24\", \"run_number\": 26, \"metric\": null, \"status\": \"Completed\", \"run_type\": null, \"training_percent\": \"100\", \"start_time\": \"2021-03-06T14:58:31.55004Z\", \"end_time\": \"2021-03-06T14:59:00.284896Z\", \"created_time\": \"2021-03-06T14:58:31.426289Z\", \"created_time_dt\": \"2021-03-06T14:58:31.426289Z\", \"duration\": \"0:00:28\", \"iteration\": \"24\", \"goal\": \"accuracy_max\", \"run_name\": \"SparseNormalizer, LightGBM\", \"run_properties\": \"<azureml.automl.runtime.shared.model_wrappers.SparseNormalizer object at 0x7f3dcea5f9b0\", \"primary_metric\": 0.86, \"best_metric\": 0.885}, {\"run_id\": \"AutoML_d2989d9f-2b73-485a-92d2-33e34c18b2b7_25\", \"run_number\": 27, \"metric\": null, \"status\": \"Completed\", \"run_type\": null, \"training_percent\": \"100\", \"start_time\": \"2021-03-06T14:59:02.953965Z\", \"end_time\": \"2021-03-06T14:59:26.942435Z\", \"created_time\": \"2021-03-06T14:59:02.653561Z\", \"created_time_dt\": \"2021-03-06T14:59:02.653561Z\", \"duration\": \"0:00:24\", \"iteration\": \"25\", \"goal\": \"accuracy_max\", \"run_name\": \"StandardScalerWrapper, RandomForest\", \"run_properties\": \"<azureml.automl.runtime.shared.model_wrappers.StandardScalerWrapper object at 0x7f3dcea026a0\", \"primary_metric\": 0.575, \"best_metric\": 0.885}, {\"run_id\": \"AutoML_d2989d9f-2b73-485a-92d2-33e34c18b2b7_26\", \"run_number\": 28, \"metric\": null, \"status\": \"Completed\", \"run_type\": null, \"training_percent\": \"100\", \"start_time\": \"2021-03-06T14:59:29.5526Z\", \"end_time\": \"2021-03-06T14:59:52.794065Z\", \"created_time\": \"2021-03-06T14:59:29.244298Z\", \"created_time_dt\": \"2021-03-06T14:59:29.244298Z\", \"duration\": \"0:00:23\", \"iteration\": \"26\", \"goal\": \"accuracy_max\", \"run_name\": \"SparseNormalizer, LightGBM\", \"run_properties\": \"<azureml.automl.runtime.shared.model_wrappers.SparseNormalizer object at 0x7f3cac87f080\", \"primary_metric\": 0.865, \"best_metric\": 0.885}, {\"run_id\": \"AutoML_d2989d9f-2b73-485a-92d2-33e34c18b2b7_27\", \"run_number\": 29, \"metric\": null, \"status\": \"Completed\", \"run_type\": null, \"training_percent\": \"100\", \"start_time\": \"2021-03-06T14:59:54.711059Z\", \"end_time\": \"2021-03-06T15:00:18.532334Z\", \"created_time\": \"2021-03-06T14:59:54.61489Z\", \"created_time_dt\": \"2021-03-06T14:59:54.61489Z\", \"duration\": \"0:00:23\", \"iteration\": \"27\", \"goal\": \"accuracy_max\", \"run_name\": \"StandardScalerWrapper, LightGBM\", \"run_properties\": \"<azureml.automl.runtime.shared.model_wrappers.StandardScalerWrapper object at 0x7f3dcea3d160\", \"primary_metric\": 0.855, \"best_metric\": 0.885}, {\"run_id\": \"AutoML_d2989d9f-2b73-485a-92d2-33e34c18b2b7_28\", \"run_number\": 30, \"metric\": null, \"status\": \"Completed\", \"run_type\": null, \"training_percent\": \"100\", \"start_time\": \"2021-03-06T15:00:19.764159Z\", \"end_time\": \"2021-03-06T15:00:48.70289Z\", \"created_time\": \"2021-03-06T15:00:19.656973Z\", \"created_time_dt\": \"2021-03-06T15:00:19.656973Z\", \"duration\": \"0:00:29\", \"iteration\": \"28\", \"goal\": \"accuracy_max\", \"run_name\": \"MaxAbsScaler, LightGBM\", \"run_properties\": \"copy=True\", \"primary_metric\": 0.87, \"best_metric\": 0.885}, {\"run_id\": \"AutoML_d2989d9f-2b73-485a-92d2-33e34c18b2b7_29\", \"run_number\": 31, \"metric\": null, \"status\": \"Completed\", \"run_type\": null, \"training_percent\": \"100\", \"start_time\": \"2021-03-06T15:00:49.979736Z\", \"end_time\": \"2021-03-06T15:01:14.711229Z\", \"created_time\": \"2021-03-06T15:00:49.844929Z\", \"created_time_dt\": \"2021-03-06T15:00:49.844929Z\", \"duration\": \"0:00:24\", \"iteration\": \"29\", \"goal\": \"accuracy_max\", \"run_name\": \"SparseNormalizer, ExtremeRandomTrees\", \"run_properties\": \"<azureml.automl.runtime.shared.model_wrappers.SparseNormalizer object at 0x7f3c89e94b70\", \"primary_metric\": 0.815, \"best_metric\": 0.885}, {\"run_id\": \"AutoML_d2989d9f-2b73-485a-92d2-33e34c18b2b7_30\", \"run_number\": 32, \"metric\": null, \"status\": \"Completed\", \"run_type\": null, \"training_percent\": \"100\", \"start_time\": \"2021-03-06T15:01:17.549229Z\", \"end_time\": \"2021-03-06T15:01:41.521689Z\", \"created_time\": \"2021-03-06T15:01:17.256045Z\", \"created_time_dt\": \"2021-03-06T15:01:17.256045Z\", \"duration\": \"0:00:24\", \"iteration\": \"30\", \"goal\": \"accuracy_max\", \"run_name\": \"MaxAbsScaler, RandomForest\", \"run_properties\": \"copy=True\", \"primary_metric\": 0.82, \"best_metric\": 0.885}, {\"run_id\": \"AutoML_d2989d9f-2b73-485a-92d2-33e34c18b2b7_31\", \"run_number\": 33, \"metric\": null, \"status\": \"Completed\", \"run_type\": null, \"training_percent\": \"100\", \"start_time\": \"2021-03-06T15:01:42.92152Z\", \"end_time\": \"2021-03-06T15:02:07.724981Z\", \"created_time\": \"2021-03-06T15:01:42.761626Z\", \"created_time_dt\": \"2021-03-06T15:01:42.761626Z\", \"duration\": \"0:00:24\", \"iteration\": \"31\", \"goal\": \"accuracy_max\", \"run_name\": \"StandardScalerWrapper, LightGBM\", \"run_properties\": \"<azureml.automl.runtime.shared.model_wrappers.StandardScalerWrapper object at 0x7f3c9663ef98\", \"primary_metric\": 0.87, \"best_metric\": 0.885}, {\"run_id\": \"AutoML_d2989d9f-2b73-485a-92d2-33e34c18b2b7_32\", \"run_number\": 34, \"metric\": null, \"status\": \"Completed\", \"run_type\": null, \"training_percent\": \"100\", \"start_time\": \"2021-03-06T15:02:09.015283Z\", \"end_time\": \"2021-03-06T15:02:33.079015Z\", \"created_time\": \"2021-03-06T15:02:08.891074Z\", \"created_time_dt\": \"2021-03-06T15:02:08.891074Z\", \"duration\": \"0:00:24\", \"iteration\": \"32\", \"goal\": \"accuracy_max\", \"run_name\": \"MaxAbsScaler, GradientBoosting\", \"run_properties\": \"copy=True\", \"primary_metric\": 0.855, \"best_metric\": 0.885}, {\"run_id\": \"AutoML_d2989d9f-2b73-485a-92d2-33e34c18b2b7_33\", \"run_number\": 35, \"metric\": null, \"status\": \"Completed\", \"run_type\": null, \"training_percent\": \"100\", \"start_time\": \"2021-03-06T15:02:34.417784Z\", \"end_time\": \"2021-03-06T15:02:58.737043Z\", \"created_time\": \"2021-03-06T15:02:34.309859Z\", \"created_time_dt\": \"2021-03-06T15:02:34.309859Z\", \"duration\": \"0:00:24\", \"iteration\": \"33\", \"goal\": \"accuracy_max\", \"run_name\": \"StandardScalerWrapper, RandomForest\", \"run_properties\": \"<azureml.automl.runtime.shared.model_wrappers.StandardScalerWrapper object at 0x7f3c9663e668\", \"primary_metric\": 0.88, \"best_metric\": 0.885}, {\"run_id\": \"AutoML_d2989d9f-2b73-485a-92d2-33e34c18b2b7_34\", \"run_number\": 36, \"metric\": null, \"status\": \"Completed\", \"run_type\": null, \"training_percent\": \"100\", \"start_time\": \"2021-03-06T15:03:00.16261Z\", \"end_time\": \"2021-03-06T15:03:24.692157Z\", \"created_time\": \"2021-03-06T15:02:59.966289Z\", \"created_time_dt\": \"2021-03-06T15:02:59.966289Z\", \"duration\": \"0:00:24\", \"iteration\": \"34\", \"goal\": \"accuracy_max\", \"run_name\": \"MaxAbsScaler, LightGBM\", \"run_properties\": \"copy=True\", \"primary_metric\": 0.815, \"best_metric\": 0.885}, {\"run_id\": \"AutoML_d2989d9f-2b73-485a-92d2-33e34c18b2b7_35\", \"run_number\": 37, \"metric\": null, \"status\": \"Completed\", \"run_type\": null, \"training_percent\": \"100\", \"start_time\": \"2021-03-06T15:03:24.999955Z\", \"end_time\": \"2021-03-06T15:03:49.313213Z\", \"created_time\": \"2021-03-06T15:03:24.901651Z\", \"created_time_dt\": \"2021-03-06T15:03:24.901651Z\", \"duration\": \"0:00:24\", \"iteration\": \"35\", \"goal\": \"accuracy_max\", \"run_name\": \"VotingEnsemble\", \"run_properties\": \"classification_labels=None,\\n                              estimators=[('2',\\n                                           Pipeline(memory=None,\\n                                                    steps=[('minmaxscaler',\\n                                                            MinMaxScaler(copy=True,\\n                                                                         feature_range=(0,\\n                                                                                        1\", \"primary_metric\": 0.9, \"best_metric\": 0.9}, {\"run_id\": \"AutoML_d2989d9f-2b73-485a-92d2-33e34c18b2b7_36\", \"run_number\": 38, \"metric\": null, \"status\": \"Completed\", \"run_type\": null, \"training_percent\": \"100\", \"start_time\": \"2021-03-06T15:03:50.068638Z\", \"end_time\": \"2021-03-06T15:04:09.814359Z\", \"created_time\": \"2021-03-06T15:03:49.973737Z\", \"created_time_dt\": \"2021-03-06T15:03:49.973737Z\", \"duration\": \"0:00:19\", \"iteration\": \"36\", \"goal\": \"accuracy_max\", \"run_name\": \"StackEnsemble\", \"run_properties\": \"base_learners=[('2',\\n                                        Pipeline(memory=None,\\n                                                 steps=[('minmaxscaler',\\n                                                         MinMaxScaler(copy=True,\\n                                                                      feature_range=(0,\\n                                                                                     1\", \"primary_metric\": 0.885, \"best_metric\": 0.9}], \"children_metrics\": {\"categories\": [0], \"series\": {\"weighted_accuracy\": [{\"categories\": [\"0\", \"1\", \"2\", \"3\", \"4\", \"5\", \"6\", \"7\", \"8\", \"9\", \"10\", \"11\", \"12\", \"13\", \"14\", \"15\", \"16\", \"17\", \"18\", \"19\", \"20\", \"21\", \"22\", \"23\", \"24\", \"25\", \"26\", \"27\", \"28\", \"29\", \"30\", \"31\", \"32\", \"33\", \"34\", \"35\", \"36\"], \"mode\": \"markers\", \"name\": \"weighted_accuracy\", \"stepped\": false, \"type\": \"scatter\", \"data\": [0.8572757565453928, 0.9062767766065964, 0.9363828629717783, 0.8913111186671201, 0.89006664399864, 0.8790914654879294, 0.9263828629717784, 0.8924161849710983, 0.917417205032302, 0.8853818429105746, 0.898881332879973, 0.8914858891533493, 0.8702767766065964, 0.8909758585515131, 0.8765107106426386, 0.8878707922475348, 0.8943359401564095, 0.8809758585515131, 0.8785107106426386, 0.9073464807888474, 0.9082767766065964, 0.8952662359741586, 0.8822767766065964, 0.8982767766065964, 0.9129874192451548, 0.6268622917375043, 0.8967065623937437, 0.8882414144848692, 0.8991717103026182, 0.8921611696701802, 0.9061965317919076, 0.9031717103026182, 0.8922767766065964, 0.9223828629717783, 0.8562767766065964, 0.935778306698402, 0.924347500850051]}, {\"categories\": [\"0\", \"1\", \"2\", \"3\", \"4\", \"5\", \"6\", \"7\", \"8\", \"9\", \"10\", \"11\", \"12\", \"13\", \"14\", \"15\", \"16\", \"17\", \"18\", \"19\", \"20\", \"21\", \"22\", \"23\", \"24\", \"25\", \"26\", \"27\", \"28\", \"29\", \"30\", \"31\", \"32\", \"33\", \"34\", \"35\", \"36\"], \"mode\": \"lines\", \"name\": \"weighted_accuracy_max\", \"stepped\": true, \"type\": \"scatter\", \"data\": [0.8572757565453928, 0.9062767766065964, 0.9363828629717783, 0.9363828629717783, 0.9363828629717783, 0.9363828629717783, 0.9363828629717783, 0.9363828629717783, 0.9363828629717783, 0.9363828629717783, 0.9363828629717783, 0.9363828629717783, 0.9363828629717783, 0.9363828629717783, 0.9363828629717783, 0.9363828629717783, 0.9363828629717783, 0.9363828629717783, 0.9363828629717783, 0.9363828629717783, 0.9363828629717783, 0.9363828629717783, 0.9363828629717783, 0.9363828629717783, 0.9363828629717783, 0.9363828629717783, 0.9363828629717783, 0.9363828629717783, 0.9363828629717783, 0.9363828629717783, 0.9363828629717783, 0.9363828629717783, 0.9363828629717783, 0.9363828629717783, 0.9363828629717783, 0.9363828629717783, 0.9363828629717783]}], \"matthews_correlation\": [{\"categories\": [\"0\", \"1\", \"2\", \"3\", \"4\", \"5\", \"6\", \"7\", \"8\", \"9\", \"10\", \"11\", \"12\", \"13\", \"14\", \"15\", \"16\", \"17\", \"18\", \"19\", \"20\", \"21\", \"22\", \"23\", \"24\", \"25\", \"26\", \"27\", \"28\", \"29\", \"30\", \"31\", \"32\", \"33\", \"34\", \"35\", \"36\"], \"mode\": \"markers\", \"name\": \"matthews_correlation\", \"stepped\": false, \"type\": \"scatter\", \"data\": [0.5010440091219422, 0.6618170751425801, 0.6984327157209612, 0.5895582043380933, 0.6922426048529953, 0.4465014871301255, 0.6862997449117649, 0.5728506252634712, 0.6589580582491181, 0.5832394205650402, 0.5849289265672462, 0.5383218775813461, 0.5617441326448775, 0.3106328567596045, 0.23445110420178855, 0.28024183341832687, 0.347721913288508, 0.07862896923656355, 0.0, 0.645072815565551, 0.6435845793122013, 0.38426585158438437, 0.5432089742207415, 0.6351504084759135, 0.6339141129292566, -0.03989895049277502, 0.652048604266428, 0.6271141655677064, 0.666025179219681, 0.48902188504357325, 0.5066609787163745, 0.6621186896204567, 0.6242117375338238, 0.6893453198587959, 0.5266054334190513, 0.7398698997107184, 0.701249036063009]}, {\"categories\": [\"0\", \"1\", \"2\", \"3\", \"4\", \"5\", \"6\", \"7\", \"8\", \"9\", \"10\", \"11\", \"12\", \"13\", \"14\", \"15\", \"16\", \"17\", \"18\", \"19\", \"20\", \"21\", \"22\", \"23\", \"24\", \"25\", \"26\", \"27\", \"28\", \"29\", \"30\", \"31\", \"32\", \"33\", \"34\", \"35\", \"36\"], \"mode\": \"lines\", \"name\": \"matthews_correlation_max\", \"stepped\": true, \"type\": \"scatter\", \"data\": [0.5010440091219422, 0.6618170751425801, 0.6984327157209612, 0.6984327157209612, 0.6984327157209612, 0.6984327157209612, 0.6984327157209612, 0.6984327157209612, 0.6984327157209612, 0.6984327157209612, 0.6984327157209612, 0.6984327157209612, 0.6984327157209612, 0.6984327157209612, 0.6984327157209612, 0.6984327157209612, 0.6984327157209612, 0.6984327157209612, 0.6984327157209612, 0.6984327157209612, 0.6984327157209612, 0.6984327157209612, 0.6984327157209612, 0.6984327157209612, 0.6984327157209612, 0.6984327157209612, 0.6984327157209612, 0.6984327157209612, 0.6984327157209612, 0.6984327157209612, 0.6984327157209612, 0.6984327157209612, 0.6984327157209612, 0.6984327157209612, 0.6984327157209612, 0.7398698997107184, 0.7398698997107184]}], \"f1_score_weighted\": [{\"categories\": [\"0\", \"1\", \"2\", \"3\", \"4\", \"5\", \"6\", \"7\", \"8\", \"9\", \"10\", \"11\", \"12\", \"13\", \"14\", \"15\", \"16\", \"17\", \"18\", \"19\", \"20\", \"21\", \"22\", \"23\", \"24\", \"25\", \"26\", \"27\", \"28\", \"29\", \"30\", \"31\", \"32\", \"33\", \"34\", \"35\", \"36\"], \"mode\": \"markers\", \"name\": \"f1_score_weighted\", \"stepped\": false, \"type\": \"scatter\", \"data\": [0.8046666666666666, 0.8657333333333332, 0.8772826658809139, 0.8382513728740014, 0.8757878352490422, 0.7782301911196126, 0.8735141148658045, 0.8299973624773396, 0.8619693812099418, 0.8335923633102154, 0.8354685365301897, 0.8156064225629442, 0.8268559944559943, 0.6993569572407277, 0.6963578216374269, 0.6873985538245403, 0.7147425708808532, 0.6276246498599438, 0.6162238930659982, 0.8582753492648367, 0.8595172298706717, 0.7367477461927586, 0.8229891210239035, 0.8557333333333332, 0.8500072077045762, 0.5477659087535018, 0.8623608889341222, 0.8519117517104093, 0.8680924262829103, 0.7903463203463205, 0.7912802550357376, 0.867358669070527, 0.8511524674299249, 0.8743511130439683, 0.8126336028751123, 0.8966206140350877, 0.8797007878613279]}, {\"categories\": [\"0\", \"1\", \"2\", \"3\", \"4\", \"5\", \"6\", \"7\", \"8\", \"9\", \"10\", \"11\", \"12\", \"13\", \"14\", \"15\", \"16\", \"17\", \"18\", \"19\", \"20\", \"21\", \"22\", \"23\", \"24\", \"25\", \"26\", \"27\", \"28\", \"29\", \"30\", \"31\", \"32\", \"33\", \"34\", \"35\", \"36\"], \"mode\": \"lines\", \"name\": \"f1_score_weighted_max\", \"stepped\": true, \"type\": \"scatter\", \"data\": [0.8046666666666666, 0.8657333333333332, 0.8772826658809139, 0.8772826658809139, 0.8772826658809139, 0.8772826658809139, 0.8772826658809139, 0.8772826658809139, 0.8772826658809139, 0.8772826658809139, 0.8772826658809139, 0.8772826658809139, 0.8772826658809139, 0.8772826658809139, 0.8772826658809139, 0.8772826658809139, 0.8772826658809139, 0.8772826658809139, 0.8772826658809139, 0.8772826658809139, 0.8772826658809139, 0.8772826658809139, 0.8772826658809139, 0.8772826658809139, 0.8772826658809139, 0.8772826658809139, 0.8772826658809139, 0.8772826658809139, 0.8772826658809139, 0.8772826658809139, 0.8772826658809139, 0.8772826658809139, 0.8772826658809139, 0.8772826658809139, 0.8772826658809139, 0.8966206140350877, 0.8966206140350877]}], \"recall_score_macro\": [{\"categories\": [\"0\", \"1\", \"2\", \"3\", \"4\", \"5\", \"6\", \"7\", \"8\", \"9\", \"10\", \"11\", \"12\", \"13\", \"14\", \"15\", \"16\", \"17\", \"18\", \"19\", \"20\", \"21\", \"22\", \"23\", \"24\", \"25\", \"26\", \"27\", \"28\", \"29\", \"30\", \"31\", \"32\", \"33\", \"34\", \"35\", \"36\"], \"mode\": \"markers\", \"name\": \"recall_score_macro\", \"stepped\": false, \"type\": \"scatter\", \"data\": [0.7381835842642059, 0.8158005504290109, 0.806363930710701, 0.7750380443581026, 0.8532410555285738, 0.6791646430305973, 0.8096972640440343, 0.7613177918083212, 0.7989347579731261, 0.7720802978792294, 0.7632718147968269, 0.7374097458313097, 0.7691338837623443, 0.585287356321839, 0.5966666666666667, 0.5623409422049539, 0.5909616318601263, 0.5086206896551724, 0.5, 0.8018925044519993, 0.7991338837623441, 0.6148696778371378, 0.7491338837623442, 0.8024672170956775, 0.7805018617451838, 0.48495548000647565, 0.8175667799902866, 0.8056127570017808, 0.826187469645459, 0.6985899303869192, 0.6887777238141493, 0.8195208029787923, 0.7991338837623441, 0.816363930710701, 0.7524672170956774, 0.8455593330095516, 0.826176137283471]}, {\"categories\": [\"0\", \"1\", \"2\", \"3\", \"4\", \"5\", \"6\", \"7\", \"8\", \"9\", \"10\", \"11\", \"12\", \"13\", \"14\", \"15\", \"16\", \"17\", \"18\", \"19\", \"20\", \"21\", \"22\", \"23\", \"24\", \"25\", \"26\", \"27\", \"28\", \"29\", \"30\", \"31\", \"32\", \"33\", \"34\", \"35\", \"36\"], \"mode\": \"lines\", \"name\": \"recall_score_macro_max\", \"stepped\": true, \"type\": \"scatter\", \"data\": [0.7381835842642059, 0.8158005504290109, 0.8158005504290109, 0.8158005504290109, 0.8532410555285738, 0.8532410555285738, 0.8532410555285738, 0.8532410555285738, 0.8532410555285738, 0.8532410555285738, 0.8532410555285738, 0.8532410555285738, 0.8532410555285738, 0.8532410555285738, 0.8532410555285738, 0.8532410555285738, 0.8532410555285738, 0.8532410555285738, 0.8532410555285738, 0.8532410555285738, 0.8532410555285738, 0.8532410555285738, 0.8532410555285738, 0.8532410555285738, 0.8532410555285738, 0.8532410555285738, 0.8532410555285738, 0.8532410555285738, 0.8532410555285738, 0.8532410555285738, 0.8532410555285738, 0.8532410555285738, 0.8532410555285738, 0.8532410555285738, 0.8532410555285738, 0.8532410555285738, 0.8532410555285738]}], \"f1_score_micro\": [{\"categories\": [\"0\", \"1\", \"2\", \"3\", \"4\", \"5\", \"6\", \"7\", \"8\", \"9\", \"10\", \"11\", \"12\", \"13\", \"14\", \"15\", \"16\", \"17\", \"18\", \"19\", \"20\", \"21\", \"22\", \"23\", \"24\", \"25\", \"26\", \"27\", \"28\", \"29\", \"30\", \"31\", \"32\", \"33\", \"34\", \"35\", \"36\"], \"mode\": \"markers\", \"name\": \"f1_score_micro\", \"stepped\": false, \"type\": \"scatter\", \"data\": [0.81, 0.8699999999999999, 0.885, 0.845, 0.875, 0.8, 0.88, 0.8400000000000001, 0.8699999999999999, 0.84, 0.845, 0.8300000000000001, 0.8299999999999998, 0.77, 0.765, 0.76, 0.775, 0.735, 0.73, 0.865, 0.865, 0.785, 0.8299999999999998, 0.8599999999999999, 0.8599999999999999, 0.5750000000000001, 0.865, 0.855, 0.87, 0.815, 0.82, 0.87, 0.855, 0.88, 0.815, 0.9, 0.885]}, {\"categories\": [\"0\", \"1\", \"2\", \"3\", \"4\", \"5\", \"6\", \"7\", \"8\", \"9\", \"10\", \"11\", \"12\", \"13\", \"14\", \"15\", \"16\", \"17\", \"18\", \"19\", \"20\", \"21\", \"22\", \"23\", \"24\", \"25\", \"26\", \"27\", \"28\", \"29\", \"30\", \"31\", \"32\", \"33\", \"34\", \"35\", \"36\"], \"mode\": \"lines\", \"name\": \"f1_score_micro_max\", \"stepped\": true, \"type\": \"scatter\", \"data\": [0.81, 0.8699999999999999, 0.885, 0.885, 0.885, 0.885, 0.885, 0.885, 0.885, 0.885, 0.885, 0.885, 0.885, 0.885, 0.885, 0.885, 0.885, 0.885, 0.885, 0.885, 0.885, 0.885, 0.885, 0.885, 0.885, 0.885, 0.885, 0.885, 0.885, 0.885, 0.885, 0.885, 0.885, 0.885, 0.885, 0.9, 0.9]}], \"f1_score_macro\": [{\"categories\": [\"0\", \"1\", \"2\", \"3\", \"4\", \"5\", \"6\", \"7\", \"8\", \"9\", \"10\", \"11\", \"12\", \"13\", \"14\", \"15\", \"16\", \"17\", \"18\", \"19\", \"20\", \"21\", \"22\", \"23\", \"24\", \"25\", \"26\", \"27\", \"28\", \"29\", \"30\", \"31\", \"32\", \"33\", \"34\", \"35\", \"36\"], \"mode\": \"markers\", \"name\": \"f1_score_macro\", \"stepped\": false, \"type\": \"scatter\", \"data\": [0.7466666666666667, 0.8266666666666667, 0.8367654109206049, 0.7893674287421487, 0.8442289272030652, 0.6982124582385334, 0.833124739257405, 0.7765999732532913, 0.8185387505324577, 0.7830994933077233, 0.7831925077939118, 0.7550456789587225, 0.7763894663894664, 0.566028821167021, 0.5669773391812866, 0.5432991466333131, 0.5883345875783881, 0.43977591036414565, 0.4218880534670008, 0.8158257072435109, 0.8168488388263107, 0.6243654597678258, 0.7662864671560323, 0.8133333333333334, 0.8012130413446202, 0.4404013411457581, 0.8236719515835189, 0.8101805987712027, 0.8313571344708581, 0.7148684648684649, 0.7119375406107863, 0.829400709427842, 0.8077957626003421, 0.8352748642550345, 0.7585624438454628, 0.8648026315789474, 0.8432379879452653]}, {\"categories\": [\"0\", \"1\", \"2\", \"3\", \"4\", \"5\", \"6\", \"7\", \"8\", \"9\", \"10\", \"11\", \"12\", \"13\", \"14\", \"15\", \"16\", \"17\", \"18\", \"19\", \"20\", \"21\", \"22\", \"23\", \"24\", \"25\", \"26\", \"27\", \"28\", \"29\", \"30\", \"31\", \"32\", \"33\", \"34\", \"35\", \"36\"], \"mode\": \"lines\", \"name\": \"f1_score_macro_max\", \"stepped\": true, \"type\": \"scatter\", \"data\": [0.7466666666666667, 0.8266666666666667, 0.8367654109206049, 0.8367654109206049, 0.8442289272030652, 0.8442289272030652, 0.8442289272030652, 0.8442289272030652, 0.8442289272030652, 0.8442289272030652, 0.8442289272030652, 0.8442289272030652, 0.8442289272030652, 0.8442289272030652, 0.8442289272030652, 0.8442289272030652, 0.8442289272030652, 0.8442289272030652, 0.8442289272030652, 0.8442289272030652, 0.8442289272030652, 0.8442289272030652, 0.8442289272030652, 0.8442289272030652, 0.8442289272030652, 0.8442289272030652, 0.8442289272030652, 0.8442289272030652, 0.8442289272030652, 0.8442289272030652, 0.8442289272030652, 0.8442289272030652, 0.8442289272030652, 0.8442289272030652, 0.8442289272030652, 0.8648026315789474, 0.8648026315789474]}], \"AUC_macro\": [{\"categories\": [\"0\", \"1\", \"2\", \"3\", \"4\", \"5\", \"6\", \"7\", \"8\", \"9\", \"10\", \"11\", \"12\", \"13\", \"14\", \"15\", \"16\", \"17\", \"18\", \"19\", \"20\", \"21\", \"22\", \"23\", \"24\", \"25\", \"26\", \"27\", \"28\", \"29\", \"30\", \"31\", \"32\", \"33\", \"34\", \"35\", \"36\"], \"mode\": \"markers\", \"name\": \"AUC_macro\", \"stepped\": false, \"type\": \"scatter\", \"data\": [0.8702254168690302, 0.9168860935729318, 0.932048891047434, 0.9185164319248826, 0.9163711834223733, 0.8178362311801846, 0.9252233770438725, 0.9210803950137607, 0.9030628460417678, 0.9086707463169824, 0.9044580216933786, 0.9170803950137607, 0.8676529059413955, 0.8600863849765259, 0.7882845394204305, 0.8937765905779504, 0.882797344989477, 0.8825488101019912, 0.9112858021693379, 0.895491209324915, 0.8938435486482111, 0.8801692083535697, 0.8575842642059253, 0.9054168690302736, 0.9132727213857861, 0.47247712481787274, 0.898349619556419, 0.9044330257406509, 0.9046616804273919, 0.9003042253521126, 0.9058412821758135, 0.9037879229399384, 0.9108233770438725, 0.9365084668933139, 0.854320738222438, 0.9343513032216286, 0.9347416545248503]}, {\"categories\": [\"0\", \"1\", \"2\", \"3\", \"4\", \"5\", \"6\", \"7\", \"8\", \"9\", \"10\", \"11\", \"12\", \"13\", \"14\", \"15\", \"16\", \"17\", \"18\", \"19\", \"20\", \"21\", \"22\", \"23\", \"24\", \"25\", \"26\", \"27\", \"28\", \"29\", \"30\", \"31\", \"32\", \"33\", \"34\", \"35\", \"36\"], \"mode\": \"lines\", \"name\": \"AUC_macro_max\", \"stepped\": true, \"type\": \"scatter\", \"data\": [0.8702254168690302, 0.9168860935729318, 0.932048891047434, 0.932048891047434, 0.932048891047434, 0.932048891047434, 0.932048891047434, 0.932048891047434, 0.932048891047434, 0.932048891047434, 0.932048891047434, 0.932048891047434, 0.932048891047434, 0.932048891047434, 0.932048891047434, 0.932048891047434, 0.932048891047434, 0.932048891047434, 0.932048891047434, 0.932048891047434, 0.932048891047434, 0.932048891047434, 0.932048891047434, 0.932048891047434, 0.932048891047434, 0.932048891047434, 0.932048891047434, 0.932048891047434, 0.932048891047434, 0.932048891047434, 0.932048891047434, 0.932048891047434, 0.932048891047434, 0.9365084668933139, 0.9365084668933139, 0.9365084668933139, 0.9365084668933139]}], \"norm_macro_recall\": [{\"categories\": [\"0\", \"1\", \"2\", \"3\", \"4\", \"5\", \"6\", \"7\", \"8\", \"9\", \"10\", \"11\", \"12\", \"13\", \"14\", \"15\", \"16\", \"17\", \"18\", \"19\", \"20\", \"21\", \"22\", \"23\", \"24\", \"25\", \"26\", \"27\", \"28\", \"29\", \"30\", \"31\", \"32\", \"33\", \"34\", \"35\", \"36\"], \"mode\": \"markers\", \"name\": \"norm_macro_recall\", \"stepped\": false, \"type\": \"scatter\", \"data\": [0.4763671685284119, 0.6316011008580217, 0.612727861421402, 0.5500760887162053, 0.7064821110571475, 0.35832928606119474, 0.6193945280880686, 0.5226355836166423, 0.5978695159462522, 0.5441605957584588, 0.5265436295936539, 0.4748194916626194, 0.5382677675246884, 0.17057471264367818, 0.19333333333333336, 0.12468188440990768, 0.18192326372025258, 0.017241379310344862, 0.0, 0.6037850089039987, 0.5982677675246882, 0.2297393556742755, 0.4982677675246884, 0.6049344341913551, 0.5610037234903675, 0.0, 0.6351335599805732, 0.6112255140035615, 0.6523749392909179, 0.3971798607738385, 0.3775554476282986, 0.6390416059575845, 0.5982677675246882, 0.632727861421402, 0.504934434191355, 0.6911186660191031, 0.6523522745669419]}, {\"categories\": [\"0\", \"1\", \"2\", \"3\", \"4\", \"5\", \"6\", \"7\", \"8\", \"9\", \"10\", \"11\", \"12\", \"13\", \"14\", \"15\", \"16\", \"17\", \"18\", \"19\", \"20\", \"21\", \"22\", \"23\", \"24\", \"25\", \"26\", \"27\", \"28\", \"29\", \"30\", \"31\", \"32\", \"33\", \"34\", \"35\", \"36\"], \"mode\": \"lines\", \"name\": \"norm_macro_recall_max\", \"stepped\": true, \"type\": \"scatter\", \"data\": [0.4763671685284119, 0.6316011008580217, 0.6316011008580217, 0.6316011008580217, 0.7064821110571475, 0.7064821110571475, 0.7064821110571475, 0.7064821110571475, 0.7064821110571475, 0.7064821110571475, 0.7064821110571475, 0.7064821110571475, 0.7064821110571475, 0.7064821110571475, 0.7064821110571475, 0.7064821110571475, 0.7064821110571475, 0.7064821110571475, 0.7064821110571475, 0.7064821110571475, 0.7064821110571475, 0.7064821110571475, 0.7064821110571475, 0.7064821110571475, 0.7064821110571475, 0.7064821110571475, 0.7064821110571475, 0.7064821110571475, 0.7064821110571475, 0.7064821110571475, 0.7064821110571475, 0.7064821110571475, 0.7064821110571475, 0.7064821110571475, 0.7064821110571475, 0.7064821110571475, 0.7064821110571475]}], \"precision_score_macro\": [{\"categories\": [\"0\", \"1\", \"2\", \"3\", \"4\", \"5\", \"6\", \"7\", \"8\", \"9\", \"10\", \"11\", \"12\", \"13\", \"14\", \"15\", \"16\", \"17\", \"18\", \"19\", \"20\", \"21\", \"22\", \"23\", \"24\", \"25\", \"26\", \"27\", \"28\", \"29\", \"30\", \"31\", \"32\", \"33\", \"34\", \"35\", \"36\"], \"mode\": \"markers\", \"name\": \"precision_score_macro\", \"stepped\": false, \"type\": \"scatter\", \"data\": [0.7642676311030742, 0.8477396021699819, 0.898518597759077, 0.8166749011857708, 0.8396662317895194, 0.7813885809312638, 0.8816353023670097, 0.8159086006896688, 0.8654607802452378, 0.8150786809323395, 0.8257772338121212, 0.807456653547495, 0.7944164159700834, 0.8548118548118548, 0.569656862745098, 0.8151041666666666, 0.8336786114221724, 0.6167929292929293, 0.365, 0.8460445094217024, 0.8465158259462057, 0.8222947138182061, 0.7962628089210367, 0.8344062688366486, 0.8621405874602805, 0.4705859336570881, 0.8353536886145582, 0.822782177234232, 0.8404377302403618, 0.8081708901884341, 0.8459024635495224, 0.8432017543859649, 0.826828306258686, 0.8777055698188561, 0.7760134116937913, 0.8966554450869255, 0.8785331384015594]}, {\"categories\": [\"0\", \"1\", \"2\", \"3\", \"4\", \"5\", \"6\", \"7\", \"8\", \"9\", \"10\", \"11\", \"12\", \"13\", \"14\", \"15\", \"16\", \"17\", \"18\", \"19\", \"20\", \"21\", \"22\", \"23\", \"24\", \"25\", \"26\", \"27\", \"28\", \"29\", \"30\", \"31\", \"32\", \"33\", \"34\", \"35\", \"36\"], \"mode\": \"lines\", \"name\": \"precision_score_macro_max\", \"stepped\": true, \"type\": \"scatter\", \"data\": [0.7642676311030742, 0.8477396021699819, 0.898518597759077, 0.898518597759077, 0.898518597759077, 0.898518597759077, 0.898518597759077, 0.898518597759077, 0.898518597759077, 0.898518597759077, 0.898518597759077, 0.898518597759077, 0.898518597759077, 0.898518597759077, 0.898518597759077, 0.898518597759077, 0.898518597759077, 0.898518597759077, 0.898518597759077, 0.898518597759077, 0.898518597759077, 0.898518597759077, 0.898518597759077, 0.898518597759077, 0.898518597759077, 0.898518597759077, 0.898518597759077, 0.898518597759077, 0.898518597759077, 0.898518597759077, 0.898518597759077, 0.898518597759077, 0.898518597759077, 0.898518597759077, 0.898518597759077, 0.898518597759077, 0.898518597759077]}], \"AUC_weighted\": [{\"categories\": [\"0\", \"1\", \"2\", \"3\", \"4\", \"5\", \"6\", \"7\", \"8\", \"9\", \"10\", \"11\", \"12\", \"13\", \"14\", \"15\", \"16\", \"17\", \"18\", \"19\", \"20\", \"21\", \"22\", \"23\", \"24\", \"25\", \"26\", \"27\", \"28\", \"29\", \"30\", \"31\", \"32\", \"33\", \"34\", \"35\", \"36\"], \"mode\": \"markers\", \"name\": \"AUC_weighted\", \"stepped\": false, \"type\": \"scatter\", \"data\": [0.8702254168690302, 0.9169194269062653, 0.9320488910474339, 0.9185164319248825, 0.9163711834223733, 0.8178362311801846, 0.9252233770438725, 0.9210803950137607, 0.9030628460417678, 0.9086707463169823, 0.9044580216933786, 0.9170803950137607, 0.8676529059413955, 0.8600863849765259, 0.7882845394204305, 0.8937765905779504, 0.882797344989477, 0.8825488101019913, 0.911285802169338, 0.895491209324915, 0.893843548648211, 0.8801692083535697, 0.8575842642059253, 0.9054168690302735, 0.9132727213857861, 0.47247712481787274, 0.8983496195564191, 0.9044330257406508, 0.9046616804273919, 0.9003042253521127, 0.9058412821758135, 0.9037879229399385, 0.9108233770438725, 0.9365084668933139, 0.8543207382224381, 0.9343513032216286, 0.9347416545248503]}, {\"categories\": [\"0\", \"1\", \"2\", \"3\", \"4\", \"5\", \"6\", \"7\", \"8\", \"9\", \"10\", \"11\", \"12\", \"13\", \"14\", \"15\", \"16\", \"17\", \"18\", \"19\", \"20\", \"21\", \"22\", \"23\", \"24\", \"25\", \"26\", \"27\", \"28\", \"29\", \"30\", \"31\", \"32\", \"33\", \"34\", \"35\", \"36\"], \"mode\": \"lines\", \"name\": \"AUC_weighted_max\", \"stepped\": true, \"type\": \"scatter\", \"data\": [0.8702254168690302, 0.9169194269062653, 0.9320488910474339, 0.9320488910474339, 0.9320488910474339, 0.9320488910474339, 0.9320488910474339, 0.9320488910474339, 0.9320488910474339, 0.9320488910474339, 0.9320488910474339, 0.9320488910474339, 0.9320488910474339, 0.9320488910474339, 0.9320488910474339, 0.9320488910474339, 0.9320488910474339, 0.9320488910474339, 0.9320488910474339, 0.9320488910474339, 0.9320488910474339, 0.9320488910474339, 0.9320488910474339, 0.9320488910474339, 0.9320488910474339, 0.9320488910474339, 0.9320488910474339, 0.9320488910474339, 0.9320488910474339, 0.9320488910474339, 0.9320488910474339, 0.9320488910474339, 0.9320488910474339, 0.9365084668933139, 0.9365084668933139, 0.9365084668933139, 0.9365084668933139]}], \"average_precision_score_weighted\": [{\"categories\": [\"0\", \"1\", \"2\", \"3\", \"4\", \"5\", \"6\", \"7\", \"8\", \"9\", \"10\", \"11\", \"12\", \"13\", \"14\", \"15\", \"16\", \"17\", \"18\", \"19\", \"20\", \"21\", \"22\", \"23\", \"24\", \"25\", \"26\", \"27\", \"28\", \"29\", \"30\", \"31\", \"32\", \"33\", \"34\", \"35\", \"36\"], \"mode\": \"markers\", \"name\": \"average_precision_score_weighted\", \"stepped\": false, \"type\": \"scatter\", \"data\": [0.8820937322303385, 0.9165250564054724, 0.9358343425507948, 0.9127792279098972, 0.9260915720998952, 0.8539330913292018, 0.9242862551342765, 0.9243763113572907, 0.906107952646027, 0.9123825708299262, 0.8906880074777718, 0.9074523158352544, 0.8848438230495346, 0.8861081432145573, 0.8137238537184548, 0.9003743119212593, 0.8851592957421881, 0.898435680601148, 0.9146767061358299, 0.9030790693323468, 0.8947388337925988, 0.8892045360396765, 0.8694792353975205, 0.8971155997553519, 0.916617631674899, 0.6037083097562743, 0.9011898608710966, 0.9059926042957005, 0.9047688503720692, 0.9078419760837337, 0.911274280530286, 0.9028055913595631, 0.9188672722230837, 0.9410688607424685, 0.8663805438167795, 0.9369647106394019, 0.9372639227111823]}, {\"categories\": [\"0\", \"1\", \"2\", \"3\", \"4\", \"5\", \"6\", \"7\", \"8\", \"9\", \"10\", \"11\", \"12\", \"13\", \"14\", \"15\", \"16\", \"17\", \"18\", \"19\", \"20\", \"21\", \"22\", \"23\", \"24\", \"25\", \"26\", \"27\", \"28\", \"29\", \"30\", \"31\", \"32\", \"33\", \"34\", \"35\", \"36\"], \"mode\": \"lines\", \"name\": \"average_precision_score_weighted_max\", \"stepped\": true, \"type\": \"scatter\", \"data\": [0.8820937322303385, 0.9165250564054724, 0.9358343425507948, 0.9358343425507948, 0.9358343425507948, 0.9358343425507948, 0.9358343425507948, 0.9358343425507948, 0.9358343425507948, 0.9358343425507948, 0.9358343425507948, 0.9358343425507948, 0.9358343425507948, 0.9358343425507948, 0.9358343425507948, 0.9358343425507948, 0.9358343425507948, 0.9358343425507948, 0.9358343425507948, 0.9358343425507948, 0.9358343425507948, 0.9358343425507948, 0.9358343425507948, 0.9358343425507948, 0.9358343425507948, 0.9358343425507948, 0.9358343425507948, 0.9358343425507948, 0.9358343425507948, 0.9358343425507948, 0.9358343425507948, 0.9358343425507948, 0.9358343425507948, 0.9410688607424685, 0.9410688607424685, 0.9410688607424685, 0.9410688607424685]}], \"balanced_accuracy\": [{\"categories\": [\"0\", \"1\", \"2\", \"3\", \"4\", \"5\", \"6\", \"7\", \"8\", \"9\", \"10\", \"11\", \"12\", \"13\", \"14\", \"15\", \"16\", \"17\", \"18\", \"19\", \"20\", \"21\", \"22\", \"23\", \"24\", \"25\", \"26\", \"27\", \"28\", \"29\", \"30\", \"31\", \"32\", \"33\", \"34\", \"35\", \"36\"], \"mode\": \"markers\", \"name\": \"balanced_accuracy\", \"stepped\": false, \"type\": \"scatter\", \"data\": [0.7381835842642059, 0.8158005504290109, 0.806363930710701, 0.7750380443581026, 0.8532410555285738, 0.6791646430305973, 0.8096972640440343, 0.7613177918083212, 0.7989347579731261, 0.7720802978792294, 0.7632718147968269, 0.7374097458313097, 0.7691338837623443, 0.585287356321839, 0.5966666666666667, 0.5623409422049539, 0.5909616318601263, 0.5086206896551724, 0.5, 0.8018925044519993, 0.7991338837623441, 0.6148696778371378, 0.7491338837623442, 0.8024672170956775, 0.7805018617451838, 0.48495548000647565, 0.8175667799902866, 0.8056127570017808, 0.826187469645459, 0.6985899303869192, 0.6887777238141493, 0.8195208029787923, 0.7991338837623441, 0.816363930710701, 0.7524672170956774, 0.8455593330095516, 0.826176137283471]}, {\"categories\": [\"0\", \"1\", \"2\", \"3\", \"4\", \"5\", \"6\", \"7\", \"8\", \"9\", \"10\", \"11\", \"12\", \"13\", \"14\", \"15\", \"16\", \"17\", \"18\", \"19\", \"20\", \"21\", \"22\", \"23\", \"24\", \"25\", \"26\", \"27\", \"28\", \"29\", \"30\", \"31\", \"32\", \"33\", \"34\", \"35\", \"36\"], \"mode\": \"lines\", \"name\": \"balanced_accuracy_max\", \"stepped\": true, \"type\": \"scatter\", \"data\": [0.7381835842642059, 0.8158005504290109, 0.8158005504290109, 0.8158005504290109, 0.8532410555285738, 0.8532410555285738, 0.8532410555285738, 0.8532410555285738, 0.8532410555285738, 0.8532410555285738, 0.8532410555285738, 0.8532410555285738, 0.8532410555285738, 0.8532410555285738, 0.8532410555285738, 0.8532410555285738, 0.8532410555285738, 0.8532410555285738, 0.8532410555285738, 0.8532410555285738, 0.8532410555285738, 0.8532410555285738, 0.8532410555285738, 0.8532410555285738, 0.8532410555285738, 0.8532410555285738, 0.8532410555285738, 0.8532410555285738, 0.8532410555285738, 0.8532410555285738, 0.8532410555285738, 0.8532410555285738, 0.8532410555285738, 0.8532410555285738, 0.8532410555285738, 0.8532410555285738, 0.8532410555285738]}], \"recall_score_micro\": [{\"categories\": [\"0\", \"1\", \"2\", \"3\", \"4\", \"5\", \"6\", \"7\", \"8\", \"9\", \"10\", \"11\", \"12\", \"13\", \"14\", \"15\", \"16\", \"17\", \"18\", \"19\", \"20\", \"21\", \"22\", \"23\", \"24\", \"25\", \"26\", \"27\", \"28\", \"29\", \"30\", \"31\", \"32\", \"33\", \"34\", \"35\", \"36\"], \"mode\": \"markers\", \"name\": \"recall_score_micro\", \"stepped\": false, \"type\": \"scatter\", \"data\": [0.81, 0.87, 0.885, 0.845, 0.875, 0.8, 0.88, 0.8400000000000001, 0.87, 0.84, 0.845, 0.8300000000000001, 0.83, 0.77, 0.7649999999999999, 0.76, 0.775, 0.735, 0.73, 0.865, 0.865, 0.785, 0.83, 0.86, 0.86, 0.575, 0.865, 0.855, 0.87, 0.815, 0.8200000000000001, 0.87, 0.855, 0.88, 0.815, 0.9, 0.885]}, {\"categories\": [\"0\", \"1\", \"2\", \"3\", \"4\", \"5\", \"6\", \"7\", \"8\", \"9\", \"10\", \"11\", \"12\", \"13\", \"14\", \"15\", \"16\", \"17\", \"18\", \"19\", \"20\", \"21\", \"22\", \"23\", \"24\", \"25\", \"26\", \"27\", \"28\", \"29\", \"30\", \"31\", \"32\", \"33\", \"34\", \"35\", \"36\"], \"mode\": \"lines\", \"name\": \"recall_score_micro_max\", \"stepped\": true, \"type\": \"scatter\", \"data\": [0.81, 0.87, 0.885, 0.885, 0.885, 0.885, 0.885, 0.885, 0.885, 0.885, 0.885, 0.885, 0.885, 0.885, 0.885, 0.885, 0.885, 0.885, 0.885, 0.885, 0.885, 0.885, 0.885, 0.885, 0.885, 0.885, 0.885, 0.885, 0.885, 0.885, 0.885, 0.885, 0.885, 0.885, 0.885, 0.9, 0.9]}], \"average_precision_score_micro\": [{\"categories\": [\"0\", \"1\", \"2\", \"3\", \"4\", \"5\", \"6\", \"7\", \"8\", \"9\", \"10\", \"11\", \"12\", \"13\", \"14\", \"15\", \"16\", \"17\", \"18\", \"19\", \"20\", \"21\", \"22\", \"23\", \"24\", \"25\", \"26\", \"27\", \"28\", \"29\", \"30\", \"31\", \"32\", \"33\", \"34\", \"35\", \"36\"], \"mode\": \"markers\", \"name\": \"average_precision_score_micro\", \"stepped\": false, \"type\": \"scatter\", \"data\": [0.9068873233451877, 0.9341467413519557, 0.9425461042300229, 0.9285817565674674, 0.925181956512247, 0.871934001198748, 0.9345458442366403, 0.9343246046377173, 0.914075717679885, 0.9282633061251023, 0.9081090217287382, 0.922154298985242, 0.8932660736653051, 0.8770004153231036, 0.8355832909145329, 0.8852525154160913, 0.8788496313511535, 0.8865910573170573, 0.8950346004885049, 0.916222891483164, 0.9118500798010634, 0.8869423248992658, 0.8884502569188036, 0.9164209246298556, 0.9251785015823644, 0.5543348483121276, 0.9199200163971519, 0.9234503827819049, 0.9244554415738911, 0.9111199893404978, 0.9034017716857117, 0.9239547440104392, 0.9325652534921232, 0.9499791093866985, 0.88605751758069, 0.9474562664567641, 0.9476778368845689]}, {\"categories\": [\"0\", \"1\", \"2\", \"3\", \"4\", \"5\", \"6\", \"7\", \"8\", \"9\", \"10\", \"11\", \"12\", \"13\", \"14\", \"15\", \"16\", \"17\", \"18\", \"19\", \"20\", \"21\", \"22\", \"23\", \"24\", \"25\", \"26\", \"27\", \"28\", \"29\", \"30\", \"31\", \"32\", \"33\", \"34\", \"35\", \"36\"], \"mode\": \"lines\", \"name\": \"average_precision_score_micro_max\", \"stepped\": true, \"type\": \"scatter\", \"data\": [0.9068873233451877, 0.9341467413519557, 0.9425461042300229, 0.9425461042300229, 0.9425461042300229, 0.9425461042300229, 0.9425461042300229, 0.9425461042300229, 0.9425461042300229, 0.9425461042300229, 0.9425461042300229, 0.9425461042300229, 0.9425461042300229, 0.9425461042300229, 0.9425461042300229, 0.9425461042300229, 0.9425461042300229, 0.9425461042300229, 0.9425461042300229, 0.9425461042300229, 0.9425461042300229, 0.9425461042300229, 0.9425461042300229, 0.9425461042300229, 0.9425461042300229, 0.9425461042300229, 0.9425461042300229, 0.9425461042300229, 0.9425461042300229, 0.9425461042300229, 0.9425461042300229, 0.9425461042300229, 0.9425461042300229, 0.9499791093866985, 0.9499791093866985, 0.9499791093866985, 0.9499791093866985]}], \"recall_score_weighted\": [{\"categories\": [\"0\", \"1\", \"2\", \"3\", \"4\", \"5\", \"6\", \"7\", \"8\", \"9\", \"10\", \"11\", \"12\", \"13\", \"14\", \"15\", \"16\", \"17\", \"18\", \"19\", \"20\", \"21\", \"22\", \"23\", \"24\", \"25\", \"26\", \"27\", \"28\", \"29\", \"30\", \"31\", \"32\", \"33\", \"34\", \"35\", \"36\"], \"mode\": \"markers\", \"name\": \"recall_score_weighted\", \"stepped\": false, \"type\": \"scatter\", \"data\": [0.81, 0.87, 0.885, 0.845, 0.875, 0.8, 0.88, 0.8400000000000001, 0.87, 0.84, 0.845, 0.8300000000000001, 0.83, 0.77, 0.7649999999999999, 0.76, 0.775, 0.735, 0.73, 0.865, 0.865, 0.785, 0.83, 0.86, 0.86, 0.575, 0.865, 0.855, 0.87, 0.815, 0.8200000000000001, 0.87, 0.855, 0.88, 0.815, 0.9, 0.885]}, {\"categories\": [\"0\", \"1\", \"2\", \"3\", \"4\", \"5\", \"6\", \"7\", \"8\", \"9\", \"10\", \"11\", \"12\", \"13\", \"14\", \"15\", \"16\", \"17\", \"18\", \"19\", \"20\", \"21\", \"22\", \"23\", \"24\", \"25\", \"26\", \"27\", \"28\", \"29\", \"30\", \"31\", \"32\", \"33\", \"34\", \"35\", \"36\"], \"mode\": \"lines\", \"name\": \"recall_score_weighted_max\", \"stepped\": true, \"type\": \"scatter\", \"data\": [0.81, 0.87, 0.885, 0.885, 0.885, 0.885, 0.885, 0.885, 0.885, 0.885, 0.885, 0.885, 0.885, 0.885, 0.885, 0.885, 0.885, 0.885, 0.885, 0.885, 0.885, 0.885, 0.885, 0.885, 0.885, 0.885, 0.885, 0.885, 0.885, 0.885, 0.885, 0.885, 0.885, 0.885, 0.885, 0.9, 0.9]}], \"precision_score_micro\": [{\"categories\": [\"0\", \"1\", \"2\", \"3\", \"4\", \"5\", \"6\", \"7\", \"8\", \"9\", \"10\", \"11\", \"12\", \"13\", \"14\", \"15\", \"16\", \"17\", \"18\", \"19\", \"20\", \"21\", \"22\", \"23\", \"24\", \"25\", \"26\", \"27\", \"28\", \"29\", \"30\", \"31\", \"32\", \"33\", \"34\", \"35\", \"36\"], \"mode\": \"markers\", \"name\": \"precision_score_micro\", \"stepped\": false, \"type\": \"scatter\", \"data\": [0.81, 0.87, 0.885, 0.845, 0.875, 0.8, 0.88, 0.8400000000000001, 0.87, 0.84, 0.845, 0.8300000000000001, 0.83, 0.77, 0.7649999999999999, 0.76, 0.775, 0.735, 0.73, 0.865, 0.865, 0.785, 0.83, 0.86, 0.86, 0.575, 0.865, 0.855, 0.87, 0.815, 0.8200000000000001, 0.87, 0.855, 0.88, 0.815, 0.9, 0.885]}, {\"categories\": [\"0\", \"1\", \"2\", \"3\", \"4\", \"5\", \"6\", \"7\", \"8\", \"9\", \"10\", \"11\", \"12\", \"13\", \"14\", \"15\", \"16\", \"17\", \"18\", \"19\", \"20\", \"21\", \"22\", \"23\", \"24\", \"25\", \"26\", \"27\", \"28\", \"29\", \"30\", \"31\", \"32\", \"33\", \"34\", \"35\", \"36\"], \"mode\": \"lines\", \"name\": \"precision_score_micro_max\", \"stepped\": true, \"type\": \"scatter\", \"data\": [0.81, 0.87, 0.885, 0.885, 0.885, 0.885, 0.885, 0.885, 0.885, 0.885, 0.885, 0.885, 0.885, 0.885, 0.885, 0.885, 0.885, 0.885, 0.885, 0.885, 0.885, 0.885, 0.885, 0.885, 0.885, 0.885, 0.885, 0.885, 0.885, 0.885, 0.885, 0.885, 0.885, 0.885, 0.885, 0.9, 0.9]}], \"average_precision_score_macro\": [{\"categories\": [\"0\", \"1\", \"2\", \"3\", \"4\", \"5\", \"6\", \"7\", \"8\", \"9\", \"10\", \"11\", \"12\", \"13\", \"14\", \"15\", \"16\", \"17\", \"18\", \"19\", \"20\", \"21\", \"22\", \"23\", \"24\", \"25\", \"26\", \"27\", \"28\", \"29\", \"30\", \"31\", \"32\", \"33\", \"34\", \"35\", \"36\"], \"mode\": \"markers\", \"name\": \"average_precision_score_macro\", \"stepped\": false, \"type\": \"scatter\", \"data\": [0.8269434533200687, 0.8789844194184184, 0.906762968008563, 0.8721515609880456, 0.8936909141718843, 0.7952347635152702, 0.8883143663327857, 0.8883736698406673, 0.8721298141481688, 0.8681684164230012, 0.8432341215861607, 0.8591898916206078, 0.8405351195198185, 0.8458754242887035, 0.7512301882201908, 0.8629320798938983, 0.8454548042918888, 0.8537618484441754, 0.8783267944145816, 0.8681730042539616, 0.8459179108397185, 0.8441612977161159, 0.816425298664319, 0.8540584474409443, 0.8832016604187976, 0.5021539112636864, 0.8550114146640743, 0.863341556669586, 0.8604286645293, 0.861354421302609, 0.8822304745453705, 0.8571021228915859, 0.8801375530239358, 0.9124710397644097, 0.8083982235023067, 0.906311936348533, 0.9065148611746165]}, {\"categories\": [\"0\", \"1\", \"2\", \"3\", \"4\", \"5\", \"6\", \"7\", \"8\", \"9\", \"10\", \"11\", \"12\", \"13\", \"14\", \"15\", \"16\", \"17\", \"18\", \"19\", \"20\", \"21\", \"22\", \"23\", \"24\", \"25\", \"26\", \"27\", \"28\", \"29\", \"30\", \"31\", \"32\", \"33\", \"34\", \"35\", \"36\"], \"mode\": \"lines\", \"name\": \"average_precision_score_macro_max\", \"stepped\": true, \"type\": \"scatter\", \"data\": [0.8269434533200687, 0.8789844194184184, 0.906762968008563, 0.906762968008563, 0.906762968008563, 0.906762968008563, 0.906762968008563, 0.906762968008563, 0.906762968008563, 0.906762968008563, 0.906762968008563, 0.906762968008563, 0.906762968008563, 0.906762968008563, 0.906762968008563, 0.906762968008563, 0.906762968008563, 0.906762968008563, 0.906762968008563, 0.906762968008563, 0.906762968008563, 0.906762968008563, 0.906762968008563, 0.906762968008563, 0.906762968008563, 0.906762968008563, 0.906762968008563, 0.906762968008563, 0.906762968008563, 0.906762968008563, 0.906762968008563, 0.906762968008563, 0.906762968008563, 0.9124710397644097, 0.9124710397644097, 0.9124710397644097, 0.9124710397644097]}], \"precision_score_weighted\": [{\"categories\": [\"0\", \"1\", \"2\", \"3\", \"4\", \"5\", \"6\", \"7\", \"8\", \"9\", \"10\", \"11\", \"12\", \"13\", \"14\", \"15\", \"16\", \"17\", \"18\", \"19\", \"20\", \"21\", \"22\", \"23\", \"24\", \"25\", \"26\", \"27\", \"28\", \"29\", \"30\", \"31\", \"32\", \"33\", \"34\", \"35\", \"36\"], \"mode\": \"markers\", \"name\": \"precision_score_weighted\", \"stepped\": false, \"type\": \"scatter\", \"data\": [0.8056600361663653, 0.868456901748041, 0.8897982931583701, 0.8403601778656125, 0.8794689062839749, 0.7980677198817443, 0.8836121060511304, 0.83618379586703, 0.8721017487427372, 0.8412890658012608, 0.8410545460337063, 0.8243726553912705, 0.8310647150407857, 0.8156521256521256, 0.6569519607843137, 0.7855729166666666, 0.8017810750279954, 0.6808459595959595, 0.5333, 0.8626112735542559, 0.8620757828669221, 0.8024954501435919, 0.8245750452079565, 0.858456901748041, 0.8664214523754165, 0.586267719317074, 0.8635799834712878, 0.8543377310158131, 0.8688971486668855, 0.8155545808966862, 0.8323579688285572, 0.8674342105263158, 0.8543976501887893, 0.8843462951076879, 0.8180104731766124, 0.9016922904649927, 0.8866398635477581]}, {\"categories\": [\"0\", \"1\", \"2\", \"3\", \"4\", \"5\", \"6\", \"7\", \"8\", \"9\", \"10\", \"11\", \"12\", \"13\", \"14\", \"15\", \"16\", \"17\", \"18\", \"19\", \"20\", \"21\", \"22\", \"23\", \"24\", \"25\", \"26\", \"27\", \"28\", \"29\", \"30\", \"31\", \"32\", \"33\", \"34\", \"35\", \"36\"], \"mode\": \"lines\", \"name\": \"precision_score_weighted_max\", \"stepped\": true, \"type\": \"scatter\", \"data\": [0.8056600361663653, 0.868456901748041, 0.8897982931583701, 0.8897982931583701, 0.8897982931583701, 0.8897982931583701, 0.8897982931583701, 0.8897982931583701, 0.8897982931583701, 0.8897982931583701, 0.8897982931583701, 0.8897982931583701, 0.8897982931583701, 0.8897982931583701, 0.8897982931583701, 0.8897982931583701, 0.8897982931583701, 0.8897982931583701, 0.8897982931583701, 0.8897982931583701, 0.8897982931583701, 0.8897982931583701, 0.8897982931583701, 0.8897982931583701, 0.8897982931583701, 0.8897982931583701, 0.8897982931583701, 0.8897982931583701, 0.8897982931583701, 0.8897982931583701, 0.8897982931583701, 0.8897982931583701, 0.8897982931583701, 0.8897982931583701, 0.8897982931583701, 0.9016922904649927, 0.9016922904649927]}], \"accuracy\": [{\"categories\": [\"0\", \"1\", \"2\", \"3\", \"4\", \"5\", \"6\", \"7\", \"8\", \"9\", \"10\", \"11\", \"12\", \"13\", \"14\", \"15\", \"16\", \"17\", \"18\", \"19\", \"20\", \"21\", \"22\", \"23\", \"24\", \"25\", \"26\", \"27\", \"28\", \"29\", \"30\", \"31\", \"32\", \"33\", \"34\", \"35\", \"36\"], \"mode\": \"markers\", \"name\": \"accuracy\", \"stepped\": false, \"type\": \"scatter\", \"data\": [0.81, 0.87, 0.885, 0.845, 0.875, 0.8, 0.88, 0.8400000000000001, 0.87, 0.84, 0.845, 0.8300000000000001, 0.83, 0.77, 0.7649999999999999, 0.76, 0.775, 0.735, 0.73, 0.865, 0.865, 0.785, 0.83, 0.86, 0.86, 0.575, 0.865, 0.855, 0.87, 0.815, 0.8200000000000001, 0.87, 0.855, 0.88, 0.815, 0.9, 0.885]}, {\"categories\": [\"0\", \"1\", \"2\", \"3\", \"4\", \"5\", \"6\", \"7\", \"8\", \"9\", \"10\", \"11\", \"12\", \"13\", \"14\", \"15\", \"16\", \"17\", \"18\", \"19\", \"20\", \"21\", \"22\", \"23\", \"24\", \"25\", \"26\", \"27\", \"28\", \"29\", \"30\", \"31\", \"32\", \"33\", \"34\", \"35\", \"36\"], \"mode\": \"lines\", \"name\": \"accuracy_max\", \"stepped\": true, \"type\": \"scatter\", \"data\": [0.81, 0.87, 0.885, 0.885, 0.885, 0.885, 0.885, 0.885, 0.885, 0.885, 0.885, 0.885, 0.885, 0.885, 0.885, 0.885, 0.885, 0.885, 0.885, 0.885, 0.885, 0.885, 0.885, 0.885, 0.885, 0.885, 0.885, 0.885, 0.885, 0.885, 0.885, 0.885, 0.885, 0.885, 0.885, 0.9, 0.9]}], \"AUC_micro\": [{\"categories\": [\"0\", \"1\", \"2\", \"3\", \"4\", \"5\", \"6\", \"7\", \"8\", \"9\", \"10\", \"11\", \"12\", \"13\", \"14\", \"15\", \"16\", \"17\", \"18\", \"19\", \"20\", \"21\", \"22\", \"23\", \"24\", \"25\", \"26\", \"27\", \"28\", \"29\", \"30\", \"31\", \"32\", \"33\", \"34\", \"35\", \"36\"], \"mode\": \"markers\", \"name\": \"AUC_micro\", \"stepped\": false, \"type\": \"scatter\", \"data\": [0.9059999999999999, 0.9364999999999999, 0.9429, 0.9348000000000001, 0.9271499999999999, 0.8712249999999999, 0.9348000000000001, 0.9340999999999999, 0.9214, 0.9263000000000001, 0.9177, 0.9304749999999999, 0.8985000000000001, 0.8787999999999999, 0.8484499999999999, 0.88705, 0.8861500000000001, 0.88015, 0.89135, 0.9237000000000001, 0.9138000000000001, 0.8898999999999999, 0.89495, 0.9266000000000001, 0.9313, 0.54535, 0.92275, 0.9264, 0.9274, 0.90625, 0.9097999999999999, 0.92685, 0.9313499999999999, 0.9493, 0.8894500000000001, 0.9473, 0.94775]}, {\"categories\": [\"0\", \"1\", \"2\", \"3\", \"4\", \"5\", \"6\", \"7\", \"8\", \"9\", \"10\", \"11\", \"12\", \"13\", \"14\", \"15\", \"16\", \"17\", \"18\", \"19\", \"20\", \"21\", \"22\", \"23\", \"24\", \"25\", \"26\", \"27\", \"28\", \"29\", \"30\", \"31\", \"32\", \"33\", \"34\", \"35\", \"36\"], \"mode\": \"lines\", \"name\": \"AUC_micro_max\", \"stepped\": true, \"type\": \"scatter\", \"data\": [0.9059999999999999, 0.9364999999999999, 0.9429, 0.9429, 0.9429, 0.9429, 0.9429, 0.9429, 0.9429, 0.9429, 0.9429, 0.9429, 0.9429, 0.9429, 0.9429, 0.9429, 0.9429, 0.9429, 0.9429, 0.9429, 0.9429, 0.9429, 0.9429, 0.9429, 0.9429, 0.9429, 0.9429, 0.9429, 0.9429, 0.9429, 0.9429, 0.9429, 0.9429, 0.9493, 0.9493, 0.9493, 0.9493]}], \"log_loss\": [{\"categories\": [\"0\", \"1\", \"2\", \"3\", \"4\", \"5\", \"6\", \"7\", \"8\", \"9\", \"10\", \"11\", \"12\", \"13\", \"14\", \"15\", \"16\", \"17\", \"18\", \"19\", \"20\", \"21\", \"22\", \"23\", \"24\", \"25\", \"26\", \"27\", \"28\", \"29\", \"30\", \"31\", \"32\", \"33\", \"34\", \"35\", \"36\"], \"mode\": \"markers\", \"name\": \"log_loss\", \"stepped\": false, \"type\": \"scatter\", \"data\": [0.4549031880038983, 0.3240499662906661, 0.33448024147199396, 0.4878027824903024, 0.4118109205938299, 0.45070791563618506, 0.3672873206908902, 0.34816743104523107, 0.4016162947008164, 0.34868554187858614, 0.40271590930688417, 0.3324984533192613, 0.41509891434863094, 0.46961902703138186, 0.47669798403811336, 0.47228702200549055, 0.4676077436155087, 0.48780543639209895, 0.50611853816532, 0.3610253295272802, 0.38148552620900056, 0.4563379492571927, 0.46192043842838293, 0.3563149518849873, 0.3657708720511078, 0.6877500380838835, 0.362920563784936, 0.3515564398865848, 0.3521038486680723, 0.4200749553504356, 0.41567299308478917, 0.35353356670860014, 0.3453848684358413, 0.311461972281059, 0.40629723777214033, 0.34114983499487694, 0.3431863474701915]}, {\"categories\": [\"0\", \"1\", \"2\", \"3\", \"4\", \"5\", \"6\", \"7\", \"8\", \"9\", \"10\", \"11\", \"12\", \"13\", \"14\", \"15\", \"16\", \"17\", \"18\", \"19\", \"20\", \"21\", \"22\", \"23\", \"24\", \"25\", \"26\", \"27\", \"28\", \"29\", \"30\", \"31\", \"32\", \"33\", \"34\", \"35\", \"36\"], \"mode\": \"lines\", \"name\": \"log_loss_min\", \"stepped\": true, \"type\": \"scatter\", \"data\": [0.4549031880038983, 0.3240499662906661, 0.3240499662906661, 0.3240499662906661, 0.3240499662906661, 0.3240499662906661, 0.3240499662906661, 0.3240499662906661, 0.3240499662906661, 0.3240499662906661, 0.3240499662906661, 0.3240499662906661, 0.3240499662906661, 0.3240499662906661, 0.3240499662906661, 0.3240499662906661, 0.3240499662906661, 0.3240499662906661, 0.3240499662906661, 0.3240499662906661, 0.3240499662906661, 0.3240499662906661, 0.3240499662906661, 0.3240499662906661, 0.3240499662906661, 0.3240499662906661, 0.3240499662906661, 0.3240499662906661, 0.3240499662906661, 0.3240499662906661, 0.3240499662906661, 0.3240499662906661, 0.3240499662906661, 0.311461972281059, 0.311461972281059, 0.311461972281059, 0.311461972281059]}]}, \"metricName\": null, \"primaryMetricName\": \"accuracy\", \"showLegend\": false}, \"run_metrics\": [{\"name\": \"recall_score_weighted\", \"run_id\": \"AutoML_d2989d9f-2b73-485a-92d2-33e34c18b2b7\", \"categories\": [0], \"series\": [{\"data\": [0.9]}]}, {\"name\": \"recall_score_micro\", \"run_id\": \"AutoML_d2989d9f-2b73-485a-92d2-33e34c18b2b7\", \"categories\": [0], \"series\": [{\"data\": [0.9]}]}, {\"name\": \"average_precision_score_weighted\", \"run_id\": \"AutoML_d2989d9f-2b73-485a-92d2-33e34c18b2b7\", \"categories\": [0], \"series\": [{\"data\": [0.9369647106394019]}]}, {\"name\": \"AUC_micro\", \"run_id\": \"AutoML_d2989d9f-2b73-485a-92d2-33e34c18b2b7\", \"categories\": [0], \"series\": [{\"data\": [0.9473]}]}, {\"name\": \"balanced_accuracy\", \"run_id\": \"AutoML_d2989d9f-2b73-485a-92d2-33e34c18b2b7\", \"categories\": [0], \"series\": [{\"data\": [0.8455593330095516]}]}, {\"name\": \"accuracy\", \"run_id\": \"AutoML_d2989d9f-2b73-485a-92d2-33e34c18b2b7\", \"categories\": [0], \"series\": [{\"data\": [0.9]}]}, {\"name\": \"f1_score_macro\", \"run_id\": \"AutoML_d2989d9f-2b73-485a-92d2-33e34c18b2b7\", \"categories\": [0], \"series\": [{\"data\": [0.8648026315789474]}]}, {\"name\": \"AUC_macro\", \"run_id\": \"AutoML_d2989d9f-2b73-485a-92d2-33e34c18b2b7\", \"categories\": [0], \"series\": [{\"data\": [0.9343513032216286]}]}, {\"name\": \"average_precision_score_micro\", \"run_id\": \"AutoML_d2989d9f-2b73-485a-92d2-33e34c18b2b7\", \"categories\": [0], \"series\": [{\"data\": [0.9474562664567641]}]}, {\"name\": \"precision_score_macro\", \"run_id\": \"AutoML_d2989d9f-2b73-485a-92d2-33e34c18b2b7\", \"categories\": [0], \"series\": [{\"data\": [0.8966554450869255]}]}, {\"name\": \"average_precision_score_macro\", \"run_id\": \"AutoML_d2989d9f-2b73-485a-92d2-33e34c18b2b7\", \"categories\": [0], \"series\": [{\"data\": [0.906311936348533]}]}, {\"name\": \"log_loss\", \"run_id\": \"AutoML_d2989d9f-2b73-485a-92d2-33e34c18b2b7\", \"categories\": [0], \"series\": [{\"data\": [0.34114983499487694]}]}, {\"name\": \"precision_score_micro\", \"run_id\": \"AutoML_d2989d9f-2b73-485a-92d2-33e34c18b2b7\", \"categories\": [0], \"series\": [{\"data\": [0.9]}]}, {\"name\": \"matthews_correlation\", \"run_id\": \"AutoML_d2989d9f-2b73-485a-92d2-33e34c18b2b7\", \"categories\": [0], \"series\": [{\"data\": [0.7398698997107184]}]}, {\"name\": \"norm_macro_recall\", \"run_id\": \"AutoML_d2989d9f-2b73-485a-92d2-33e34c18b2b7\", \"categories\": [0], \"series\": [{\"data\": [0.6911186660191031]}]}, {\"name\": \"f1_score_weighted\", \"run_id\": \"AutoML_d2989d9f-2b73-485a-92d2-33e34c18b2b7\", \"categories\": [0], \"series\": [{\"data\": [0.8966206140350877]}]}, {\"name\": \"recall_score_macro\", \"run_id\": \"AutoML_d2989d9f-2b73-485a-92d2-33e34c18b2b7\", \"categories\": [0], \"series\": [{\"data\": [0.8455593330095516]}]}, {\"name\": \"precision_score_weighted\", \"run_id\": \"AutoML_d2989d9f-2b73-485a-92d2-33e34c18b2b7\", \"categories\": [0], \"series\": [{\"data\": [0.9016922904649927]}]}, {\"name\": \"AUC_weighted\", \"run_id\": \"AutoML_d2989d9f-2b73-485a-92d2-33e34c18b2b7\", \"categories\": [0], \"series\": [{\"data\": [0.9343513032216286]}]}, {\"name\": \"f1_score_micro\", \"run_id\": \"AutoML_d2989d9f-2b73-485a-92d2-33e34c18b2b7\", \"categories\": [0], \"series\": [{\"data\": [0.9]}]}, {\"name\": \"weighted_accuracy\", \"run_id\": \"AutoML_d2989d9f-2b73-485a-92d2-33e34c18b2b7\", \"categories\": [0], \"series\": [{\"data\": [0.935778306698402]}]}], \"run_logs\": \"\\nRun is completed.\", \"graph\": {}, \"widget_settings\": {\"childWidgetDisplay\": \"popup\", \"send_telemetry\": false, \"log_level\": \"INFO\", \"sdk_version\": \"1.22.0\"}, \"loading\": false}"
          },
          "metadata": {}
        }
      ],
      "execution_count": 10,
      "metadata": {
        "collapsed": true,
        "jupyter": {
          "source_hidden": false,
          "outputs_hidden": false
        },
        "nteract": {
          "transient": {
            "deleting": false
          }
        },
        "gather": {
          "logged": 1615043184118
        }
      }
    },
    {
      "cell_type": "markdown",
      "source": [
        "## Best Model"
      ],
      "metadata": {
        "nteract": {
          "transient": {
            "deleting": false
          }
        }
      }
    },
    {
      "cell_type": "code",
      "source": [
        "best_run, best_model = remote_run.get_output()"
      ],
      "outputs": [],
      "execution_count": 11,
      "metadata": {
        "collapsed": true,
        "jupyter": {
          "source_hidden": false,
          "outputs_hidden": false
        },
        "nteract": {
          "transient": {
            "deleting": false
          }
        },
        "gather": {
          "logged": 1615043218802
        }
      }
    },
    {
      "cell_type": "code",
      "source": [
        "best_run.get_file_names()[-3]"
      ],
      "outputs": [
        {
          "output_type": "execute_result",
          "execution_count": 12,
          "data": {
            "text/plain": "'outputs/model.pkl'"
          },
          "metadata": {}
        }
      ],
      "execution_count": 12,
      "metadata": {
        "collapsed": true,
        "jupyter": {
          "source_hidden": false,
          "outputs_hidden": false
        },
        "nteract": {
          "transient": {
            "deleting": false
          }
        },
        "gather": {
          "logged": 1615043222560
        }
      }
    },
    {
      "cell_type": "code",
      "source": [
        "import pickle\r\n",
        "best_run.download_file('outputs/model.pkl', './outputs/automlmodel.pkl')"
      ],
      "outputs": [],
      "execution_count": 42,
      "metadata": {
        "collapsed": true,
        "jupyter": {
          "source_hidden": false,
          "outputs_hidden": false
        },
        "nteract": {
          "transient": {
            "deleting": false
          }
        },
        "gather": {
          "logged": 1615045579494
        }
      }
    },
    {
      "cell_type": "code",
      "source": [
        "best_run.get_file_names()[-6]"
      ],
      "outputs": [
        {
          "output_type": "execute_result",
          "execution_count": 43,
          "data": {
            "text/plain": "'outputs/conda_env_v_1_0_0.yml'"
          },
          "metadata": {}
        }
      ],
      "execution_count": 43,
      "metadata": {
        "collapsed": true,
        "jupyter": {
          "source_hidden": false,
          "outputs_hidden": false
        },
        "nteract": {
          "transient": {
            "deleting": false
          }
        },
        "gather": {
          "logged": 1615045917056
        }
      }
    },
    {
      "cell_type": "code",
      "source": [
        "best_run.download_file('outputs/conda_env_v_1_0_0.yml', './outputs/conda_dependencies.yml')"
      ],
      "outputs": [],
      "execution_count": 15,
      "metadata": {
        "collapsed": true,
        "jupyter": {
          "source_hidden": false,
          "outputs_hidden": false
        },
        "nteract": {
          "transient": {
            "deleting": false
          }
        },
        "gather": {
          "logged": 1615043231088
        }
      }
    },
    {
      "cell_type": "code",
      "source": [
        "import joblib\r\n",
        "joblib.load(filename='outputs/automlmodel.pkl')"
      ],
      "outputs": [
        {
          "output_type": "execute_result",
          "execution_count": 16,
          "data": {
            "text/plain": "Pipeline(memory=None,\n         steps=[('datatransformer',\n                 DataTransformer(enable_dnn=None, enable_feature_sweeping=None,\n                                 feature_sweeping_config=None,\n                                 feature_sweeping_timeout=None,\n                                 featurization_config=None, force_text_dnn=None,\n                                 is_cross_validation=None,\n                                 is_onnx_compatible=None, logger=None,\n                                 observer=None, task=None, working_dir=None)),\n                ('prefittedsoftvotingclassifier',...\n                                                                                                min_child_samples=18,\n                                                                                                min_child_weight=2,\n                                                                                                min_split_gain=0.8421052631578947,\n                                                                                                n_estimators=400,\n                                                                                                n_jobs=1,\n                                                                                                num_leaves=116,\n                                                                                                objective=None,\n                                                                                                random_state=None,\n                                                                                                reg_alpha=0.21052631578947367,\n                                                                                                reg_lambda=1,\n                                                                                                silent=True,\n                                                                                                subsample=0.05,\n                                                                                                subsample_for_bin=200000,\n                                                                                                subsample_freq=0,\n                                                                                                verbose=-10))],\n                                                                     verbose=False))],\n                                               flatten_transform=None,\n                                               weights=[0.3, 0.1, 0.1, 0.2, 0.1,\n                                                        0.1, 0.1]))],\n         verbose=False)"
          },
          "metadata": {}
        }
      ],
      "execution_count": 16,
      "metadata": {
        "gather": {
          "logged": 1615043233298
        },
        "jupyter": {
          "outputs_hidden": false,
          "source_hidden": false
        },
        "nteract": {
          "transient": {
            "deleting": false
          }
        }
      }
    },
    {
      "cell_type": "code",
      "source": [
        "best_run"
      ],
      "outputs": [
        {
          "output_type": "execute_result",
          "execution_count": 17,
          "data": {
            "text/plain": "Run(Experiment: auto-ml,\nId: AutoML_d2989d9f-2b73-485a-92d2-33e34c18b2b7_35,\nType: None,\nStatus: Completed)",
            "text/html": "<table style=\"width:100%\"><tr><th>Experiment</th><th>Id</th><th>Type</th><th>Status</th><th>Details Page</th><th>Docs Page</th></tr><tr><td>auto-ml</td><td>AutoML_d2989d9f-2b73-485a-92d2-33e34c18b2b7_35</td><td></td><td>Completed</td><td><a href=\"https://ml.azure.com/experiments/auto-ml/runs/AutoML_d2989d9f-2b73-485a-92d2-33e34c18b2b7_35?wsid=/subscriptions/9a7511b8-150f-4a58-8528-3e7d50216c31/resourcegroups/aml-quickstarts-139939/workspaces/quick-starts-ws-139939\" target=\"_blank\" rel=\"noopener\">Link to Azure Machine Learning studio</a></td><td><a href=\"https://docs.microsoft.com/en-us/python/api/azureml-core/azureml.core.run.Run?view=azure-ml-py\" target=\"_blank\" rel=\"noopener\">Link to Documentation</a></td></tr></table>"
          },
          "metadata": {}
        }
      ],
      "execution_count": 17,
      "metadata": {
        "collapsed": true,
        "jupyter": {
          "source_hidden": false,
          "outputs_hidden": false
        },
        "nteract": {
          "transient": {
            "deleting": false
          }
        },
        "gather": {
          "logged": 1615043235463
        }
      }
    },
    {
      "cell_type": "code",
      "source": [
        "best_run.get_tags()"
      ],
      "outputs": [
        {
          "output_type": "execute_result",
          "execution_count": 18,
          "data": {
            "text/plain": "{'ensembled_iterations': '[2, 33, 6, 4, 31, 24, 27]',\n 'ensembled_algorithms': \"['RandomForest', 'RandomForest', 'GradientBoosting', 'RandomForest', 'LightGBM', 'LightGBM', 'LightGBM']\",\n 'ensemble_weights': '[0.3, 0.1, 0.1, 0.2, 0.1, 0.1, 0.1]',\n 'best_individual_pipeline_score': '0.885',\n 'best_individual_iteration': '2',\n 'model_explanation': 'True'}"
          },
          "metadata": {}
        }
      ],
      "execution_count": 18,
      "metadata": {
        "collapsed": true,
        "jupyter": {
          "source_hidden": false,
          "outputs_hidden": false
        },
        "nteract": {
          "transient": {
            "deleting": false
          }
        },
        "gather": {
          "logged": 1615043239594
        }
      }
    },
    {
      "cell_type": "code",
      "source": [
        "print('Accuracy :', best_run.get_metrics()['accuracy'])\r\n",
        "print('AUC_weighted :', best_run.get_metrics()['AUC_weighted'])\r\n"
      ],
      "outputs": [
        {
          "output_type": "stream",
          "name": "stdout",
          "text": [
            "Accuracy : 0.9\n",
            "AUC_weighted : 0.9343513032216286\n"
          ]
        }
      ],
      "execution_count": 19,
      "metadata": {
        "collapsed": true,
        "jupyter": {
          "source_hidden": false,
          "outputs_hidden": false
        },
        "nteract": {
          "transient": {
            "deleting": false
          }
        },
        "gather": {
          "logged": 1615043246261
        }
      }
    },
    {
      "cell_type": "code",
      "source": [
        "from pprint import pprint\r\n",
        "\r\n",
        "def print_model(best_model, prefix=\"\"):\r\n",
        "    for step in best_model.steps:\r\n",
        "        print(prefix + step[0])\r\n",
        "        if hasattr(step[1], 'estimators') and hasattr(step[1], 'weights'):\r\n",
        "            pprint({'estimators': list(\r\n",
        "                e[0] for e in step[1].estimators), 'weights': step[1].weights})\r\n",
        "            print()\r\n",
        "            for estimator in step[1].estimators:\r\n",
        "                print_model(estimator[1], estimator[0] + ' - ')\r\n",
        "        else:\r\n",
        "            pprint(step[1].get_params())\r\n",
        "            print()\r\n",
        "\r\n",
        "print_model(best_model)"
      ],
      "outputs": [
        {
          "output_type": "stream",
          "name": "stdout",
          "text": [
            "datatransformer\n",
            "{'enable_dnn': None,\n",
            " 'enable_feature_sweeping': None,\n",
            " 'feature_sweeping_config': None,\n",
            " 'feature_sweeping_timeout': None,\n",
            " 'featurization_config': None,\n",
            " 'force_text_dnn': None,\n",
            " 'is_cross_validation': None,\n",
            " 'is_onnx_compatible': None,\n",
            " 'logger': None,\n",
            " 'observer': None,\n",
            " 'task': None,\n",
            " 'working_dir': None}\n",
            "\n",
            "prefittedsoftvotingclassifier\n",
            "{'estimators': ['2', '33', '6', '4', '31', '24', '27'],\n",
            " 'weights': [0.3, 0.1, 0.1, 0.2, 0.1, 0.1, 0.1]}\n",
            "\n",
            "2 - minmaxscaler\n",
            "{'copy': True, 'feature_range': (0, 1)}\n",
            "\n",
            "2 - randomforestclassifier\n",
            "{'bootstrap': True,\n",
            " 'ccp_alpha': 0.0,\n",
            " 'class_weight': None,\n",
            " 'criterion': 'gini',\n",
            " 'max_depth': None,\n",
            " 'max_features': 'sqrt',\n",
            " 'max_leaf_nodes': None,\n",
            " 'max_samples': None,\n",
            " 'min_impurity_decrease': 0.0,\n",
            " 'min_impurity_split': None,\n",
            " 'min_samples_leaf': 0.035789473684210524,\n",
            " 'min_samples_split': 0.01,\n",
            " 'min_weight_fraction_leaf': 0.0,\n",
            " 'n_estimators': 10,\n",
            " 'n_jobs': 1,\n",
            " 'oob_score': True,\n",
            " 'random_state': None,\n",
            " 'verbose': 0,\n",
            " 'warm_start': False}\n",
            "\n",
            "33 - standardscalerwrapper\n",
            "{'class_name': 'StandardScaler',\n",
            " 'copy': True,\n",
            " 'module_name': 'sklearn.preprocessing._data',\n",
            " 'with_mean': False,\n",
            " 'with_std': True}\n",
            "\n",
            "33 - randomforestclassifier\n",
            "{'bootstrap': False,\n",
            " 'ccp_alpha': 0.0,\n",
            " 'class_weight': None,\n",
            " 'criterion': 'entropy',\n",
            " 'max_depth': None,\n",
            " 'max_features': 'sqrt',\n",
            " 'max_leaf_nodes': None,\n",
            " 'max_samples': None,\n",
            " 'min_impurity_decrease': 0.0,\n",
            " 'min_impurity_split': None,\n",
            " 'min_samples_leaf': 0.01,\n",
            " 'min_samples_split': 0.2442105263157895,\n",
            " 'min_weight_fraction_leaf': 0.0,\n",
            " 'n_estimators': 100,\n",
            " 'n_jobs': 1,\n",
            " 'oob_score': False,\n",
            " 'random_state': None,\n",
            " 'verbose': 0,\n",
            " 'warm_start': False}\n",
            "\n",
            "6 - standardscalerwrapper\n",
            "{'class_name': 'StandardScaler',\n",
            " 'copy': True,\n",
            " 'module_name': 'sklearn.preprocessing._data',\n",
            " 'with_mean': True,\n",
            " 'with_std': False}\n",
            "\n",
            "6 - gradientboostingclassifier\n",
            "{'ccp_alpha': 0.0,\n",
            " 'criterion': 'mse',\n",
            " 'init': None,\n",
            " 'learning_rate': 0.021544346900318822,\n",
            " 'loss': 'deviance',\n",
            " 'max_depth': 3,\n",
            " 'max_features': 0.6,\n",
            " 'max_leaf_nodes': None,\n",
            " 'min_impurity_decrease': 0.0,\n",
            " 'min_impurity_split': None,\n",
            " 'min_samples_leaf': 0.08736842105263157,\n",
            " 'min_samples_split': 0.01,\n",
            " 'min_weight_fraction_leaf': 0.0,\n",
            " 'n_estimators': 50,\n",
            " 'n_iter_no_change': None,\n",
            " 'presort': 'deprecated',\n",
            " 'random_state': None,\n",
            " 'subsample': 0.7157894736842105,\n",
            " 'tol': 0.0001,\n",
            " 'validation_fraction': 0.1,\n",
            " 'verbose': 0,\n",
            " 'warm_start': False}\n",
            "\n",
            "4 - minmaxscaler\n",
            "{'copy': True, 'feature_range': (0, 1)}\n",
            "\n",
            "4 - randomforestclassifier\n",
            "{'bootstrap': True,\n",
            " 'ccp_alpha': 0.0,\n",
            " 'class_weight': 'balanced',\n",
            " 'criterion': 'entropy',\n",
            " 'max_depth': None,\n",
            " 'max_features': 'sqrt',\n",
            " 'max_leaf_nodes': None,\n",
            " 'max_samples': None,\n",
            " 'min_impurity_decrease': 0.0,\n",
            " 'min_impurity_split': None,\n",
            " 'min_samples_leaf': 0.01,\n",
            " 'min_samples_split': 0.2442105263157895,\n",
            " 'min_weight_fraction_leaf': 0.0,\n",
            " 'n_estimators': 10,\n",
            " 'n_jobs': 1,\n",
            " 'oob_score': False,\n",
            " 'random_state': None,\n",
            " 'verbose': 0,\n",
            " 'warm_start': False}\n",
            "\n",
            "31 - standardscalerwrapper\n",
            "{'class_name': 'StandardScaler',\n",
            " 'copy': True,\n",
            " 'module_name': 'sklearn.preprocessing._data',\n",
            " 'with_mean': False,\n",
            " 'with_std': True}\n",
            "\n",
            "31 - lightgbmclassifier\n",
            "{'boosting_type': 'gbdt',\n",
            " 'class_weight': None,\n",
            " 'colsample_bytree': 0.8911111111111111,\n",
            " 'importance_type': 'split',\n",
            " 'learning_rate': 0.05789894736842106,\n",
            " 'max_bin': 60,\n",
            " 'max_depth': 10,\n",
            " 'min_child_samples': 21,\n",
            " 'min_child_weight': 0,\n",
            " 'min_split_gain': 0.9473684210526315,\n",
            " 'n_estimators': 100,\n",
            " 'n_jobs': 1,\n",
            " 'num_leaves': 233,\n",
            " 'objective': None,\n",
            " 'random_state': None,\n",
            " 'reg_alpha': 0.6842105263157894,\n",
            " 'reg_lambda': 0.2631578947368421,\n",
            " 'silent': True,\n",
            " 'subsample': 0.8415789473684211,\n",
            " 'subsample_for_bin': 200000,\n",
            " 'subsample_freq': 0,\n",
            " 'verbose': -10}\n",
            "\n",
            "24 - sparsenormalizer\n",
            "{'copy': True, 'norm': 'l2'}\n",
            "\n",
            "24 - lightgbmclassifier\n",
            "{'boosting_type': 'goss',\n",
            " 'class_weight': None,\n",
            " 'colsample_bytree': 0.99,\n",
            " 'importance_type': 'split',\n",
            " 'learning_rate': 0.05263631578947369,\n",
            " 'max_bin': 380,\n",
            " 'max_depth': 3,\n",
            " 'min_child_samples': 17,\n",
            " 'min_child_weight': 0,\n",
            " 'min_split_gain': 0,\n",
            " 'n_estimators': 25,\n",
            " 'n_jobs': 1,\n",
            " 'num_leaves': 131,\n",
            " 'objective': None,\n",
            " 'random_state': None,\n",
            " 'reg_alpha': 0.6842105263157894,\n",
            " 'reg_lambda': 0.05263157894736842,\n",
            " 'silent': True,\n",
            " 'subsample': 1,\n",
            " 'subsample_for_bin': 200000,\n",
            " 'subsample_freq': 0,\n",
            " 'verbose': -10}\n",
            "\n",
            "27 - standardscalerwrapper\n",
            "{'class_name': 'StandardScaler',\n",
            " 'copy': True,\n",
            " 'module_name': 'sklearn.preprocessing._data',\n",
            " 'with_mean': False,\n",
            " 'with_std': True}\n",
            "\n",
            "27 - lightgbmclassifier\n",
            "{'boosting_type': 'gbdt',\n",
            " 'class_weight': None,\n",
            " 'colsample_bytree': 0.99,\n",
            " 'importance_type': 'split',\n",
            " 'learning_rate': 0.08947473684210526,\n",
            " 'max_bin': 40,\n",
            " 'max_depth': 3,\n",
            " 'min_child_samples': 18,\n",
            " 'min_child_weight': 2,\n",
            " 'min_split_gain': 0.8421052631578947,\n",
            " 'n_estimators': 400,\n",
            " 'n_jobs': 1,\n",
            " 'num_leaves': 116,\n",
            " 'objective': None,\n",
            " 'random_state': None,\n",
            " 'reg_alpha': 0.21052631578947367,\n",
            " 'reg_lambda': 1,\n",
            " 'silent': True,\n",
            " 'subsample': 0.05,\n",
            " 'subsample_for_bin': 200000,\n",
            " 'subsample_freq': 0,\n",
            " 'verbose': -10}\n",
            "\n"
          ]
        }
      ],
      "execution_count": 20,
      "metadata": {
        "collapsed": true,
        "jupyter": {
          "source_hidden": false,
          "outputs_hidden": false
        },
        "nteract": {
          "transient": {
            "deleting": false
          }
        },
        "gather": {
          "logged": 1615043250697
        }
      }
    },
    {
      "cell_type": "code",
      "source": [
        "import sklearn\r\n",
        "from azureml.core.environment import Environment\r\n",
        "\r\n",
        "environment = Environment.get(workspace=ws, name=\"AzureML-AutoML\")\r\n",
        "environment.python.conda_dependencies.add_pip_package(\"inference-schema[numpy-support]\")\r\n",
        "environment.python.conda_dependencies.add_pip_package(\"joblib\")\r\n",
        "environment.python.conda_dependencies.add_pip_package(\"scikit-learn=={}\".format(sklearn.__version__))"
      ],
      "outputs": [],
      "execution_count": 21,
      "metadata": {
        "collapsed": true,
        "jupyter": {
          "source_hidden": false,
          "outputs_hidden": false
        },
        "nteract": {
          "transient": {
            "deleting": false
          }
        },
        "gather": {
          "logged": 1615043256456
        }
      }
    },
    {
      "cell_type": "code",
      "source": [
        "%%writefile score.py\r\n",
        "\r\n",
        "import json\r\n",
        "import numpy as np\r\n",
        "import pandas as pd\r\n",
        "import os\r\n",
        "import joblib\r\n",
        "import pickle\r\n",
        "\r\n",
        "from inference_schema.schema_decorators import input_schema, output_schema\r\n",
        "from inference_schema.parameter_types.numpy_parameter_type import NumpyParameterType\r\n",
        "from inference_schema.parameter_types.pandas_parameter_type import PandasParameterType\r\n",
        "\r\n",
        "input_sample = pd.DataFrame({\"age\": pd.Series([0.0], dtype=\"float64\"), \"anaemia\": pd.Series([0], dtype=\"int64\"), \"creatinine_phosphokinase\": pd.Series([0.0], dtype=\"float64\"), \"diabetes\": pd.Series([0], dtype=\"int64\"), \"ejection_fraction\": pd.Series([0.0], dtype=\"float64\"), \"high_blood_pressure\": pd.Series([0], dtype=\"int64\"), \"platelets\": pd.Series([0.0], dtype=\"float64\"), \"serum_creatinine\": pd.Series([0.0], dtype=\"float64\"), \"serum_sodium\": pd.Series([0.0], dtype=\"float64\"), \"sex\": pd.Series([0], dtype=\"int64\"), \"smoking\": pd.Series([0], dtype=\"int64\"), \"time\": pd.Series([0.0], dtype=\"float64\")})\r\n",
        "output_sample = np.array([0])\r\n",
        "\r\n",
        "\r\n",
        "def init():\r\n",
        "    global model\r\n",
        "    model_path = os.path.join(os.getenv('AZUREML_MODEL_DIR'), 'automlmodel.pkl')\r\n",
        "    print(\"Found model:\", os.path.isfile(model_path)) \r\n",
        "    model = joblib.load(model_path)\r\n",
        "\r\n",
        "@input_schema('data', PandasParameterType(input_sample))\r\n",
        "@output_schema(NumpyParameterType(output_sample))\r\n",
        "\r\n",
        "def run(data):\r\n",
        "    try:\r\n",
        "        result = model.predict(data)\r\n",
        "        return result.tolist()\r\n",
        "    except Exception as e:\r\n",
        "        result = str(e)\r\n",
        "        return result  \r\n"
      ],
      "outputs": [
        {
          "output_type": "stream",
          "name": "stdout",
          "text": [
            "Overwriting score.py\n"
          ]
        }
      ],
      "execution_count": 30,
      "metadata": {
        "collapsed": true,
        "jupyter": {
          "source_hidden": false,
          "outputs_hidden": false
        },
        "nteract": {
          "transient": {
            "deleting": false
          }
        },
        "gather": {
          "logged": 1615043449755
        }
      }
    },
    {
      "cell_type": "markdown",
      "source": [
        "## Model Deployment\r\n"
      ],
      "metadata": {
        "nteract": {
          "transient": {
            "deleting": false
          }
        }
      }
    },
    {
      "cell_type": "code",
      "source": [
        "from azureml.core.model import Model\r\n",
        "model = Model.register(model_name='automl-model', model_path='outputs/automlmodel.pkl', workspace=ws)"
      ],
      "outputs": [
        {
          "output_type": "stream",
          "name": "stdout",
          "text": [
            "Registering model automl-model\n"
          ]
        }
      ],
      "execution_count": 31,
      "metadata": {
        "collapsed": true,
        "jupyter": {
          "source_hidden": false,
          "outputs_hidden": false
        },
        "nteract": {
          "transient": {
            "deleting": false
          }
        },
        "gather": {
          "logged": 1615043824141
        }
      }
    },
    {
      "cell_type": "code",
      "source": [
        "Model(ws, 'automl-model')"
      ],
      "outputs": [
        {
          "output_type": "execute_result",
          "execution_count": 32,
          "data": {
            "text/plain": "Model(workspace=Workspace.create(name='quick-starts-ws-139939', subscription_id='9a7511b8-150f-4a58-8528-3e7d50216c31', resource_group='aml-quickstarts-139939'), name=automl-model, id=automl-model:2, version=2, tags={}, properties={})"
          },
          "metadata": {}
        }
      ],
      "execution_count": 32,
      "metadata": {
        "collapsed": true,
        "jupyter": {
          "source_hidden": false,
          "outputs_hidden": false
        },
        "nteract": {
          "transient": {
            "deleting": false
          }
        },
        "gather": {
          "logged": 1615043825695
        }
      }
    },
    {
      "cell_type": "code",
      "source": [
        "from azureml.core.webservice import AciWebservice\r\n",
        "from azureml.core.model import InferenceConfig\r\n",
        "\r\n",
        "deployment_config = AciWebservice.deploy_configuration(cpu_cores = 1, memory_gb = 1,  enable_app_insights=False, auth_enabled=True)\r\n",
        "\r\n",
        "from azureml.core.webservice import LocalWebservice, Webservice\r\n",
        "inference_config = InferenceConfig(entry_script='score.py', environment=environment)\r\n",
        "service = Model.deploy(ws, \"automl-deploy\", [model], inference_config, deployment_config)\r\n",
        "service.wait_for_deployment(show_output = True)\r\n",
        "\r\n",
        "print(service.state)\r\n",
        "print(service.scoring_uri)\r\n",
        "print(service.swagger_uri)"
      ],
      "outputs": [
        {
          "output_type": "stream",
          "name": "stdout",
          "text": [
            "Tips: You can try get_logs(): https://aka.ms/debugimage#dockerlog or local deployment: https://aka.ms/debugimage#debug-locally to debug if deployment takes longer than 10 minutes.\n",
            "Running....................................\n",
            "Succeeded\n",
            "ACI service creation operation finished, operation \"Succeeded\"\n",
            "Healthy\n",
            "http://fc793b6b-35f1-406e-89e1-032ffafef2af.southcentralus.azurecontainer.io/score\n",
            "http://fc793b6b-35f1-406e-89e1-032ffafef2af.southcentralus.azurecontainer.io/swagger.json\n"
          ]
        }
      ],
      "execution_count": 44,
      "metadata": {
        "collapsed": true,
        "jupyter": {
          "source_hidden": false,
          "outputs_hidden": false
        },
        "nteract": {
          "transient": {
            "deleting": false
          }
        },
        "gather": {
          "logged": 1615047104193
        }
      }
    },
    {
      "cell_type": "code",
      "source": [
        "primaryKey, secondaryKey = service.get_keys()\r\n",
        "print('Primary Key :', primaryKey)\r\n",
        "scoringURI = service.scoring_uri\r\n",
        "print('Scoring URI :', scoringURI)"
      ],
      "outputs": [
        {
          "output_type": "stream",
          "name": "stdout",
          "text": [
            "Primary Key : HbBIN5R4F66Ay4enkbdioncmh3TNKhP0\n",
            "Scoring URI : http://fc793b6b-35f1-406e-89e1-032ffafef2af.southcentralus.azurecontainer.io/score\n"
          ]
        }
      ],
      "execution_count": 45,
      "metadata": {
        "collapsed": true,
        "jupyter": {
          "source_hidden": false,
          "outputs_hidden": false
        },
        "nteract": {
          "transient": {
            "deleting": false
          }
        },
        "gather": {
          "logged": 1615047163271
        }
      }
    },
    {
      "cell_type": "code",
      "source": [
        "import requests\r\n",
        "import json\r\n",
        "\r\n",
        "scoring_uri = scoringURI\r\n",
        "key = primaryKey\r\n",
        "\r\n",
        "\r\n",
        "# Sample data to send to the service\r\n",
        "data = json.dumps(\r\n",
        "    {\"data\":\r\n",
        "            [\r\n",
        "                {\r\n",
        "                    'age': 75.0,\r\n",
        "                    'anaemia': 0,\r\n",
        "                    'creatinine_phosphokinase': 582,\r\n",
        "                    'diabetes': 0,\r\n",
        "                    'ejection_fraction': 20,\r\n",
        "                    'high_blood_pressure': 1,\r\n",
        "                    'platelets': 265000.0,\r\n",
        "                    'serum_creatinine': 1.9,\r\n",
        "                    'serum_sodium': 130,\r\n",
        "                    'sex': 1,\r\n",
        "                    'smoking': 0,\r\n",
        "                    'time': 4\r\n",
        "                },\r\n",
        "                {\r\n",
        "                    'age': 55.0,\r\n",
        "                    'anaemia': 0,\r\n",
        "                    'creatinine_phosphokinase': 7861,\r\n",
        "                    'diabetes': 0,\r\n",
        "                    'ejection_fraction': 38,\r\n",
        "                    'high_blood_pressure': 0,\r\n",
        "                    'platelets': 263358.03,\r\n",
        "                    'serum_creatinine': 1.1,\r\n",
        "                    'serum_sodium': 136,\r\n",
        "                    'sex': 1,\r\n",
        "                    'smoking': 0,\r\n",
        "                    'time': 6\r\n",
        "                }\r\n",
        "            ] \r\n",
        "        }\r\n",
        ")\r\n",
        "                \r\n",
        "\r\n",
        "headers = {'Content-Type': 'application/json'}\r\n",
        "\r\n",
        "headers['Authorization'] = f'Bearer {key}'\r\n",
        "\r\n",
        "resp = requests.post(scoring_uri, data, headers=headers)\r\n",
        "print(\"Response result from input payload : \", resp.text)\r\n"
      ],
      "outputs": [
        {
          "output_type": "stream",
          "name": "stdout",
          "text": [
            "Response result from input payload :  [0, 0]\n"
          ]
        }
      ],
      "execution_count": 46,
      "metadata": {
        "collapsed": true,
        "jupyter": {
          "source_hidden": false,
          "outputs_hidden": false
        },
        "nteract": {
          "transient": {
            "deleting": false
          }
        },
        "gather": {
          "logged": 1615047167706
        }
      }
    },
    {
      "cell_type": "code",
      "source": [
        "service.delete()"
      ],
      "outputs": [],
      "execution_count": 38,
      "metadata": {
        "collapsed": true,
        "jupyter": {
          "source_hidden": false,
          "outputs_hidden": false
        },
        "nteract": {
          "transient": {
            "deleting": false
          }
        },
        "gather": {
          "logged": 1615044428264
        }
      }
    },
    {
      "cell_type": "code",
      "source": [
        "cpu_cluster.delete()"
      ],
      "outputs": [],
      "execution_count": 47,
      "metadata": {
        "collapsed": true,
        "jupyter": {
          "source_hidden": false,
          "outputs_hidden": false
        },
        "nteract": {
          "transient": {
            "deleting": false
          }
        },
        "gather": {
          "logged": 1615047856001
        }
      }
    },
    {
      "cell_type": "code",
      "source": [],
      "outputs": [],
      "execution_count": null,
      "metadata": {
        "collapsed": true,
        "jupyter": {
          "source_hidden": false,
          "outputs_hidden": false
        },
        "nteract": {
          "transient": {
            "deleting": false
          }
        }
      }
    }
  ],
  "metadata": {
    "kernel_info": {
      "name": "python3-azureml"
    },
    "kernelspec": {
      "name": "python3-azureml",
      "language": "python",
      "display_name": "Python 3.6 - AzureML"
    },
    "language_info": {
      "name": "python",
      "version": "3.6.9",
      "mimetype": "text/x-python",
      "codemirror_mode": {
        "name": "ipython",
        "version": 3
      },
      "pygments_lexer": "ipython3",
      "nbconvert_exporter": "python",
      "file_extension": ".py"
    },
    "nteract": {
      "version": "nteract-front-end@1.0.0"
    },
    "microsoft": {
      "host": {
        "AzureML": {
          "notebookHasBeenCompleted": true
        }
      }
    }
  },
  "nbformat": 4,
  "nbformat_minor": 2
}