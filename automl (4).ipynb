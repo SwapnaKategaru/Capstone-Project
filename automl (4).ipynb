{
  "cells": [
    {
      "cell_type": "markdown",
      "source": [
        "# Automated ML\n",
        "\n",
        "TODO: Import Dependencies. In the cell below, import all the dependencies that you will need to complete the project."
      ],
      "metadata": {}
    },
    {
      "cell_type": "code",
      "source": [
        "# pip install azureml-train-automl-runtime==1.20.0\r\n",
        "\r\n",
        "!pip install --upgrade --upgrade-strategy eager azureml-sdk[automl,widgets,notebooks]==1.20.0"
      ],
      "outputs": [
        {
          "output_type": "stream",
          "name": "stdout",
          "text": [
            "Collecting azureml-sdk[automl,notebooks,widgets]==1.20.0\n",
            "  Downloading azureml_sdk-1.20.0-py3-none-any.whl (4.4 kB)\n",
            "\u001b[33m  WARNING: azureml-sdk 1.20.0 does not provide the extra 'widgets'\u001b[0m\n",
            "Requirement already up-to-date: azureml-train-automl-client~=1.20.0 in /anaconda/envs/azureml_py36/lib/python3.6/site-packages (from azureml-sdk[automl,notebooks,widgets]==1.20.0) (1.20.0)\n",
            "Collecting azureml-train~=1.20.0\n",
            "  Downloading azureml_train-1.20.0-py3-none-any.whl (3.3 kB)\n",
            "Requirement already up-to-date: azureml-dataset-runtime[fuse]~=1.20.0 in /anaconda/envs/azureml_py36/lib/python3.6/site-packages (from azureml-sdk[automl,notebooks,widgets]==1.20.0) (1.20.0)\n",
            "Collecting azureml-pipeline~=1.20.0\n",
            "  Downloading azureml_pipeline-1.20.0-py3-none-any.whl (3.7 kB)\n",
            "Requirement already up-to-date: azureml-core~=1.20.0 in /anaconda/envs/azureml_py36/lib/python3.6/site-packages (from azureml-sdk[automl,notebooks,widgets]==1.20.0) (1.20.0.post1)\n",
            "Collecting azureml-train-automl~=1.20.0; extra == \"automl\"\n",
            "  Downloading azureml_train_automl-1.20.0-py3-none-any.whl (3.4 kB)\n",
            "Collecting azureml-widgets~=1.20.0; extra == \"notebooks\"\n",
            "  Downloading azureml_widgets-1.20.0-py3-none-any.whl (14.1 MB)\n",
            "\u001b[K     |████████████████████████████████| 14.1 MB 5.5 MB/s eta 0:00:01\n",
            "\u001b[?25hCollecting azureml-contrib-notebook~=1.20.0; extra == \"notebooks\"\n",
            "  Downloading azureml_contrib_notebook-1.20.0-py3-none-any.whl (29 kB)\n",
            "Requirement already up-to-date: azureml-automl-core~=1.20.0 in /anaconda/envs/azureml_py36/lib/python3.6/site-packages (from azureml-train-automl-client~=1.20.0->azureml-sdk[automl,notebooks,widgets]==1.20.0) (1.20.0)\n",
            "Requirement already up-to-date: azureml-telemetry~=1.20.0 in /anaconda/envs/azureml_py36/lib/python3.6/site-packages (from azureml-train-automl-client~=1.20.0->azureml-sdk[automl,notebooks,widgets]==1.20.0) (1.20.0)\n",
            "Collecting azureml-train-core~=1.20.0\n",
            "  Downloading azureml_train_core-1.20.0-py3-none-any.whl (8.6 MB)\n",
            "\u001b[K     |████████████████████████████████| 8.6 MB 36.4 MB/s eta 0:00:01\n",
            "\u001b[?25hCollecting numpy!=1.19.3; sys_platform == \"linux\"\n",
            "  Downloading numpy-1.19.5-cp36-cp36m-manylinux2010_x86_64.whl (14.8 MB)\n",
            "\u001b[K     |████████████████████████████████| 14.8 MB 48.3 MB/s eta 0:00:01\n",
            "\u001b[?25hRequirement already up-to-date: azureml-dataprep<2.8.0a,>=2.7.0a in /anaconda/envs/azureml_py36/lib/python3.6/site-packages (from azureml-dataset-runtime[fuse]~=1.20.0->azureml-sdk[automl,notebooks,widgets]==1.20.0) (2.7.4)\n",
            "Requirement already up-to-date: pyarrow<2.0.0,>=0.17.0 in /anaconda/envs/azureml_py36/lib/python3.6/site-packages (from azureml-dataset-runtime[fuse]~=1.20.0->azureml-sdk[automl,notebooks,widgets]==1.20.0) (1.0.1)\n",
            "Requirement already up-to-date: fusepy<4.0.0,>=3.0.1; extra == \"fuse\" in /anaconda/envs/azureml_py36/lib/python3.6/site-packages (from azureml-dataset-runtime[fuse]~=1.20.0->azureml-sdk[automl,notebooks,widgets]==1.20.0) (3.0.1)\n",
            "Collecting azureml-pipeline-steps~=1.20.0\n",
            "  Downloading azureml_pipeline_steps-1.20.0-py3-none-any.whl (66 kB)\n",
            "\u001b[K     |████████████████████████████████| 66 kB 5.8 MB/s  eta 0:00:01\n",
            "\u001b[?25hCollecting azureml-pipeline-core~=1.20.0\n",
            "  Downloading azureml_pipeline_core-1.20.0-py3-none-any.whl (307 kB)\n",
            "\u001b[K     |████████████████████████████████| 307 kB 88.3 MB/s eta 0:00:01\n",
            "\u001b[?25hRequirement already up-to-date: msrest>=0.5.1 in /anaconda/envs/azureml_py36/lib/python3.6/site-packages (from azureml-core~=1.20.0->azureml-sdk[automl,notebooks,widgets]==1.20.0) (0.6.21)\n",
            "Requirement already up-to-date: azure-mgmt-containerregistry>=2.0.0 in /anaconda/envs/azureml_py36/lib/python3.6/site-packages (from azureml-core~=1.20.0->azureml-sdk[automl,notebooks,widgets]==1.20.0) (2.8.0)\n",
            "Collecting SecretStorage\n",
            "  Downloading SecretStorage-3.3.1-py3-none-any.whl (15 kB)\n",
            "Requirement already up-to-date: azure-mgmt-storage<16.0.0,>=1.5.0 in /anaconda/envs/azureml_py36/lib/python3.6/site-packages (from azureml-core~=1.20.0->azureml-sdk[automl,notebooks,widgets]==1.20.0) (11.2.0)\n",
            "Requirement already up-to-date: pyopenssl<20.0.0 in /anaconda/envs/azureml_py36/lib/python3.6/site-packages (from azureml-core~=1.20.0->azureml-sdk[automl,notebooks,widgets]==1.20.0) (19.1.0)\n",
            "Requirement already up-to-date: azure-mgmt-keyvault<7.0.0,>=0.40.0 in /anaconda/envs/azureml_py36/lib/python3.6/site-packages (from azureml-core~=1.20.0->azureml-sdk[automl,notebooks,widgets]==1.20.0) (2.2.0)\n",
            "Collecting docker\n",
            "  Downloading docker-4.4.4-py2.py3-none-any.whl (147 kB)\n",
            "\u001b[K     |████████████████████████████████| 147 kB 86.7 MB/s eta 0:00:01\n",
            "\u001b[?25hRequirement already up-to-date: PyJWT<2.0.0 in /anaconda/envs/azureml_py36/lib/python3.6/site-packages (from azureml-core~=1.20.0->azureml-sdk[automl,notebooks,widgets]==1.20.0) (1.7.1)\n",
            "Requirement already up-to-date: backports.tempfile in /anaconda/envs/azureml_py36/lib/python3.6/site-packages (from azureml-core~=1.20.0->azureml-sdk[automl,notebooks,widgets]==1.20.0) (1.0)\n",
            "Requirement already up-to-date: azure-common>=1.1.12 in /anaconda/envs/azureml_py36/lib/python3.6/site-packages (from azureml-core~=1.20.0->azureml-sdk[automl,notebooks,widgets]==1.20.0) (1.1.26)\n",
            "Requirement already up-to-date: msrestazure>=0.4.33 in /anaconda/envs/azureml_py36/lib/python3.6/site-packages (from azureml-core~=1.20.0->azureml-sdk[automl,notebooks,widgets]==1.20.0) (0.6.4)\n",
            "Requirement already up-to-date: azure-graphrbac<1.0.0,>=0.40.0 in /anaconda/envs/azureml_py36/lib/python3.6/site-packages (from azureml-core~=1.20.0->azureml-sdk[automl,notebooks,widgets]==1.20.0) (0.61.1)\n",
            "Requirement already up-to-date: python-dateutil>=2.7.3 in /anaconda/envs/azureml_py36/lib/python3.6/site-packages (from azureml-core~=1.20.0->azureml-sdk[automl,notebooks,widgets]==1.20.0) (2.8.1)\n",
            "Requirement already up-to-date: ndg-httpsclient in /anaconda/envs/azureml_py36/lib/python3.6/site-packages (from azureml-core~=1.20.0->azureml-sdk[automl,notebooks,widgets]==1.20.0) (0.5.1)\n",
            "Requirement already up-to-date: pathspec in /anaconda/envs/azureml_py36/lib/python3.6/site-packages (from azureml-core~=1.20.0->azureml-sdk[automl,notebooks,widgets]==1.20.0) (0.8.1)\n",
            "Requirement already up-to-date: contextlib2 in /anaconda/envs/azureml_py36/lib/python3.6/site-packages (from azureml-core~=1.20.0->azureml-sdk[automl,notebooks,widgets]==1.20.0) (0.6.0.post1)\n",
            "Requirement already up-to-date: jmespath in /anaconda/envs/azureml_py36/lib/python3.6/site-packages (from azureml-core~=1.20.0->azureml-sdk[automl,notebooks,widgets]==1.20.0) (0.10.0)\n",
            "Requirement already up-to-date: requests>=2.19.1 in /anaconda/envs/azureml_py36/lib/python3.6/site-packages (from azureml-core~=1.20.0->azureml-sdk[automl,notebooks,widgets]==1.20.0) (2.25.1)\n",
            "Requirement already up-to-date: azure-mgmt-resource<15.0.0,>=1.2.1 in /anaconda/envs/azureml_py36/lib/python3.6/site-packages (from azureml-core~=1.20.0->azureml-sdk[automl,notebooks,widgets]==1.20.0) (12.0.0)\n",
            "Collecting cryptography!=1.9,!=2.0.*,!=2.1.*,!=2.2.*\n",
            "  Downloading cryptography-3.4.6-cp36-abi3-manylinux2014_x86_64.whl (3.2 MB)\n",
            "\u001b[K     |████████████████████████████████| 3.2 MB 65.7 MB/s eta 0:00:01\n",
            "\u001b[?25hRequirement already up-to-date: adal>=1.2.0 in /anaconda/envs/azureml_py36/lib/python3.6/site-packages (from azureml-core~=1.20.0->azureml-sdk[automl,notebooks,widgets]==1.20.0) (1.2.6)\n",
            "Requirement already up-to-date: azure-mgmt-authorization<1.0.0,>=0.40.0 in /anaconda/envs/azureml_py36/lib/python3.6/site-packages (from azureml-core~=1.20.0->azureml-sdk[automl,notebooks,widgets]==1.20.0) (0.61.0)\n",
            "Collecting urllib3>=1.23\n",
            "  Downloading urllib3-1.26.3-py2.py3-none-any.whl (137 kB)\n",
            "\u001b[K     |████████████████████████████████| 137 kB 87.9 MB/s eta 0:00:01\n",
            "\u001b[?25hCollecting jsonpickle\n",
            "  Downloading jsonpickle-2.0.0-py2.py3-none-any.whl (37 kB)\n",
            "Requirement already up-to-date: ruamel.yaml>=0.15.35 in /anaconda/envs/azureml_py36/lib/python3.6/site-packages (from azureml-core~=1.20.0->azureml-sdk[automl,notebooks,widgets]==1.20.0) (0.16.12)\n",
            "Requirement already up-to-date: pytz in /anaconda/envs/azureml_py36/lib/python3.6/site-packages (from azureml-core~=1.20.0->azureml-sdk[automl,notebooks,widgets]==1.20.0) (2021.1)\n",
            "Requirement already up-to-date: azureml-train-automl-runtime~=1.20.0 in /anaconda/envs/azureml_py36/lib/python3.6/site-packages (from azureml-train-automl~=1.20.0; extra == \"automl\"->azureml-sdk[automl,notebooks,widgets]==1.20.0) (1.20.0.post1)\n",
            "Requirement already up-to-date: azureml-automl-runtime~=1.20.0 in /anaconda/envs/azureml_py36/lib/python3.6/site-packages (from azureml-train-automl~=1.20.0; extra == \"automl\"->azureml-sdk[automl,notebooks,widgets]==1.20.0) (1.20.0)\n",
            "Requirement already up-to-date: ipywidgets>=7.0.0 in /anaconda/envs/azureml_py36/lib/python3.6/site-packages (from azureml-widgets~=1.20.0; extra == \"notebooks\"->azureml-sdk[automl,notebooks,widgets]==1.20.0) (7.6.3)\n",
            "Requirement already up-to-date: ipython in /anaconda/envs/azureml_py36/lib/python3.6/site-packages (from azureml-contrib-notebook~=1.20.0; extra == \"notebooks\"->azureml-sdk[automl,notebooks,widgets]==1.20.0) (7.16.1)\n",
            "Requirement already up-to-date: papermill<2 in /anaconda/envs/azureml_py36/lib/python3.6/site-packages (from azureml-contrib-notebook~=1.20.0; extra == \"notebooks\"->azureml-sdk[automl,notebooks,widgets]==1.20.0) (1.2.1)\n",
            "Requirement already up-to-date: nbconvert<6 in /anaconda/envs/azureml_py36/lib/python3.6/site-packages (from azureml-contrib-notebook~=1.20.0; extra == \"notebooks\"->azureml-sdk[automl,notebooks,widgets]==1.20.0) (5.6.1)\n",
            "Collecting ipykernel\n",
            "  Downloading ipykernel-5.5.0-py3-none-any.whl (120 kB)\n",
            "\u001b[K     |████████████████████████████████| 120 kB 77.5 MB/s eta 0:00:01\n",
            "\u001b[?25hRequirement already up-to-date: applicationinsights in /anaconda/envs/azureml_py36/lib/python3.6/site-packages (from azureml-telemetry~=1.20.0->azureml-train-automl-client~=1.20.0->azureml-sdk[automl,notebooks,widgets]==1.20.0) (0.11.9)\n",
            "Collecting azureml-train-restclients-hyperdrive~=1.20.0\n",
            "  Downloading azureml_train_restclients_hyperdrive-1.20.0-py3-none-any.whl (19 kB)\n",
            "Requirement already up-to-date: azureml-dataprep-rslex<1.6.0a,>=1.5.0dev0 in /anaconda/envs/azureml_py36/lib/python3.6/site-packages (from azureml-dataprep<2.8.0a,>=2.7.0a->azureml-dataset-runtime[fuse]~=1.20.0->azureml-sdk[automl,notebooks,widgets]==1.20.0) (1.5.0)\n",
            "Requirement already up-to-date: azureml-dataprep-native<28.0.0,>=27.0.0 in /anaconda/envs/azureml_py36/lib/python3.6/site-packages (from azureml-dataprep<2.8.0a,>=2.7.0a->azureml-dataset-runtime[fuse]~=1.20.0->azureml-sdk[automl,notebooks,widgets]==1.20.0) (27.0.0)\n",
            "Requirement already up-to-date: cloudpickle<2.0.0,>=1.1.0 in /anaconda/envs/azureml_py36/lib/python3.6/site-packages (from azureml-dataprep<2.8.0a,>=2.7.0a->azureml-dataset-runtime[fuse]~=1.20.0->azureml-sdk[automl,notebooks,widgets]==1.20.0) (1.6.0)\n",
            "Requirement already up-to-date: dotnetcore2<3.0.0,>=2.1.14 in /anaconda/envs/azureml_py36/lib/python3.6/site-packages (from azureml-dataprep<2.8.0a,>=2.7.0a->azureml-dataset-runtime[fuse]~=1.20.0->azureml-sdk[automl,notebooks,widgets]==1.20.0) (2.1.20)\n",
            "Requirement already up-to-date: azure-identity<1.5.0,>=1.2.0 in /anaconda/envs/azureml_py36/lib/python3.6/site-packages (from azureml-dataprep<2.8.0a,>=2.7.0a->azureml-dataset-runtime[fuse]~=1.20.0->azureml-sdk[automl,notebooks,widgets]==1.20.0) (1.4.1)\n",
            "Requirement already up-to-date: certifi>=2017.4.17 in /anaconda/envs/azureml_py36/lib/python3.6/site-packages (from msrest>=0.5.1->azureml-core~=1.20.0->azureml-sdk[automl,notebooks,widgets]==1.20.0) (2020.12.5)\n",
            "Requirement already up-to-date: requests-oauthlib>=0.5.0 in /anaconda/envs/azureml_py36/lib/python3.6/site-packages (from msrest>=0.5.1->azureml-core~=1.20.0->azureml-sdk[automl,notebooks,widgets]==1.20.0) (1.3.0)\n",
            "Requirement already up-to-date: isodate>=0.6.0 in /anaconda/envs/azureml_py36/lib/python3.6/site-packages (from msrest>=0.5.1->azureml-core~=1.20.0->azureml-sdk[automl,notebooks,widgets]==1.20.0) (0.6.0)\n",
            "Requirement already up-to-date: jeepney>=0.6 in /anaconda/envs/azureml_py36/lib/python3.6/site-packages (from SecretStorage->azureml-core~=1.20.0->azureml-sdk[automl,notebooks,widgets]==1.20.0) (0.6.0)\n",
            "Requirement already up-to-date: six>=1.5.2 in /anaconda/envs/azureml_py36/lib/python3.6/site-packages (from pyopenssl<20.0.0->azureml-core~=1.20.0->azureml-sdk[automl,notebooks,widgets]==1.20.0) (1.15.0)\n",
            "Collecting websocket-client>=0.32.0\n",
            "  Downloading websocket_client-0.58.0-py2.py3-none-any.whl (61 kB)\n",
            "\u001b[K     |████████████████████████████████| 61 kB 6.1 MB/s  eta 0:00:01\n",
            "\u001b[?25hRequirement already up-to-date: backports.weakref in /anaconda/envs/azureml_py36/lib/python3.6/site-packages (from backports.tempfile->azureml-core~=1.20.0->azureml-sdk[automl,notebooks,widgets]==1.20.0) (1.0.post1)\n",
            "Requirement already up-to-date: pyasn1>=0.1.1 in /anaconda/envs/azureml_py36/lib/python3.6/site-packages (from ndg-httpsclient->azureml-core~=1.20.0->azureml-sdk[automl,notebooks,widgets]==1.20.0) (0.4.8)\n",
            "Requirement already up-to-date: chardet<5,>=3.0.2 in /anaconda/envs/azureml_py36/lib/python3.6/site-packages (from requests>=2.19.1->azureml-core~=1.20.0->azureml-sdk[automl,notebooks,widgets]==1.20.0) (4.0.0)\n",
            "Requirement already up-to-date: idna<3,>=2.5 in /anaconda/envs/azureml_py36/lib/python3.6/site-packages (from requests>=2.19.1->azureml-core~=1.20.0->azureml-sdk[automl,notebooks,widgets]==1.20.0) (2.10)\n",
            "Collecting cffi>=1.12\n",
            "  Downloading cffi-1.14.5-cp36-cp36m-manylinux1_x86_64.whl (401 kB)\n",
            "\u001b[K     |████████████████████████████████| 401 kB 75.9 MB/s eta 0:00:01\n",
            "\u001b[?25hCollecting importlib-metadata; python_version < \"3.8\"\n",
            "  Downloading importlib_metadata-3.7.0-py3-none-any.whl (11 kB)\n",
            "Requirement already up-to-date: ruamel.yaml.clib>=0.1.2; platform_python_implementation == \"CPython\" and python_version < \"3.9\" in /anaconda/envs/azureml_py36/lib/python3.6/site-packages (from ruamel.yaml>=0.15.35->azureml-core~=1.20.0->azureml-sdk[automl,notebooks,widgets]==1.20.0) (0.2.2)\n",
            "Requirement already up-to-date: statsmodels<=0.10.2,>=0.9.0 in /anaconda/envs/azureml_py36/lib/python3.6/site-packages (from azureml-train-automl-runtime~=1.20.0->azureml-train-automl~=1.20.0; extra == \"automl\"->azureml-sdk[automl,notebooks,widgets]==1.20.0) (0.10.2)\n",
            "Requirement already up-to-date: lightgbm<=2.3.0,>=2.0.11 in /anaconda/envs/azureml_py36/lib/python3.6/site-packages (from azureml-train-automl-runtime~=1.20.0->azureml-train-automl~=1.20.0; extra == \"automl\"->azureml-sdk[automl,notebooks,widgets]==1.20.0) (2.3.0)\n",
            "Requirement already up-to-date: onnxruntime==1.3.0 in /anaconda/envs/azureml_py36/lib/python3.6/site-packages (from azureml-train-automl-runtime~=1.20.0->azureml-train-automl~=1.20.0; extra == \"automl\"->azureml-sdk[automl,notebooks,widgets]==1.20.0) (1.3.0)\n",
            "Requirement already up-to-date: scipy<=1.5.2,>=1.0.0 in /anaconda/envs/azureml_py36/lib/python3.6/site-packages (from azureml-train-automl-runtime~=1.20.0->azureml-train-automl~=1.20.0; extra == \"automl\"->azureml-sdk[automl,notebooks,widgets]==1.20.0) (1.5.2)\n",
            "Requirement already up-to-date: pandas<1.0.0,>=0.21.0 in /anaconda/envs/azureml_py36/lib/python3.6/site-packages (from azureml-train-automl-runtime~=1.20.0->azureml-train-automl~=1.20.0; extra == \"automl\"->azureml-sdk[automl,notebooks,widgets]==1.20.0) (0.25.3)\n",
            "Requirement already up-to-date: onnxmltools==1.4.1 in /anaconda/envs/azureml_py36/lib/python3.6/site-packages (from azureml-train-automl-runtime~=1.20.0->azureml-train-automl~=1.20.0; extra == \"automl\"->azureml-sdk[automl,notebooks,widgets]==1.20.0) (1.4.1)\n",
            "Requirement already up-to-date: boto3<=1.15.18 in /anaconda/envs/azureml_py36/lib/python3.6/site-packages (from azureml-train-automl-runtime~=1.20.0->azureml-train-automl~=1.20.0; extra == \"automl\"->azureml-sdk[automl,notebooks,widgets]==1.20.0) (1.15.18)\n",
            "Requirement already up-to-date: azureml-defaults~=1.20.0 in /anaconda/envs/azureml_py36/lib/python3.6/site-packages (from azureml-train-automl-runtime~=1.20.0->azureml-train-automl~=1.20.0; extra == \"automl\"->azureml-sdk[automl,notebooks,widgets]==1.20.0) (1.20.0)\n",
            "Requirement already up-to-date: botocore<=1.18.18 in /anaconda/envs/azureml_py36/lib/python3.6/site-packages (from azureml-train-automl-runtime~=1.20.0->azureml-train-automl~=1.20.0; extra == \"automl\"->azureml-sdk[automl,notebooks,widgets]==1.20.0) (1.18.18)\n",
            "Requirement already up-to-date: azure-storage-queue~=12.1 in /anaconda/envs/azureml_py36/lib/python3.6/site-packages (from azureml-train-automl-runtime~=1.20.0->azureml-train-automl~=1.20.0; extra == \"automl\"->azureml-sdk[automl,notebooks,widgets]==1.20.0) (12.1.5)\n",
            "Requirement already up-to-date: skl2onnx==1.4.9 in /anaconda/envs/azureml_py36/lib/python3.6/site-packages (from azureml-train-automl-runtime~=1.20.0->azureml-train-automl~=1.20.0; extra == \"automl\"->azureml-sdk[automl,notebooks,widgets]==1.20.0) (1.4.9)\n",
            "Requirement already up-to-date: onnx<=1.7.0,>=1.5.0 in /anaconda/envs/azureml_py36/lib/python3.6/site-packages (from azureml-train-automl-runtime~=1.20.0->azureml-train-automl~=1.20.0; extra == \"automl\"->azureml-sdk[automl,notebooks,widgets]==1.20.0) (1.7.0)\n",
            "Requirement already up-to-date: gensim<3.9.0 in /anaconda/envs/azureml_py36/lib/python3.6/site-packages (from azureml-train-automl-runtime~=1.20.0->azureml-train-automl~=1.20.0; extra == \"automl\"->azureml-sdk[automl,notebooks,widgets]==1.20.0) (3.8.3)\n",
            "Requirement already up-to-date: keras2onnx<=1.6.0,>=1.4.0 in /anaconda/envs/azureml_py36/lib/python3.6/site-packages (from azureml-train-automl-runtime~=1.20.0->azureml-train-automl~=1.20.0; extra == \"automl\"->azureml-sdk[automl,notebooks,widgets]==1.20.0) (1.6.0)\n",
            "Requirement already up-to-date: jinja2<=2.11.2 in /anaconda/envs/azureml_py36/lib/python3.6/site-packages (from azureml-train-automl-runtime~=1.20.0->azureml-train-automl~=1.20.0; extra == \"automl\"->azureml-sdk[automl,notebooks,widgets]==1.20.0) (2.11.2)\n",
            "Requirement already up-to-date: scikit-learn<0.23.0,>=0.19.0 in /anaconda/envs/azureml_py36/lib/python3.6/site-packages (from azureml-train-automl-runtime~=1.20.0->azureml-train-automl~=1.20.0; extra == \"automl\"->azureml-sdk[automl,notebooks,widgets]==1.20.0) (0.22.2.post1)\n",
            "Requirement already up-to-date: smart-open<=1.9.0 in /anaconda/envs/azureml_py36/lib/python3.6/site-packages (from azureml-train-automl-runtime~=1.20.0->azureml-train-automl~=1.20.0; extra == \"automl\"->azureml-sdk[automl,notebooks,widgets]==1.20.0) (1.9.0)\n",
            "Requirement already up-to-date: onnxconverter-common<=1.6.0,>=1.4.2 in /anaconda/envs/azureml_py36/lib/python3.6/site-packages (from azureml-train-automl-runtime~=1.20.0->azureml-train-automl~=1.20.0; extra == \"automl\"->azureml-sdk[automl,notebooks,widgets]==1.20.0) (1.6.0)\n",
            "Requirement already up-to-date: sklearn-pandas<=1.7.0,>=1.4.0 in /anaconda/envs/azureml_py36/lib/python3.6/site-packages (from azureml-train-automl-runtime~=1.20.0->azureml-train-automl~=1.20.0; extra == \"automl\"->azureml-sdk[automl,notebooks,widgets]==1.20.0) (1.7.0)\n",
            "Requirement already up-to-date: azureml-interpret~=1.20.0 in /anaconda/envs/azureml_py36/lib/python3.6/site-packages (from azureml-train-automl-runtime~=1.20.0->azureml-train-automl~=1.20.0; extra == \"automl\"->azureml-sdk[automl,notebooks,widgets]==1.20.0) (1.20.0)\n",
            "Requirement already up-to-date: pmdarima==1.1.1 in /anaconda/envs/azureml_py36/lib/python3.6/site-packages (from azureml-automl-runtime~=1.20.0->azureml-train-automl~=1.20.0; extra == \"automl\"->azureml-sdk[automl,notebooks,widgets]==1.20.0) (1.1.1)\n",
            "Requirement already up-to-date: nimbusml<=1.8.0,>=1.7.1 in /anaconda/envs/azureml_py36/lib/python3.6/site-packages (from azureml-automl-runtime~=1.20.0->azureml-train-automl~=1.20.0; extra == \"automl\"->azureml-sdk[automl,notebooks,widgets]==1.20.0) (1.8.0)\n",
            "Requirement already up-to-date: joblib==0.14.1 in /anaconda/envs/azureml_py36/lib/python3.6/site-packages (from azureml-automl-runtime~=1.20.0->azureml-train-automl~=1.20.0; extra == \"automl\"->azureml-sdk[automl,notebooks,widgets]==1.20.0) (0.14.1)\n",
            "Requirement already up-to-date: dill<0.4.0,>=0.2.8 in /anaconda/envs/azureml_py36/lib/python3.6/site-packages (from azureml-automl-runtime~=1.20.0->azureml-train-automl~=1.20.0; extra == \"automl\"->azureml-sdk[automl,notebooks,widgets]==1.20.0) (0.3.3)\n",
            "Requirement already up-to-date: py-cpuinfo==5.0.0 in /anaconda/envs/azureml_py36/lib/python3.6/site-packages (from azureml-automl-runtime~=1.20.0->azureml-train-automl~=1.20.0; extra == \"automl\"->azureml-sdk[automl,notebooks,widgets]==1.20.0) (5.0.0)\n",
            "Requirement already up-to-date: psutil<6.0.0,>=5.2.2 in /anaconda/envs/azureml_py36/lib/python3.6/site-packages (from azureml-automl-runtime~=1.20.0->azureml-train-automl~=1.20.0; extra == \"automl\"->azureml-sdk[automl,notebooks,widgets]==1.20.0) (5.8.0)\n",
            "Requirement already up-to-date: widgetsnbextension~=3.5.0 in /anaconda/envs/azureml_py36/lib/python3.6/site-packages (from ipywidgets>=7.0.0->azureml-widgets~=1.20.0; extra == \"notebooks\"->azureml-sdk[automl,notebooks,widgets]==1.20.0) (3.5.1)\n",
            "Requirement already up-to-date: jupyterlab-widgets>=1.0.0; python_version >= \"3.6\" in /anaconda/envs/azureml_py36/lib/python3.6/site-packages (from ipywidgets>=7.0.0->azureml-widgets~=1.20.0; extra == \"notebooks\"->azureml-sdk[automl,notebooks,widgets]==1.20.0) (1.0.0)\n",
            "Requirement already up-to-date: traitlets>=4.3.1 in /anaconda/envs/azureml_py36/lib/python3.6/site-packages (from ipywidgets>=7.0.0->azureml-widgets~=1.20.0; extra == \"notebooks\"->azureml-sdk[automl,notebooks,widgets]==1.20.0) (4.3.3)\n",
            "Requirement already up-to-date: nbformat>=4.2.0 in /anaconda/envs/azureml_py36/lib/python3.6/site-packages (from ipywidgets>=7.0.0->azureml-widgets~=1.20.0; extra == \"notebooks\"->azureml-sdk[automl,notebooks,widgets]==1.20.0) (5.1.2)\n",
            "Requirement already up-to-date: jedi>=0.10 in /anaconda/envs/azureml_py36/lib/python3.6/site-packages (from ipython->azureml-contrib-notebook~=1.20.0; extra == \"notebooks\"->azureml-sdk[automl,notebooks,widgets]==1.20.0) (0.18.0)\n",
            "Requirement already up-to-date: pickleshare in /anaconda/envs/azureml_py36/lib/python3.6/site-packages (from ipython->azureml-contrib-notebook~=1.20.0; extra == \"notebooks\"->azureml-sdk[automl,notebooks,widgets]==1.20.0) (0.7.5)\n",
            "Requirement already up-to-date: decorator in /anaconda/envs/azureml_py36/lib/python3.6/site-packages (from ipython->azureml-contrib-notebook~=1.20.0; extra == \"notebooks\"->azureml-sdk[automl,notebooks,widgets]==1.20.0) (4.4.2)\n",
            "Collecting prompt-toolkit!=3.0.0,!=3.0.1,<3.1.0,>=2.0.0\n",
            "  Downloading prompt_toolkit-3.0.16-py3-none-any.whl (366 kB)\n",
            "\u001b[K     |████████████████████████████████| 366 kB 76.7 MB/s eta 0:00:01\n",
            "\u001b[?25hCollecting setuptools>=18.5\n",
            "  Downloading setuptools-54.0.0-py3-none-any.whl (784 kB)\n",
            "\u001b[K     |████████████████████████████████| 784 kB 61.2 MB/s eta 0:00:01\n",
            "\u001b[?25hRequirement already up-to-date: pexpect; sys_platform != \"win32\" in /anaconda/envs/azureml_py36/lib/python3.6/site-packages (from ipython->azureml-contrib-notebook~=1.20.0; extra == \"notebooks\"->azureml-sdk[automl,notebooks,widgets]==1.20.0) (4.8.0)\n",
            "Requirement already up-to-date: backcall in /anaconda/envs/azureml_py36/lib/python3.6/site-packages (from ipython->azureml-contrib-notebook~=1.20.0; extra == \"notebooks\"->azureml-sdk[automl,notebooks,widgets]==1.20.0) (0.2.0)\n",
            "Collecting pygments\n",
            "  Downloading Pygments-2.8.0-py3-none-any.whl (983 kB)\n",
            "\u001b[K     |████████████████████████████████| 983 kB 15.8 MB/s eta 0:00:01\n",
            "\u001b[?25hRequirement already up-to-date: tenacity in /anaconda/envs/azureml_py36/lib/python3.6/site-packages (from papermill<2->azureml-contrib-notebook~=1.20.0; extra == \"notebooks\"->azureml-sdk[automl,notebooks,widgets]==1.20.0) (6.3.1)\n",
            "Requirement already up-to-date: entrypoints in /anaconda/envs/azureml_py36/lib/python3.6/site-packages (from papermill<2->azureml-contrib-notebook~=1.20.0; extra == \"notebooks\"->azureml-sdk[automl,notebooks,widgets]==1.20.0) (0.3)\n",
            "Requirement already up-to-date: future in /anaconda/envs/azureml_py36/lib/python3.6/site-packages (from papermill<2->azureml-contrib-notebook~=1.20.0; extra == \"notebooks\"->azureml-sdk[automl,notebooks,widgets]==1.20.0) (0.18.2)\n",
            "Requirement already up-to-date: jupyter-client in /anaconda/envs/azureml_py36/lib/python3.6/site-packages (from papermill<2->azureml-contrib-notebook~=1.20.0; extra == \"notebooks\"->azureml-sdk[automl,notebooks,widgets]==1.20.0) (6.1.11)\n",
            "Requirement already up-to-date: pyyaml in /anaconda/envs/azureml_py36/lib/python3.6/site-packages (from papermill<2->azureml-contrib-notebook~=1.20.0; extra == \"notebooks\"->azureml-sdk[automl,notebooks,widgets]==1.20.0) (5.4.1)\n",
            "Requirement already up-to-date: ansiwrap in /anaconda/envs/azureml_py36/lib/python3.6/site-packages (from papermill<2->azureml-contrib-notebook~=1.20.0; extra == \"notebooks\"->azureml-sdk[automl,notebooks,widgets]==1.20.0) (0.8.4)\n",
            "Collecting tqdm>=4.32.2\n",
            "  Downloading tqdm-4.58.0-py2.py3-none-any.whl (73 kB)\n",
            "\u001b[K     |████████████████████████████████| 73 kB 1.3 MB/s  eta 0:00:01\n",
            "\u001b[?25hRequirement already up-to-date: click in /anaconda/envs/azureml_py36/lib/python3.6/site-packages (from papermill<2->azureml-contrib-notebook~=1.20.0; extra == \"notebooks\"->azureml-sdk[automl,notebooks,widgets]==1.20.0) (7.1.2)\n",
            "Requirement already up-to-date: testpath in /anaconda/envs/azureml_py36/lib/python3.6/site-packages (from nbconvert<6->azureml-contrib-notebook~=1.20.0; extra == \"notebooks\"->azureml-sdk[automl,notebooks,widgets]==1.20.0) (0.4.4)\n",
            "Requirement already up-to-date: bleach in /anaconda/envs/azureml_py36/lib/python3.6/site-packages (from nbconvert<6->azureml-contrib-notebook~=1.20.0; extra == \"notebooks\"->azureml-sdk[automl,notebooks,widgets]==1.20.0) (3.3.0)\n",
            "Requirement already up-to-date: jupyter-core in /anaconda/envs/azureml_py36/lib/python3.6/site-packages (from nbconvert<6->azureml-contrib-notebook~=1.20.0; extra == \"notebooks\"->azureml-sdk[automl,notebooks,widgets]==1.20.0) (4.7.1)\n",
            "Requirement already up-to-date: mistune<2,>=0.8.1 in /anaconda/envs/azureml_py36/lib/python3.6/site-packages (from nbconvert<6->azureml-contrib-notebook~=1.20.0; extra == \"notebooks\"->azureml-sdk[automl,notebooks,widgets]==1.20.0) (0.8.4)\n",
            "Requirement already up-to-date: defusedxml in /anaconda/envs/azureml_py36/lib/python3.6/site-packages (from nbconvert<6->azureml-contrib-notebook~=1.20.0; extra == \"notebooks\"->azureml-sdk[automl,notebooks,widgets]==1.20.0) (0.6.0)\n",
            "Requirement already up-to-date: pandocfilters>=1.4.1 in /anaconda/envs/azureml_py36/lib/python3.6/site-packages (from nbconvert<6->azureml-contrib-notebook~=1.20.0; extra == \"notebooks\"->azureml-sdk[automl,notebooks,widgets]==1.20.0) (1.4.3)\n",
            "Requirement already up-to-date: tornado>=4.2 in /anaconda/envs/azureml_py36/lib/python3.6/site-packages (from ipykernel->azureml-contrib-notebook~=1.20.0; extra == \"notebooks\"->azureml-sdk[automl,notebooks,widgets]==1.20.0) (6.1)\n",
            "Requirement already up-to-date: distro>=1.2.0 in /anaconda/envs/azureml_py36/lib/python3.6/site-packages (from dotnetcore2<3.0.0,>=2.1.14->azureml-dataprep<2.8.0a,>=2.7.0a->azureml-dataset-runtime[fuse]~=1.20.0->azureml-sdk[automl,notebooks,widgets]==1.20.0) (1.5.0)\n",
            "Requirement already up-to-date: msal-extensions~=0.2.2 in /anaconda/envs/azureml_py36/lib/python3.6/site-packages (from azure-identity<1.5.0,>=1.2.0->azureml-dataprep<2.8.0a,>=2.7.0a->azureml-dataset-runtime[fuse]~=1.20.0->azureml-sdk[automl,notebooks,widgets]==1.20.0) (0.2.2)\n",
            "Collecting azure-core<2.0.0,>=1.0.0\n",
            "  Downloading azure_core-1.11.0-py2.py3-none-any.whl (127 kB)\n",
            "\u001b[K     |████████████████████████████████| 127 kB 81.4 MB/s eta 0:00:01\n",
            "\u001b[?25hCollecting msal<2.0.0,>=1.3.0\n",
            "  Downloading msal-1.9.0-py2.py3-none-any.whl (59 kB)\n",
            "\u001b[K     |████████████████████████████████| 59 kB 4.6 MB/s  eta 0:00:01\n",
            "\u001b[?25hRequirement already up-to-date: oauthlib>=3.0.0 in /anaconda/envs/azureml_py36/lib/python3.6/site-packages (from requests-oauthlib>=0.5.0->msrest>=0.5.1->azureml-core~=1.20.0->azureml-sdk[automl,notebooks,widgets]==1.20.0) (3.1.0)\n",
            "Requirement already up-to-date: pycparser in /anaconda/envs/azureml_py36/lib/python3.6/site-packages (from cffi>=1.12->cryptography!=1.9,!=2.0.*,!=2.1.*,!=2.2.*->azureml-core~=1.20.0->azureml-sdk[automl,notebooks,widgets]==1.20.0) (2.20)\n",
            "Requirement already up-to-date: zipp>=0.5 in /anaconda/envs/azureml_py36/lib/python3.6/site-packages (from importlib-metadata; python_version < \"3.8\"->jsonpickle->azureml-core~=1.20.0->azureml-sdk[automl,notebooks,widgets]==1.20.0) (3.4.0)\n",
            "Requirement already up-to-date: typing-extensions>=3.6.4; python_version < \"3.8\" in /anaconda/envs/azureml_py36/lib/python3.6/site-packages (from importlib-metadata; python_version < \"3.8\"->jsonpickle->azureml-core~=1.20.0->azureml-sdk[automl,notebooks,widgets]==1.20.0) (3.7.4.3)\n",
            "Requirement already up-to-date: patsy>=0.4.0 in /anaconda/envs/azureml_py36/lib/python3.6/site-packages (from statsmodels<=0.10.2,>=0.9.0->azureml-train-automl-runtime~=1.20.0->azureml-train-automl~=1.20.0; extra == \"automl\"->azureml-sdk[automl,notebooks,widgets]==1.20.0) (0.5.1)\n",
            "Collecting protobuf\n",
            "  Downloading protobuf-3.15.3-cp36-cp36m-manylinux1_x86_64.whl (1.0 MB)\n",
            "\u001b[K     |████████████████████████████████| 1.0 MB 68.8 MB/s eta 0:00:01\n",
            "\u001b[?25hRequirement already up-to-date: s3transfer<0.4.0,>=0.3.0 in /anaconda/envs/azureml_py36/lib/python3.6/site-packages (from boto3<=1.15.18->azureml-train-automl-runtime~=1.20.0->azureml-train-automl~=1.20.0; extra == \"automl\"->azureml-sdk[automl,notebooks,widgets]==1.20.0) (0.3.4)\n",
            "Requirement already up-to-date: json-logging-py==0.2 in /anaconda/envs/azureml_py36/lib/python3.6/site-packages (from azureml-defaults~=1.20.0->azureml-train-automl-runtime~=1.20.0->azureml-train-automl~=1.20.0; extra == \"automl\"->azureml-sdk[automl,notebooks,widgets]==1.20.0) (0.2)\n",
            "Requirement already up-to-date: gunicorn==19.9.0 in /anaconda/envs/azureml_py36/lib/python3.6/site-packages (from azureml-defaults~=1.20.0->azureml-train-automl-runtime~=1.20.0->azureml-train-automl~=1.20.0; extra == \"automl\"->azureml-sdk[automl,notebooks,widgets]==1.20.0) (19.9.0)\n",
            "Requirement already up-to-date: configparser==3.7.4 in /anaconda/envs/azureml_py36/lib/python3.6/site-packages (from azureml-defaults~=1.20.0->azureml-train-automl-runtime~=1.20.0->azureml-train-automl~=1.20.0; extra == \"automl\"->azureml-sdk[automl,notebooks,widgets]==1.20.0) (3.7.4)\n",
            "Requirement already up-to-date: azureml-model-management-sdk==1.0.1b6.post1 in /anaconda/envs/azureml_py36/lib/python3.6/site-packages (from azureml-defaults~=1.20.0->azureml-train-automl-runtime~=1.20.0->azureml-train-automl~=1.20.0; extra == \"automl\"->azureml-sdk[automl,notebooks,widgets]==1.20.0) (1.0.1b6.post1)\n",
            "Requirement already up-to-date: flask==1.0.3 in /anaconda/envs/azureml_py36/lib/python3.6/site-packages (from azureml-defaults~=1.20.0->azureml-train-automl-runtime~=1.20.0->azureml-train-automl~=1.20.0; extra == \"automl\"->azureml-sdk[automl,notebooks,widgets]==1.20.0) (1.0.3)\n",
            "Requirement already up-to-date: werkzeug<=1.0.1,>=0.16.1 in /anaconda/envs/azureml_py36/lib/python3.6/site-packages (from azureml-defaults~=1.20.0->azureml-train-automl-runtime~=1.20.0->azureml-train-automl~=1.20.0; extra == \"automl\"->azureml-sdk[automl,notebooks,widgets]==1.20.0) (1.0.1)\n",
            "Requirement already up-to-date: fire in /anaconda/envs/azureml_py36/lib/python3.6/site-packages (from keras2onnx<=1.6.0,>=1.4.0->azureml-train-automl-runtime~=1.20.0->azureml-train-automl~=1.20.0; extra == \"automl\"->azureml-sdk[automl,notebooks,widgets]==1.20.0) (0.4.0)\n",
            "Requirement already up-to-date: MarkupSafe>=0.23 in /anaconda/envs/azureml_py36/lib/python3.6/site-packages (from jinja2<=2.11.2->azureml-train-automl-runtime~=1.20.0->azureml-train-automl~=1.20.0; extra == \"automl\"->azureml-sdk[automl,notebooks,widgets]==1.20.0) (1.1.1)\n",
            "Requirement already up-to-date: boto>=2.32 in /anaconda/envs/azureml_py36/lib/python3.6/site-packages (from smart-open<=1.9.0->azureml-train-automl-runtime~=1.20.0->azureml-train-automl~=1.20.0; extra == \"automl\"->azureml-sdk[automl,notebooks,widgets]==1.20.0) (2.49.0)\n",
            "Requirement already up-to-date: interpret-community==0.15.* in /anaconda/envs/azureml_py36/lib/python3.6/site-packages (from azureml-interpret~=1.20.0->azureml-train-automl-runtime~=1.20.0->azureml-train-automl~=1.20.0; extra == \"automl\"->azureml-sdk[automl,notebooks,widgets]==1.20.0) (0.15.4)\n",
            "Collecting Cython>=0.29\n",
            "  Downloading Cython-0.29.22-cp36-cp36m-manylinux1_x86_64.whl (2.0 MB)\n",
            "\u001b[K     |████████████████████████████████| 2.0 MB 61.8 MB/s eta 0:00:01\n",
            "\u001b[?25hRequirement already up-to-date: notebook>=4.4.1 in /anaconda/envs/azureml_py36/lib/python3.6/site-packages (from widgetsnbextension~=3.5.0->ipywidgets>=7.0.0->azureml-widgets~=1.20.0; extra == \"notebooks\"->azureml-sdk[automl,notebooks,widgets]==1.20.0) (6.2.0)\n",
            "Requirement already up-to-date: ipython-genutils in /anaconda/envs/azureml_py36/lib/python3.6/site-packages (from traitlets>=4.3.1->ipywidgets>=7.0.0->azureml-widgets~=1.20.0; extra == \"notebooks\"->azureml-sdk[automl,notebooks,widgets]==1.20.0) (0.2.0)\n",
            "Requirement already up-to-date: jsonschema!=2.5.0,>=2.4 in /anaconda/envs/azureml_py36/lib/python3.6/site-packages (from nbformat>=4.2.0->ipywidgets>=7.0.0->azureml-widgets~=1.20.0; extra == \"notebooks\"->azureml-sdk[automl,notebooks,widgets]==1.20.0) (3.2.0)\n",
            "Requirement already up-to-date: parso<0.9.0,>=0.8.0 in /anaconda/envs/azureml_py36/lib/python3.6/site-packages (from jedi>=0.10->ipython->azureml-contrib-notebook~=1.20.0; extra == \"notebooks\"->azureml-sdk[automl,notebooks,widgets]==1.20.0) (0.8.1)\n",
            "Requirement already up-to-date: wcwidth in /anaconda/envs/azureml_py36/lib/python3.6/site-packages (from prompt-toolkit!=3.0.0,!=3.0.1,<3.1.0,>=2.0.0->ipython->azureml-contrib-notebook~=1.20.0; extra == \"notebooks\"->azureml-sdk[automl,notebooks,widgets]==1.20.0) (0.2.5)\n",
            "Requirement already up-to-date: ptyprocess>=0.5 in /anaconda/envs/azureml_py36/lib/python3.6/site-packages (from pexpect; sys_platform != \"win32\"->ipython->azureml-contrib-notebook~=1.20.0; extra == \"notebooks\"->azureml-sdk[automl,notebooks,widgets]==1.20.0) (0.7.0)\n",
            "Collecting pyzmq>=13\n",
            "  Downloading pyzmq-22.0.3-cp36-cp36m-manylinux1_x86_64.whl (1.1 MB)\n",
            "\u001b[K     |████████████████████████████████| 1.1 MB 65.3 MB/s eta 0:00:01\n",
            "\u001b[?25hRequirement already up-to-date: textwrap3>=0.9.2 in /anaconda/envs/azureml_py36/lib/python3.6/site-packages (from ansiwrap->papermill<2->azureml-contrib-notebook~=1.20.0; extra == \"notebooks\"->azureml-sdk[automl,notebooks,widgets]==1.20.0) (0.9.2)\n",
            "Requirement already up-to-date: webencodings in /anaconda/envs/azureml_py36/lib/python3.6/site-packages (from bleach->nbconvert<6->azureml-contrib-notebook~=1.20.0; extra == \"notebooks\"->azureml-sdk[automl,notebooks,widgets]==1.20.0) (0.5.1)\n",
            "Requirement already up-to-date: packaging in /anaconda/envs/azureml_py36/lib/python3.6/site-packages (from bleach->nbconvert<6->azureml-contrib-notebook~=1.20.0; extra == \"notebooks\"->azureml-sdk[automl,notebooks,widgets]==1.20.0) (20.9)\n",
            "Requirement already up-to-date: portalocker~=1.0; platform_system != \"Windows\" in /anaconda/envs/azureml_py36/lib/python3.6/site-packages (from msal-extensions~=0.2.2->azure-identity<1.5.0,>=1.2.0->azureml-dataprep<2.8.0a,>=2.7.0a->azureml-dataset-runtime[fuse]~=1.20.0->azureml-sdk[automl,notebooks,widgets]==1.20.0) (1.7.1)\n",
            "Requirement already up-to-date: liac-arff>=2.1.1 in /anaconda/envs/azureml_py36/lib/python3.6/site-packages (from azureml-model-management-sdk==1.0.1b6.post1->azureml-defaults~=1.20.0->azureml-train-automl-runtime~=1.20.0->azureml-train-automl~=1.20.0; extra == \"automl\"->azureml-sdk[automl,notebooks,widgets]==1.20.0) (2.5.0)\n",
            "Requirement already up-to-date: itsdangerous>=0.24 in /anaconda/envs/azureml_py36/lib/python3.6/site-packages (from flask==1.0.3->azureml-defaults~=1.20.0->azureml-train-automl-runtime~=1.20.0->azureml-train-automl~=1.20.0; extra == \"automl\"->azureml-sdk[automl,notebooks,widgets]==1.20.0) (1.1.0)\n",
            "Requirement already up-to-date: termcolor in /anaconda/envs/azureml_py36/lib/python3.6/site-packages (from fire->keras2onnx<=1.6.0,>=1.4.0->azureml-train-automl-runtime~=1.20.0->azureml-train-automl~=1.20.0; extra == \"automl\"->azureml-sdk[automl,notebooks,widgets]==1.20.0) (1.1.0)\n",
            "Requirement already up-to-date: interpret-core[required]<=0.2.1,>=0.1.20 in /anaconda/envs/azureml_py36/lib/python3.6/site-packages (from interpret-community==0.15.*->azureml-interpret~=1.20.0->azureml-train-automl-runtime~=1.20.0->azureml-train-automl~=1.20.0; extra == \"automl\"->azureml-sdk[automl,notebooks,widgets]==1.20.0) (0.2.1)\n",
            "Requirement already up-to-date: shap<=0.34.0,>=0.20.0 in /anaconda/envs/azureml_py36/lib/python3.6/site-packages (from interpret-community==0.15.*->azureml-interpret~=1.20.0->azureml-train-automl-runtime~=1.20.0->azureml-train-automl~=1.20.0; extra == \"automl\"->azureml-sdk[automl,notebooks,widgets]==1.20.0) (0.34.0)\n",
            "Requirement already up-to-date: prometheus-client in /anaconda/envs/azureml_py36/lib/python3.6/site-packages (from notebook>=4.4.1->widgetsnbextension~=3.5.0->ipywidgets>=7.0.0->azureml-widgets~=1.20.0; extra == \"notebooks\"->azureml-sdk[automl,notebooks,widgets]==1.20.0) (0.9.0)\n",
            "Requirement already up-to-date: Send2Trash>=1.5.0 in /anaconda/envs/azureml_py36/lib/python3.6/site-packages (from notebook>=4.4.1->widgetsnbextension~=3.5.0->ipywidgets>=7.0.0->azureml-widgets~=1.20.0; extra == \"notebooks\"->azureml-sdk[automl,notebooks,widgets]==1.20.0) (1.5.0)\n",
            "Requirement already up-to-date: argon2-cffi in /anaconda/envs/azureml_py36/lib/python3.6/site-packages (from notebook>=4.4.1->widgetsnbextension~=3.5.0->ipywidgets>=7.0.0->azureml-widgets~=1.20.0; extra == \"notebooks\"->azureml-sdk[automl,notebooks,widgets]==1.20.0) (20.1.0)\n",
            "Requirement already up-to-date: terminado>=0.8.3 in /anaconda/envs/azureml_py36/lib/python3.6/site-packages (from notebook>=4.4.1->widgetsnbextension~=3.5.0->ipywidgets>=7.0.0->azureml-widgets~=1.20.0; extra == \"notebooks\"->azureml-sdk[automl,notebooks,widgets]==1.20.0) (0.9.2)\n",
            "Requirement already up-to-date: pyrsistent>=0.14.0 in /anaconda/envs/azureml_py36/lib/python3.6/site-packages (from jsonschema!=2.5.0,>=2.4->nbformat>=4.2.0->ipywidgets>=7.0.0->azureml-widgets~=1.20.0; extra == \"notebooks\"->azureml-sdk[automl,notebooks,widgets]==1.20.0) (0.17.3)\n",
            "Requirement already up-to-date: attrs>=17.4.0 in /anaconda/envs/azureml_py36/lib/python3.6/site-packages (from jsonschema!=2.5.0,>=2.4->nbformat>=4.2.0->ipywidgets>=7.0.0->azureml-widgets~=1.20.0; extra == \"notebooks\"->azureml-sdk[automl,notebooks,widgets]==1.20.0) (20.3.0)\n",
            "Requirement already up-to-date: pyparsing>=2.0.2 in /anaconda/envs/azureml_py36/lib/python3.6/site-packages (from packaging->bleach->nbconvert<6->azureml-contrib-notebook~=1.20.0; extra == \"notebooks\"->azureml-sdk[automl,notebooks,widgets]==1.20.0) (2.4.7)\n",
            "\u001b[31mERROR: tensorflow 2.1.0 has requirement scipy==1.4.1; python_version >= \"3\", but you'll have scipy 1.5.2 which is incompatible.\u001b[0m\n",
            "\u001b[31mERROR: tensorflow-gpu 2.1.0 has requirement scipy==1.4.1; python_version >= \"3\", but you'll have scipy 1.5.2 which is incompatible.\u001b[0m\n",
            "\u001b[31mERROR: gym 0.18.0 has requirement Pillow<=7.2.0, but you'll have pillow 8.1.0 which is incompatible.\u001b[0m\n",
            "\u001b[31mERROR: botocore 1.18.18 has requirement urllib3<1.26,>=1.20; python_version != \"3.4\", but you'll have urllib3 1.26.3 which is incompatible.\u001b[0m\n",
            "\u001b[31mERROR: azureml-train-automl-runtime 1.20.0.post1 has requirement numpy<1.19.0,>=1.16.0, but you'll have numpy 1.19.5 which is incompatible.\u001b[0m\n",
            "\u001b[31mERROR: azureml-opendatasets 1.22.0 has requirement azureml-core~=1.22.0, but you'll have azureml-core 1.20.0.post1 which is incompatible.\u001b[0m\n",
            "\u001b[31mERROR: azureml-opendatasets 1.22.0 has requirement azureml-dataset-runtime[fuse,pandas]~=1.22.0, but you'll have azureml-dataset-runtime 1.20.0 which is incompatible.\u001b[0m\n",
            "\u001b[31mERROR: azureml-opendatasets 1.22.0 has requirement azureml-telemetry~=1.22.0, but you'll have azureml-telemetry 1.20.0 which is incompatible.\u001b[0m\n",
            "\u001b[31mERROR: azureml-opendatasets 1.22.0 has requirement numpy<=1.19.0,>=1.16.0, but you'll have numpy 1.19.5 which is incompatible.\u001b[0m\n",
            "\u001b[31mERROR: azureml-opendatasets 1.22.0 has requirement scipy<=1.4.1,>=1.0.0, but you'll have scipy 1.5.2 which is incompatible.\u001b[0m\n",
            "\u001b[31mERROR: azureml-mlflow 1.22.0 has requirement azureml-core~=1.22.0, but you'll have azureml-core 1.20.0.post1 which is incompatible.\u001b[0m\n",
            "\u001b[31mERROR: azureml-explain-model 1.22.0 has requirement azureml-interpret~=1.22.0, but you'll have azureml-interpret 1.20.0 which is incompatible.\u001b[0m\n",
            "\u001b[31mERROR: azureml-datadrift 1.22.0 has requirement azureml-core~=1.22.0, but you'll have azureml-core 1.20.0.post1 which is incompatible.\u001b[0m\n",
            "\u001b[31mERROR: azureml-datadrift 1.22.0 has requirement azureml-dataset-runtime[fuse,pandas]~=1.22.0, but you'll have azureml-dataset-runtime 1.20.0 which is incompatible.\u001b[0m\n",
            "\u001b[31mERROR: azureml-datadrift 1.22.0 has requirement azureml-pipeline-core~=1.22.0, but you'll have azureml-pipeline-core 1.20.0 which is incompatible.\u001b[0m\n",
            "\u001b[31mERROR: azureml-datadrift 1.22.0 has requirement azureml-telemetry~=1.22.0, but you'll have azureml-telemetry 1.20.0 which is incompatible.\u001b[0m\n",
            "\u001b[31mERROR: azureml-contrib-services 1.22.0 has requirement azureml-core~=1.22.0, but you'll have azureml-core 1.20.0.post1 which is incompatible.\u001b[0m\n",
            "\u001b[31mERROR: azureml-contrib-server 1.22.0 has requirement azureml-core~=1.22.0, but you'll have azureml-core 1.20.0.post1 which is incompatible.\u001b[0m\n",
            "\u001b[31mERROR: azureml-contrib-reinforcementlearning 1.22.0 has requirement azureml-core~=1.22.0, but you'll have azureml-core 1.20.0.post1 which is incompatible.\u001b[0m\n",
            "\u001b[31mERROR: azureml-contrib-reinforcementlearning 1.22.0 has requirement azureml-train-core~=1.22.0, but you'll have azureml-train-core 1.20.0 which is incompatible.\u001b[0m\n",
            "\u001b[31mERROR: azureml-contrib-pipeline-steps 1.22.0 has requirement azureml-core~=1.22.0, but you'll have azureml-core 1.20.0.post1 which is incompatible.\u001b[0m\n",
            "\u001b[31mERROR: azureml-contrib-pipeline-steps 1.22.0 has requirement azureml-dataset-runtime~=1.22.0, but you'll have azureml-dataset-runtime 1.20.0 which is incompatible.\u001b[0m\n",
            "\u001b[31mERROR: azureml-contrib-pipeline-steps 1.22.0 has requirement azureml-pipeline-core~=1.22.0, but you'll have azureml-pipeline-core 1.20.0 which is incompatible.\u001b[0m\n",
            "\u001b[31mERROR: azureml-contrib-interpret 1.22.0 has requirement azureml-interpret~=1.22.0, but you'll have azureml-interpret 1.20.0 which is incompatible.\u001b[0m\n",
            "\u001b[31mERROR: azureml-contrib-gbdt 1.22.0 has requirement azureml-core~=1.22.0, but you'll have azureml-core 1.20.0.post1 which is incompatible.\u001b[0m\n",
            "\u001b[31mERROR: azureml-contrib-gbdt 1.22.0 has requirement azureml-train-core~=1.22.0, but you'll have azureml-train-core 1.20.0 which is incompatible.\u001b[0m\n",
            "\u001b[31mERROR: azureml-contrib-fairness 1.22.0 has requirement azureml-core~=1.22.0, but you'll have azureml-core 1.20.0.post1 which is incompatible.\u001b[0m\n",
            "\u001b[31mERROR: azureml-contrib-dataset 1.22.0 has requirement azureml-core~=1.22.0, but you'll have azureml-core 1.20.0.post1 which is incompatible.\u001b[0m\n",
            "\u001b[31mERROR: azureml-contrib-dataset 1.22.0 has requirement azureml-dataset-runtime[fuse,pandas]~=1.22.0, but you'll have azureml-dataset-runtime 1.20.0 which is incompatible.\u001b[0m\n",
            "\u001b[31mERROR: azureml-cli-common 1.22.0 has requirement azureml-core~=1.22.0, but you'll have azureml-core 1.20.0.post1 which is incompatible.\u001b[0m\n",
            "\u001b[31mERROR: azureml-cli-common 1.22.0 has requirement azureml-pipeline-core~=1.22.0, but you'll have azureml-pipeline-core 1.20.0 which is incompatible.\u001b[0m\n",
            "\u001b[31mERROR: azureml-cli-common 1.22.0 has requirement azureml-train-core~=1.22.0; python_version >= \"3.5\", but you'll have azureml-train-core 1.20.0 which is incompatible.\u001b[0m\n",
            "\u001b[31mERROR: azureml-automl-runtime 1.20.0 has requirement numpy<1.19.0,>=1.16.0, but you'll have numpy 1.19.5 which is incompatible.\u001b[0m\n",
            "\u001b[31mERROR: azureml-accel-models 1.22.0 has requirement azureml-core~=1.22.0, but you'll have azureml-core 1.20.0.post1 which is incompatible.\u001b[0m\n",
            "\u001b[31mERROR: azure-cli 2.19.1 has requirement azure-graphrbac~=0.60.0, but you'll have azure-graphrbac 0.61.1 which is incompatible.\u001b[0m\n",
            "\u001b[31mERROR: azure-cli 2.19.1 has requirement azure-mgmt-containerregistry==3.0.0rc16, but you'll have azure-mgmt-containerregistry 2.8.0 which is incompatible.\u001b[0m\n",
            "\u001b[31mERROR: azure-cli 2.19.1 has requirement azure-mgmt-keyvault==8.0.0, but you'll have azure-mgmt-keyvault 2.2.0 which is incompatible.\u001b[0m\n",
            "\u001b[31mERROR: azure-cli 2.19.1 has requirement azure-mgmt-storage~=16.0.0, but you'll have azure-mgmt-storage 11.2.0 which is incompatible.\u001b[0m\n",
            "\u001b[31mERROR: azure-cli 2.19.1 has requirement cryptography<3.0.0,>=2.3.1, but you'll have cryptography 3.4.6 which is incompatible.\u001b[0m\n",
            "\u001b[31mERROR: azure-cli 2.19.1 has requirement pytz==2019.1, but you'll have pytz 2021.1 which is incompatible.\u001b[0m\n",
            "\u001b[31mERROR: azure-cli 2.19.1 has requirement websocket-client~=0.56.0, but you'll have websocket-client 0.58.0 which is incompatible.\u001b[0m\n",
            "\u001b[31mERROR: azure-cli-core 2.19.1 has requirement msal~=1.0.0, but you'll have msal 1.9.0 which is incompatible.\u001b[0m\n",
            "\u001b[31mERROR: azure-cli-core 2.19.1 has requirement msal-extensions~=0.1.3, but you'll have msal-extensions 0.2.2 which is incompatible.\u001b[0m\n",
            "\u001b[31mERROR: autokeras 1.0.12 has requirement tensorflow>=2.3.0, but you'll have tensorflow 2.1.0 which is incompatible.\u001b[0m\n",
            "Installing collected packages: azureml-train-restclients-hyperdrive, azureml-train-core, azureml-train, azureml-pipeline-core, azureml-pipeline-steps, azureml-pipeline, azureml-train-automl, azureml-widgets, ipykernel, azureml-contrib-notebook, azureml-sdk, numpy, cffi, cryptography, SecretStorage, websocket-client, docker, urllib3, importlib-metadata, jsonpickle, prompt-toolkit, setuptools, pygments, tqdm, azure-core, msal, protobuf, Cython, pyzmq\n",
            "  Attempting uninstall: azureml-train-restclients-hyperdrive\n",
            "    Found existing installation: azureml-train-restclients-hyperdrive 1.22.0\n",
            "    Uninstalling azureml-train-restclients-hyperdrive-1.22.0:\n",
            "      Successfully uninstalled azureml-train-restclients-hyperdrive-1.22.0\n",
            "  Attempting uninstall: azureml-train-core\n",
            "    Found existing installation: azureml-train-core 1.22.0\n",
            "    Uninstalling azureml-train-core-1.22.0:\n",
            "      Successfully uninstalled azureml-train-core-1.22.0\n",
            "  Attempting uninstall: azureml-train\n",
            "    Found existing installation: azureml-train 1.22.0\n",
            "    Uninstalling azureml-train-1.22.0:\n",
            "      Successfully uninstalled azureml-train-1.22.0\n",
            "  Attempting uninstall: azureml-pipeline-core\n",
            "    Found existing installation: azureml-pipeline-core 1.22.0\n",
            "    Uninstalling azureml-pipeline-core-1.22.0:\n",
            "      Successfully uninstalled azureml-pipeline-core-1.22.0\n",
            "  Attempting uninstall: azureml-pipeline-steps\n",
            "    Found existing installation: azureml-pipeline-steps 1.22.0\n",
            "    Uninstalling azureml-pipeline-steps-1.22.0:\n",
            "      Successfully uninstalled azureml-pipeline-steps-1.22.0\n",
            "  Attempting uninstall: azureml-pipeline\n",
            "    Found existing installation: azureml-pipeline 1.22.0\n",
            "    Uninstalling azureml-pipeline-1.22.0:\n",
            "      Successfully uninstalled azureml-pipeline-1.22.0\n",
            "  Attempting uninstall: azureml-train-automl\n",
            "    Found existing installation: azureml-train-automl 1.22.0\n",
            "    Uninstalling azureml-train-automl-1.22.0:\n",
            "      Successfully uninstalled azureml-train-automl-1.22.0\n",
            "  Attempting uninstall: azureml-widgets\n",
            "    Found existing installation: azureml-widgets 1.22.0\n",
            "    Uninstalling azureml-widgets-1.22.0:\n",
            "      Successfully uninstalled azureml-widgets-1.22.0\n",
            "  Attempting uninstall: ipykernel\n",
            "    Found existing installation: ipykernel 5.4.3\n",
            "    Uninstalling ipykernel-5.4.3:\n",
            "      Successfully uninstalled ipykernel-5.4.3\n",
            "  Attempting uninstall: azureml-contrib-notebook\n",
            "    Found existing installation: azureml-contrib-notebook 1.22.0\n",
            "    Uninstalling azureml-contrib-notebook-1.22.0:\n",
            "      Successfully uninstalled azureml-contrib-notebook-1.22.0\n",
            "  Attempting uninstall: azureml-sdk\n",
            "    Found existing installation: azureml-sdk 1.22.0\n",
            "    Uninstalling azureml-sdk-1.22.0:\n",
            "      Successfully uninstalled azureml-sdk-1.22.0\n",
            "  Attempting uninstall: numpy\n",
            "    Found existing installation: numpy 1.18.5\n",
            "    Uninstalling numpy-1.18.5:\n",
            "      Successfully uninstalled numpy-1.18.5\n",
            "  Attempting uninstall: cffi\n",
            "    Found existing installation: cffi 1.14.4\n",
            "    Uninstalling cffi-1.14.4:\n",
            "      Successfully uninstalled cffi-1.14.4\n",
            "  Attempting uninstall: cryptography\n",
            "    Found existing installation: cryptography 3.3.1\n",
            "    Uninstalling cryptography-3.3.1:\n",
            "      Successfully uninstalled cryptography-3.3.1\n",
            "  Attempting uninstall: SecretStorage\n",
            "    Found existing installation: SecretStorage 3.3.0\n",
            "    Uninstalling SecretStorage-3.3.0:\n",
            "      Successfully uninstalled SecretStorage-3.3.0\n",
            "  Attempting uninstall: websocket-client\n",
            "    Found existing installation: websocket-client 0.57.0\n",
            "    Uninstalling websocket-client-0.57.0:\n",
            "      Successfully uninstalled websocket-client-0.57.0\n",
            "  Attempting uninstall: docker\n",
            "    Found existing installation: docker 4.4.1\n",
            "    Uninstalling docker-4.4.1:\n",
            "      Successfully uninstalled docker-4.4.1\n",
            "  Attempting uninstall: urllib3\n",
            "    Found existing installation: urllib3 1.25.11\n",
            "    Uninstalling urllib3-1.25.11:\n",
            "      Successfully uninstalled urllib3-1.25.11\n",
            "  Attempting uninstall: importlib-metadata\n",
            "    Found existing installation: importlib-metadata 3.4.0\n",
            "    Uninstalling importlib-metadata-3.4.0:\n",
            "      Successfully uninstalled importlib-metadata-3.4.0\n",
            "  Attempting uninstall: jsonpickle\n",
            "    Found existing installation: jsonpickle 1.5.1\n",
            "    Uninstalling jsonpickle-1.5.1:\n",
            "      Successfully uninstalled jsonpickle-1.5.1\n",
            "  Attempting uninstall: prompt-toolkit\n",
            "    Found existing installation: prompt-toolkit 3.0.14\n",
            "    Uninstalling prompt-toolkit-3.0.14:\n",
            "      Successfully uninstalled prompt-toolkit-3.0.14\n",
            "  Attempting uninstall: setuptools\n",
            "    Found existing installation: setuptools 50.3.0\n",
            "    Uninstalling setuptools-50.3.0:\n",
            "      Successfully uninstalled setuptools-50.3.0\n",
            "  Attempting uninstall: pygments\n",
            "    Found existing installation: Pygments 2.7.4\n",
            "    Uninstalling Pygments-2.7.4:\n",
            "      Successfully uninstalled Pygments-2.7.4\n",
            "  Attempting uninstall: tqdm\n",
            "    Found existing installation: tqdm 4.56.0\n",
            "    Uninstalling tqdm-4.56.0:\n",
            "      Successfully uninstalled tqdm-4.56.0\n",
            "  Attempting uninstall: azure-core\n",
            "    Found existing installation: azure-core 1.10.0\n",
            "    Uninstalling azure-core-1.10.0:\n",
            "      Successfully uninstalled azure-core-1.10.0\n",
            "  Attempting uninstall: msal\n",
            "    Found existing installation: msal 1.8.0\n",
            "    Uninstalling msal-1.8.0:\n",
            "      Successfully uninstalled msal-1.8.0\n",
            "  Attempting uninstall: protobuf\n",
            "    Found existing installation: protobuf 3.14.0\n",
            "    Uninstalling protobuf-3.14.0:\n",
            "      Successfully uninstalled protobuf-3.14.0\n",
            "  Attempting uninstall: Cython\n",
            "    Found existing installation: Cython 0.29.21\n",
            "    Uninstalling Cython-0.29.21:\n",
            "      Successfully uninstalled Cython-0.29.21\n",
            "  Attempting uninstall: pyzmq\n",
            "    Found existing installation: pyzmq 22.0.2\n",
            "    Uninstalling pyzmq-22.0.2:\n",
            "      Successfully uninstalled pyzmq-22.0.2\n",
            "Successfully installed Cython-0.29.22 SecretStorage-3.3.1 azure-core-1.11.0 azureml-contrib-notebook-1.20.0 azureml-pipeline-1.20.0 azureml-pipeline-core-1.20.0 azureml-pipeline-steps-1.20.0 azureml-sdk-1.20.0 azureml-train-1.20.0 azureml-train-automl-1.20.0 azureml-train-core-1.20.0 azureml-train-restclients-hyperdrive-1.20.0 azureml-widgets-1.20.0 cffi-1.14.5 cryptography-3.4.6 docker-4.4.4 importlib-metadata-3.7.0 ipykernel-5.5.0 jsonpickle-2.0.0 msal-1.9.0 numpy-1.19.5 prompt-toolkit-3.0.16 protobuf-3.15.3 pygments-2.8.0 pyzmq-22.0.3 setuptools-54.0.0 tqdm-4.58.0 urllib3-1.26.3 websocket-client-0.58.0\n"
          ]
        }
      ],
      "execution_count": 2,
      "metadata": {
        "collapsed": true,
        "jupyter": {
          "source_hidden": false,
          "outputs_hidden": false
        },
        "nteract": {
          "transient": {
            "deleting": false
          }
        },
        "gather": {
          "logged": 1614775701646
        }
      }
    },
    {
      "cell_type": "code",
      "source": [
        "from azureml.core import Workspace, Experiment"
      ],
      "outputs": [],
      "execution_count": 2,
      "metadata": {
        "gather": {
          "logged": 1614777602436
        },
        "jupyter": {
          "outputs_hidden": false,
          "source_hidden": false
        },
        "nteract": {
          "transient": {
            "deleting": false
          }
        }
      }
    },
    {
      "cell_type": "markdown",
      "source": [
        "## Dataset\n",
        "\n",
        "### Overview\n",
        "TODO: In this markdown cell, give an overview of the dataset you are using. Also mention the task you will be performing.\n",
        "\n",
        "\n",
        "TODO: Get data. In the cell below, write code to access the data you will be using in this project. Remember that the dataset needs to be external."
      ],
      "metadata": {}
    },
    {
      "cell_type": "code",
      "source": [
        "ws = Workspace.from_config()\n",
        "\n",
        "# choose a name for experiment\n",
        "experiment_name = 'auto-ml'\n",
        "\n",
        "experiment=Experiment(ws, experiment_name)\n"
      ],
      "outputs": [],
      "execution_count": 3,
      "metadata": {
        "gather": {
          "logged": 1614777606442
        },
        "jupyter": {
          "outputs_hidden": false,
          "source_hidden": false
        },
        "nteract": {
          "transient": {
            "deleting": false
          }
        }
      }
    },
    {
      "cell_type": "code",
      "source": [
        "from azureml.core.compute import ComputeTarget, AmlCompute\r\n",
        "from azureml.core.compute_target import ComputeTargetException\r\n",
        "\r\n",
        "# Choose a name for your CPU cluster\r\n",
        "cpu_cluster_name = \"cpu-cluster-4\"\r\n",
        "\r\n",
        "# Verify that cluster does not exist already\r\n",
        "try:\r\n",
        "    compute_target = ComputeTarget(workspace=ws, name=cpu_cluster_name)\r\n",
        "    print('Found existing cluster, use it.')\r\n",
        "except ComputeTargetException:\r\n",
        "    compute_config = AmlCompute.provisioning_configuration(vm_size='STANDARD_D2_V2',\r\n",
        "                                                           max_nodes=6)\r\n",
        "    compute_target = ComputeTarget.create(ws, cpu_cluster_name, compute_config)\r\n",
        "\r\n",
        "compute_target.wait_for_completion(show_output=True)"
      ],
      "outputs": [
        {
          "output_type": "stream",
          "name": "stdout",
          "text": [
            "Found existing cluster, use it.\n",
            "Succeeded\n",
            "AmlCompute wait for completion finished\n",
            "\n",
            "Minimum number of nodes requested have been provisioned\n"
          ]
        }
      ],
      "execution_count": 4,
      "metadata": {
        "collapsed": true,
        "jupyter": {
          "source_hidden": false,
          "outputs_hidden": false
        },
        "nteract": {
          "transient": {
            "deleting": false
          }
        },
        "gather": {
          "logged": 1614777610712
        }
      }
    },
    {
      "cell_type": "code",
      "source": [
        "from azureml.data.dataset_factory import TabularDatasetFactory\r\n",
        "\r\n",
        "csv_file = 'https://raw.githubusercontent.com/SwapnaKategaru/Project3/main/heart_failure_clinical_records_dataset.csv'\r\n",
        "\r\n",
        "data = TabularDatasetFactory.from_delimited_files(csv_file)"
      ],
      "outputs": [],
      "execution_count": 5,
      "metadata": {
        "collapsed": true,
        "jupyter": {
          "source_hidden": false,
          "outputs_hidden": false
        },
        "nteract": {
          "transient": {
            "deleting": false
          }
        },
        "gather": {
          "logged": 1614777927223
        }
      }
    },
    {
      "cell_type": "code",
      "source": [
        "%%writefile conda_dependencies.yml\r\n",
        "dependencies:\r\n",
        "- python=3.6.2\r\n",
        "- pip:\r\n",
        "  - scikit-learn=0.21.2\r\n",
        "  - azureml-defaults"
      ],
      "outputs": [
        {
          "output_type": "stream",
          "name": "stdout",
          "text": [
            "Overwriting conda_dependencies.yml\n"
          ]
        }
      ],
      "execution_count": 5,
      "metadata": {
        "collapsed": true,
        "jupyter": {
          "source_hidden": false,
          "outputs_hidden": false
        },
        "nteract": {
          "transient": {
            "deleting": false
          }
        },
        "gather": {
          "logged": 1613142071197
        }
      }
    },
    {
      "cell_type": "code",
      "source": [
        "# %%writefile train.py\r\n",
        "\r\n",
        "from sklearn.linear_model import LogisticRegression\r\n",
        "import argparse\r\n",
        "import os\r\n",
        "import numpy as np\r\n",
        "from sklearn.metrics import mean_squared_error\r\n",
        "import joblib\r\n",
        "from sklearn.model_selection import train_test_split\r\n",
        "from sklearn.preprocessing import OneHotEncoder\r\n",
        "import pandas as pd\r\n",
        "from azureml.core.run import Run\r\n",
        "from azureml.data.dataset_factory import TabularDatasetFactory\r\n",
        "\r\n",
        "# TODO: Create TabularDataset using TabularDatasetFactory\r\n",
        "# Data is located at:\r\n",
        "# \"https://automlsamplenotebookdata.blob.core.windows.net/automl-sample-notebook-data/bankmarketing_train.csv\"\r\n",
        "\r\n",
        "ds = TabularDatasetFactory.from_delimited_files('https://raw.githubusercontent.com/SwapnaKategaru/Project3/main/heart_failure_clinical_records_dataset.csv')\r\n",
        "\r\n",
        "\r\n",
        "def clean_data(data):\r\n",
        "    # Dict for cleaning data\r\n",
        "    df = data.to_pandas_dataframe()\r\n",
        "\r\n",
        "    dataframe = pd.DataFrame()\r\n",
        "\r\n",
        "    # dataframe = data.to_pandas_dataframe()\r\n",
        "    dataframe[['age', 'creatinine_phosphokinase','ejection_fraction','platelets','serum_creatinine','serum_sodium','time']] = df[['age', 'creatinine_phosphokinase','ejection_fraction','platelets','serum_creatinine','serum_sodium','time']]\r\n",
        "    normalized_data=(dataframe-dataframe.min())/(dataframe.max()-dataframe.min())\r\n",
        "    normalized_data[['anaemia', 'diabetes','high_blood_pressure','sex','smoking']] = df[['anaemia', 'diabetes','high_blood_pressure','sex','smoking']]\r\n",
        "    target_column = pd.DataFrame()\r\n",
        "    target_column['DEATH_EVENT'] = df['DEATH_EVENT']\r\n",
        "    target_column = target_column.squeeze()\r\n",
        "    trained_T, Death_D = normalized_data, target_column\r\n",
        "    return trained_T, Death_D\r\n",
        "    \r\n",
        "    os.makedirs('./outputs', exist_ok=True)"
      ],
      "outputs": [],
      "execution_count": 6,
      "metadata": {
        "collapsed": true,
        "jupyter": {
          "source_hidden": false,
          "outputs_hidden": false
        },
        "nteract": {
          "transient": {
            "deleting": false
          }
        },
        "gather": {
          "logged": 1614778358257
        }
      }
    },
    {
      "cell_type": "code",
      "source": [
        "# from train import clean_data\r\n",
        "from sklearn.model_selection import train_test_split\r\n",
        "import pandas as pd\r\n",
        "x, y = clean_data(data)\r\n",
        "\r\n",
        "x_train, x_test, y_train, y_test = train_test_split(x, y, test_size=0.33, random_state=42)\r\n",
        "train_data = pd.concat([x_train, y_train], axis = 1)"
      ],
      "outputs": [],
      "execution_count": 7,
      "metadata": {
        "collapsed": true,
        "jupyter": {
          "source_hidden": false,
          "outputs_hidden": false
        },
        "nteract": {
          "transient": {
            "deleting": false
          }
        },
        "gather": {
          "logged": 1614778753096
        }
      }
    },
    {
      "cell_type": "code",
      "source": [
        "from azureml.train.automl import AutoMLConfig\r\n",
        "import logging\r\n",
        "\r\n",
        "automl_settings = {\r\n",
        "    \"enable_early_stopping\" : True,\r\n",
        "    \"max_concurrent_iterations\": 4,\r\n",
        "    \"primary_metric\": 'AUC_weighted',\r\n",
        "    \"featurization\": 'auto',\r\n",
        "    \"verbosity\": logging.INFO,\r\n",
        "}\r\n",
        "\r\n",
        "automl_config = AutoMLConfig(\r\n",
        "    experiment_timeout_minutes=15,\r\n",
        "    task='classification',\r\n",
        "    training_data=train_data,\r\n",
        "    label_column_name='DEATH_EVENT',\r\n",
        "    n_cross_validations=2)"
      ],
      "outputs": [],
      "execution_count": 8,
      "metadata": {
        "collapsed": true,
        "jupyter": {
          "source_hidden": false,
          "outputs_hidden": false
        },
        "nteract": {
          "transient": {
            "deleting": false
          }
        },
        "gather": {
          "logged": 1614778756368
        }
      }
    },
    {
      "cell_type": "code",
      "source": [
        "!pip install --upgrade --upgrade-strategy eager azureml-sdk[automl,widgets,notebooks]==1.23.0"
      ],
      "outputs": [
        {
          "output_type": "stream",
          "name": "stdout",
          "text": [
            "Collecting azureml-sdk[automl,notebooks,widgets]==1.23.0\n",
            "  Downloading azureml_sdk-1.23.0-py3-none-any.whl (4.4 kB)\n",
            "\u001b[33m  WARNING: azureml-sdk 1.23.0 does not provide the extra 'widgets'\u001b[0m\n",
            "Collecting azureml-dataset-runtime[fuse]~=1.23.0\n",
            "  Using cached azureml_dataset_runtime-1.23.0-py3-none-any.whl (3.4 kB)\n",
            "Collecting azureml-train~=1.23.0\n",
            "  Downloading azureml_train-1.23.0-py3-none-any.whl (3.3 kB)\n",
            "Collecting azureml-train-automl-client~=1.23.0\n",
            "  Using cached azureml_train_automl_client-1.23.0.post1-py3-none-any.whl (117 kB)\n",
            "Collecting azureml-pipeline~=1.23.0\n",
            "  Downloading azureml_pipeline-1.23.0-py3-none-any.whl (3.7 kB)\n",
            "Collecting azureml-core~=1.23.0\n",
            "  Using cached azureml_core-1.23.0-py3-none-any.whl (2.1 MB)\n",
            "Collecting azureml-train-automl~=1.23.0; extra == \"automl\"\n",
            "  Downloading azureml_train_automl-1.23.0-py3-none-any.whl (3.4 kB)\n",
            "Collecting azureml-widgets~=1.23.0; extra == \"notebooks\"\n",
            "  Downloading azureml_widgets-1.23.0-py3-none-any.whl (14.1 MB)\n",
            "\u001b[K     |████████████████████████████████| 14.1 MB 4.9 MB/s eta 0:00:01\n",
            "\u001b[?25hCollecting azureml-contrib-notebook~=1.23.0; extra == \"notebooks\"\n",
            "  Downloading azureml_contrib_notebook-1.23.0-py3-none-any.whl (29 kB)\n",
            "Requirement already up-to-date: pyarrow<2.0.0,>=0.17.0 in /anaconda/envs/azureml_py36/lib/python3.6/site-packages (from azureml-dataset-runtime[fuse]~=1.23.0->azureml-sdk[automl,notebooks,widgets]==1.23.0) (1.0.1)\n",
            "Requirement already up-to-date: numpy!=1.19.3; sys_platform == \"linux\" in /anaconda/envs/azureml_py36/lib/python3.6/site-packages (from azureml-dataset-runtime[fuse]~=1.23.0->azureml-sdk[automl,notebooks,widgets]==1.23.0) (1.19.5)\n",
            "Collecting azureml-dataprep<2.11.0a,>=2.10.0a\n",
            "  Using cached azureml_dataprep-2.10.1-py3-none-any.whl (39.4 MB)\n",
            "Requirement already up-to-date: fusepy<4.0.0,>=3.0.1; extra == \"fuse\" in /anaconda/envs/azureml_py36/lib/python3.6/site-packages (from azureml-dataset-runtime[fuse]~=1.23.0->azureml-sdk[automl,notebooks,widgets]==1.23.0) (3.0.1)\n",
            "Collecting azureml-train-core~=1.23.0\n",
            "  Downloading azureml_train_core-1.23.0-py3-none-any.whl (8.6 MB)\n",
            "\u001b[K     |████████████████████████████████| 8.6 MB 13.8 MB/s eta 0:00:01\n",
            "\u001b[?25hCollecting azureml-telemetry~=1.23.0\n",
            "  Using cached azureml_telemetry-1.23.0-py3-none-any.whl (30 kB)\n",
            "Collecting azureml-automl-core~=1.23.0\n",
            "  Using cached azureml_automl_core-1.23.0-py3-none-any.whl (197 kB)\n",
            "Collecting azureml-pipeline-steps~=1.23.0\n",
            "  Downloading azureml_pipeline_steps-1.23.0-py3-none-any.whl (67 kB)\n",
            "\u001b[K     |████████████████████████████████| 67 kB 1.4 MB/s  eta 0:00:01\n",
            "\u001b[?25hCollecting azureml-pipeline-core~=1.23.0\n",
            "  Downloading azureml_pipeline_core-1.23.0-py3-none-any.whl (308 kB)\n",
            "\u001b[K     |████████████████████████████████| 308 kB 84.7 MB/s eta 0:00:01\n",
            "\u001b[?25hRequirement already up-to-date: contextlib2 in /anaconda/envs/azureml_py36/lib/python3.6/site-packages (from azureml-core~=1.23.0->azureml-sdk[automl,notebooks,widgets]==1.23.0) (0.6.0.post1)\n",
            "Requirement already up-to-date: SecretStorage in /anaconda/envs/azureml_py36/lib/python3.6/site-packages (from azureml-core~=1.23.0->azureml-sdk[automl,notebooks,widgets]==1.23.0) (3.3.1)\n",
            "Requirement already up-to-date: ndg-httpsclient in /anaconda/envs/azureml_py36/lib/python3.6/site-packages (from azureml-core~=1.23.0->azureml-sdk[automl,notebooks,widgets]==1.23.0) (0.5.1)\n",
            "Requirement already up-to-date: pyopenssl<21.0.0 in /anaconda/envs/azureml_py36/lib/python3.6/site-packages (from azureml-core~=1.23.0->azureml-sdk[automl,notebooks,widgets]==1.23.0) (20.0.1)\n",
            "Requirement already up-to-date: azure-mgmt-resource<15.0.0,>=1.2.1 in /anaconda/envs/azureml_py36/lib/python3.6/site-packages (from azureml-core~=1.23.0->azureml-sdk[automl,notebooks,widgets]==1.23.0) (12.0.0)\n",
            "Requirement already up-to-date: jsonpickle in /anaconda/envs/azureml_py36/lib/python3.6/site-packages (from azureml-core~=1.23.0->azureml-sdk[automl,notebooks,widgets]==1.23.0) (2.0.0)\n",
            "Requirement already up-to-date: azure-mgmt-storage<16.0.0,>=1.5.0 in /anaconda/envs/azureml_py36/lib/python3.6/site-packages (from azureml-core~=1.23.0->azureml-sdk[automl,notebooks,widgets]==1.23.0) (11.2.0)\n",
            "Requirement already up-to-date: python-dateutil>=2.7.3 in /anaconda/envs/azureml_py36/lib/python3.6/site-packages (from azureml-core~=1.23.0->azureml-sdk[automl,notebooks,widgets]==1.23.0) (2.8.1)\n",
            "Requirement already up-to-date: requests<3.0.0,>=2.19.1 in /anaconda/envs/azureml_py36/lib/python3.6/site-packages (from azureml-core~=1.23.0->azureml-sdk[automl,notebooks,widgets]==1.23.0) (2.25.1)\n",
            "Requirement already up-to-date: azure-mgmt-keyvault<7.0.0,>=0.40.0 in /anaconda/envs/azureml_py36/lib/python3.6/site-packages (from azureml-core~=1.23.0->azureml-sdk[automl,notebooks,widgets]==1.23.0) (2.2.0)\n",
            "Requirement already up-to-date: msrestazure>=0.4.33 in /anaconda/envs/azureml_py36/lib/python3.6/site-packages (from azureml-core~=1.23.0->azureml-sdk[automl,notebooks,widgets]==1.23.0) (0.6.4)\n",
            "Requirement already up-to-date: pathspec in /anaconda/envs/azureml_py36/lib/python3.6/site-packages (from azureml-core~=1.23.0->azureml-sdk[automl,notebooks,widgets]==1.23.0) (0.8.1)\n",
            "Requirement already up-to-date: azure-mgmt-containerregistry>=2.0.0 in /anaconda/envs/azureml_py36/lib/python3.6/site-packages (from azureml-core~=1.23.0->azureml-sdk[automl,notebooks,widgets]==1.23.0) (2.8.0)\n",
            "Requirement already up-to-date: docker in /anaconda/envs/azureml_py36/lib/python3.6/site-packages (from azureml-core~=1.23.0->azureml-sdk[automl,notebooks,widgets]==1.23.0) (4.4.4)\n",
            "Requirement already up-to-date: msrest>=0.5.1 in /anaconda/envs/azureml_py36/lib/python3.6/site-packages (from azureml-core~=1.23.0->azureml-sdk[automl,notebooks,widgets]==1.23.0) (0.6.21)\n",
            "Requirement already up-to-date: backports.tempfile in /anaconda/envs/azureml_py36/lib/python3.6/site-packages (from azureml-core~=1.23.0->azureml-sdk[automl,notebooks,widgets]==1.23.0) (1.0)\n",
            "Requirement already up-to-date: azure-mgmt-authorization<1.0.0,>=0.40.0 in /anaconda/envs/azureml_py36/lib/python3.6/site-packages (from azureml-core~=1.23.0->azureml-sdk[automl,notebooks,widgets]==1.23.0) (0.61.0)\n",
            "Requirement already up-to-date: pytz in /anaconda/envs/azureml_py36/lib/python3.6/site-packages (from azureml-core~=1.23.0->azureml-sdk[automl,notebooks,widgets]==1.23.0) (2021.1)\n",
            "Requirement already up-to-date: azure-common>=1.1.12 in /anaconda/envs/azureml_py36/lib/python3.6/site-packages (from azureml-core~=1.23.0->azureml-sdk[automl,notebooks,widgets]==1.23.0) (1.1.26)\n",
            "Requirement already up-to-date: azure-graphrbac<1.0.0,>=0.40.0 in /anaconda/envs/azureml_py36/lib/python3.6/site-packages (from azureml-core~=1.23.0->azureml-sdk[automl,notebooks,widgets]==1.23.0) (0.61.1)\n",
            "Requirement already up-to-date: ruamel.yaml>=0.15.35 in /anaconda/envs/azureml_py36/lib/python3.6/site-packages (from azureml-core~=1.23.0->azureml-sdk[automl,notebooks,widgets]==1.23.0) (0.16.12)\n",
            "Requirement already up-to-date: adal>=1.2.0 in /anaconda/envs/azureml_py36/lib/python3.6/site-packages (from azureml-core~=1.23.0->azureml-sdk[automl,notebooks,widgets]==1.23.0) (1.2.6)\n",
            "Requirement already up-to-date: PyJWT<3.0.0 in /anaconda/envs/azureml_py36/lib/python3.6/site-packages (from azureml-core~=1.23.0->azureml-sdk[automl,notebooks,widgets]==1.23.0) (2.0.1)\n",
            "Collecting cryptography!=1.9,!=2.0.*,!=2.1.*,!=2.2.*,<=3.2\n",
            "  Downloading cryptography-3.2-cp35-abi3-manylinux2010_x86_64.whl (2.6 MB)\n",
            "\u001b[K     |████████████████████████████████| 2.6 MB 49.9 MB/s eta 0:00:01\n",
            "\u001b[?25hRequirement already up-to-date: jmespath in /anaconda/envs/azureml_py36/lib/python3.6/site-packages (from azureml-core~=1.23.0->azureml-sdk[automl,notebooks,widgets]==1.23.0) (0.10.0)\n",
            "Requirement already up-to-date: urllib3>=1.23 in /anaconda/envs/azureml_py36/lib/python3.6/site-packages (from azureml-core~=1.23.0->azureml-sdk[automl,notebooks,widgets]==1.23.0) (1.26.3)\n",
            "Collecting azureml-train-automl-runtime~=1.23.0\n",
            "  Downloading azureml_train_automl_runtime-1.23.0.post1-py3-none-any.whl (139 kB)\n",
            "\u001b[K     |████████████████████████████████| 139 kB 48.2 MB/s eta 0:00:01\n",
            "\u001b[?25hCollecting azureml-automl-runtime~=1.23.0\n",
            "  Using cached azureml_automl_runtime-1.23.0-py3-none-any.whl (2.0 MB)\n",
            "Requirement already up-to-date: ipywidgets>=7.0.0 in /anaconda/envs/azureml_py36/lib/python3.6/site-packages (from azureml-widgets~=1.23.0; extra == \"notebooks\"->azureml-sdk[automl,notebooks,widgets]==1.23.0) (7.6.3)\n",
            "Requirement already up-to-date: azure-storage-blob>=12.6.0 in /anaconda/envs/azureml_py36/lib/python3.6/site-packages (from azureml-widgets~=1.23.0; extra == \"notebooks\"->azureml-sdk[automl,notebooks,widgets]==1.23.0) (12.8.0)\n",
            "Requirement already up-to-date: nbconvert<6 in /anaconda/envs/azureml_py36/lib/python3.6/site-packages (from azureml-contrib-notebook~=1.23.0; extra == \"notebooks\"->azureml-sdk[automl,notebooks,widgets]==1.23.0) (5.6.1)\n",
            "Requirement already up-to-date: ipython in /anaconda/envs/azureml_py36/lib/python3.6/site-packages (from azureml-contrib-notebook~=1.23.0; extra == \"notebooks\"->azureml-sdk[automl,notebooks,widgets]==1.23.0) (7.16.1)\n",
            "Requirement already up-to-date: papermill<2 in /anaconda/envs/azureml_py36/lib/python3.6/site-packages (from azureml-contrib-notebook~=1.23.0; extra == \"notebooks\"->azureml-sdk[automl,notebooks,widgets]==1.23.0) (1.2.1)\n",
            "Requirement already up-to-date: ipykernel in /anaconda/envs/azureml_py36/lib/python3.6/site-packages (from azureml-contrib-notebook~=1.23.0; extra == \"notebooks\"->azureml-sdk[automl,notebooks,widgets]==1.23.0) (5.5.0)\n",
            "Requirement already up-to-date: dotnetcore2<3.0.0,>=2.1.14 in /anaconda/envs/azureml_py36/lib/python3.6/site-packages (from azureml-dataprep<2.11.0a,>=2.10.0a->azureml-dataset-runtime[fuse]~=1.23.0->azureml-sdk[automl,notebooks,widgets]==1.23.0) (2.1.20)\n",
            "Collecting azureml-dataprep-rslex<1.9.0a,>=1.8.0dev0\n",
            "  Using cached azureml_dataprep_rslex-1.8.0-cp36-cp36m-manylinux2010_x86_64.whl (8.5 MB)\n",
            "Collecting azureml-dataprep-native<31.0.0,>=30.0.0\n",
            "  Using cached azureml_dataprep_native-30.0.0-cp36-cp36m-manylinux1_x86_64.whl (1.3 MB)\n",
            "Requirement already up-to-date: azure-identity<1.5.0,>=1.2.0 in /anaconda/envs/azureml_py36/lib/python3.6/site-packages (from azureml-dataprep<2.11.0a,>=2.10.0a->azureml-dataset-runtime[fuse]~=1.23.0->azureml-sdk[automl,notebooks,widgets]==1.23.0) (1.4.1)\n",
            "Requirement already up-to-date: cloudpickle<2.0.0,>=1.1.0 in /anaconda/envs/azureml_py36/lib/python3.6/site-packages (from azureml-dataprep<2.11.0a,>=2.10.0a->azureml-dataset-runtime[fuse]~=1.23.0->azureml-sdk[automl,notebooks,widgets]==1.23.0) (1.6.0)\n",
            "Collecting azureml-train-restclients-hyperdrive~=1.23.0\n",
            "  Downloading azureml_train_restclients_hyperdrive-1.23.0-py3-none-any.whl (19 kB)\n",
            "Requirement already up-to-date: applicationinsights in /anaconda/envs/azureml_py36/lib/python3.6/site-packages (from azureml-telemetry~=1.23.0->azureml-train-automl-client~=1.23.0->azureml-sdk[automl,notebooks,widgets]==1.23.0) (0.11.9)\n",
            "Requirement already up-to-date: jeepney>=0.6 in /anaconda/envs/azureml_py36/lib/python3.6/site-packages (from SecretStorage->azureml-core~=1.23.0->azureml-sdk[automl,notebooks,widgets]==1.23.0) (0.6.0)\n",
            "Requirement already up-to-date: pyasn1>=0.1.1 in /anaconda/envs/azureml_py36/lib/python3.6/site-packages (from ndg-httpsclient->azureml-core~=1.23.0->azureml-sdk[automl,notebooks,widgets]==1.23.0) (0.4.8)\n",
            "Requirement already up-to-date: six>=1.5.2 in /anaconda/envs/azureml_py36/lib/python3.6/site-packages (from pyopenssl<21.0.0->azureml-core~=1.23.0->azureml-sdk[automl,notebooks,widgets]==1.23.0) (1.15.0)\n",
            "Requirement already up-to-date: importlib-metadata; python_version < \"3.8\" in /anaconda/envs/azureml_py36/lib/python3.6/site-packages (from jsonpickle->azureml-core~=1.23.0->azureml-sdk[automl,notebooks,widgets]==1.23.0) (3.7.0)\n",
            "Requirement already up-to-date: certifi>=2017.4.17 in /anaconda/envs/azureml_py36/lib/python3.6/site-packages (from requests<3.0.0,>=2.19.1->azureml-core~=1.23.0->azureml-sdk[automl,notebooks,widgets]==1.23.0) (2020.12.5)\n",
            "Requirement already up-to-date: chardet<5,>=3.0.2 in /anaconda/envs/azureml_py36/lib/python3.6/site-packages (from requests<3.0.0,>=2.19.1->azureml-core~=1.23.0->azureml-sdk[automl,notebooks,widgets]==1.23.0) (4.0.0)\n",
            "Requirement already up-to-date: idna<3,>=2.5 in /anaconda/envs/azureml_py36/lib/python3.6/site-packages (from requests<3.0.0,>=2.19.1->azureml-core~=1.23.0->azureml-sdk[automl,notebooks,widgets]==1.23.0) (2.10)\n",
            "Requirement already up-to-date: websocket-client>=0.32.0 in /anaconda/envs/azureml_py36/lib/python3.6/site-packages (from docker->azureml-core~=1.23.0->azureml-sdk[automl,notebooks,widgets]==1.23.0) (0.58.0)\n",
            "Requirement already up-to-date: isodate>=0.6.0 in /anaconda/envs/azureml_py36/lib/python3.6/site-packages (from msrest>=0.5.1->azureml-core~=1.23.0->azureml-sdk[automl,notebooks,widgets]==1.23.0) (0.6.0)\n",
            "Requirement already up-to-date: requests-oauthlib>=0.5.0 in /anaconda/envs/azureml_py36/lib/python3.6/site-packages (from msrest>=0.5.1->azureml-core~=1.23.0->azureml-sdk[automl,notebooks,widgets]==1.23.0) (1.3.0)\n",
            "Requirement already up-to-date: backports.weakref in /anaconda/envs/azureml_py36/lib/python3.6/site-packages (from backports.tempfile->azureml-core~=1.23.0->azureml-sdk[automl,notebooks,widgets]==1.23.0) (1.0.post1)\n",
            "Requirement already up-to-date: ruamel.yaml.clib>=0.1.2; platform_python_implementation == \"CPython\" and python_version < \"3.9\" in /anaconda/envs/azureml_py36/lib/python3.6/site-packages (from ruamel.yaml>=0.15.35->azureml-core~=1.23.0->azureml-sdk[automl,notebooks,widgets]==1.23.0) (0.2.2)\n",
            "Requirement already up-to-date: cffi!=1.11.3,>=1.8 in /anaconda/envs/azureml_py36/lib/python3.6/site-packages (from cryptography!=1.9,!=2.0.*,!=2.1.*,!=2.2.*,<=3.2->azureml-core~=1.23.0->azureml-sdk[automl,notebooks,widgets]==1.23.0) (1.14.5)\n",
            "Requirement already up-to-date: azure-storage-queue~=12.1 in /anaconda/envs/azureml_py36/lib/python3.6/site-packages (from azureml-train-automl-runtime~=1.23.0->azureml-train-automl~=1.23.0; extra == \"automl\"->azureml-sdk[automl,notebooks,widgets]==1.23.0) (12.1.5)\n",
            "Requirement already up-to-date: keras2onnx<=1.6.0,>=1.4.0 in /anaconda/envs/azureml_py36/lib/python3.6/site-packages (from azureml-train-automl-runtime~=1.23.0->azureml-train-automl~=1.23.0; extra == \"automl\"->azureml-sdk[automl,notebooks,widgets]==1.23.0) (1.6.0)\n",
            "Requirement already up-to-date: onnxmltools==1.4.1 in /anaconda/envs/azureml_py36/lib/python3.6/site-packages (from azureml-train-automl-runtime~=1.23.0->azureml-train-automl~=1.23.0; extra == \"automl\"->azureml-sdk[automl,notebooks,widgets]==1.23.0) (1.4.1)\n",
            "Collecting azureml-interpret~=1.23.0\n",
            "  Using cached azureml_interpret-1.23.0-py3-none-any.whl (50 kB)\n",
            "Requirement already up-to-date: scikit-learn<0.23.0,>=0.19.0 in /anaconda/envs/azureml_py36/lib/python3.6/site-packages (from azureml-train-automl-runtime~=1.23.0->azureml-train-automl~=1.23.0; extra == \"automl\"->azureml-sdk[automl,notebooks,widgets]==1.23.0) (0.22.2.post1)\n",
            "Requirement already up-to-date: onnxruntime==1.3.0 in /anaconda/envs/azureml_py36/lib/python3.6/site-packages (from azureml-train-automl-runtime~=1.23.0->azureml-train-automl~=1.23.0; extra == \"automl\"->azureml-sdk[automl,notebooks,widgets]==1.23.0) (1.3.0)\n",
            "Requirement already up-to-date: skl2onnx==1.4.9 in /anaconda/envs/azureml_py36/lib/python3.6/site-packages (from azureml-train-automl-runtime~=1.23.0->azureml-train-automl~=1.23.0; extra == \"automl\"->azureml-sdk[automl,notebooks,widgets]==1.23.0) (1.4.9)\n",
            "Requirement already up-to-date: botocore<=1.18.18 in /anaconda/envs/azureml_py36/lib/python3.6/site-packages (from azureml-train-automl-runtime~=1.23.0->azureml-train-automl~=1.23.0; extra == \"automl\"->azureml-sdk[automl,notebooks,widgets]==1.23.0) (1.18.18)\n",
            "Requirement already up-to-date: onnx<=1.7.0,>=1.5.0 in /anaconda/envs/azureml_py36/lib/python3.6/site-packages (from azureml-train-automl-runtime~=1.23.0->azureml-train-automl~=1.23.0; extra == \"automl\"->azureml-sdk[automl,notebooks,widgets]==1.23.0) (1.7.0)\n",
            "Requirement already up-to-date: smart-open<=1.9.0 in /anaconda/envs/azureml_py36/lib/python3.6/site-packages (from azureml-train-automl-runtime~=1.23.0->azureml-train-automl~=1.23.0; extra == \"automl\"->azureml-sdk[automl,notebooks,widgets]==1.23.0) (1.9.0)\n",
            "Requirement already up-to-date: statsmodels<=0.10.2,>=0.9.0 in /anaconda/envs/azureml_py36/lib/python3.6/site-packages (from azureml-train-automl-runtime~=1.23.0->azureml-train-automl~=1.23.0; extra == \"automl\"->azureml-sdk[automl,notebooks,widgets]==1.23.0) (0.10.2)\n",
            "Requirement already up-to-date: onnxconverter-common<=1.6.0,>=1.4.2 in /anaconda/envs/azureml_py36/lib/python3.6/site-packages (from azureml-train-automl-runtime~=1.23.0->azureml-train-automl~=1.23.0; extra == \"automl\"->azureml-sdk[automl,notebooks,widgets]==1.23.0) (1.6.0)\n",
            "Collecting azureml-defaults~=1.23.0\n",
            "  Using cached azureml_defaults-1.23.0-py3-none-any.whl (3.1 kB)\n",
            "Requirement already up-to-date: lightgbm<=2.3.0,>=2.0.11 in /anaconda/envs/azureml_py36/lib/python3.6/site-packages (from azureml-train-automl-runtime~=1.23.0->azureml-train-automl~=1.23.0; extra == \"automl\"->azureml-sdk[automl,notebooks,widgets]==1.23.0) (2.3.0)\n",
            "Requirement already up-to-date: jinja2<=2.11.2 in /anaconda/envs/azureml_py36/lib/python3.6/site-packages (from azureml-train-automl-runtime~=1.23.0->azureml-train-automl~=1.23.0; extra == \"automl\"->azureml-sdk[automl,notebooks,widgets]==1.23.0) (2.11.2)\n",
            "Requirement already up-to-date: sklearn-pandas<=1.7.0,>=1.4.0 in /anaconda/envs/azureml_py36/lib/python3.6/site-packages (from azureml-train-automl-runtime~=1.23.0->azureml-train-automl~=1.23.0; extra == \"automl\"->azureml-sdk[automl,notebooks,widgets]==1.23.0) (1.7.0)\n",
            "Requirement already up-to-date: boto3<=1.15.18 in /anaconda/envs/azureml_py36/lib/python3.6/site-packages (from azureml-train-automl-runtime~=1.23.0->azureml-train-automl~=1.23.0; extra == \"automl\"->azureml-sdk[automl,notebooks,widgets]==1.23.0) (1.15.18)\n",
            "Requirement already up-to-date: gensim<3.9.0 in /anaconda/envs/azureml_py36/lib/python3.6/site-packages (from azureml-train-automl-runtime~=1.23.0->azureml-train-automl~=1.23.0; extra == \"automl\"->azureml-sdk[automl,notebooks,widgets]==1.23.0) (3.8.3)\n",
            "Requirement already up-to-date: pandas<1.0.0,>=0.21.0 in /anaconda/envs/azureml_py36/lib/python3.6/site-packages (from azureml-train-automl-runtime~=1.23.0->azureml-train-automl~=1.23.0; extra == \"automl\"->azureml-sdk[automl,notebooks,widgets]==1.23.0) (0.25.3)\n",
            "Requirement already up-to-date: scipy<=1.5.2,>=1.0.0 in /anaconda/envs/azureml_py36/lib/python3.6/site-packages (from azureml-train-automl-runtime~=1.23.0->azureml-train-automl~=1.23.0; extra == \"automl\"->azureml-sdk[automl,notebooks,widgets]==1.23.0) (1.5.2)\n",
            "Requirement already up-to-date: joblib==0.14.1 in /anaconda/envs/azureml_py36/lib/python3.6/site-packages (from azureml-automl-runtime~=1.23.0->azureml-train-automl~=1.23.0; extra == \"automl\"->azureml-sdk[automl,notebooks,widgets]==1.23.0) (0.14.1)\n",
            "Requirement already up-to-date: py-cpuinfo==5.0.0 in /anaconda/envs/azureml_py36/lib/python3.6/site-packages (from azureml-automl-runtime~=1.23.0->azureml-train-automl~=1.23.0; extra == \"automl\"->azureml-sdk[automl,notebooks,widgets]==1.23.0) (5.0.0)\n",
            "Requirement already up-to-date: nimbusml<=1.8.0,>=1.7.1 in /anaconda/envs/azureml_py36/lib/python3.6/site-packages (from azureml-automl-runtime~=1.23.0->azureml-train-automl~=1.23.0; extra == \"automl\"->azureml-sdk[automl,notebooks,widgets]==1.23.0) (1.8.0)\n",
            "Requirement already up-to-date: pmdarima==1.1.1 in /anaconda/envs/azureml_py36/lib/python3.6/site-packages (from azureml-automl-runtime~=1.23.0->azureml-train-automl~=1.23.0; extra == \"automl\"->azureml-sdk[automl,notebooks,widgets]==1.23.0) (1.1.1)\n",
            "Requirement already up-to-date: dill<0.4.0,>=0.2.8 in /anaconda/envs/azureml_py36/lib/python3.6/site-packages (from azureml-automl-runtime~=1.23.0->azureml-train-automl~=1.23.0; extra == \"automl\"->azureml-sdk[automl,notebooks,widgets]==1.23.0) (0.3.3)\n",
            "Requirement already up-to-date: psutil<6.0.0,>=5.2.2 in /anaconda/envs/azureml_py36/lib/python3.6/site-packages (from azureml-automl-runtime~=1.23.0->azureml-train-automl~=1.23.0; extra == \"automl\"->azureml-sdk[automl,notebooks,widgets]==1.23.0) (5.8.0)\n",
            "Requirement already up-to-date: jupyterlab-widgets>=1.0.0; python_version >= \"3.6\" in /anaconda/envs/azureml_py36/lib/python3.6/site-packages (from ipywidgets>=7.0.0->azureml-widgets~=1.23.0; extra == \"notebooks\"->azureml-sdk[automl,notebooks,widgets]==1.23.0) (1.0.0)\n",
            "Requirement already up-to-date: traitlets>=4.3.1 in /anaconda/envs/azureml_py36/lib/python3.6/site-packages (from ipywidgets>=7.0.0->azureml-widgets~=1.23.0; extra == \"notebooks\"->azureml-sdk[automl,notebooks,widgets]==1.23.0) (4.3.3)\n",
            "Requirement already up-to-date: widgetsnbextension~=3.5.0 in /anaconda/envs/azureml_py36/lib/python3.6/site-packages (from ipywidgets>=7.0.0->azureml-widgets~=1.23.0; extra == \"notebooks\"->azureml-sdk[automl,notebooks,widgets]==1.23.0) (3.5.1)\n",
            "Requirement already up-to-date: nbformat>=4.2.0 in /anaconda/envs/azureml_py36/lib/python3.6/site-packages (from ipywidgets>=7.0.0->azureml-widgets~=1.23.0; extra == \"notebooks\"->azureml-sdk[automl,notebooks,widgets]==1.23.0) (5.1.2)\n",
            "Requirement already up-to-date: azure-core<2.0.0,>=1.10.0 in /anaconda/envs/azureml_py36/lib/python3.6/site-packages (from azure-storage-blob>=12.6.0->azureml-widgets~=1.23.0; extra == \"notebooks\"->azureml-sdk[automl,notebooks,widgets]==1.23.0) (1.11.0)\n",
            "Requirement already up-to-date: pandocfilters>=1.4.1 in /anaconda/envs/azureml_py36/lib/python3.6/site-packages (from nbconvert<6->azureml-contrib-notebook~=1.23.0; extra == \"notebooks\"->azureml-sdk[automl,notebooks,widgets]==1.23.0) (1.4.3)\n",
            "Requirement already up-to-date: entrypoints>=0.2.2 in /anaconda/envs/azureml_py36/lib/python3.6/site-packages (from nbconvert<6->azureml-contrib-notebook~=1.23.0; extra == \"notebooks\"->azureml-sdk[automl,notebooks,widgets]==1.23.0) (0.3)\n",
            "Requirement already up-to-date: jupyter-core in /anaconda/envs/azureml_py36/lib/python3.6/site-packages (from nbconvert<6->azureml-contrib-notebook~=1.23.0; extra == \"notebooks\"->azureml-sdk[automl,notebooks,widgets]==1.23.0) (4.7.1)\n",
            "Requirement already up-to-date: defusedxml in /anaconda/envs/azureml_py36/lib/python3.6/site-packages (from nbconvert<6->azureml-contrib-notebook~=1.23.0; extra == \"notebooks\"->azureml-sdk[automl,notebooks,widgets]==1.23.0) (0.6.0)\n",
            "Requirement already up-to-date: pygments in /anaconda/envs/azureml_py36/lib/python3.6/site-packages (from nbconvert<6->azureml-contrib-notebook~=1.23.0; extra == \"notebooks\"->azureml-sdk[automl,notebooks,widgets]==1.23.0) (2.8.0)\n",
            "Requirement already up-to-date: bleach in /anaconda/envs/azureml_py36/lib/python3.6/site-packages (from nbconvert<6->azureml-contrib-notebook~=1.23.0; extra == \"notebooks\"->azureml-sdk[automl,notebooks,widgets]==1.23.0) (3.3.0)\n",
            "Requirement already up-to-date: testpath in /anaconda/envs/azureml_py36/lib/python3.6/site-packages (from nbconvert<6->azureml-contrib-notebook~=1.23.0; extra == \"notebooks\"->azureml-sdk[automl,notebooks,widgets]==1.23.0) (0.4.4)\n",
            "Requirement already up-to-date: mistune<2,>=0.8.1 in /anaconda/envs/azureml_py36/lib/python3.6/site-packages (from nbconvert<6->azureml-contrib-notebook~=1.23.0; extra == \"notebooks\"->azureml-sdk[automl,notebooks,widgets]==1.23.0) (0.8.4)\n",
            "Requirement already up-to-date: pexpect; sys_platform != \"win32\" in /anaconda/envs/azureml_py36/lib/python3.6/site-packages (from ipython->azureml-contrib-notebook~=1.23.0; extra == \"notebooks\"->azureml-sdk[automl,notebooks,widgets]==1.23.0) (4.8.0)\n",
            "Requirement already up-to-date: prompt-toolkit!=3.0.0,!=3.0.1,<3.1.0,>=2.0.0 in /anaconda/envs/azureml_py36/lib/python3.6/site-packages (from ipython->azureml-contrib-notebook~=1.23.0; extra == \"notebooks\"->azureml-sdk[automl,notebooks,widgets]==1.23.0) (3.0.16)\n",
            "Requirement already up-to-date: setuptools>=18.5 in /anaconda/envs/azureml_py36/lib/python3.6/site-packages (from ipython->azureml-contrib-notebook~=1.23.0; extra == \"notebooks\"->azureml-sdk[automl,notebooks,widgets]==1.23.0) (54.0.0)\n",
            "Requirement already up-to-date: pickleshare in /anaconda/envs/azureml_py36/lib/python3.6/site-packages (from ipython->azureml-contrib-notebook~=1.23.0; extra == \"notebooks\"->azureml-sdk[automl,notebooks,widgets]==1.23.0) (0.7.5)\n",
            "Requirement already up-to-date: jedi>=0.10 in /anaconda/envs/azureml_py36/lib/python3.6/site-packages (from ipython->azureml-contrib-notebook~=1.23.0; extra == \"notebooks\"->azureml-sdk[automl,notebooks,widgets]==1.23.0) (0.18.0)\n",
            "Requirement already up-to-date: decorator in /anaconda/envs/azureml_py36/lib/python3.6/site-packages (from ipython->azureml-contrib-notebook~=1.23.0; extra == \"notebooks\"->azureml-sdk[automl,notebooks,widgets]==1.23.0) (4.4.2)\n",
            "Requirement already up-to-date: backcall in /anaconda/envs/azureml_py36/lib/python3.6/site-packages (from ipython->azureml-contrib-notebook~=1.23.0; extra == \"notebooks\"->azureml-sdk[automl,notebooks,widgets]==1.23.0) (0.2.0)\n",
            "Requirement already up-to-date: pyyaml in /anaconda/envs/azureml_py36/lib/python3.6/site-packages (from papermill<2->azureml-contrib-notebook~=1.23.0; extra == \"notebooks\"->azureml-sdk[automl,notebooks,widgets]==1.23.0) (5.4.1)\n",
            "Requirement already up-to-date: tqdm>=4.32.2 in /anaconda/envs/azureml_py36/lib/python3.6/site-packages (from papermill<2->azureml-contrib-notebook~=1.23.0; extra == \"notebooks\"->azureml-sdk[automl,notebooks,widgets]==1.23.0) (4.58.0)\n",
            "Requirement already up-to-date: tenacity in /anaconda/envs/azureml_py36/lib/python3.6/site-packages (from papermill<2->azureml-contrib-notebook~=1.23.0; extra == \"notebooks\"->azureml-sdk[automl,notebooks,widgets]==1.23.0) (6.3.1)\n",
            "Requirement already up-to-date: future in /anaconda/envs/azureml_py36/lib/python3.6/site-packages (from papermill<2->azureml-contrib-notebook~=1.23.0; extra == \"notebooks\"->azureml-sdk[automl,notebooks,widgets]==1.23.0) (0.18.2)\n",
            "Requirement already up-to-date: click in /anaconda/envs/azureml_py36/lib/python3.6/site-packages (from papermill<2->azureml-contrib-notebook~=1.23.0; extra == \"notebooks\"->azureml-sdk[automl,notebooks,widgets]==1.23.0) (7.1.2)\n",
            "Requirement already up-to-date: jupyter-client in /anaconda/envs/azureml_py36/lib/python3.6/site-packages (from papermill<2->azureml-contrib-notebook~=1.23.0; extra == \"notebooks\"->azureml-sdk[automl,notebooks,widgets]==1.23.0) (6.1.11)\n",
            "Requirement already up-to-date: ansiwrap in /anaconda/envs/azureml_py36/lib/python3.6/site-packages (from papermill<2->azureml-contrib-notebook~=1.23.0; extra == \"notebooks\"->azureml-sdk[automl,notebooks,widgets]==1.23.0) (0.8.4)\n",
            "Requirement already up-to-date: tornado>=4.2 in /anaconda/envs/azureml_py36/lib/python3.6/site-packages (from ipykernel->azureml-contrib-notebook~=1.23.0; extra == \"notebooks\"->azureml-sdk[automl,notebooks,widgets]==1.23.0) (6.1)\n",
            "Requirement already up-to-date: distro>=1.2.0 in /anaconda/envs/azureml_py36/lib/python3.6/site-packages (from dotnetcore2<3.0.0,>=2.1.14->azureml-dataprep<2.11.0a,>=2.10.0a->azureml-dataset-runtime[fuse]~=1.23.0->azureml-sdk[automl,notebooks,widgets]==1.23.0) (1.5.0)\n",
            "Requirement already up-to-date: msal<2.0.0,>=1.3.0 in /anaconda/envs/azureml_py36/lib/python3.6/site-packages (from azure-identity<1.5.0,>=1.2.0->azureml-dataprep<2.11.0a,>=2.10.0a->azureml-dataset-runtime[fuse]~=1.23.0->azureml-sdk[automl,notebooks,widgets]==1.23.0) (1.9.0)\n",
            "Requirement already up-to-date: msal-extensions~=0.2.2 in /anaconda/envs/azureml_py36/lib/python3.6/site-packages (from azure-identity<1.5.0,>=1.2.0->azureml-dataprep<2.11.0a,>=2.10.0a->azureml-dataset-runtime[fuse]~=1.23.0->azureml-sdk[automl,notebooks,widgets]==1.23.0) (0.2.2)\n",
            "Requirement already up-to-date: zipp>=0.5 in /anaconda/envs/azureml_py36/lib/python3.6/site-packages (from importlib-metadata; python_version < \"3.8\"->jsonpickle->azureml-core~=1.23.0->azureml-sdk[automl,notebooks,widgets]==1.23.0) (3.4.0)\n",
            "Requirement already up-to-date: typing-extensions>=3.6.4; python_version < \"3.8\" in /anaconda/envs/azureml_py36/lib/python3.6/site-packages (from importlib-metadata; python_version < \"3.8\"->jsonpickle->azureml-core~=1.23.0->azureml-sdk[automl,notebooks,widgets]==1.23.0) (3.7.4.3)\n",
            "Requirement already up-to-date: oauthlib>=3.0.0 in /anaconda/envs/azureml_py36/lib/python3.6/site-packages (from requests-oauthlib>=0.5.0->msrest>=0.5.1->azureml-core~=1.23.0->azureml-sdk[automl,notebooks,widgets]==1.23.0) (3.1.0)\n",
            "Requirement already up-to-date: pycparser in /anaconda/envs/azureml_py36/lib/python3.6/site-packages (from cffi!=1.11.3,>=1.8->cryptography!=1.9,!=2.0.*,!=2.1.*,!=2.2.*,<=3.2->azureml-core~=1.23.0->azureml-sdk[automl,notebooks,widgets]==1.23.0) (2.20)\n",
            "Requirement already up-to-date: fire in /anaconda/envs/azureml_py36/lib/python3.6/site-packages (from keras2onnx<=1.6.0,>=1.4.0->azureml-train-automl-runtime~=1.23.0->azureml-train-automl~=1.23.0; extra == \"automl\"->azureml-sdk[automl,notebooks,widgets]==1.23.0) (0.4.0)\n",
            "Requirement already up-to-date: protobuf in /anaconda/envs/azureml_py36/lib/python3.6/site-packages (from keras2onnx<=1.6.0,>=1.4.0->azureml-train-automl-runtime~=1.23.0->azureml-train-automl~=1.23.0; extra == \"automl\"->azureml-sdk[automl,notebooks,widgets]==1.23.0) (3.15.3)\n",
            "Requirement already up-to-date: interpret-community==0.16.* in /anaconda/envs/azureml_py36/lib/python3.6/site-packages (from azureml-interpret~=1.23.0->azureml-train-automl-runtime~=1.23.0->azureml-train-automl~=1.23.0; extra == \"automl\"->azureml-sdk[automl,notebooks,widgets]==1.23.0) (0.16.0)\n",
            "Requirement already up-to-date: boto>=2.32 in /anaconda/envs/azureml_py36/lib/python3.6/site-packages (from smart-open<=1.9.0->azureml-train-automl-runtime~=1.23.0->azureml-train-automl~=1.23.0; extra == \"automl\"->azureml-sdk[automl,notebooks,widgets]==1.23.0) (2.49.0)\n",
            "Requirement already up-to-date: patsy>=0.4.0 in /anaconda/envs/azureml_py36/lib/python3.6/site-packages (from statsmodels<=0.10.2,>=0.9.0->azureml-train-automl-runtime~=1.23.0->azureml-train-automl~=1.23.0; extra == \"automl\"->azureml-sdk[automl,notebooks,widgets]==1.23.0) (0.5.1)\n",
            "Requirement already up-to-date: configparser==3.7.4 in /anaconda/envs/azureml_py36/lib/python3.6/site-packages (from azureml-defaults~=1.23.0->azureml-train-automl-runtime~=1.23.0->azureml-train-automl~=1.23.0; extra == \"automl\"->azureml-sdk[automl,notebooks,widgets]==1.23.0) (3.7.4)\n",
            "Requirement already up-to-date: json-logging-py==0.2 in /anaconda/envs/azureml_py36/lib/python3.6/site-packages (from azureml-defaults~=1.23.0->azureml-train-automl-runtime~=1.23.0->azureml-train-automl~=1.23.0; extra == \"automl\"->azureml-sdk[automl,notebooks,widgets]==1.23.0) (0.2)\n",
            "Requirement already up-to-date: flask==1.0.3 in /anaconda/envs/azureml_py36/lib/python3.6/site-packages (from azureml-defaults~=1.23.0->azureml-train-automl-runtime~=1.23.0->azureml-train-automl~=1.23.0; extra == \"automl\"->azureml-sdk[automl,notebooks,widgets]==1.23.0) (1.0.3)\n",
            "Requirement already up-to-date: werkzeug<=1.0.1,>=0.16.1 in /anaconda/envs/azureml_py36/lib/python3.6/site-packages (from azureml-defaults~=1.23.0->azureml-train-automl-runtime~=1.23.0->azureml-train-automl~=1.23.0; extra == \"automl\"->azureml-sdk[automl,notebooks,widgets]==1.23.0) (1.0.1)\n",
            "Requirement already up-to-date: azureml-model-management-sdk==1.0.1b6.post1 in /anaconda/envs/azureml_py36/lib/python3.6/site-packages (from azureml-defaults~=1.23.0->azureml-train-automl-runtime~=1.23.0->azureml-train-automl~=1.23.0; extra == \"automl\"->azureml-sdk[automl,notebooks,widgets]==1.23.0) (1.0.1b6.post1)\n",
            "Requirement already up-to-date: gunicorn==19.9.0 in /anaconda/envs/azureml_py36/lib/python3.6/site-packages (from azureml-defaults~=1.23.0->azureml-train-automl-runtime~=1.23.0->azureml-train-automl~=1.23.0; extra == \"automl\"->azureml-sdk[automl,notebooks,widgets]==1.23.0) (19.9.0)\n",
            "Requirement already up-to-date: MarkupSafe>=0.23 in /anaconda/envs/azureml_py36/lib/python3.6/site-packages (from jinja2<=2.11.2->azureml-train-automl-runtime~=1.23.0->azureml-train-automl~=1.23.0; extra == \"automl\"->azureml-sdk[automl,notebooks,widgets]==1.23.0) (1.1.1)\n",
            "Requirement already up-to-date: s3transfer<0.4.0,>=0.3.0 in /anaconda/envs/azureml_py36/lib/python3.6/site-packages (from boto3<=1.15.18->azureml-train-automl-runtime~=1.23.0->azureml-train-automl~=1.23.0; extra == \"automl\"->azureml-sdk[automl,notebooks,widgets]==1.23.0) (0.3.4)\n",
            "Requirement already up-to-date: Cython>=0.29 in /anaconda/envs/azureml_py36/lib/python3.6/site-packages (from pmdarima==1.1.1->azureml-automl-runtime~=1.23.0->azureml-train-automl~=1.23.0; extra == \"automl\"->azureml-sdk[automl,notebooks,widgets]==1.23.0) (0.29.22)\n",
            "Requirement already up-to-date: ipython-genutils in /anaconda/envs/azureml_py36/lib/python3.6/site-packages (from traitlets>=4.3.1->ipywidgets>=7.0.0->azureml-widgets~=1.23.0; extra == \"notebooks\"->azureml-sdk[automl,notebooks,widgets]==1.23.0) (0.2.0)\n",
            "Requirement already up-to-date: notebook>=4.4.1 in /anaconda/envs/azureml_py36/lib/python3.6/site-packages (from widgetsnbextension~=3.5.0->ipywidgets>=7.0.0->azureml-widgets~=1.23.0; extra == \"notebooks\"->azureml-sdk[automl,notebooks,widgets]==1.23.0) (6.2.0)\n",
            "Requirement already up-to-date: jsonschema!=2.5.0,>=2.4 in /anaconda/envs/azureml_py36/lib/python3.6/site-packages (from nbformat>=4.2.0->ipywidgets>=7.0.0->azureml-widgets~=1.23.0; extra == \"notebooks\"->azureml-sdk[automl,notebooks,widgets]==1.23.0) (3.2.0)\n",
            "Requirement already up-to-date: packaging in /anaconda/envs/azureml_py36/lib/python3.6/site-packages (from bleach->nbconvert<6->azureml-contrib-notebook~=1.23.0; extra == \"notebooks\"->azureml-sdk[automl,notebooks,widgets]==1.23.0) (20.9)\n",
            "Requirement already up-to-date: webencodings in /anaconda/envs/azureml_py36/lib/python3.6/site-packages (from bleach->nbconvert<6->azureml-contrib-notebook~=1.23.0; extra == \"notebooks\"->azureml-sdk[automl,notebooks,widgets]==1.23.0) (0.5.1)\n",
            "Requirement already up-to-date: ptyprocess>=0.5 in /anaconda/envs/azureml_py36/lib/python3.6/site-packages (from pexpect; sys_platform != \"win32\"->ipython->azureml-contrib-notebook~=1.23.0; extra == \"notebooks\"->azureml-sdk[automl,notebooks,widgets]==1.23.0) (0.7.0)\n",
            "Requirement already up-to-date: wcwidth in /anaconda/envs/azureml_py36/lib/python3.6/site-packages (from prompt-toolkit!=3.0.0,!=3.0.1,<3.1.0,>=2.0.0->ipython->azureml-contrib-notebook~=1.23.0; extra == \"notebooks\"->azureml-sdk[automl,notebooks,widgets]==1.23.0) (0.2.5)\n",
            "Requirement already up-to-date: parso<0.9.0,>=0.8.0 in /anaconda/envs/azureml_py36/lib/python3.6/site-packages (from jedi>=0.10->ipython->azureml-contrib-notebook~=1.23.0; extra == \"notebooks\"->azureml-sdk[automl,notebooks,widgets]==1.23.0) (0.8.1)\n",
            "Requirement already up-to-date: pyzmq>=13 in /anaconda/envs/azureml_py36/lib/python3.6/site-packages (from jupyter-client->papermill<2->azureml-contrib-notebook~=1.23.0; extra == \"notebooks\"->azureml-sdk[automl,notebooks,widgets]==1.23.0) (22.0.3)\n",
            "Requirement already up-to-date: textwrap3>=0.9.2 in /anaconda/envs/azureml_py36/lib/python3.6/site-packages (from ansiwrap->papermill<2->azureml-contrib-notebook~=1.23.0; extra == \"notebooks\"->azureml-sdk[automl,notebooks,widgets]==1.23.0) (0.9.2)\n",
            "Requirement already up-to-date: portalocker~=1.0; platform_system != \"Windows\" in /anaconda/envs/azureml_py36/lib/python3.6/site-packages (from msal-extensions~=0.2.2->azure-identity<1.5.0,>=1.2.0->azureml-dataprep<2.11.0a,>=2.10.0a->azureml-dataset-runtime[fuse]~=1.23.0->azureml-sdk[automl,notebooks,widgets]==1.23.0) (1.7.1)\n",
            "Requirement already up-to-date: termcolor in /anaconda/envs/azureml_py36/lib/python3.6/site-packages (from fire->keras2onnx<=1.6.0,>=1.4.0->azureml-train-automl-runtime~=1.23.0->azureml-train-automl~=1.23.0; extra == \"automl\"->azureml-sdk[automl,notebooks,widgets]==1.23.0) (1.1.0)\n",
            "Requirement already up-to-date: interpret-core[required]<=0.2.1,>=0.1.20 in /anaconda/envs/azureml_py36/lib/python3.6/site-packages (from interpret-community==0.16.*->azureml-interpret~=1.23.0->azureml-train-automl-runtime~=1.23.0->azureml-train-automl~=1.23.0; extra == \"automl\"->azureml-sdk[automl,notebooks,widgets]==1.23.0) (0.2.1)\n",
            "Requirement already up-to-date: shap<=0.34.0,>=0.20.0 in /anaconda/envs/azureml_py36/lib/python3.6/site-packages (from interpret-community==0.16.*->azureml-interpret~=1.23.0->azureml-train-automl-runtime~=1.23.0->azureml-train-automl~=1.23.0; extra == \"automl\"->azureml-sdk[automl,notebooks,widgets]==1.23.0) (0.34.0)\n",
            "Requirement already up-to-date: itsdangerous>=0.24 in /anaconda/envs/azureml_py36/lib/python3.6/site-packages (from flask==1.0.3->azureml-defaults~=1.23.0->azureml-train-automl-runtime~=1.23.0->azureml-train-automl~=1.23.0; extra == \"automl\"->azureml-sdk[automl,notebooks,widgets]==1.23.0) (1.1.0)\n",
            "Requirement already up-to-date: liac-arff>=2.1.1 in /anaconda/envs/azureml_py36/lib/python3.6/site-packages (from azureml-model-management-sdk==1.0.1b6.post1->azureml-defaults~=1.23.0->azureml-train-automl-runtime~=1.23.0->azureml-train-automl~=1.23.0; extra == \"automl\"->azureml-sdk[automl,notebooks,widgets]==1.23.0) (2.5.0)\n",
            "Requirement already up-to-date: terminado>=0.8.3 in /anaconda/envs/azureml_py36/lib/python3.6/site-packages (from notebook>=4.4.1->widgetsnbextension~=3.5.0->ipywidgets>=7.0.0->azureml-widgets~=1.23.0; extra == \"notebooks\"->azureml-sdk[automl,notebooks,widgets]==1.23.0) (0.9.2)\n",
            "Requirement already up-to-date: prometheus-client in /anaconda/envs/azureml_py36/lib/python3.6/site-packages (from notebook>=4.4.1->widgetsnbextension~=3.5.0->ipywidgets>=7.0.0->azureml-widgets~=1.23.0; extra == \"notebooks\"->azureml-sdk[automl,notebooks,widgets]==1.23.0) (0.9.0)\n",
            "Requirement already up-to-date: argon2-cffi in /anaconda/envs/azureml_py36/lib/python3.6/site-packages (from notebook>=4.4.1->widgetsnbextension~=3.5.0->ipywidgets>=7.0.0->azureml-widgets~=1.23.0; extra == \"notebooks\"->azureml-sdk[automl,notebooks,widgets]==1.23.0) (20.1.0)\n",
            "Requirement already up-to-date: Send2Trash>=1.5.0 in /anaconda/envs/azureml_py36/lib/python3.6/site-packages (from notebook>=4.4.1->widgetsnbextension~=3.5.0->ipywidgets>=7.0.0->azureml-widgets~=1.23.0; extra == \"notebooks\"->azureml-sdk[automl,notebooks,widgets]==1.23.0) (1.5.0)\n",
            "Requirement already up-to-date: pyrsistent>=0.14.0 in /anaconda/envs/azureml_py36/lib/python3.6/site-packages (from jsonschema!=2.5.0,>=2.4->nbformat>=4.2.0->ipywidgets>=7.0.0->azureml-widgets~=1.23.0; extra == \"notebooks\"->azureml-sdk[automl,notebooks,widgets]==1.23.0) (0.17.3)\n",
            "Requirement already up-to-date: attrs>=17.4.0 in /anaconda/envs/azureml_py36/lib/python3.6/site-packages (from jsonschema!=2.5.0,>=2.4->nbformat>=4.2.0->ipywidgets>=7.0.0->azureml-widgets~=1.23.0; extra == \"notebooks\"->azureml-sdk[automl,notebooks,widgets]==1.23.0) (20.3.0)\n",
            "Requirement already up-to-date: pyparsing>=2.0.2 in /anaconda/envs/azureml_py36/lib/python3.6/site-packages (from packaging->bleach->nbconvert<6->azureml-contrib-notebook~=1.23.0; extra == \"notebooks\"->azureml-sdk[automl,notebooks,widgets]==1.23.0) (2.4.7)\n",
            "\u001b[31mERROR: azureml-train-automl-runtime 1.23.0.post1 has requirement numpy<1.19.0,>=1.16.0, but you'll have numpy 1.19.5 which is incompatible.\u001b[0m\n",
            "\u001b[31mERROR: azureml-tensorboard 1.22.0 has requirement azureml-core~=1.22.0, but you'll have azureml-core 1.23.0 which is incompatible.\u001b[0m\n",
            "\u001b[31mERROR: azureml-opendatasets 1.22.0 has requirement azureml-core~=1.22.0, but you'll have azureml-core 1.23.0 which is incompatible.\u001b[0m\n",
            "\u001b[31mERROR: azureml-opendatasets 1.22.0 has requirement azureml-dataset-runtime[fuse,pandas]~=1.22.0, but you'll have azureml-dataset-runtime 1.23.0 which is incompatible.\u001b[0m\n",
            "\u001b[31mERROR: azureml-opendatasets 1.22.0 has requirement azureml-telemetry~=1.22.0, but you'll have azureml-telemetry 1.23.0 which is incompatible.\u001b[0m\n",
            "\u001b[31mERROR: azureml-opendatasets 1.22.0 has requirement numpy<=1.19.0,>=1.16.0, but you'll have numpy 1.19.5 which is incompatible.\u001b[0m\n",
            "\u001b[31mERROR: azureml-opendatasets 1.22.0 has requirement scipy<=1.4.1,>=1.0.0, but you'll have scipy 1.5.2 which is incompatible.\u001b[0m\n",
            "\u001b[31mERROR: azureml-mlflow 1.22.0 has requirement azureml-core~=1.22.0, but you'll have azureml-core 1.23.0 which is incompatible.\u001b[0m\n",
            "\u001b[31mERROR: azureml-explain-model 1.22.0 has requirement azureml-interpret~=1.22.0, but you'll have azureml-interpret 1.23.0 which is incompatible.\u001b[0m\n",
            "\u001b[31mERROR: azureml-datadrift 1.22.0 has requirement azureml-core~=1.22.0, but you'll have azureml-core 1.23.0 which is incompatible.\u001b[0m\n",
            "\u001b[31mERROR: azureml-datadrift 1.22.0 has requirement azureml-dataset-runtime[fuse,pandas]~=1.22.0, but you'll have azureml-dataset-runtime 1.23.0 which is incompatible.\u001b[0m\n",
            "\u001b[31mERROR: azureml-datadrift 1.22.0 has requirement azureml-pipeline-core~=1.22.0, but you'll have azureml-pipeline-core 1.23.0 which is incompatible.\u001b[0m\n",
            "\u001b[31mERROR: azureml-datadrift 1.22.0 has requirement azureml-telemetry~=1.22.0, but you'll have azureml-telemetry 1.23.0 which is incompatible.\u001b[0m\n",
            "\u001b[31mERROR: azureml-contrib-services 1.22.0 has requirement azureml-core~=1.22.0, but you'll have azureml-core 1.23.0 which is incompatible.\u001b[0m\n",
            "\u001b[31mERROR: azureml-contrib-server 1.22.0 has requirement azureml-core~=1.22.0, but you'll have azureml-core 1.23.0 which is incompatible.\u001b[0m\n",
            "\u001b[31mERROR: azureml-contrib-reinforcementlearning 1.22.0 has requirement azureml-core~=1.22.0, but you'll have azureml-core 1.23.0 which is incompatible.\u001b[0m\n",
            "\u001b[31mERROR: azureml-contrib-reinforcementlearning 1.22.0 has requirement azureml-train-core~=1.22.0, but you'll have azureml-train-core 1.23.0 which is incompatible.\u001b[0m\n",
            "\u001b[31mERROR: azureml-contrib-pipeline-steps 1.22.0 has requirement azureml-core~=1.22.0, but you'll have azureml-core 1.23.0 which is incompatible.\u001b[0m\n",
            "\u001b[31mERROR: azureml-contrib-pipeline-steps 1.22.0 has requirement azureml-dataset-runtime~=1.22.0, but you'll have azureml-dataset-runtime 1.23.0 which is incompatible.\u001b[0m\n",
            "\u001b[31mERROR: azureml-contrib-pipeline-steps 1.22.0 has requirement azureml-pipeline-core~=1.22.0, but you'll have azureml-pipeline-core 1.23.0 which is incompatible.\u001b[0m\n",
            "\u001b[31mERROR: azureml-contrib-interpret 1.22.0 has requirement azureml-interpret~=1.22.0, but you'll have azureml-interpret 1.23.0 which is incompatible.\u001b[0m\n",
            "\u001b[31mERROR: azureml-contrib-gbdt 1.22.0 has requirement azureml-core~=1.22.0, but you'll have azureml-core 1.23.0 which is incompatible.\u001b[0m\n",
            "\u001b[31mERROR: azureml-contrib-gbdt 1.22.0 has requirement azureml-train-core~=1.22.0, but you'll have azureml-train-core 1.23.0 which is incompatible.\u001b[0m\n",
            "\u001b[31mERROR: azureml-contrib-fairness 1.22.0 has requirement azureml-core~=1.22.0, but you'll have azureml-core 1.23.0 which is incompatible.\u001b[0m\n",
            "\u001b[31mERROR: azureml-contrib-dataset 1.22.0 has requirement azureml-core~=1.22.0, but you'll have azureml-core 1.23.0 which is incompatible.\u001b[0m\n",
            "\u001b[31mERROR: azureml-contrib-dataset 1.22.0 has requirement azureml-dataset-runtime[fuse,pandas]~=1.22.0, but you'll have azureml-dataset-runtime 1.23.0 which is incompatible.\u001b[0m\n",
            "\u001b[31mERROR: azureml-cli-common 1.22.0 has requirement azureml-core~=1.22.0, but you'll have azureml-core 1.23.0 which is incompatible.\u001b[0m\n",
            "\u001b[31mERROR: azureml-cli-common 1.22.0 has requirement azureml-pipeline-core~=1.22.0, but you'll have azureml-pipeline-core 1.23.0 which is incompatible.\u001b[0m\n",
            "\u001b[31mERROR: azureml-cli-common 1.22.0 has requirement azureml-train-core~=1.22.0; python_version >= \"3.5\", but you'll have azureml-train-core 1.23.0 which is incompatible.\u001b[0m\n",
            "\u001b[31mERROR: azureml-automl-runtime 1.23.0 has requirement numpy<1.19.0,>=1.16.0, but you'll have numpy 1.19.5 which is incompatible.\u001b[0m\n",
            "\u001b[31mERROR: azureml-accel-models 1.22.0 has requirement azureml-core~=1.22.0, but you'll have azureml-core 1.23.0 which is incompatible.\u001b[0m\n",
            "\u001b[31mERROR: azure-cli 2.19.1 has requirement azure-graphrbac~=0.60.0, but you'll have azure-graphrbac 0.61.1 which is incompatible.\u001b[0m\n",
            "\u001b[31mERROR: azure-cli 2.19.1 has requirement azure-mgmt-containerregistry==3.0.0rc16, but you'll have azure-mgmt-containerregistry 2.8.0 which is incompatible.\u001b[0m\n",
            "\u001b[31mERROR: azure-cli 2.19.1 has requirement azure-mgmt-keyvault==8.0.0, but you'll have azure-mgmt-keyvault 2.2.0 which is incompatible.\u001b[0m\n",
            "\u001b[31mERROR: azure-cli 2.19.1 has requirement azure-mgmt-storage~=16.0.0, but you'll have azure-mgmt-storage 11.2.0 which is incompatible.\u001b[0m\n",
            "\u001b[31mERROR: azure-cli 2.19.1 has requirement cryptography<3.0.0,>=2.3.1, but you'll have cryptography 3.2 which is incompatible.\u001b[0m\n",
            "\u001b[31mERROR: azure-cli 2.19.1 has requirement pytz==2019.1, but you'll have pytz 2021.1 which is incompatible.\u001b[0m\n",
            "\u001b[31mERROR: azure-cli 2.19.1 has requirement websocket-client~=0.56.0, but you'll have websocket-client 0.58.0 which is incompatible.\u001b[0m\n",
            "\u001b[31mERROR: azure-cli-core 2.19.1 has requirement msal~=1.0.0, but you'll have msal 1.9.0 which is incompatible.\u001b[0m\n",
            "\u001b[31mERROR: azure-cli-core 2.19.1 has requirement msal-extensions~=0.1.3, but you'll have msal-extensions 0.2.2 which is incompatible.\u001b[0m\n",
            "\u001b[31mERROR: azure-cli-core 2.19.1 has requirement PyJWT==1.7.1, but you'll have pyjwt 2.0.1 which is incompatible.\u001b[0m\n",
            "Installing collected packages: azureml-dataprep-rslex, azureml-dataprep-native, azureml-dataprep, azureml-dataset-runtime, azureml-train-restclients-hyperdrive, cryptography, azureml-core, azureml-telemetry, azureml-train-core, azureml-train, azureml-automl-core, azureml-train-automl-client, azureml-pipeline-core, azureml-pipeline-steps, azureml-pipeline, azureml-interpret, azureml-defaults, azureml-automl-runtime, azureml-train-automl-runtime, azureml-train-automl, azureml-widgets, azureml-contrib-notebook, azureml-sdk\n",
            "  Attempting uninstall: azureml-dataprep-rslex\n",
            "    Found existing installation: azureml-dataprep-rslex 1.7.0\n",
            "    Uninstalling azureml-dataprep-rslex-1.7.0:\n",
            "      Successfully uninstalled azureml-dataprep-rslex-1.7.0\n",
            "  Attempting uninstall: azureml-dataprep-native\n",
            "    Found existing installation: azureml-dataprep-native 29.0.0\n",
            "    Uninstalling azureml-dataprep-native-29.0.0:\n",
            "      Successfully uninstalled azureml-dataprep-native-29.0.0\n",
            "  Attempting uninstall: azureml-dataprep\n",
            "    Found existing installation: azureml-dataprep 2.9.1\n",
            "    Uninstalling azureml-dataprep-2.9.1:\n",
            "      Successfully uninstalled azureml-dataprep-2.9.1\n",
            "  Attempting uninstall: azureml-dataset-runtime\n",
            "    Found existing installation: azureml-dataset-runtime 1.22.0\n",
            "    Uninstalling azureml-dataset-runtime-1.22.0:\n",
            "      Successfully uninstalled azureml-dataset-runtime-1.22.0\n",
            "  Attempting uninstall: azureml-train-restclients-hyperdrive\n",
            "    Found existing installation: azureml-train-restclients-hyperdrive 1.22.0\n",
            "    Uninstalling azureml-train-restclients-hyperdrive-1.22.0:\n",
            "      Successfully uninstalled azureml-train-restclients-hyperdrive-1.22.0\n",
            "  Attempting uninstall: cryptography\n",
            "    Found existing installation: cryptography 3.4.6\n",
            "    Uninstalling cryptography-3.4.6:\n",
            "      Successfully uninstalled cryptography-3.4.6\n",
            "  Attempting uninstall: azureml-core\n",
            "    Found existing installation: azureml-core 1.22.0\n",
            "    Uninstalling azureml-core-1.22.0:\n",
            "      Successfully uninstalled azureml-core-1.22.0\n",
            "  Attempting uninstall: azureml-telemetry\n",
            "    Found existing installation: azureml-telemetry 1.22.0\n",
            "    Uninstalling azureml-telemetry-1.22.0:\n",
            "      Successfully uninstalled azureml-telemetry-1.22.0\n",
            "  Attempting uninstall: azureml-train-core\n",
            "    Found existing installation: azureml-train-core 1.22.0\n",
            "    Uninstalling azureml-train-core-1.22.0:\n",
            "      Successfully uninstalled azureml-train-core-1.22.0\n",
            "  Attempting uninstall: azureml-train\n",
            "    Found existing installation: azureml-train 1.22.0\n",
            "    Uninstalling azureml-train-1.22.0:\n",
            "      Successfully uninstalled azureml-train-1.22.0\n",
            "  Attempting uninstall: azureml-automl-core\n",
            "    Found existing installation: azureml-automl-core 1.22.0\n",
            "    Uninstalling azureml-automl-core-1.22.0:\n",
            "      Successfully uninstalled azureml-automl-core-1.22.0\n",
            "  Attempting uninstall: azureml-train-automl-client\n",
            "    Found existing installation: azureml-train-automl-client 1.22.0.post1\n",
            "    Uninstalling azureml-train-automl-client-1.22.0.post1:\n",
            "      Successfully uninstalled azureml-train-automl-client-1.22.0.post1\n",
            "  Attempting uninstall: azureml-pipeline-core\n",
            "    Found existing installation: azureml-pipeline-core 1.22.0\n",
            "    Uninstalling azureml-pipeline-core-1.22.0:\n",
            "      Successfully uninstalled azureml-pipeline-core-1.22.0\n",
            "  Attempting uninstall: azureml-pipeline-steps\n",
            "    Found existing installation: azureml-pipeline-steps 1.22.0\n",
            "    Uninstalling azureml-pipeline-steps-1.22.0:\n",
            "      Successfully uninstalled azureml-pipeline-steps-1.22.0\n",
            "  Attempting uninstall: azureml-pipeline\n",
            "    Found existing installation: azureml-pipeline 1.22.0\n",
            "    Uninstalling azureml-pipeline-1.22.0:\n",
            "      Successfully uninstalled azureml-pipeline-1.22.0\n",
            "  Attempting uninstall: azureml-interpret\n",
            "    Found existing installation: azureml-interpret 1.22.0\n",
            "    Uninstalling azureml-interpret-1.22.0:\n",
            "      Successfully uninstalled azureml-interpret-1.22.0\n",
            "  Attempting uninstall: azureml-defaults\n",
            "    Found existing installation: azureml-defaults 1.22.0\n",
            "    Uninstalling azureml-defaults-1.22.0:\n",
            "      Successfully uninstalled azureml-defaults-1.22.0\n",
            "  Attempting uninstall: azureml-automl-runtime\n",
            "    Found existing installation: azureml-automl-runtime 1.22.0\n",
            "    Uninstalling azureml-automl-runtime-1.22.0:\n",
            "      Successfully uninstalled azureml-automl-runtime-1.22.0\n",
            "  Attempting uninstall: azureml-train-automl-runtime\n",
            "    Found existing installation: azureml-train-automl-runtime 1.22.0.post1\n",
            "    Uninstalling azureml-train-automl-runtime-1.22.0.post1:\n",
            "      Successfully uninstalled azureml-train-automl-runtime-1.22.0.post1\n",
            "  Attempting uninstall: azureml-train-automl\n",
            "    Found existing installation: azureml-train-automl 1.22.0\n",
            "    Uninstalling azureml-train-automl-1.22.0:\n",
            "      Successfully uninstalled azureml-train-automl-1.22.0\n",
            "  Attempting uninstall: azureml-widgets\n",
            "    Found existing installation: azureml-widgets 1.22.0\n",
            "    Uninstalling azureml-widgets-1.22.0:\n",
            "      Successfully uninstalled azureml-widgets-1.22.0\n",
            "  Attempting uninstall: azureml-contrib-notebook\n",
            "    Found existing installation: azureml-contrib-notebook 1.22.0\n",
            "    Uninstalling azureml-contrib-notebook-1.22.0:\n",
            "      Successfully uninstalled azureml-contrib-notebook-1.22.0\n",
            "  Attempting uninstall: azureml-sdk\n",
            "    Found existing installation: azureml-sdk 1.22.0\n",
            "    Uninstalling azureml-sdk-1.22.0:\n",
            "      Successfully uninstalled azureml-sdk-1.22.0\n",
            "Successfully installed azureml-automl-core-1.23.0 azureml-automl-runtime-1.23.0 azureml-contrib-notebook-1.23.0 azureml-core-1.23.0 azureml-dataprep-2.10.1 azureml-dataprep-native-30.0.0 azureml-dataprep-rslex-1.8.0 azureml-dataset-runtime-1.23.0 azureml-defaults-1.23.0 azureml-interpret-1.23.0 azureml-pipeline-1.23.0 azureml-pipeline-core-1.23.0 azureml-pipeline-steps-1.23.0 azureml-sdk-1.23.0 azureml-telemetry-1.23.0 azureml-train-1.23.0 azureml-train-automl-1.23.0 azureml-train-automl-client-1.23.0.post1 azureml-train-automl-runtime-1.23.0.post1 azureml-train-core-1.23.0 azureml-train-restclients-hyperdrive-1.23.0 azureml-widgets-1.23.0 cryptography-3.2\n"
          ]
        }
      ],
      "execution_count": 11,
      "metadata": {
        "collapsed": true,
        "jupyter": {
          "source_hidden": false,
          "outputs_hidden": false
        },
        "nteract": {
          "transient": {
            "deleting": false
          }
        }
      }
    },
    {
      "cell_type": "code",
      "source": [
        "import azureml.core\r\n",
        "print(azureml.core.VERSION)"
      ],
      "outputs": [
        {
          "output_type": "stream",
          "name": "stdout",
          "text": [
            "1.23.0\n"
          ]
        }
      ],
      "execution_count": 9,
      "metadata": {
        "collapsed": true,
        "jupyter": {
          "source_hidden": false,
          "outputs_hidden": false
        },
        "nteract": {
          "transient": {
            "deleting": false
          }
        },
        "gather": {
          "logged": 1614778762899
        }
      }
    },
    {
      "cell_type": "code",
      "source": [
        "from azureml.widgets import RunDetails\r\n",
        "remote_run = experiment.submit(automl_config, show_output=True)\r\n",
        "RunDetails(remote_run).show()"
      ],
      "outputs": [
        {
          "output_type": "error",
          "ename": "ValidationException",
          "evalue": "ValidationException:\n\tMessage: Install the required versions of packages using the requirements file. Requirements file location: /anaconda/envs/azureml_py36/lib/python3.6/site-packages/azureml/automl/core/validated_linux_requirements.txt. Alternatively, use remote target to avoid dependency management. \nPackage name/Required version/Installed version\nazureml-train-automl-runtime/numpy<1.19.0,>=1.16.0/numpy 1.19.5\nazureml-automl-runtime/numpy<1.19.0,>=1.16.0/numpy 1.19.5\n\tInnerException: None\n\tErrorResponse \n{\n    \"error\": {\n        \"code\": \"UserError\",\n        \"message\": \"Install the required versions of packages using the requirements file. Requirements file location: /anaconda/envs/azureml_py36/lib/python3.6/site-packages/azureml/automl/core/validated_linux_requirements.txt. Alternatively, use remote target to avoid dependency management. \\nPackage name/Required version/Installed version\\nazureml-train-automl-runtime/numpy<1.19.0,>=1.16.0/numpy 1.19.5\\nazureml-automl-runtime/numpy<1.19.0,>=1.16.0/numpy 1.19.5\",\n        \"target\": \"azureml-train-automl-runtime,azureml-automl-runtime\",\n        \"inner_error\": {\n            \"code\": \"NotSupported\",\n            \"inner_error\": {\n                \"code\": \"IncompatibleOrMissingDependency\"\n            }\n        },\n        \"reference_code\": \"435ab938-fd87-49bc-932e-6eec0d6aee4f\"\n    }\n}",
          "traceback": [
            "\u001b[0;31m---------------------------------------------------------------------------\u001b[0m",
            "\u001b[0;31mValidationException\u001b[0m                       Traceback (most recent call last)",
            "\u001b[0;32m<ipython-input-10-7bd8c391bd8d>\u001b[0m in \u001b[0;36m<module>\u001b[0;34m\u001b[0m\n\u001b[1;32m      1\u001b[0m \u001b[0;32mfrom\u001b[0m \u001b[0mazureml\u001b[0m\u001b[0;34m.\u001b[0m\u001b[0mwidgets\u001b[0m \u001b[0;32mimport\u001b[0m \u001b[0mRunDetails\u001b[0m\u001b[0;34m\u001b[0m\u001b[0;34m\u001b[0m\u001b[0m\n\u001b[0;32m----> 2\u001b[0;31m \u001b[0mremote_run\u001b[0m \u001b[0;34m=\u001b[0m \u001b[0mexperiment\u001b[0m\u001b[0;34m.\u001b[0m\u001b[0msubmit\u001b[0m\u001b[0;34m(\u001b[0m\u001b[0mautoml_config\u001b[0m\u001b[0;34m,\u001b[0m \u001b[0mshow_output\u001b[0m\u001b[0;34m=\u001b[0m\u001b[0;32mTrue\u001b[0m\u001b[0;34m)\u001b[0m\u001b[0;34m\u001b[0m\u001b[0;34m\u001b[0m\u001b[0m\n\u001b[0m\u001b[1;32m      3\u001b[0m \u001b[0mRunDetails\u001b[0m\u001b[0;34m(\u001b[0m\u001b[0mremote_run\u001b[0m\u001b[0;34m)\u001b[0m\u001b[0;34m.\u001b[0m\u001b[0mshow\u001b[0m\u001b[0;34m(\u001b[0m\u001b[0;34m)\u001b[0m\u001b[0;34m\u001b[0m\u001b[0;34m\u001b[0m\u001b[0m\n",
            "\u001b[0;32m/anaconda/envs/azureml_py36/lib/python3.6/site-packages/azureml/core/experiment.py\u001b[0m in \u001b[0;36msubmit\u001b[0;34m(self, config, tags, **kwargs)\u001b[0m\n\u001b[1;32m    218\u001b[0m         \u001b[0msubmit_func\u001b[0m \u001b[0;34m=\u001b[0m \u001b[0mget_experiment_submit\u001b[0m\u001b[0;34m(\u001b[0m\u001b[0mconfig\u001b[0m\u001b[0;34m)\u001b[0m\u001b[0;34m\u001b[0m\u001b[0;34m\u001b[0m\u001b[0m\n\u001b[1;32m    219\u001b[0m         \u001b[0;32mwith\u001b[0m \u001b[0mself\u001b[0m\u001b[0;34m.\u001b[0m\u001b[0m_log_context\u001b[0m\u001b[0;34m(\u001b[0m\u001b[0;34m\"submit config {}\"\u001b[0m\u001b[0;34m.\u001b[0m\u001b[0mformat\u001b[0m\u001b[0;34m(\u001b[0m\u001b[0mconfig\u001b[0m\u001b[0;34m.\u001b[0m\u001b[0m__class__\u001b[0m\u001b[0;34m.\u001b[0m\u001b[0m__name__\u001b[0m\u001b[0;34m)\u001b[0m\u001b[0;34m)\u001b[0m\u001b[0;34m:\u001b[0m\u001b[0;34m\u001b[0m\u001b[0;34m\u001b[0m\u001b[0m\n\u001b[0;32m--> 220\u001b[0;31m             \u001b[0mrun\u001b[0m \u001b[0;34m=\u001b[0m \u001b[0msubmit_func\u001b[0m\u001b[0;34m(\u001b[0m\u001b[0mconfig\u001b[0m\u001b[0;34m,\u001b[0m \u001b[0mself\u001b[0m\u001b[0;34m.\u001b[0m\u001b[0mworkspace\u001b[0m\u001b[0;34m,\u001b[0m \u001b[0mself\u001b[0m\u001b[0;34m.\u001b[0m\u001b[0mname\u001b[0m\u001b[0;34m,\u001b[0m \u001b[0;34m**\u001b[0m\u001b[0mkwargs\u001b[0m\u001b[0;34m)\u001b[0m\u001b[0;34m\u001b[0m\u001b[0;34m\u001b[0m\u001b[0m\n\u001b[0m\u001b[1;32m    221\u001b[0m         \u001b[0;32mif\u001b[0m \u001b[0mtags\u001b[0m \u001b[0;32mis\u001b[0m \u001b[0;32mnot\u001b[0m \u001b[0;32mNone\u001b[0m\u001b[0;34m:\u001b[0m\u001b[0;34m\u001b[0m\u001b[0;34m\u001b[0m\u001b[0m\n\u001b[1;32m    222\u001b[0m             \u001b[0mrun\u001b[0m\u001b[0;34m.\u001b[0m\u001b[0mset_tags\u001b[0m\u001b[0;34m(\u001b[0m\u001b[0mtags\u001b[0m\u001b[0;34m)\u001b[0m\u001b[0;34m\u001b[0m\u001b[0;34m\u001b[0m\u001b[0m\n",
            "\u001b[0;32m/anaconda/envs/azureml_py36/lib/python3.6/site-packages/azureml/train/automl/automlconfig.py\u001b[0m in \u001b[0;36m_automl_static_submit\u001b[0;34m(automl_config_object, workspace, experiment_name, **kwargs)\u001b[0m\n\u001b[1;32m    102\u001b[0m             \u001b[0mcompute_target\u001b[0m\u001b[0;34m,\u001b[0m\u001b[0;34m\u001b[0m\u001b[0;34m\u001b[0m\u001b[0m\n\u001b[1;32m    103\u001b[0m             \u001b[0mparent_run_id\u001b[0m\u001b[0;34m,\u001b[0m\u001b[0;34m\u001b[0m\u001b[0;34m\u001b[0m\u001b[0m\n\u001b[0;32m--> 104\u001b[0;31m             show_output)\n\u001b[0m\u001b[1;32m    105\u001b[0m \u001b[0;34m\u001b[0m\u001b[0m\n\u001b[1;32m    106\u001b[0m         \u001b[0mautoml_run\u001b[0m\u001b[0;34m.\u001b[0m\u001b[0madd_properties\u001b[0m\u001b[0;34m(\u001b[0m\u001b[0mglobal_tracking_info_registry\u001b[0m\u001b[0;34m.\u001b[0m\u001b[0mgather_all\u001b[0m\u001b[0;34m(\u001b[0m\u001b[0msettings\u001b[0m\u001b[0;34m.\u001b[0m\u001b[0mpath\u001b[0m\u001b[0;34m)\u001b[0m\u001b[0;34m)\u001b[0m\u001b[0;34m\u001b[0m\u001b[0;34m\u001b[0m\u001b[0m\n",
            "\u001b[0;32m/anaconda/envs/azureml_py36/lib/python3.6/site-packages/azureml/train/automl/automlconfig.py\u001b[0m in \u001b[0;36m_start_execution\u001b[0;34m(experiment, settings_obj, fit_params, run_config, compute_target, parent_run_id, show_output)\u001b[0m\n\u001b[1;32m    201\u001b[0m             package_utilities._get_package_incompatibilities(\n\u001b[1;32m    202\u001b[0m                 \u001b[0mpackages\u001b[0m\u001b[0;34m=\u001b[0m\u001b[0mpackage_utilities\u001b[0m\u001b[0;34m.\u001b[0m\u001b[0mAUTOML_PACKAGES\u001b[0m\u001b[0;34m,\u001b[0m\u001b[0;34m\u001b[0m\u001b[0;34m\u001b[0m\u001b[0m\n\u001b[0;32m--> 203\u001b[0;31m                 \u001b[0mignored_dependencies\u001b[0m\u001b[0;34m=\u001b[0m\u001b[0mpackage_utilities\u001b[0m\u001b[0;34m.\u001b[0m\u001b[0m_PACKAGES_TO_IGNORE_VERSIONS\u001b[0m\u001b[0;34m\u001b[0m\u001b[0;34m\u001b[0m\u001b[0m\n\u001b[0m\u001b[1;32m    204\u001b[0m             )\n\u001b[1;32m    205\u001b[0m         \u001b[0mautoml_run\u001b[0m \u001b[0;34m=\u001b[0m \u001b[0m_default_execution\u001b[0m\u001b[0;34m(\u001b[0m\u001b[0mexperiment\u001b[0m\u001b[0;34m,\u001b[0m \u001b[0msettings_obj\u001b[0m\u001b[0;34m,\u001b[0m \u001b[0mfit_params\u001b[0m\u001b[0;34m,\u001b[0m \u001b[0;32mTrue\u001b[0m\u001b[0;34m,\u001b[0m \u001b[0mshow_output\u001b[0m\u001b[0;34m,\u001b[0m \u001b[0mparent_run_id\u001b[0m\u001b[0;34m)\u001b[0m\u001b[0;34m\u001b[0m\u001b[0;34m\u001b[0m\u001b[0m\n",
            "\u001b[0;32m/anaconda/envs/azureml_py36/lib/python3.6/site-packages/azureml/automl/core/package_utilities.py\u001b[0m in \u001b[0;36m_get_package_incompatibilities\u001b[0;34m(packages, ignored_dependencies, is_databricks_run)\u001b[0m\n\u001b[1;32m    428\u001b[0m                         \u001b[0mmissing_packages_message\u001b[0m\u001b[0;34m=\u001b[0m\u001b[0;34m'\\n'\u001b[0m\u001b[0;34m.\u001b[0m\u001b[0mjoin\u001b[0m\u001b[0;34m(\u001b[0m\u001b[0mmessages\u001b[0m\u001b[0;34m)\u001b[0m\u001b[0;34m,\u001b[0m\u001b[0;34m\u001b[0m\u001b[0;34m\u001b[0m\u001b[0m\n\u001b[1;32m    429\u001b[0m                         \u001b[0mreference_code\u001b[0m\u001b[0;34m=\u001b[0m\u001b[0mReferenceCodes\u001b[0m\u001b[0;34m.\u001b[0m\u001b[0m_PACKAGE_INCOMPATIBILITIES_FOUND\u001b[0m\u001b[0;34m,\u001b[0m\u001b[0;34m\u001b[0m\u001b[0;34m\u001b[0m\u001b[0m\n\u001b[0;32m--> 430\u001b[0;31m                         \u001b[0mvalidated_requirements_file_path\u001b[0m\u001b[0;34m=\u001b[0m\u001b[0mVALIDATED_REQ_FILE_PATH\u001b[0m\u001b[0;34m\u001b[0m\u001b[0;34m\u001b[0m\u001b[0m\n\u001b[0m\u001b[1;32m    431\u001b[0m                     )\n\u001b[1;32m    432\u001b[0m                 )\n",
            "\u001b[0;31mValidationException\u001b[0m: ValidationException:\n\tMessage: Install the required versions of packages using the requirements file. Requirements file location: /anaconda/envs/azureml_py36/lib/python3.6/site-packages/azureml/automl/core/validated_linux_requirements.txt. Alternatively, use remote target to avoid dependency management. \nPackage name/Required version/Installed version\nazureml-train-automl-runtime/numpy<1.19.0,>=1.16.0/numpy 1.19.5\nazureml-automl-runtime/numpy<1.19.0,>=1.16.0/numpy 1.19.5\n\tInnerException: None\n\tErrorResponse \n{\n    \"error\": {\n        \"code\": \"UserError\",\n        \"message\": \"Install the required versions of packages using the requirements file. Requirements file location: /anaconda/envs/azureml_py36/lib/python3.6/site-packages/azureml/automl/core/validated_linux_requirements.txt. Alternatively, use remote target to avoid dependency management. \\nPackage name/Required version/Installed version\\nazureml-train-automl-runtime/numpy<1.19.0,>=1.16.0/numpy 1.19.5\\nazureml-automl-runtime/numpy<1.19.0,>=1.16.0/numpy 1.19.5\",\n        \"target\": \"azureml-train-automl-runtime,azureml-automl-runtime\",\n        \"inner_error\": {\n            \"code\": \"NotSupported\",\n            \"inner_error\": {\n                \"code\": \"IncompatibleOrMissingDependency\"\n            }\n        },\n        \"reference_code\": \"435ab938-fd87-49bc-932e-6eec0d6aee4f\"\n    }\n}"
          ]
        }
      ],
      "execution_count": 10,
      "metadata": {
        "collapsed": true,
        "jupyter": {
          "source_hidden": false,
          "outputs_hidden": false
        },
        "nteract": {
          "transient": {
            "deleting": false
          }
        },
        "gather": {
          "logged": 1614756129092
        }
      }
    },
    {
      "cell_type": "code",
      "source": [
        "best_run, fitted_model = remote_run.get_output()"
      ],
      "outputs": [],
      "execution_count": 50,
      "metadata": {
        "collapsed": true,
        "jupyter": {
          "source_hidden": false,
          "outputs_hidden": false
        },
        "nteract": {
          "transient": {
            "deleting": false
          }
        },
        "gather": {
          "logged": 1614756202661
        }
      }
    },
    {
      "cell_type": "code",
      "source": [
        "best_run.get_file_names()"
      ],
      "outputs": [
        {
          "output_type": "execute_result",
          "execution_count": 51,
          "data": {
            "text/plain": "['accuracy_table',\n 'confusion_matrix',\n 'explanation/173e30fe/classes.interpret.json',\n 'explanation/173e30fe/eval_data_viz.interpret.json',\n 'explanation/173e30fe/expected_values.interpret.json',\n 'explanation/173e30fe/features.interpret.json',\n 'explanation/173e30fe/global_names/0.interpret.json',\n 'explanation/173e30fe/global_rank/0.interpret.json',\n 'explanation/173e30fe/global_values/0.interpret.json',\n 'explanation/173e30fe/local_importance_values.interpret.json',\n 'explanation/173e30fe/per_class_names/0.interpret.json',\n 'explanation/173e30fe/per_class_rank/0.interpret.json',\n 'explanation/173e30fe/per_class_values/0.interpret.json',\n 'explanation/173e30fe/rich_metadata.interpret.json',\n 'explanation/173e30fe/visualization_dict.interpret.json',\n 'explanation/173e30fe/ys_pred_proba_viz.interpret.json',\n 'explanation/173e30fe/ys_pred_viz.interpret.json',\n 'explanation/d86ada26/classes.interpret.json',\n 'explanation/d86ada26/eval_data_viz.interpret.json',\n 'explanation/d86ada26/expected_values.interpret.json',\n 'explanation/d86ada26/features.interpret.json',\n 'explanation/d86ada26/global_names/0.interpret.json',\n 'explanation/d86ada26/global_rank/0.interpret.json',\n 'explanation/d86ada26/global_values/0.interpret.json',\n 'explanation/d86ada26/local_importance_values.interpret.json',\n 'explanation/d86ada26/per_class_names/0.interpret.json',\n 'explanation/d86ada26/per_class_rank/0.interpret.json',\n 'explanation/d86ada26/per_class_values/0.interpret.json',\n 'explanation/d86ada26/rich_metadata.interpret.json',\n 'explanation/d86ada26/visualization_dict.interpret.json',\n 'outputs/conda_env_v_1_0_0.yml',\n 'outputs/env_dependencies.json',\n 'outputs/internal_cross_validated_models.pkl',\n 'outputs/model.pkl',\n 'outputs/pipeline_graph.json',\n 'outputs/scoring_file_v_1_0_0.py']",
            "text/html": "['accuracy_table', 'confusion_matrix', 'explanation/173e30fe/classes.interpret.json', 'explanation/173e30fe/eval_data_viz.interpret.json', 'explanation/173e30fe/expected_values.interpret.json', 'explanation/173e30fe/features.interpret.json', 'explanation/173e30fe/global_names/0.interpret.json', 'explanation/173e30fe/global_rank/0.interpret.json', 'explanation/173e30fe/global_values/0.interpret.json', 'explanation/173e30fe/local_importance_values.interpret.json', 'explanation/173e30fe/per_class_names/0.interpret.json', 'explanation/173e30fe/per_class_rank/0.interpret.json', 'explanation/173e30fe/per_class_values/0.interpret.json', 'explanation/173e30fe/rich_metadata.interpret.json', 'explanation/173e30fe/visualization_dict.interpret.json', 'explanation/173e30fe/ys_pred_proba_viz.interpret.json', 'explanation/173e30fe/ys_pred_viz.interpret.json', 'explanation/d86ada26/classes.interpret.json', 'explanation/d86ada26/eval_data_viz.interpret.json', 'explanation/d86ada26/expected_values.interpret.json', 'explanation/d86ada26/features.interpret.json', 'explanation/d86ada26/global_names/0.interpret.json', 'explanation/d86ada26/global_rank/0.interpret.json', 'explanation/d86ada26/global_values/0.interpret.json', 'explanation/d86ada26/local_importance_values.interpret.json', 'explanation/d86ada26/per_class_names/0.interpret.json', 'explanation/d86ada26/per_class_rank/0.interpret.json', 'explanation/d86ada26/per_class_values/0.interpret.json', 'explanation/d86ada26/rich_metadata.interpret.json', 'explanation/d86ada26/visualization_dict.interpret.json', 'outputs/conda_env_v_1_0_0.yml', 'outputs/env_dependencies.json', 'outputs/internal_cross_validated_models.pkl', 'outputs/model.pkl', 'outputs/pipeline_graph.json', 'outputs/scoring_file_v_1_0_0.py']"
          },
          "metadata": {}
        }
      ],
      "execution_count": 51,
      "metadata": {
        "collapsed": true,
        "jupyter": {
          "source_hidden": false,
          "outputs_hidden": false
        },
        "nteract": {
          "transient": {
            "deleting": false
          }
        },
        "gather": {
          "logged": 1614756204666
        }
      }
    },
    {
      "cell_type": "code",
      "source": [
        "best_run.get_file_names()[-3]"
      ],
      "outputs": [
        {
          "output_type": "execute_result",
          "execution_count": 52,
          "data": {
            "text/plain": "'outputs/model.pkl'"
          },
          "metadata": {}
        }
      ],
      "execution_count": 52,
      "metadata": {
        "collapsed": true,
        "jupyter": {
          "source_hidden": false,
          "outputs_hidden": false
        },
        "nteract": {
          "transient": {
            "deleting": false
          }
        },
        "gather": {
          "logged": 1614756209094
        }
      }
    },
    {
      "cell_type": "code",
      "source": [
        "import pickle"
      ],
      "outputs": [],
      "execution_count": 53,
      "metadata": {
        "collapsed": true,
        "jupyter": {
          "source_hidden": false,
          "outputs_hidden": false
        },
        "nteract": {
          "transient": {
            "deleting": false
          }
        },
        "gather": {
          "logged": 1614756211751
        }
      }
    },
    {
      "cell_type": "code",
      "source": [
        "best_run.download_file('outputs/model.pkl', './outputs/automlmodel.pkl')"
      ],
      "outputs": [],
      "execution_count": 54,
      "metadata": {
        "collapsed": true,
        "jupyter": {
          "source_hidden": false,
          "outputs_hidden": false
        },
        "nteract": {
          "transient": {
            "deleting": false
          }
        },
        "gather": {
          "logged": 1614756213244
        }
      }
    },
    {
      "cell_type": "code",
      "source": [
        "import joblib\r\n",
        "joblib.load(filename='outputs/automlmodel.pkl')"
      ],
      "outputs": [
        {
          "output_type": "execute_result",
          "execution_count": 55,
          "data": {
            "text/plain": "Pipeline(memory=None,\n         steps=[('datatransformer',\n                 DataTransformer(enable_dnn=None, enable_feature_sweeping=None,\n                                 feature_sweeping_config=None,\n                                 feature_sweeping_timeout=None,\n                                 featurization_config=None, force_text_dnn=None,\n                                 is_cross_validation=None,\n                                 is_onnx_compatible=None, logger=None,\n                                 observer=None, task=None, working_dir=None)),\n                ('prefittedsoftvotingclassifier',...\n                                                                                                    max_samples=None,\n                                                                                                    min_impurity_decrease=0.0,\n                                                                                                    min_impurity_split=None,\n                                                                                                    min_samples_leaf=0.1131578947368421,\n                                                                                                    min_samples_split=0.19736842105263158,\n                                                                                                    min_weight_fraction_leaf=0.0,\n                                                                                                    n_estimators=100,\n                                                                                                    n_jobs=1,\n                                                                                                    oob_score=False,\n                                                                                                    random_state=None,\n                                                                                                    verbose=0,\n                                                                                                    warm_start=False))],\n                                                                     verbose=False))],\n                                               flatten_transform=None,\n                                               weights=[0.2, 0.1, 0.1, 0.1, 0.1,\n                                                        0.1, 0.2, 0.1]))],\n         verbose=False)"
          },
          "metadata": {}
        }
      ],
      "execution_count": 55,
      "metadata": {
        "gather": {
          "logged": 1614756215055
        },
        "jupyter": {
          "outputs_hidden": false,
          "source_hidden": false
        },
        "nteract": {
          "transient": {
            "deleting": false
          }
        }
      }
    },
    {
      "cell_type": "code",
      "source": [
        "from azureml.core.model import Model\r\n",
        "model = Model.register(model_name='automl-model', model_path='outputs/automlmodel.pkl', workspace=ws)"
      ],
      "outputs": [
        {
          "output_type": "stream",
          "name": "stdout",
          "text": [
            "Registering model automl-model\n"
          ]
        }
      ],
      "execution_count": 56,
      "metadata": {
        "collapsed": true,
        "jupyter": {
          "source_hidden": false,
          "outputs_hidden": false
        },
        "nteract": {
          "transient": {
            "deleting": false
          }
        },
        "gather": {
          "logged": 1614756252910
        }
      }
    },
    {
      "cell_type": "code",
      "source": [
        "import sklearn\r\n",
        "\r\n",
        "from azureml.core.environment import Environment\r\n",
        "\r\n",
        "# environment = Environment(\"LocalDeploy\")\r\n",
        "environment = Environment.get(workspace=ws, name=\"AzureML-AutoML\")\r\n",
        "\r\n",
        "environment.python.conda_dependencies.add_pip_package(\"inference-schema[numpy-support]\")\r\n",
        "environment.python.conda_dependencies.add_pip_package(\"joblib\")\r\n",
        "environment.python.conda_dependencies.add_pip_package(\"scikit-learn=={}\".format(sklearn.__version__))"
      ],
      "outputs": [],
      "execution_count": 57,
      "metadata": {
        "collapsed": true,
        "jupyter": {
          "source_hidden": false,
          "outputs_hidden": false
        },
        "nteract": {
          "transient": {
            "deleting": false
          }
        },
        "gather": {
          "logged": 1614756255723
        }
      }
    },
    {
      "cell_type": "code",
      "source": [
        "# %%writefile score.py\r\n",
        "\r\n",
        "import json\r\n",
        "import numpy as np\r\n",
        "import pandas as pd\r\n",
        "import os\r\n",
        "import joblib\r\n",
        "import pickle\r\n",
        "\r\n",
        "def init():\r\n",
        "    global model\r\n",
        "    model_path = os.path.join(os.getenv('AZUREML_MODEL_DIR'), 'automlmodel.pkl')\r\n",
        "    print(\"Found model:\", os.path.isfile(model_path)) #To check whether the model is actually present on the location we are looking at\r\n",
        "    model = joblib.load(model_path)\r\n",
        "def run(data):\r\n",
        "    try:\r\n",
        "        data = json.loads(data)['data']\r\n",
        "        data = pd.DataFrame.from_dict(data)\r\n",
        "        result = model.predict(data)\r\n",
        "        return result.tolist()\r\n",
        "    except Exception as e:\r\n",
        "        error = str(e)\r\n",
        "        return error"
      ],
      "outputs": [
        {
          "output_type": "stream",
          "name": "stdout",
          "text": [
            "Writing score.py\n"
          ]
        }
      ],
      "execution_count": 29,
      "metadata": {
        "collapsed": true,
        "jupyter": {
          "source_hidden": false,
          "outputs_hidden": false
        },
        "nteract": {
          "transient": {
            "deleting": false
          }
        },
        "gather": {
          "logged": 1614447612039
        }
      }
    },
    {
      "cell_type": "code",
      "source": [
        "pip install inference-schema"
      ],
      "outputs": [
        {
          "output_type": "stream",
          "name": "stdout",
          "text": [
            "Collecting inference-schema\n",
            "  Downloading inference_schema-1.1.0-py3-none-any.whl (19 kB)\n",
            "Requirement already satisfied: python-dateutil>=2.5.3 in /anaconda/envs/azureml_py36/lib/python3.6/site-packages (from inference-schema) (2.8.1)\n",
            "Collecting wrapt==1.11.1\n",
            "  Downloading wrapt-1.11.1.tar.gz (27 kB)\n",
            "Requirement already satisfied: pytz>=2017.2 in /anaconda/envs/azureml_py36/lib/python3.6/site-packages (from inference-schema) (2021.1)\n",
            "Requirement already satisfied: six>=1.5 in /anaconda/envs/azureml_py36/lib/python3.6/site-packages (from python-dateutil>=2.5.3->inference-schema) (1.15.0)\n",
            "Building wheels for collected packages: wrapt\n",
            "  Building wheel for wrapt (setup.py) ... \u001b[?25l-\b \b\\\b \b|\b \bdone\n",
            "\u001b[?25h  Created wheel for wrapt: filename=wrapt-1.11.1-cp36-cp36m-linux_x86_64.whl size=66568 sha256=dc555869bae724742a3086ce36b797a4f962aec9399724c64358b0e79a5ac85a\n",
            "  Stored in directory: /home/azureuser/.cache/pip/wheels/94/0f/ec/66085641573800014bb0c8b657f3366eff641c42df79abbfe9\n",
            "Successfully built wrapt\n",
            "\u001b[31mERROR: tensorflow 2.1.0 has requirement scipy==1.4.1; python_version >= \"3\", but you'll have scipy 1.5.2 which is incompatible.\u001b[0m\n",
            "\u001b[31mERROR: tensorflow-gpu 2.1.0 has requirement scipy==1.4.1; python_version >= \"3\", but you'll have scipy 1.5.2 which is incompatible.\u001b[0m\n",
            "\u001b[31mERROR: autokeras 1.0.12 has requirement tensorflow>=2.3.0, but you'll have tensorflow 2.1.0 which is incompatible.\u001b[0m\n",
            "Installing collected packages: wrapt, inference-schema\n",
            "  Attempting uninstall: wrapt\n",
            "    Found existing installation: wrapt 1.12.1\n",
            "    Uninstalling wrapt-1.12.1:\n",
            "      Successfully uninstalled wrapt-1.12.1\n",
            "Successfully installed inference-schema-1.1.0 wrapt-1.11.1\n",
            "Note: you may need to restart the kernel to use updated packages.\n"
          ]
        }
      ],
      "execution_count": 60,
      "metadata": {
        "collapsed": true,
        "jupyter": {
          "source_hidden": false,
          "outputs_hidden": false
        },
        "nteract": {
          "transient": {
            "deleting": false
          }
        },
        "gather": {
          "logged": 1614756475239
        }
      }
    },
    {
      "cell_type": "code",
      "source": [
        "%%writefile score.py\r\n",
        "\r\n",
        "import json\r\n",
        "import numpy as np\r\n",
        "import pandas as pd\r\n",
        "import os\r\n",
        "import joblib\r\n",
        "import pickle\r\n",
        "\r\n",
        "from inference_schema.schema_decorators import input_schema, output_schema\r\n",
        "from inference_schema.parameter_types.numpy_parameter_type import NumpyParameterType\r\n",
        "from inference_schema.parameter_types.pandas_parameter_type import PandasParameterType\r\n",
        "\r\n",
        "input_sample = pd.DataFrame({\"age\": pd.Series([0.0], dtype=\"float64\"), \"anaemia\": pd.Series([0], dtype=\"int64\"), \"creatinine_phosphokinase\": pd.Series([0.0], dtype=\"float64\"), \"diabetes\": pd.Series([0], dtype=\"int64\"), \"ejection_fraction\": pd.Series([0.0], dtype=\"float64\"), \"high_blood_pressure\": pd.Series([0], dtype=\"int64\"), \"platelets\": pd.Series([0.0], dtype=\"float64\"), \"serum_creatinine\": pd.Series([0.0], dtype=\"float64\"), \"serum_sodium\": pd.Series([0.0], dtype=\"float64\"), \"sex\": pd.Series([0], dtype=\"int64\"), \"smoking\": pd.Series([0], dtype=\"int64\"), \"time\": pd.Series([0.0], dtype=\"float64\")})\r\n",
        "output_sample = np.array([0])\r\n",
        "\r\n",
        "\r\n",
        "def init():\r\n",
        "    global model\r\n",
        "    model_path = os.path.join(os.getenv('AZUREML_MODEL_DIR'), 'automlmodel.pkl')\r\n",
        "    print(\"Found model:\", os.path.isfile(model_path)) #To check whether the model is actually present on the location we are looking at\r\n",
        "    model = joblib.load(model_path)\r\n",
        "\r\n",
        "@input_schema('data', PandasParameterType(input_sample))\r\n",
        "@output_schema(NumpyParameterType(output_sample))\r\n",
        "\r\n",
        "def run(data):\r\n",
        "    try:\r\n",
        "        data = json.loads(data)['data']\r\n",
        "        data = pd.DataFrame.from_dict(data)\r\n",
        "        result = model.predict(data)\r\n",
        "        return result.tolist()\r\n",
        "    except Exception as e:\r\n",
        "        error = str(e)\r\n",
        "        return error        "
      ],
      "outputs": [
        {
          "output_type": "stream",
          "name": "stdout",
          "text": [
            "Overwriting score.py\n"
          ]
        }
      ],
      "execution_count": 69,
      "metadata": {
        "collapsed": true,
        "jupyter": {
          "source_hidden": false,
          "outputs_hidden": false
        },
        "nteract": {
          "transient": {
            "deleting": false
          }
        },
        "gather": {
          "logged": 1614756483452
        }
      }
    },
    {
      "cell_type": "code",
      "source": [
        "model"
      ],
      "outputs": [
        {
          "output_type": "execute_result",
          "execution_count": 88,
          "data": {
            "text/plain": "Model(workspace=Workspace.create(name='quick-starts-ws-139731', subscription_id='d4ad7261-832d-46b2-b093-22156001df5b', resource_group='aml-quickstarts-139731'), name=automl-model, id=automl-model:1, version=1, tags={}, properties={})"
          },
          "metadata": {}
        }
      ],
      "execution_count": 88,
      "metadata": {
        "collapsed": true,
        "jupyter": {
          "source_hidden": false,
          "outputs_hidden": false
        },
        "nteract": {
          "transient": {
            "deleting": false
          }
        },
        "gather": {
          "logged": 1614758855087
        }
      }
    },
    {
      "cell_type": "code",
      "source": [
        "Model(ws, 'automl-model')"
      ],
      "outputs": [
        {
          "output_type": "execute_result",
          "execution_count": 89,
          "data": {
            "text/plain": "Model(workspace=Workspace.create(name='quick-starts-ws-139731', subscription_id='d4ad7261-832d-46b2-b093-22156001df5b', resource_group='aml-quickstarts-139731'), name=automl-model, id=automl-model:1, version=1, tags={}, properties={})"
          },
          "metadata": {}
        }
      ],
      "execution_count": 89,
      "metadata": {
        "collapsed": true,
        "jupyter": {
          "source_hidden": false,
          "outputs_hidden": false
        },
        "nteract": {
          "transient": {
            "deleting": false
          }
        },
        "gather": {
          "logged": 1614758856264
        }
      }
    },
    {
      "cell_type": "code",
      "source": [
        "from azureml.core.webservice import AciWebservice\r\n",
        "from azureml.core.model import InferenceConfig\r\n",
        "\r\n",
        "deployment_config = AciWebservice.deploy_configuration(cpu_cores = 1, memory_gb = 1,  enable_app_insights=True, auth_enabled=True)\r\n",
        "\r\n",
        "from azureml.core.webservice import LocalWebservice, Webservice\r\n",
        "inference_config = InferenceConfig(entry_script='score.py',\r\n",
        "                                    environment=environment)\r\n",
        "# deployment_config = LocalWebservice.deploy_configuration(port=8890)\r\n",
        "service = Model.deploy(ws, \"test3\", [model], inference_config, deployment_config)\r\n",
        "service.wait_for_deployment(show_output = True)\r\n",
        "print(service.state)\r\n",
        "print(service.scoring_uri)\r\n",
        "print(service.swagger_uri)"
      ],
      "outputs": [
        {
          "output_type": "stream",
          "name": "stdout",
          "text": [
            "Tips: You can try get_logs(): https://aka.ms/debugimage#dockerlog or local deployment: https://aka.ms/debugimage#debug-locally to debug if deployment takes longer than 10 minutes.\n",
            "Running.........................................\n",
            "Succeeded\n",
            "ACI service creation operation finished, operation \"Succeeded\"\n",
            "Healthy\n",
            "http://d3c13110-60ba-49a5-9888-d9eda056b386.southcentralus.azurecontainer.io/score\n",
            "http://d3c13110-60ba-49a5-9888-d9eda056b386.southcentralus.azurecontainer.io/swagger.json\n"
          ]
        }
      ],
      "execution_count": 91,
      "metadata": {
        "collapsed": true,
        "jupyter": {
          "source_hidden": false,
          "outputs_hidden": false
        },
        "nteract": {
          "transient": {
            "deleting": false
          }
        },
        "gather": {
          "logged": 1614759076216
        }
      }
    },
    {
      "cell_type": "code",
      "source": [
        "primary, secondary = service.get_keys()\r\n",
        "print(primary)"
      ],
      "outputs": [
        {
          "output_type": "stream",
          "name": "stdout",
          "text": [
            "6k9FfXS5JHrLkswumRlve8iKAlO9NOkC\n"
          ]
        }
      ],
      "execution_count": 92,
      "metadata": {
        "collapsed": true,
        "jupyter": {
          "source_hidden": false,
          "outputs_hidden": false
        },
        "nteract": {
          "transient": {
            "deleting": false
          }
        },
        "gather": {
          "logged": 1614759085024
        }
      }
    },
    {
      "cell_type": "code",
      "source": [
        "import requests\r\n",
        "import json\r\n",
        "\r\n",
        "scoring_uri = 'http://d3c13110-60ba-49a5-9888-d9eda056b386.southcentralus.azurecontainer.io/score'\r\n",
        "\r\n",
        "key = '6k9FfXS5JHrLkswumRlve8iKAlO9NOkC'\r\n",
        "\r\n",
        "\r\n",
        "# Sample data to send to the service\r\n",
        "data = json.dumps(\r\n",
        "    {\"data\":\r\n",
        "            [\r\n",
        "                {\r\n",
        "                    'age': 75.0,\r\n",
        "                    'anaemia': 0,\r\n",
        "                    'creatinine_phosphokinase': 582,\r\n",
        "                    'diabetes': 0,\r\n",
        "                    'ejection_fraction': 20,\r\n",
        "                    'high_blood_pressure': 1,\r\n",
        "                    'platelets': 265000.0,\r\n",
        "                    'serum_creatinine': 1.9,\r\n",
        "                    'serum_sodium': 130,\r\n",
        "                    'sex': 1,\r\n",
        "                    'smoking': 0,\r\n",
        "                    'time': 4\r\n",
        "                },\r\n",
        "                {\r\n",
        "                    'age': 55.0,\r\n",
        "                    'anaemia': 0,\r\n",
        "                    'creatinine_phosphokinase': 7861,\r\n",
        "                    'diabetes': 0,\r\n",
        "                    'ejection_fraction': 38,\r\n",
        "                    'high_blood_pressure': 0,\r\n",
        "                    'platelets': 263358.03,\r\n",
        "                    'serum_creatinine': 1.1,\r\n",
        "                    'serum_sodium': 136,\r\n",
        "                    'sex': 1,\r\n",
        "                    'smoking': 0,\r\n",
        "                    'time': 6\r\n",
        "                }\r\n",
        "            ] \r\n",
        "        }\r\n",
        ")\r\n",
        "                \r\n",
        "\r\n",
        "headers = {'Content-Type': 'application/json'}\r\n",
        "\r\n",
        "headers['Authorization'] = f'Bearer {key}'\r\n",
        "\r\n",
        "resp = requests.post(scoring_uri, data, headers=headers)\r\n",
        "print(resp.text)"
      ],
      "outputs": [
        {
          "output_type": "stream",
          "name": "stdout",
          "text": [
            "\"{\\\"result\\\": [0, 0]}\"\n"
          ]
        }
      ],
      "execution_count": 94,
      "metadata": {
        "collapsed": true,
        "jupyter": {
          "source_hidden": false,
          "outputs_hidden": false
        },
        "nteract": {
          "transient": {
            "deleting": false
          }
        },
        "gather": {
          "logged": 1614759160354
        }
      }
    },
    {
      "cell_type": "markdown",
      "source": [
        "## Best Model\n",
        "\n",
        "TODO: In the cell below, get the best model from the automl experiments and display all the properties of the model.\n",
        "\n"
      ],
      "metadata": {}
    },
    {
      "cell_type": "code",
      "source": [
        "from azureml.core.webservice import LocalWebservice\r\n",
        "from azureml.core.model import InferenceConfig\r\n",
        "inference_config = InferenceConfig(entry_script='score.py', environment=environment) \r\n",
        "\r\n",
        "# This is optional, if not provided Docker will choose a random unused port.\r\n",
        "deployment_config = LocalWebservice.deploy_configuration(port=1234)\r\n",
        "\r\n",
        "local_service = Model.deploy(ws, \"deeploy\", [model], inference_config, deployment_config)\r\n",
        "\r\n",
        "local_service.wait_for_deployment()"
      ],
      "outputs": [],
      "execution_count": null,
      "metadata": {
        "collapsed": true,
        "jupyter": {
          "source_hidden": false,
          "outputs_hidden": false
        },
        "nteract": {
          "transient": {
            "deleting": false
          }
        }
      }
    },
    {
      "cell_type": "code",
      "source": [
        "print('Local service port: {}'.format(local_service.port))"
      ],
      "outputs": [
        {
          "output_type": "stream",
          "name": "stdout",
          "text": [
            "Local service port: 1234\n"
          ]
        }
      ],
      "execution_count": 40,
      "metadata": {
        "gather": {
          "logged": 1614583574504
        },
        "jupyter": {
          "outputs_hidden": false,
          "source_hidden": false
        },
        "nteract": {
          "transient": {
            "deleting": false
          }
        }
      }
    },
    {
      "cell_type": "code",
      "source": [
        "import json\r\n",
        "\r\n",
        "sample_input = json.dumps(\r\n",
        "    {\"data\":\r\n",
        "            [\r\n",
        "                {\r\n",
        "                    'age': 75.0,\r\n",
        "                    'anaemia': 0,\r\n",
        "                    'creatinine_phosphokinase': 582,\r\n",
        "                    'diabetes': 0,\r\n",
        "                    'ejection_fraction': 20,\r\n",
        "                    'high_blood_pressure': 1,\r\n",
        "                    'platelets': 265000.0,\r\n",
        "                    'serum_creatinine': 1.9,\r\n",
        "                    'serum_sodium': 130,\r\n",
        "                    'sex': 1,\r\n",
        "                    'smoking': 0,\r\n",
        "                    'time': 4\r\n",
        "                },\r\n",
        "                {\r\n",
        "                    'age': 55.0,\r\n",
        "                    'anaemia': 0,\r\n",
        "                    'creatinine_phosphokinase': 7861,\r\n",
        "                    'diabetes': 0,\r\n",
        "                    'ejection_fraction': 38,\r\n",
        "                    'high_blood_pressure': 0,\r\n",
        "                    'platelets': 263358.03,\r\n",
        "                    'serum_creatinine': 1.1,\r\n",
        "                    'serum_sodium': 136,\r\n",
        "                    'sex': 1,\r\n",
        "                    'smoking': 0,\r\n",
        "                    'time': 6\r\n",
        "                }\r\n",
        "            ] \r\n",
        "        }\r\n",
        ")\r\n",
        "\r\n",
        "local_service.run(sample_input)"
      ],
      "outputs": [
        {
          "output_type": "execute_result",
          "execution_count": 41,
          "data": {
            "text/plain": "[0, 0]",
            "text/html": "[0, 0]"
          },
          "metadata": {}
        }
      ],
      "execution_count": 41,
      "metadata": {
        "gather": {
          "logged": 1614583585881
        },
        "jupyter": {
          "outputs_hidden": false,
          "source_hidden": false
        },
        "nteract": {
          "transient": {
            "deleting": false
          }
        }
      }
    },
    {
      "cell_type": "markdown",
      "source": [
        "TODO: In the cell below, send a request to the web service you deployed to test it."
      ],
      "metadata": {
        "collapsed": true,
        "gather": {
          "logged": 1598431657736
        },
        "jupyter": {
          "outputs_hidden": false,
          "source_hidden": false
        },
        "nteract": {
          "transient": {
            "deleting": false
          }
        }
      }
    },
    {
      "cell_type": "code",
      "source": [],
      "outputs": [],
      "execution_count": null,
      "metadata": {
        "gather": {
          "logged": 1598432707604
        },
        "jupyter": {
          "outputs_hidden": false,
          "source_hidden": false
        },
        "nteract": {
          "transient": {
            "deleting": false
          }
        }
      }
    },
    {
      "cell_type": "markdown",
      "source": [
        "TODO: In the cell below, print the logs of the web service and delete the service"
      ],
      "metadata": {
        "collapsed": true,
        "gather": {
          "logged": 1598432765711
        },
        "jupyter": {
          "outputs_hidden": false,
          "source_hidden": false
        },
        "nteract": {
          "transient": {
            "deleting": false
          }
        }
      }
    },
    {
      "cell_type": "code",
      "source": [],
      "outputs": [],
      "execution_count": null,
      "metadata": {
        "jupyter": {
          "outputs_hidden": false,
          "source_hidden": false
        },
        "nteract": {
          "transient": {
            "deleting": false
          }
        }
      }
    }
  ],
  "metadata": {
    "kernel_info": {
      "name": "python3-azureml"
    },
    "kernelspec": {
      "name": "python3-azureml",
      "language": "python",
      "display_name": "Python 3.6 - AzureML"
    },
    "language_info": {
      "name": "python",
      "version": "3.6.9",
      "mimetype": "text/x-python",
      "codemirror_mode": {
        "name": "ipython",
        "version": 3
      },
      "pygments_lexer": "ipython3",
      "nbconvert_exporter": "python",
      "file_extension": ".py"
    },
    "nteract": {
      "version": "nteract-front-end@1.0.0"
    },
    "microsoft": {
      "host": {
        "AzureML": {
          "notebookHasBeenCompleted": true
        }
      }
    }
  },
  "nbformat": 4,
  "nbformat_minor": 2
}