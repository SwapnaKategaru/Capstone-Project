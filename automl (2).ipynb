{
  "cells": [
    {
      "cell_type": "markdown",
      "source": [
        "# Automated ML\n",
        "\n",
        "TODO: Import Dependencies. In the cell below, import all the dependencies that you will need to complete the project."
      ],
      "metadata": {}
    },
    {
      "cell_type": "code",
      "source": [
        "pip install azureml-train-automl-runtime==1.20.0"
      ],
      "outputs": [
        {
          "output_type": "stream",
          "name": "stdout",
          "text": [
            "Requirement already satisfied: azureml-train-automl-runtime==1.20.0 in /anaconda/envs/azureml_py36/lib/python3.6/site-packages (1.20.0)\n",
            "Requirement already satisfied: jinja2<=2.11.2 in /anaconda/envs/azureml_py36/lib/python3.6/site-packages (from azureml-train-automl-runtime==1.20.0) (2.11.2)\n",
            "Requirement already satisfied: statsmodels<=0.10.2,>=0.9.0 in /anaconda/envs/azureml_py36/lib/python3.6/site-packages (from azureml-train-automl-runtime==1.20.0) (0.10.2)\n",
            "Requirement already satisfied: onnxmltools==1.4.1 in /anaconda/envs/azureml_py36/lib/python3.6/site-packages (from azureml-train-automl-runtime==1.20.0) (1.4.1)\n",
            "Requirement already satisfied: keras2onnx<=1.6.0,>=1.4.0 in /anaconda/envs/azureml_py36/lib/python3.6/site-packages (from azureml-train-automl-runtime==1.20.0) (1.6.0)\n",
            "Requirement already satisfied: smart-open<=1.9.0 in /anaconda/envs/azureml_py36/lib/python3.6/site-packages (from azureml-train-automl-runtime==1.20.0) (1.9.0)\n",
            "Requirement already satisfied: sklearn-pandas<=1.7.0,>=1.4.0 in /anaconda/envs/azureml_py36/lib/python3.6/site-packages (from azureml-train-automl-runtime==1.20.0) (1.7.0)\n",
            "Requirement already satisfied: scipy<=1.5.2,>=1.0.0 in /anaconda/envs/azureml_py36/lib/python3.6/site-packages (from azureml-train-automl-runtime==1.20.0) (1.5.2)\n",
            "Requirement already satisfied: lightgbm<=2.3.0,>=2.0.11 in /anaconda/envs/azureml_py36/lib/python3.6/site-packages (from azureml-train-automl-runtime==1.20.0) (2.3.0)\n",
            "Requirement already satisfied: boto3<=1.15.18 in /anaconda/envs/azureml_py36/lib/python3.6/site-packages (from azureml-train-automl-runtime==1.20.0) (1.15.18)\n",
            "Requirement already satisfied: azureml-train-automl-client~=1.20.0 in /anaconda/envs/azureml_py36/lib/python3.6/site-packages (from azureml-train-automl-runtime==1.20.0) (1.20.0)\n",
            "Requirement already satisfied: onnxconverter-common<=1.6.0,>=1.4.2 in /anaconda/envs/azureml_py36/lib/python3.6/site-packages (from azureml-train-automl-runtime==1.20.0) (1.6.0)\n",
            "Requirement already satisfied: azure-storage-queue~=12.1 in /anaconda/envs/azureml_py36/lib/python3.6/site-packages (from azureml-train-automl-runtime==1.20.0) (12.1.4)\n",
            "Requirement already satisfied: azureml-telemetry~=1.20.0 in /anaconda/envs/azureml_py36/lib/python3.6/site-packages (from azureml-train-automl-runtime==1.20.0) (1.20.0)\n",
            "Requirement already satisfied: azureml-automl-core~=1.20.0 in /anaconda/envs/azureml_py36/lib/python3.6/site-packages (from azureml-train-automl-runtime==1.20.0) (1.20.0)\n",
            "Requirement already satisfied: azureml-dataset-runtime[fuse,pandas]~=1.20.0 in /anaconda/envs/azureml_py36/lib/python3.6/site-packages (from azureml-train-automl-runtime==1.20.0) (1.20.0)\n",
            "Requirement already satisfied: numpy<1.19.0,>=1.16.0 in /anaconda/envs/azureml_py36/lib/python3.6/site-packages (from azureml-train-automl-runtime==1.20.0) (1.18.5)\n",
            "Requirement already satisfied: azureml-core~=1.20.0 in /anaconda/envs/azureml_py36/lib/python3.6/site-packages (from azureml-train-automl-runtime==1.20.0) (1.20.0)\n",
            "Requirement already satisfied: onnxruntime==1.3.0 in /anaconda/envs/azureml_py36/lib/python3.6/site-packages (from azureml-train-automl-runtime==1.20.0) (1.3.0)\n",
            "Requirement already satisfied: gensim<3.9.0 in /anaconda/envs/azureml_py36/lib/python3.6/site-packages (from azureml-train-automl-runtime==1.20.0) (3.8.3)\n",
            "Requirement already satisfied: pandas<1.0.0,>=0.21.0 in /anaconda/envs/azureml_py36/lib/python3.6/site-packages (from azureml-train-automl-runtime==1.20.0) (0.25.3)\n",
            "Requirement already satisfied: skl2onnx==1.4.9 in /anaconda/envs/azureml_py36/lib/python3.6/site-packages (from azureml-train-automl-runtime==1.20.0) (1.4.9)\n",
            "Requirement already satisfied: scikit-learn<0.23.0,>=0.19.0 in /anaconda/envs/azureml_py36/lib/python3.6/site-packages (from azureml-train-automl-runtime==1.20.0) (0.22.2.post1)\n",
            "Requirement already satisfied: azureml-defaults~=1.20.0 in /anaconda/envs/azureml_py36/lib/python3.6/site-packages (from azureml-train-automl-runtime==1.20.0) (1.20.0)\n",
            "Requirement already satisfied: azureml-automl-runtime~=1.20.0 in /anaconda/envs/azureml_py36/lib/python3.6/site-packages (from azureml-train-automl-runtime==1.20.0) (1.20.0)\n",
            "Requirement already satisfied: botocore<=1.18.18 in /anaconda/envs/azureml_py36/lib/python3.6/site-packages (from azureml-train-automl-runtime==1.20.0) (1.18.18)\n",
            "Requirement already satisfied: azureml-interpret~=1.20.0 in /anaconda/envs/azureml_py36/lib/python3.6/site-packages (from azureml-train-automl-runtime==1.20.0) (1.20.0)\n",
            "Requirement already satisfied: onnx<=1.7.0,>=1.5.0 in /anaconda/envs/azureml_py36/lib/python3.6/site-packages (from azureml-train-automl-runtime==1.20.0) (1.7.0)\n",
            "Requirement already satisfied: MarkupSafe>=0.23 in /anaconda/envs/azureml_py36/lib/python3.6/site-packages (from jinja2<=2.11.2->azureml-train-automl-runtime==1.20.0) (1.1.1)\n",
            "Requirement already satisfied: patsy>=0.4.0 in /anaconda/envs/azureml_py36/lib/python3.6/site-packages (from statsmodels<=0.10.2,>=0.9.0->azureml-train-automl-runtime==1.20.0) (0.5.1)\n",
            "Requirement already satisfied: six in /anaconda/envs/azureml_py36/lib/python3.6/site-packages (from onnxmltools==1.4.1->azureml-train-automl-runtime==1.20.0) (1.15.0)\n",
            "Requirement already satisfied: protobuf in /anaconda/envs/azureml_py36/lib/python3.6/site-packages (from onnxmltools==1.4.1->azureml-train-automl-runtime==1.20.0) (3.14.0)\n",
            "Requirement already satisfied: fire in /anaconda/envs/azureml_py36/lib/python3.6/site-packages (from keras2onnx<=1.6.0,>=1.4.0->azureml-train-automl-runtime==1.20.0) (0.3.1)\n",
            "Requirement already satisfied: requests in /anaconda/envs/azureml_py36/lib/python3.6/site-packages (from keras2onnx<=1.6.0,>=1.4.0->azureml-train-automl-runtime==1.20.0) (2.25.1)\n",
            "Requirement already satisfied: boto>=2.32 in /anaconda/envs/azureml_py36/lib/python3.6/site-packages (from smart-open<=1.9.0->azureml-train-automl-runtime==1.20.0) (2.49.0)\n",
            "Requirement already satisfied: jmespath<1.0.0,>=0.7.1 in /anaconda/envs/azureml_py36/lib/python3.6/site-packages (from boto3<=1.15.18->azureml-train-automl-runtime==1.20.0) (0.10.0)\n",
            "Requirement already satisfied: s3transfer<0.4.0,>=0.3.0 in /anaconda/envs/azureml_py36/lib/python3.6/site-packages (from boto3<=1.15.18->azureml-train-automl-runtime==1.20.0) (0.3.3)\n",
            "Requirement already satisfied: msrest>=0.6.10 in /anaconda/envs/azureml_py36/lib/python3.6/site-packages (from azure-storage-queue~=12.1->azureml-train-automl-runtime==1.20.0) (0.6.19)\n",
            "Requirement already satisfied: cryptography>=2.1.4 in /anaconda/envs/azureml_py36/lib/python3.6/site-packages (from azure-storage-queue~=12.1->azureml-train-automl-runtime==1.20.0) (3.3.1)\n",
            "Requirement already satisfied: azure-core<2.0.0,>=1.9.0 in /anaconda/envs/azureml_py36/lib/python3.6/site-packages (from azure-storage-queue~=12.1->azureml-train-automl-runtime==1.20.0) (1.9.0)\n",
            "Requirement already satisfied: applicationinsights in /anaconda/envs/azureml_py36/lib/python3.6/site-packages (from azureml-telemetry~=1.20.0->azureml-train-automl-runtime==1.20.0) (0.11.9)\n",
            "Requirement already satisfied: pyarrow<2.0.0,>=0.17.0 in /anaconda/envs/azureml_py36/lib/python3.6/site-packages (from azureml-dataset-runtime[fuse,pandas]~=1.20.0->azureml-train-automl-runtime==1.20.0) (1.0.1)\n",
            "Requirement already satisfied: azureml-dataprep<2.8.0a,>=2.7.0a in /anaconda/envs/azureml_py36/lib/python3.6/site-packages (from azureml-dataset-runtime[fuse,pandas]~=1.20.0->azureml-train-automl-runtime==1.20.0) (2.7.3)\n",
            "Requirement already satisfied: fusepy<4.0.0,>=3.0.1; extra == \"fuse\" in /anaconda/envs/azureml_py36/lib/python3.6/site-packages (from azureml-dataset-runtime[fuse,pandas]~=1.20.0->azureml-train-automl-runtime==1.20.0) (3.0.1)\n",
            "Requirement already satisfied: azure-mgmt-storage<16.0.0,>=1.5.0 in /anaconda/envs/azureml_py36/lib/python3.6/site-packages (from azureml-core~=1.20.0->azureml-train-automl-runtime==1.20.0) (11.2.0)\n",
            "Requirement already satisfied: PyJWT<2.0.0 in /anaconda/envs/azureml_py36/lib/python3.6/site-packages (from azureml-core~=1.20.0->azureml-train-automl-runtime==1.20.0) (1.7.1)\n",
            "Requirement already satisfied: adal>=1.2.0 in /anaconda/envs/azureml_py36/lib/python3.6/site-packages (from azureml-core~=1.20.0->azureml-train-automl-runtime==1.20.0) (1.2.5)\n",
            "Requirement already satisfied: jsonpickle in /anaconda/envs/azureml_py36/lib/python3.6/site-packages (from azureml-core~=1.20.0->azureml-train-automl-runtime==1.20.0) (1.4.2)\n",
            "Requirement already satisfied: python-dateutil>=2.7.3 in /anaconda/envs/azureml_py36/lib/python3.6/site-packages (from azureml-core~=1.20.0->azureml-train-automl-runtime==1.20.0) (2.8.1)\n",
            "Requirement already satisfied: contextlib2 in /anaconda/envs/azureml_py36/lib/python3.6/site-packages (from azureml-core~=1.20.0->azureml-train-automl-runtime==1.20.0) (0.6.0.post1)\n",
            "Requirement already satisfied: azure-mgmt-resource<15.0.0,>=1.2.1 in /anaconda/envs/azureml_py36/lib/python3.6/site-packages (from azureml-core~=1.20.0->azureml-train-automl-runtime==1.20.0) (12.0.0)\n",
            "Requirement already satisfied: pytz in /anaconda/envs/azureml_py36/lib/python3.6/site-packages (from azureml-core~=1.20.0->azureml-train-automl-runtime==1.20.0) (2020.5)\n",
            "Requirement already satisfied: ndg-httpsclient in /anaconda/envs/azureml_py36/lib/python3.6/site-packages (from azureml-core~=1.20.0->azureml-train-automl-runtime==1.20.0) (0.5.1)\n",
            "Requirement already satisfied: pyopenssl<20.0.0 in /anaconda/envs/azureml_py36/lib/python3.6/site-packages (from azureml-core~=1.20.0->azureml-train-automl-runtime==1.20.0) (19.1.0)\n",
            "Requirement already satisfied: azure-mgmt-containerregistry>=2.0.0 in /anaconda/envs/azureml_py36/lib/python3.6/site-packages (from azureml-core~=1.20.0->azureml-train-automl-runtime==1.20.0) (2.8.0)\n",
            "Requirement already satisfied: azure-graphrbac<1.0.0,>=0.40.0 in /anaconda/envs/azureml_py36/lib/python3.6/site-packages (from azureml-core~=1.20.0->azureml-train-automl-runtime==1.20.0) (0.61.1)\n",
            "Requirement already satisfied: msrestazure>=0.4.33 in /anaconda/envs/azureml_py36/lib/python3.6/site-packages (from azureml-core~=1.20.0->azureml-train-automl-runtime==1.20.0) (0.6.4)\n",
            "Requirement already satisfied: azure-common>=1.1.12 in /anaconda/envs/azureml_py36/lib/python3.6/site-packages (from azureml-core~=1.20.0->azureml-train-automl-runtime==1.20.0) (1.1.26)\n",
            "Requirement already satisfied: pathspec in /anaconda/envs/azureml_py36/lib/python3.6/site-packages (from azureml-core~=1.20.0->azureml-train-automl-runtime==1.20.0) (0.8.1)\n",
            "Requirement already satisfied: azure-mgmt-keyvault<7.0.0,>=0.40.0 in /anaconda/envs/azureml_py36/lib/python3.6/site-packages (from azureml-core~=1.20.0->azureml-train-automl-runtime==1.20.0) (2.2.0)\n",
            "Requirement already satisfied: urllib3>=1.23 in /anaconda/envs/azureml_py36/lib/python3.6/site-packages (from azureml-core~=1.20.0->azureml-train-automl-runtime==1.20.0) (1.25.11)\n",
            "Requirement already satisfied: backports.tempfile in /anaconda/envs/azureml_py36/lib/python3.6/site-packages (from azureml-core~=1.20.0->azureml-train-automl-runtime==1.20.0) (1.0)\n",
            "Requirement already satisfied: azure-mgmt-authorization<1.0.0,>=0.40.0 in /anaconda/envs/azureml_py36/lib/python3.6/site-packages (from azureml-core~=1.20.0->azureml-train-automl-runtime==1.20.0) (0.61.0)\n",
            "Requirement already satisfied: ruamel.yaml>=0.15.35 in /anaconda/envs/azureml_py36/lib/python3.6/site-packages (from azureml-core~=1.20.0->azureml-train-automl-runtime==1.20.0) (0.16.12)\n",
            "Requirement already satisfied: docker in /anaconda/envs/azureml_py36/lib/python3.6/site-packages (from azureml-core~=1.20.0->azureml-train-automl-runtime==1.20.0) (4.4.1)\n",
            "Requirement already satisfied: SecretStorage in /anaconda/envs/azureml_py36/lib/python3.6/site-packages (from azureml-core~=1.20.0->azureml-train-automl-runtime==1.20.0) (3.3.0)\n",
            "Requirement already satisfied: joblib>=0.11 in /anaconda/envs/azureml_py36/lib/python3.6/site-packages (from scikit-learn<0.23.0,>=0.19.0->azureml-train-automl-runtime==1.20.0) (0.14.1)\n",
            "Requirement already satisfied: configparser==3.7.4 in /anaconda/envs/azureml_py36/lib/python3.6/site-packages (from azureml-defaults~=1.20.0->azureml-train-automl-runtime==1.20.0) (3.7.4)\n",
            "Requirement already satisfied: gunicorn==19.9.0 in /anaconda/envs/azureml_py36/lib/python3.6/site-packages (from azureml-defaults~=1.20.0->azureml-train-automl-runtime==1.20.0) (19.9.0)\n",
            "Requirement already satisfied: azureml-model-management-sdk==1.0.1b6.post1 in /anaconda/envs/azureml_py36/lib/python3.6/site-packages (from azureml-defaults~=1.20.0->azureml-train-automl-runtime==1.20.0) (1.0.1b6.post1)\n",
            "Requirement already satisfied: werkzeug<=1.0.1,>=0.16.1 in /anaconda/envs/azureml_py36/lib/python3.6/site-packages (from azureml-defaults~=1.20.0->azureml-train-automl-runtime==1.20.0) (1.0.1)\n",
            "Requirement already satisfied: flask==1.0.3 in /anaconda/envs/azureml_py36/lib/python3.6/site-packages (from azureml-defaults~=1.20.0->azureml-train-automl-runtime==1.20.0) (1.0.3)\n",
            "Requirement already satisfied: json-logging-py==0.2 in /anaconda/envs/azureml_py36/lib/python3.6/site-packages (from azureml-defaults~=1.20.0->azureml-train-automl-runtime==1.20.0) (0.2)\n",
            "Requirement already satisfied: pmdarima==1.1.1 in /anaconda/envs/azureml_py36/lib/python3.6/site-packages (from azureml-automl-runtime~=1.20.0->azureml-train-automl-runtime==1.20.0) (1.1.1)\n",
            "Requirement already satisfied: psutil<6.0.0,>=5.2.2 in /anaconda/envs/azureml_py36/lib/python3.6/site-packages (from azureml-automl-runtime~=1.20.0->azureml-train-automl-runtime==1.20.0) (5.8.0)\n",
            "Requirement already satisfied: py-cpuinfo==5.0.0 in /anaconda/envs/azureml_py36/lib/python3.6/site-packages (from azureml-automl-runtime~=1.20.0->azureml-train-automl-runtime==1.20.0) (5.0.0)\n",
            "Requirement already satisfied: nimbusml<=1.8.0,>=1.7.1 in /anaconda/envs/azureml_py36/lib/python3.6/site-packages (from azureml-automl-runtime~=1.20.0->azureml-train-automl-runtime==1.20.0) (1.8.0)\n",
            "Requirement already satisfied: dill<0.4.0,>=0.2.8 in /anaconda/envs/azureml_py36/lib/python3.6/site-packages (from azureml-automl-runtime~=1.20.0->azureml-train-automl-runtime==1.20.0) (0.3.3)\n",
            "Requirement already satisfied: interpret-community==0.15.* in /anaconda/envs/azureml_py36/lib/python3.6/site-packages (from azureml-interpret~=1.20.0->azureml-train-automl-runtime==1.20.0) (0.15.4)\n",
            "Requirement already satisfied: typing-extensions>=3.6.2.1 in /anaconda/envs/azureml_py36/lib/python3.6/site-packages (from onnx<=1.7.0,>=1.5.0->azureml-train-automl-runtime==1.20.0) (3.7.4.3)\n",
            "Requirement already satisfied: termcolor in /anaconda/envs/azureml_py36/lib/python3.6/site-packages (from fire->keras2onnx<=1.6.0,>=1.4.0->azureml-train-automl-runtime==1.20.0) (1.1.0)\n",
            "Requirement already satisfied: certifi>=2017.4.17 in /anaconda/envs/azureml_py36/lib/python3.6/site-packages (from requests->keras2onnx<=1.6.0,>=1.4.0->azureml-train-automl-runtime==1.20.0) (2020.12.5)\n",
            "Requirement already satisfied: idna<3,>=2.5 in /anaconda/envs/azureml_py36/lib/python3.6/site-packages (from requests->keras2onnx<=1.6.0,>=1.4.0->azureml-train-automl-runtime==1.20.0) (2.10)\n",
            "Requirement already satisfied: chardet<5,>=3.0.2 in /anaconda/envs/azureml_py36/lib/python3.6/site-packages (from requests->keras2onnx<=1.6.0,>=1.4.0->azureml-train-automl-runtime==1.20.0) (4.0.0)\n",
            "Requirement already satisfied: isodate>=0.6.0 in /anaconda/envs/azureml_py36/lib/python3.6/site-packages (from msrest>=0.6.10->azure-storage-queue~=12.1->azureml-train-automl-runtime==1.20.0) (0.6.0)\n",
            "Requirement already satisfied: requests-oauthlib>=0.5.0 in /anaconda/envs/azureml_py36/lib/python3.6/site-packages (from msrest>=0.6.10->azure-storage-queue~=12.1->azureml-train-automl-runtime==1.20.0) (1.3.0)\n",
            "Requirement already satisfied: cffi>=1.12 in /anaconda/envs/azureml_py36/lib/python3.6/site-packages (from cryptography>=2.1.4->azure-storage-queue~=12.1->azureml-train-automl-runtime==1.20.0) (1.14.4)\n",
            "Requirement already satisfied: azureml-dataprep-native<28.0.0,>=27.0.0 in /anaconda/envs/azureml_py36/lib/python3.6/site-packages (from azureml-dataprep<2.8.0a,>=2.7.0a->azureml-dataset-runtime[fuse,pandas]~=1.20.0->azureml-train-automl-runtime==1.20.0) (27.0.0)\n",
            "Requirement already satisfied: azure-identity<1.5.0,>=1.2.0 in /anaconda/envs/azureml_py36/lib/python3.6/site-packages (from azureml-dataprep<2.8.0a,>=2.7.0a->azureml-dataset-runtime[fuse,pandas]~=1.20.0->azureml-train-automl-runtime==1.20.0) (1.4.1)\n",
            "Requirement already satisfied: azureml-dataprep-rslex<1.6.0a,>=1.5.0dev0 in /anaconda/envs/azureml_py36/lib/python3.6/site-packages (from azureml-dataprep<2.8.0a,>=2.7.0a->azureml-dataset-runtime[fuse,pandas]~=1.20.0->azureml-train-automl-runtime==1.20.0) (1.5.0)\n",
            "Requirement already satisfied: cloudpickle<2.0.0,>=1.1.0 in /anaconda/envs/azureml_py36/lib/python3.6/site-packages (from azureml-dataprep<2.8.0a,>=2.7.0a->azureml-dataset-runtime[fuse,pandas]~=1.20.0->azureml-train-automl-runtime==1.20.0) (1.6.0)\n",
            "Requirement already satisfied: dotnetcore2<3.0.0,>=2.1.14 in /anaconda/envs/azureml_py36/lib/python3.6/site-packages (from azureml-dataprep<2.8.0a,>=2.7.0a->azureml-dataset-runtime[fuse,pandas]~=1.20.0->azureml-train-automl-runtime==1.20.0) (2.1.20)\n",
            "Requirement already satisfied: importlib-metadata; python_version < \"3.8\" in /anaconda/envs/azureml_py36/lib/python3.6/site-packages (from jsonpickle->azureml-core~=1.20.0->azureml-train-automl-runtime==1.20.0) (3.3.0)\n",
            "Requirement already satisfied: pyasn1>=0.1.1 in /anaconda/envs/azureml_py36/lib/python3.6/site-packages (from ndg-httpsclient->azureml-core~=1.20.0->azureml-train-automl-runtime==1.20.0) (0.4.8)\n",
            "Requirement already satisfied: backports.weakref in /anaconda/envs/azureml_py36/lib/python3.6/site-packages (from backports.tempfile->azureml-core~=1.20.0->azureml-train-automl-runtime==1.20.0) (1.0.post1)\n",
            "Requirement already satisfied: ruamel.yaml.clib>=0.1.2; platform_python_implementation == \"CPython\" and python_version < \"3.9\" in /anaconda/envs/azureml_py36/lib/python3.6/site-packages (from ruamel.yaml>=0.15.35->azureml-core~=1.20.0->azureml-train-automl-runtime==1.20.0) (0.2.2)\n",
            "Requirement already satisfied: websocket-client>=0.32.0 in /anaconda/envs/azureml_py36/lib/python3.6/site-packages (from docker->azureml-core~=1.20.0->azureml-train-automl-runtime==1.20.0) (0.57.0)\n",
            "Requirement already satisfied: jeepney>=0.6 in /anaconda/envs/azureml_py36/lib/python3.6/site-packages (from SecretStorage->azureml-core~=1.20.0->azureml-train-automl-runtime==1.20.0) (0.6.0)\n",
            "Requirement already satisfied: liac-arff>=2.1.1 in /anaconda/envs/azureml_py36/lib/python3.6/site-packages (from azureml-model-management-sdk==1.0.1b6.post1->azureml-defaults~=1.20.0->azureml-train-automl-runtime==1.20.0) (2.5.0)\n",
            "Requirement already satisfied: itsdangerous>=0.24 in /anaconda/envs/azureml_py36/lib/python3.6/site-packages (from flask==1.0.3->azureml-defaults~=1.20.0->azureml-train-automl-runtime==1.20.0) (1.1.0)\n",
            "Requirement already satisfied: click>=5.1 in /anaconda/envs/azureml_py36/lib/python3.6/site-packages (from flask==1.0.3->azureml-defaults~=1.20.0->azureml-train-automl-runtime==1.20.0) (7.1.2)\n",
            "Requirement already satisfied: Cython>=0.29 in /anaconda/envs/azureml_py36/lib/python3.6/site-packages (from pmdarima==1.1.1->azureml-automl-runtime~=1.20.0->azureml-train-automl-runtime==1.20.0) (0.29.21)\n",
            "Requirement already satisfied: interpret-core[required]<=0.2.1,>=0.1.20 in /anaconda/envs/azureml_py36/lib/python3.6/site-packages (from interpret-community==0.15.*->azureml-interpret~=1.20.0->azureml-train-automl-runtime==1.20.0) (0.2.1)\n",
            "Requirement already satisfied: packaging in /anaconda/envs/azureml_py36/lib/python3.6/site-packages (from interpret-community==0.15.*->azureml-interpret~=1.20.0->azureml-train-automl-runtime==1.20.0) (20.8)\n",
            "Requirement already satisfied: shap<=0.34.0,>=0.20.0 in /anaconda/envs/azureml_py36/lib/python3.6/site-packages (from interpret-community==0.15.*->azureml-interpret~=1.20.0->azureml-train-automl-runtime==1.20.0) (0.34.0)\n",
            "Requirement already satisfied: oauthlib>=3.0.0 in /anaconda/envs/azureml_py36/lib/python3.6/site-packages (from requests-oauthlib>=0.5.0->msrest>=0.6.10->azure-storage-queue~=12.1->azureml-train-automl-runtime==1.20.0) (3.1.0)\n",
            "Requirement already satisfied: pycparser in /anaconda/envs/azureml_py36/lib/python3.6/site-packages (from cffi>=1.12->cryptography>=2.1.4->azure-storage-queue~=12.1->azureml-train-automl-runtime==1.20.0) (2.20)\n",
            "Requirement already satisfied: msal-extensions~=0.2.2 in /anaconda/envs/azureml_py36/lib/python3.6/site-packages (from azure-identity<1.5.0,>=1.2.0->azureml-dataprep<2.8.0a,>=2.7.0a->azureml-dataset-runtime[fuse,pandas]~=1.20.0->azureml-train-automl-runtime==1.20.0) (0.2.2)\n",
            "Requirement already satisfied: msal<2.0.0,>=1.3.0 in /anaconda/envs/azureml_py36/lib/python3.6/site-packages (from azure-identity<1.5.0,>=1.2.0->azureml-dataprep<2.8.0a,>=2.7.0a->azureml-dataset-runtime[fuse,pandas]~=1.20.0->azureml-train-automl-runtime==1.20.0) (1.8.0)\n",
            "Requirement already satisfied: distro>=1.2.0 in /anaconda/envs/azureml_py36/lib/python3.6/site-packages (from dotnetcore2<3.0.0,>=2.1.14->azureml-dataprep<2.8.0a,>=2.7.0a->azureml-dataset-runtime[fuse,pandas]~=1.20.0->azureml-train-automl-runtime==1.20.0) (1.5.0)\n",
            "Requirement already satisfied: zipp>=0.5 in /anaconda/envs/azureml_py36/lib/python3.6/site-packages (from importlib-metadata; python_version < \"3.8\"->jsonpickle->azureml-core~=1.20.0->azureml-train-automl-runtime==1.20.0) (3.4.0)\n",
            "Requirement already satisfied: pyparsing>=2.0.2 in /anaconda/envs/azureml_py36/lib/python3.6/site-packages (from packaging->interpret-community==0.15.*->azureml-interpret~=1.20.0->azureml-train-automl-runtime==1.20.0) (2.4.7)\n",
            "Requirement already satisfied: tqdm>4.25.0 in /anaconda/envs/azureml_py36/lib/python3.6/site-packages (from shap<=0.34.0,>=0.20.0->interpret-community==0.15.*->azureml-interpret~=1.20.0->azureml-train-automl-runtime==1.20.0) (4.55.1)\n",
            "Requirement already satisfied: portalocker~=1.0; platform_system != \"Windows\" in /anaconda/envs/azureml_py36/lib/python3.6/site-packages (from msal-extensions~=0.2.2->azure-identity<1.5.0,>=1.2.0->azureml-dataprep<2.8.0a,>=2.7.0a->azureml-dataset-runtime[fuse,pandas]~=1.20.0->azureml-train-automl-runtime==1.20.0) (1.7.1)\n",
            "Note: you may need to restart the kernel to use updated packages.\n"
          ]
        }
      ],
      "execution_count": 1,
      "metadata": {
        "collapsed": true,
        "jupyter": {
          "source_hidden": false,
          "outputs_hidden": false
        },
        "nteract": {
          "transient": {
            "deleting": false
          }
        },
        "gather": {
          "logged": 1613631083674
        }
      }
    },
    {
      "cell_type": "code",
      "source": [
        "from azureml.core import Workspace, Experiment"
      ],
      "outputs": [],
      "execution_count": 2,
      "metadata": {
        "gather": {
          "logged": 1613631098569
        },
        "jupyter": {
          "outputs_hidden": false,
          "source_hidden": false
        },
        "nteract": {
          "transient": {
            "deleting": false
          }
        }
      }
    },
    {
      "cell_type": "markdown",
      "source": [
        "## Dataset\n",
        "\n",
        "### Overview\n",
        "TODO: In this markdown cell, give an overview of the dataset you are using. Also mention the task you will be performing.\n",
        "\n",
        "\n",
        "TODO: Get data. In the cell below, write code to access the data you will be using in this project. Remember that the dataset needs to be external."
      ],
      "metadata": {}
    },
    {
      "cell_type": "code",
      "source": [
        "ws = Workspace.from_config()\n",
        "\n",
        "# choose a name for experiment\n",
        "experiment_name = 'auto-ml'\n",
        "\n",
        "experiment=Experiment(ws, experiment_name)\n"
      ],
      "outputs": [
        {
          "output_type": "stream",
          "name": "stdout",
          "text": [
            "Performing interactive authentication. Please follow the instructions on the terminal.\n",
            "To sign in, use a web browser to open the page https://microsoft.com/devicelogin and enter the code RYJCRENRM to authenticate.\n",
            "You have logged in. Now let us find all the subscriptions to which you have access...\n",
            "Interactive authentication successfully completed.\n"
          ]
        }
      ],
      "execution_count": 3,
      "metadata": {
        "gather": {
          "logged": 1613631134163
        },
        "jupyter": {
          "outputs_hidden": false,
          "source_hidden": false
        },
        "nteract": {
          "transient": {
            "deleting": false
          }
        }
      }
    },
    {
      "cell_type": "code",
      "source": [
        "from azureml.core.compute import ComputeTarget, AmlCompute\r\n",
        "from azureml.core.compute_target import ComputeTargetException\r\n",
        "\r\n",
        "# Choose a name for your CPU cluster\r\n",
        "cpu_cluster_name = \"cpu-cluster-4\"\r\n",
        "\r\n",
        "# Verify that cluster does not exist already\r\n",
        "try:\r\n",
        "    compute_target = ComputeTarget(workspace=ws, name=cpu_cluster_name)\r\n",
        "    print('Found existing cluster, use it.')\r\n",
        "except ComputeTargetException:\r\n",
        "    compute_config = AmlCompute.provisioning_configuration(vm_size='STANDARD_D2_V2',\r\n",
        "                                                           max_nodes=6)\r\n",
        "    compute_target = ComputeTarget.create(ws, cpu_cluster_name, compute_config)\r\n",
        "\r\n",
        "compute_target.wait_for_completion(show_output=True)"
      ],
      "outputs": [
        {
          "output_type": "stream",
          "name": "stdout",
          "text": [
            "Creating\n",
            "Succeeded\n",
            "AmlCompute wait for completion finished\n",
            "\n",
            "Minimum number of nodes requested have been provisioned\n"
          ]
        }
      ],
      "execution_count": 4,
      "metadata": {
        "collapsed": true,
        "jupyter": {
          "source_hidden": false,
          "outputs_hidden": false
        },
        "nteract": {
          "transient": {
            "deleting": false
          }
        },
        "gather": {
          "logged": 1613631174921
        }
      }
    },
    {
      "cell_type": "code",
      "source": [
        "from azureml.data.dataset_factory import TabularDatasetFactory\r\n",
        "\r\n",
        "csv_file = 'https://raw.githubusercontent.com/SwapnaKategaru/Project3/main/heart_failure_clinical_records_dataset.csv'\r\n",
        "\r\n",
        "data = TabularDatasetFactory.from_delimited_files(csv_file)"
      ],
      "outputs": [],
      "execution_count": 5,
      "metadata": {
        "collapsed": true,
        "jupyter": {
          "source_hidden": false,
          "outputs_hidden": false
        },
        "nteract": {
          "transient": {
            "deleting": false
          }
        },
        "gather": {
          "logged": 1613631193869
        }
      }
    },
    {
      "cell_type": "code",
      "source": [
        "%%writefile conda_dependencies.yml\r\n",
        "dependencies:\r\n",
        "- python=3.6.2\r\n",
        "- pip:\r\n",
        "  - scikit-learn=0.21.2\r\n",
        "  - azureml-defaults"
      ],
      "outputs": [
        {
          "output_type": "stream",
          "name": "stdout",
          "text": [
            "Writing conda_dependencies.yml\n"
          ]
        }
      ],
      "execution_count": 6,
      "metadata": {
        "collapsed": true,
        "jupyter": {
          "source_hidden": false,
          "outputs_hidden": false
        },
        "nteract": {
          "transient": {
            "deleting": false
          }
        },
        "gather": {
          "logged": 1613142071197
        }
      }
    },
    {
      "cell_type": "code",
      "source": [
        "from train import clean_data\r\n",
        "from sklearn.model_selection import train_test_split\r\n",
        "import pandas as pd\r\n",
        "x, y = clean_data(data)\r\n",
        "\r\n",
        "x_train, x_test, y_train, y_test = train_test_split(x, y, test_size=0.33, random_state=42)\r\n",
        "train_data = pd.concat([x_train, y_train], axis = 1)"
      ],
      "outputs": [],
      "execution_count": 8,
      "metadata": {
        "collapsed": true,
        "jupyter": {
          "source_hidden": false,
          "outputs_hidden": false
        },
        "nteract": {
          "transient": {
            "deleting": false
          }
        },
        "gather": {
          "logged": 1613631349941
        }
      }
    },
    {
      "cell_type": "code",
      "source": [
        "from azureml.train.automl import AutoMLConfig\r\n",
        "import logging\r\n",
        "\r\n",
        "automl_settings = {\r\n",
        "    \"enable_early_stopping\" : True,\r\n",
        "    \"max_concurrent_iterations\": 4,\r\n",
        "    \"primary_metric\": 'AUC_weighted',\r\n",
        "    \"featurization\": 'auto',\r\n",
        "    \"verbosity\": logging.INFO,\r\n",
        "}\r\n",
        "\r\n",
        "automl_config = AutoMLConfig(\r\n",
        "    experiment_timeout_minutes=15,\r\n",
        "    task='classification',\r\n",
        "    training_data=train_data,\r\n",
        "    label_column_name='DEATH_EVENT',\r\n",
        "    n_cross_validations=2)"
      ],
      "outputs": [],
      "execution_count": 9,
      "metadata": {
        "collapsed": true,
        "jupyter": {
          "source_hidden": false,
          "outputs_hidden": false
        },
        "nteract": {
          "transient": {
            "deleting": false
          }
        },
        "gather": {
          "logged": 1613631359320
        }
      }
    },
    {
      "cell_type": "code",
      "source": [
        "from azureml.widgets import RunDetails\r\n",
        "remote_run = experiment.submit(automl_config, show_output=True)\r\n",
        "RunDetails(remote_run).show()"
      ],
      "outputs": [
        {
          "output_type": "stream",
          "name": "stdout",
          "text": [
            "Running on local machine\n",
            "Parent Run ID: AutoML_08081886-92ca-4154-8e50-048d8964b3d2\n",
            "\n",
            "Current status: DatasetEvaluation. Gathering dataset statistics.\n",
            "Current status: FeaturesGeneration. Generating features for the dataset.\n",
            "Current status: DatasetFeaturization. Beginning to fit featurizers and featurize the dataset.\n",
            "Current status: DatasetFeaturizationCompleted. Completed fit featurizers and featurizing the dataset.\n",
            "Current status: DatasetCrossValidationSplit. Generating individually featurized CV splits.\n",
            "\n",
            "****************************************************************************************************\n",
            "DATA GUARDRAILS: \n",
            "\n",
            "TYPE:         Class balancing detection\n",
            "STATUS:       PASSED\n",
            "DESCRIPTION:  Your inputs were analyzed, and all classes are balanced in your training data.\n",
            "              Learn more about imbalanced data: https://aka.ms/AutomatedMLImbalancedData\n",
            "\n",
            "****************************************************************************************************\n",
            "\n",
            "TYPE:         Missing feature values imputation\n",
            "STATUS:       PASSED\n",
            "DESCRIPTION:  No feature missing values were detected in the training data.\n",
            "              Learn more about missing value imputation: https://aka.ms/AutomatedMLFeaturization\n",
            "\n",
            "****************************************************************************************************\n",
            "\n",
            "TYPE:         High cardinality feature detection\n",
            "STATUS:       PASSED\n",
            "DESCRIPTION:  Your inputs were analyzed, and no high cardinality features were detected.\n",
            "              Learn more about high cardinality feature handling: https://aka.ms/AutomatedMLFeaturization\n",
            "\n",
            "****************************************************************************************************\n",
            "Current status: ModelSelection. Beginning model selection.\n",
            "\n",
            "****************************************************************************************************\n",
            "ITERATION: The iteration being evaluated.\n",
            "PIPELINE: A summary description of the pipeline being evaluated.\n",
            "DURATION: Time taken for the current iteration.\n",
            "METRIC: The result of computing score on the fitted pipeline.\n",
            "BEST: The best observed score thus far.\n",
            "****************************************************************************************************\n",
            "\n",
            " ITERATION   PIPELINE                                       DURATION      METRIC      BEST\n",
            "         0   MaxAbsScaler LightGBM                          0:00:33       0.8100    0.8100\n",
            "         1   MaxAbsScaler XGBoostClassifier                 0:00:32       0.8500    0.8500\n",
            "         2   MinMaxScaler RandomForest                      0:00:32       0.8550    0.8550\n",
            "         3   MinMaxScaler RandomForest                      0:00:30       0.8400    0.8550\n",
            "         4   MinMaxScaler RandomForest                      0:00:23       0.8300    0.8550\n",
            "         5   MinMaxScaler SVM                               0:00:32       0.8150    0.8550\n",
            "         6   MaxAbsScaler GradientBoosting                  0:00:32       0.8800    0.8800\n",
            "         7   StandardScalerWrapper RandomForest             0:00:25       0.8750    0.8800\n",
            "         8   SparseNormalizer XGBoostClassifier             0:00:24       0.8600    0.8800\n",
            "         9   SparseNormalizer LightGBM                      0:00:23       0.8400    0.8800\n",
            "        10   RobustScaler RandomForest                      0:00:24       0.8650    0.8800\n",
            "        11   MaxAbsScaler LightGBM                          0:00:28       0.8700    0.8800\n",
            "        12   RobustScaler ExtremeRandomTrees                0:00:24       0.8650    0.8800\n",
            "        13   SparseNormalizer XGBoostClassifier             0:00:34       0.8500    0.8800\n",
            "        14   StandardScalerWrapper ExtremeRandomTrees       0:00:31       0.8700    0.8800\n",
            "        15   StandardScalerWrapper XGBoostClassifier        0:00:32       0.8400    0.8800\n",
            "        16   StandardScalerWrapper GradientBoosting         0:00:25       0.8600    0.8800\n",
            "        17   StandardScalerWrapper ExtremeRandomTrees       0:00:26       0.7900    0.8800\n",
            "        18   RobustScaler ExtremeRandomTrees                0:00:27       0.8650    0.8800\n",
            "        19   StandardScalerWrapper XGBoostClassifier        0:00:23       0.8600    0.8800\n",
            "        20   StandardScalerWrapper XGBoostClassifier        0:00:28       0.8700    0.8800\n",
            "        21   SparseNormalizer XGBoostClassifier             0:00:29       0.8500    0.8800\n",
            "        22   SparseNormalizer RandomForest                  0:00:31       0.8300    0.8800\n",
            "        23   StandardScalerWrapper LightGBM                 0:00:32       0.7550    0.8800\n",
            "        24   StandardScalerWrapper LightGBM                 0:00:37       0.8350    0.8800\n",
            "        25   MinMaxScaler GradientBoosting                  0:00:24       0.7300    0.8800\n",
            "        26   MinMaxScaler LightGBM                          0:00:24       0.8600    0.8800\n",
            "        27   MaxAbsScaler RandomForest                      0:00:29       0.8400    0.8800\n",
            "        28   StandardScalerWrapper XGBoostClassifier        0:00:23       0.8550    0.8800\n",
            "        29   MaxAbsScaler LightGBM                          0:00:28       0.7750    0.8800\n",
            "        30   VotingEnsemble                                 0:00:19       0.9000    0.9000\n",
            "        31   StackEnsemble                                  0:00:32       0.8750    0.9000\n",
            "Stopping criteria reached at iteration 32. Ending experiment.\n",
            "****************************************************************************************************\n",
            "Current status: BestRunExplainModel. Best run model explanations started\n",
            "Current status: ModelExplanationDataSetSetup. Model explanations data setup completed\n",
            "Current status: PickSurrogateModel. Choosing LightGBM as the surrogate model for explanations\n",
            "Current status: EngineeredFeatureExplanations. Computation of engineered features started\n",
            "Current status: EngineeredFeatureExplanations. Computation of engineered features completed\n",
            "Current status: RawFeaturesExplanations. Computation of raw features started\n",
            "Current status: RawFeaturesExplanations. Computation of raw features completed\n",
            "Current status: BestRunExplainModel. Best run model explanations completed\n",
            "****************************************************************************************************\n"
          ]
        },
        {
          "output_type": "display_data",
          "data": {
            "text/plain": "_AutoMLWidget(widget_settings={'childWidgetDisplay': 'popup', 'send_telemetry': False, 'log_level': 'INFO', 's…",
            "application/vnd.jupyter.widget-view+json": {
              "version_major": 2,
              "version_minor": 0,
              "model_id": "f92950cee8664e85a030dacc50cf6667"
            }
          },
          "metadata": {}
        },
        {
          "output_type": "display_data",
          "data": {
            "application/aml.mini.widget.v1": "{\"status\": \"Completed\", \"workbench_run_details_uri\": \"https://ml.azure.com/experiments/auto-ml/runs/AutoML_08081886-92ca-4154-8e50-048d8964b3d2?wsid=/subscriptions/3d1a56d2-7c81-4118-9790-f85d1acf0c77/resourcegroups/aml-quickstarts-139107/workspaces/quick-starts-ws-139107\", \"run_id\": \"AutoML_08081886-92ca-4154-8e50-048d8964b3d2\", \"run_properties\": {\"run_id\": \"AutoML_08081886-92ca-4154-8e50-048d8964b3d2\", \"created_utc\": \"2021-02-18T07:04:07.793548Z\", \"properties\": {\"num_iterations\": \"1000\", \"training_type\": \"TrainFull\", \"acquisition_function\": \"EI\", \"primary_metric\": \"accuracy\", \"train_split\": \"0\", \"acquisition_parameter\": \"0\", \"num_cross_validation\": \"2\", \"target\": \"local\", \"AMLSettingsJsonString\": \"{\\\"path\\\":null,\\\"name\\\":\\\"auto-ml\\\",\\\"subscription_id\\\":\\\"3d1a56d2-7c81-4118-9790-f85d1acf0c77\\\",\\\"resource_group\\\":\\\"aml-quickstarts-139107\\\",\\\"workspace_name\\\":\\\"quick-starts-ws-139107\\\",\\\"region\\\":\\\"southcentralus\\\",\\\"compute_target\\\":\\\"local\\\",\\\"spark_service\\\":null,\\\"azure_service\\\":\\\"Microsoft.AzureNotebookVM\\\",\\\"many_models\\\":false,\\\"pipeline_fetch_max_batch_size\\\":1,\\\"iterations\\\":1000,\\\"primary_metric\\\":\\\"accuracy\\\",\\\"task_type\\\":\\\"classification\\\",\\\"data_script\\\":null,\\\"validation_size\\\":0.0,\\\"n_cross_validations\\\":2,\\\"y_min\\\":null,\\\"y_max\\\":null,\\\"num_classes\\\":2,\\\"featurization\\\":\\\"auto\\\",\\\"_ignore_package_version_incompatibilities\\\":false,\\\"is_timeseries\\\":false,\\\"max_cores_per_iteration\\\":1,\\\"max_concurrent_iterations\\\":1,\\\"iteration_timeout_minutes\\\":null,\\\"mem_in_mb\\\":null,\\\"enforce_time_on_windows\\\":false,\\\"experiment_timeout_minutes\\\":15,\\\"experiment_exit_score\\\":null,\\\"whitelist_models\\\":null,\\\"blacklist_algos\\\":[\\\"TensorFlowLinearClassifier\\\",\\\"TensorFlowDNN\\\"],\\\"supported_models\\\":[\\\"MultinomialNaiveBayes\\\",\\\"LinearSVM\\\",\\\"KNN\\\",\\\"SVM\\\",\\\"RandomForest\\\",\\\"XGBoostClassifier\\\",\\\"LightGBM\\\",\\\"BernoulliNaiveBayes\\\",\\\"LogisticRegression\\\",\\\"TensorFlowLinearClassifier\\\",\\\"GradientBoosting\\\",\\\"AveragedPerceptronClassifier\\\",\\\"ExtremeRandomTrees\\\",\\\"TensorFlowDNN\\\",\\\"DecisionTree\\\",\\\"SGD\\\"],\\\"auto_blacklist\\\":true,\\\"blacklist_samples_reached\\\":false,\\\"exclude_nan_labels\\\":true,\\\"verbosity\\\":20,\\\"_debug_log\\\":\\\"automl.log\\\",\\\"show_warnings\\\":false,\\\"model_explainability\\\":true,\\\"service_url\\\":null,\\\"sdk_url\\\":null,\\\"sdk_packages\\\":null,\\\"enable_onnx_compatible_models\\\":false,\\\"enable_split_onnx_featurizer_estimator_models\\\":false,\\\"vm_type\\\":null,\\\"telemetry_verbosity\\\":20,\\\"send_telemetry\\\":true,\\\"enable_dnn\\\":false,\\\"scenario\\\":\\\"SDK-1.13.0\\\",\\\"environment_label\\\":null,\\\"force_text_dnn\\\":false,\\\"enable_feature_sweeping\\\":true,\\\"enable_early_stopping\\\":false,\\\"early_stopping_n_iters\\\":10,\\\"metrics\\\":null,\\\"enable_ensembling\\\":true,\\\"enable_stack_ensembling\\\":true,\\\"ensemble_iterations\\\":15,\\\"enable_tf\\\":false,\\\"enable_subsampling\\\":null,\\\"subsample_seed\\\":null,\\\"enable_nimbusml\\\":false,\\\"enable_streaming\\\":false,\\\"force_streaming\\\":false,\\\"track_child_runs\\\":true,\\\"allowed_private_models\\\":[],\\\"label_column_name\\\":\\\"DEATH_EVENT\\\",\\\"weight_column_name\\\":null,\\\"cv_split_column_names\\\":null,\\\"enable_local_managed\\\":false,\\\"_local_managed_run_id\\\":null,\\\"cost_mode\\\":1,\\\"lag_length\\\":0,\\\"metric_operation\\\":\\\"maximize\\\",\\\"preprocess\\\":true}\", \"DataPrepJsonString\": null, \"EnableSubsampling\": null, \"runTemplate\": \"AutoML\", \"azureml.runsource\": \"automl\", \"display_task_type\": \"classification\", \"dependencies_versions\": \"{\\\"azureml-widgets\\\": \\\"1.20.0\\\", \\\"azureml-train\\\": \\\"1.20.0\\\", \\\"azureml-train-restclients-hyperdrive\\\": \\\"1.20.0\\\", \\\"azureml-train-core\\\": \\\"1.20.0\\\", \\\"azureml-train-automl\\\": \\\"1.20.0\\\", \\\"azureml-train-automl-runtime\\\": \\\"1.20.0\\\", \\\"azureml-train-automl-client\\\": \\\"1.20.0\\\", \\\"azureml-tensorboard\\\": \\\"1.20.0\\\", \\\"azureml-telemetry\\\": \\\"1.20.0\\\", \\\"azureml-sdk\\\": \\\"1.20.0\\\", \\\"azureml-samples\\\": \\\"0+unknown\\\", \\\"azureml-pipeline\\\": \\\"1.20.0\\\", \\\"azureml-pipeline-steps\\\": \\\"1.20.0\\\", \\\"azureml-pipeline-core\\\": \\\"1.20.0\\\", \\\"azureml-opendatasets\\\": \\\"1.20.0\\\", \\\"azureml-model-management-sdk\\\": \\\"1.0.1b6.post1\\\", \\\"azureml-mlflow\\\": \\\"1.20.0.post1\\\", \\\"azureml-interpret\\\": \\\"1.20.0\\\", \\\"azureml-explain-model\\\": \\\"1.20.0\\\", \\\"azureml-defaults\\\": \\\"1.20.0\\\", \\\"azureml-dataset-runtime\\\": \\\"1.20.0\\\", \\\"azureml-dataprep\\\": \\\"2.7.3\\\", \\\"azureml-dataprep-rslex\\\": \\\"1.5.0\\\", \\\"azureml-dataprep-native\\\": \\\"27.0.0\\\", \\\"azureml-datadrift\\\": \\\"1.20.0\\\", \\\"azureml-core\\\": \\\"1.20.0\\\", \\\"azureml-contrib-services\\\": \\\"1.20.0\\\", \\\"azureml-contrib-server\\\": \\\"1.20.0\\\", \\\"azureml-contrib-reinforcementlearning\\\": \\\"1.20.0\\\", \\\"azureml-contrib-pipeline-steps\\\": \\\"1.20.0\\\", \\\"azureml-contrib-notebook\\\": \\\"1.20.0\\\", \\\"azureml-contrib-interpret\\\": \\\"1.20.0\\\", \\\"azureml-contrib-gbdt\\\": \\\"1.20.0\\\", \\\"azureml-contrib-fairness\\\": \\\"1.20.0\\\", \\\"azureml-contrib-dataset\\\": \\\"1.20.0\\\", \\\"azureml-cli-common\\\": \\\"1.20.0\\\", \\\"azureml-automl-runtime\\\": \\\"1.20.0\\\", \\\"azureml-automl-core\\\": \\\"1.20.0\\\", \\\"azureml-accel-models\\\": \\\"1.20.0\\\"}\", \"_aml_system_scenario_identification\": \"Local.Parent\", \"ClientSdkVersion\": \"1.20.0\", \"ClientType\": \"SDK\", \"environment_cpu_name\": \"AzureML-AutoML\", \"environment_cpu_label\": \"prod\", \"environment_gpu_name\": \"AzureML-AutoML-GPU\", \"environment_gpu_label\": \"prod\", \"root_attribution\": \"automl\", \"attribution\": \"AutoML\", \"Orchestrator\": \"AutoML\", \"_azureml.ComputeTargetType\": \"local\", \"ProblemInfoJsonString\": \"{\\\"dataset_num_categorical\\\": 0, \\\"is_sparse\\\": false, \\\"subsampling\\\": false, \\\"dataset_classes\\\": 2, \\\"dataset_features\\\": 12, \\\"dataset_samples\\\": 200, \\\"single_frequency_class_detected\\\": false}\", \"feature_skus\": \"automatedml_sdk_guardrails\"}, \"tags\": {\"model_explain_run\": \"best_run\", \"best_score\": \"0.9\", \"best_pipeline\": \"VotingEnsemble\", \"automl_best_child_run_id\": \"AutoML_08081886-92ca-4154-8e50-048d8964b3d2_30\", \"model_explain_best_run_child_id\": \"AutoML_08081886-92ca-4154-8e50-048d8964b3d2_30\"}, \"end_time_utc\": \"2021-02-18T07:20:20.137186Z\", \"status\": \"Completed\", \"log_files\": {}, \"log_groups\": [], \"run_duration\": \"0:16:12\"}, \"child_runs\": [{\"run_id\": \"AutoML_08081886-92ca-4154-8e50-048d8964b3d2_0\", \"run_number\": 18, \"metric\": null, \"status\": \"Completed\", \"run_type\": null, \"training_percent\": \"100\", \"start_time\": \"2021-02-18T07:04:20.457817Z\", \"end_time\": \"2021-02-18T07:04:53.192256Z\", \"created_time\": \"2021-02-18T07:04:20.071548Z\", \"created_time_dt\": \"2021-02-18T07:04:20.071548Z\", \"duration\": \"0:00:33\", \"iteration\": \"0\", \"goal\": \"accuracy_max\", \"run_name\": \"MaxAbsScaler, LightGBM\", \"run_properties\": \"copy=True\", \"primary_metric\": 0.81, \"best_metric\": 0.81}, {\"run_id\": \"AutoML_08081886-92ca-4154-8e50-048d8964b3d2_1\", \"run_number\": 19, \"metric\": null, \"status\": \"Completed\", \"run_type\": null, \"training_percent\": \"100\", \"start_time\": \"2021-02-18T07:04:54.400352Z\", \"end_time\": \"2021-02-18T07:05:25.978994Z\", \"created_time\": \"2021-02-18T07:04:54.036544Z\", \"created_time_dt\": \"2021-02-18T07:04:54.036544Z\", \"duration\": \"0:00:31\", \"iteration\": \"1\", \"goal\": \"accuracy_max\", \"run_name\": \"MaxAbsScaler, XGBoostClassifier\", \"run_properties\": \"copy=True\", \"primary_metric\": 0.85, \"best_metric\": 0.85}, {\"run_id\": \"AutoML_08081886-92ca-4154-8e50-048d8964b3d2_2\", \"run_number\": 20, \"metric\": null, \"status\": \"Completed\", \"run_type\": null, \"training_percent\": \"100\", \"start_time\": \"2021-02-18T07:05:27.647986Z\", \"end_time\": \"2021-02-18T07:05:59.350983Z\", \"created_time\": \"2021-02-18T07:05:27.258411Z\", \"created_time_dt\": \"2021-02-18T07:05:27.258411Z\", \"duration\": \"0:00:32\", \"iteration\": \"2\", \"goal\": \"accuracy_max\", \"run_name\": \"MinMaxScaler, RandomForest\", \"run_properties\": \"copy=True, feature_range=(0, 1\", \"primary_metric\": 0.855, \"best_metric\": 0.855}, {\"run_id\": \"AutoML_08081886-92ca-4154-8e50-048d8964b3d2_3\", \"run_number\": 21, \"metric\": null, \"status\": \"Completed\", \"run_type\": null, \"training_percent\": \"100\", \"start_time\": \"2021-02-18T07:06:01.778931Z\", \"end_time\": \"2021-02-18T07:06:31.970288Z\", \"created_time\": \"2021-02-18T07:06:01.402737Z\", \"created_time_dt\": \"2021-02-18T07:06:01.402737Z\", \"duration\": \"0:00:30\", \"iteration\": \"3\", \"goal\": \"accuracy_max\", \"run_name\": \"MinMaxScaler, RandomForest\", \"run_properties\": \"copy=True, feature_range=(0, 1\", \"primary_metric\": 0.84, \"best_metric\": 0.855}, {\"run_id\": \"AutoML_08081886-92ca-4154-8e50-048d8964b3d2_4\", \"run_number\": 22, \"metric\": null, \"status\": \"Completed\", \"run_type\": null, \"training_percent\": \"100\", \"start_time\": \"2021-02-18T07:06:34.084039Z\", \"end_time\": \"2021-02-18T07:06:57.745858Z\", \"created_time\": \"2021-02-18T07:06:33.800056Z\", \"created_time_dt\": \"2021-02-18T07:06:33.800056Z\", \"duration\": \"0:00:23\", \"iteration\": \"4\", \"goal\": \"accuracy_max\", \"run_name\": \"MinMaxScaler, RandomForest\", \"run_properties\": \"copy=True, feature_range=(0, 1\", \"primary_metric\": 0.83, \"best_metric\": 0.855}, {\"run_id\": \"AutoML_08081886-92ca-4154-8e50-048d8964b3d2_5\", \"run_number\": 23, \"metric\": null, \"status\": \"Completed\", \"run_type\": null, \"training_percent\": \"100\", \"start_time\": \"2021-02-18T07:07:01.926521Z\", \"end_time\": \"2021-02-18T07:07:33.744813Z\", \"created_time\": \"2021-02-18T07:07:01.629676Z\", \"created_time_dt\": \"2021-02-18T07:07:01.629676Z\", \"duration\": \"0:00:32\", \"iteration\": \"5\", \"goal\": \"accuracy_max\", \"run_name\": \"MinMaxScaler, SVM\", \"run_properties\": \"copy=True, feature_range=(0, 1\", \"primary_metric\": 0.815, \"best_metric\": 0.855}, {\"run_id\": \"AutoML_08081886-92ca-4154-8e50-048d8964b3d2_6\", \"run_number\": 24, \"metric\": null, \"status\": \"Completed\", \"run_type\": null, \"training_percent\": \"100\", \"start_time\": \"2021-02-18T07:07:36.30132Z\", \"end_time\": \"2021-02-18T07:08:08.137266Z\", \"created_time\": \"2021-02-18T07:07:35.871362Z\", \"created_time_dt\": \"2021-02-18T07:07:35.871362Z\", \"duration\": \"0:00:32\", \"iteration\": \"6\", \"goal\": \"accuracy_max\", \"run_name\": \"MaxAbsScaler, GradientBoosting\", \"run_properties\": \"copy=True\", \"primary_metric\": 0.88, \"best_metric\": 0.88}, {\"run_id\": \"AutoML_08081886-92ca-4154-8e50-048d8964b3d2_7\", \"run_number\": 25, \"metric\": null, \"status\": \"Completed\", \"run_type\": null, \"training_percent\": \"100\", \"start_time\": \"2021-02-18T07:08:10.259152Z\", \"end_time\": \"2021-02-18T07:08:35.436773Z\", \"created_time\": \"2021-02-18T07:08:09.870197Z\", \"created_time_dt\": \"2021-02-18T07:08:09.870197Z\", \"duration\": \"0:00:25\", \"iteration\": \"7\", \"goal\": \"accuracy_max\", \"run_name\": \"StandardScalerWrapper, RandomForest\", \"run_properties\": \"<azureml.automl.runtime.shared.model_wrappers.StandardScalerWrapper object at 0x7fc67e74def0\", \"primary_metric\": 0.875, \"best_metric\": 0.88}, {\"run_id\": \"AutoML_08081886-92ca-4154-8e50-048d8964b3d2_8\", \"run_number\": 26, \"metric\": null, \"status\": \"Completed\", \"run_type\": null, \"training_percent\": \"100\", \"start_time\": \"2021-02-18T07:08:36.797443Z\", \"end_time\": \"2021-02-18T07:09:00.874027Z\", \"created_time\": \"2021-02-18T07:08:36.707903Z\", \"created_time_dt\": \"2021-02-18T07:08:36.707903Z\", \"duration\": \"0:00:24\", \"iteration\": \"8\", \"goal\": \"accuracy_max\", \"run_name\": \"SparseNormalizer, XGBoostClassifier\", \"run_properties\": \"<azureml.automl.runtime.shared.model_wrappers.SparseNormalizer object at 0x7fc67e6cb128\", \"primary_metric\": 0.86, \"best_metric\": 0.88}, {\"run_id\": \"AutoML_08081886-92ca-4154-8e50-048d8964b3d2_9\", \"run_number\": 27, \"metric\": null, \"status\": \"Completed\", \"run_type\": null, \"training_percent\": \"100\", \"start_time\": \"2021-02-18T07:09:02.135937Z\", \"end_time\": \"2021-02-18T07:09:25.867298Z\", \"created_time\": \"2021-02-18T07:09:02.046362Z\", \"created_time_dt\": \"2021-02-18T07:09:02.046362Z\", \"duration\": \"0:00:23\", \"iteration\": \"9\", \"goal\": \"accuracy_max\", \"run_name\": \"SparseNormalizer, LightGBM\", \"run_properties\": \"<azureml.automl.runtime.shared.model_wrappers.SparseNormalizer object at 0x7fc67e6a9390\", \"primary_metric\": 0.84, \"best_metric\": 0.88}, {\"run_id\": \"AutoML_08081886-92ca-4154-8e50-048d8964b3d2_10\", \"run_number\": 28, \"metric\": null, \"status\": \"Completed\", \"run_type\": null, \"training_percent\": \"100\", \"start_time\": \"2021-02-18T07:09:27.145033Z\", \"end_time\": \"2021-02-18T07:09:51.277214Z\", \"created_time\": \"2021-02-18T07:09:27.056182Z\", \"created_time_dt\": \"2021-02-18T07:09:27.056182Z\", \"duration\": \"0:00:24\", \"iteration\": \"10\", \"goal\": \"accuracy_max\", \"run_name\": \"RobustScaler, RandomForest\", \"run_properties\": \"copy=True, quantile_range=[10, 90], with_centering=True,\\n             with_scaling=True\", \"primary_metric\": 0.865, \"best_metric\": 0.88}, {\"run_id\": \"AutoML_08081886-92ca-4154-8e50-048d8964b3d2_11\", \"run_number\": 29, \"metric\": null, \"status\": \"Completed\", \"run_type\": null, \"training_percent\": \"100\", \"start_time\": \"2021-02-18T07:09:52.617728Z\", \"end_time\": \"2021-02-18T07:10:21.479262Z\", \"created_time\": \"2021-02-18T07:09:52.513572Z\", \"created_time_dt\": \"2021-02-18T07:09:52.513572Z\", \"duration\": \"0:00:28\", \"iteration\": \"11\", \"goal\": \"accuracy_max\", \"run_name\": \"MaxAbsScaler, LightGBM\", \"run_properties\": \"copy=True\", \"primary_metric\": 0.87, \"best_metric\": 0.88}, {\"run_id\": \"AutoML_08081886-92ca-4154-8e50-048d8964b3d2_12\", \"run_number\": 30, \"metric\": null, \"status\": \"Completed\", \"run_type\": null, \"training_percent\": \"100\", \"start_time\": \"2021-02-18T07:10:22.745726Z\", \"end_time\": \"2021-02-18T07:10:47.025087Z\", \"created_time\": \"2021-02-18T07:10:22.659471Z\", \"created_time_dt\": \"2021-02-18T07:10:22.659471Z\", \"duration\": \"0:00:24\", \"iteration\": \"12\", \"goal\": \"accuracy_max\", \"run_name\": \"RobustScaler, ExtremeRandomTrees\", \"run_properties\": \"copy=True, quantile_range=[25, 75], with_centering=True,\\n             with_scaling=False\", \"primary_metric\": 0.865, \"best_metric\": 0.88}, {\"run_id\": \"AutoML_08081886-92ca-4154-8e50-048d8964b3d2_13\", \"run_number\": 31, \"metric\": null, \"status\": \"Completed\", \"run_type\": null, \"training_percent\": \"100\", \"start_time\": \"2021-02-18T07:10:48.253588Z\", \"end_time\": \"2021-02-18T07:11:22.270827Z\", \"created_time\": \"2021-02-18T07:10:48.155059Z\", \"created_time_dt\": \"2021-02-18T07:10:48.155059Z\", \"duration\": \"0:00:34\", \"iteration\": \"13\", \"goal\": \"accuracy_max\", \"run_name\": \"SparseNormalizer, XGBoostClassifier\", \"run_properties\": \"<azureml.automl.runtime.shared.model_wrappers.SparseNormalizer object at 0x7fc67e69e048\", \"primary_metric\": 0.85, \"best_metric\": 0.88}, {\"run_id\": \"AutoML_08081886-92ca-4154-8e50-048d8964b3d2_14\", \"run_number\": 32, \"metric\": null, \"status\": \"Completed\", \"run_type\": null, \"training_percent\": \"100\", \"start_time\": \"2021-02-18T07:11:23.577533Z\", \"end_time\": \"2021-02-18T07:11:54.716137Z\", \"created_time\": \"2021-02-18T07:11:23.457016Z\", \"created_time_dt\": \"2021-02-18T07:11:23.457016Z\", \"duration\": \"0:00:31\", \"iteration\": \"14\", \"goal\": \"accuracy_max\", \"run_name\": \"StandardScalerWrapper, ExtremeRandomTrees\", \"run_properties\": \"<azureml.automl.runtime.shared.model_wrappers.StandardScalerWrapper object at 0x7fc6243d2630\", \"primary_metric\": 0.87, \"best_metric\": 0.88}, {\"run_id\": \"AutoML_08081886-92ca-4154-8e50-048d8964b3d2_15\", \"run_number\": 33, \"metric\": null, \"status\": \"Completed\", \"run_type\": null, \"training_percent\": \"100\", \"start_time\": \"2021-02-18T07:11:57.162484Z\", \"end_time\": \"2021-02-18T07:12:29.359022Z\", \"created_time\": \"2021-02-18T07:11:56.766996Z\", \"created_time_dt\": \"2021-02-18T07:11:56.766996Z\", \"duration\": \"0:00:32\", \"iteration\": \"15\", \"goal\": \"accuracy_max\", \"run_name\": \"StandardScalerWrapper, XGBoostClassifier\", \"run_properties\": \"<azureml.automl.runtime.shared.model_wrappers.StandardScalerWrapper object at 0x7fc624561550\", \"primary_metric\": 0.84, \"best_metric\": 0.88}, {\"run_id\": \"AutoML_08081886-92ca-4154-8e50-048d8964b3d2_16\", \"run_number\": 34, \"metric\": null, \"status\": \"Completed\", \"run_type\": null, \"training_percent\": \"100\", \"start_time\": \"2021-02-18T07:12:31.82873Z\", \"end_time\": \"2021-02-18T07:12:56.975244Z\", \"created_time\": \"2021-02-18T07:12:31.27705Z\", \"created_time_dt\": \"2021-02-18T07:12:31.27705Z\", \"duration\": \"0:00:25\", \"iteration\": \"16\", \"goal\": \"accuracy_max\", \"run_name\": \"StandardScalerWrapper, GradientBoosting\", \"run_properties\": \"<azureml.automl.runtime.shared.model_wrappers.StandardScalerWrapper object at 0x7fc6244667f0\", \"primary_metric\": 0.86, \"best_metric\": 0.88}, {\"run_id\": \"AutoML_08081886-92ca-4154-8e50-048d8964b3d2_17\", \"run_number\": 35, \"metric\": null, \"status\": \"Completed\", \"run_type\": null, \"training_percent\": \"100\", \"start_time\": \"2021-02-18T07:12:58.905283Z\", \"end_time\": \"2021-02-18T07:13:24.946509Z\", \"created_time\": \"2021-02-18T07:12:58.620723Z\", \"created_time_dt\": \"2021-02-18T07:12:58.620723Z\", \"duration\": \"0:00:26\", \"iteration\": \"17\", \"goal\": \"accuracy_max\", \"run_name\": \"StandardScalerWrapper, ExtremeRandomTrees\", \"run_properties\": \"<azureml.automl.runtime.shared.model_wrappers.StandardScalerWrapper object at 0x7fc67e7c94e0\", \"primary_metric\": 0.79, \"best_metric\": 0.88}, {\"run_id\": \"AutoML_08081886-92ca-4154-8e50-048d8964b3d2_18\", \"run_number\": 36, \"metric\": null, \"status\": \"Completed\", \"run_type\": null, \"training_percent\": \"100\", \"start_time\": \"2021-02-18T07:13:26.217931Z\", \"end_time\": \"2021-02-18T07:13:53.30366Z\", \"created_time\": \"2021-02-18T07:13:26.120847Z\", \"created_time_dt\": \"2021-02-18T07:13:26.120847Z\", \"duration\": \"0:00:27\", \"iteration\": \"18\", \"goal\": \"accuracy_max\", \"run_name\": \"RobustScaler, ExtremeRandomTrees\", \"run_properties\": \"copy=True, quantile_range=[25, 75], with_centering=True,\\n             with_scaling=True\", \"primary_metric\": 0.865, \"best_metric\": 0.88}, {\"run_id\": \"AutoML_08081886-92ca-4154-8e50-048d8964b3d2_19\", \"run_number\": 37, \"metric\": null, \"status\": \"Completed\", \"run_type\": null, \"training_percent\": \"100\", \"start_time\": \"2021-02-18T07:13:55.010658Z\", \"end_time\": \"2021-02-18T07:14:18.708638Z\", \"created_time\": \"2021-02-18T07:13:54.694083Z\", \"created_time_dt\": \"2021-02-18T07:13:54.694083Z\", \"duration\": \"0:00:24\", \"iteration\": \"19\", \"goal\": \"accuracy_max\", \"run_name\": \"StandardScalerWrapper, XGBoostClassifier\", \"run_properties\": \"<azureml.automl.runtime.shared.model_wrappers.StandardScalerWrapper object at 0x7fc5588080f0\", \"primary_metric\": 0.86, \"best_metric\": 0.88}, {\"run_id\": \"AutoML_08081886-92ca-4154-8e50-048d8964b3d2_20\", \"run_number\": 38, \"metric\": null, \"status\": \"Completed\", \"run_type\": null, \"training_percent\": \"100\", \"start_time\": \"2021-02-18T07:14:20.060664Z\", \"end_time\": \"2021-02-18T07:14:48.739214Z\", \"created_time\": \"2021-02-18T07:14:19.958077Z\", \"created_time_dt\": \"2021-02-18T07:14:19.958077Z\", \"duration\": \"0:00:28\", \"iteration\": \"20\", \"goal\": \"accuracy_max\", \"run_name\": \"StandardScalerWrapper, XGBoostClassifier\", \"run_properties\": \"<azureml.automl.runtime.shared.model_wrappers.StandardScalerWrapper object at 0x7fc67e73a5f8\", \"primary_metric\": 0.87, \"best_metric\": 0.88}, {\"run_id\": \"AutoML_08081886-92ca-4154-8e50-048d8964b3d2_21\", \"run_number\": 39, \"metric\": null, \"status\": \"Completed\", \"run_type\": null, \"training_percent\": \"100\", \"start_time\": \"2021-02-18T07:14:50.205518Z\", \"end_time\": \"2021-02-18T07:15:19.209058Z\", \"created_time\": \"2021-02-18T07:14:50.101032Z\", \"created_time_dt\": \"2021-02-18T07:14:50.101032Z\", \"duration\": \"0:00:29\", \"iteration\": \"21\", \"goal\": \"accuracy_max\", \"run_name\": \"SparseNormalizer, XGBoostClassifier\", \"run_properties\": \"<azureml.automl.runtime.shared.model_wrappers.SparseNormalizer object at 0x7fc53582e2b0\", \"primary_metric\": 0.85, \"best_metric\": 0.88}, {\"run_id\": \"AutoML_08081886-92ca-4154-8e50-048d8964b3d2_22\", \"run_number\": 40, \"metric\": null, \"status\": \"Completed\", \"run_type\": null, \"training_percent\": \"100\", \"start_time\": \"2021-02-18T07:15:21.340857Z\", \"end_time\": \"2021-02-18T07:15:51.769116Z\", \"created_time\": \"2021-02-18T07:15:21.21297Z\", \"created_time_dt\": \"2021-02-18T07:15:21.21297Z\", \"duration\": \"0:00:30\", \"iteration\": \"22\", \"goal\": \"accuracy_max\", \"run_name\": \"SparseNormalizer, RandomForest\", \"run_properties\": \"<azureml.automl.runtime.shared.model_wrappers.SparseNormalizer object at 0x7fc67e8bfcc0\", \"primary_metric\": 0.83, \"best_metric\": 0.88}, {\"run_id\": \"AutoML_08081886-92ca-4154-8e50-048d8964b3d2_23\", \"run_number\": 41, \"metric\": null, \"status\": \"Completed\", \"run_type\": null, \"training_percent\": \"100\", \"start_time\": \"2021-02-18T07:15:54.180735Z\", \"end_time\": \"2021-02-18T07:16:26.348952Z\", \"created_time\": \"2021-02-18T07:15:53.755012Z\", \"created_time_dt\": \"2021-02-18T07:15:53.755012Z\", \"duration\": \"0:00:32\", \"iteration\": \"23\", \"goal\": \"accuracy_max\", \"run_name\": \"StandardScalerWrapper, LightGBM\", \"run_properties\": \"<azureml.automl.runtime.shared.model_wrappers.StandardScalerWrapper object at 0x7fc5358322b0\", \"primary_metric\": 0.755, \"best_metric\": 0.88}, {\"run_id\": \"AutoML_08081886-92ca-4154-8e50-048d8964b3d2_24\", \"run_number\": 42, \"metric\": null, \"status\": \"Completed\", \"run_type\": null, \"training_percent\": \"100\", \"start_time\": \"2021-02-18T07:16:28.518632Z\", \"end_time\": \"2021-02-18T07:17:05.508829Z\", \"created_time\": \"2021-02-18T07:16:28.151574Z\", \"created_time_dt\": \"2021-02-18T07:16:28.151574Z\", \"duration\": \"0:00:37\", \"iteration\": \"24\", \"goal\": \"accuracy_max\", \"run_name\": \"StandardScalerWrapper, LightGBM\", \"run_properties\": \"<azureml.automl.runtime.shared.model_wrappers.StandardScalerWrapper object at 0x7fc67e73a518\", \"primary_metric\": 0.835, \"best_metric\": 0.88}, {\"run_id\": \"AutoML_08081886-92ca-4154-8e50-048d8964b3d2_25\", \"run_number\": 43, \"metric\": null, \"status\": \"Completed\", \"run_type\": null, \"training_percent\": \"100\", \"start_time\": \"2021-02-18T07:17:07.712155Z\", \"end_time\": \"2021-02-18T07:17:32.535588Z\", \"created_time\": \"2021-02-18T07:17:07.623837Z\", \"created_time_dt\": \"2021-02-18T07:17:07.623837Z\", \"duration\": \"0:00:24\", \"iteration\": \"25\", \"goal\": \"accuracy_max\", \"run_name\": \"MinMaxScaler, GradientBoosting\", \"run_properties\": \"copy=True, feature_range=(0, 1\", \"primary_metric\": 0.73, \"best_metric\": 0.88}, {\"run_id\": \"AutoML_08081886-92ca-4154-8e50-048d8964b3d2_26\", \"run_number\": 44, \"metric\": null, \"status\": \"Completed\", \"run_type\": null, \"training_percent\": \"100\", \"start_time\": \"2021-02-18T07:17:33.839058Z\", \"end_time\": \"2021-02-18T07:17:57.778384Z\", \"created_time\": \"2021-02-18T07:17:33.736716Z\", \"created_time_dt\": \"2021-02-18T07:17:33.736716Z\", \"duration\": \"0:00:24\", \"iteration\": \"26\", \"goal\": \"accuracy_max\", \"run_name\": \"MinMaxScaler, LightGBM\", \"run_properties\": \"copy=True, feature_range=(0, 1\", \"primary_metric\": 0.86, \"best_metric\": 0.88}, {\"run_id\": \"AutoML_08081886-92ca-4154-8e50-048d8964b3d2_27\", \"run_number\": 45, \"metric\": null, \"status\": \"Completed\", \"run_type\": null, \"training_percent\": \"100\", \"start_time\": \"2021-02-18T07:17:59.136309Z\", \"end_time\": \"2021-02-18T07:18:28.193783Z\", \"created_time\": \"2021-02-18T07:17:59.042274Z\", \"created_time_dt\": \"2021-02-18T07:17:59.042274Z\", \"duration\": \"0:00:29\", \"iteration\": \"27\", \"goal\": \"accuracy_max\", \"run_name\": \"MaxAbsScaler, RandomForest\", \"run_properties\": \"copy=True\", \"primary_metric\": 0.84, \"best_metric\": 0.88}, {\"run_id\": \"AutoML_08081886-92ca-4154-8e50-048d8964b3d2_28\", \"run_number\": 46, \"metric\": null, \"status\": \"Completed\", \"run_type\": null, \"training_percent\": \"100\", \"start_time\": \"2021-02-18T07:18:29.416143Z\", \"end_time\": \"2021-02-18T07:18:53.269144Z\", \"created_time\": \"2021-02-18T07:18:29.3293Z\", \"created_time_dt\": \"2021-02-18T07:18:29.3293Z\", \"duration\": \"0:00:23\", \"iteration\": \"28\", \"goal\": \"accuracy_max\", \"run_name\": \"StandardScalerWrapper, XGBoostClassifier\", \"run_properties\": \"<azureml.automl.runtime.shared.model_wrappers.StandardScalerWrapper object at 0x7fc55afb6a20\", \"primary_metric\": 0.855, \"best_metric\": 0.88}, {\"run_id\": \"AutoML_08081886-92ca-4154-8e50-048d8964b3d2_29\", \"run_number\": 47, \"metric\": null, \"status\": \"Completed\", \"run_type\": null, \"training_percent\": \"100\", \"start_time\": \"2021-02-18T07:18:54.511494Z\", \"end_time\": \"2021-02-18T07:19:22.977742Z\", \"created_time\": \"2021-02-18T07:18:54.429195Z\", \"created_time_dt\": \"2021-02-18T07:18:54.429195Z\", \"duration\": \"0:00:28\", \"iteration\": \"29\", \"goal\": \"accuracy_max\", \"run_name\": \"MaxAbsScaler, LightGBM\", \"run_properties\": \"copy=True\", \"primary_metric\": 0.775, \"best_metric\": 0.88}, {\"run_id\": \"AutoML_08081886-92ca-4154-8e50-048d8964b3d2_30\", \"run_number\": 48, \"metric\": null, \"status\": \"Completed\", \"run_type\": null, \"training_percent\": \"100\", \"start_time\": \"2021-02-18T07:19:23.356351Z\", \"end_time\": \"2021-02-18T07:19:43.266195Z\", \"created_time\": \"2021-02-18T07:19:23.261763Z\", \"created_time_dt\": \"2021-02-18T07:19:23.261763Z\", \"duration\": \"0:00:20\", \"iteration\": \"30\", \"goal\": \"accuracy_max\", \"run_name\": \"VotingEnsemble\", \"run_properties\": \"classification_labels=None,\\n                              estimators=[('6',\\n                                           Pipeline(memory=None,\\n                                                    steps=[('maxabsscaler',\\n                                                            MaxAbsScaler(copy=True\", \"primary_metric\": 0.9, \"best_metric\": 0.9}, {\"run_id\": \"AutoML_08081886-92ca-4154-8e50-048d8964b3d2_31\", \"run_number\": 49, \"metric\": null, \"status\": \"Completed\", \"run_type\": null, \"training_percent\": \"100\", \"start_time\": \"2021-02-18T07:19:43.554473Z\", \"end_time\": \"2021-02-18T07:20:15.532254Z\", \"created_time\": \"2021-02-18T07:19:43.471512Z\", \"created_time_dt\": \"2021-02-18T07:19:43.471512Z\", \"duration\": \"0:00:32\", \"iteration\": \"31\", \"goal\": \"accuracy_max\", \"run_name\": \"StackEnsemble\", \"run_properties\": \"base_learners=[('6',\\n                                        Pipeline(memory=None,\\n                                                 steps=[('maxabsscaler',\\n                                                         MaxAbsScaler(copy=True\", \"primary_metric\": 0.875, \"best_metric\": 0.9}], \"children_metrics\": {\"categories\": [0], \"series\": {\"log_loss\": [{\"categories\": [\"0\", \"1\", \"2\", \"3\", \"4\", \"5\", \"6\", \"7\", \"8\", \"9\", \"10\", \"11\", \"12\", \"13\", \"14\", \"15\", \"16\", \"17\", \"18\", \"19\", \"20\", \"21\", \"22\", \"23\", \"24\", \"25\", \"26\", \"27\", \"28\", \"29\", \"30\", \"31\"], \"mode\": \"markers\", \"name\": \"log_loss\", \"stepped\": false, \"type\": \"scatter\", \"data\": [0.4549031880038983, 0.357466519013178, 0.48180787363200295, 0.3419463465576604, 0.35849057621098357, 0.4473308978024927, 0.32081166622370394, 0.31593833527550524, 0.3373867798433216, 0.34868554187858614, 0.32624229742731414, 0.4016162947008164, 0.3684173085516187, 0.43146774258574905, 0.36665126996244785, 0.4624304803294636, 0.38068807094861734, 0.4259838837742018, 0.3774139028966949, 0.40780216743533515, 0.4077749053944146, 0.336540725879334, 0.348344902161294, 0.4613594733611633, 0.34264388702525483, 0.556037226555088, 0.3595447058422726, 0.3625272459872797, 0.34988938581320295, 0.4481491906948003, 0.3454343914554711, 0.3513267204388319]}, {\"categories\": [\"0\", \"1\", \"2\", \"3\", \"4\", \"5\", \"6\", \"7\", \"8\", \"9\", \"10\", \"11\", \"12\", \"13\", \"14\", \"15\", \"16\", \"17\", \"18\", \"19\", \"20\", \"21\", \"22\", \"23\", \"24\", \"25\", \"26\", \"27\", \"28\", \"29\", \"30\", \"31\"], \"mode\": \"lines\", \"name\": \"log_loss_min\", \"stepped\": true, \"type\": \"scatter\", \"data\": [0.4549031880038983, 0.357466519013178, 0.357466519013178, 0.3419463465576604, 0.3419463465576604, 0.3419463465576604, 0.32081166622370394, 0.31593833527550524, 0.31593833527550524, 0.31593833527550524, 0.31593833527550524, 0.31593833527550524, 0.31593833527550524, 0.31593833527550524, 0.31593833527550524, 0.31593833527550524, 0.31593833527550524, 0.31593833527550524, 0.31593833527550524, 0.31593833527550524, 0.31593833527550524, 0.31593833527550524, 0.31593833527550524, 0.31593833527550524, 0.31593833527550524, 0.31593833527550524, 0.31593833527550524, 0.31593833527550524, 0.31593833527550524, 0.31593833527550524, 0.31593833527550524, 0.31593833527550524]}], \"precision_score_weighted\": [{\"categories\": [\"0\", \"1\", \"2\", \"3\", \"4\", \"5\", \"6\", \"7\", \"8\", \"9\", \"10\", \"11\", \"12\", \"13\", \"14\", \"15\", \"16\", \"17\", \"18\", \"19\", \"20\", \"21\", \"22\", \"23\", \"24\", \"25\", \"26\", \"27\", \"28\", \"29\", \"30\", \"31\"], \"mode\": \"markers\", \"name\": \"precision_score_weighted\", \"stepped\": false, \"type\": \"scatter\", \"data\": [0.8056600361663653, 0.8489293139293139, 0.8552201610857433, 0.8382157926461724, 0.825, 0.8127515987551377, 0.8805304605304606, 0.8817708333333334, 0.8597743277524099, 0.8412890658012608, 0.864483024691358, 0.8721017487427372, 0.8735022828258123, 0.8465789473684211, 0.8780919595500378, 0.8365013223401575, 0.8609407484407483, 0.8140679034227422, 0.8735963455149502, 0.8566726943942133, 0.8718491824510279, 0.8470584689572032, 0.831267230576441, 0.6731026315789475, 0.8349797985422778, 0.5333, 0.858456901748041, 0.8425462550306566, 0.8512023078942416, 0.7791856060606062, 0.9041585445094216, 0.8837848452634065]}, {\"categories\": [\"0\", \"1\", \"2\", \"3\", \"4\", \"5\", \"6\", \"7\", \"8\", \"9\", \"10\", \"11\", \"12\", \"13\", \"14\", \"15\", \"16\", \"17\", \"18\", \"19\", \"20\", \"21\", \"22\", \"23\", \"24\", \"25\", \"26\", \"27\", \"28\", \"29\", \"30\", \"31\"], \"mode\": \"lines\", \"name\": \"precision_score_weighted_max\", \"stepped\": true, \"type\": \"scatter\", \"data\": [0.8056600361663653, 0.8489293139293139, 0.8552201610857433, 0.8552201610857433, 0.8552201610857433, 0.8552201610857433, 0.8805304605304606, 0.8817708333333334, 0.8817708333333334, 0.8817708333333334, 0.8817708333333334, 0.8817708333333334, 0.8817708333333334, 0.8817708333333334, 0.8817708333333334, 0.8817708333333334, 0.8817708333333334, 0.8817708333333334, 0.8817708333333334, 0.8817708333333334, 0.8817708333333334, 0.8817708333333334, 0.8817708333333334, 0.8817708333333334, 0.8817708333333334, 0.8817708333333334, 0.8817708333333334, 0.8817708333333334, 0.8817708333333334, 0.8817708333333334, 0.9041585445094216, 0.9041585445094216]}], \"average_precision_score_macro\": [{\"categories\": [\"0\", \"1\", \"2\", \"3\", \"4\", \"5\", \"6\", \"7\", \"8\", \"9\", \"10\", \"11\", \"12\", \"13\", \"14\", \"15\", \"16\", \"17\", \"18\", \"19\", \"20\", \"21\", \"22\", \"23\", \"24\", \"25\", \"26\", \"27\", \"28\", \"29\", \"30\", \"31\"], \"mode\": \"markers\", \"name\": \"average_precision_score_macro\", \"stepped\": false, \"type\": \"scatter\", \"data\": [0.8269434533200687, 0.8713010810671512, 0.867651445207069, 0.8995873543758192, 0.8567123608502429, 0.7949506003334627, 0.8986414948171583, 0.9124334360906983, 0.8884426449299424, 0.8681684164230012, 0.8968051963194696, 0.8721298141481688, 0.8933782755816669, 0.8828623035093627, 0.9059363561982623, 0.8906511424709784, 0.8821809470492162, 0.8734859556512634, 0.8714721963191642, 0.8708504190728198, 0.888705811809226, 0.8814409632299135, 0.8802604419314152, 0.8831666819242763, 0.8768881453716207, 0.8826382411153899, 0.848246207519991, 0.8990076125742357, 0.8860410282876715, 0.7773826156373416, 0.9066856377957415, 0.9054145058289282]}, {\"categories\": [\"0\", \"1\", \"2\", \"3\", \"4\", \"5\", \"6\", \"7\", \"8\", \"9\", \"10\", \"11\", \"12\", \"13\", \"14\", \"15\", \"16\", \"17\", \"18\", \"19\", \"20\", \"21\", \"22\", \"23\", \"24\", \"25\", \"26\", \"27\", \"28\", \"29\", \"30\", \"31\"], \"mode\": \"lines\", \"name\": \"average_precision_score_macro_max\", \"stepped\": true, \"type\": \"scatter\", \"data\": [0.8269434533200687, 0.8713010810671512, 0.8713010810671512, 0.8995873543758192, 0.8995873543758192, 0.8995873543758192, 0.8995873543758192, 0.9124334360906983, 0.9124334360906983, 0.9124334360906983, 0.9124334360906983, 0.9124334360906983, 0.9124334360906983, 0.9124334360906983, 0.9124334360906983, 0.9124334360906983, 0.9124334360906983, 0.9124334360906983, 0.9124334360906983, 0.9124334360906983, 0.9124334360906983, 0.9124334360906983, 0.9124334360906983, 0.9124334360906983, 0.9124334360906983, 0.9124334360906983, 0.9124334360906983, 0.9124334360906983, 0.9124334360906983, 0.9124334360906983, 0.9124334360906983, 0.9124334360906983]}], \"AUC_macro\": [{\"categories\": [\"0\", \"1\", \"2\", \"3\", \"4\", \"5\", \"6\", \"7\", \"8\", \"9\", \"10\", \"11\", \"12\", \"13\", \"14\", \"15\", \"16\", \"17\", \"18\", \"19\", \"20\", \"21\", \"22\", \"23\", \"24\", \"25\", \"26\", \"27\", \"28\", \"29\", \"30\", \"31\"], \"mode\": \"markers\", \"name\": \"AUC_macro\", \"stepped\": false, \"type\": \"scatter\", \"data\": [0.8702254168690302, 0.9179087582969079, 0.9111263720252549, 0.9293232313420754, 0.9051581026388213, 0.8175933948518699, 0.9281703092115914, 0.941631860126275, 0.9251802493119637, 0.9086707463169824, 0.9229062004209163, 0.9030628460417678, 0.9147552533592359, 0.9152613890237979, 0.9242463331714424, 0.9208942852517403, 0.912137412983649, 0.902514748259673, 0.9015706006151853, 0.9041164319248826, 0.9212931843937187, 0.9193850736603529, 0.9125776914359721, 0.9143570017807998, 0.906914165452485, 0.9153328800388538, 0.9015314877772381, 0.9268040796503157, 0.9228131455399061, 0.8396080945442771, 0.9327751335599805, 0.935084345151368]}, {\"categories\": [\"0\", \"1\", \"2\", \"3\", \"4\", \"5\", \"6\", \"7\", \"8\", \"9\", \"10\", \"11\", \"12\", \"13\", \"14\", \"15\", \"16\", \"17\", \"18\", \"19\", \"20\", \"21\", \"22\", \"23\", \"24\", \"25\", \"26\", \"27\", \"28\", \"29\", \"30\", \"31\"], \"mode\": \"lines\", \"name\": \"AUC_macro_max\", \"stepped\": true, \"type\": \"scatter\", \"data\": [0.8702254168690302, 0.9179087582969079, 0.9179087582969079, 0.9293232313420754, 0.9293232313420754, 0.9293232313420754, 0.9293232313420754, 0.941631860126275, 0.941631860126275, 0.941631860126275, 0.941631860126275, 0.941631860126275, 0.941631860126275, 0.941631860126275, 0.941631860126275, 0.941631860126275, 0.941631860126275, 0.941631860126275, 0.941631860126275, 0.941631860126275, 0.941631860126275, 0.941631860126275, 0.941631860126275, 0.941631860126275, 0.941631860126275, 0.941631860126275, 0.941631860126275, 0.941631860126275, 0.941631860126275, 0.941631860126275, 0.941631860126275, 0.941631860126275]}], \"precision_score_macro\": [{\"categories\": [\"0\", \"1\", \"2\", \"3\", \"4\", \"5\", \"6\", \"7\", \"8\", \"9\", \"10\", \"11\", \"12\", \"13\", \"14\", \"15\", \"16\", \"17\", \"18\", \"19\", \"20\", \"21\", \"22\", \"23\", \"24\", \"25\", \"26\", \"27\", \"28\", \"29\", \"30\", \"31\"], \"mode\": \"markers\", \"name\": \"precision_score_macro\", \"stepped\": false, \"type\": \"scatter\", \"data\": [0.7642676311030742, 0.8113305613305614, 0.8274368975139523, 0.8270644966847499, 0.8, 0.7887952542907042, 0.8592736092736093, 0.8760416666666667, 0.824728564180619, 0.8150786809323395, 0.8485826835607537, 0.8654607802452378, 0.8646314866903102, 0.8157894736842105, 0.8775171941481611, 0.8254347512743325, 0.8374220374220374, 0.8358541100476584, 0.8689645625692137, 0.8414707655213984, 0.8357584587987696, 0.8193369499698614, 0.7877245196324143, 0.6248684210526316, 0.8040907178478178, 0.365, 0.8344062688366486, 0.842712638089836, 0.8240013942960167, 0.7443560606060606, 0.899558154645874, 0.8697486022521459]}, {\"categories\": [\"0\", \"1\", \"2\", \"3\", \"4\", \"5\", \"6\", \"7\", \"8\", \"9\", \"10\", \"11\", \"12\", \"13\", \"14\", \"15\", \"16\", \"17\", \"18\", \"19\", \"20\", \"21\", \"22\", \"23\", \"24\", \"25\", \"26\", \"27\", \"28\", \"29\", \"30\", \"31\"], \"mode\": \"lines\", \"name\": \"precision_score_macro_max\", \"stepped\": true, \"type\": \"scatter\", \"data\": [0.7642676311030742, 0.8113305613305614, 0.8274368975139523, 0.8274368975139523, 0.8274368975139523, 0.8274368975139523, 0.8592736092736093, 0.8760416666666667, 0.8760416666666667, 0.8760416666666667, 0.8760416666666667, 0.8760416666666667, 0.8760416666666667, 0.8760416666666667, 0.8775171941481611, 0.8775171941481611, 0.8775171941481611, 0.8775171941481611, 0.8775171941481611, 0.8775171941481611, 0.8775171941481611, 0.8775171941481611, 0.8775171941481611, 0.8775171941481611, 0.8775171941481611, 0.8775171941481611, 0.8775171941481611, 0.8775171941481611, 0.8775171941481611, 0.8775171941481611, 0.899558154645874, 0.899558154645874]}], \"AUC_micro\": [{\"categories\": [\"0\", \"1\", \"2\", \"3\", \"4\", \"5\", \"6\", \"7\", \"8\", \"9\", \"10\", \"11\", \"12\", \"13\", \"14\", \"15\", \"16\", \"17\", \"18\", \"19\", \"20\", \"21\", \"22\", \"23\", \"24\", \"25\", \"26\", \"27\", \"28\", \"29\", \"30\", \"31\"], \"mode\": \"markers\", \"name\": \"AUC_micro\", \"stepped\": false, \"type\": \"scatter\", \"data\": [0.9059999999999999, 0.9322999999999999, 0.93085, 0.9397, 0.919, 0.87365, 0.9420999999999999, 0.9479500000000001, 0.9394, 0.9263000000000001, 0.9386000000000001, 0.9214, 0.92535, 0.9344000000000001, 0.9315, 0.9298, 0.9287000000000001, 0.8995, 0.91875, 0.9222, 0.9410000000000001, 0.9327999999999999, 0.92975, 0.89405, 0.92825, 0.8931, 0.9259999999999999, 0.9316, 0.9356500000000001, 0.87825, 0.9436, 0.94235]}, {\"categories\": [\"0\", \"1\", \"2\", \"3\", \"4\", \"5\", \"6\", \"7\", \"8\", \"9\", \"10\", \"11\", \"12\", \"13\", \"14\", \"15\", \"16\", \"17\", \"18\", \"19\", \"20\", \"21\", \"22\", \"23\", \"24\", \"25\", \"26\", \"27\", \"28\", \"29\", \"30\", \"31\"], \"mode\": \"lines\", \"name\": \"AUC_micro_max\", \"stepped\": true, \"type\": \"scatter\", \"data\": [0.9059999999999999, 0.9322999999999999, 0.9322999999999999, 0.9397, 0.9397, 0.9397, 0.9420999999999999, 0.9479500000000001, 0.9479500000000001, 0.9479500000000001, 0.9479500000000001, 0.9479500000000001, 0.9479500000000001, 0.9479500000000001, 0.9479500000000001, 0.9479500000000001, 0.9479500000000001, 0.9479500000000001, 0.9479500000000001, 0.9479500000000001, 0.9479500000000001, 0.9479500000000001, 0.9479500000000001, 0.9479500000000001, 0.9479500000000001, 0.9479500000000001, 0.9479500000000001, 0.9479500000000001, 0.9479500000000001, 0.9479500000000001, 0.9479500000000001, 0.9479500000000001]}], \"AUC_weighted\": [{\"categories\": [\"0\", \"1\", \"2\", \"3\", \"4\", \"5\", \"6\", \"7\", \"8\", \"9\", \"10\", \"11\", \"12\", \"13\", \"14\", \"15\", \"16\", \"17\", \"18\", \"19\", \"20\", \"21\", \"22\", \"23\", \"24\", \"25\", \"26\", \"27\", \"28\", \"29\", \"30\", \"31\"], \"mode\": \"markers\", \"name\": \"AUC_weighted\", \"stepped\": false, \"type\": \"scatter\", \"data\": [0.8702254168690302, 0.9179087582969079, 0.9111263720252549, 0.9293232313420754, 0.9051581026388213, 0.8175933948518699, 0.9281703092115914, 0.941631860126275, 0.9251802493119636, 0.9086707463169823, 0.9229062004209163, 0.9030628460417678, 0.914755253359236, 0.9152613890237979, 0.9242463331714424, 0.9208942852517403, 0.9121374129836489, 0.902514748259673, 0.9015706006151855, 0.9041164319248826, 0.9212931843937187, 0.9193850736603529, 0.9125776914359721, 0.9143570017807998, 0.906914165452485, 0.9153328800388538, 0.9015314877772381, 0.9268040796503156, 0.9228131455399061, 0.8396080945442771, 0.9327751335599805, 0.935084345151368]}, {\"categories\": [\"0\", \"1\", \"2\", \"3\", \"4\", \"5\", \"6\", \"7\", \"8\", \"9\", \"10\", \"11\", \"12\", \"13\", \"14\", \"15\", \"16\", \"17\", \"18\", \"19\", \"20\", \"21\", \"22\", \"23\", \"24\", \"25\", \"26\", \"27\", \"28\", \"29\", \"30\", \"31\"], \"mode\": \"lines\", \"name\": \"AUC_weighted_max\", \"stepped\": true, \"type\": \"scatter\", \"data\": [0.8702254168690302, 0.9179087582969079, 0.9179087582969079, 0.9293232313420754, 0.9293232313420754, 0.9293232313420754, 0.9293232313420754, 0.941631860126275, 0.941631860126275, 0.941631860126275, 0.941631860126275, 0.941631860126275, 0.941631860126275, 0.941631860126275, 0.941631860126275, 0.941631860126275, 0.941631860126275, 0.941631860126275, 0.941631860126275, 0.941631860126275, 0.941631860126275, 0.941631860126275, 0.941631860126275, 0.941631860126275, 0.941631860126275, 0.941631860126275, 0.941631860126275, 0.941631860126275, 0.941631860126275, 0.941631860126275, 0.941631860126275, 0.941631860126275]}], \"accuracy\": [{\"categories\": [\"0\", \"1\", \"2\", \"3\", \"4\", \"5\", \"6\", \"7\", \"8\", \"9\", \"10\", \"11\", \"12\", \"13\", \"14\", \"15\", \"16\", \"17\", \"18\", \"19\", \"20\", \"21\", \"22\", \"23\", \"24\", \"25\", \"26\", \"27\", \"28\", \"29\", \"30\", \"31\"], \"mode\": \"markers\", \"name\": \"accuracy\", \"stepped\": false, \"type\": \"scatter\", \"data\": [0.81, 0.85, 0.855, 0.8400000000000001, 0.8300000000000001, 0.815, 0.88, 0.875, 0.86, 0.84, 0.865, 0.87, 0.865, 0.85, 0.87, 0.84, 0.86, 0.79, 0.865, 0.86, 0.87, 0.85, 0.83, 0.755, 0.835, 0.73, 0.86, 0.8400000000000001, 0.855, 0.775, 0.9, 0.875]}, {\"categories\": [\"0\", \"1\", \"2\", \"3\", \"4\", \"5\", \"6\", \"7\", \"8\", \"9\", \"10\", \"11\", \"12\", \"13\", \"14\", \"15\", \"16\", \"17\", \"18\", \"19\", \"20\", \"21\", \"22\", \"23\", \"24\", \"25\", \"26\", \"27\", \"28\", \"29\", \"30\", \"31\"], \"mode\": \"lines\", \"name\": \"accuracy_max\", \"stepped\": true, \"type\": \"scatter\", \"data\": [0.81, 0.85, 0.855, 0.855, 0.855, 0.855, 0.88, 0.88, 0.88, 0.88, 0.88, 0.88, 0.88, 0.88, 0.88, 0.88, 0.88, 0.88, 0.88, 0.88, 0.88, 0.88, 0.88, 0.88, 0.88, 0.88, 0.88, 0.88, 0.88, 0.88, 0.9, 0.9]}], \"average_precision_score_weighted\": [{\"categories\": [\"0\", \"1\", \"2\", \"3\", \"4\", \"5\", \"6\", \"7\", \"8\", \"9\", \"10\", \"11\", \"12\", \"13\", \"14\", \"15\", \"16\", \"17\", \"18\", \"19\", \"20\", \"21\", \"22\", \"23\", \"24\", \"25\", \"26\", \"27\", \"28\", \"29\", \"30\", \"31\"], \"mode\": \"markers\", \"name\": \"average_precision_score_weighted\", \"stepped\": false, \"type\": \"scatter\", \"data\": [0.8820937322303385, 0.9164363393885221, 0.9093449727678453, 0.93265398200184, 0.9072716899661705, 0.8535570090781195, 0.9328168912293364, 0.9423642652538613, 0.9266789728896958, 0.9123825708299262, 0.9279440011748523, 0.906107952646027, 0.9272875661153344, 0.9217923259694176, 0.9346730193191991, 0.9280603732389798, 0.9207260918491762, 0.9133011380960623, 0.9116281266048825, 0.9094242272660586, 0.9190502751584569, 0.9225236672980609, 0.9211746303602482, 0.9204299596500182, 0.9132074126476024, 0.9216181992429661, 0.8977330411478099, 0.9320368886835299, 0.9256869848553502, 0.8437330338381133, 0.9370388358003119, 0.9376763270480133]}, {\"categories\": [\"0\", \"1\", \"2\", \"3\", \"4\", \"5\", \"6\", \"7\", \"8\", \"9\", \"10\", \"11\", \"12\", \"13\", \"14\", \"15\", \"16\", \"17\", \"18\", \"19\", \"20\", \"21\", \"22\", \"23\", \"24\", \"25\", \"26\", \"27\", \"28\", \"29\", \"30\", \"31\"], \"mode\": \"lines\", \"name\": \"average_precision_score_weighted_max\", \"stepped\": true, \"type\": \"scatter\", \"data\": [0.8820937322303385, 0.9164363393885221, 0.9164363393885221, 0.93265398200184, 0.93265398200184, 0.93265398200184, 0.9328168912293364, 0.9423642652538613, 0.9423642652538613, 0.9423642652538613, 0.9423642652538613, 0.9423642652538613, 0.9423642652538613, 0.9423642652538613, 0.9423642652538613, 0.9423642652538613, 0.9423642652538613, 0.9423642652538613, 0.9423642652538613, 0.9423642652538613, 0.9423642652538613, 0.9423642652538613, 0.9423642652538613, 0.9423642652538613, 0.9423642652538613, 0.9423642652538613, 0.9423642652538613, 0.9423642652538613, 0.9423642652538613, 0.9423642652538613, 0.9423642652538613, 0.9423642652538613]}], \"weighted_accuracy\": [{\"categories\": [\"0\", \"1\", \"2\", \"3\", \"4\", \"5\", \"6\", \"7\", \"8\", \"9\", \"10\", \"11\", \"12\", \"13\", \"14\", \"15\", \"16\", \"17\", \"18\", \"19\", \"20\", \"21\", \"22\", \"23\", \"24\", \"25\", \"26\", \"27\", \"28\", \"29\", \"30\", \"31\"], \"mode\": \"markers\", \"name\": \"weighted_accuracy\", \"stepped\": false, \"type\": \"scatter\", \"data\": [0.8572757565453928, 0.8791009860591636, 0.8918116286977218, 0.8999863991839511, 0.8863121387283237, 0.8775212512750765, 0.9112424345460728, 0.9194525671540292, 0.8871363481808909, 0.8853818429105746, 0.9078469908194492, 0.917417205032302, 0.9109874192451548, 0.8866712002720163, 0.9205222713362802, 0.9018469908194492, 0.8983121387283237, 0.8977667460047603, 0.9145222713362802, 0.9062767766065964, 0.8911363481808909, 0.8897762665759946, 0.8626712002720164, 0.8885107106426386, 0.8788813328799729, 0.8785107106426386, 0.8982767766065964, 0.9080217613056785, 0.8922060523631419, 0.8450914654879293, 0.934848010880653, 0.9119177150629039]}, {\"categories\": [\"0\", \"1\", \"2\", \"3\", \"4\", \"5\", \"6\", \"7\", \"8\", \"9\", \"10\", \"11\", \"12\", \"13\", \"14\", \"15\", \"16\", \"17\", \"18\", \"19\", \"20\", \"21\", \"22\", \"23\", \"24\", \"25\", \"26\", \"27\", \"28\", \"29\", \"30\", \"31\"], \"mode\": \"lines\", \"name\": \"weighted_accuracy_max\", \"stepped\": true, \"type\": \"scatter\", \"data\": [0.8572757565453928, 0.8791009860591636, 0.8918116286977218, 0.8999863991839511, 0.8999863991839511, 0.8999863991839511, 0.9112424345460728, 0.9194525671540292, 0.9194525671540292, 0.9194525671540292, 0.9194525671540292, 0.9194525671540292, 0.9194525671540292, 0.9194525671540292, 0.9205222713362802, 0.9205222713362802, 0.9205222713362802, 0.9205222713362802, 0.9205222713362802, 0.9205222713362802, 0.9205222713362802, 0.9205222713362802, 0.9205222713362802, 0.9205222713362802, 0.9205222713362802, 0.9205222713362802, 0.9205222713362802, 0.9205222713362802, 0.9205222713362802, 0.9205222713362802, 0.934848010880653, 0.934848010880653]}], \"recall_score_macro\": [{\"categories\": [\"0\", \"1\", \"2\", \"3\", \"4\", \"5\", \"6\", \"7\", \"8\", \"9\", \"10\", \"11\", \"12\", \"13\", \"14\", \"15\", \"16\", \"17\", \"18\", \"19\", \"20\", \"21\", \"22\", \"23\", \"24\", \"25\", \"26\", \"27\", \"28\", \"29\", \"30\", \"31\"], \"mode\": \"markers\", \"name\": \"recall_score_macro\", \"stepped\": false, \"type\": \"scatter\", \"data\": [0.7381835842642059, 0.8058118827909988, 0.8005131941071717, 0.7495515622470454, 0.7426550105229075, 0.720930872591873, 0.8332297231665857, 0.8091225514003562, 0.8193330095515622, 0.7720802978792294, 0.8007009875344018, 0.7989347579731261, 0.7971685284118505, 0.7940456532297232, 0.7952145054233446, 0.7440343208677351, 0.8026550105229076, 0.6236781609195403, 0.7918811720900114, 0.7891338837623442, 0.8393330095515622, 0.7903254006799417, 0.7807123198963899, 0.55, 0.7699384814634935, 0.5, 0.8024672170956775, 0.7364060223409422, 0.7987582969078841, 0.6691646430305973, 0.8483179536992067, 0.821076574388862]}, {\"categories\": [\"0\", \"1\", \"2\", \"3\", \"4\", \"5\", \"6\", \"7\", \"8\", \"9\", \"10\", \"11\", \"12\", \"13\", \"14\", \"15\", \"16\", \"17\", \"18\", \"19\", \"20\", \"21\", \"22\", \"23\", \"24\", \"25\", \"26\", \"27\", \"28\", \"29\", \"30\", \"31\"], \"mode\": \"lines\", \"name\": \"recall_score_macro_max\", \"stepped\": true, \"type\": \"scatter\", \"data\": [0.7381835842642059, 0.8058118827909988, 0.8058118827909988, 0.8058118827909988, 0.8058118827909988, 0.8058118827909988, 0.8332297231665857, 0.8332297231665857, 0.8332297231665857, 0.8332297231665857, 0.8332297231665857, 0.8332297231665857, 0.8332297231665857, 0.8332297231665857, 0.8332297231665857, 0.8332297231665857, 0.8332297231665857, 0.8332297231665857, 0.8332297231665857, 0.8332297231665857, 0.8393330095515622, 0.8393330095515622, 0.8393330095515622, 0.8393330095515622, 0.8393330095515622, 0.8393330095515622, 0.8393330095515622, 0.8393330095515622, 0.8393330095515622, 0.8393330095515622, 0.8483179536992067, 0.8483179536992067]}], \"average_precision_score_micro\": [{\"categories\": [\"0\", \"1\", \"2\", \"3\", \"4\", \"5\", \"6\", \"7\", \"8\", \"9\", \"10\", \"11\", \"12\", \"13\", \"14\", \"15\", \"16\", \"17\", \"18\", \"19\", \"20\", \"21\", \"22\", \"23\", \"24\", \"25\", \"26\", \"27\", \"28\", \"29\", \"30\", \"31\"], \"mode\": \"markers\", \"name\": \"average_precision_score_micro\", \"stepped\": false, \"type\": \"scatter\", \"data\": [0.9068873233451877, 0.9332951749857434, 0.9259298251575169, 0.9423116346946191, 0.9184089987324411, 0.8740304233251994, 0.9441557371296521, 0.9499164324300712, 0.9415141697225337, 0.9282633061251023, 0.9361000180000354, 0.914075717679885, 0.92776496768715, 0.9377190681146895, 0.9324996185328345, 0.9338655152850037, 0.9295768605459298, 0.9048008337012969, 0.9181601800181278, 0.9190397596646926, 0.9332239414991081, 0.9365534504194315, 0.9331379929100931, 0.9010432929509924, 0.9252129594183011, 0.9026980464895465, 0.9229092953007533, 0.9351949109083695, 0.9391671175077975, 0.868194922655342, 0.9447173412393072, 0.9444047246183938]}, {\"categories\": [\"0\", \"1\", \"2\", \"3\", \"4\", \"5\", \"6\", \"7\", \"8\", \"9\", \"10\", \"11\", \"12\", \"13\", \"14\", \"15\", \"16\", \"17\", \"18\", \"19\", \"20\", \"21\", \"22\", \"23\", \"24\", \"25\", \"26\", \"27\", \"28\", \"29\", \"30\", \"31\"], \"mode\": \"lines\", \"name\": \"average_precision_score_micro_max\", \"stepped\": true, \"type\": \"scatter\", \"data\": [0.9068873233451877, 0.9332951749857434, 0.9332951749857434, 0.9423116346946191, 0.9423116346946191, 0.9423116346946191, 0.9441557371296521, 0.9499164324300712, 0.9499164324300712, 0.9499164324300712, 0.9499164324300712, 0.9499164324300712, 0.9499164324300712, 0.9499164324300712, 0.9499164324300712, 0.9499164324300712, 0.9499164324300712, 0.9499164324300712, 0.9499164324300712, 0.9499164324300712, 0.9499164324300712, 0.9499164324300712, 0.9499164324300712, 0.9499164324300712, 0.9499164324300712, 0.9499164324300712, 0.9499164324300712, 0.9499164324300712, 0.9499164324300712, 0.9499164324300712, 0.9499164324300712, 0.9499164324300712]}], \"recall_score_weighted\": [{\"categories\": [\"0\", \"1\", \"2\", \"3\", \"4\", \"5\", \"6\", \"7\", \"8\", \"9\", \"10\", \"11\", \"12\", \"13\", \"14\", \"15\", \"16\", \"17\", \"18\", \"19\", \"20\", \"21\", \"22\", \"23\", \"24\", \"25\", \"26\", \"27\", \"28\", \"29\", \"30\", \"31\"], \"mode\": \"markers\", \"name\": \"recall_score_weighted\", \"stepped\": false, \"type\": \"scatter\", \"data\": [0.81, 0.85, 0.855, 0.8400000000000001, 0.8300000000000001, 0.815, 0.88, 0.875, 0.86, 0.84, 0.865, 0.87, 0.865, 0.85, 0.87, 0.84, 0.86, 0.79, 0.865, 0.86, 0.87, 0.85, 0.83, 0.755, 0.835, 0.73, 0.86, 0.8400000000000001, 0.855, 0.775, 0.9, 0.875]}, {\"categories\": [\"0\", \"1\", \"2\", \"3\", \"4\", \"5\", \"6\", \"7\", \"8\", \"9\", \"10\", \"11\", \"12\", \"13\", \"14\", \"15\", \"16\", \"17\", \"18\", \"19\", \"20\", \"21\", \"22\", \"23\", \"24\", \"25\", \"26\", \"27\", \"28\", \"29\", \"30\", \"31\"], \"mode\": \"lines\", \"name\": \"recall_score_weighted_max\", \"stepped\": true, \"type\": \"scatter\", \"data\": [0.81, 0.85, 0.855, 0.855, 0.855, 0.855, 0.88, 0.88, 0.88, 0.88, 0.88, 0.88, 0.88, 0.88, 0.88, 0.88, 0.88, 0.88, 0.88, 0.88, 0.88, 0.88, 0.88, 0.88, 0.88, 0.88, 0.88, 0.88, 0.88, 0.88, 0.9, 0.9]}], \"norm_macro_recall\": [{\"categories\": [\"0\", \"1\", \"2\", \"3\", \"4\", \"5\", \"6\", \"7\", \"8\", \"9\", \"10\", \"11\", \"12\", \"13\", \"14\", \"15\", \"16\", \"17\", \"18\", \"19\", \"20\", \"21\", \"22\", \"23\", \"24\", \"25\", \"26\", \"27\", \"28\", \"29\", \"30\", \"31\"], \"mode\": \"markers\", \"name\": \"norm_macro_recall\", \"stepped\": false, \"type\": \"scatter\", \"data\": [0.4763671685284119, 0.6116237655819976, 0.6010263882143434, 0.499103124494091, 0.4853100210458151, 0.4418617451837461, 0.6664594463331714, 0.6182451028007123, 0.6386660191031244, 0.5441605957584588, 0.6014019750688036, 0.5978695159462522, 0.594337056823701, 0.5880913064594464, 0.5904290108466893, 0.48806864173547027, 0.605310021045815, 0.24735632183908052, 0.5837623441800227, 0.5782677675246883, 0.6786660191031244, 0.5806508013598835, 0.5614246397927797, 0.09999999999999998, 0.5398769629269872, 0.0, 0.6049344341913551, 0.4728120446818844, 0.5975165938157682, 0.3383292860611947, 0.6966359073984134, 0.6421531487777238]}, {\"categories\": [\"0\", \"1\", \"2\", \"3\", \"4\", \"5\", \"6\", \"7\", \"8\", \"9\", \"10\", \"11\", \"12\", \"13\", \"14\", \"15\", \"16\", \"17\", \"18\", \"19\", \"20\", \"21\", \"22\", \"23\", \"24\", \"25\", \"26\", \"27\", \"28\", \"29\", \"30\", \"31\"], \"mode\": \"lines\", \"name\": \"norm_macro_recall_max\", \"stepped\": true, \"type\": \"scatter\", \"data\": [0.4763671685284119, 0.6116237655819976, 0.6116237655819976, 0.6116237655819976, 0.6116237655819976, 0.6116237655819976, 0.6664594463331714, 0.6664594463331714, 0.6664594463331714, 0.6664594463331714, 0.6664594463331714, 0.6664594463331714, 0.6664594463331714, 0.6664594463331714, 0.6664594463331714, 0.6664594463331714, 0.6664594463331714, 0.6664594463331714, 0.6664594463331714, 0.6664594463331714, 0.6786660191031244, 0.6786660191031244, 0.6786660191031244, 0.6786660191031244, 0.6786660191031244, 0.6786660191031244, 0.6786660191031244, 0.6786660191031244, 0.6786660191031244, 0.6786660191031244, 0.6966359073984134, 0.6966359073984134]}], \"balanced_accuracy\": [{\"categories\": [\"0\", \"1\", \"2\", \"3\", \"4\", \"5\", \"6\", \"7\", \"8\", \"9\", \"10\", \"11\", \"12\", \"13\", \"14\", \"15\", \"16\", \"17\", \"18\", \"19\", \"20\", \"21\", \"22\", \"23\", \"24\", \"25\", \"26\", \"27\", \"28\", \"29\", \"30\", \"31\"], \"mode\": \"markers\", \"name\": \"balanced_accuracy\", \"stepped\": false, \"type\": \"scatter\", \"data\": [0.7381835842642059, 0.8058118827909988, 0.8005131941071717, 0.7495515622470454, 0.7426550105229075, 0.720930872591873, 0.8332297231665857, 0.8091225514003562, 0.8193330095515622, 0.7720802978792294, 0.8007009875344018, 0.7989347579731261, 0.7971685284118505, 0.7940456532297232, 0.7952145054233446, 0.7440343208677351, 0.8026550105229076, 0.6236781609195403, 0.7918811720900114, 0.7891338837623442, 0.8393330095515622, 0.7903254006799417, 0.7807123198963899, 0.55, 0.7699384814634935, 0.5, 0.8024672170956775, 0.7364060223409422, 0.7987582969078841, 0.6691646430305973, 0.8483179536992067, 0.821076574388862]}, {\"categories\": [\"0\", \"1\", \"2\", \"3\", \"4\", \"5\", \"6\", \"7\", \"8\", \"9\", \"10\", \"11\", \"12\", \"13\", \"14\", \"15\", \"16\", \"17\", \"18\", \"19\", \"20\", \"21\", \"22\", \"23\", \"24\", \"25\", \"26\", \"27\", \"28\", \"29\", \"30\", \"31\"], \"mode\": \"lines\", \"name\": \"balanced_accuracy_max\", \"stepped\": true, \"type\": \"scatter\", \"data\": [0.7381835842642059, 0.8058118827909988, 0.8058118827909988, 0.8058118827909988, 0.8058118827909988, 0.8058118827909988, 0.8332297231665857, 0.8332297231665857, 0.8332297231665857, 0.8332297231665857, 0.8332297231665857, 0.8332297231665857, 0.8332297231665857, 0.8332297231665857, 0.8332297231665857, 0.8332297231665857, 0.8332297231665857, 0.8332297231665857, 0.8332297231665857, 0.8332297231665857, 0.8393330095515622, 0.8393330095515622, 0.8393330095515622, 0.8393330095515622, 0.8393330095515622, 0.8393330095515622, 0.8393330095515622, 0.8393330095515622, 0.8393330095515622, 0.8393330095515622, 0.8483179536992067, 0.8483179536992067]}], \"matthews_correlation\": [{\"categories\": [\"0\", \"1\", \"2\", \"3\", \"4\", \"5\", \"6\", \"7\", \"8\", \"9\", \"10\", \"11\", \"12\", \"13\", \"14\", \"15\", \"16\", \"17\", \"18\", \"19\", \"20\", \"21\", \"22\", \"23\", \"24\", \"25\", \"26\", \"27\", \"28\", \"29\", \"30\", \"31\"], \"mode\": \"markers\", \"name\": \"matthews_correlation\", \"stepped\": false, \"type\": \"scatter\", \"data\": [0.5010440091219422, 0.6169495625236554, 0.6256054278678543, 0.5691812250586401, 0.5394718575807322, 0.5016325029064629, 0.6910794355120486, 0.6780547240163293, 0.6436265762213762, 0.5832394205650402, 0.6461240222924862, 0.6589580582491181, 0.6531789385384308, 0.6092812093680038, 0.6624171159429839, 0.5636205141120302, 0.6375930789627922, 0.40629393519566115, 0.650567133304538, 0.6282576253332539, 0.6743526506885631, 0.6080972087989278, 0.5677278420369805, 0.19867985355975656, 0.5704337215215944, 0.0, 0.6351504084759135, 0.5677286344495631, 0.6219583221796587, 0.4010840784632674, 0.7441538303399586, 0.684773791234402]}, {\"categories\": [\"0\", \"1\", \"2\", \"3\", \"4\", \"5\", \"6\", \"7\", \"8\", \"9\", \"10\", \"11\", \"12\", \"13\", \"14\", \"15\", \"16\", \"17\", \"18\", \"19\", \"20\", \"21\", \"22\", \"23\", \"24\", \"25\", \"26\", \"27\", \"28\", \"29\", \"30\", \"31\"], \"mode\": \"lines\", \"name\": \"matthews_correlation_max\", \"stepped\": true, \"type\": \"scatter\", \"data\": [0.5010440091219422, 0.6169495625236554, 0.6256054278678543, 0.6256054278678543, 0.6256054278678543, 0.6256054278678543, 0.6910794355120486, 0.6910794355120486, 0.6910794355120486, 0.6910794355120486, 0.6910794355120486, 0.6910794355120486, 0.6910794355120486, 0.6910794355120486, 0.6910794355120486, 0.6910794355120486, 0.6910794355120486, 0.6910794355120486, 0.6910794355120486, 0.6910794355120486, 0.6910794355120486, 0.6910794355120486, 0.6910794355120486, 0.6910794355120486, 0.6910794355120486, 0.6910794355120486, 0.6910794355120486, 0.6910794355120486, 0.6910794355120486, 0.6910794355120486, 0.7441538303399586, 0.7441538303399586]}], \"f1_score_micro\": [{\"categories\": [\"0\", \"1\", \"2\", \"3\", \"4\", \"5\", \"6\", \"7\", \"8\", \"9\", \"10\", \"11\", \"12\", \"13\", \"14\", \"15\", \"16\", \"17\", \"18\", \"19\", \"20\", \"21\", \"22\", \"23\", \"24\", \"25\", \"26\", \"27\", \"28\", \"29\", \"30\", \"31\"], \"mode\": \"markers\", \"name\": \"f1_score_micro\", \"stepped\": false, \"type\": \"scatter\", \"data\": [0.81, 0.85, 0.855, 0.8400000000000001, 0.8300000000000001, 0.815, 0.88, 0.875, 0.8599999999999999, 0.84, 0.865, 0.8699999999999999, 0.865, 0.85, 0.87, 0.8399999999999999, 0.86, 0.79, 0.865, 0.8599999999999999, 0.8699999999999999, 0.85, 0.83, 0.7550000000000001, 0.835, 0.73, 0.8599999999999999, 0.8400000000000001, 0.855, 0.775, 0.9, 0.875]}, {\"categories\": [\"0\", \"1\", \"2\", \"3\", \"4\", \"5\", \"6\", \"7\", \"8\", \"9\", \"10\", \"11\", \"12\", \"13\", \"14\", \"15\", \"16\", \"17\", \"18\", \"19\", \"20\", \"21\", \"22\", \"23\", \"24\", \"25\", \"26\", \"27\", \"28\", \"29\", \"30\", \"31\"], \"mode\": \"lines\", \"name\": \"f1_score_micro_max\", \"stepped\": true, \"type\": \"scatter\", \"data\": [0.81, 0.85, 0.855, 0.855, 0.855, 0.855, 0.88, 0.88, 0.88, 0.88, 0.88, 0.88, 0.88, 0.88, 0.88, 0.88, 0.88, 0.88, 0.88, 0.88, 0.88, 0.88, 0.88, 0.88, 0.88, 0.88, 0.88, 0.88, 0.88, 0.88, 0.9, 0.9]}], \"f1_score_macro\": [{\"categories\": [\"0\", \"1\", \"2\", \"3\", \"4\", \"5\", \"6\", \"7\", \"8\", \"9\", \"10\", \"11\", \"12\", \"13\", \"14\", \"15\", \"16\", \"17\", \"18\", \"19\", \"20\", \"21\", \"22\", \"23\", \"24\", \"25\", \"26\", \"27\", \"28\", \"29\", \"30\", \"31\"], \"mode\": \"markers\", \"name\": \"f1_score_macro\", \"stepped\": false, \"type\": \"scatter\", \"data\": [0.7466666666666667, 0.8078793571666953, 0.8071570327956326, 0.7696144435274871, 0.7624342338231312, 0.7348183634913086, 0.8420844848006317, 0.8258064516129032, 0.8205660876893753, 0.7830994933077233, 0.8160165076835892, 0.8185387505324577, 0.8110719389835063, 0.8030500467086747, 0.8132736974048125, 0.7697963262586847, 0.8130973799360182, 0.6365063313992461, 0.8074260603367402, 0.8086354225484661, 0.8351090816844242, 0.8, 0.7817995122577333, 0.5115239078087376, 0.776934077622438, 0.4218880534670008, 0.8133333333333334, 0.7629980743593542, 0.8087217635467399, 0.6789323515876668, 0.8644298245614035, 0.8305914953049607]}, {\"categories\": [\"0\", \"1\", \"2\", \"3\", \"4\", \"5\", \"6\", \"7\", \"8\", \"9\", \"10\", \"11\", \"12\", \"13\", \"14\", \"15\", \"16\", \"17\", \"18\", \"19\", \"20\", \"21\", \"22\", \"23\", \"24\", \"25\", \"26\", \"27\", \"28\", \"29\", \"30\", \"31\"], \"mode\": \"lines\", \"name\": \"f1_score_macro_max\", \"stepped\": true, \"type\": \"scatter\", \"data\": [0.7466666666666667, 0.8078793571666953, 0.8078793571666953, 0.8078793571666953, 0.8078793571666953, 0.8078793571666953, 0.8420844848006317, 0.8420844848006317, 0.8420844848006317, 0.8420844848006317, 0.8420844848006317, 0.8420844848006317, 0.8420844848006317, 0.8420844848006317, 0.8420844848006317, 0.8420844848006317, 0.8420844848006317, 0.8420844848006317, 0.8420844848006317, 0.8420844848006317, 0.8420844848006317, 0.8420844848006317, 0.8420844848006317, 0.8420844848006317, 0.8420844848006317, 0.8420844848006317, 0.8420844848006317, 0.8420844848006317, 0.8420844848006317, 0.8420844848006317, 0.8644298245614035, 0.8644298245614035]}], \"recall_score_micro\": [{\"categories\": [\"0\", \"1\", \"2\", \"3\", \"4\", \"5\", \"6\", \"7\", \"8\", \"9\", \"10\", \"11\", \"12\", \"13\", \"14\", \"15\", \"16\", \"17\", \"18\", \"19\", \"20\", \"21\", \"22\", \"23\", \"24\", \"25\", \"26\", \"27\", \"28\", \"29\", \"30\", \"31\"], \"mode\": \"markers\", \"name\": \"recall_score_micro\", \"stepped\": false, \"type\": \"scatter\", \"data\": [0.81, 0.85, 0.855, 0.8400000000000001, 0.8300000000000001, 0.815, 0.88, 0.875, 0.86, 0.84, 0.865, 0.87, 0.865, 0.85, 0.87, 0.84, 0.86, 0.79, 0.865, 0.86, 0.87, 0.85, 0.83, 0.755, 0.835, 0.73, 0.86, 0.8400000000000001, 0.855, 0.775, 0.9, 0.875]}, {\"categories\": [\"0\", \"1\", \"2\", \"3\", \"4\", \"5\", \"6\", \"7\", \"8\", \"9\", \"10\", \"11\", \"12\", \"13\", \"14\", \"15\", \"16\", \"17\", \"18\", \"19\", \"20\", \"21\", \"22\", \"23\", \"24\", \"25\", \"26\", \"27\", \"28\", \"29\", \"30\", \"31\"], \"mode\": \"lines\", \"name\": \"recall_score_micro_max\", \"stepped\": true, \"type\": \"scatter\", \"data\": [0.81, 0.85, 0.855, 0.855, 0.855, 0.855, 0.88, 0.88, 0.88, 0.88, 0.88, 0.88, 0.88, 0.88, 0.88, 0.88, 0.88, 0.88, 0.88, 0.88, 0.88, 0.88, 0.88, 0.88, 0.88, 0.88, 0.88, 0.88, 0.88, 0.88, 0.9, 0.9]}], \"f1_score_weighted\": [{\"categories\": [\"0\", \"1\", \"2\", \"3\", \"4\", \"5\", \"6\", \"7\", \"8\", \"9\", \"10\", \"11\", \"12\", \"13\", \"14\", \"15\", \"16\", \"17\", \"18\", \"19\", \"20\", \"21\", \"22\", \"23\", \"24\", \"25\", \"26\", \"27\", \"28\", \"29\", \"30\", \"31\"], \"mode\": \"markers\", \"name\": \"f1_score_weighted\", \"stepped\": false, \"type\": \"scatter\", \"data\": [0.8046666666666666, 0.8489802626232374, 0.8504754308822426, 0.8267486137051354, 0.8216018245224459, 0.8005616192013139, 0.8774207132517436, 0.8673118279569894, 0.8588813681964367, 0.8335923633102154, 0.8589191403295371, 0.8619693812099418, 0.8562171227903561, 0.8469881107509855, 0.8589247511078385, 0.8287045144506836, 0.8557664783322991, 0.7450568030131045, 0.8542349281587913, 0.8539038584603802, 0.8692998477929985, 0.8452, 0.8289744577076114, 0.66734434124527, 0.8281711922763237, 0.6162238930659982, 0.8557333333333332, 0.8241267960302177, 0.8512529113475187, 0.7588449148642429, 0.8957236842105264, 0.869592217228453]}, {\"categories\": [\"0\", \"1\", \"2\", \"3\", \"4\", \"5\", \"6\", \"7\", \"8\", \"9\", \"10\", \"11\", \"12\", \"13\", \"14\", \"15\", \"16\", \"17\", \"18\", \"19\", \"20\", \"21\", \"22\", \"23\", \"24\", \"25\", \"26\", \"27\", \"28\", \"29\", \"30\", \"31\"], \"mode\": \"lines\", \"name\": \"f1_score_weighted_max\", \"stepped\": true, \"type\": \"scatter\", \"data\": [0.8046666666666666, 0.8489802626232374, 0.8504754308822426, 0.8504754308822426, 0.8504754308822426, 0.8504754308822426, 0.8774207132517436, 0.8774207132517436, 0.8774207132517436, 0.8774207132517436, 0.8774207132517436, 0.8774207132517436, 0.8774207132517436, 0.8774207132517436, 0.8774207132517436, 0.8774207132517436, 0.8774207132517436, 0.8774207132517436, 0.8774207132517436, 0.8774207132517436, 0.8774207132517436, 0.8774207132517436, 0.8774207132517436, 0.8774207132517436, 0.8774207132517436, 0.8774207132517436, 0.8774207132517436, 0.8774207132517436, 0.8774207132517436, 0.8774207132517436, 0.8957236842105264, 0.8957236842105264]}], \"precision_score_micro\": [{\"categories\": [\"0\", \"1\", \"2\", \"3\", \"4\", \"5\", \"6\", \"7\", \"8\", \"9\", \"10\", \"11\", \"12\", \"13\", \"14\", \"15\", \"16\", \"17\", \"18\", \"19\", \"20\", \"21\", \"22\", \"23\", \"24\", \"25\", \"26\", \"27\", \"28\", \"29\", \"30\", \"31\"], \"mode\": \"markers\", \"name\": \"precision_score_micro\", \"stepped\": false, \"type\": \"scatter\", \"data\": [0.81, 0.85, 0.855, 0.8400000000000001, 0.8300000000000001, 0.815, 0.88, 0.875, 0.86, 0.84, 0.865, 0.87, 0.865, 0.85, 0.87, 0.84, 0.86, 0.79, 0.865, 0.86, 0.87, 0.85, 0.83, 0.755, 0.835, 0.73, 0.86, 0.8400000000000001, 0.855, 0.775, 0.9, 0.875]}, {\"categories\": [\"0\", \"1\", \"2\", \"3\", \"4\", \"5\", \"6\", \"7\", \"8\", \"9\", \"10\", \"11\", \"12\", \"13\", \"14\", \"15\", \"16\", \"17\", \"18\", \"19\", \"20\", \"21\", \"22\", \"23\", \"24\", \"25\", \"26\", \"27\", \"28\", \"29\", \"30\", \"31\"], \"mode\": \"lines\", \"name\": \"precision_score_micro_max\", \"stepped\": true, \"type\": \"scatter\", \"data\": [0.81, 0.85, 0.855, 0.855, 0.855, 0.855, 0.88, 0.88, 0.88, 0.88, 0.88, 0.88, 0.88, 0.88, 0.88, 0.88, 0.88, 0.88, 0.88, 0.88, 0.88, 0.88, 0.88, 0.88, 0.88, 0.88, 0.88, 0.88, 0.88, 0.88, 0.9, 0.9]}]}, \"metricName\": null, \"primaryMetricName\": \"accuracy\", \"showLegend\": false}, \"run_metrics\": [{\"name\": \"average_precision_score_weighted\", \"run_id\": \"AutoML_08081886-92ca-4154-8e50-048d8964b3d2\", \"categories\": [0], \"series\": [{\"data\": [0.9370388358003119]}]}, {\"name\": \"recall_score_micro\", \"run_id\": \"AutoML_08081886-92ca-4154-8e50-048d8964b3d2\", \"categories\": [0], \"series\": [{\"data\": [0.9]}]}, {\"name\": \"matthews_correlation\", \"run_id\": \"AutoML_08081886-92ca-4154-8e50-048d8964b3d2\", \"categories\": [0], \"series\": [{\"data\": [0.7441538303399586]}]}, {\"name\": \"recall_score_weighted\", \"run_id\": \"AutoML_08081886-92ca-4154-8e50-048d8964b3d2\", \"categories\": [0], \"series\": [{\"data\": [0.9]}]}, {\"name\": \"f1_score_weighted\", \"run_id\": \"AutoML_08081886-92ca-4154-8e50-048d8964b3d2\", \"categories\": [0], \"series\": [{\"data\": [0.8957236842105264]}]}, {\"name\": \"f1_score_macro\", \"run_id\": \"AutoML_08081886-92ca-4154-8e50-048d8964b3d2\", \"categories\": [0], \"series\": [{\"data\": [0.8644298245614035]}]}, {\"name\": \"weighted_accuracy\", \"run_id\": \"AutoML_08081886-92ca-4154-8e50-048d8964b3d2\", \"categories\": [0], \"series\": [{\"data\": [0.934848010880653]}]}, {\"name\": \"recall_score_macro\", \"run_id\": \"AutoML_08081886-92ca-4154-8e50-048d8964b3d2\", \"categories\": [0], \"series\": [{\"data\": [0.8483179536992067]}]}, {\"name\": \"AUC_weighted\", \"run_id\": \"AutoML_08081886-92ca-4154-8e50-048d8964b3d2\", \"categories\": [0], \"series\": [{\"data\": [0.9327751335599805]}]}, {\"name\": \"precision_score_weighted\", \"run_id\": \"AutoML_08081886-92ca-4154-8e50-048d8964b3d2\", \"categories\": [0], \"series\": [{\"data\": [0.9041585445094216]}]}, {\"name\": \"accuracy\", \"run_id\": \"AutoML_08081886-92ca-4154-8e50-048d8964b3d2\", \"categories\": [0], \"series\": [{\"data\": [0.9]}]}, {\"name\": \"balanced_accuracy\", \"run_id\": \"AutoML_08081886-92ca-4154-8e50-048d8964b3d2\", \"categories\": [0], \"series\": [{\"data\": [0.8483179536992067]}]}, {\"name\": \"average_precision_score_micro\", \"run_id\": \"AutoML_08081886-92ca-4154-8e50-048d8964b3d2\", \"categories\": [0], \"series\": [{\"data\": [0.9447173412393072]}]}, {\"name\": \"norm_macro_recall\", \"run_id\": \"AutoML_08081886-92ca-4154-8e50-048d8964b3d2\", \"categories\": [0], \"series\": [{\"data\": [0.6966359073984134]}]}, {\"name\": \"f1_score_micro\", \"run_id\": \"AutoML_08081886-92ca-4154-8e50-048d8964b3d2\", \"categories\": [0], \"series\": [{\"data\": [0.9]}]}, {\"name\": \"AUC_micro\", \"run_id\": \"AutoML_08081886-92ca-4154-8e50-048d8964b3d2\", \"categories\": [0], \"series\": [{\"data\": [0.9436]}]}, {\"name\": \"precision_score_macro\", \"run_id\": \"AutoML_08081886-92ca-4154-8e50-048d8964b3d2\", \"categories\": [0], \"series\": [{\"data\": [0.899558154645874]}]}, {\"name\": \"precision_score_micro\", \"run_id\": \"AutoML_08081886-92ca-4154-8e50-048d8964b3d2\", \"categories\": [0], \"series\": [{\"data\": [0.9]}]}, {\"name\": \"average_precision_score_macro\", \"run_id\": \"AutoML_08081886-92ca-4154-8e50-048d8964b3d2\", \"categories\": [0], \"series\": [{\"data\": [0.9066856377957415]}]}, {\"name\": \"AUC_macro\", \"run_id\": \"AutoML_08081886-92ca-4154-8e50-048d8964b3d2\", \"categories\": [0], \"series\": [{\"data\": [0.9327751335599805]}]}, {\"name\": \"log_loss\", \"run_id\": \"AutoML_08081886-92ca-4154-8e50-048d8964b3d2\", \"categories\": [0], \"series\": [{\"data\": [0.3454343914554711]}]}], \"run_logs\": \"\\nRun is completed.\", \"graph\": {}, \"widget_settings\": {\"childWidgetDisplay\": \"popup\", \"send_telemetry\": false, \"log_level\": \"INFO\", \"sdk_version\": \"1.20.0\"}, \"loading\": false}"
          },
          "metadata": {}
        }
      ],
      "execution_count": 12,
      "metadata": {
        "collapsed": true,
        "jupyter": {
          "source_hidden": false,
          "outputs_hidden": false
        },
        "nteract": {
          "transient": {
            "deleting": false
          }
        },
        "gather": {
          "logged": 1613632958857
        }
      }
    },
    {
      "cell_type": "code",
      "source": [
        "best_run, fitted_model = remote_run.get_output()"
      ],
      "outputs": [],
      "execution_count": 15,
      "metadata": {
        "collapsed": true,
        "jupyter": {
          "source_hidden": false,
          "outputs_hidden": false
        },
        "nteract": {
          "transient": {
            "deleting": false
          }
        },
        "gather": {
          "logged": 1613633010348
        }
      }
    },
    {
      "cell_type": "code",
      "source": [
        "best_run.get_file_names()"
      ],
      "outputs": [
        {
          "output_type": "execute_result",
          "execution_count": 26,
          "data": {
            "text/plain": "['accuracy_table',\n 'confusion_matrix',\n 'explanation/1607005c/classes.interpret.json',\n 'explanation/1607005c/eval_data_viz.interpret.json',\n 'explanation/1607005c/expected_values.interpret.json',\n 'explanation/1607005c/features.interpret.json',\n 'explanation/1607005c/global_names/0.interpret.json',\n 'explanation/1607005c/global_rank/0.interpret.json',\n 'explanation/1607005c/global_values/0.interpret.json',\n 'explanation/1607005c/local_importance_values.interpret.json',\n 'explanation/1607005c/per_class_names/0.interpret.json',\n 'explanation/1607005c/per_class_rank/0.interpret.json',\n 'explanation/1607005c/per_class_values/0.interpret.json',\n 'explanation/1607005c/rich_metadata.interpret.json',\n 'explanation/1607005c/visualization_dict.interpret.json',\n 'explanation/800b3584/classes.interpret.json',\n 'explanation/800b3584/eval_data_viz.interpret.json',\n 'explanation/800b3584/expected_values.interpret.json',\n 'explanation/800b3584/features.interpret.json',\n 'explanation/800b3584/global_names/0.interpret.json',\n 'explanation/800b3584/global_rank/0.interpret.json',\n 'explanation/800b3584/global_values/0.interpret.json',\n 'explanation/800b3584/local_importance_values.interpret.json',\n 'explanation/800b3584/per_class_names/0.interpret.json',\n 'explanation/800b3584/per_class_rank/0.interpret.json',\n 'explanation/800b3584/per_class_values/0.interpret.json',\n 'explanation/800b3584/rich_metadata.interpret.json',\n 'explanation/800b3584/visualization_dict.interpret.json',\n 'explanation/800b3584/ys_pred_proba_viz.interpret.json',\n 'explanation/800b3584/ys_pred_viz.interpret.json',\n 'outputs/conda_env_v_1_0_0.yml',\n 'outputs/env_dependencies.json',\n 'outputs/internal_cross_validated_models.pkl',\n 'outputs/model.pkl',\n 'outputs/pipeline_graph.json',\n 'outputs/scoring_file_v_1_0_0.py']",
            "text/html": "['accuracy_table', 'confusion_matrix', 'explanation/1607005c/classes.interpret.json', 'explanation/1607005c/eval_data_viz.interpret.json', 'explanation/1607005c/expected_values.interpret.json', 'explanation/1607005c/features.interpret.json', 'explanation/1607005c/global_names/0.interpret.json', 'explanation/1607005c/global_rank/0.interpret.json', 'explanation/1607005c/global_values/0.interpret.json', 'explanation/1607005c/local_importance_values.interpret.json', 'explanation/1607005c/per_class_names/0.interpret.json', 'explanation/1607005c/per_class_rank/0.interpret.json', 'explanation/1607005c/per_class_values/0.interpret.json', 'explanation/1607005c/rich_metadata.interpret.json', 'explanation/1607005c/visualization_dict.interpret.json', 'explanation/800b3584/classes.interpret.json', 'explanation/800b3584/eval_data_viz.interpret.json', 'explanation/800b3584/expected_values.interpret.json', 'explanation/800b3584/features.interpret.json', 'explanation/800b3584/global_names/0.interpret.json', 'explanation/800b3584/global_rank/0.interpret.json', 'explanation/800b3584/global_values/0.interpret.json', 'explanation/800b3584/local_importance_values.interpret.json', 'explanation/800b3584/per_class_names/0.interpret.json', 'explanation/800b3584/per_class_rank/0.interpret.json', 'explanation/800b3584/per_class_values/0.interpret.json', 'explanation/800b3584/rich_metadata.interpret.json', 'explanation/800b3584/visualization_dict.interpret.json', 'explanation/800b3584/ys_pred_proba_viz.interpret.json', 'explanation/800b3584/ys_pred_viz.interpret.json', 'outputs/conda_env_v_1_0_0.yml', 'outputs/env_dependencies.json', 'outputs/internal_cross_validated_models.pkl', 'outputs/model.pkl', 'outputs/pipeline_graph.json', 'outputs/scoring_file_v_1_0_0.py']"
          },
          "metadata": {}
        }
      ],
      "execution_count": 26,
      "metadata": {
        "collapsed": true,
        "jupyter": {
          "source_hidden": false,
          "outputs_hidden": false
        },
        "nteract": {
          "transient": {
            "deleting": false
          }
        },
        "gather": {
          "logged": 1613633419957
        }
      }
    },
    {
      "cell_type": "code",
      "source": [
        "best_run.get_file_names()[-3]"
      ],
      "outputs": [
        {
          "output_type": "execute_result",
          "execution_count": 18,
          "data": {
            "text/plain": "'outputs/model.pkl'"
          },
          "metadata": {}
        }
      ],
      "execution_count": 18,
      "metadata": {
        "collapsed": true,
        "jupyter": {
          "source_hidden": false,
          "outputs_hidden": false
        },
        "nteract": {
          "transient": {
            "deleting": false
          }
        },
        "gather": {
          "logged": 1613633140851
        }
      }
    },
    {
      "cell_type": "code",
      "source": [
        "import pickle"
      ],
      "outputs": [],
      "execution_count": 19,
      "metadata": {
        "collapsed": true,
        "jupyter": {
          "source_hidden": false,
          "outputs_hidden": false
        },
        "nteract": {
          "transient": {
            "deleting": false
          }
        },
        "gather": {
          "logged": 1613633238284
        }
      }
    },
    {
      "cell_type": "code",
      "source": [
        "best_run.download_file('outputs/model.pkl', './outputs/model.pkl')"
      ],
      "outputs": [],
      "execution_count": 20,
      "metadata": {
        "collapsed": true,
        "jupyter": {
          "source_hidden": false,
          "outputs_hidden": false
        },
        "nteract": {
          "transient": {
            "deleting": false
          }
        },
        "gather": {
          "logged": 1613633291435
        }
      }
    },
    {
      "cell_type": "code",
      "source": [
        "joblib.load(filename='outputs/model.pkl')"
      ],
      "outputs": [
        {
          "output_type": "execute_result",
          "execution_count": 50,
          "data": {
            "text/plain": "Pipeline(memory=None,\n         steps=[('datatransformer',\n                 DataTransformer(enable_dnn=None, enable_feature_sweeping=None,\n                                 feature_sweeping_config=None,\n                                 feature_sweeping_timeout=None,\n                                 featurization_config=None, force_text_dnn=None,\n                                 is_cross_validation=None,\n                                 is_onnx_compatible=None, logger=None,\n                                 observer=None, task=None, working_dir=None)),\n                ('prefittedsoftvotingclassifier',...\n                                                                                                    min_samples_split=0.10368421052631578,\n                                                                                                    min_weight_fraction_leaf=0.0,\n                                                                                                    n_estimators=25,\n                                                                                                    n_jobs=1,\n                                                                                                    oob_score=False,\n                                                                                                    random_state=None,\n                                                                                                    verbose=0,\n                                                                                                    warm_start=False))],\n                                                                     verbose=False))],\n                                               flatten_transform=None,\n                                               weights=[0.14285714285714285,\n                                                        0.14285714285714285,\n                                                        0.14285714285714285,\n                                                        0.14285714285714285,\n                                                        0.14285714285714285,\n                                                        0.14285714285714285,\n                                                        0.14285714285714285]))],\n         verbose=False)"
          },
          "metadata": {}
        }
      ],
      "execution_count": 50,
      "metadata": {
        "gather": {
          "logged": 1613636153346
        },
        "jupyter": {
          "outputs_hidden": false,
          "source_hidden": false
        },
        "nteract": {
          "transient": {
            "deleting": false
          }
        }
      }
    },
    {
      "cell_type": "code",
      "source": [
        "from azureml.core.model import Model\r\n",
        "model = Model.register(model_name='automl-model', model_path='outputs/model.pkl', workspace=ws)"
      ],
      "outputs": [
        {
          "output_type": "stream",
          "name": "stdout",
          "text": [
            "Registering model automl-model\n"
          ]
        }
      ],
      "execution_count": 51,
      "metadata": {
        "collapsed": true,
        "jupyter": {
          "source_hidden": false,
          "outputs_hidden": false
        },
        "nteract": {
          "transient": {
            "deleting": false
          }
        },
        "gather": {
          "logged": 1613636180212
        }
      }
    },
    {
      "cell_type": "code",
      "source": [
        "import sklearn\r\n",
        "\r\n",
        "from azureml.core.environment import Environment\r\n",
        "\r\n",
        "environment = Environment(\"LocalDeploy\")\r\n",
        "environment.python.conda_dependencies.add_pip_package(\"inference-schema[numpy-support]\")\r\n",
        "environment.python.conda_dependencies.add_pip_package(\"joblib\")\r\n",
        "environment.python.conda_dependencies.add_pip_package(\"scikit-learn=={}\".format(sklearn.__version__))"
      ],
      "outputs": [],
      "execution_count": 52,
      "metadata": {
        "collapsed": true,
        "jupyter": {
          "source_hidden": false,
          "outputs_hidden": false
        },
        "nteract": {
          "transient": {
            "deleting": false
          }
        },
        "gather": {
          "logged": 1613636186974
        }
      }
    },
    {
      "cell_type": "code",
      "source": [
        "# %%writefile score.py\r\n",
        "\r\n",
        "import json\r\n",
        "import numpy as np\r\n",
        "import pandas as pd\r\n",
        "import os\r\n",
        "import joblib\r\n",
        "import pickle\r\n",
        "\r\n",
        "def init():\r\n",
        "    global model\r\n",
        "    model_path = os.path.join(os.getenv('AZUREML_MODEL_DIR'), 'outputs/model.pkl')\r\n",
        "    print(\"Found model:\", os.path.isfile(model_path)) #To check whether the model is actually present on the location we are looking at\r\n",
        "    model = joblib.load(model_path)\r\n",
        "def run(data):\r\n",
        "    try:\r\n",
        "        data = json.loads(data)['data']\r\n",
        "        data = pd.DataFrame.from_dict(data)\r\n",
        "        result = model.predict(data)\r\n",
        "        return result.tolist()\r\n",
        "    except Exception as e:\r\n",
        "        error = str(e)\r\n",
        "        return error"
      ],
      "outputs": [],
      "execution_count": 53,
      "metadata": {
        "collapsed": true,
        "jupyter": {
          "source_hidden": false,
          "outputs_hidden": false
        },
        "nteract": {
          "transient": {
            "deleting": false
          }
        },
        "gather": {
          "logged": 1613636194189
        }
      }
    },
    {
      "cell_type": "code",
      "source": [
        "model"
      ],
      "outputs": [
        {
          "output_type": "execute_result",
          "execution_count": 54,
          "data": {
            "text/plain": "Model(workspace=Workspace.create(name='quick-starts-ws-139107', subscription_id='3d1a56d2-7c81-4118-9790-f85d1acf0c77', resource_group='aml-quickstarts-139107'), name=automl-model, id=automl-model:2, version=2, tags={}, properties={})"
          },
          "metadata": {}
        }
      ],
      "execution_count": 54,
      "metadata": {
        "collapsed": true,
        "jupyter": {
          "source_hidden": false,
          "outputs_hidden": false
        },
        "nteract": {
          "transient": {
            "deleting": false
          }
        },
        "gather": {
          "logged": 1613636205994
        }
      }
    },
    {
      "cell_type": "markdown",
      "source": [
        "## Best Model\n",
        "\n",
        "TODO: In the cell below, get the best model from the automl experiments and display all the properties of the model.\n",
        "\n"
      ],
      "metadata": {}
    },
    {
      "cell_type": "code",
      "source": [
        "from azureml.core.webservice import LocalWebservice\r\n",
        "from azureml.core.model import InferenceConfig\r\n",
        "inference_config = InferenceConfig(entry_script='score.py', environment=environment) \r\n",
        "\r\n",
        "# This is optional, if not provided Docker will choose a random unused port.\r\n",
        "deployment_config = LocalWebservice.deploy_configuration(port=1234)\r\n",
        "\r\n",
        "local_service = Model.deploy(ws, \"deeploy\", [model], inference_config, deployment_config)\r\n",
        "\r\n",
        "local_service.wait_for_deployment()"
      ],
      "outputs": [
        {
          "output_type": "stream",
          "name": "stdout",
          "text": [
            "Downloading model automl-model:2 to /tmp/azureml_bhclygnr/automl-model/2\n",
            "Generating Docker build context.\n",
            "Package creation Succeeded\n",
            "Logging into Docker registry 88619665ccdc418b86b5c2f0b6e8e5dd.azurecr.io\n",
            "Logging into Docker registry 88619665ccdc418b86b5c2f0b6e8e5dd.azurecr.io\n",
            "Building Docker image from Dockerfile...\n",
            "Step 1/5 : FROM 88619665ccdc418b86b5c2f0b6e8e5dd.azurecr.io/azureml/azureml_8a90a8ae4f21dcd7231b9244082417af\n",
            " ---> 0f083f3495e8\n",
            "Step 2/5 : COPY azureml-app /var/azureml-app\n",
            " ---> 231fc03ba1c0\n",
            "Step 3/5 : RUN mkdir -p '/var/azureml-app' && echo eyJhY2NvdW50Q29udGV4dCI6eyJzdWJzY3JpcHRpb25JZCI6IjNkMWE1NmQyLTdjODEtNDExOC05NzkwLWY4NWQxYWNmMGM3NyIsInJlc291cmNlR3JvdXBOYW1lIjoiYW1sLXF1aWNrc3RhcnRzLTEzOTEwNyIsImFjY291bnROYW1lIjoicXVpY2stc3RhcnRzLXdzLTEzOTEwNyIsIndvcmtzcGFjZUlkIjoiODg2MTk2NjUtY2NkYy00MThiLTg2YjUtYzJmMGI2ZThlNWRkIn0sIm1vZGVscyI6e30sIm1vZGVsc0luZm8iOnt9fQ== | base64 --decode > /var/azureml-app/model_config_map.json\n",
            " ---> Running in 41dcb43e49ba\n",
            " ---> 61972de0099d\n",
            "Step 4/5 : RUN mv '/var/azureml-app/tmpgqf2touk.py' /var/azureml-app/main.py\n",
            " ---> Running in c37a1e558ab7\n",
            " ---> 36fff7de8525\n",
            "Step 5/5 : CMD [\"runsvdir\",\"/var/runit\"]\n",
            " ---> Running in 1c24d3aabde2\n",
            " ---> 436e38ab8b8c\n",
            "Successfully built 436e38ab8b8c\n",
            "Successfully tagged deeploy:latest\n",
            "Starting Docker container...\n",
            "Docker container running.\n",
            "Checking container health...\n",
            "\n",
            "Container Logs:\n",
            "2021-02-18T08:17:36,362828338+00:00 - iot-server/run \n",
            "2021-02-18T08:17:36,362999849+00:00 - rsyslog/run \n",
            "2021-02-18T08:17:36,364127519+00:00 - gunicorn/run \n",
            "/usr/sbin/nginx: /azureml-envs/azureml_c6bf3e53b0b53065cb9df10251065eb1/lib/libcrypto.so.1.0.0: no version information available (required by /usr/sbin/nginx)\n",
            "/usr/sbin/nginx: /azureml-envs/azureml_c6bf3e53b0b53065cb9df10251065eb1/lib/libcrypto.so.1.0.0: no version information available (required by /usr/sbin/nginx)\n",
            "/usr/sbin/nginx: /azureml-envs/azureml_c6bf3e53b0b53065cb9df10251065eb1/lib/libssl.so.1.0.0: no version information available (required by /usr/sbin/nginx)\n",
            "/usr/sbin/nginx: /azureml-envs/azureml_c6bf3e53b0b53065cb9df10251065eb1/lib/libssl.so.1.0.0: no version information available (required by /usr/sbin/nginx)\n",
            "/usr/sbin/nginx: /azureml-envs/azureml_c6bf3e53b0b53065cb9df10251065eb1/lib/libssl.so.1.0.0: no version information available (required by /usr/sbin/nginx)\n",
            "2021-02-18T08:17:36,364984673+00:00 - nginx/run \n",
            "EdgeHubConnectionString and IOTEDGE_IOTHUBHOSTNAME are not set. Exiting...\n",
            "2021-02-18T08:17:36,445829825+00:00 - iot-server/finish 1 0\n",
            "2021-02-18T08:17:36,447287216+00:00 - Exit code 1 is normal. Not restarting iot-server.\n",
            "Starting gunicorn 19.9.0\n",
            "Listening at: http://127.0.0.1:31311 (12)\n",
            "Using worker: sync\n",
            "worker timeout is set to 300\n",
            "Booting worker with pid: 42\n",
            "SPARK_HOME not set. Skipping PySpark Initialization.\n",
            "Initializing logger\n",
            "2021-02-18 08:17:37,089 | root | INFO | Starting up app insights client\n",
            "2021-02-18 08:17:37,089 | root | INFO | Starting up request id generator\n",
            "2021-02-18 08:17:37,089 | root | INFO | Starting up app insight hooks\n",
            "2021-02-18 08:17:37,089 | root | INFO | Invoking user's init function\n",
            "Found model:\n",
            "False\n",
            "2021-02-18 08:17:37,089 | root | ERROR | User's init function failed\n",
            "2021-02-18 08:17:37,090 | root | ERROR | Encountered Exception Traceback (most recent call last):\n",
            "  File \"/var/azureml-server/aml_blueprint.py\", line 176, in register\n",
            "    main.init()\n",
            "  File \"/var/azureml-app/score.py\", line 13, in init\n",
            "    model = joblib.load(model_path)\n",
            "  File \"/azureml-envs/azureml_c6bf3e53b0b53065cb9df10251065eb1/lib/python3.6/site-packages/joblib/numpy_pickle.py\", line 577, in load\n",
            "    with open(filename, 'rb') as f:\n",
            "FileNotFoundError: [Errno 2] No such file or directory: 'azureml-models/automl-model/2/outputs/model.pkl'\n",
            "\n",
            "Worker exiting (pid: 42)\n",
            "Shutting down: Master\n",
            "Reason: Worker failed to boot.\n",
            "2021-02-18T08:17:37,197551504+00:00 - gunicorn/finish 3 0\n",
            "2021-02-18T08:17:37,198842185+00:00 - Exit code 3 is not normal. Killing image.\n",
            "\n"
          ]
        },
        {
          "output_type": "stream",
          "name": "stderr",
          "text": [
            "ERROR:azureml._model_management._util:Error: Container has crashed. Did your init method fail?\n",
            "\n"
          ]
        },
        {
          "output_type": "error",
          "ename": "WebserviceException",
          "evalue": "WebserviceException:\n\tMessage: Error: Container has crashed. Did your init method fail?\n\tInnerException None\n\tErrorResponse \n{\n    \"error\": {\n        \"message\": \"Error: Container has crashed. Did your init method fail?\"\n    }\n}",
          "traceback": [
            "\u001b[0;31m---------------------------------------------------------------------------\u001b[0m",
            "\u001b[0;31mWebserviceException\u001b[0m                       Traceback (most recent call last)",
            "\u001b[0;32m<ipython-input-55-28620fa0c282>\u001b[0m in \u001b[0;36m<module>\u001b[0;34m\u001b[0m\n\u001b[1;32m      8\u001b[0m \u001b[0mlocal_service\u001b[0m \u001b[0;34m=\u001b[0m \u001b[0mModel\u001b[0m\u001b[0;34m.\u001b[0m\u001b[0mdeploy\u001b[0m\u001b[0;34m(\u001b[0m\u001b[0mws\u001b[0m\u001b[0;34m,\u001b[0m \u001b[0;34m\"deeploy\"\u001b[0m\u001b[0;34m,\u001b[0m \u001b[0;34m[\u001b[0m\u001b[0mmodel\u001b[0m\u001b[0;34m]\u001b[0m\u001b[0;34m,\u001b[0m \u001b[0minference_config\u001b[0m\u001b[0;34m,\u001b[0m \u001b[0mdeployment_config\u001b[0m\u001b[0;34m)\u001b[0m\u001b[0;34m\u001b[0m\u001b[0;34m\u001b[0m\u001b[0m\n\u001b[1;32m      9\u001b[0m \u001b[0;34m\u001b[0m\u001b[0m\n\u001b[0;32m---> 10\u001b[0;31m \u001b[0mlocal_service\u001b[0m\u001b[0;34m.\u001b[0m\u001b[0mwait_for_deployment\u001b[0m\u001b[0;34m(\u001b[0m\u001b[0;34m)\u001b[0m\u001b[0;34m\u001b[0m\u001b[0;34m\u001b[0m\u001b[0m\n\u001b[0m",
            "\u001b[0;32m/anaconda/envs/azureml_py36/lib/python3.6/site-packages/azureml/core/webservice/local.py\u001b[0m in \u001b[0;36mdecorated\u001b[0;34m(self, *args, **kwargs)\u001b[0m\n\u001b[1;32m     70\u001b[0m                 raise WebserviceException('Cannot call {}() when service is {}.'.format(func.__name__, self.state),\n\u001b[1;32m     71\u001b[0m                                           logger=module_logger)\n\u001b[0;32m---> 72\u001b[0;31m             \u001b[0;32mreturn\u001b[0m \u001b[0mfunc\u001b[0m\u001b[0;34m(\u001b[0m\u001b[0mself\u001b[0m\u001b[0;34m,\u001b[0m \u001b[0;34m*\u001b[0m\u001b[0margs\u001b[0m\u001b[0;34m,\u001b[0m \u001b[0;34m**\u001b[0m\u001b[0mkwargs\u001b[0m\u001b[0;34m)\u001b[0m\u001b[0;34m\u001b[0m\u001b[0;34m\u001b[0m\u001b[0m\n\u001b[0m\u001b[1;32m     73\u001b[0m         \u001b[0;32mreturn\u001b[0m \u001b[0mdecorated\u001b[0m\u001b[0;34m\u001b[0m\u001b[0;34m\u001b[0m\u001b[0m\n\u001b[1;32m     74\u001b[0m     \u001b[0;32mreturn\u001b[0m \u001b[0mdecorator\u001b[0m\u001b[0;34m\u001b[0m\u001b[0;34m\u001b[0m\u001b[0m\n",
            "\u001b[0;32m/anaconda/envs/azureml_py36/lib/python3.6/site-packages/azureml/core/webservice/local.py\u001b[0m in \u001b[0;36mwait_for_deployment\u001b[0;34m(self, show_output)\u001b[0m\n\u001b[1;32m    609\u001b[0m                                    \u001b[0mself\u001b[0m\u001b[0;34m.\u001b[0m\u001b[0m_container\u001b[0m\u001b[0;34m,\u001b[0m\u001b[0;34m\u001b[0m\u001b[0;34m\u001b[0m\u001b[0m\n\u001b[1;32m    610\u001b[0m                                    \u001b[0mhealth_url\u001b[0m\u001b[0;34m=\u001b[0m\u001b[0mself\u001b[0m\u001b[0;34m.\u001b[0m\u001b[0m_get_health_url\u001b[0m\u001b[0;34m(\u001b[0m\u001b[0;34m)\u001b[0m\u001b[0;34m,\u001b[0m\u001b[0;34m\u001b[0m\u001b[0;34m\u001b[0m\u001b[0m\n\u001b[0;32m--> 611\u001b[0;31m                                    cleanup_if_failed=False)\n\u001b[0m\u001b[1;32m    612\u001b[0m \u001b[0;34m\u001b[0m\u001b[0m\n\u001b[1;32m    613\u001b[0m             \u001b[0mself\u001b[0m\u001b[0;34m.\u001b[0m\u001b[0mstate\u001b[0m \u001b[0;34m=\u001b[0m \u001b[0mLocalWebservice\u001b[0m\u001b[0;34m.\u001b[0m\u001b[0mSTATE_RUNNING\u001b[0m\u001b[0;34m\u001b[0m\u001b[0;34m\u001b[0m\u001b[0m\n",
            "\u001b[0;32m/anaconda/envs/azureml_py36/lib/python3.6/site-packages/azureml/_model_management/_util.py\u001b[0m in \u001b[0;36mcontainer_health_check\u001b[0;34m(docker_port, container, health_url, cleanup_if_failed)\u001b[0m\n\u001b[1;32m    741\u001b[0m             \u001b[0;31m# The container has started and crashed.\u001b[0m\u001b[0;34m\u001b[0m\u001b[0;34m\u001b[0m\u001b[0;34m\u001b[0m\u001b[0m\n\u001b[1;32m    742\u001b[0m             _raise_for_container_failure(container, cleanup_if_failed,\n\u001b[0;32m--> 743\u001b[0;31m                                          'Error: Container has crashed. Did your init method fail?')\n\u001b[0m\u001b[1;32m    744\u001b[0m \u001b[0;34m\u001b[0m\u001b[0m\n\u001b[1;32m    745\u001b[0m         \u001b[0;31m# The container hasn't crashed, so try to ping the health endpoint.\u001b[0m\u001b[0;34m\u001b[0m\u001b[0;34m\u001b[0m\u001b[0;34m\u001b[0m\u001b[0m\n",
            "\u001b[0;32m/anaconda/envs/azureml_py36/lib/python3.6/site-packages/azureml/_model_management/_util.py\u001b[0m in \u001b[0;36m_raise_for_container_failure\u001b[0;34m(container, cleanup, message)\u001b[0m\n\u001b[1;32m   1259\u001b[0m         \u001b[0mcleanup_container\u001b[0m\u001b[0;34m(\u001b[0m\u001b[0mcontainer\u001b[0m\u001b[0;34m)\u001b[0m\u001b[0;34m\u001b[0m\u001b[0;34m\u001b[0m\u001b[0m\n\u001b[1;32m   1260\u001b[0m \u001b[0;34m\u001b[0m\u001b[0m\n\u001b[0;32m-> 1261\u001b[0;31m     \u001b[0;32mraise\u001b[0m \u001b[0mWebserviceException\u001b[0m\u001b[0;34m(\u001b[0m\u001b[0mmessage\u001b[0m\u001b[0;34m,\u001b[0m \u001b[0mlogger\u001b[0m\u001b[0;34m=\u001b[0m\u001b[0mmodule_logger\u001b[0m\u001b[0;34m)\u001b[0m\u001b[0;34m\u001b[0m\u001b[0;34m\u001b[0m\u001b[0m\n\u001b[0m\u001b[1;32m   1262\u001b[0m \u001b[0;34m\u001b[0m\u001b[0m\n\u001b[1;32m   1263\u001b[0m \u001b[0;34m\u001b[0m\u001b[0m\n",
            "\u001b[0;31mWebserviceException\u001b[0m: WebserviceException:\n\tMessage: Error: Container has crashed. Did your init method fail?\n\tInnerException None\n\tErrorResponse \n{\n    \"error\": {\n        \"message\": \"Error: Container has crashed. Did your init method fail?\"\n    }\n}"
          ]
        }
      ],
      "execution_count": 55,
      "metadata": {
        "gather": {
          "logged": 1598431425670
        },
        "jupyter": {
          "outputs_hidden": false,
          "source_hidden": false
        },
        "nteract": {
          "transient": {
            "deleting": false
          }
        }
      }
    },
    {
      "cell_type": "code",
      "source": [
        "print('Local service port: {}'.format(local_service.port))"
      ],
      "outputs": [],
      "execution_count": null,
      "metadata": {
        "gather": {
          "logged": 1598431426111
        },
        "jupyter": {
          "outputs_hidden": false,
          "source_hidden": false
        },
        "nteract": {
          "transient": {
            "deleting": false
          }
        }
      }
    },
    {
      "cell_type": "code",
      "source": [
        "import json\r\n",
        "\r\n",
        "sample_input = json.dumps(\r\n",
        "    {\"data\":\r\n",
        "            [\r\n",
        "                {\r\n",
        "                    'age': 75.0,\r\n",
        "                    'anaemia': 0,\r\n",
        "                    'creatinine_phosphokinase': 582,\r\n",
        "                    'diabetes': 0,\r\n",
        "                    'ejection_fraction': 20,\r\n",
        "                    'high_blood_pressure': 1,\r\n",
        "                    'platelets': 265000.0,\r\n",
        "                    'serum_creatinine': 1.9,\r\n",
        "                    'serum_sodium': 130,\r\n",
        "                    'sex': 1,\r\n",
        "                    'smoking': 0,\r\n",
        "                    'time': 4\r\n",
        "                },\r\n",
        "                {\r\n",
        "                    'age': 55.0,\r\n",
        "                    'anaemia': 0,\r\n",
        "                    'creatinine_phosphokinase': 7861,\r\n",
        "                    'diabetes': 0,\r\n",
        "                    'ejection_fraction': 38,\r\n",
        "                    'high_blood_pressure': 0,\r\n",
        "                    'platelets': 263358.03,\r\n",
        "                    'serum_creatinine': 1.1,\r\n",
        "                    'serum_sodium': 136,\r\n",
        "                    'sex': 1,\r\n",
        "                    'smoking': 0,\r\n",
        "                    'time': 6\r\n",
        "                }\r\n",
        "            ] \r\n",
        "        }\r\n",
        ")\r\n",
        "\r\n",
        "local_service.run(sample_input)"
      ],
      "outputs": [],
      "execution_count": null,
      "metadata": {
        "gather": {
          "logged": 1598431435189
        },
        "jupyter": {
          "outputs_hidden": false,
          "source_hidden": false
        },
        "nteract": {
          "transient": {
            "deleting": false
          }
        }
      }
    },
    {
      "cell_type": "markdown",
      "source": [
        "TODO: In the cell below, send a request to the web service you deployed to test it."
      ],
      "metadata": {
        "collapsed": true,
        "gather": {
          "logged": 1598431657736
        },
        "jupyter": {
          "outputs_hidden": false,
          "source_hidden": false
        },
        "nteract": {
          "transient": {
            "deleting": false
          }
        }
      }
    },
    {
      "cell_type": "code",
      "source": [],
      "outputs": [],
      "execution_count": null,
      "metadata": {
        "gather": {
          "logged": 1598432707604
        },
        "jupyter": {
          "outputs_hidden": false,
          "source_hidden": false
        },
        "nteract": {
          "transient": {
            "deleting": false
          }
        }
      }
    },
    {
      "cell_type": "markdown",
      "source": [
        "TODO: In the cell below, print the logs of the web service and delete the service"
      ],
      "metadata": {
        "collapsed": true,
        "gather": {
          "logged": 1598432765711
        },
        "jupyter": {
          "outputs_hidden": false,
          "source_hidden": false
        },
        "nteract": {
          "transient": {
            "deleting": false
          }
        }
      }
    },
    {
      "cell_type": "code",
      "source": [],
      "outputs": [],
      "execution_count": null,
      "metadata": {
        "jupyter": {
          "outputs_hidden": false,
          "source_hidden": false
        },
        "nteract": {
          "transient": {
            "deleting": false
          }
        }
      }
    }
  ],
  "metadata": {
    "kernel_info": {
      "name": "python3-azureml"
    },
    "kernelspec": {
      "name": "python3-azureml",
      "language": "python",
      "display_name": "Python 3.6 - AzureML"
    },
    "language_info": {
      "name": "python",
      "version": "3.6.9",
      "mimetype": "text/x-python",
      "codemirror_mode": {
        "name": "ipython",
        "version": 3
      },
      "pygments_lexer": "ipython3",
      "nbconvert_exporter": "python",
      "file_extension": ".py"
    },
    "nteract": {
      "version": "nteract-front-end@1.0.0"
    }
  },
  "nbformat": 4,
  "nbformat_minor": 2
}